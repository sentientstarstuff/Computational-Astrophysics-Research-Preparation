{
 "cells": [
  {
   "cell_type": "markdown",
   "id": "labeled-firewall",
   "metadata": {
    "id": "labeled-firewall",
    "slideshow": {
     "slide_type": "slide"
    }
   },
   "source": [
    "# <p style=\"background-color: #f5df18; padding: 10px;\"> Foundations of Astronomical Data Science | **Join** </p>\n"
   ]
  },
  {
   "cell_type": "markdown",
   "id": "902c2eac",
   "metadata": {
    "slideshow": {
     "slide_type": "slide"
    }
   },
   "source": [
    "<div style=\"display: flex;\">\n",
    "    <div style=\"flex: 1; margin-right: 100px;\">\n",
    "        <h2>Questions</h2>\n",
    "        <ul>\n",
    "            <li>How do we use JOIN to combine information from multiple tables?</li>\n",
    "            <li>How can we make a selection within a joined table?</li>\n",
    "            <li>How should we save the result?</li>\n",
    "        </ul>\n",
    "    </div>\n",
    "    <div style=\"flex: 1;\">\n",
    "        <h2>Learning Objectives</h2>\n",
    "        <ul>\n",
    "            <li>Write ADQL queries involving JOIN operations.</li>\n",
    "            <li>Save data in CSV format</li>\n",
    "        </ul>\n",
    "    </div>\n",
    "</div>"
   ]
  },
  {
   "cell_type": "markdown",
   "id": "81f155a9",
   "metadata": {
    "slideshow": {
     "slide_type": "slide"
    }
   },
   "source": [
    "This imports previously imported functions:"
   ]
  },
  {
   "cell_type": "code",
   "execution_count": 1,
   "id": "f11cdda8",
   "metadata": {
    "slideshow": {
     "slide_type": "-"
    }
   },
   "outputs": [],
   "source": [
    "from astroquery.gaia import Gaia\n",
    "import pandas as pd\n",
    "\n",
    "from episode_functions import *"
   ]
  },
  {
   "cell_type": "markdown",
   "id": "d327045b",
   "metadata": {
    "slideshow": {
     "slide_type": "slide"
    }
   },
   "source": [
    "The following code loads in the data (instructions for downloading data can be\n",
    "found in the [setup instructions](../learners/setup.md)).  You may need to add a the path\n",
    "to the filename variable below (e.g. `filename = 'backup-data/gd1_data.hdf'`)\n"
   ]
  },
  {
   "cell_type": "code",
   "execution_count": 2,
   "id": "c5911e6d",
   "metadata": {
    "slideshow": {
     "slide_type": "-"
    }
   },
   "outputs": [
    {
     "data": {
      "text/plain": [
       "sky_point_list    135.306, 8.39862, 126.51, 13.4449, 163.017, 54...\n",
       "pmra_min                                                       -6.7\n",
       "pmra_max                                                         -3\n",
       "pmdec_min                                                    -14.31\n",
       "pmdec_max                                                     -11.2\n",
       "dtype: object"
      ]
     },
     "execution_count": 2,
     "metadata": {},
     "output_type": "execute_result"
    }
   ],
   "source": [
    "filename = '../gd1_data.hdf'\n",
    "point_series = pd.read_hdf(filename, 'point_series')\n",
    "sky_point_list = point_series['sky_point_list']\n",
    "pmra_min = point_series['pmra_min']\n",
    "pmra_max = point_series['pmra_max']\n",
    "pmdec_min = point_series['pmdec_min']\n",
    "pmdec_max = point_series['pmdec_max']\n",
    "point_series"
   ]
  },
  {
   "cell_type": "markdown",
   "id": "motivated-manufacturer",
   "metadata": {
    "id": "motivated-manufacturer",
    "slideshow": {
     "slide_type": "slide"
    }
   },
   "source": [
    "The next step in our analysis is to\n",
    "select candidate stars based on photometry data.\n",
    "The following figure from the Price-Whelan and Bonaca paper is a color-magnitude diagram for\n",
    "the stars selected based on proper motion:\n",
    "\n",
    "<div>\n",
    "<img src=\"https://datacarpentry.org/astronomy-python/fig/gd1-3.png\" width=\"550\"/>\n",
    "</div>\n",
    "\n",
    "In orange is a [stellar\n",
    "isochrone](https://en.wikipedia.org/wiki/Stellar_isochrone), showing\n",
    "where we expect the stars in GD-1 to fall based on the metallicity and\n",
    "age of their original globular cluster.\n",
    "\n",
    "By selecting stars in the shaded area, we can further distinguish the\n",
    "main sequence of GD-1 from younger background stars."
   ]
  },
  {
   "cell_type": "markdown",
   "id": "e9nBPvR3nimC",
   "metadata": {
    "id": "e9nBPvR3nimC",
    "slideshow": {
     "slide_type": "slide"
    }
   },
   "source": [
    "# Outline\n",
    "---"
   ]
  },
  {
   "cell_type": "markdown",
   "id": "f6eb3d50",
   "metadata": {
    "slideshow": {
     "slide_type": "fragment"
    }
   },
   "source": [
    "1. We will reload the candidate stars we identified in the previous\n",
    "  episode.\n",
    "\n"
   ]
  },
  {
   "cell_type": "markdown",
   "id": "df363cb6",
   "metadata": {
    "slideshow": {
     "slide_type": "fragment"
    }
   },
   "source": [
    "2. Then we will run a query on the Gaia server that uploads the table\n",
    "  of\n",
    "  candidates and uses a `JOIN` operation to select photometry data for\n",
    "  the candidate stars.\n",
    "\n"
   ]
  },
  {
   "cell_type": "markdown",
   "id": "c4b17804",
   "metadata": {
    "slideshow": {
     "slide_type": "fragment"
    }
   },
   "source": [
    "3. We will write the results to a file for use in the next episode."
   ]
  },
  {
   "cell_type": "markdown",
   "id": "pressed-commerce",
   "metadata": {
    "id": "pressed-commerce",
    "slideshow": {
     "slide_type": "slide"
    },
    "tags": []
   },
   "source": [
    "# Getting photometry data\n",
    "---\n",
    "\n",
    "The Gaia dataset contains some photometry data, including the variable\n",
    "`bp_rp`, which contains BP-RP color (the difference in mean flux\n",
    "between the BP and RP bands).\n",
    "We use this variable to select stars with `bp_rp` between -0.75 and 2,\n",
    "which excludes many class M dwarf stars.\n"
   ]
  },
  {
   "cell_type": "markdown",
   "id": "fe32a4f6",
   "metadata": {
    "slideshow": {
     "slide_type": "fragment"
    }
   },
   "source": [
    "But we can do better than that. Assuming GD-1 is a globular cluster, all of the stars formed at the same\n",
    "time from the same material, so the stars' photometric properties should be consistent with a single\n",
    "isochrone in a color magnitude diagram.\n",
    "We can use photometric color and apparent magnitude to select stars with the age and metal richness we expect in GD-1.\n",
    "However, the broad Gaia photometric bands (G, BP, RP) are not optimized for this task, instead we will use the more narrow photometric bands available from the Pan-STARRS survey to obtain the `g-i` color and apparent `g`\\-band magnitude.\n"
   ]
  },
  {
   "cell_type": "markdown",
   "id": "59f2d70f",
   "metadata": {
    "slideshow": {
     "slide_type": "fragment"
    }
   },
   "source": [
    "\n",
    "Conveniently, the Gaia server provides data from Pan-STARRS as a table\n",
    "in the same database we have been using, so we can access it by making\n",
    "ADQL queries."
   ]
  },
  {
   "cell_type": "markdown",
   "id": "362d2717",
   "metadata": {
    "slideshow": {
     "slide_type": "slide"
    }
   },
   "source": [
    "## 🔔 A caveat about matching stars between catalogs\n",
    "---\n",
    "\n",
    "In general, choosing a star from the Gaia catalog and finding the\n",
    "corresponding star in the Pan-STARRS catalog is not easy.  This kind\n",
    "of cross matching is not always possible, because a star might appear\n",
    "in one catalog and not the other.  And even when both stars are\n",
    "present, there might not be a clear one-to-one relationship between\n",
    "stars in the two catalogs. Additional [catalog matching tools](https://docs.astropy.org/en/stable/coordinates/matchsep.html#matching-catalogs) are available from the\n",
    "Astropy coordinates package.\n",
    "\n"
   ]
  },
  {
   "cell_type": "markdown",
   "id": "ea36c8a2",
   "metadata": {
    "slideshow": {
     "slide_type": "fragment"
    }
   },
   "source": [
    "Fortunately, people have worked on this problem, and the Gaia\n",
    "database includes cross-matching tables that suggest a best neighbor\n",
    "in the Pan-STARRS catalog for many stars in the Gaia catalog.\n",
    "\n"
   ]
  },
  {
   "cell_type": "markdown",
   "id": "a40a08b6",
   "metadata": {
    "slideshow": {
     "slide_type": "fragment"
    }
   },
   "source": [
    "[This document describes the cross matching process](https://gea.esac.esa.int/archive/documentation/GDR2/Catalogue_consolidation/chap_cu9val_cu9val/ssec_cu9xma/sssec_cu9xma_extcat.html).\n",
    "Briefly, it uses a cone search to find possible matches in\n",
    "approximately the right position, then uses attributes like color and\n",
    "magnitude to choose pairs of observations most likely to be the same\n",
    "star.\n"
   ]
  },
  {
   "cell_type": "markdown",
   "id": "a6333e8e",
   "metadata": {
    "slideshow": {
     "slide_type": "slide"
    }
   },
   "source": [
    "## The best neighbor table\n",
    "\n",
    "So the hard part of cross-matching has been done for us.  Using the\n",
    "results is a little tricky, but it gives us a chance to learn about\n",
    "one of the most important tools for working with databases: \"joining\"\n",
    "tables.\n",
    "\n"
   ]
  },
  {
   "cell_type": "markdown",
   "id": "bc58ad8e",
   "metadata": {
    "slideshow": {
     "slide_type": "fragment"
    }
   },
   "source": [
    "A \"join\" is an operation where you match up records from\n",
    "one table with records from another table using as a \"key\" a piece of\n",
    "information that is common to both tables, usually some kind of ID\n",
    "code.\n",
    "\n"
   ]
  },
  {
   "cell_type": "markdown",
   "id": "38860d9a",
   "metadata": {
    "slideshow": {
     "slide_type": "fragment"
    }
   },
   "source": [
    "In this example:\n",
    "\n",
    "- Stars in the Gaia dataset are identified by `source_id`.\n",
    "\n"
   ]
  },
  {
   "cell_type": "markdown",
   "id": "7176083a",
   "metadata": {
    "slideshow": {
     "slide_type": "fragment"
    }
   },
   "source": [
    "- Stars in the Pan-STARRS dataset are identified by `obj_id`.\n",
    "\n"
   ]
  },
  {
   "cell_type": "markdown",
   "id": "f48fd5d7",
   "metadata": {
    "slideshow": {
     "slide_type": "slide"
    }
   },
   "source": [
    "For each candidate star we have selected so far, we have the\n",
    "`source_id`; the goal is to find the `obj_id` for the same star\n",
    "in the Pan-STARRS catalog.\n",
    "\n"
   ]
  },
  {
   "cell_type": "markdown",
   "id": "e6a04edd",
   "metadata": {
    "slideshow": {
     "slide_type": "fragment"
    }
   },
   "source": [
    "To do that we will:\n",
    "\n",
    "1. Use the `JOIN` operator to look up each Pan-STARRS `obj_id` for the stars\n",
    "  we are interested in in the` panstarrs1_best_neighbour` table using the `source_id`s\n",
    "  that we have already identified.\n",
    "\n"
   ]
  },
  {
   "cell_type": "markdown",
   "id": "f85feab2",
   "metadata": {
    "slideshow": {
     "slide_type": "fragment"
    }
   },
   "source": [
    "2. Use the `JOIN` operator again to look up the Pan-STARRS photometry for these stars\n",
    "  in the `panstarrs1_original_valid` table using the` obj_ids` we just identified.\n",
    "\n"
   ]
  },
  {
   "cell_type": "markdown",
   "id": "4c14ca50",
   "metadata": {
    "slideshow": {
     "slide_type": "fragment"
    }
   },
   "source": [
    "Before we get to the `JOIN` operation, we will explore these tables."
   ]
  },
  {
   "cell_type": "markdown",
   "id": "d6c33494",
   "metadata": {
    "slideshow": {
     "slide_type": "slide"
    }
   },
   "source": [
    "## 🔔 British vs American Spelling of Neighbour\n",
    "\n",
    "The Gaia database was created and is maintained by the European Space Astronomy Center.\n",
    "For this reason, the table spellings use the British spelling of neighbour\n",
    "(with a \"u\"). Do not forget to include it in your table names in the queries below.\n"
   ]
  },
  {
   "cell_type": "markdown",
   "id": "2f42d4e1",
   "metadata": {
    "slideshow": {
     "slide_type": "slide"
    }
   },
   "source": [
    "Let's load the metadata for `panstarrs1_best_neighbour`."
   ]
  },
  {
   "cell_type": "code",
   "execution_count": 6,
   "id": "9ece836b",
   "metadata": {},
   "outputs": [
    {
     "name": "stdout",
     "output_type": "stream",
     "text": [
      "INFO: Retrieving tables... [astroquery.utils.tap.core]\n",
      "INFO: Parsing tables... [astroquery.utils.tap.core]\n",
      "INFO: Done. [astroquery.utils.tap.core]\n"
     ]
    }
   ],
   "source": [
    "tables = Gaia.load_tables()"
   ]
  },
  {
   "cell_type": "code",
   "execution_count": 8,
   "id": "b9971ef0",
   "metadata": {},
   "outputs": [],
   "source": [
    "# for table in tables:\n",
    "#     print(table.name)"
   ]
  },
  {
   "cell_type": "code",
   "execution_count": 9,
   "id": "62a106a5",
   "metadata": {
    "slideshow": {
     "slide_type": "-"
    }
   },
   "outputs": [
    {
     "name": "stdout",
     "output_type": "stream",
     "text": [
      "Retrieving table 'gaiadr2.panstarrs1_best_neighbour'\n",
      "TAP Table name: gaiadr2.gaiadr2.panstarrs1_best_neighbour\n",
      "Description: Pan-STARRS1 BestNeighbour table lists each matched Gaia object with its\n",
      "best neighbour in the external catalogue.\n",
      "There are 1 327 157 objects in the filtered version of Pan-STARRS1 used\n",
      "to compute this cross-match that have too early epochMean.\n",
      "Num. columns: 7\n"
     ]
    }
   ],
   "source": [
    "ps_best_neighbour_meta = Gaia.load_table('gaiadr2.panstarrs1_best_neighbour')\n",
    "print(ps_best_neighbour_meta)"
   ]
  },
  {
   "cell_type": "markdown",
   "id": "5b404d18",
   "metadata": {
    "slideshow": {
     "slide_type": "slide"
    }
   },
   "source": [
    "Let's look into the columns."
   ]
  },
  {
   "cell_type": "code",
   "execution_count": 13,
   "id": "5bef9a1f",
   "metadata": {
    "slideshow": {
     "slide_type": "-"
    }
   },
   "outputs": [
    {
     "name": "stdout",
     "output_type": "stream",
     "text": [
      "source_id\n",
      "original_ext_source_id\n",
      "angular_distance\n",
      "number_of_neighbours\n",
      "number_of_mates\n",
      "best_neighbour_multiplicity\n",
      "gaia_astrometric_params\n"
     ]
    }
   ],
   "source": [
    "## loop through the columns ##\n",
    "\n",
    "for columns in ps_best_neighbour_meta.columns:\n",
    "    print(columns.name)\n"
   ]
  },
  {
   "cell_type": "markdown",
   "id": "5e6fb823",
   "metadata": {
    "slideshow": {
     "slide_type": "slide"
    }
   },
   "source": [
    "Here is the [documentation for these\n",
    "variables](https://gea.esac.esa.int/archive/documentation/GDR2/Gaia_archive/chap_datamodel/sec_dm_crossmatches/ssec_dm_panstarrs1_best_neighbour.html).\n",
    "\n",
    "The ones we will use are:"
   ]
  },
  {
   "cell_type": "markdown",
   "id": "da1d7e76",
   "metadata": {
    "slideshow": {
     "slide_type": "fragment"
    }
   },
   "source": [
    "- `source_id`, which we will match up with `source_id` in the Gaia table.\n",
    "\n"
   ]
  },
  {
   "cell_type": "markdown",
   "id": "38150d88",
   "metadata": {
    "slideshow": {
     "slide_type": "fragment"
    }
   },
   "source": [
    "- `best_neighbour_multiplicity`, which indicates how many sources in\n",
    "  Pan-STARRS are matched with the same probability to this source in Gaia.\n",
    "\n"
   ]
  },
  {
   "cell_type": "markdown",
   "id": "cd7d9c0f",
   "metadata": {
    "slideshow": {
     "slide_type": "fragment"
    }
   },
   "source": [
    "- `number_of_mates`, which indicates the number of *other* sources in\n",
    "  Gaia that are matched with the same source in Pan-STARRS.\n",
    "\n"
   ]
  },
  {
   "cell_type": "markdown",
   "id": "87fc7203",
   "metadata": {
    "slideshow": {
     "slide_type": "fragment"
    }
   },
   "source": [
    "- `original_ext_source_id`, which we will match up with `obj_id` in\n",
    "  the Pan-STARRS table.\n",
    "\n"
   ]
  },
  {
   "cell_type": "markdown",
   "id": "6a244f87",
   "metadata": {
    "slideshow": {
     "slide_type": "slide"
    }
   },
   "source": [
    "Ideally, `best_neighbour_multiplicity` should be 1 and `number_of_mates`\n",
    "should be 0; in that case, there is a one-to-one match between the\n",
    "source in Gaia and the corresponding source in Pan-STARRS."
   ]
  },
  {
   "cell_type": "markdown",
   "id": "febe11d3",
   "metadata": {
    "slideshow": {
     "slide_type": "slide"
    }
   },
   "source": [
    "## 🔔 Number of neighbors\n",
    "\n",
    "The table also contains `number_of_neighbours` which is the\n",
    "number of stars in Pan-STARRS that match in terms of position, before\n",
    "using other criteria to choose the most likely match.  But we are more\n",
    "interested in the final match, using both criteria."
   ]
  },
  {
   "cell_type": "markdown",
   "id": "75130f7c",
   "metadata": {
    "slideshow": {
     "slide_type": "slide"
    }
   },
   "source": [
    "Here is a query that selects these columns and returns the first 5 rows."
   ]
  },
  {
   "cell_type": "code",
   "execution_count": 14,
   "id": "abf0080a",
   "metadata": {
    "slideshow": {
     "slide_type": "-"
    }
   },
   "outputs": [],
   "source": [
    "ps_best_neighbour_query = \"\"\"SELECT \n",
    "TOP 5\n",
    "source_id, best_neighbour_multiplicity, number_of_mates, original_ext_source_id\n",
    "FROM gaiadr2.panstarrs1_best_neighbour\"\"\""
   ]
  },
  {
   "cell_type": "code",
   "execution_count": 17,
   "id": "e8eea3c7",
   "metadata": {},
   "outputs": [],
   "source": [
    "# launch job \n",
    "\n",
    "ps_best_neighbour_job = Gaia.launch_job(ps_best_neighbour_query)\n",
    "#print(ps_best_neighbour_job)"
   ]
  },
  {
   "cell_type": "code",
   "execution_count": 18,
   "id": "b66847d8",
   "metadata": {},
   "outputs": [
    {
     "data": {
      "text/html": [
       "<div><i>Table length=5</i>\n",
       "<table id=\"table5631572176\" class=\"table-striped table-bordered table-condensed\">\n",
       "<thead><tr><th>SOURCE_ID</th><th>best_neighbour_multiplicity</th><th>number_of_mates</th><th>original_ext_source_id</th></tr></thead>\n",
       "<thead><tr><th>int64</th><th>int16</th><th>int16</th><th>int64</th></tr></thead>\n",
       "<tr><td>6745938972433480704</td><td>1</td><td>0</td><td>69742925668851205</td></tr>\n",
       "<tr><td>6030466788955954048</td><td>1</td><td>0</td><td>69742509325691172</td></tr>\n",
       "<tr><td>6756488099308169600</td><td>1</td><td>0</td><td>69742879438541228</td></tr>\n",
       "<tr><td>6700154994715046016</td><td>1</td><td>0</td><td>69743055581721207</td></tr>\n",
       "<tr><td>6757061941303252736</td><td>1</td><td>0</td><td>69742856540241198</td></tr>\n",
       "</table></div>"
      ],
      "text/plain": [
       "<Table length=5>\n",
       "     SOURCE_ID      best_neighbour_multiplicity number_of_mates original_ext_source_id\n",
       "       int64                   int16                 int16              int64         \n",
       "------------------- --------------------------- --------------- ----------------------\n",
       "6745938972433480704                           1               0      69742925668851205\n",
       "6030466788955954048                           1               0      69742509325691172\n",
       "6756488099308169600                           1               0      69742879438541228\n",
       "6700154994715046016                           1               0      69743055581721207\n",
       "6757061941303252736                           1               0      69742856540241198"
      ]
     },
     "execution_count": 18,
     "metadata": {},
     "output_type": "execute_result"
    }
   ],
   "source": [
    "# get results \n",
    "\n",
    "ps_best_neighbour_results = ps_best_neighbour_job.get_results()\n",
    "ps_best_neighbour_results"
   ]
  },
  {
   "cell_type": "markdown",
   "id": "adc7343c",
   "metadata": {
    "slideshow": {
     "slide_type": "slide"
    }
   },
   "source": [
    "## The Pan-STARRS table\n",
    "\n",
    "Now that we know the Pan-STARRS `obj_id`, we are ready to match this to the photometry in the\n",
    "`panstarrs1_original_valid` table. Here is the metadata for the table that contains the Pan-STARRS data."
   ]
  },
  {
   "cell_type": "code",
   "execution_count": 21,
   "id": "15c918a6",
   "metadata": {
    "scrolled": true,
    "slideshow": {
     "slide_type": "-"
    }
   },
   "outputs": [
    {
     "name": "stdout",
     "output_type": "stream",
     "text": [
      "Retrieving table 'gaiadr2.panstarrs1_original_valid'\n",
      "TAP Table name: gaiadr2.gaiadr2.panstarrs1_original_valid\n",
      "Description: The Panoramic Survey Telescope and Rapid Response System (Pan-STARRS) is\n",
      "a system for wide-field astronomical imaging developed and operated by\n",
      "the Institute for Astronomy at the University of Hawaii. Pan-STARRS1\n",
      "(PS1) is the first part of Pan-STARRS to be completed and is the basis\n",
      "for Data Release 1 (DR1). The PS1 survey used a 1.8 meter telescope and\n",
      "its 1.4 Gigapixel camera to image the sky in five broadband filters (g,\n",
      "r, i, z, y).\n",
      "\n",
      "The current table contains a filtered subsample of the 10 723 304 629\n",
      "entries listed in the original ObjectThin table.\n",
      "We used only ObjectThin and MeanObject tables to extract\n",
      "panstarrs1OriginalValid table, this means that objects detected only in\n",
      "stack images are not included here. The main reason for us to avoid the\n",
      "use of objects detected in stack images is that their astrometry is not\n",
      "as good as the mean objects astrometry: “The stack positions (raStack,\n",
      "decStack) have considerably larger systematic astrometric errors than\n",
      "the mean epoch positions (raMean, decMean).” The astrometry for the\n",
      "MeanObject positions uses Gaia DR1 as a reference catalog, while the\n",
      "stack positions use 2MASS as a reference catalog.\n",
      "\n",
      "In details, we filtered out all objects where:\n",
      "\n",
      "-   nDetections = 1\n",
      "\n",
      "-   no good quality data in Pan-STARRS, objInfoFlag 33554432 not set\n",
      "\n",
      "-   mean astrometry could not be measured, objInfoFlag 524288 set\n",
      "\n",
      "-   stack position used for mean astrometry, objInfoFlag 1048576 set\n",
      "\n",
      "-   error on all magnitudes equal to 0 or to -999;\n",
      "\n",
      "-   all magnitudes set to -999;\n",
      "\n",
      "-   error on RA or DEC greater than 1 arcsec.\n",
      "\n",
      "The number of objects in panstarrs1OriginalValid is 2 264 263 282.\n",
      "\n",
      "The panstarrs1OriginalValid table contains only a subset of the columns\n",
      "available in the combined ObjectThin and MeanObject tables. A\n",
      "description of the original ObjectThin and MeanObjects tables can be\n",
      "found at:\n",
      "https://outerspace.stsci.edu/display/PANSTARRS/PS1+Database+object+and+detection+tables\n",
      "\n",
      "Download:\n",
      "http://mastweb.stsci.edu/ps1casjobs/home.aspx\n",
      "Documentation:\n",
      "https://outerspace.stsci.edu/display/PANSTARRS\n",
      "http://pswww.ifa.hawaii.edu/pswww/\n",
      "References:\n",
      "The Pan-STARRS1 Surveys, Chambers, K.C., et al. 2016, arXiv:1612.05560\n",
      "Pan-STARRS Data Processing System, Magnier, E. A., et al. 2016,\n",
      "arXiv:1612.05240\n",
      "Pan-STARRS Pixel Processing: Detrending, Warping, Stacking, Waters, C.\n",
      "Z., et al. 2016, arXiv:1612.05245\n",
      "Pan-STARRS Pixel Analysis: Source Detection and Characterization,\n",
      "Magnier, E. A., et al. 2016, arXiv:1612.05244\n",
      "Pan-STARRS Photometric and Astrometric Calibration, Magnier, E. A., et\n",
      "al. 2016, arXiv:1612.05242\n",
      "The Pan-STARRS1 Database and Data Products, Flewelling, H. A., et al.\n",
      "2016, arXiv:1612.05243\n",
      "\n",
      "Catalogue curator:\n",
      "SSDC - ASI Space Science Data Center\n",
      "https://www.ssdc.asi.it/\n",
      "Num. columns: 26\n"
     ]
    }
   ],
   "source": [
    "ps_valid_meta = Gaia.load_table('gaiadr2.panstarrs1_original_valid')\n",
    "print(ps_valid_meta)"
   ]
  },
  {
   "cell_type": "code",
   "execution_count": 22,
   "id": "66ddb501",
   "metadata": {
    "scrolled": true,
    "slideshow": {
     "slide_type": "slide"
    }
   },
   "outputs": [
    {
     "name": "stdout",
     "output_type": "stream",
     "text": [
      "TAP Table name: gaiadr2.gaiadr2.panstarrs1_original_valid\n",
      "Description: The Panoramic Survey Telescope and Rapid Response System (Pan-STARRS) is\n",
      "a system for wide-field astronomical imaging developed and operated by\n",
      "the Institute for Astronomy at the University of Hawaii. Pan-STARRS1\n",
      "(PS1) is the first part of Pan-STARRS to be completed and is the basis\n",
      "for Data Release 1 (DR1). The PS1 survey used a 1.8 meter telescope and\n",
      "its 1.4 Gigapixel camera to image the sky in five broadband filters (g,\n",
      "r, i, z, y).\n",
      "\n",
      "The current table contains a filtered subsample of the 10 723 304 629\n",
      "entries listed in the original ObjectThin table.\n",
      "We used only ObjectThin and MeanObject tables to extract\n",
      "panstarrs1OriginalValid table, this means that objects detected only in\n",
      "stack images are not included here. The main reason for us to avoid the\n",
      "use of objects detected in stack images is that their astrometry is not\n",
      "as good as the mean objects astrometry: “The stack positions (raStack,\n",
      "decStack) have considerably larger systematic astrometric errors than\n",
      "the mean epoch positions (raMean, decMean).” The astrometry for the\n",
      "MeanObject positions uses Gaia DR1 as a reference catalog, while the\n",
      "stack positions use 2MASS as a reference catalog.\n",
      "\n",
      "In details, we filtered out all objects where:\n",
      "\n",
      "-   nDetections = 1\n",
      "\n",
      "-   no good quality data in Pan-STARRS, objInfoFlag 33554432 not set\n",
      "\n",
      "-   mean astrometry could not be measured, objInfoFlag 524288 set\n",
      "\n",
      "-   stack position used for mean astrometry, objInfoFlag 1048576 set\n",
      "\n",
      "-   error on all magnitudes equal to 0 or to -999;\n",
      "\n",
      "-   all magnitudes set to -999;\n",
      "\n",
      "-   error on RA or DEC greater than 1 arcsec.\n",
      "\n",
      "The number of objects in panstarrs1OriginalValid is 2 264 263 282.\n",
      "\n",
      "The panstarrs1OriginalValid table contains only a subset of the columns\n",
      "available in the combined ObjectThin and MeanObject tables. A\n",
      "description of the original ObjectThin and MeanObjects tables can be\n",
      "found at:\n",
      "https://outerspace.stsci.edu/display/PANSTARRS/PS1+Database+object+and+detection+tables\n",
      "\n",
      "Download:\n",
      "http://mastweb.stsci.edu/ps1casjobs/home.aspx\n",
      "Documentation:\n",
      "https://outerspace.stsci.edu/display/PANSTARRS\n",
      "http://pswww.ifa.hawaii.edu/pswww/\n",
      "References:\n",
      "The Pan-STARRS1 Surveys, Chambers, K.C., et al. 2016, arXiv:1612.05560\n",
      "Pan-STARRS Data Processing System, Magnier, E. A., et al. 2016,\n",
      "arXiv:1612.05240\n",
      "Pan-STARRS Pixel Processing: Detrending, Warping, Stacking, Waters, C.\n",
      "Z., et al. 2016, arXiv:1612.05245\n",
      "Pan-STARRS Pixel Analysis: Source Detection and Characterization,\n",
      "Magnier, E. A., et al. 2016, arXiv:1612.05244\n",
      "Pan-STARRS Photometric and Astrometric Calibration, Magnier, E. A., et\n",
      "al. 2016, arXiv:1612.05242\n",
      "The Pan-STARRS1 Database and Data Products, Flewelling, H. A., et al.\n",
      "2016, arXiv:1612.05243\n",
      "\n",
      "Catalogue curator:\n",
      "SSDC - ASI Space Science Data Center\n",
      "https://www.ssdc.asi.it/\n",
      "Num. columns: 26\n"
     ]
    }
   ],
   "source": [
    "print(ps_valid_meta)"
   ]
  },
  {
   "cell_type": "markdown",
   "id": "cd76e7f5",
   "metadata": {
    "slideshow": {
     "slide_type": "slide"
    }
   },
   "source": [
    "And here are the columns."
   ]
  },
  {
   "cell_type": "code",
   "execution_count": 23,
   "id": "82a6a9d5",
   "metadata": {
    "scrolled": true,
    "slideshow": {
     "slide_type": "-"
    }
   },
   "outputs": [
    {
     "name": "stdout",
     "output_type": "stream",
     "text": [
      "obj_name\n",
      "obj_id\n",
      "ra\n",
      "dec\n",
      "ra_error\n",
      "dec_error\n",
      "epoch_mean\n",
      "g_mean_psf_mag\n",
      "g_mean_psf_mag_error\n",
      "g_flags\n",
      "r_mean_psf_mag\n",
      "r_mean_psf_mag_error\n",
      "r_flags\n",
      "i_mean_psf_mag\n",
      "i_mean_psf_mag_error\n",
      "i_flags\n",
      "z_mean_psf_mag\n",
      "z_mean_psf_mag_error\n",
      "z_flags\n",
      "y_mean_psf_mag\n",
      "y_mean_psf_mag_error\n",
      "y_flags\n",
      "n_detections\n",
      "zone_id\n",
      "obj_info_flag\n",
      "quality_flag\n"
     ]
    }
   ],
   "source": [
    "for column in ps_valid_meta.columns:\n",
    "    print(column.name)"
   ]
  },
  {
   "cell_type": "markdown",
   "id": "ab4f8ab5",
   "metadata": {
    "slideshow": {
     "slide_type": "slide"
    }
   },
   "source": [
    "Here is the [documentation for these variables](https://gea.esac.esa.int/archive/documentation/GDR2/Gaia_archive/chap_datamodel/sec_dm_external_catalogues/ssec_dm_panstarrs1_original_valid.html) .\n",
    "\n",
    "The ones we will use are:\n",
    "\n"
   ]
  },
  {
   "cell_type": "markdown",
   "id": "706d4115",
   "metadata": {
    "slideshow": {
     "slide_type": "fragment"
    }
   },
   "source": [
    "- `obj_id`, which we will match up with `original_ext_source_id` in\n",
    "  the best neighbor table.\n",
    "\n"
   ]
  },
  {
   "cell_type": "markdown",
   "id": "1e2defa5",
   "metadata": {
    "slideshow": {
     "slide_type": "fragment"
    }
   },
   "source": [
    "- `g_mean_psf_mag`, which contains mean magnitude from the `g` filter.\n",
    "\n"
   ]
  },
  {
   "cell_type": "markdown",
   "id": "cb33af37",
   "metadata": {
    "slideshow": {
     "slide_type": "fragment"
    }
   },
   "source": [
    "- `i_mean_psf_mag`, which contains mean magnitude from the `i` filter.\n",
    "\n"
   ]
  },
  {
   "cell_type": "markdown",
   "id": "d48943a4",
   "metadata": {
    "slideshow": {
     "slide_type": "slide"
    }
   },
   "source": [
    "Here is a query that selects these variables and returns the first 5 rows."
   ]
  },
  {
   "cell_type": "code",
   "execution_count": 24,
   "id": "90ac8e32",
   "metadata": {
    "slideshow": {
     "slide_type": "-"
    }
   },
   "outputs": [],
   "source": [
    "ps_valid_query = \"\"\"SELECT \n",
    "TOP 5\n",
    "obj_id, g_mean_psf_mag, i_mean_psf_mag \n",
    "FROM gaiadr2.panstarrs1_original_valid\n",
    "\"\"\""
   ]
  },
  {
   "cell_type": "markdown",
   "id": "23f23174",
   "metadata": {
    "slideshow": {
     "slide_type": "slide"
    }
   },
   "source": [
    "## Joining tables\n",
    "---\n",
    "\n",
    "The following figure shows how these tables are related.\n",
    "\n"
   ]
  },
  {
   "cell_type": "markdown",
   "id": "061d1b8f",
   "metadata": {
    "slideshow": {
     "slide_type": "fragment"
    }
   },
   "source": [
    "- The orange circles and arrows represent the first `JOIN` operation,\n",
    "  which takes each `source_id` in the Gaia table and finds the same\n",
    "  value of `source_id` in the best neighbor table.\n",
    "\n"
   ]
  },
  {
   "cell_type": "markdown",
   "id": "9261d792",
   "metadata": {
    "slideshow": {
     "slide_type": "fragment"
    }
   },
   "source": [
    "- The blue circles and arrows represent the second `JOIN` operation,\n",
    "  which takes each `original_ext_source_id` in the best neighbor table and finds\n",
    "  the same value of `obj_id` in the PanSTARRS photometry table.\n",
    "\n"
   ]
  },
  {
   "cell_type": "markdown",
   "id": "697908f0",
   "metadata": {
    "slideshow": {
     "slide_type": "fragment"
    }
   },
   "source": [
    "There is no guarantee that the corresponding rows of these tables are\n",
    "in the same order, so the `JOIN` operation involves some searching.\n",
    "However, ADQL/SQL databases are implemented in a way that makes this\n",
    "kind of search efficient.\n",
    "If you are curious, you can [read more about\n",
    "it](https://chartio.com/learn/databases/how-does-indexing-work/).\n",
    "\n"
   ]
  },
  {
   "cell_type": "markdown",
   "id": "b9714619",
   "metadata": {
    "slideshow": {
     "slide_type": "slide"
    }
   },
   "source": [
    "\n",
    "<div>\n",
    "<img src=\"https://datacarpentry.org/astronomy-python/fig/join.png\" width=\"1500\"/>\n",
    "</div>"
   ]
  },
  {
   "cell_type": "markdown",
   "id": "f6318974",
   "metadata": {
    "slideshow": {
     "slide_type": "slide"
    }
   },
   "source": [
    "Now we will get to the details of performing a `JOIN` operation.\n",
    "\n",
    "We are about to build a complex query using software that doesn't provide us with any helpful information for debugging.\n",
    "For this reason we are going to start with a simplified version of what we want to do until we are sure  we are joining\n",
    "the tables correctly, then we will slowly add more layers of complexity, checking at each stage that our query still works.\n"
   ]
  },
  {
   "cell_type": "markdown",
   "id": "a3b8e571",
   "metadata": {
    "slideshow": {
     "slide_type": "slide"
    }
   },
   "source": [
    "As a starting place, we will go all the way back to the cone search from lesson 2."
   ]
  },
  {
   "cell_type": "code",
   "execution_count": 26,
   "id": "22f3c328",
   "metadata": {
    "slideshow": {
     "slide_type": "-"
    }
   },
   "outputs": [],
   "source": [
    "test_cone_query = \"\"\"SELECT \n",
    "TOP 10 \n",
    "source_id\n",
    "FROM gaiadr2.gaia_source\n",
    "WHERE 1=CONTAINS(\n",
    "  POINT(ra, dec),\n",
    "  CIRCLE(88.8, 7.4, 0.08333333))\n",
    "\"\"\""
   ]
  },
  {
   "cell_type": "markdown",
   "id": "924f09ec",
   "metadata": {
    "slideshow": {
     "slide_type": "slide"
    }
   },
   "source": [
    "And we will run it, to make sure we have a working query to build on.\n"
   ]
  },
  {
   "cell_type": "code",
   "execution_count": 28,
   "id": "3ca685f4",
   "metadata": {
    "slideshow": {
     "slide_type": "-"
    }
   },
   "outputs": [
    {
     "name": "stdout",
     "output_type": "stream",
     "text": [
      "<Table length=10>\n",
      "   name   dtype                            description                            \n",
      "--------- ----- ------------------------------------------------------------------\n",
      "SOURCE_ID int64 Unique source identifier (unique within a particular Data Release)\n",
      "Jobid: None\n",
      "Phase: COMPLETED\n",
      "Owner: None\n",
      "Output file: 1717198839378O-result.vot\n",
      "Results: None\n"
     ]
    }
   ],
   "source": [
    "test_cone_job = Gaia.launch_job(test_cone_query)\n",
    "print(test_cone_job)"
   ]
  },
  {
   "cell_type": "code",
   "execution_count": 29,
   "id": "f2514f13",
   "metadata": {
    "slideshow": {
     "slide_type": "slide"
    }
   },
   "outputs": [],
   "source": [
    "test_cone_results = test_cone_job.get_results()"
   ]
  },
  {
   "cell_type": "code",
   "execution_count": 30,
   "id": "6133675f",
   "metadata": {
    "slideshow": {
     "slide_type": "-"
    }
   },
   "outputs": [
    {
     "data": {
      "text/html": [
       "<div><i>Table length=10</i>\n",
       "<table id=\"table5836366096\" class=\"table-striped table-bordered table-condensed\">\n",
       "<thead><tr><th>SOURCE_ID</th></tr></thead>\n",
       "<thead><tr><th>int64</th></tr></thead>\n",
       "<tr><td>3322773965056065536</td></tr>\n",
       "<tr><td>3322773758899157120</td></tr>\n",
       "<tr><td>3322774068134271104</td></tr>\n",
       "<tr><td>3322773930696320512</td></tr>\n",
       "<tr><td>3322774377374425728</td></tr>\n",
       "<tr><td>3322773724537891456</td></tr>\n",
       "<tr><td>3322773724537891328</td></tr>\n",
       "<tr><td>3322773930696321792</td></tr>\n",
       "<tr><td>3322773724537890944</td></tr>\n",
       "<tr><td>3322773930696322176</td></tr>\n",
       "</table></div>"
      ],
      "text/plain": [
       "<Table length=10>\n",
       "     SOURCE_ID     \n",
       "       int64       \n",
       "-------------------\n",
       "3322773965056065536\n",
       "3322773758899157120\n",
       "3322774068134271104\n",
       "3322773930696320512\n",
       "3322774377374425728\n",
       "3322773724537891456\n",
       "3322773724537891328\n",
       "3322773930696321792\n",
       "3322773724537890944\n",
       "3322773930696322176"
      ]
     },
     "execution_count": 30,
     "metadata": {},
     "output_type": "execute_result"
    }
   ],
   "source": [
    "test_cone_results"
   ]
  },
  {
   "cell_type": "markdown",
   "id": "cf457e8f",
   "metadata": {
    "slideshow": {
     "slide_type": "slide"
    }
   },
   "source": [
    "Now we can start adding features.\n",
    "First, we will replace `source_id` with the format specifier `columns` so that we can alter what columns we\n",
    "want to return without having to modify our base query:"
   ]
  },
  {
   "cell_type": "code",
   "execution_count": 19,
   "id": "28c3da5e",
   "metadata": {
    "slideshow": {
     "slide_type": "-"
    }
   },
   "outputs": [],
   "source": [
    "cone_base_query = \"\"\"SELECT \n",
    "{columns}\n",
    "FROM gaiadr2.gaia_source\n",
    "WHERE 1=CONTAINS(\n",
    "  POINT(ra, dec),\n",
    "  CIRCLE(88.8, 7.4, 0.08333333))\n",
    "\"\"\""
   ]
  },
  {
   "cell_type": "markdown",
   "id": "779a2660",
   "metadata": {
    "slideshow": {
     "slide_type": "slide"
    }
   },
   "source": [
    "As a reminder, here are the columns we want from the Gaia table:"
   ]
  },
  {
   "cell_type": "code",
   "execution_count": 14,
   "id": "ff5fc613",
   "metadata": {
    "slideshow": {
     "slide_type": "-"
    }
   },
   "outputs": [],
   "source": [
    "columns = 'source_id, ra, dec, pmra, pmdec'\n",
    "\n",
    "# format query\n",
    "cone_query = #\n",
    "print(#"
   ]
  },
  {
   "cell_type": "markdown",
   "id": "78202587",
   "metadata": {
    "slideshow": {
     "slide_type": "slide"
    }
   },
   "source": [
    "We run the query again."
   ]
  },
  {
   "cell_type": "code",
   "execution_count": 16,
   "id": "16e2fb29",
   "metadata": {
    "slideshow": {
     "slide_type": "-"
    }
   },
   "outputs": [],
   "source": [
    "cone_job = #"
   ]
  },
  {
   "cell_type": "code",
   "execution_count": 15,
   "id": "43e0dff9",
   "metadata": {},
   "outputs": [],
   "source": [
    "cone_results = #"
   ]
  },
  {
   "cell_type": "markdown",
   "id": "882d3732",
   "metadata": {
    "slideshow": {
     "slide_type": "slide"
    }
   },
   "source": [
    "## Adding the best neighbor table\n",
    "\n",
    "Now we are ready for the first join.\n",
    "The join operation requires two clauses:\n",
    "\n"
   ]
  },
  {
   "cell_type": "markdown",
   "id": "fa3a5ee4",
   "metadata": {
    "slideshow": {
     "slide_type": "fragment"
    }
   },
   "source": [
    "- `JOIN` specifies the name of the table we want to join with, and\n",
    "\n"
   ]
  },
  {
   "cell_type": "markdown",
   "id": "c06502fd",
   "metadata": {
    "slideshow": {
     "slide_type": "fragment"
    }
   },
   "source": [
    "- `ON` specifies how we will match up rows between the tables.\n",
    "\n"
   ]
  },
  {
   "cell_type": "markdown",
   "id": "2bdbb6d7",
   "metadata": {
    "slideshow": {
     "slide_type": "slide"
    }
   },
   "source": [
    "In this example, we join with `gaiadr2.panstarrs1_best_neighbour AS best`, which means we can refer to the best neighbor table with the\n",
    "abbreviated name `best`, which will save us a lot of typing. Similarly,\n",
    "we will be referring to the `gaiadr2.gaia_source` table by the abbreviated name `gaia`.\n",
    "\n"
   ]
  },
  {
   "cell_type": "markdown",
   "id": "32276c29",
   "metadata": {
    "slideshow": {
     "slide_type": "slide"
    }
   },
   "source": [
    "The `ON` clause indicates that we will match up the `source_id`\n",
    "column from the Gaia table with the `source_id` column from the best\n",
    "neighbor table.\n",
    "\n",
    "```python\n",
    "neighbours_base_query = \"\"\"SELECT \n",
    "{columns}\n",
    "FROM gaiadr2.gaia_source AS gaia\n",
    "JOIN gaiadr2.panstarrs1_best_neighbour AS best\n",
    "  ON gaia.source_id = best.source_id\n",
    "WHERE 1=CONTAINS(\n",
    "  POINT(gaia.ra, gaia.dec),\n",
    "  CIRCLE(88.8, 7.4, 0.08333333))\n",
    "\"\"\"\n",
    "```"
   ]
  },
  {
   "cell_type": "code",
   "execution_count": 24,
   "id": "ee99cda1",
   "metadata": {
    "slideshow": {
     "slide_type": "-"
    }
   },
   "outputs": [],
   "source": []
  },
  {
   "cell_type": "markdown",
   "id": "aee7915e",
   "metadata": {
    "slideshow": {
     "slide_type": "slide"
    }
   },
   "source": [
    "## 🔔 SQL detail\n",
    "\n",
    "In this example, the `ON` column has the same name in both tables, so we could replace the `ON` clause\n",
    "with a simpler [`USING`clause](https://docs.oracle.com/javadb/10.8.3.0/ref/rrefsqljusing.html):\n",
    "\n",
    "```sql\n",
    "USING(source_id)\n",
    "```\n"
   ]
  },
  {
   "cell_type": "markdown",
   "id": "955ead92",
   "metadata": {
    "slideshow": {
     "slide_type": "slide"
    }
   },
   "source": [
    "Now that there is more than one table involved, we can't use simple\n",
    "column names any more; we have to use **qualified column names**.\n",
    "In other words, we have to specify which table each column is in.\n",
    "The column names do not have to be the same and, in fact, in the next join they will not be.\n",
    "That is one of the reasons that we explicitly specify them.\n"
   ]
  },
  {
   "cell_type": "markdown",
   "id": "97c366f4",
   "metadata": {
    "slideshow": {
     "slide_type": "slide"
    }
   },
   "source": [
    "Here is the complete query, including the columns we want from the Gaia\n",
    "and best neighbor tables. Here you can start to see that using the abbreviated names\n",
    "is making our query easier to read and requires less typing for us. In addition to the\n",
    "spatial coordinates and proper motion, we are going to return the `best_neighbour_multiplicity`\n",
    "and `number_of_mates` columns from the `panstarrs1_best_neighbour` table in order to evaluate the quality\n",
    "of the data that we are using by evaluating the number of one-to-one matches between the catalogs.\n",
    "Recall that `best_neighbour_multiplicity` tells us the number of PanSTARRs\n",
    "objects that match a Gaia object and `number_of_mates` tells us the number of Gaia objects that match a\n",
    "PanSTARRs object.\n"
   ]
  },
  {
   "cell_type": "code",
   "execution_count": 19,
   "id": "c1a11752",
   "metadata": {
    "slideshow": {
     "slide_type": "-"
    }
   },
   "outputs": [],
   "source": [
    "column_list_neighbours = ['gaia.source_id',\n",
    "               'gaia.ra',\n",
    "               'gaia.dec',\n",
    "               'gaia.pmra',\n",
    "               'gaia.pmdec',\n",
    "               'best.best_neighbour_multiplicity',\n",
    "               'best.number_of_mates',\n",
    "              ]\n",
    "columns = ', '.join(column_list_neighbours)"
   ]
  },
  {
   "cell_type": "code",
   "execution_count": 25,
   "id": "c619967a",
   "metadata": {
    "slideshow": {
     "slide_type": "-"
    }
   },
   "outputs": [],
   "source": [
    "columns"
   ]
  },
  {
   "cell_type": "code",
   "execution_count": null,
   "id": "03ecc5c7",
   "metadata": {
    "slideshow": {
     "slide_type": "slide"
    }
   },
   "outputs": [],
   "source": [
    "# format query\n",
    "neighbours_query = #\n",
    "print(neighbours_query)"
   ]
  },
  {
   "cell_type": "code",
   "execution_count": null,
   "id": "724a4d6a",
   "metadata": {
    "slideshow": {
     "slide_type": "slide"
    }
   },
   "outputs": [],
   "source": [
    "# launch job\n",
    "neighbours_job = #"
   ]
  },
  {
   "cell_type": "code",
   "execution_count": 18,
   "id": "a691b3b4",
   "metadata": {
    "slideshow": {
     "slide_type": "-"
    }
   },
   "outputs": [],
   "source": [
    "# get results \n",
    "neighbours_results = #"
   ]
  },
  {
   "cell_type": "markdown",
   "id": "a4265b84",
   "metadata": {
    "slideshow": {
     "slide_type": "slide"
    }
   },
   "source": [
    "This result has fewer rows than the previous result.\n",
    "That is because there are sources in the Gaia table with no\n",
    "corresponding source in the Pan-STARRS table.\n",
    "\n",
    "By default, the result of the join only includes rows where the same\n",
    "`source_id` appears in both tables.\n",
    "This default is called an \"inner\" join because the results include\n",
    "only the intersection of the two tables.\n",
    "[You can read about the other kinds of join\n",
    "here](https://www.geeksforgeeks.org/sql-join-set-1-inner-left-right-and-full-joins/)."
   ]
  },
  {
   "cell_type": "markdown",
   "id": "2d7f5281",
   "metadata": {
    "slideshow": {
     "slide_type": "slide"
    }
   },
   "source": [
    "## <p style=\"background-color: #f5df18; padding: 10px;\"> 🛑 Adding the Pan-STARRS table (15 Minutes) </p>\n",
    "---\n",
    "\n",
    "Now we are ready to bring in the Pan-STARRS table.  Starting with the\n",
    "previous query, add a second `JOIN` clause that joins with\n",
    "`gaiadr2.panstarrs1_original_valid`, gives it the abbreviated name\n",
    "`ps`, and matches `original_ext_source_id` from the best neighbor\n",
    "table with `obj_id` from the Pan-STARRS table.\n",
    "\n",
    "Add `g_mean_psf_mag` and `i_mean_psf_mag` to the column list, and run the query.\n",
    "The result should contain 490 rows and 9 columns."
   ]
  },
  {
   "cell_type": "code",
   "execution_count": 1,
   "id": "c8da1e3c",
   "metadata": {
    "slideshow": {
     "slide_type": "slide"
    }
   },
   "outputs": [],
   "source": [
    "## your answer here ###"
   ]
  },
  {
   "cell_type": "markdown",
   "id": "07942e8a",
   "metadata": {
    "slideshow": {
     "slide_type": "slide"
    }
   },
   "source": [
    "## Selecting by coordinates and proper motion\n",
    "\n",
    "We are now going to replace the cone search with the GD-1 selection that we built in previous episodes.\n",
    "We will start by making sure that our previous query works, then add in the `JOIN`.\n",
    "Now we will bring in the `WHERE` clause from the previous episode, which\n",
    "selects sources based on parallax, BP-RP color, sky coordinates, and\n",
    "proper motion.\n",
    "\n"
   ]
  },
  {
   "cell_type": "markdown",
   "id": "ed07ca26",
   "metadata": {
    "slideshow": {
     "slide_type": "slide"
    }
   },
   "source": [
    "Here is `candidate_coord_pm_query_base` from the previous episode.\n",
    "\n",
    "```python\n",
    "candidate_coord_pm_query_base = \"\"\"SELECT \n",
    "{columns}\n",
    "FROM gaiadr2.gaia_source\n",
    "WHERE parallax < 1\n",
    "  AND bp_rp BETWEEN -0.75 AND 2 \n",
    "  AND 1 = CONTAINS(POINT(ra, dec), \n",
    "                   POLYGON({sky_point_list}))\n",
    "  AND pmra BETWEEN {pmra_min} AND  {pmra_max}\n",
    "  AND pmdec BETWEEN {pmdec_min} AND {pmdec_max}\n",
    "\"\"\"\n",
    "```\n"
   ]
  },
  {
   "cell_type": "markdown",
   "id": "791f0b81",
   "metadata": {
    "slideshow": {
     "slide_type": "-"
    }
   },
   "source": [
    "\n",
    "Now we can assemble the query using the sky point list and proper motion range we compiled in episode 5."
   ]
  },
  {
   "cell_type": "code",
   "execution_count": 29,
   "id": "6844d856",
   "metadata": {
    "slideshow": {
     "slide_type": "slide"
    }
   },
   "outputs": [],
   "source": [
    "candidate_coord_pm_query_base = \"\"\"SELECT \n",
    "{columns}\n",
    "FROM gaiadr2.gaia_source\n",
    "WHERE parallax < 1\n",
    "  AND bp_rp BETWEEN -0.75 AND 2 \n",
    "  AND 1 = CONTAINS(POINT(ra, dec), \n",
    "                   POLYGON({sky_point_list}))\n",
    "  AND pmra BETWEEN {pmra_min} AND  {pmra_max}\n",
    "  AND pmdec BETWEEN {pmdec_min} AND {pmdec_max}\n",
    "\"\"\""
   ]
  },
  {
   "cell_type": "code",
   "execution_count": 22,
   "id": "d3b0d5fa",
   "metadata": {
    "slideshow": {
     "slide_type": "slide"
    }
   },
   "outputs": [],
   "source": [
    "columns = 'source_id, ra, dec, pmra, pmdec'\n",
    "\n",
    "candidate_coord_pm_query = candidate_coord_pm_query_base.format(columns=columns,\n",
    "                            sky_point_list=sky_point_list,\n",
    "                            pmra_min=pmra_min,\n",
    "                            pmra_max=pmra_max,\n",
    "                            pmdec_min=pmdec_min,\n",
    "                            pmdec_max=pmdec_max)\n",
    "\n",
    "print(candidate_coord_pm_query)"
   ]
  },
  {
   "cell_type": "markdown",
   "id": "52345aa7",
   "metadata": {
    "slideshow": {
     "slide_type": "slide"
    }
   },
   "source": [
    "We run it to make sure we are starting with a working query."
   ]
  },
  {
   "cell_type": "code",
   "execution_count": 23,
   "id": "896a3087",
   "metadata": {
    "slideshow": {
     "slide_type": "-"
    }
   },
   "outputs": [],
   "source": [
    "# run async job\n",
    "candidate_coord_pm_job = #"
   ]
  },
  {
   "cell_type": "code",
   "execution_count": 24,
   "id": "60175d0b",
   "metadata": {
    "slideshow": {
     "slide_type": "-"
    }
   },
   "outputs": [],
   "source": [
    "# get results\n",
    "candidate_coord_pm_results = #\n",
    "candidate_coord_pm_results"
   ]
  },
  {
   "cell_type": "markdown",
   "id": "c1f32e68",
   "metadata": {
    "slideshow": {
     "slide_type": "slide"
    }
   },
   "source": [
    "## <p style=\"background-color: #f5df18; padding: 10px;\"> 🛑 Exercise (15 Minutes) </p>\n",
    "---\n",
    "\n",
    "Create a new query base called `candidate_join_query_base` that combines the `WHERE`\n",
    "clauses from the previous query with the `JOIN` clauses for the best\n",
    "neighbor and Pan-STARRS tables.\n",
    "Format the query base using the column names in `column_list`, and\n",
    "call the result `candidate_join_query`.\n",
    "\n",
    "Hint: Make sure you use qualified column names everywhere!\n",
    "\n",
    "Run your query and download the results.  The table you get should\n",
    "have 4300 rows and 9 columns."
   ]
  },
  {
   "cell_type": "code",
   "execution_count": 2,
   "id": "409804e1",
   "metadata": {
    "slideshow": {
     "slide_type": "slide"
    }
   },
   "outputs": [],
   "source": [
    "### your answer here ###"
   ]
  },
  {
   "cell_type": "markdown",
   "id": "9fdd959c",
   "metadata": {
    "slideshow": {
     "slide_type": "slide"
    }
   },
   "source": [
    "# Checking the match\n",
    "---\n",
    "\n",
    "To get more information about the matching process, we can inspect\n",
    "`best_neighbour_multiplicity`, which indicates for each star in Gaia\n",
    "how many stars in Pan-STARRS are equally likely matches."
   ]
  },
  {
   "cell_type": "code",
   "execution_count": 28,
   "id": "b1857b17",
   "metadata": {
    "scrolled": true,
    "slideshow": {
     "slide_type": "-"
    }
   },
   "outputs": [],
   "source": [
    "candidate_table['best_neighbour_multiplicity']"
   ]
  },
  {
   "cell_type": "markdown",
   "id": "45124f5a",
   "metadata": {
    "slideshow": {
     "slide_type": "slide"
    }
   },
   "source": [
    "Most of the values are `1`, which is good; that means\n",
    "that for each candidate star we have identified exactly one source in\n",
    "Pan-STARRS that is likely to be the same star.\n",
    "\n"
   ]
  },
  {
   "cell_type": "markdown",
   "id": "65af6da0",
   "metadata": {
    "slideshow": {
     "slide_type": "slide"
    }
   },
   "source": [
    "To check whether there are any values other than `1`, we can convert\n",
    "this column to a Pandas `Series` and use `describe`, which we saw in\n",
    "in episode 3.\n"
   ]
  },
  {
   "cell_type": "markdown",
   "id": "3a59b968",
   "metadata": {
    "slideshow": {
     "slide_type": "slide"
    }
   },
   "source": [
    "\n",
    "```python\n",
    "multiplicity = pd.Series(candidate_table['best_neighbour_multiplicity'])\n",
    "multiplicity.describe()\n",
    "```\n",
    "\n",
    "```output\n",
    "count    4300.0\n",
    "mean        1.0\n",
    "std         0.0\n",
    "min         1.0\n",
    "25%         1.0\n",
    "50%         1.0\n",
    "75%         1.0\n",
    "max         1.0\n",
    "dtype: float64\n",
    "```\n",
    "\n"
   ]
  },
  {
   "cell_type": "markdown",
   "id": "414949c4",
   "metadata": {
    "slideshow": {
     "slide_type": "fragment"
    }
   },
   "source": [
    "In fact, `1` is the only value in the `Series`, so every candidate\n",
    "star has a single best match."
   ]
  },
  {
   "cell_type": "markdown",
   "id": "d888af8c",
   "metadata": {
    "slideshow": {
     "slide_type": "slide"
    }
   },
   "source": [
    "## 🔔 Numpy Mask Warning\n",
    "\n",
    "You may see a warning that ends with the following phrase:\n",
    "\n",
    "`site-packages/numpy/lib/function_base.py:4650:`\n",
    "\n",
    "`UserWarning: Warning: 'partition' will ignore the 'mask' of the MaskedColumn.`\n",
    "`arr.partition(`\n",
    "\n",
    "This is because astroquery is returning a table with masked columns (which are really fancy masked numpy arrays).\n",
    "When we turn this column into a pandas Series, it maintains its mask. Describe calls numpy functions to perform statistics.\n",
    "Numpy recently implemented this warning to let you know that the mask is not being considered in the calculation\n",
    "its performing.\n"
   ]
  },
  {
   "cell_type": "markdown",
   "id": "ac14141b",
   "metadata": {
    "slideshow": {
     "slide_type": "slide"
    }
   },
   "source": [
    "Similarly, `number_of_mates` indicates the number of *other* stars in\n",
    "Gaia that match with the same star in Pan-STARRS."
   ]
  },
  {
   "cell_type": "code",
   "execution_count": 29,
   "id": "e049764e",
   "metadata": {
    "slideshow": {
     "slide_type": "-"
    }
   },
   "outputs": [],
   "source": [
    "mates = pd.Series(candidate_table['number_of_mates'])\n",
    "mates.describe()"
   ]
  },
  {
   "cell_type": "markdown",
   "id": "aa4797f6",
   "metadata": {
    "slideshow": {
     "slide_type": "slide"
    }
   },
   "source": [
    "All values in this column are `0`, which means that for each match we\n",
    "found in Pan-STARRS, there are no other stars in Gaia that also match."
   ]
  },
  {
   "cell_type": "markdown",
   "id": "9f97d792",
   "metadata": {
    "slideshow": {
     "slide_type": "slide"
    }
   },
   "source": [
    "# Saving the DataFrame\n",
    "---\n",
    "\n",
    "We can make a `DataFrame` from our Astropy `Table` and save our results so we can pick up where we left off\n",
    "without running this query again. Once again, we will make use of our `make_dataframe` function."
   ]
  },
  {
   "cell_type": "code",
   "execution_count": 36,
   "id": "055a64a0",
   "metadata": {
    "slideshow": {
     "slide_type": "-"
    }
   },
   "outputs": [],
   "source": [
    "candidate_df = make_dataframe(candidate_table)"
   ]
  },
  {
   "cell_type": "markdown",
   "id": "7bf08064",
   "metadata": {
    "slideshow": {
     "slide_type": "-"
    }
   },
   "source": [
    "The HDF5 file should already exist, so we'll add `candidate_df` to it."
   ]
  },
  {
   "cell_type": "code",
   "execution_count": 30,
   "id": "ef6b8896",
   "metadata": {
    "slideshow": {
     "slide_type": "slide"
    }
   },
   "outputs": [],
   "source": [
    "filename = 'gd1_data.hdf'\n",
    "\n",
    "candidate_df.to_hdf(filename, key='candidate_df')\n"
   ]
  },
  {
   "cell_type": "markdown",
   "id": "7f790ed8",
   "metadata": {
    "slideshow": {
     "slide_type": "slide"
    }
   },
   "source": [
    "We can use `getsize` to confirm that the file exists and check the size:"
   ]
  },
  {
   "cell_type": "code",
   "execution_count": 31,
   "id": "228c3ea0",
   "metadata": {
    "slideshow": {
     "slide_type": "-"
    }
   },
   "outputs": [],
   "source": [
    "from os.path import getsize\n",
    "\n",
    "MB = 1024 * 1024\n",
    "getsize(filename) / MB\n"
   ]
  },
  {
   "cell_type": "markdown",
   "id": "b8dffe5f",
   "metadata": {
    "slideshow": {
     "slide_type": "slide"
    }
   },
   "source": [
    "# Another file format - CSV\n",
    "--- \n",
    "\n",
    "Pandas can write a variety of other formats, [which you can read about\n",
    "here](https://pandas.pydata.org/pandas-docs/stable/user_guide/io.html).\n",
    "We won't cover all of them, but one other important one is\n",
    "[CSV](https://en.wikipedia.org/wiki/Comma-separated_values), which\n",
    "stands for \"comma-separated values\".\n"
   ]
  },
  {
   "cell_type": "markdown",
   "id": "da9a17d6",
   "metadata": {
    "slideshow": {
     "slide_type": "fragment"
    }
   },
   "source": [
    "CSV is a plain-text format that can be read and written by pretty much\n",
    "any tool that works with data.  In that sense, it is the \"least common\n",
    "denominator\" of data formats.\n",
    "\n"
   ]
  },
  {
   "cell_type": "markdown",
   "id": "92c0f18f",
   "metadata": {
    "slideshow": {
     "slide_type": "slide"
    }
   },
   "source": [
    "However, it has an important limitation: some information about the\n",
    "data gets lost in translation, notably the data types.  If you read a\n",
    "CSV file from someone else, you might need some additional information\n",
    "to make sure you are getting it right.\n",
    "\n"
   ]
  },
  {
   "cell_type": "markdown",
   "id": "eca60d3c",
   "metadata": {
    "slideshow": {
     "slide_type": "fragment"
    }
   },
   "source": [
    "Also, CSV files tend to be big, and slow to read and write.\n",
    "\n"
   ]
  },
  {
   "cell_type": "code",
   "execution_count": 39,
   "id": "c31da1de",
   "metadata": {
    "slideshow": {
     "slide_type": "slide"
    }
   },
   "outputs": [],
   "source": [
    "candidate_df.to_csv('gd1_data.csv')"
   ]
  },
  {
   "cell_type": "markdown",
   "id": "ce5583b6",
   "metadata": {
    "slideshow": {
     "slide_type": "slide"
    }
   },
   "source": [
    "We can check the file size like this:"
   ]
  },
  {
   "cell_type": "code",
   "execution_count": 32,
   "id": "bab57985",
   "metadata": {
    "slideshow": {
     "slide_type": "-"
    }
   },
   "outputs": [],
   "source": [
    "getsize('gd1_data.csv') / MB"
   ]
  },
  {
   "cell_type": "markdown",
   "id": "babd0d65",
   "metadata": {
    "slideshow": {
     "slide_type": "slide"
    }
   },
   "source": [
    "We can read the CSV file back like this:"
   ]
  },
  {
   "cell_type": "code",
   "execution_count": 41,
   "id": "ad872494",
   "metadata": {
    "slideshow": {
     "slide_type": "-"
    }
   },
   "outputs": [],
   "source": [
    "read_back_csv = pd.read_csv('gd1_data.csv')"
   ]
  },
  {
   "cell_type": "markdown",
   "id": "3053cac7",
   "metadata": {
    "slideshow": {
     "slide_type": "slide"
    }
   },
   "source": [
    "We will compare the first few rows of `candidate_df` and `read_back_csv`"
   ]
  },
  {
   "cell_type": "code",
   "execution_count": 33,
   "id": "a397d51c",
   "metadata": {
    "slideshow": {
     "slide_type": "-"
    }
   },
   "outputs": [],
   "source": [
    "candidate_df.head(3)"
   ]
  },
  {
   "cell_type": "code",
   "execution_count": 34,
   "id": "16345162",
   "metadata": {
    "slideshow": {
     "slide_type": "-"
    }
   },
   "outputs": [],
   "source": [
    "read_back_csv.head(3)"
   ]
  },
  {
   "cell_type": "markdown",
   "id": "u5dNDiesCZTW",
   "metadata": {
    "id": "u5dNDiesCZTW",
    "slideshow": {
     "slide_type": "slide"
    }
   },
   "source": [
    "# Summary\n",
    "\n",
    "---\n",
    "\n",
    "In this episode, we used database `JOIN` operations to select\n",
    "photometry data for the stars we've identified as candidates to be in\n",
    "GD-1.\n",
    "\n",
    "In the next episode, we will use this data for a second round of\n",
    "selection, identifying stars that have photometry data consistent with\n",
    "GD-1."
   ]
  },
  {
   "cell_type": "markdown",
   "id": "RWGI5jCnCdME",
   "metadata": {
    "id": "RWGI5jCnCdME",
    "slideshow": {
     "slide_type": "slide"
    }
   },
   "source": [
    "# <p style=\"background-color: #f5df18; padding: 10px;\"> 🗝️ Key points</p>\n",
    "\n",
    "---\n",
    "\n",
    "- Use `JOIN` operations to combine data from multiple tables in a database, using some kind of identifier to match up records from one table with records from another. This is another example of a practice we saw in the previous notebook, moving the computation to the data.\n",
    "- For most applications, saving data in FITS or HDF5 is better than CSV.  FITS and HDF5 are binary formats, so the files are usually smaller, and they store metadata, so you don't lose anything when you read the file back.\n",
    "- On the other hand, CSV is a 'least common denominator' format; that is, it can be read by practically any application that works with data."
   ]
  }
 ],
 "metadata": {
  "celltoolbar": "Slideshow",
  "colab": {
   "provenance": []
  },
  "kernelspec": {
   "display_name": "Python 3 (ipykernel)",
   "language": "python",
   "name": "python3"
  },
  "language_info": {
   "codemirror_mode": {
    "name": "ipython",
    "version": 3
   },
   "file_extension": ".py",
   "mimetype": "text/x-python",
   "name": "python",
   "nbconvert_exporter": "python",
   "pygments_lexer": "ipython3",
   "version": "3.11.9"
  },
  "toc-showcode": true
 },
 "nbformat": 4,
 "nbformat_minor": 5
}
