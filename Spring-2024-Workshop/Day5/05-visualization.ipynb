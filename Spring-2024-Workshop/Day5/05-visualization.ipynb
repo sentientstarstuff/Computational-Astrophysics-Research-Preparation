{
 "cells": [
  {
   "cell_type": "markdown",
   "id": "labeled-firewall",
   "metadata": {
    "id": "labeled-firewall",
    "slideshow": {
     "slide_type": "slide"
    }
   },
   "source": [
    "# <p style=\"background-color: #f5df18; padding: 10px;\"> Foundations of Astronomical Data Science | **Visualization** </p>\n",
    "\n",
    "\n",
    "### <strong>Instructor: <span style=\"color: darkblue;\">Name (Affliation)</span></strong>\n",
    "\n",
    "Estimated completion time: 🕚 60 minutes\n",
    "\n"
   ]
  },
  {
   "cell_type": "markdown",
   "id": "provincial-bruce",
   "metadata": {
    "id": "provincial-bruce",
    "slideshow": {
     "slide_type": "slide"
    },
    "tags": []
   },
   "source": [
    "<div style=\"display: flex;\">\n",
    "    <div style=\"flex: 1; margin-right: 100px;\">\n",
    "        <h2>Questions</h2>\n",
    "        <ul>\n",
    "            <li>What elements make a compelling visualization that authentically reports scientific results ready for scientific presentation and publication?</li>\n",
    "            <li>What tools and techinques are available to save time on creating presentation and publication-ready figures?</li>\n",
    "        </ul>\n",
    "    </div>\n",
    "    <div style=\"flex: 1;\">\n",
    "        <h2>Learning Objectives</h2>\n",
    "        <ul>\n",
    "            <li>Design a figure that tells a compelling story.</li>\n",
    "            <li>Use Matplotlib features to customize the appearance of figures.</li>\n",
    "            <li>Generate a figure with multiple subplots.</li>\n",
    "        </ul>\n",
    "    </div>\n",
    "</div>\n"
   ]
  },
  {
   "cell_type": "markdown",
   "id": "motivated-manufacturer",
   "metadata": {
    "id": "motivated-manufacturer",
    "slideshow": {
     "slide_type": "slide"
    }
   },
   "source": [
    "In the previous lesson, we selected photometry data from Pan-STARRS\n",
    "and used it to identify stars we think are likely to be in GD-1.\n",
    "\n",
    "In this episode, we will take the results from previous episodes and use\n",
    "them to make a figure that tells a compelling scientific story."
   ]
  },
  {
   "cell_type": "markdown",
   "id": "e9nBPvR3nimC",
   "metadata": {
    "id": "e9nBPvR3nimC",
    "slideshow": {
     "slide_type": "slide"
    }
   },
   "source": [
    "# Outline\n",
    "---\n",
    "\n",
    "1. Starting with the figure from the previous episode, we will add\n",
    "  annotations to present the results more clearly.\n",
    "\n",
    "2. Then we will learn several ways to customize figures to make them more\n",
    "  appealing and effective.\n",
    "\n",
    "3. Finally, we will learn how to make a figure with multiple panels."
   ]
  },
  {
   "cell_type": "markdown",
   "id": "pressed-commerce",
   "metadata": {
    "id": "pressed-commerce",
    "slideshow": {
     "slide_type": "slide"
    },
    "tags": []
   },
   "source": [
    "# Making Figures That Tell a Story\n",
    "--- \n",
    "\n",
    "The figures we have made so far have been \"quick and dirty\".  Mostly we\n",
    "have used Matplotlib's default style, although we have adjusted a few\n",
    "parameters, like `markersize` and `alpha`, to improve legibility.\n",
    "\n",
    "Now that the analysis is done, it is time to think more about:\n",
    "\n",
    "1. Making professional-looking figures that are ready for publication.\n",
    "\n",
    "2. Making figures that communicate a scientific result clearly and compellingly.\n",
    "\n",
    "Not necessarily in that order.\n",
    "\n"
   ]
  },
  {
   "cell_type": "markdown",
   "id": "bea08d65",
   "metadata": {
    "slideshow": {
     "slide_type": "slide"
    }
   },
   "source": [
    "We will start by reviewing Figure 1 from the original paper.  We have seen\n",
    "the individual panels, but now we will look at the whole figure, along\n",
    "with the caption:\n",
    "\n",
    "\n",
    "<div>\n",
    "<img src=\"https://datacarpentry.org/astronomy-python/fig/gd1-5.png\n",
    "\" width=\"1100\"/>\n",
    "</div>\n"
   ]
  },
  {
   "cell_type": "markdown",
   "id": "c4fe650f",
   "metadata": {
    "slideshow": {
     "slide_type": "slide"
    }
   },
   "source": [
    "## <p style=\"background-color: #f5df18; padding: 10px;\"> 🛑 Exercise (10 Minutes) </p>\n",
    "---\n",
    "\n",
    "Think about the following questions:\n",
    "\n",
    "1. What is the primary scientific result of this work?\n",
    "\n",
    "2. What story is this figure telling?\n",
    "\n",
    "3. In the design of this figure, can you identify 1 or 2 choices the\n",
    "  authors made that you think are effective?  Think about big-picture\n",
    "  elements, like the number of panels and how they are arranged, as well\n",
    "  as details like the choice of typeface.\n",
    "\n",
    "4. Can you identify 1 or 2 elements that could be improved, or that you\n",
    "  might have done differently?"
   ]
  },
  {
   "cell_type": "code",
   "execution_count": null,
   "id": "21e8f927",
   "metadata": {
    "slideshow": {
     "slide_type": "-"
    }
   },
   "outputs": [],
   "source": [
    "### your answer here ####"
   ]
  },
  {
   "cell_type": "markdown",
   "id": "HhMD0cz9kN-x",
   "metadata": {
    "id": "HhMD0cz9kN-x",
    "slideshow": {
     "slide_type": "slide"
    }
   },
   "source": [
    "# Plotting GD-1 with Annotations\n",
    "---\n",
    "\n",
    "The lower left panel in the paper uses three other features to present the\n",
    "results more clearly and compellingly:\n",
    "\n",
    "- A vertical dashed line to distinguish the previously undetected\n",
    "  region of GD-1,\n",
    "\n",
    "- A label that identifies the new region, and\n",
    "\n",
    "- Several annotations that combine text and arrows to identify features of GD-1."
   ]
  },
  {
   "cell_type": "markdown",
   "id": "ZBQQ13FV67XG",
   "metadata": {
    "id": "ZBQQ13FV67XG",
    "slideshow": {
     "slide_type": "slide"
    }
   },
   "source": [
    "## <p style=\"background-color: #f5df18; padding: 10px;\"> 🛑 Exercise (20 Minutes) </p>\n",
    "---\n",
    "\n",
    "Plot the selected stars in `winner_df` using the `plot_cmd_selection` function and then\n",
    "choose any or all of these features and add them to the figure:\n",
    "\n",
    "- To draw vertical lines, see\n",
    "  [`plt.vlines`](https://matplotlib.org/stable/api/_as_gen/matplotlib.pyplot.vlines.html)\n",
    "  and\n",
    "  [`plt.axvline`](https://matplotlib.org/stable/api/_as_gen/matplotlib.pyplot.axvline.html).\n",
    "\n",
    "- To add text, see\n",
    "  [`plt.text`](https://matplotlib.org/stable/api/_as_gen/matplotlib.pyplot.text.html).\n",
    "\n",
    "- To add an annotation with text and an arrow, see [`plt.annotate`](https://matplotlib.org/stable/api/_as_gen/matplotlib.pyplot.annotate.html).\n",
    "\n",
    "Here is some [additional information about text and\n",
    "arrows](https://matplotlib.org/stable/tutorials/text/annotations.html).\n"
   ]
  },
  {
   "cell_type": "code",
   "execution_count": null,
   "id": "_G3VRpXn7KqM",
   "metadata": {
    "id": "_G3VRpXn7KqM",
    "slideshow": {
     "slide_type": "-"
    }
   },
   "outputs": [],
   "source": [
    "### your answer here ####"
   ]
  },
  {
   "cell_type": "markdown",
   "id": "LgQIKeaE7ROL",
   "metadata": {
    "id": "LgQIKeaE7ROL",
    "slideshow": {
     "slide_type": "slide"
    }
   },
   "source": [
    "# Customization\n",
    "---\n",
    "\n",
    "Matplotlib provides a default style that determines things like the\n",
    "colors of lines, the placement of labels and ticks on the axes, and\n",
    "many other properties.\n",
    "\n",
    "There are several ways to override these defaults and customize your figures:\n",
    "\n",
    "- To customize only the current figure, you can call functions like\n",
    "  `tick_params`, which we will demonstrate below.\n",
    "\n",
    "- To customize all figures in a notebook, you can use `rcParams`.\n",
    "\n",
    "- To override more than a few defaults at the same time, you can use a\n",
    "  style sheet.\n",
    "\n",
    "As a simple example, notice that Matplotlib puts ticks on the outside\n",
    "of the figures by default, and only on the left and bottom sides of\n",
    "the axes."
   ]
  },
  {
   "cell_type": "markdown",
   "id": "RpNYSXki9ONB",
   "metadata": {
    "id": "RpNYSXki9ONB",
    "slideshow": {
     "slide_type": "slide"
    }
   },
   "source": [
    "## 🔔  **Note on Accessibility**\n",
    "---\n",
    "\n",
    "Customization offers a high degree of personalization for creating scientific visualizations.\n",
    "It is important to also create accessible visualizations for a broad audience\n",
    "that may include low-vision or color-blind individuals. The AAS Journals provide a Graphics Guide\n",
    "for authors with tips and external links that can help you produce more accessible graphics:\n",
    "[https://journals.aas.org/graphics-guide/](https://journals.aas.org/graphics-guide/) "
   ]
  },
  {
   "cell_type": "markdown",
   "id": "50af7d6d",
   "metadata": {
    "slideshow": {
     "slide_type": "slide"
    }
   },
   "source": [
    "So far, everything we have wanted to do we could call directly from\n",
    "the pyplot module with `plt.`. As you do more and more customization\n",
    "you may need to run some methods on plotting objects themselves. To use the\n",
    "method that changes the direction of the ticks we need an `axes` object.\n",
    "So far, Matplotlib has implicitly created our `axes` object when we called `plt.plot`.\n",
    "To explicitly create an `axes` object we can first create our `figure` object and then add an `axes` object\n",
    "to it."
   ]
  },
  {
   "cell_type": "code",
   "execution_count": 1,
   "id": "c0dbbe39",
   "metadata": {
    "slideshow": {
     "slide_type": "-"
    }
   },
   "outputs": [],
   "source": [
    "### Explicitly create figure and axes objects ### \n",
    "\n",
    "\n",
    "\n"
   ]
  },
  {
   "cell_type": "markdown",
   "id": "723a0846",
   "metadata": {
    "slideshow": {
     "slide_type": "slide"
    }
   },
   "source": [
    "## 🔔 `subplot` and `axes`\n",
    "---\n",
    "\n",
    "Confusingly, in Matplotlib the objects `subplot` and `axes` are often used interchangeably.\n",
    "This is because a `subplot` is an `axes` object with additional methods and attributes."
   ]
  },
  {
   "cell_type": "markdown",
   "id": "66a7ade5",
   "metadata": {
    "slideshow": {
     "slide_type": "slide"
    }
   },
   "source": [
    "You can use the [`add_subplot`](https://matplotlib.org/stable/api/figure_api.html#matplotlib.figure.Figure.add_subplot) method to add more than one `axes` object to a figure.\n",
    "For this reason you have to specify the total number of columns, total number of rows, and which plot number you are\n",
    "creating (`fig.add_subplot(ncols, nrows, pltnum)`). The plot number starts in the upper left corner and goes left to\n",
    "right and then top to bottom. In the example above we have one column, one row, and we're plotting into the first plot space.\n",
    "\n",
    "Now we are ready to change the direction of the ticks to the inside of the axes using our new\n",
    "axes object.\n",
    "\n",
    "```python\n",
    "fig = plt.figure(figsize=(10,2.5))\n",
    "ax = fig.add_subplot(1,1,1)\n",
    "ax.tick_params(direction='in')\n",
    "```"
   ]
  },
  {
   "cell_type": "markdown",
   "id": "4zleSP00-nqT",
   "metadata": {
    "id": "4zleSP00-nqT",
    "slideshow": {
     "slide_type": "slide"
    }
   },
   "source": [
    "## <p style=\"background-color: #f5df18; padding: 10px;\"> 🛑 Exercise (5 Minutes) </p>\n",
    "---\n",
    "\n",
    "\n",
    "Read the documentation of\n",
    "[`tick_params`](https://matplotlib.org/stable/api/_as_gen/matplotlib.axes.Axes.tick_params.html)\n",
    "and use it to put ticks on the top and right sides of the axes."
   ]
  },
  {
   "cell_type": "code",
   "execution_count": null,
   "id": "kngQrPna-riD",
   "metadata": {
    "id": "kngQrPna-riD",
    "slideshow": {
     "slide_type": "-"
    }
   },
   "outputs": [],
   "source": [
    "### your answer here ####"
   ]
  },
  {
   "cell_type": "markdown",
   "id": "bc2655c0",
   "metadata": {
    "slideshow": {
     "slide_type": "slide"
    }
   },
   "source": [
    "# rcParams\n",
    "---\n",
    "\n",
    "If you want to make a customization that applies to all figures in a\n",
    "notebook, you can use `rcParams`. When you import Matplotlib, a dictionary is created with default values\n",
    "for everything you can change about your plot. This is what you are overriding with `tick_params` above.\n",
    "\n",
    "Here is an example that reads the current font size from `rcParams`:"
   ]
  },
  {
   "cell_type": "code",
   "execution_count": null,
   "id": "4b3073bf",
   "metadata": {
    "slideshow": {
     "slide_type": "-"
    }
   },
   "outputs": [],
   "source": []
  },
  {
   "cell_type": "code",
   "execution_count": null,
   "id": "776e2d06",
   "metadata": {
    "slideshow": {
     "slide_type": "-"
    }
   },
   "outputs": [],
   "source": []
  },
  {
   "cell_type": "markdown",
   "id": "46db5515",
   "metadata": {
    "slideshow": {
     "slide_type": "slide"
    }
   },
   "source": [
    "## <p style=\"background-color: #f5df18; padding: 10px;\"> 🛑 Exercise (5 Minutes) </p>\n",
    "---\n",
    "\n",
    "Plot the previous figure again, and see what font\n",
    "sizes have changed.  Look up any other element of `rcParams`, change\n",
    "its value, and check the effect on the figure."
   ]
  },
  {
   "cell_type": "code",
   "execution_count": null,
   "id": "31512793",
   "metadata": {
    "slideshow": {
     "slide_type": "-"
    }
   },
   "outputs": [],
   "source": [
    "### your answer here ###"
   ]
  },
  {
   "cell_type": "markdown",
   "id": "a0009a79",
   "metadata": {
    "slideshow": {
     "slide_type": "slide"
    }
   },
   "source": [
    "When you import Matplotlib, `plt.rcParams` is populated from a matplotlibrc file.\n",
    "If you want to permanently change a setting for every plot you make, you can set that in your matplotlibrc file.\n",
    "To find out where your matplotlibrc file lives type:\n",
    "\n",
    "```python\n",
    "import matplotlib as mpl\n",
    "mpl.matplotlib_fname()\n",
    "```\n",
    "\n",
    "If the file doesn't exist, you can download [a sample matplotlibrc file](https://matplotlib.org/stable/tutorials/introductory/customizing.html#matplotlibrc-sample) to modify."
   ]
  },
  {
   "cell_type": "markdown",
   "id": "b20cf489",
   "metadata": {
    "slideshow": {
     "slide_type": "slide"
    }
   },
   "source": [
    "## Style sheets\n",
    "\n",
    "It is possible that you would like multiple sets of defaults, for example,\n",
    "one default for plots for scientific papers and another for talks or posters.\n",
    "Because the `matplotlibrc` file is read when you import Matplotlib, it is\n",
    "not easy to switch from one set of options to another.\n",
    "\n",
    "The solution to this problem is style sheets, [which you can read\n",
    "about\n",
    "here](https://matplotlib.org/stable/tutorials/introductory/customizing.html).\n",
    "\n",
    "Matplotlib provides a set of predefined style sheets, or you can make your own.\n",
    "The [style sheets reference](https://matplotlib.org/stable/gallery/style_sheets/style_sheets_reference.html) shows a gallery of plots generated by common style sheets.\n",
    "\n",
    "You can display a list of style sheets installed on your system.\n",
    "\n",
    "```python\n",
    "plt.style.available\n",
    "```"
   ]
  },
  {
   "cell_type": "code",
   "execution_count": null,
   "id": "a1811a11",
   "metadata": {
    "slideshow": {
     "slide_type": "-"
    }
   },
   "outputs": [],
   "source": []
  },
  {
   "cell_type": "markdown",
   "id": "33d97e20",
   "metadata": {
    "slideshow": {
     "slide_type": "slide"
    }
   },
   "source": [
    "Note that `seaborn-paper`, `seaborn-talk` and `seaborn-poster` are\n",
    "particularly intended to prepare versions of a figure with text sizes\n",
    "and other features that work well in papers, talks, and posters.\n",
    "\n",
    "To use any of these style sheets, run `plt.style.use` like this:"
   ]
  },
  {
   "cell_type": "code",
   "execution_count": null,
   "id": "3b587e2f",
   "metadata": {
    "slideshow": {
     "slide_type": "-"
    }
   },
   "outputs": [],
   "source": []
  },
  {
   "cell_type": "markdown",
   "id": "e4ab9e1e",
   "metadata": {
    "slideshow": {
     "slide_type": "slide"
    }
   },
   "source": [
    "The style sheet you choose will affect the appearance of all figures\n",
    "you plot after calling `use`, unless you override any of the options\n",
    "or call `use` again."
   ]
  },
  {
   "cell_type": "markdown",
   "id": "d5699b88",
   "metadata": {
    "slideshow": {
     "slide_type": "slide"
    }
   },
   "source": [
    "## 🔔 Return to Default\n",
    "---\n",
    "\n",
    "To switch back to the default style use\n",
    "\n",
    "```python\n",
    "plt.style.use('default')\n",
    "```"
   ]
  },
  {
   "cell_type": "markdown",
   "id": "d280bc87",
   "metadata": {
    "slideshow": {
     "slide_type": "slide"
    }
   },
   "source": [
    "## <p style=\"background-color: #f5df18; padding: 10px;\"> 🛑 Exercise (5 Minutes) </p>\n",
    "---\n",
    "\n",
    "Choose one of the styles on the list and select it by\n",
    "calling `use`.  Then go back and plot one of the previous figures to see\n",
    "what changes in the figure's appearance."
   ]
  },
  {
   "cell_type": "code",
   "execution_count": null,
   "id": "1097fba8",
   "metadata": {
    "slideshow": {
     "slide_type": "-"
    }
   },
   "outputs": [],
   "source": [
    "### your answer here ###"
   ]
  },
  {
   "cell_type": "markdown",
   "id": "744cda08",
   "metadata": {
    "slideshow": {
     "slide_type": "slide"
    }
   },
   "source": [
    "## Multiple panels\n",
    "---\n",
    "\n",
    "So far we have been working with one figure at a time, but the figure we\n",
    "are replicating contains multiple panels. We will create each of these\n",
    "panels as a different subplot.\n",
    "Matplotlib has multiple functions for making figures with multiple panels.\n",
    "We have already used [`add_subplot`](https://matplotlib.org/stable/api/figure_api.html#matplotlib.figure.Figure.add_subplot) - however, this creates equal sized panels.\n",
    "For this reason, we will use [`subplot2grid`](https://matplotlib.org/stable/api/_as_gen/matplotlib.pyplot.subplot2grid.html) which allows us to control the relative sizes of the panels.\n",
    "\n",
    "Since we have already written functions that generate each panel of this figure,\n",
    "we can now create the full multi-panel figure by creating each subplot and then run our plotting function.\n",
    "\n",
    "Like [`add_subplot`](https://matplotlib.org/stable/api/figure_api.html#matplotlib.figure.Figure.add_subplot),\n",
    "[`subplot2grid`](https://matplotlib.org/stable/api/_as_gen/matplotlib.pyplot.subplot2grid.html)\n",
    "requires us to specify the total number of columns and rows in the grid (this time as a tuple called\n",
    "`shape`), and the location of the subplot (`loc`) - a tuple identifying the location in the grid we\n",
    "are about to fill.\n",
    "\n",
    "In this example, `shape` is `(2, 2)` to create two rows and two columns.\n",
    "\n",
    "For the first panel, `loc` is `(0, 0)`, which indicates row 0 and\n",
    "column 0, which is the upper-left panel.\n",
    "\n",
    "Here is how we use this function to draw the four panels.\n"
   ]
  },
  {
   "cell_type": "code",
   "execution_count": null,
   "id": "5e2d5c0f",
   "metadata": {
    "slideshow": {
     "slide_type": "slide"
    }
   },
   "outputs": [],
   "source": [
    "\n",
    "plt.style.use('default')\n",
    "\n",
    "fig = plt.figure()\n",
    "shape = (2, 2)\n",
    "ax1 = plt.subplot2grid(shape, (0, 0))\n",
    "plot_pm_selection(candidate_df)\n",
    "\n",
    "ax2 = plt.subplot2grid(shape, (0, 1))\n",
    "plot_proper_motion(centerline_df)\n",
    "\n",
    "ax3 = plt.subplot2grid(shape, (1, 0))\n",
    "plot_cmd_selection(winner_df)\n",
    "\n",
    "ax4 = plt.subplot2grid(shape, (1, 1))\n",
    "plot_cmd(candidate_df)\n",
    "\n",
    "plt.tight_layout()\n"
   ]
  },
  {
   "cell_type": "markdown",
   "id": "abf3715f",
   "metadata": {
    "slideshow": {
     "slide_type": "slide"
    }
   },
   "source": [
    "We use\n",
    "[`plt.tight_layout`](https://matplotlib.org/stable/tutorials/intermediate/tight_layout_guide.html)\n",
    "at the end, which adjusts the sizes of the panels to make sure the\n",
    "titles and axis labels don't overlap. Notice how convenient it is that we have written functions to plot each panel.\n",
    "This code is concise and readable: we can tell what is being plotted in each panel thanks to our explicit function names and\n",
    "we know what function to investigate if we want to see the mechanics of exactly how the plotting is done.\n"
   ]
  },
  {
   "cell_type": "markdown",
   "id": "339cc47e",
   "metadata": {
    "slideshow": {
     "slide_type": "slide"
    }
   },
   "source": [
    "## <p style=\"background-color: #f5df18; padding: 10px;\"> 🛑 Exercise </p>\n",
    "---\n",
    "\n",
    "What happens if you leave out `tight_layout`?"
   ]
  },
  {
   "cell_type": "code",
   "execution_count": null,
   "id": "a6ed22da",
   "metadata": {
    "slideshow": {
     "slide_type": "-"
    }
   },
   "outputs": [],
   "source": [
    "### your answer here ###"
   ]
  },
  {
   "cell_type": "markdown",
   "id": "63211d82",
   "metadata": {
    "slideshow": {
     "slide_type": "slide"
    }
   },
   "source": [
    "## Adjusting proportions\n",
    "---\n",
    "\n",
    "In the previous figure, the panels are all the same size.  To get a\n",
    "better view of GD-1, we would like to stretch the panels on the left and\n",
    "compress the ones on the right.\n",
    "\n",
    "To do that, we will use the `colspan` argument to make a panel that\n",
    "spans multiple columns in the grid. To do this we will need more columns so we will\n",
    "change the `shape` from (2,2) to (2,4).\n",
    "\n",
    "The panels on the left span three columns, so they are three times\n",
    "wider than the panels on the right.\n",
    "\n",
    "At the same time, we use `figsize` to adjust the aspect ratio of the\n",
    "whole figure."
   ]
  },
  {
   "cell_type": "code",
   "execution_count": null,
   "id": "76c5923c",
   "metadata": {
    "slideshow": {
     "slide_type": "-"
    }
   },
   "outputs": [],
   "source": [
    "plt.figure(figsize=(9, 4.5))\n",
    "\n",
    "shape = (2, 4)\n",
    "ax1 = plt.subplot2grid(shape, (0, 0), colspan=3)\n",
    "plot_pm_selection(candidate_df)\n",
    "\n",
    "ax2 = plt.subplot2grid(shape, (0, 3))\n",
    "plot_proper_motion(centerline_df)\n",
    "\n",
    "ax3 = plt.subplot2grid(shape, (1, 0), colspan=3)\n",
    "plot_cmd_selection(winner_df)\n",
    "\n",
    "ax4 = plt.subplot2grid(shape, (1, 3))\n",
    "plot_cmd(candidate_df)\n",
    "\n",
    "plt.tight_layout()"
   ]
  },
  {
   "cell_type": "markdown",
   "id": "8113f894",
   "metadata": {
    "slideshow": {
     "slide_type": "slide"
    }
   },
   "source": [
    "## <p style=\"background-color: #f5df18; padding: 10px;\"> 🛑 Exercise </p>\n",
    "\n",
    "In this example, the ratio of the widths of the panels is 3:1.  How\n",
    "would you adjust it if you wanted the ratio to be 3:2?"
   ]
  },
  {
   "cell_type": "code",
   "execution_count": 2,
   "id": "c46f5c9a",
   "metadata": {
    "slideshow": {
     "slide_type": "-"
    }
   },
   "outputs": [],
   "source": [
    "### your answer here ###"
   ]
  },
  {
   "cell_type": "markdown",
   "id": "3c414edf",
   "metadata": {
    "slideshow": {
     "slide_type": "slide"
    }
   },
   "source": [
    "## Adding the shaded regions\n",
    "---\n",
    "The one thing our figure is missing is the shaded regions showing the stars selected by proper motion and around\n",
    "the isochrone in the color magnitude diagram.\n",
    "\n",
    "In episode 4 we defined a rectangle in proper motion space around the stars in GD-1.\n",
    "We stored the x-values of the vertices of this rectangle in `pm1_rect` and\n",
    "the y-values as `pm2_rect`.\n",
    "\n",
    "To plot this rectangle, we will use the Matplotlib `Polygon` object which we used in episode 7 to check which\n",
    "points were inside the polygon. However, this time we will be plotting the `Polygon`."
   ]
  },
  {
   "cell_type": "markdown",
   "id": "3de65e01",
   "metadata": {
    "slideshow": {
     "slide_type": "slide"
    }
   },
   "source": [
    "To create a `Polygon`, we have to put the coordinates of the rectangle in an array with\n",
    "`x` values in the first column and `y` values in the second column."
   ]
  },
  {
   "cell_type": "code",
   "execution_count": null,
   "id": "206dd195",
   "metadata": {
    "slideshow": {
     "slide_type": "-"
    }
   },
   "outputs": [],
   "source": [
    "vertices = "
   ]
  },
  {
   "cell_type": "markdown",
   "id": "05ad387c",
   "metadata": {
    "slideshow": {
     "slide_type": "slide"
    }
   },
   "source": [
    "We will now create the `Polygon`, specifying its display properties which will be used when it is plotted.\n",
    "We will specify `closed=True` to make sure the shape is closed, `facecolor='orange` to color the inside\n",
    "of the `Polygon` orange, and `alpha=0.4` to make the `Polygon` semi-transparent."
   ]
  },
  {
   "cell_type": "code",
   "execution_count": null,
   "id": "41849205",
   "metadata": {
    "slideshow": {
     "slide_type": "-"
    }
   },
   "outputs": [],
   "source": [
    "poly ="
   ]
  },
  {
   "cell_type": "markdown",
   "id": "d1dfe40f",
   "metadata": {
    "slideshow": {
     "slide_type": "slide"
    }
   },
   "source": [
    "Then to plot the `Polygon` we call the `add_patch` method. `add_patch` like `tick_params`\n",
    "must be called on an `axes` or `subplot` object, so we will create a `subplot` and then\n",
    "add the `Patch` to the `subplot`."
   ]
  },
  {
   "cell_type": "code",
   "execution_count": null,
   "id": "fec789f9",
   "metadata": {
    "slideshow": {
     "slide_type": "-"
    }
   },
   "outputs": [],
   "source": []
  },
  {
   "cell_type": "markdown",
   "id": "74c98ade",
   "metadata": {
    "slideshow": {
     "slide_type": "slide"
    }
   },
   "source": [
    "We can now call our plot\\_proper\\_motion function to plot the\n",
    "proper motion for each star, and the add a shaded `Polygon` to show the\n",
    "region we selected."
   ]
  },
  {
   "cell_type": "code",
   "execution_count": null,
   "id": "7c085ff1",
   "metadata": {
    "slideshow": {
     "slide_type": "-"
    }
   },
   "outputs": [],
   "source": []
  },
  {
   "cell_type": "markdown",
   "id": "a51ae795",
   "metadata": {
    "slideshow": {
     "slide_type": "slide"
    }
   },
   "source": [
    "## <p style=\"background-color: #f5df18; padding: 10px;\"> 🛑 Exercise </p>\n",
    "\n",
    "Add a few lines to be run after the `plot_cmd` function to show the polygon we selected as a\n",
    "shaded area.\n",
    "\n",
    "Hint: pass `loop_df` as an argument to `Polygon` as we did in episode 7 and then plot it using `add_patch`."
   ]
  },
  {
   "cell_type": "code",
   "execution_count": null,
   "id": "3fc6920f",
   "metadata": {
    "slideshow": {
     "slide_type": "-"
    }
   },
   "outputs": [],
   "source": [
    "### your answer here ###"
   ]
  },
  {
   "cell_type": "markdown",
   "id": "7cefcb8f",
   "metadata": {
    "slideshow": {
     "slide_type": "slide"
    }
   },
   "source": [
    "## <p style=\"background-color: #f5df18; padding: 10px;\"> 🛑 Exercise </p>\n",
    "\n",
    "Add the `Polygon` patches you just created to the right panels of the four panel figure."
   ]
  },
  {
   "cell_type": "code",
   "execution_count": null,
   "id": "707223c1",
   "metadata": {
    "slideshow": {
     "slide_type": "-"
    }
   },
   "outputs": [],
   "source": [
    "### your answer here ###"
   ]
  },
  {
   "cell_type": "markdown",
   "id": "u5dNDiesCZTW",
   "metadata": {
    "id": "u5dNDiesCZTW",
    "slideshow": {
     "slide_type": "slide"
    }
   },
   "source": [
    "# Summary\n",
    "\n",
    "---\n",
    "\n",
    "In this episode, we reverse-engineered the figure we have been\n",
    "replicating, identifying elements that seem effective and others that\n",
    "could be improved.\n",
    "\n",
    "We explored features Matplotlib provides for adding annotations to\n",
    "figures -- including text, lines, arrows, and polygons -- and several\n",
    "ways to customize the appearance of figures.  And we learned how to\n",
    "create figures that contain multiple panels."
   ]
  },
  {
   "cell_type": "markdown",
   "id": "RWGI5jCnCdME",
   "metadata": {
    "id": "RWGI5jCnCdME",
    "slideshow": {
     "slide_type": "slide"
    }
   },
   "source": [
    "# <p style=\"background-color: #f5df18; padding: 10px;\"> 🗝️ Key Points </p>\n",
    "\n",
    "---\n",
    "\n",
    "- Effective figures focus on telling a single story clearly and authentically. The major decisions needed in creating an effective summary figure like this one can be done away from a computer and built up from low fidelity (hand drawn) to high (tweaking rcParams, etc.).\n",
    "- Consider using annotations to guide the reader’s attention to the most important elements of a figure, while keeping in mind accessiblity issues that such detail may introduce.\n",
    "- The default Matplotlib style generates good quality figures, but there are several ways you can override the defaults.\n",
    "- If you find yourself making the same customizations on several projects, you might want to create your own style sheet.\n"
   ]
  }
 ],
 "metadata": {
  "celltoolbar": "Slideshow",
  "colab": {
   "provenance": []
  },
  "kernelspec": {
   "display_name": "Python 3 (ipykernel)",
   "language": "python",
   "name": "python3"
  },
  "language_info": {
   "codemirror_mode": {
    "name": "ipython",
    "version": 3
   },
   "file_extension": ".py",
   "mimetype": "text/x-python",
   "name": "python",
   "nbconvert_exporter": "python",
   "pygments_lexer": "ipython3",
   "version": "3.11.3"
  },
  "toc-showcode": true
 },
 "nbformat": 4,
 "nbformat_minor": 5
}
