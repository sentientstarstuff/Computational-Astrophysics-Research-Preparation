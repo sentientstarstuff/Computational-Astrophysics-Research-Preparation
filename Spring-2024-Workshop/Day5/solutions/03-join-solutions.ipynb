{
 "cells": [
  {
   "cell_type": "markdown",
   "id": "labeled-firewall",
   "metadata": {
    "id": "labeled-firewall",
    "slideshow": {
     "slide_type": "slide"
    }
   },
   "source": [
    "# <p style=\"background-color: #f5df18; padding: 10px;\"> Foundations of Astronomical Data Science | **Join** </p>\n",
    "\n",
    "\n",
    "\n",
    "### <strong>Instructor: <span style=\"color: darkblue;\">Devontae C. Baxter</span></strong>\n",
    "\n",
    "Estimated completion time: 🕚 90 minutes\n",
    "\n"
   ]
  },
  {
   "cell_type": "markdown",
   "id": "902c2eac",
   "metadata": {
    "slideshow": {
     "slide_type": "slide"
    }
   },
   "source": [
    "<div style=\"display: flex;\">\n",
    "    <div style=\"flex: 1; margin-right: 100px;\">\n",
    "        <h2>Questions</h2>\n",
    "        <ul>\n",
    "            <li>How do we use JOIN to combine information from multiple tables?</li>\n",
    "            <li>How can we make a selection within a joined table?</li>\n",
    "            <li>How should we save the result?</li>\n",
    "        </ul>\n",
    "    </div>\n",
    "    <div style=\"flex: 1;\">\n",
    "        <h2>Learning Objectives</h2>\n",
    "        <ul>\n",
    "            <li>Write ADQL queries involving JOIN operations.</li>\n",
    "            <li>Save data in CSV format</li>\n",
    "        </ul>\n",
    "    </div>\n",
    "</div>"
   ]
  },
  {
   "cell_type": "markdown",
   "id": "81f155a9",
   "metadata": {},
   "source": [
    "This imports previously imported functions:"
   ]
  },
  {
   "cell_type": "code",
   "execution_count": 1,
   "id": "f11cdda8",
   "metadata": {},
   "outputs": [],
   "source": [
    "from astroquery.gaia import Gaia\n",
    "import pandas as pd\n",
    "\n",
    "from episode_functions import *"
   ]
  },
  {
   "cell_type": "markdown",
   "id": "d327045b",
   "metadata": {},
   "source": [
    "The following code loads in the data (instructions for downloading data can be\n",
    "found in the [setup instructions](../learners/setup.md)).  You may need to add a the path\n",
    "to the filename variable below (e.g. `filename = 'student_download/backup-data/gd1_data.hdf'`)\n"
   ]
  },
  {
   "cell_type": "code",
   "execution_count": 2,
   "id": "c5911e6d",
   "metadata": {},
   "outputs": [
    {
     "data": {
      "text/plain": [
       "sky_point_list    135.306, 8.39862, 126.51, 13.4449, 163.017, 54...\n",
       "pmra_min                                                       -6.7\n",
       "pmra_max                                                         -3\n",
       "pmdec_min                                                    -14.31\n",
       "pmdec_max                                                     -11.2\n",
       "dtype: object"
      ]
     },
     "execution_count": 2,
     "metadata": {},
     "output_type": "execute_result"
    }
   ],
   "source": [
    "filename = 'gd1_data.hdf'\n",
    "point_series = pd.read_hdf(filename, 'point_series')\n",
    "sky_point_list = point_series['sky_point_list']\n",
    "pmra_min = point_series['pmra_min']\n",
    "pmra_max = point_series['pmra_max']\n",
    "pmdec_min = point_series['pmdec_min']\n",
    "pmdec_max = point_series['pmdec_max']\n",
    "point_series"
   ]
  },
  {
   "cell_type": "markdown",
   "id": "motivated-manufacturer",
   "metadata": {
    "id": "motivated-manufacturer",
    "slideshow": {
     "slide_type": "slide"
    }
   },
   "source": [
    "The next step in our analysis is to\n",
    "select candidate stars based on photometry data.\n",
    "The following figure from the Price-Whelan and Bonaca paper is a color-magnitude diagram for\n",
    "the stars selected based on proper motion:\n",
    "\n",
    "<div>\n",
    "<img src=\"https://datacarpentry.org/astronomy-python/fig/gd1-3.png\" width=\"550\"/>\n",
    "</div>\n",
    "\n",
    "In orange is a [stellar\n",
    "isochrone](https://en.wikipedia.org/wiki/Stellar_isochrone), showing\n",
    "where we expect the stars in GD-1 to fall based on the metallicity and\n",
    "age of their original globular cluster.\n",
    "\n",
    "By selecting stars in the shaded area, we can further distinguish the\n",
    "main sequence of GD-1 from younger background stars."
   ]
  },
  {
   "cell_type": "markdown",
   "id": "e9nBPvR3nimC",
   "metadata": {
    "id": "e9nBPvR3nimC",
    "slideshow": {
     "slide_type": "slide"
    }
   },
   "source": [
    "# Outline\n",
    "---\n",
    "\n",
    "1. We will reload the candidate stars we identified in the previous\n",
    "  episode.\n",
    "\n",
    "2. Then we will run a query on the Gaia server that uploads the table\n",
    "  of\n",
    "  candidates and uses a `JOIN` operation to select photometry data for\n",
    "  the candidate stars.\n",
    "\n",
    "3. We will write the results to a file for use in the next episode."
   ]
  },
  {
   "cell_type": "markdown",
   "id": "pressed-commerce",
   "metadata": {
    "id": "pressed-commerce",
    "slideshow": {
     "slide_type": "slide"
    },
    "tags": []
   },
   "source": [
    "# Getting photometry data\n",
    "---\n",
    "\n",
    "The Gaia dataset contains some photometry data, including the variable\n",
    "`bp_rp`, which contains BP-RP color (the difference in mean flux\n",
    "between the BP and RP bands).\n",
    "We use this variable to select stars with `bp_rp` between -0.75 and 2,\n",
    "which excludes many class M dwarf stars.\n",
    "\n",
    "But we can do better than that. Assuming GD-1 is a globular cluster, all of the stars formed at the same\n",
    "time from the same material, so the stars' photometric properties should be consistent with a single\n",
    "isochrone in a color magnitude diagram.\n",
    "We can use photometric color and apparent magnitude to select stars with the age and metal richness we expect in GD-1.\n",
    "However, the broad Gaia photometric bands (G, BP, RP) are not optimized for this task, instead we will use the more narrow photometric bands available from the Pan-STARRS survey to obtain the `g-i` color and apparent `g`\\-band magnitude.\n",
    "\n",
    "Conveniently, the Gaia server provides data from Pan-STARRS as a table\n",
    "in the same database we have been using, so we can access it by making\n",
    "ADQL queries."
   ]
  },
  {
   "cell_type": "markdown",
   "id": "362d2717",
   "metadata": {
    "slideshow": {
     "slide_type": "slide"
    }
   },
   "source": [
    "## 🔔 A caveat about matching stars between catalogs\n",
    "---\n",
    "\n",
    "In general, choosing a star from the Gaia catalog and finding the\n",
    "corresponding star in the Pan-STARRS catalog is not easy.  This kind\n",
    "of cross matching is not always possible, because a star might appear\n",
    "in one catalog and not the other.  And even when both stars are\n",
    "present, there might not be a clear one-to-one relationship between\n",
    "stars in the two catalogs. Additional [catalog matching tools](https://docs.astropy.org/en/stable/coordinates/matchsep.html#matching-catalogs) are available from the\n",
    "Astropy coordinates package.\n",
    "\n",
    "Fortunately, people have worked on this problem, and the Gaia\n",
    "database includes cross-matching tables that suggest a best neighbor\n",
    "in the Pan-STARRS catalog for many stars in the Gaia catalog.\n",
    "\n",
    "[This document describes the cross matching process](https://gea.esac.esa.int/archive/documentation/GDR2/Catalogue_consolidation/chap_cu9val_cu9val/ssec_cu9xma/sssec_cu9xma_extcat.html).\n",
    "Briefly, it uses a cone search to find possible matches in\n",
    "approximately the right position, then uses attributes like color and\n",
    "magnitude to choose pairs of observations most likely to be the same\n",
    "star.\n"
   ]
  },
  {
   "cell_type": "markdown",
   "id": "a6333e8e",
   "metadata": {
    "slideshow": {
     "slide_type": "slide"
    }
   },
   "source": [
    "## The best neighbor table\n",
    "\n",
    "So the hard part of cross-matching has been done for us.  Using the\n",
    "results is a little tricky, but it gives us a chance to learn about\n",
    "one of the most important tools for working with databases: \"joining\"\n",
    "tables.\n",
    "\n",
    "A \"join\" is an operation where you match up records from\n",
    "one table with records from another table using as a \"key\" a piece of\n",
    "information that is common to both tables, usually some kind of ID\n",
    "code.\n",
    "\n",
    "In this example:\n",
    "\n",
    "- Stars in the Gaia dataset are identified by `source_id`.\n",
    "\n",
    "- Stars in the Pan-STARRS dataset are identified by `obj_id`.\n",
    "\n",
    "For each candidate star we have selected so far, we have the\n",
    "`source_id`; the goal is to find the `obj_id` for the same star\n",
    "in the Pan-STARRS catalog.\n",
    "\n",
    "To do that we will:\n",
    "\n",
    "1. Use the `JOIN` operator to look up each Pan-STARRS `obj_id` for the stars\n",
    "  we are interested in in the` panstarrs1_best_neighbour` table using the `source_id`s\n",
    "  that we have already identified.\n",
    "\n",
    "2. Use the `JOIN` operator again to look up the Pan-STARRS photometry for these stars\n",
    "  in the `panstarrs1_original_valid` table using the` obj_ids` we just identified.\n",
    "\n",
    "Before we get to the `JOIN` operation, we will explore these tables."
   ]
  },
  {
   "cell_type": "markdown",
   "id": "d6c33494",
   "metadata": {
    "slideshow": {
     "slide_type": "slide"
    }
   },
   "source": [
    "## 🔔 British vs American Spelling of Neighbour\n",
    "\n",
    "The Gaia database was created and is maintained by the European Space Astronomy Center.\n",
    "For this reason, the table spellings use the British spelling of neighbour\n",
    "(with a \"u\"). Do not forget to include it in your table names in the queries below.\n"
   ]
  },
  {
   "cell_type": "markdown",
   "id": "2f42d4e1",
   "metadata": {
    "slideshow": {
     "slide_type": "slide"
    }
   },
   "source": [
    "Here is the metadata for `panstarrs1_best_neighbour`."
   ]
  },
  {
   "cell_type": "code",
   "execution_count": 3,
   "id": "62a106a5",
   "metadata": {
    "slideshow": {
     "slide_type": "-"
    }
   },
   "outputs": [
    {
     "name": "stdout",
     "output_type": "stream",
     "text": [
      "Retrieving table 'gaiadr2.panstarrs1_best_neighbour'\n"
     ]
    }
   ],
   "source": [
    "ps_best_neighbour_meta = Gaia.load_table('gaiadr2.panstarrs1_best_neighbour')\n",
    "print(ps_best_neighbour_meta)"
   ]
  },
  {
   "cell_type": "markdown",
   "id": "5b404d18",
   "metadata": {
    "slideshow": {
     "slide_type": "slide"
    }
   },
   "source": [
    "And here are the columns."
   ]
  },
  {
   "cell_type": "code",
   "execution_count": 6,
   "id": "5bef9a1f",
   "metadata": {
    "slideshow": {
     "slide_type": "-"
    }
   },
   "outputs": [
    {
     "name": "stdout",
     "output_type": "stream",
     "text": [
      "source_id\n",
      "original_ext_source_id\n",
      "angular_distance\n",
      "number_of_neighbours\n",
      "number_of_mates\n",
      "best_neighbour_multiplicity\n",
      "gaia_astrometric_params\n"
     ]
    }
   ],
   "source": [
    "for column in ps_best_neighbour_meta.columns:\n",
    "    print(column.name)"
   ]
  },
  {
   "cell_type": "markdown",
   "id": "5e6fb823",
   "metadata": {
    "slideshow": {
     "slide_type": "slide"
    }
   },
   "source": [
    "Here is the [documentation for these\n",
    "variables](https://gea.esac.esa.int/archive/documentation/GDR2/Gaia_archive/chap_datamodel/sec_dm_crossmatches/ssec_dm_panstarrs1_best_neighbour.html).\n",
    "\n",
    "The ones we will use are:\n",
    "\n",
    "- `source_id`, which we will match up with `source_id` in the Gaia table.\n",
    "\n",
    "- `best_neighbour_multiplicity`, which indicates how many sources in\n",
    "  Pan-STARRS are matched with the same probability to this source in Gaia.\n",
    "\n",
    "- `number_of_mates`, which indicates the number of *other* sources in\n",
    "  Gaia that are matched with the same source in Pan-STARRS.\n",
    "\n",
    "- `original_ext_source_id`, which we will match up with `obj_id` in\n",
    "  the Pan-STARRS table.\n",
    "\n",
    "Ideally, `best_neighbour_multiplicity` should be 1 and `number_of_mates`\n",
    "should be 0; in that case, there is a one-to-one match between the\n",
    "source in Gaia and the corresponding source in Pan-STARRS."
   ]
  },
  {
   "cell_type": "markdown",
   "id": "febe11d3",
   "metadata": {
    "slideshow": {
     "slide_type": "slide"
    }
   },
   "source": [
    "## 🔔 Number of neighbors\n",
    "\n",
    "The table also contains `number_of_neighbours` which is the\n",
    "number of stars in Pan-STARRS that match in terms of position, before\n",
    "using other criteria to choose the most likely match.  But we are more\n",
    "interested in the final match, using both criteria."
   ]
  },
  {
   "cell_type": "markdown",
   "id": "75130f7c",
   "metadata": {
    "slideshow": {
     "slide_type": "slide"
    }
   },
   "source": [
    "Here is a query that selects these columns and returns the first 5 rows."
   ]
  },
  {
   "cell_type": "code",
   "execution_count": 8,
   "id": "abf0080a",
   "metadata": {
    "slideshow": {
     "slide_type": "-"
    }
   },
   "outputs": [],
   "source": [
    "ps_best_neighbour_query = \"\"\"SELECT \n",
    "TOP 5\n",
    "source_id, best_neighbour_multiplicity, number_of_mates, original_ext_source_id\n",
    "FROM gaiadr2.panstarrs1_best_neighbour\"\"\""
   ]
  },
  {
   "cell_type": "code",
   "execution_count": 9,
   "id": "e8eea3c7",
   "metadata": {},
   "outputs": [
    {
     "name": "stdout",
     "output_type": "stream",
     "text": [
      "INFO: Query finished. [astroquery.utils.tap.core]\n"
     ]
    }
   ],
   "source": [
    "ps_best_neighbour_job = Gaia.launch_job_async(ps_best_neighbour_query)"
   ]
  },
  {
   "cell_type": "code",
   "execution_count": 10,
   "id": "b66847d8",
   "metadata": {},
   "outputs": [
    {
     "data": {
      "text/html": [
       "<div><i>Table length=5</i>\n",
       "<table id=\"table6012140496\" class=\"table-striped table-bordered table-condensed\">\n",
       "<thead><tr><th>SOURCE_ID</th><th>best_neighbour_multiplicity</th><th>number_of_mates</th><th>original_ext_source_id</th></tr></thead>\n",
       "<thead><tr><th>int64</th><th>int16</th><th>int16</th><th>int64</th></tr></thead>\n",
       "<tr><td>6745938972433480704</td><td>1</td><td>0</td><td>69742925668851205</td></tr>\n",
       "<tr><td>6030466788955954048</td><td>1</td><td>0</td><td>69742509325691172</td></tr>\n",
       "<tr><td>6756488099308169600</td><td>1</td><td>0</td><td>69742879438541228</td></tr>\n",
       "<tr><td>6700154994715046016</td><td>1</td><td>0</td><td>69743055581721207</td></tr>\n",
       "<tr><td>6757061941303252736</td><td>1</td><td>0</td><td>69742856540241198</td></tr>\n",
       "</table></div>"
      ],
      "text/plain": [
       "<Table length=5>\n",
       "     SOURCE_ID      best_neighbour_multiplicity number_of_mates original_ext_source_id\n",
       "       int64                   int16                 int16              int64         \n",
       "------------------- --------------------------- --------------- ----------------------\n",
       "6745938972433480704                           1               0      69742925668851205\n",
       "6030466788955954048                           1               0      69742509325691172\n",
       "6756488099308169600                           1               0      69742879438541228\n",
       "6700154994715046016                           1               0      69743055581721207\n",
       "6757061941303252736                           1               0      69742856540241198"
      ]
     },
     "execution_count": 10,
     "metadata": {},
     "output_type": "execute_result"
    }
   ],
   "source": [
    "ps_best_neighbour_results = ps_best_neighbour_job.get_results()\n",
    "ps_best_neighbour_results"
   ]
  },
  {
   "cell_type": "markdown",
   "id": "adc7343c",
   "metadata": {
    "slideshow": {
     "slide_type": "slide"
    }
   },
   "source": [
    "## The Pan-STARRS table\n",
    "\n",
    "Now that we know the Pan-STARRS `obj_id`, we are ready to match this to the photometry in the\n",
    "`panstarrs1_original_valid` table. Here is the metadata for the table that contains the Pan-STARRS data."
   ]
  },
  {
   "cell_type": "code",
   "execution_count": 11,
   "id": "15c918a6",
   "metadata": {
    "slideshow": {
     "slide_type": "-"
    }
   },
   "outputs": [
    {
     "name": "stdout",
     "output_type": "stream",
     "text": [
      "Retrieving table 'gaiadr2.panstarrs1_original_valid'\n"
     ]
    }
   ],
   "source": [
    "ps_valid_meta = Gaia.load_table('gaiadr2.panstarrs1_original_valid')"
   ]
  },
  {
   "cell_type": "code",
   "execution_count": 12,
   "id": "66ddb501",
   "metadata": {},
   "outputs": [
    {
     "name": "stdout",
     "output_type": "stream",
     "text": [
      "TAP Table name: gaiadr2.gaiadr2.panstarrs1_original_valid\n",
      "Description: The Panoramic Survey Telescope and Rapid Response System (Pan-STARRS) is\n",
      "a system for wide-field astronomical imaging developed and operated by\n",
      "the Institute for Astronomy at the University of Hawaii. Pan-STARRS1\n",
      "(PS1) is the first part of Pan-STARRS to be completed and is the basis\n",
      "for Data Release 1 (DR1). The PS1 survey used a 1.8 meter telescope and\n",
      "its 1.4 Gigapixel camera to image the sky in five broadband filters (g,\n",
      "r, i, z, y).\n",
      "\n",
      "The current table contains a filtered subsample of the 10 723 304 629\n",
      "entries listed in the original ObjectThin table.\n",
      "We used only ObjectThin and MeanObject tables to extract\n",
      "panstarrs1OriginalValid table, this means that objects detected only in\n",
      "stack images are not included here. The main reason for us to avoid the\n",
      "use of objects detected in stack images is that their astrometry is not\n",
      "as good as the mean objects astrometry: “The stack positions (raStack,\n",
      "decStack) have considerably larger systematic astrometric errors than\n",
      "the mean epoch positions (raMean, decMean).” The astrometry for the\n",
      "MeanObject positions uses Gaia DR1 as a reference catalog, while the\n",
      "stack positions use 2MASS as a reference catalog.\n",
      "\n",
      "In details, we filtered out all objects where:\n",
      "\n",
      "-   nDetections = 1\n",
      "\n",
      "-   no good quality data in Pan-STARRS, objInfoFlag 33554432 not set\n",
      "\n",
      "-   mean astrometry could not be measured, objInfoFlag 524288 set\n",
      "\n",
      "-   stack position used for mean astrometry, objInfoFlag 1048576 set\n",
      "\n",
      "-   error on all magnitudes equal to 0 or to -999;\n",
      "\n",
      "-   all magnitudes set to -999;\n",
      "\n",
      "-   error on RA or DEC greater than 1 arcsec.\n",
      "\n",
      "The number of objects in panstarrs1OriginalValid is 2 264 263 282.\n",
      "\n",
      "The panstarrs1OriginalValid table contains only a subset of the columns\n",
      "available in the combined ObjectThin and MeanObject tables. A\n",
      "description of the original ObjectThin and MeanObjects tables can be\n",
      "found at:\n",
      "https://outerspace.stsci.edu/display/PANSTARRS/PS1+Database+object+and+detection+tables\n",
      "\n",
      "Download:\n",
      "http://mastweb.stsci.edu/ps1casjobs/home.aspx\n",
      "Documentation:\n",
      "https://outerspace.stsci.edu/display/PANSTARRS\n",
      "http://pswww.ifa.hawaii.edu/pswww/\n",
      "References:\n",
      "The Pan-STARRS1 Surveys, Chambers, K.C., et al. 2016, arXiv:1612.05560\n",
      "Pan-STARRS Data Processing System, Magnier, E. A., et al. 2016,\n",
      "arXiv:1612.05240\n",
      "Pan-STARRS Pixel Processing: Detrending, Warping, Stacking, Waters, C.\n",
      "Z., et al. 2016, arXiv:1612.05245\n",
      "Pan-STARRS Pixel Analysis: Source Detection and Characterization,\n",
      "Magnier, E. A., et al. 2016, arXiv:1612.05244\n",
      "Pan-STARRS Photometric and Astrometric Calibration, Magnier, E. A., et\n",
      "al. 2016, arXiv:1612.05242\n",
      "The Pan-STARRS1 Database and Data Products, Flewelling, H. A., et al.\n",
      "2016, arXiv:1612.05243\n",
      "\n",
      "Catalogue curator:\n",
      "SSDC - ASI Space Science Data Center\n",
      "https://www.ssdc.asi.it/\n",
      "Num. columns: 26\n"
     ]
    }
   ],
   "source": [
    "print(ps_valid_meta)"
   ]
  },
  {
   "cell_type": "markdown",
   "id": "cd76e7f5",
   "metadata": {
    "slideshow": {
     "slide_type": "slide"
    }
   },
   "source": [
    "And here are the columns."
   ]
  },
  {
   "cell_type": "code",
   "execution_count": 13,
   "id": "82a6a9d5",
   "metadata": {
    "slideshow": {
     "slide_type": "-"
    }
   },
   "outputs": [
    {
     "name": "stdout",
     "output_type": "stream",
     "text": [
      "obj_name\n",
      "obj_id\n",
      "ra\n",
      "dec\n",
      "ra_error\n",
      "dec_error\n",
      "epoch_mean\n",
      "g_mean_psf_mag\n",
      "g_mean_psf_mag_error\n",
      "g_flags\n",
      "r_mean_psf_mag\n",
      "r_mean_psf_mag_error\n",
      "r_flags\n",
      "i_mean_psf_mag\n",
      "i_mean_psf_mag_error\n",
      "i_flags\n",
      "z_mean_psf_mag\n",
      "z_mean_psf_mag_error\n",
      "z_flags\n",
      "y_mean_psf_mag\n",
      "y_mean_psf_mag_error\n",
      "y_flags\n",
      "n_detections\n",
      "zone_id\n",
      "obj_info_flag\n",
      "quality_flag\n"
     ]
    }
   ],
   "source": [
    "for column in ps_valid_meta.columns:\n",
    "    print(column.name)"
   ]
  },
  {
   "cell_type": "markdown",
   "id": "ab4f8ab5",
   "metadata": {
    "slideshow": {
     "slide_type": "slide"
    }
   },
   "source": [
    "Here is the [documentation for these variables](https://gea.esac.esa.int/archive/documentation/GDR2/Gaia_archive/chap_datamodel/sec_dm_external_catalogues/ssec_dm_panstarrs1_original_valid.html) .\n",
    "\n",
    "The ones we will use are:\n",
    "\n",
    "- `obj_id`, which we will match up with `original_ext_source_id` in\n",
    "  the best neighbor table.\n",
    "\n",
    "- `g_mean_psf_mag`, which contains mean magnitude from the `g` filter.\n",
    "\n",
    "- `i_mean_psf_mag`, which contains mean magnitude from the `i` filter.\n",
    "\n",
    "Here is a query that selects these variables and returns the first 5 rows."
   ]
  },
  {
   "cell_type": "code",
   "execution_count": 14,
   "id": "90ac8e32",
   "metadata": {
    "slideshow": {
     "slide_type": "-"
    }
   },
   "outputs": [],
   "source": [
    "ps_valid_query = \"\"\"SELECT \n",
    "TOP 5\n",
    "obj_id, g_mean_psf_mag, i_mean_psf_mag \n",
    "FROM gaiadr2.panstarrs1_original_valid\n",
    "\"\"\""
   ]
  },
  {
   "cell_type": "markdown",
   "id": "23f23174",
   "metadata": {
    "slideshow": {
     "slide_type": "slide"
    }
   },
   "source": [
    "## Joining tables\n",
    "---\n",
    "\n",
    "The following figure shows how these tables are related.\n",
    "\n",
    "- The orange circles and arrows represent the first `JOIN` operation,\n",
    "  which takes each `source_id` in the Gaia table and finds the same\n",
    "  value of `source_id` in the best neighbor table.\n",
    "\n",
    "- The blue circles and arrows represent the second `JOIN` operation,\n",
    "  which takes each `original_ext_source_id` in the best neighbor table and finds\n",
    "  the same value of `obj_id` in the PanSTARRS photometry table.\n",
    "\n",
    "There is no guarantee that the corresponding rows of these tables are\n",
    "in the same order, so the `JOIN` operation involves some searching.\n",
    "However, ADQL/SQL databases are implemented in a way that makes this\n",
    "kind of search efficient.\n",
    "If you are curious, you can [read more about\n",
    "it](https://chartio.com/learn/databases/how-does-indexing-work/).\n",
    "\n",
    "<div>\n",
    "<img src=\"https://datacarpentry.org/astronomy-python/fig/join.png\" width=\"1000\"/>\n",
    "</div>\n"
   ]
  },
  {
   "cell_type": "markdown",
   "id": "f6318974",
   "metadata": {
    "slideshow": {
     "slide_type": "slide"
    }
   },
   "source": [
    "Now we will get to the details of performing a `JOIN` operation.\n",
    "\n",
    "We are about to build a complex query using software that doesn't provide us with any helpful information for debugging.\n",
    "For this reason we are going to start with a simplified version of what we want to do until we are sure  we are joining\n",
    "the tables correctly, then we will slowly add more layers of complexity, checking at each stage that our query still works.\n",
    "As a starting place, we will go all the way back to the cone search from lesson 2."
   ]
  },
  {
   "cell_type": "code",
   "execution_count": 15,
   "id": "22f3c328",
   "metadata": {
    "slideshow": {
     "slide_type": "-"
    }
   },
   "outputs": [],
   "source": [
    "test_cone_query = \"\"\"SELECT \n",
    "TOP 10 \n",
    "source_id\n",
    "FROM gaiadr2.gaia_source\n",
    "WHERE 1=CONTAINS(\n",
    "  POINT(ra, dec),\n",
    "  CIRCLE(88.8, 7.4, 0.08333333))\n",
    "\"\"\""
   ]
  },
  {
   "cell_type": "markdown",
   "id": "924f09ec",
   "metadata": {
    "slideshow": {
     "slide_type": "slide"
    }
   },
   "source": [
    "And we will run it, to make sure we have a working query to build on.\n"
   ]
  },
  {
   "cell_type": "code",
   "execution_count": 16,
   "id": "3ca685f4",
   "metadata": {
    "slideshow": {
     "slide_type": "-"
    }
   },
   "outputs": [],
   "source": [
    "test_cone_job = Gaia.launch_job(test_cone_query)"
   ]
  },
  {
   "cell_type": "code",
   "execution_count": 17,
   "id": "f2514f13",
   "metadata": {},
   "outputs": [],
   "source": [
    "test_cone_results = test_cone_job.get_results()"
   ]
  },
  {
   "cell_type": "code",
   "execution_count": 18,
   "id": "6133675f",
   "metadata": {},
   "outputs": [
    {
     "data": {
      "text/html": [
       "<div><i>Table length=10</i>\n",
       "<table id=\"table6011743952\" class=\"table-striped table-bordered table-condensed\">\n",
       "<thead><tr><th>SOURCE_ID</th></tr></thead>\n",
       "<thead><tr><th>int64</th></tr></thead>\n",
       "<tr><td>3322773965056065536</td></tr>\n",
       "<tr><td>3322773758899157120</td></tr>\n",
       "<tr><td>3322774068134271104</td></tr>\n",
       "<tr><td>3322773930696320512</td></tr>\n",
       "<tr><td>3322774377374425728</td></tr>\n",
       "<tr><td>3322773724537891456</td></tr>\n",
       "<tr><td>3322773724537891328</td></tr>\n",
       "<tr><td>3322773930696321792</td></tr>\n",
       "<tr><td>3322773724537890944</td></tr>\n",
       "<tr><td>3322773930696322176</td></tr>\n",
       "</table></div>"
      ],
      "text/plain": [
       "<Table length=10>\n",
       "     SOURCE_ID     \n",
       "       int64       \n",
       "-------------------\n",
       "3322773965056065536\n",
       "3322773758899157120\n",
       "3322774068134271104\n",
       "3322773930696320512\n",
       "3322774377374425728\n",
       "3322773724537891456\n",
       "3322773724537891328\n",
       "3322773930696321792\n",
       "3322773724537890944\n",
       "3322773930696322176"
      ]
     },
     "execution_count": 18,
     "metadata": {},
     "output_type": "execute_result"
    }
   ],
   "source": [
    "test_cone_results"
   ]
  },
  {
   "cell_type": "markdown",
   "id": "cf457e8f",
   "metadata": {
    "slideshow": {
     "slide_type": "slide"
    }
   },
   "source": [
    "Now we can start adding features.\n",
    "First, we will replace `source_id` with the format specifier `columns` so that we can alter what columns we\n",
    "want to return without having to modify our base query:"
   ]
  },
  {
   "cell_type": "code",
   "execution_count": 19,
   "id": "28c3da5e",
   "metadata": {
    "slideshow": {
     "slide_type": "-"
    }
   },
   "outputs": [],
   "source": [
    "cone_base_query = \"\"\"SELECT \n",
    "{columns}\n",
    "FROM gaiadr2.gaia_source\n",
    "WHERE 1=CONTAINS(\n",
    "  POINT(ra, dec),\n",
    "  CIRCLE(88.8, 7.4, 0.08333333))\n",
    "\"\"\""
   ]
  },
  {
   "cell_type": "markdown",
   "id": "779a2660",
   "metadata": {
    "slideshow": {
     "slide_type": "slide"
    }
   },
   "source": [
    "As a reminder, here are the columns we want from the Gaia table:\n",
    "\n",
    "```python\n",
    "columns = 'source_id, ra, dec, pmra, pmdec'\n",
    "```\n"
   ]
  },
  {
   "cell_type": "code",
   "execution_count": 20,
   "id": "ff5fc613",
   "metadata": {
    "slideshow": {
     "slide_type": "-"
    }
   },
   "outputs": [
    {
     "name": "stdout",
     "output_type": "stream",
     "text": [
      "SELECT \n",
      "source_id, ra, dec, pmra, pmdec\n",
      "FROM gaiadr2.gaia_source\n",
      "WHERE 1=CONTAINS(\n",
      "  POINT(ra, dec),\n",
      "  CIRCLE(88.8, 7.4, 0.08333333))\n",
      "\n"
     ]
    }
   ],
   "source": [
    "columns = 'source_id, ra, dec, pmra, pmdec'\n",
    "\n",
    "cone_query = cone_base_query.format(columns=columns)\n",
    "print(cone_query)"
   ]
  },
  {
   "cell_type": "markdown",
   "id": "78202587",
   "metadata": {
    "slideshow": {
     "slide_type": "slide"
    }
   },
   "source": [
    "We run the query again."
   ]
  },
  {
   "cell_type": "code",
   "execution_count": 21,
   "id": "16e2fb29",
   "metadata": {
    "slideshow": {
     "slide_type": "-"
    }
   },
   "outputs": [
    {
     "name": "stdout",
     "output_type": "stream",
     "text": [
      "INFO: Query finished. [astroquery.utils.tap.core]\n"
     ]
    }
   ],
   "source": [
    "cone_job = Gaia.launch_job_async(cone_query)"
   ]
  },
  {
   "cell_type": "code",
   "execution_count": 22,
   "id": "43e0dff9",
   "metadata": {},
   "outputs": [
    {
     "data": {
      "text/html": [
       "<div><i>Table length=594</i>\n",
       "<table id=\"table6022579792\" class=\"table-striped table-bordered table-condensed\">\n",
       "<thead><tr><th>SOURCE_ID</th><th>ra</th><th>dec</th><th>pmra</th><th>pmdec</th></tr></thead>\n",
       "<thead><tr><th></th><th>deg</th><th>deg</th><th>mas / yr</th><th>mas / yr</th></tr></thead>\n",
       "<thead><tr><th>int64</th><th>float64</th><th>float64</th><th>float64</th><th>float64</th></tr></thead>\n",
       "<tr><td>3322773965056065536</td><td>88.78178020183375</td><td>7.334936530583141</td><td>0.2980633722108194</td><td>-2.5057036964736907</td></tr>\n",
       "<tr><td>3322773758899157120</td><td>88.83227057144585</td><td>7.325577341429926</td><td>--</td><td>--</td></tr>\n",
       "<tr><td>3322774068134271104</td><td>88.8206092188033</td><td>7.353158142762173</td><td>-1.1065462654445488</td><td>-1.5260889445858044</td></tr>\n",
       "<tr><td>3322773930696320512</td><td>88.80843339290348</td><td>7.334853162299928</td><td>2.6074384482375215</td><td>-0.9292104395445717</td></tr>\n",
       "<tr><td>3322774377374425728</td><td>88.86806108182265</td><td>7.371287731275939</td><td>3.9555477866915383</td><td>-3.8676624830902435</td></tr>\n",
       "<tr><td>3322773724537891456</td><td>88.81308602813434</td><td>7.32488574492059</td><td>51.34995462741039</td><td>-33.078133430952086</td></tr>\n",
       "<tr><td>3322773724537891328</td><td>88.81570329208743</td><td>7.3223019772324855</td><td>1.9389988498951845</td><td>0.3110526931576576</td></tr>\n",
       "<tr><td>3322773930696321792</td><td>88.8050736770331</td><td>7.332371472206583</td><td>2.264014834476311</td><td>1.0772755505138008</td></tr>\n",
       "<tr><td>3322773724537890944</td><td>88.81241651540533</td><td>7.327864052479726</td><td>-0.36003627434304625</td><td>-6.393939291541333</td></tr>\n",
       "<tr><td>3322773930696322176</td><td>88.80128682574824</td><td>7.334292036448643</td><td>--</td><td>--</td></tr>\n",
       "<tr><td>3322774171213468288</td><td>88.85926451433244</td><td>7.347883547366655</td><td>--</td><td>--</td></tr>\n",
       "<tr><td>3322774549172100864</td><td>88.83436553681659</td><td>7.381718098527705</td><td>-2.8346862156210197</td><td>-10.041670801563173</td></tr>\n",
       "<tr><td>3322774480453643776</td><td>88.84560455437382</td><td>7.37235454153855</td><td>-2.3607769454630194</td><td>0.3119094236284546</td></tr>\n",
       "<tr><td>3322774549173120768</td><td>88.83656567295009</td><td>7.379145614749243</td><td>1.1879010806834702</td><td>0.8015608679926151</td></tr>\n",
       "<tr><td>3322774102494018816</td><td>88.80206135956955</td><td>7.352773486341117</td><td>-0.44875204757926507</td><td>0.06388813412223136</td></tr>\n",
       "<tr><td>3322774480453644544</td><td>88.84518455090614</td><td>7.369528614293598</td><td>1.0487255252218055</td><td>-3.2216341675741775</td></tr>\n",
       "<tr><td>3322774102495010432</td><td>88.79716654349421</td><td>7.352131803476284</td><td>--</td><td>--</td></tr>\n",
       "<tr><td>3322773896336588288</td><td>88.79204096615393</td><td>7.32650520319297</td><td>-2.032795831142071</td><td>3.667053981953014</td></tr>\n",
       "<tr><td>3322774514810855168</td><td>88.82561554658879</td><td>7.370396362874608</td><td>2.050310050020124</td><td>-2.049474519300541</td></tr>\n",
       "<tr><td>3322774377372872192</td><td>88.87582672533853</td><td>7.366118779323389</td><td>1.8127015837108136</td><td>0.7001194505950585</td></tr>\n",
       "<tr><td>3322774583531302528</td><td>88.85999672738541</td><td>7.382293774944985</td><td>-0.6623070684058512</td><td>-2.3442341897855243</td></tr>\n",
       "<tr><td>3322774652250779392</td><td>88.8524947323721</td><td>7.388899986262633</td><td>1.6972219448237815</td><td>1.6485794601186199</td></tr>\n",
       "<tr><td>3322774686610517248</td><td>88.85472110026933</td><td>7.390063397753613</td><td>--</td><td>--</td></tr>\n",
       "<tr><td>3322774068135266176</td><td>88.8235301157897</td><td>7.347705160722182</td><td>-3.7433564817590645</td><td>0.31886651205178934</td></tr>\n",
       "<tr><td>3322773857683389824</td><td>88.83996292432077</td><td>7.3445665848082236</td><td>2.6534378827450373</td><td>-8.01774392396456</td></tr>\n",
       "<tr><td>3322774583531304832</td><td>88.85867590829105</td><td>7.376481786908238</td><td>2.6366028834302653</td><td>1.8134315265562975</td></tr>\n",
       "<tr><td>3322773827616107136</td><td>88.83071130581675</td><td>7.335176978367904</td><td>1.4782268393421794</td><td>-4.210984137177093</td></tr>\n",
       "<tr><td>...</td><td>...</td><td>...</td><td>...</td><td>...</td></tr>\n",
       "<tr><td>3322962325141750016</td><td>88.83569860807606</td><td>7.400019185834357</td><td>2.232528951329276</td><td>0.06553486501513013</td></tr>\n",
       "<tr><td>3322963424653377664</td><td>88.79010085612454</td><td>7.440780293746405</td><td>-0.5665536634320726</td><td>1.131514742770427</td></tr>\n",
       "<tr><td>3322962325141749760</td><td>88.83734552112712</td><td>7.398926808815748</td><td>0.34393181491939895</td><td>0.5183421380693837</td></tr>\n",
       "<tr><td>3322962977978513408</td><td>88.7442802483588</td><td>7.412942724151012</td><td>-6.554444262076663</td><td>7.063793489936718</td></tr>\n",
       "<tr><td>3322962118985054336</td><td>88.75955522181778</td><td>7.395570338211606</td><td>3.725957752362235</td><td>-2.2398692278343715</td></tr>\n",
       "<tr><td>3322963184136943872</td><td>88.7309524802499</td><td>7.42480485556539</td><td>2.305446276420357</td><td>-11.326745896862978</td></tr>\n",
       "<tr><td>3322963768250764288</td><td>88.75839741640878</td><td>7.45788588719871</td><td>-0.14370138848752928</td><td>0.3586740564258863</td></tr>\n",
       "<tr><td>3322961844105448192</td><td>88.7811364509495</td><td>7.363879864829356</td><td>1.0613332159564797</td><td>0.18795846530326532</td></tr>\n",
       "<tr><td>3322963768250764416</td><td>88.75896332337557</td><td>7.456741652211021</td><td>-1.554488688177965</td><td>0.6398215226671967</td></tr>\n",
       "<tr><td>3322963768250764544</td><td>88.75644739015753</td><td>7.458717049552895</td><td>-0.908739392172609</td><td>-3.648791707469078</td></tr>\n",
       "<tr><td>3322962874901155328</td><td>88.74579056496437</td><td>7.4036175340249475</td><td>-0.930107844710157</td><td>-2.4850560444911407</td></tr>\n",
       "<tr><td>3322962977980370048</td><td>88.74646915930033</td><td>7.415190645958336</td><td>--</td><td>--</td></tr>\n",
       "<tr><td>3322962428222818816</td><td>88.82716236340515</td><td>7.4169370051781485</td><td>--</td><td>--</td></tr>\n",
       "<tr><td>3322961878466880512</td><td>88.78887396313664</td><td>7.384110794599677</td><td>1.9920323862485994</td><td>-4.998754916939092</td></tr>\n",
       "<tr><td>3322962359501481088</td><td>88.85037722908271</td><td>7.402162717053584</td><td>2.058216493648542</td><td>-2.249255322558584</td></tr>\n",
       "<tr><td>3322962393861228544</td><td>88.82108234976155</td><td>7.4044425496203</td><td>-0.916760881643629</td><td>-1.1113319053861441</td></tr>\n",
       "<tr><td>3322955831151254912</td><td>88.74620347799508</td><td>7.342728619145855</td><td>0.1559833902071379</td><td>-1.750598455959734</td></tr>\n",
       "<tr><td>3322962118983356032</td><td>88.76109637722949</td><td>7.380564308268047</td><td>--</td><td>--</td></tr>\n",
       "<tr><td>3322963527732585984</td><td>88.78813701704823</td><td>7.456696889759524</td><td>1.1363354614104264</td><td>-2.46251296961979</td></tr>\n",
       "<tr><td>3322961775385969024</td><td>88.79723215862369</td><td>7.359756552906535</td><td>2.121021366548921</td><td>-6.605711792572964</td></tr>\n",
       "<tr><td>3322962084625312512</td><td>88.78286756313868</td><td>7.384598632215225</td><td>-0.09350717810996487</td><td>1.3495903680571226</td></tr>\n",
       "<tr><td>3322962939322692608</td><td>88.73289357818679</td><td>7.407688975612043</td><td>-0.11002934783569704</td><td>1.002126813991455</td></tr>\n",
       "<tr><td>3322963768250760576</td><td>88.7592444035961</td><td>7.469624531882018</td><td>--</td><td>--</td></tr>\n",
       "<tr><td>3322963459013111808</td><td>88.80348931842845</td><td>7.438699901204871</td><td>0.800833828337078</td><td>-3.3780655466364626</td></tr>\n",
       "<tr><td>3322963355935626368</td><td>88.75528507586058</td><td>7.427795463027667</td><td>--</td><td>--</td></tr>\n",
       "<tr><td>3322963287216149888</td><td>88.7658164932195</td><td>7.415726370886557</td><td>2.3743092647634034</td><td>-0.5046963243400879</td></tr>\n",
       "<tr><td>3322962015904143872</td><td>88.74740822271643</td><td>7.387057037713974</td><td>-0.7201178533250112</td><td>0.5565841272341593</td></tr>\n",
       "</table></div>"
      ],
      "text/plain": [
       "<Table length=594>\n",
       "     SOURCE_ID              ra               dec                 pmra                pmdec       \n",
       "                           deg               deg               mas / yr             mas / yr     \n",
       "       int64             float64           float64             float64              float64      \n",
       "------------------- ----------------- ------------------ -------------------- -------------------\n",
       "3322773965056065536 88.78178020183375  7.334936530583141   0.2980633722108194 -2.5057036964736907\n",
       "3322773758899157120 88.83227057144585  7.325577341429926                   --                  --\n",
       "3322774068134271104  88.8206092188033  7.353158142762173  -1.1065462654445488 -1.5260889445858044\n",
       "3322773930696320512 88.80843339290348  7.334853162299928   2.6074384482375215 -0.9292104395445717\n",
       "3322774377374425728 88.86806108182265  7.371287731275939   3.9555477866915383 -3.8676624830902435\n",
       "3322773724537891456 88.81308602813434   7.32488574492059    51.34995462741039 -33.078133430952086\n",
       "3322773724537891328 88.81570329208743 7.3223019772324855   1.9389988498951845  0.3110526931576576\n",
       "3322773930696321792  88.8050736770331  7.332371472206583    2.264014834476311  1.0772755505138008\n",
       "3322773724537890944 88.81241651540533  7.327864052479726 -0.36003627434304625  -6.393939291541333\n",
       "3322773930696322176 88.80128682574824  7.334292036448643                   --                  --\n",
       "3322774171213468288 88.85926451433244  7.347883547366655                   --                  --\n",
       "3322774549172100864 88.83436553681659  7.381718098527705  -2.8346862156210197 -10.041670801563173\n",
       "3322774480453643776 88.84560455437382   7.37235454153855  -2.3607769454630194  0.3119094236284546\n",
       "3322774549173120768 88.83656567295009  7.379145614749243   1.1879010806834702  0.8015608679926151\n",
       "3322774102494018816 88.80206135956955  7.352773486341117 -0.44875204757926507 0.06388813412223136\n",
       "3322774480453644544 88.84518455090614  7.369528614293598   1.0487255252218055 -3.2216341675741775\n",
       "3322774102495010432 88.79716654349421  7.352131803476284                   --                  --\n",
       "3322773896336588288 88.79204096615393   7.32650520319297   -2.032795831142071   3.667053981953014\n",
       "3322774514810855168 88.82561554658879  7.370396362874608    2.050310050020124  -2.049474519300541\n",
       "3322774377372872192 88.87582672533853  7.366118779323389   1.8127015837108136  0.7001194505950585\n",
       "3322774583531302528 88.85999672738541  7.382293774944985  -0.6623070684058512 -2.3442341897855243\n",
       "3322774652250779392  88.8524947323721  7.388899986262633   1.6972219448237815  1.6485794601186199\n",
       "3322774686610517248 88.85472110026933  7.390063397753613                   --                  --\n",
       "3322774068135266176  88.8235301157897  7.347705160722182  -3.7433564817590645 0.31886651205178934\n",
       "3322773857683389824 88.83996292432077 7.3445665848082236   2.6534378827450373   -8.01774392396456\n",
       "3322774583531304832 88.85867590829105  7.376481786908238   2.6366028834302653  1.8134315265562975\n",
       "3322773827616107136 88.83071130581675  7.335176978367904   1.4782268393421794  -4.210984137177093\n",
       "                ...               ...                ...                  ...                 ...\n",
       "3322962325141750016 88.83569860807606  7.400019185834357    2.232528951329276 0.06553486501513013\n",
       "3322963424653377664 88.79010085612454  7.440780293746405  -0.5665536634320726   1.131514742770427\n",
       "3322962325141749760 88.83734552112712  7.398926808815748  0.34393181491939895  0.5183421380693837\n",
       "3322962977978513408  88.7442802483588  7.412942724151012   -6.554444262076663   7.063793489936718\n",
       "3322962118985054336 88.75955522181778  7.395570338211606    3.725957752362235 -2.2398692278343715\n",
       "3322963184136943872  88.7309524802499   7.42480485556539    2.305446276420357 -11.326745896862978\n",
       "3322963768250764288 88.75839741640878   7.45788588719871 -0.14370138848752928  0.3586740564258863\n",
       "3322961844105448192  88.7811364509495  7.363879864829356   1.0613332159564797 0.18795846530326532\n",
       "3322963768250764416 88.75896332337557  7.456741652211021   -1.554488688177965  0.6398215226671967\n",
       "3322963768250764544 88.75644739015753  7.458717049552895   -0.908739392172609  -3.648791707469078\n",
       "3322962874901155328 88.74579056496437 7.4036175340249475   -0.930107844710157 -2.4850560444911407\n",
       "3322962977980370048 88.74646915930033  7.415190645958336                   --                  --\n",
       "3322962428222818816 88.82716236340515 7.4169370051781485                   --                  --\n",
       "3322961878466880512 88.78887396313664  7.384110794599677   1.9920323862485994  -4.998754916939092\n",
       "3322962359501481088 88.85037722908271  7.402162717053584    2.058216493648542  -2.249255322558584\n",
       "3322962393861228544 88.82108234976155    7.4044425496203   -0.916760881643629 -1.1113319053861441\n",
       "3322955831151254912 88.74620347799508  7.342728619145855   0.1559833902071379  -1.750598455959734\n",
       "3322962118983356032 88.76109637722949  7.380564308268047                   --                  --\n",
       "3322963527732585984 88.78813701704823  7.456696889759524   1.1363354614104264   -2.46251296961979\n",
       "3322961775385969024 88.79723215862369  7.359756552906535    2.121021366548921  -6.605711792572964\n",
       "3322962084625312512 88.78286756313868  7.384598632215225 -0.09350717810996487  1.3495903680571226\n",
       "3322962939322692608 88.73289357818679  7.407688975612043 -0.11002934783569704   1.002126813991455\n",
       "3322963768250760576  88.7592444035961  7.469624531882018                   --                  --\n",
       "3322963459013111808 88.80348931842845  7.438699901204871    0.800833828337078 -3.3780655466364626\n",
       "3322963355935626368 88.75528507586058  7.427795463027667                   --                  --\n",
       "3322963287216149888  88.7658164932195  7.415726370886557   2.3743092647634034 -0.5046963243400879\n",
       "3322962015904143872 88.74740822271643  7.387057037713974  -0.7201178533250112  0.5565841272341593"
      ]
     },
     "execution_count": 22,
     "metadata": {},
     "output_type": "execute_result"
    }
   ],
   "source": [
    "cone_results = cone_job.get_results()\n",
    "cone_results"
   ]
  },
  {
   "cell_type": "markdown",
   "id": "882d3732",
   "metadata": {
    "slideshow": {
     "slide_type": "slide"
    }
   },
   "source": [
    "## Adding the best neighbor table\n",
    "\n",
    "Now we are ready for the first join.\n",
    "The join operation requires two clauses:\n",
    "\n",
    "- `JOIN` specifies the name of the table we want to join with, and\n",
    "\n",
    "- `ON` specifies how we will match up rows between the tables.\n",
    "\n",
    "In this example, we join with `gaiadr2.panstarrs1_best_neighbour AS best`, which means we can refer to the best neighbor table with the\n",
    "abbreviated name `best`, which will save us a lot of typing. Similarly,\n",
    "we will be referring to the `gaiadr2.gaia_source` table by the abbreviated name `gaia`.\n",
    "\n",
    "The `ON` clause indicates that we will match up the `source_id`\n",
    "column from the Gaia table with the `source_id` column from the best\n",
    "neighbor table.\n",
    "\n",
    "```python\n",
    "neighbours_base_query = \"\"\"SELECT \n",
    "{columns}\n",
    "FROM gaiadr2.gaia_source AS gaia\n",
    "JOIN gaiadr2.panstarrs1_best_neighbour AS best\n",
    "  ON gaia.source_id = best.source_id\n",
    "WHERE 1=CONTAINS(\n",
    "  POINT(gaia.ra, gaia.dec),\n",
    "  CIRCLE(88.8, 7.4, 0.08333333))\n",
    "\"\"\"\n",
    "```"
   ]
  },
  {
   "cell_type": "code",
   "execution_count": 24,
   "id": "ee99cda1",
   "metadata": {},
   "outputs": [],
   "source": [
    "neighbours_base_query = \"\"\"SELECT \n",
    "{columns}\n",
    "FROM gaiadr2.gaia_source AS gaia\n",
    "JOIN gaiadr2.panstarrs1_best_neighbour AS best\n",
    "  ON gaia.source_id = best.source_id\n",
    "WHERE 1=CONTAINS(\n",
    "  POINT(gaia.ra, gaia.dec),\n",
    "  CIRCLE(88.8, 7.4, 0.08333333))\n",
    "\"\"\""
   ]
  },
  {
   "cell_type": "markdown",
   "id": "aee7915e",
   "metadata": {
    "slideshow": {
     "slide_type": "slide"
    }
   },
   "source": [
    "## 🔔 SQL detail\n",
    "\n",
    "In this example, the `ON` column has the same name in both tables, so we could replace the `ON` clause\n",
    "with a simpler [`USING`clause](https://docs.oracle.com/javadb/10.8.3.0/ref/rrefsqljusing.html):\n",
    "\n",
    "```sql\n",
    "USING(source_id)\n",
    "```\n"
   ]
  },
  {
   "cell_type": "markdown",
   "id": "955ead92",
   "metadata": {
    "slideshow": {
     "slide_type": "slide"
    }
   },
   "source": [
    "Now that there is more than one table involved, we can't use simple\n",
    "column names any more; we have to use **qualified column names**.\n",
    "In other words, we have to specify which table each column is in.\n",
    "The column names do not have to be the same and, in fact, in the next join they will not be.\n",
    "That is one of the reasons that we explicitly specify them.\n",
    "Here is the complete query, including the columns we want from the Gaia\n",
    "and best neighbor tables. Here you can start to see that using the abbreviated names\n",
    "is making our query easier to read and requires less typing for us. In addition to the\n",
    "spatial coordinates and proper motion, we are going to return the `best_neighbour_multiplicity`\n",
    "and `number_of_mates` columns from the `panstarrs1_best_neighbour` table in order to evaluate the quality\n",
    "of the data that we are using by evaluating the number of one-to-one matches between the catalogs.\n",
    "Recall that `best_neighbour_multiplicity` tells us the number of PanSTARRs\n",
    "objects that match a Gaia object and `number_of_mates` tells us the number of Gaia objects that match a\n",
    "PanSTARRs object.\n"
   ]
  },
  {
   "cell_type": "code",
   "execution_count": 25,
   "id": "c1a11752",
   "metadata": {
    "slideshow": {
     "slide_type": "slide"
    }
   },
   "outputs": [
    {
     "name": "stdout",
     "output_type": "stream",
     "text": [
      "SELECT \n",
      "gaia.source_id, gaia.ra, gaia.dec, gaia.pmra, gaia.pmdec, best.best_neighbour_multiplicity, best.number_of_mates\n",
      "FROM gaiadr2.gaia_source AS gaia\n",
      "JOIN gaiadr2.panstarrs1_best_neighbour AS best\n",
      "  ON gaia.source_id = best.source_id\n",
      "WHERE 1=CONTAINS(\n",
      "  POINT(gaia.ra, gaia.dec),\n",
      "  CIRCLE(88.8, 7.4, 0.08333333))\n",
      "\n"
     ]
    }
   ],
   "source": [
    "column_list_neighbours = ['gaia.source_id',\n",
    "               'gaia.ra',\n",
    "               'gaia.dec',\n",
    "               'gaia.pmra',\n",
    "               'gaia.pmdec',\n",
    "               'best.best_neighbour_multiplicity',\n",
    "               'best.number_of_mates',\n",
    "              ]\n",
    "columns = ', '.join(column_list_neighbours)\n",
    "\n",
    "neighbours_query = neighbours_base_query.format(columns=columns)\n",
    "print(neighbours_query)"
   ]
  },
  {
   "cell_type": "code",
   "execution_count": 26,
   "id": "c11cc5e3",
   "metadata": {
    "slideshow": {
     "slide_type": "-"
    }
   },
   "outputs": [
    {
     "name": "stdout",
     "output_type": "stream",
     "text": [
      "INFO: Query finished. [astroquery.utils.tap.core]\n"
     ]
    }
   ],
   "source": [
    "neighbours_job = Gaia.launch_job_async(neighbours_query)"
   ]
  },
  {
   "cell_type": "code",
   "execution_count": 27,
   "id": "a691b3b4",
   "metadata": {
    "slideshow": {
     "slide_type": "-"
    }
   },
   "outputs": [
    {
     "data": {
      "text/html": [
       "<div><i>Table length=490</i>\n",
       "<table id=\"table6038455056\" class=\"table-striped table-bordered table-condensed\">\n",
       "<thead><tr><th>SOURCE_ID</th><th>ra</th><th>dec</th><th>pmra</th><th>pmdec</th><th>best_neighbour_multiplicity</th><th>number_of_mates</th></tr></thead>\n",
       "<thead><tr><th></th><th>deg</th><th>deg</th><th>mas / yr</th><th>mas / yr</th><th></th><th></th></tr></thead>\n",
       "<thead><tr><th>int64</th><th>float64</th><th>float64</th><th>float64</th><th>float64</th><th>int16</th><th>int16</th></tr></thead>\n",
       "<tr><td>3322773965056065536</td><td>88.78178020183375</td><td>7.334936530583141</td><td>0.2980633722108194</td><td>-2.5057036964736907</td><td>1</td><td>0</td></tr>\n",
       "<tr><td>3322774068134271104</td><td>88.8206092188033</td><td>7.353158142762173</td><td>-1.1065462654445488</td><td>-1.5260889445858044</td><td>1</td><td>0</td></tr>\n",
       "<tr><td>3322773930696320512</td><td>88.80843339290348</td><td>7.334853162299928</td><td>2.6074384482375215</td><td>-0.9292104395445717</td><td>1</td><td>0</td></tr>\n",
       "<tr><td>3322774377374425728</td><td>88.86806108182265</td><td>7.371287731275939</td><td>3.9555477866915383</td><td>-3.8676624830902435</td><td>1</td><td>0</td></tr>\n",
       "<tr><td>3322773724537891456</td><td>88.81308602813434</td><td>7.32488574492059</td><td>51.34995462741039</td><td>-33.078133430952086</td><td>1</td><td>0</td></tr>\n",
       "<tr><td>3322773724537891328</td><td>88.81570329208743</td><td>7.3223019772324855</td><td>1.9389988498951845</td><td>0.3110526931576576</td><td>1</td><td>0</td></tr>\n",
       "<tr><td>3322773930696321792</td><td>88.8050736770331</td><td>7.332371472206583</td><td>2.264014834476311</td><td>1.0772755505138008</td><td>1</td><td>0</td></tr>\n",
       "<tr><td>3322773724537890944</td><td>88.81241651540533</td><td>7.327864052479726</td><td>-0.36003627434304625</td><td>-6.393939291541333</td><td>1</td><td>0</td></tr>\n",
       "<tr><td>3322773930696322176</td><td>88.80128682574824</td><td>7.334292036448643</td><td>--</td><td>--</td><td>1</td><td>0</td></tr>\n",
       "<tr><td>3322774549172100864</td><td>88.83436553681659</td><td>7.381718098527705</td><td>-2.8346862156210197</td><td>-10.041670801563173</td><td>1</td><td>0</td></tr>\n",
       "<tr><td>3322774480453643776</td><td>88.84560455437382</td><td>7.37235454153855</td><td>-2.3607769454630194</td><td>0.3119094236284546</td><td>1</td><td>0</td></tr>\n",
       "<tr><td>3322774549173120768</td><td>88.83656567295009</td><td>7.379145614749243</td><td>1.1879010806834702</td><td>0.8015608679926151</td><td>1</td><td>0</td></tr>\n",
       "<tr><td>3322774102494018816</td><td>88.80206135956955</td><td>7.352773486341117</td><td>-0.44875204757926507</td><td>0.06388813412223136</td><td>1</td><td>0</td></tr>\n",
       "<tr><td>3322774480453644544</td><td>88.84518455090614</td><td>7.369528614293598</td><td>1.0487255252218055</td><td>-3.2216341675741775</td><td>1</td><td>0</td></tr>\n",
       "<tr><td>3322773896336588288</td><td>88.79204096615393</td><td>7.32650520319297</td><td>-2.032795831142071</td><td>3.667053981953014</td><td>1</td><td>0</td></tr>\n",
       "<tr><td>3322774514810855168</td><td>88.82561554658879</td><td>7.370396362874608</td><td>2.050310050020124</td><td>-2.049474519300541</td><td>1</td><td>0</td></tr>\n",
       "<tr><td>3322774377372872192</td><td>88.87582672533853</td><td>7.366118779323389</td><td>1.8127015837108136</td><td>0.7001194505950585</td><td>1</td><td>0</td></tr>\n",
       "<tr><td>3322774583531302528</td><td>88.85999672738541</td><td>7.382293774944985</td><td>-0.6623070684058512</td><td>-2.3442341897855243</td><td>1</td><td>0</td></tr>\n",
       "<tr><td>3322774652250779392</td><td>88.8524947323721</td><td>7.388899986262633</td><td>1.6972219448237815</td><td>1.6485794601186199</td><td>1</td><td>0</td></tr>\n",
       "<tr><td>3322774686610517248</td><td>88.85472110026933</td><td>7.390063397753613</td><td>--</td><td>--</td><td>1</td><td>0</td></tr>\n",
       "<tr><td>3322774068135266176</td><td>88.8235301157897</td><td>7.347705160722182</td><td>-3.7433564817590645</td><td>0.31886651205178934</td><td>1</td><td>0</td></tr>\n",
       "<tr><td>3322773857683389824</td><td>88.83996292432077</td><td>7.3445665848082236</td><td>2.6534378827450373</td><td>-8.01774392396456</td><td>1</td><td>0</td></tr>\n",
       "<tr><td>3322774583531304832</td><td>88.85867590829105</td><td>7.376481786908238</td><td>2.6366028834302653</td><td>1.8134315265562975</td><td>1</td><td>0</td></tr>\n",
       "<tr><td>3322773827616107136</td><td>88.83071130581675</td><td>7.335176978367904</td><td>1.4782268393421794</td><td>-4.210984137177093</td><td>1</td><td>0</td></tr>\n",
       "<tr><td>3322774136854743552</td><td>88.81480617053288</td><td>7.354607718942263</td><td>0.5217125156296283</td><td>3.3456435162566915</td><td>1</td><td>0</td></tr>\n",
       "<tr><td>3322776095361335552</td><td>88.88102155925021</td><td>7.390006728734484</td><td>1.8701335786307212</td><td>-5.565160315826117</td><td>1</td><td>0</td></tr>\n",
       "<tr><td>3322776095361335808</td><td>88.87922777602664</td><td>7.39151271169661</td><td>-0.37091369063413604</td><td>0.16224149428437828</td><td>1</td><td>0</td></tr>\n",
       "<tr><td>...</td><td>...</td><td>...</td><td>...</td><td>...</td><td>...</td><td>...</td></tr>\n",
       "<tr><td>3322963699531286400</td><td>88.76722758770849</td><td>7.4528042436071855</td><td>8.736520116149917</td><td>-15.408548440263884</td><td>1</td><td>0</td></tr>\n",
       "<tr><td>3322962977978511616</td><td>88.74372755791043</td><td>7.417611996321232</td><td>--</td><td>--</td><td>1</td><td>0</td></tr>\n",
       "<tr><td>3322962393861227520</td><td>88.8285728768857</td><td>7.4045713166448035</td><td>0.7204998836614956</td><td>-0.7602296872685796</td><td>1</td><td>0</td></tr>\n",
       "<tr><td>3322962600019657856</td><td>88.81819017021749</td><td>7.413603835987014</td><td>-0.32468786432499447</td><td>3.761397953740143</td><td>1</td><td>0</td></tr>\n",
       "<tr><td>3322962977978514816</td><td>88.7396172153638</td><td>7.41357115263834</td><td>--</td><td>--</td><td>1</td><td>0</td></tr>\n",
       "<tr><td>3322962325141750016</td><td>88.83569860807606</td><td>7.400019185834357</td><td>2.232528951329276</td><td>0.06553486501513013</td><td>1</td><td>0</td></tr>\n",
       "<tr><td>3322963424653377664</td><td>88.79010085612454</td><td>7.440780293746405</td><td>-0.5665536634320726</td><td>1.131514742770427</td><td>1</td><td>0</td></tr>\n",
       "<tr><td>3322962325141749760</td><td>88.83734552112712</td><td>7.398926808815748</td><td>0.34393181491939895</td><td>0.5183421380693837</td><td>1</td><td>0</td></tr>\n",
       "<tr><td>3322962977978513408</td><td>88.7442802483588</td><td>7.412942724151012</td><td>-6.554444262076663</td><td>7.063793489936718</td><td>1</td><td>0</td></tr>\n",
       "<tr><td>3322962118985054336</td><td>88.75955522181778</td><td>7.395570338211606</td><td>3.725957752362235</td><td>-2.2398692278343715</td><td>1</td><td>0</td></tr>\n",
       "<tr><td>3322963184136943872</td><td>88.7309524802499</td><td>7.42480485556539</td><td>2.305446276420357</td><td>-11.326745896862978</td><td>1</td><td>0</td></tr>\n",
       "<tr><td>3322963768250764288</td><td>88.75839741640878</td><td>7.45788588719871</td><td>-0.14370138848752928</td><td>0.3586740564258863</td><td>1</td><td>0</td></tr>\n",
       "<tr><td>3322961844105448192</td><td>88.7811364509495</td><td>7.363879864829356</td><td>1.0613332159564797</td><td>0.18795846530326532</td><td>1</td><td>0</td></tr>\n",
       "<tr><td>3322963768250764416</td><td>88.75896332337557</td><td>7.456741652211021</td><td>-1.554488688177965</td><td>0.6398215226671967</td><td>1</td><td>0</td></tr>\n",
       "<tr><td>3322963768250764544</td><td>88.75644739015753</td><td>7.458717049552895</td><td>-0.908739392172609</td><td>-3.648791707469078</td><td>1</td><td>0</td></tr>\n",
       "<tr><td>3322962874901155328</td><td>88.74579056496437</td><td>7.4036175340249475</td><td>-0.930107844710157</td><td>-2.4850560444911407</td><td>1</td><td>0</td></tr>\n",
       "<tr><td>3322962977980370048</td><td>88.74646915930033</td><td>7.415190645958336</td><td>--</td><td>--</td><td>1</td><td>0</td></tr>\n",
       "<tr><td>3322962359501481088</td><td>88.85037722908271</td><td>7.402162717053584</td><td>2.058216493648542</td><td>-2.249255322558584</td><td>1</td><td>0</td></tr>\n",
       "<tr><td>3322962393861228544</td><td>88.82108234976155</td><td>7.4044425496203</td><td>-0.916760881643629</td><td>-1.1113319053861441</td><td>1</td><td>0</td></tr>\n",
       "<tr><td>3322955831151254912</td><td>88.74620347799508</td><td>7.342728619145855</td><td>0.1559833902071379</td><td>-1.750598455959734</td><td>1</td><td>0</td></tr>\n",
       "<tr><td>3322962118983356032</td><td>88.76109637722949</td><td>7.380564308268047</td><td>--</td><td>--</td><td>1</td><td>0</td></tr>\n",
       "<tr><td>3322963527732585984</td><td>88.78813701704823</td><td>7.456696889759524</td><td>1.1363354614104264</td><td>-2.46251296961979</td><td>1</td><td>0</td></tr>\n",
       "<tr><td>3322961775385969024</td><td>88.79723215862369</td><td>7.359756552906535</td><td>2.121021366548921</td><td>-6.605711792572964</td><td>1</td><td>0</td></tr>\n",
       "<tr><td>3322962084625312512</td><td>88.78286756313868</td><td>7.384598632215225</td><td>-0.09350717810996487</td><td>1.3495903680571226</td><td>1</td><td>0</td></tr>\n",
       "<tr><td>3322962939322692608</td><td>88.73289357818679</td><td>7.407688975612043</td><td>-0.11002934783569704</td><td>1.002126813991455</td><td>1</td><td>0</td></tr>\n",
       "<tr><td>3322963459013111808</td><td>88.80348931842845</td><td>7.438699901204871</td><td>0.800833828337078</td><td>-3.3780655466364626</td><td>1</td><td>0</td></tr>\n",
       "<tr><td>3322962015904143872</td><td>88.74740822271643</td><td>7.387057037713974</td><td>-0.7201178533250112</td><td>0.5565841272341593</td><td>1</td><td>0</td></tr>\n",
       "</table></div>"
      ],
      "text/plain": [
       "<Table length=490>\n",
       "     SOURCE_ID              ra               dec                 pmra                pmdec        best_neighbour_multiplicity number_of_mates\n",
       "                           deg               deg               mas / yr             mas / yr                                                 \n",
       "       int64             float64           float64             float64              float64                  int16                 int16     \n",
       "------------------- ----------------- ------------------ -------------------- ------------------- --------------------------- ---------------\n",
       "3322773965056065536 88.78178020183375  7.334936530583141   0.2980633722108194 -2.5057036964736907                           1               0\n",
       "3322774068134271104  88.8206092188033  7.353158142762173  -1.1065462654445488 -1.5260889445858044                           1               0\n",
       "3322773930696320512 88.80843339290348  7.334853162299928   2.6074384482375215 -0.9292104395445717                           1               0\n",
       "3322774377374425728 88.86806108182265  7.371287731275939   3.9555477866915383 -3.8676624830902435                           1               0\n",
       "3322773724537891456 88.81308602813434   7.32488574492059    51.34995462741039 -33.078133430952086                           1               0\n",
       "3322773724537891328 88.81570329208743 7.3223019772324855   1.9389988498951845  0.3110526931576576                           1               0\n",
       "3322773930696321792  88.8050736770331  7.332371472206583    2.264014834476311  1.0772755505138008                           1               0\n",
       "3322773724537890944 88.81241651540533  7.327864052479726 -0.36003627434304625  -6.393939291541333                           1               0\n",
       "3322773930696322176 88.80128682574824  7.334292036448643                   --                  --                           1               0\n",
       "3322774549172100864 88.83436553681659  7.381718098527705  -2.8346862156210197 -10.041670801563173                           1               0\n",
       "3322774480453643776 88.84560455437382   7.37235454153855  -2.3607769454630194  0.3119094236284546                           1               0\n",
       "3322774549173120768 88.83656567295009  7.379145614749243   1.1879010806834702  0.8015608679926151                           1               0\n",
       "3322774102494018816 88.80206135956955  7.352773486341117 -0.44875204757926507 0.06388813412223136                           1               0\n",
       "3322774480453644544 88.84518455090614  7.369528614293598   1.0487255252218055 -3.2216341675741775                           1               0\n",
       "3322773896336588288 88.79204096615393   7.32650520319297   -2.032795831142071   3.667053981953014                           1               0\n",
       "3322774514810855168 88.82561554658879  7.370396362874608    2.050310050020124  -2.049474519300541                           1               0\n",
       "3322774377372872192 88.87582672533853  7.366118779323389   1.8127015837108136  0.7001194505950585                           1               0\n",
       "3322774583531302528 88.85999672738541  7.382293774944985  -0.6623070684058512 -2.3442341897855243                           1               0\n",
       "3322774652250779392  88.8524947323721  7.388899986262633   1.6972219448237815  1.6485794601186199                           1               0\n",
       "3322774686610517248 88.85472110026933  7.390063397753613                   --                  --                           1               0\n",
       "3322774068135266176  88.8235301157897  7.347705160722182  -3.7433564817590645 0.31886651205178934                           1               0\n",
       "3322773857683389824 88.83996292432077 7.3445665848082236   2.6534378827450373   -8.01774392396456                           1               0\n",
       "3322774583531304832 88.85867590829105  7.376481786908238   2.6366028834302653  1.8134315265562975                           1               0\n",
       "3322773827616107136 88.83071130581675  7.335176978367904   1.4782268393421794  -4.210984137177093                           1               0\n",
       "3322774136854743552 88.81480617053288  7.354607718942263   0.5217125156296283  3.3456435162566915                           1               0\n",
       "3322776095361335552 88.88102155925021  7.390006728734484   1.8701335786307212  -5.565160315826117                           1               0\n",
       "3322776095361335808 88.87922777602664   7.39151271169661 -0.37091369063413604 0.16224149428437828                           1               0\n",
       "                ...               ...                ...                  ...                 ...                         ...             ...\n",
       "3322963699531286400 88.76722758770849 7.4528042436071855    8.736520116149917 -15.408548440263884                           1               0\n",
       "3322962977978511616 88.74372755791043  7.417611996321232                   --                  --                           1               0\n",
       "3322962393861227520  88.8285728768857 7.4045713166448035   0.7204998836614956 -0.7602296872685796                           1               0\n",
       "3322962600019657856 88.81819017021749  7.413603835987014 -0.32468786432499447   3.761397953740143                           1               0\n",
       "3322962977978514816  88.7396172153638   7.41357115263834                   --                  --                           1               0\n",
       "3322962325141750016 88.83569860807606  7.400019185834357    2.232528951329276 0.06553486501513013                           1               0\n",
       "3322963424653377664 88.79010085612454  7.440780293746405  -0.5665536634320726   1.131514742770427                           1               0\n",
       "3322962325141749760 88.83734552112712  7.398926808815748  0.34393181491939895  0.5183421380693837                           1               0\n",
       "3322962977978513408  88.7442802483588  7.412942724151012   -6.554444262076663   7.063793489936718                           1               0\n",
       "3322962118985054336 88.75955522181778  7.395570338211606    3.725957752362235 -2.2398692278343715                           1               0\n",
       "3322963184136943872  88.7309524802499   7.42480485556539    2.305446276420357 -11.326745896862978                           1               0\n",
       "3322963768250764288 88.75839741640878   7.45788588719871 -0.14370138848752928  0.3586740564258863                           1               0\n",
       "3322961844105448192  88.7811364509495  7.363879864829356   1.0613332159564797 0.18795846530326532                           1               0\n",
       "3322963768250764416 88.75896332337557  7.456741652211021   -1.554488688177965  0.6398215226671967                           1               0\n",
       "3322963768250764544 88.75644739015753  7.458717049552895   -0.908739392172609  -3.648791707469078                           1               0\n",
       "3322962874901155328 88.74579056496437 7.4036175340249475   -0.930107844710157 -2.4850560444911407                           1               0\n",
       "3322962977980370048 88.74646915930033  7.415190645958336                   --                  --                           1               0\n",
       "3322962359501481088 88.85037722908271  7.402162717053584    2.058216493648542  -2.249255322558584                           1               0\n",
       "3322962393861228544 88.82108234976155    7.4044425496203   -0.916760881643629 -1.1113319053861441                           1               0\n",
       "3322955831151254912 88.74620347799508  7.342728619145855   0.1559833902071379  -1.750598455959734                           1               0\n",
       "3322962118983356032 88.76109637722949  7.380564308268047                   --                  --                           1               0\n",
       "3322963527732585984 88.78813701704823  7.456696889759524   1.1363354614104264   -2.46251296961979                           1               0\n",
       "3322961775385969024 88.79723215862369  7.359756552906535    2.121021366548921  -6.605711792572964                           1               0\n",
       "3322962084625312512 88.78286756313868  7.384598632215225 -0.09350717810996487  1.3495903680571226                           1               0\n",
       "3322962939322692608 88.73289357818679  7.407688975612043 -0.11002934783569704   1.002126813991455                           1               0\n",
       "3322963459013111808 88.80348931842845  7.438699901204871    0.800833828337078 -3.3780655466364626                           1               0\n",
       "3322962015904143872 88.74740822271643  7.387057037713974  -0.7201178533250112  0.5565841272341593                           1               0"
      ]
     },
     "execution_count": 27,
     "metadata": {},
     "output_type": "execute_result"
    }
   ],
   "source": [
    "neighbours_results = neighbours_job.get_results()\n",
    "neighbours_results"
   ]
  },
  {
   "cell_type": "markdown",
   "id": "a4265b84",
   "metadata": {
    "slideshow": {
     "slide_type": "slide"
    }
   },
   "source": [
    "This result has fewer rows than the previous result.\n",
    "That is because there are sources in the Gaia table with no\n",
    "corresponding source in the Pan-STARRS table.\n",
    "\n",
    "By default, the result of the join only includes rows where the same\n",
    "`source_id` appears in both tables.\n",
    "This default is called an \"inner\" join because the results include\n",
    "only the intersection of the two tables.\n",
    "[You can read about the other kinds of join\n",
    "here](https://www.geeksforgeeks.org/sql-join-set-1-inner-left-right-and-full-joins/)."
   ]
  },
  {
   "cell_type": "markdown",
   "id": "2d7f5281",
   "metadata": {
    "slideshow": {
     "slide_type": "slide"
    }
   },
   "source": [
    "## <p style=\"background-color: #f5df18; padding: 10px;\"> 🛑 Adding the Pan-STARRS table (15 Minutes) </p>\n",
    "---\n",
    "\n",
    "Now we are ready to bring in the Pan-STARRS table.  Starting with the\n",
    "previous query, add a second `JOIN` clause that joins with\n",
    "`gaiadr2.panstarrs1_original_valid`, gives it the abbreviated name\n",
    "`ps`, and matches `original_ext_source_id` from the best neighbor\n",
    "table with `obj_id` from the Pan-STARRS table.\n",
    "\n",
    "Add `g_mean_psf_mag` and `i_mean_psf_mag` to the column list, and run the query.\n",
    "The result should contain 490 rows and 9 columns."
   ]
  },
  {
   "cell_type": "code",
   "execution_count": 28,
   "id": "c8da1e3c",
   "metadata": {
    "slideshow": {
     "slide_type": "-"
    }
   },
   "outputs": [
    {
     "name": "stdout",
     "output_type": "stream",
     "text": [
      "SELECT \n",
      "gaia.source_id, gaia.ra, gaia.dec, gaia.pmra, gaia.pmdec, best.best_neighbour_multiplicity, best.number_of_mates, ps.g_mean_psf_mag, ps.i_mean_psf_mag\n",
      "FROM gaiadr2.gaia_source as gaia\n",
      "JOIN gaiadr2.panstarrs1_best_neighbour as best\n",
      "  ON gaia.source_id = best.source_id\n",
      "JOIN gaiadr2.panstarrs1_original_valid as ps\n",
      "  ON best.original_ext_source_id = ps.obj_id\n",
      "WHERE 1=CONTAINS(\n",
      "  POINT(gaia.ra, gaia.dec),\n",
      "  CIRCLE(88.8, 7.4, 0.08333333))\n",
      "\n",
      "INFO: Query finished. [astroquery.utils.tap.core]\n"
     ]
    },
    {
     "data": {
      "text/html": [
       "<div><i>Table length=490</i>\n",
       "<table id=\"table6038520272\" class=\"table-striped table-bordered table-condensed\">\n",
       "<thead><tr><th>SOURCE_ID</th><th>ra</th><th>dec</th><th>pmra</th><th>pmdec</th><th>best_neighbour_multiplicity</th><th>number_of_mates</th><th>g_mean_psf_mag</th><th>i_mean_psf_mag</th></tr></thead>\n",
       "<thead><tr><th></th><th>deg</th><th>deg</th><th>mas / yr</th><th>mas / yr</th><th></th><th></th><th></th><th>mag</th></tr></thead>\n",
       "<thead><tr><th>int64</th><th>float64</th><th>float64</th><th>float64</th><th>float64</th><th>int16</th><th>int16</th><th>float64</th><th>float64</th></tr></thead>\n",
       "<tr><td>3322773965056065536</td><td>88.78178020183375</td><td>7.334936530583141</td><td>0.2980633722108194</td><td>-2.5057036964736907</td><td>1</td><td>0</td><td>19.9431991577148</td><td>17.4221992492676</td></tr>\n",
       "<tr><td>3322774068134271104</td><td>88.8206092188033</td><td>7.353158142762173</td><td>-1.1065462654445488</td><td>-1.5260889445858044</td><td>1</td><td>0</td><td>18.6212005615234</td><td>16.6007995605469</td></tr>\n",
       "<tr><td>3322773930696320512</td><td>88.80843339290348</td><td>7.334853162299928</td><td>2.6074384482375215</td><td>-0.9292104395445717</td><td>1</td><td>0</td><td>--</td><td>20.2203998565674</td></tr>\n",
       "<tr><td>3322774377374425728</td><td>88.86806108182265</td><td>7.371287731275939</td><td>3.9555477866915383</td><td>-3.8676624830902435</td><td>1</td><td>0</td><td>18.0676002502441</td><td>16.9762001037598</td></tr>\n",
       "<tr><td>3322773724537891456</td><td>88.81308602813434</td><td>7.32488574492059</td><td>51.34995462741039</td><td>-33.078133430952086</td><td>1</td><td>0</td><td>20.1907005310059</td><td>17.8700008392334</td></tr>\n",
       "<tr><td>3322773724537891328</td><td>88.81570329208743</td><td>7.3223019772324855</td><td>1.9389988498951845</td><td>0.3110526931576576</td><td>1</td><td>0</td><td>22.6308002471924</td><td>19.6004009246826</td></tr>\n",
       "<tr><td>3322773930696321792</td><td>88.8050736770331</td><td>7.332371472206583</td><td>2.264014834476311</td><td>1.0772755505138008</td><td>1</td><td>0</td><td>21.2119998931885</td><td>18.3528003692627</td></tr>\n",
       "<tr><td>3322773724537890944</td><td>88.81241651540533</td><td>7.327864052479726</td><td>-0.36003627434304625</td><td>-6.393939291541333</td><td>1</td><td>0</td><td>20.8094005584717</td><td>18.1343002319336</td></tr>\n",
       "<tr><td>3322773930696322176</td><td>88.80128682574824</td><td>7.334292036448643</td><td>--</td><td>--</td><td>1</td><td>0</td><td>19.7306003570557</td><td>--</td></tr>\n",
       "<tr><td>3322774549172100864</td><td>88.83436553681659</td><td>7.381718098527705</td><td>-2.8346862156210197</td><td>-10.041670801563173</td><td>1</td><td>0</td><td>--</td><td>16.1383991241455</td></tr>\n",
       "<tr><td>3322774480453643776</td><td>88.84560455437382</td><td>7.37235454153855</td><td>-2.3607769454630194</td><td>0.3119094236284546</td><td>1</td><td>0</td><td>16.8370990753174</td><td>15.8711004257202</td></tr>\n",
       "<tr><td>3322774549173120768</td><td>88.83656567295009</td><td>7.379145614749243</td><td>1.1879010806834702</td><td>0.8015608679926151</td><td>1</td><td>0</td><td>17.8430004119873</td><td>16.4561004638672</td></tr>\n",
       "<tr><td>3322774102494018816</td><td>88.80206135956955</td><td>7.352773486341117</td><td>-0.44875204757926507</td><td>0.06388813412223136</td><td>1</td><td>0</td><td>18.5690002441406</td><td>16.2737998962402</td></tr>\n",
       "<tr><td>3322774480453644544</td><td>88.84518455090614</td><td>7.369528614293598</td><td>1.0487255252218055</td><td>-3.2216341675741775</td><td>1</td><td>0</td><td>16.4340000152588</td><td>15.6140003204346</td></tr>\n",
       "<tr><td>3322773896336588288</td><td>88.79204096615393</td><td>7.32650520319297</td><td>-2.032795831142071</td><td>3.667053981953014</td><td>1</td><td>0</td><td>--</td><td>17.6795997619629</td></tr>\n",
       "<tr><td>3322774514810855168</td><td>88.82561554658879</td><td>7.370396362874608</td><td>2.050310050020124</td><td>-2.049474519300541</td><td>1</td><td>0</td><td>18.0564994812012</td><td>16.6308002471924</td></tr>\n",
       "<tr><td>3322774377372872192</td><td>88.87582672533853</td><td>7.366118779323389</td><td>1.8127015837108136</td><td>0.7001194505950585</td><td>1</td><td>0</td><td>--</td><td>17.7392997741699</td></tr>\n",
       "<tr><td>3322774583531302528</td><td>88.85999672738541</td><td>7.382293774944985</td><td>-0.6623070684058512</td><td>-2.3442341897855243</td><td>1</td><td>0</td><td>19.4053001403809</td><td>17.8836994171143</td></tr>\n",
       "<tr><td>3322774652250779392</td><td>88.8524947323721</td><td>7.388899986262633</td><td>1.6972219448237815</td><td>1.6485794601186199</td><td>1</td><td>0</td><td>18.7581996917725</td><td>17.5294990539551</td></tr>\n",
       "<tr><td>3322774686610517248</td><td>88.85472110026933</td><td>7.390063397753613</td><td>--</td><td>--</td><td>1</td><td>0</td><td>19.7544994354248</td><td>--</td></tr>\n",
       "<tr><td>3322774068135266176</td><td>88.8235301157897</td><td>7.347705160722182</td><td>-3.7433564817590645</td><td>0.31886651205178934</td><td>1</td><td>0</td><td>21.0417003631592</td><td>16.9669990539551</td></tr>\n",
       "<tr><td>3322773857683389824</td><td>88.83996292432077</td><td>7.3445665848082236</td><td>2.6534378827450373</td><td>-8.01774392396456</td><td>1</td><td>0</td><td>--</td><td>17.5179004669189</td></tr>\n",
       "<tr><td>3322774583531304832</td><td>88.85867590829105</td><td>7.376481786908238</td><td>2.6366028834302653</td><td>1.8134315265562975</td><td>1</td><td>0</td><td>19.9792003631592</td><td>18.3411998748779</td></tr>\n",
       "<tr><td>3322773827616107136</td><td>88.83071130581675</td><td>7.335176978367904</td><td>1.4782268393421794</td><td>-4.210984137177093</td><td>1</td><td>0</td><td>19.681999206543</td><td>17.653600692749</td></tr>\n",
       "<tr><td>3322774136854743552</td><td>88.81480617053288</td><td>7.354607718942263</td><td>0.5217125156296283</td><td>3.3456435162566915</td><td>1</td><td>0</td><td>--</td><td>17.5389995574951</td></tr>\n",
       "<tr><td>3322776095361335552</td><td>88.88102155925021</td><td>7.390006728734484</td><td>1.8701335786307212</td><td>-5.565160315826117</td><td>1</td><td>0</td><td>18.3120994567871</td><td>17.0902996063232</td></tr>\n",
       "<tr><td>3322776095361335808</td><td>88.87922777602664</td><td>7.39151271169661</td><td>-0.37091369063413604</td><td>0.16224149428437828</td><td>1</td><td>0</td><td>20.2509994506836</td><td>19.330099105835</td></tr>\n",
       "<tr><td>...</td><td>...</td><td>...</td><td>...</td><td>...</td><td>...</td><td>...</td><td>...</td><td>...</td></tr>\n",
       "<tr><td>3322963699531286400</td><td>88.76722758770849</td><td>7.4528042436071855</td><td>8.736520116149917</td><td>-15.408548440263884</td><td>1</td><td>0</td><td>--</td><td>16.7583999633789</td></tr>\n",
       "<tr><td>3322962977978511616</td><td>88.74372755791043</td><td>7.417611996321232</td><td>--</td><td>--</td><td>1</td><td>0</td><td>--</td><td>14.5177001953125</td></tr>\n",
       "<tr><td>3322962393861227520</td><td>88.8285728768857</td><td>7.4045713166448035</td><td>0.7204998836614956</td><td>-0.7602296872685796</td><td>1</td><td>0</td><td>17.0711002349854</td><td>15.0094995498657</td></tr>\n",
       "<tr><td>3322962600019657856</td><td>88.81819017021749</td><td>7.413603835987014</td><td>-0.32468786432499447</td><td>3.761397953740143</td><td>1</td><td>0</td><td>17.1599998474121</td><td>16.1068000793457</td></tr>\n",
       "<tr><td>3322962977978514816</td><td>88.7396172153638</td><td>7.41357115263834</td><td>--</td><td>--</td><td>1</td><td>0</td><td>--</td><td>--</td></tr>\n",
       "<tr><td>3322962325141750016</td><td>88.83569860807606</td><td>7.400019185834357</td><td>2.232528951329276</td><td>0.06553486501513013</td><td>1</td><td>0</td><td>18.1823997497559</td><td>15.8000001907349</td></tr>\n",
       "<tr><td>3322963424653377664</td><td>88.79010085612454</td><td>7.440780293746405</td><td>-0.5665536634320726</td><td>1.131514742770427</td><td>1</td><td>0</td><td>17.7504997253418</td><td>15.6084995269775</td></tr>\n",
       "<tr><td>3322962325141749760</td><td>88.83734552112712</td><td>7.398926808815748</td><td>0.34393181491939895</td><td>0.5183421380693837</td><td>1</td><td>0</td><td>18.7558002471924</td><td>16.7952995300293</td></tr>\n",
       "<tr><td>3322962977978513408</td><td>88.7442802483588</td><td>7.412942724151012</td><td>-6.554444262076663</td><td>7.063793489936718</td><td>1</td><td>0</td><td>18.6350002288818</td><td>17.3316993713379</td></tr>\n",
       "<tr><td>3322962118985054336</td><td>88.75955522181778</td><td>7.395570338211606</td><td>3.725957752362235</td><td>-2.2398692278343715</td><td>1</td><td>0</td><td>17.5734996795654</td><td>15.1344003677368</td></tr>\n",
       "<tr><td>3322963184136943872</td><td>88.7309524802499</td><td>7.42480485556539</td><td>2.305446276420357</td><td>-11.326745896862978</td><td>1</td><td>0</td><td>--</td><td>17.6252994537354</td></tr>\n",
       "<tr><td>3322963768250764288</td><td>88.75839741640878</td><td>7.45788588719871</td><td>-0.14370138848752928</td><td>0.3586740564258863</td><td>1</td><td>0</td><td>16.6667003631592</td><td>15.8628997802734</td></tr>\n",
       "<tr><td>3322961844105448192</td><td>88.7811364509495</td><td>7.363879864829356</td><td>1.0613332159564797</td><td>0.18795846530326532</td><td>1</td><td>0</td><td>17.8551006317139</td><td>15.9897003173828</td></tr>\n",
       "<tr><td>3322963768250764416</td><td>88.75896332337557</td><td>7.456741652211021</td><td>-1.554488688177965</td><td>0.6398215226671967</td><td>1</td><td>0</td><td>18.6905994415283</td><td>17.1597003936768</td></tr>\n",
       "<tr><td>3322963768250764544</td><td>88.75644739015753</td><td>7.458717049552895</td><td>-0.908739392172609</td><td>-3.648791707469078</td><td>1</td><td>0</td><td>18.6646995544434</td><td>16.5842990875244</td></tr>\n",
       "<tr><td>3322962874901155328</td><td>88.74579056496437</td><td>7.4036175340249475</td><td>-0.930107844710157</td><td>-2.4850560444911407</td><td>1</td><td>0</td><td>12.8884000778198</td><td>14.6667003631592</td></tr>\n",
       "<tr><td>3322962977980370048</td><td>88.74646915930033</td><td>7.415190645958336</td><td>--</td><td>--</td><td>1</td><td>0</td><td>--</td><td>--</td></tr>\n",
       "<tr><td>3322962359501481088</td><td>88.85037722908271</td><td>7.402162717053584</td><td>2.058216493648542</td><td>-2.249255322558584</td><td>1</td><td>0</td><td>17.4034996032715</td><td>15.9040002822876</td></tr>\n",
       "<tr><td>3322962393861228544</td><td>88.82108234976155</td><td>7.4044425496203</td><td>-0.916760881643629</td><td>-1.1113319053861441</td><td>1</td><td>0</td><td>--</td><td>--</td></tr>\n",
       "<tr><td>3322955831151254912</td><td>88.74620347799508</td><td>7.342728619145855</td><td>0.1559833902071379</td><td>-1.750598455959734</td><td>1</td><td>0</td><td>18.4960994720459</td><td>17.3892993927002</td></tr>\n",
       "<tr><td>3322962118983356032</td><td>88.76109637722949</td><td>7.380564308268047</td><td>--</td><td>--</td><td>1</td><td>0</td><td>18.0643997192383</td><td>16.7395000457764</td></tr>\n",
       "<tr><td>3322963527732585984</td><td>88.78813701704823</td><td>7.456696889759524</td><td>1.1363354614104264</td><td>-2.46251296961979</td><td>1</td><td>0</td><td>17.8034992218018</td><td>16.1214008331299</td></tr>\n",
       "<tr><td>3322961775385969024</td><td>88.79723215862369</td><td>7.359756552906535</td><td>2.121021366548921</td><td>-6.605711792572964</td><td>1</td><td>0</td><td>18.2070007324219</td><td>15.9947996139526</td></tr>\n",
       "<tr><td>3322962084625312512</td><td>88.78286756313868</td><td>7.384598632215225</td><td>-0.09350717810996487</td><td>1.3495903680571226</td><td>1</td><td>0</td><td>16.7978992462158</td><td>15.1180000305176</td></tr>\n",
       "<tr><td>3322962939322692608</td><td>88.73289357818679</td><td>7.407688975612043</td><td>-0.11002934783569704</td><td>1.002126813991455</td><td>1</td><td>0</td><td>17.18630027771</td><td>16.3645992279053</td></tr>\n",
       "<tr><td>3322963459013111808</td><td>88.80348931842845</td><td>7.438699901204871</td><td>0.800833828337078</td><td>-3.3780655466364626</td><td>1</td><td>0</td><td>--</td><td>16.294900894165</td></tr>\n",
       "<tr><td>3322962015904143872</td><td>88.74740822271643</td><td>7.387057037713974</td><td>-0.7201178533250112</td><td>0.5565841272341593</td><td>1</td><td>0</td><td>18.4706993103027</td><td>16.8038005828857</td></tr>\n",
       "</table></div>"
      ],
      "text/plain": [
       "<Table length=490>\n",
       "     SOURCE_ID              ra               dec                 pmra                pmdec        best_neighbour_multiplicity number_of_mates  g_mean_psf_mag   i_mean_psf_mag \n",
       "                           deg               deg               mas / yr             mas / yr                                                                         mag       \n",
       "       int64             float64           float64             float64              float64                  int16                 int16          float64          float64     \n",
       "------------------- ----------------- ------------------ -------------------- ------------------- --------------------------- --------------- ---------------- ----------------\n",
       "3322773965056065536 88.78178020183375  7.334936530583141   0.2980633722108194 -2.5057036964736907                           1               0 19.9431991577148 17.4221992492676\n",
       "3322774068134271104  88.8206092188033  7.353158142762173  -1.1065462654445488 -1.5260889445858044                           1               0 18.6212005615234 16.6007995605469\n",
       "3322773930696320512 88.80843339290348  7.334853162299928   2.6074384482375215 -0.9292104395445717                           1               0               -- 20.2203998565674\n",
       "3322774377374425728 88.86806108182265  7.371287731275939   3.9555477866915383 -3.8676624830902435                           1               0 18.0676002502441 16.9762001037598\n",
       "3322773724537891456 88.81308602813434   7.32488574492059    51.34995462741039 -33.078133430952086                           1               0 20.1907005310059 17.8700008392334\n",
       "3322773724537891328 88.81570329208743 7.3223019772324855   1.9389988498951845  0.3110526931576576                           1               0 22.6308002471924 19.6004009246826\n",
       "3322773930696321792  88.8050736770331  7.332371472206583    2.264014834476311  1.0772755505138008                           1               0 21.2119998931885 18.3528003692627\n",
       "3322773724537890944 88.81241651540533  7.327864052479726 -0.36003627434304625  -6.393939291541333                           1               0 20.8094005584717 18.1343002319336\n",
       "3322773930696322176 88.80128682574824  7.334292036448643                   --                  --                           1               0 19.7306003570557               --\n",
       "3322774549172100864 88.83436553681659  7.381718098527705  -2.8346862156210197 -10.041670801563173                           1               0               -- 16.1383991241455\n",
       "3322774480453643776 88.84560455437382   7.37235454153855  -2.3607769454630194  0.3119094236284546                           1               0 16.8370990753174 15.8711004257202\n",
       "3322774549173120768 88.83656567295009  7.379145614749243   1.1879010806834702  0.8015608679926151                           1               0 17.8430004119873 16.4561004638672\n",
       "3322774102494018816 88.80206135956955  7.352773486341117 -0.44875204757926507 0.06388813412223136                           1               0 18.5690002441406 16.2737998962402\n",
       "3322774480453644544 88.84518455090614  7.369528614293598   1.0487255252218055 -3.2216341675741775                           1               0 16.4340000152588 15.6140003204346\n",
       "3322773896336588288 88.79204096615393   7.32650520319297   -2.032795831142071   3.667053981953014                           1               0               -- 17.6795997619629\n",
       "3322774514810855168 88.82561554658879  7.370396362874608    2.050310050020124  -2.049474519300541                           1               0 18.0564994812012 16.6308002471924\n",
       "3322774377372872192 88.87582672533853  7.366118779323389   1.8127015837108136  0.7001194505950585                           1               0               -- 17.7392997741699\n",
       "3322774583531302528 88.85999672738541  7.382293774944985  -0.6623070684058512 -2.3442341897855243                           1               0 19.4053001403809 17.8836994171143\n",
       "3322774652250779392  88.8524947323721  7.388899986262633   1.6972219448237815  1.6485794601186199                           1               0 18.7581996917725 17.5294990539551\n",
       "3322774686610517248 88.85472110026933  7.390063397753613                   --                  --                           1               0 19.7544994354248               --\n",
       "3322774068135266176  88.8235301157897  7.347705160722182  -3.7433564817590645 0.31886651205178934                           1               0 21.0417003631592 16.9669990539551\n",
       "3322773857683389824 88.83996292432077 7.3445665848082236   2.6534378827450373   -8.01774392396456                           1               0               -- 17.5179004669189\n",
       "3322774583531304832 88.85867590829105  7.376481786908238   2.6366028834302653  1.8134315265562975                           1               0 19.9792003631592 18.3411998748779\n",
       "3322773827616107136 88.83071130581675  7.335176978367904   1.4782268393421794  -4.210984137177093                           1               0  19.681999206543  17.653600692749\n",
       "3322774136854743552 88.81480617053288  7.354607718942263   0.5217125156296283  3.3456435162566915                           1               0               -- 17.5389995574951\n",
       "3322776095361335552 88.88102155925021  7.390006728734484   1.8701335786307212  -5.565160315826117                           1               0 18.3120994567871 17.0902996063232\n",
       "3322776095361335808 88.87922777602664   7.39151271169661 -0.37091369063413604 0.16224149428437828                           1               0 20.2509994506836  19.330099105835\n",
       "                ...               ...                ...                  ...                 ...                         ...             ...              ...              ...\n",
       "3322963699531286400 88.76722758770849 7.4528042436071855    8.736520116149917 -15.408548440263884                           1               0               -- 16.7583999633789\n",
       "3322962977978511616 88.74372755791043  7.417611996321232                   --                  --                           1               0               -- 14.5177001953125\n",
       "3322962393861227520  88.8285728768857 7.4045713166448035   0.7204998836614956 -0.7602296872685796                           1               0 17.0711002349854 15.0094995498657\n",
       "3322962600019657856 88.81819017021749  7.413603835987014 -0.32468786432499447   3.761397953740143                           1               0 17.1599998474121 16.1068000793457\n",
       "3322962977978514816  88.7396172153638   7.41357115263834                   --                  --                           1               0               --               --\n",
       "3322962325141750016 88.83569860807606  7.400019185834357    2.232528951329276 0.06553486501513013                           1               0 18.1823997497559 15.8000001907349\n",
       "3322963424653377664 88.79010085612454  7.440780293746405  -0.5665536634320726   1.131514742770427                           1               0 17.7504997253418 15.6084995269775\n",
       "3322962325141749760 88.83734552112712  7.398926808815748  0.34393181491939895  0.5183421380693837                           1               0 18.7558002471924 16.7952995300293\n",
       "3322962977978513408  88.7442802483588  7.412942724151012   -6.554444262076663   7.063793489936718                           1               0 18.6350002288818 17.3316993713379\n",
       "3322962118985054336 88.75955522181778  7.395570338211606    3.725957752362235 -2.2398692278343715                           1               0 17.5734996795654 15.1344003677368\n",
       "3322963184136943872  88.7309524802499   7.42480485556539    2.305446276420357 -11.326745896862978                           1               0               -- 17.6252994537354\n",
       "3322963768250764288 88.75839741640878   7.45788588719871 -0.14370138848752928  0.3586740564258863                           1               0 16.6667003631592 15.8628997802734\n",
       "3322961844105448192  88.7811364509495  7.363879864829356   1.0613332159564797 0.18795846530326532                           1               0 17.8551006317139 15.9897003173828\n",
       "3322963768250764416 88.75896332337557  7.456741652211021   -1.554488688177965  0.6398215226671967                           1               0 18.6905994415283 17.1597003936768\n",
       "3322963768250764544 88.75644739015753  7.458717049552895   -0.908739392172609  -3.648791707469078                           1               0 18.6646995544434 16.5842990875244\n",
       "3322962874901155328 88.74579056496437 7.4036175340249475   -0.930107844710157 -2.4850560444911407                           1               0 12.8884000778198 14.6667003631592\n",
       "3322962977980370048 88.74646915930033  7.415190645958336                   --                  --                           1               0               --               --\n",
       "3322962359501481088 88.85037722908271  7.402162717053584    2.058216493648542  -2.249255322558584                           1               0 17.4034996032715 15.9040002822876\n",
       "3322962393861228544 88.82108234976155    7.4044425496203   -0.916760881643629 -1.1113319053861441                           1               0               --               --\n",
       "3322955831151254912 88.74620347799508  7.342728619145855   0.1559833902071379  -1.750598455959734                           1               0 18.4960994720459 17.3892993927002\n",
       "3322962118983356032 88.76109637722949  7.380564308268047                   --                  --                           1               0 18.0643997192383 16.7395000457764\n",
       "3322963527732585984 88.78813701704823  7.456696889759524   1.1363354614104264   -2.46251296961979                           1               0 17.8034992218018 16.1214008331299\n",
       "3322961775385969024 88.79723215862369  7.359756552906535    2.121021366548921  -6.605711792572964                           1               0 18.2070007324219 15.9947996139526\n",
       "3322962084625312512 88.78286756313868  7.384598632215225 -0.09350717810996487  1.3495903680571226                           1               0 16.7978992462158 15.1180000305176\n",
       "3322962939322692608 88.73289357818679  7.407688975612043 -0.11002934783569704   1.002126813991455                           1               0   17.18630027771 16.3645992279053\n",
       "3322963459013111808 88.80348931842845  7.438699901204871    0.800833828337078 -3.3780655466364626                           1               0               --  16.294900894165\n",
       "3322962015904143872 88.74740822271643  7.387057037713974  -0.7201178533250112  0.5565841272341593                           1               0 18.4706993103027 16.8038005828857"
      ]
     },
     "execution_count": 28,
     "metadata": {},
     "output_type": "execute_result"
    }
   ],
   "source": [
    "join_solution_query_base = \"\"\"SELECT \n",
    "{columns}\n",
    "FROM gaiadr2.gaia_source as gaia\n",
    "JOIN gaiadr2.panstarrs1_best_neighbour as best\n",
    "  ON gaia.source_id = best.source_id\n",
    "JOIN gaiadr2.panstarrs1_original_valid as ps\n",
    "  ON best.original_ext_source_id = ps.obj_id\n",
    "WHERE 1=CONTAINS(\n",
    "  POINT(gaia.ra, gaia.dec),\n",
    "  CIRCLE(88.8, 7.4, 0.08333333))\n",
    "\"\"\"\n",
    "\n",
    "column_list = ['gaia.source_id',\n",
    "               'gaia.ra',\n",
    "               'gaia.dec',\n",
    "               'gaia.pmra',\n",
    "               'gaia.pmdec',\n",
    "               'best.best_neighbour_multiplicity',\n",
    "               'best.number_of_mates',\n",
    "               'ps.g_mean_psf_mag',\n",
    "               'ps.i_mean_psf_mag']\n",
    "\n",
    "columns = ', '.join(column_list)\n",
    "\n",
    "join_solution_query = join_solution_query_base.format(columns=columns)\n",
    "print(join_solution_query)\n",
    "\n",
    "join_solution_job = Gaia.launch_job_async(join_solution_query)\n",
    "join_solution_results = join_solution_job.get_results()\n",
    "join_solution_results"
   ]
  },
  {
   "cell_type": "markdown",
   "id": "07942e8a",
   "metadata": {
    "slideshow": {
     "slide_type": "slide"
    }
   },
   "source": [
    "## Selecting by coordinates and proper motion\n",
    "\n",
    "We are now going to replace the cone search with the GD-1 selection that we built in previous episodes.\n",
    "We will start by making sure that our previous query works, then add in the `JOIN`.\n",
    "Now we will bring in the `WHERE` clause from the previous episode, which\n",
    "selects sources based on parallax, BP-RP color, sky coordinates, and\n",
    "proper motion.\n",
    "\n",
    "Here is `candidate_coord_pm_query_base` from the previous episode.\n",
    "\n",
    "```python\n",
    "candidate_coord_pm_query_base = \"\"\"SELECT \n",
    "{columns}\n",
    "FROM gaiadr2.gaia_source\n",
    "WHERE parallax < 1\n",
    "  AND bp_rp BETWEEN -0.75 AND 2 \n",
    "  AND 1 = CONTAINS(POINT(ra, dec), \n",
    "                   POLYGON({sky_point_list}))\n",
    "  AND pmra BETWEEN {pmra_min} AND  {pmra_max}\n",
    "  AND pmdec BETWEEN {pmdec_min} AND {pmdec_max}\n",
    "\"\"\"\n",
    "```\n",
    "\n",
    "Now we can assemble the query using the sky point list and proper motion range we compiled in episode 5."
   ]
  },
  {
   "cell_type": "code",
   "execution_count": 29,
   "id": "6844d856",
   "metadata": {
    "slideshow": {
     "slide_type": "-"
    }
   },
   "outputs": [],
   "source": [
    "candidate_coord_pm_query_base = \"\"\"SELECT \n",
    "{columns}\n",
    "FROM gaiadr2.gaia_source\n",
    "WHERE parallax < 1\n",
    "  AND bp_rp BETWEEN -0.75 AND 2 \n",
    "  AND 1 = CONTAINS(POINT(ra, dec), \n",
    "                   POLYGON({sky_point_list}))\n",
    "  AND pmra BETWEEN {pmra_min} AND  {pmra_max}\n",
    "  AND pmdec BETWEEN {pmdec_min} AND {pmdec_max}\n",
    "\"\"\""
   ]
  },
  {
   "cell_type": "code",
   "execution_count": 30,
   "id": "d3b0d5fa",
   "metadata": {},
   "outputs": [
    {
     "name": "stdout",
     "output_type": "stream",
     "text": [
      "SELECT \n",
      "source_id, ra, dec, pmra, pmdec\n",
      "FROM gaiadr2.gaia_source\n",
      "WHERE parallax < 1\n",
      "  AND bp_rp BETWEEN -0.75 AND 2 \n",
      "  AND 1 = CONTAINS(POINT(ra, dec), \n",
      "                   POLYGON(135.306, 8.39862, 126.51, 13.4449, 163.017, 54.2424, 172.933, 46.4726, 135.306, 8.39862))\n",
      "  AND pmra BETWEEN -6.7 AND  -3\n",
      "  AND pmdec BETWEEN -14.31 AND -11.2\n",
      "\n"
     ]
    }
   ],
   "source": [
    "columns = 'source_id, ra, dec, pmra, pmdec'\n",
    "\n",
    "candidate_coord_pm_query = candidate_coord_pm_query_base.format(columns=columns,\n",
    "                            sky_point_list=sky_point_list,\n",
    "                            pmra_min=pmra_min,\n",
    "                            pmra_max=pmra_max,\n",
    "                            pmdec_min=pmdec_min,\n",
    "                            pmdec_max=pmdec_max)\n",
    "\n",
    "print(candidate_coord_pm_query)"
   ]
  },
  {
   "cell_type": "markdown",
   "id": "52345aa7",
   "metadata": {
    "slideshow": {
     "slide_type": "slide"
    }
   },
   "source": [
    "We run it to make sure we are starting with a working query."
   ]
  },
  {
   "cell_type": "code",
   "execution_count": 31,
   "id": "896a3087",
   "metadata": {
    "slideshow": {
     "slide_type": "-"
    }
   },
   "outputs": [
    {
     "name": "stdout",
     "output_type": "stream",
     "text": [
      "INFO: Query finished. [astroquery.utils.tap.core]\n"
     ]
    }
   ],
   "source": [
    "candidate_coord_pm_job = Gaia.launch_job_async(candidate_coord_pm_query)"
   ]
  },
  {
   "cell_type": "code",
   "execution_count": 32,
   "id": "60175d0b",
   "metadata": {
    "slideshow": {
     "slide_type": "-"
    }
   },
   "outputs": [
    {
     "data": {
      "text/html": [
       "<div><i>Table length=8409</i>\n",
       "<table id=\"table6038463440\" class=\"table-striped table-bordered table-condensed\">\n",
       "<thead><tr><th>SOURCE_ID</th><th>ra</th><th>dec</th><th>pmra</th><th>pmdec</th></tr></thead>\n",
       "<thead><tr><th></th><th>deg</th><th>deg</th><th>mas / yr</th><th>mas / yr</th></tr></thead>\n",
       "<thead><tr><th>int64</th><th>float64</th><th>float64</th><th>float64</th><th>float64</th></tr></thead>\n",
       "<tr><td>635559124339440000</td><td>137.58671691646745</td><td>19.1965441084838</td><td>-3.770521900009566</td><td>-12.490481778113859</td></tr>\n",
       "<tr><td>635860218726658176</td><td>138.5187065217173</td><td>19.09233926905897</td><td>-5.941679495793577</td><td>-11.346409129876392</td></tr>\n",
       "<tr><td>635674126383965568</td><td>138.8428741026386</td><td>19.031798198627634</td><td>-3.8970011609340207</td><td>-12.702779525389634</td></tr>\n",
       "<tr><td>635614168640132864</td><td>139.59219748145836</td><td>18.807955539071433</td><td>-3.309602916796381</td><td>-13.708904908478631</td></tr>\n",
       "<tr><td>635523531945742592</td><td>137.1439946395468</td><td>18.845588306639165</td><td>-3.9036930274876585</td><td>-11.634380634589444</td></tr>\n",
       "<tr><td>635821843194387840</td><td>139.88094034815086</td><td>19.62185456718988</td><td>-6.544201177153814</td><td>-12.55978220563274</td></tr>\n",
       "<tr><td>635821980633338624</td><td>139.9080311966138</td><td>19.638380144036358</td><td>-4.045391546526935</td><td>-11.966804519012523</td></tr>\n",
       "<tr><td>635551706931167104</td><td>138.04665586038192</td><td>19.248909662830798</td><td>-6.224595114220405</td><td>-12.224246333795001</td></tr>\n",
       "<tr><td>635518889086133376</td><td>137.2374229207837</td><td>18.7428630711791</td><td>-3.3186800714801046</td><td>-12.710314902969365</td></tr>\n",
       "<tr><td>635694467349085056</td><td>139.06182692172476</td><td>19.06744237567232</td><td>-3.0674889862265795</td><td>-11.4175270465402</td></tr>\n",
       "<tr><td>635580294233854464</td><td>139.44127324251306</td><td>18.465885053778493</td><td>-4.45999663908048</td><td>-12.803774239857741</td></tr>\n",
       "<tr><td>635616539462230400</td><td>139.748253143578</td><td>18.816930070010645</td><td>-3.764502655934397</td><td>-12.666704724957508</td></tr>\n",
       "<tr><td>635500953302563712</td><td>137.47969724876137</td><td>18.589457707583403</td><td>-3.194660711570627</td><td>-12.948727714046099</td></tr>\n",
       "<tr><td>635602039653056000</td><td>139.18302300031363</td><td>18.676799274156195</td><td>-3.2671051023818496</td><td>-11.67647140219096</td></tr>\n",
       "<tr><td>635598607974369792</td><td>139.20920023089508</td><td>18.624132868942702</td><td>-6.124445176881091</td><td>-12.833824027100611</td></tr>\n",
       "<tr><td>635641592007083520</td><td>138.9435110321861</td><td>18.610237707999868</td><td>-3.791613660715501</td><td>-12.86516451722882</td></tr>\n",
       "<tr><td>635684266802035712</td><td>139.17274439579512</td><td>19.1082761558709</td><td>-4.407971465526585</td><td>-12.764441856174665</td></tr>\n",
       "<tr><td>635517274178016640</td><td>137.62830801613939</td><td>18.948650358846358</td><td>-6.458846314736528</td><td>-14.097877513517432</td></tr>\n",
       "<tr><td>635567989151968768</td><td>137.75105460698236</td><td>19.360622924269965</td><td>-4.049188459972398</td><td>-13.042919254110684</td></tr>\n",
       "<tr><td>635684713478631168</td><td>139.2153044491863</td><td>19.123124494930934</td><td>-4.673761807938962</td><td>-13.267407044908088</td></tr>\n",
       "<tr><td>635850945892748672</td><td>139.86542888472115</td><td>20.011312663154804</td><td>-3.786655365804428</td><td>-14.28415600718206</td></tr>\n",
       "<tr><td>635600532119713664</td><td>139.22869949616816</td><td>18.685939084485494</td><td>-3.9742788217925122</td><td>-12.342426623384245</td></tr>\n",
       "<tr><td>635765596302772736</td><td>140.04734758156198</td><td>19.406283833620364</td><td>-3.763802631170119</td><td>-11.516039849448802</td></tr>\n",
       "<tr><td>635620701286087424</td><td>139.6862822364899</td><td>18.881113520820737</td><td>-3.3558418379356474</td><td>-12.925224236202752</td></tr>\n",
       "<tr><td>635740204456128896</td><td>139.98945182326287</td><td>19.27694306975315</td><td>-3.5117247908083487</td><td>-11.701695774207732</td></tr>\n",
       "<tr><td>635745388481042176</td><td>139.8715426069336</td><td>19.36739472431735</td><td>-6.340716495553142</td><td>-12.869365081573445</td></tr>\n",
       "<tr><td>635832357274302208</td><td>140.1301532714717</td><td>19.821917114066117</td><td>-4.055981152196889</td><td>-13.024120128840579</td></tr>\n",
       "<tr><td>...</td><td>...</td><td>...</td><td>...</td><td>...</td></tr>\n",
       "<tr><td>612155542602200320</td><td>135.20109084925417</td><td>18.103606015244775</td><td>-6.422352169700357</td><td>-12.928463131169904</td></tr>\n",
       "<tr><td>611955946881374592</td><td>135.14820752449802</td><td>17.426270937913014</td><td>-6.0227363644651914</td><td>-11.459642240642477</td></tr>\n",
       "<tr><td>612177975215097344</td><td>135.6728203544916</td><td>18.358672432072115</td><td>-3.5237019478067504</td><td>-13.537073125325234</td></tr>\n",
       "<tr><td>612107606473231232</td><td>136.03756654138073</td><td>18.041440826429486</td><td>-5.549022301194379</td><td>-12.160712951323148</td></tr>\n",
       "<tr><td>612037924926682112</td><td>134.84445715353883</td><td>17.72323933639592</td><td>-4.269227658500999</td><td>-11.49981064531317</td></tr>\n",
       "<tr><td>612270407207552640</td><td>134.70922405308724</td><td>18.29130802076034</td><td>-4.839939127439933</td><td>-11.725099676826757</td></tr>\n",
       "<tr><td>612396060770518272</td><td>135.66282067939025</td><td>18.872963154416713</td><td>-3.455761609183599</td><td>-12.332495145103103</td></tr>\n",
       "<tr><td>612352320823604736</td><td>135.05170970268458</td><td>18.367568252433077</td><td>-3.2660135577877325</td><td>-13.132871599475262</td></tr>\n",
       "<tr><td>612298513473304832</td><td>133.82579580380593</td><td>18.159803159638237</td><td>-5.861963949768889</td><td>-12.495341645865798</td></tr>\n",
       "<tr><td>612293801893070336</td><td>134.03825657189788</td><td>18.27764173308171</td><td>-3.574361477916855</td><td>-12.258128571136387</td></tr>\n",
       "<tr><td>612273598367630336</td><td>134.73890936409913</td><td>18.39525638928566</td><td>-4.197194976472134</td><td>-12.089671503223522</td></tr>\n",
       "<tr><td>612332147361443072</td><td>134.14584721363653</td><td>18.45685585044513</td><td>-6.234287981021865</td><td>-11.500464195695072</td></tr>\n",
       "<tr><td>612462271986231296</td><td>134.9599408616454</td><td>19.07904462210976</td><td>-4.169826189644795</td><td>-12.63348432947053</td></tr>\n",
       "<tr><td>612426744016802432</td><td>134.68522805061076</td><td>18.77090626983678</td><td>-3.7691372464459554</td><td>-12.889167493118862</td></tr>\n",
       "<tr><td>612331739340341760</td><td>134.12176196902254</td><td>18.42768872157865</td><td>-3.9894012386388735</td><td>-12.60504410507441</td></tr>\n",
       "<tr><td>612326413580946048</td><td>134.5787935695462</td><td>18.551330119364216</td><td>-3.8135224001480146</td><td>-13.016210119297499</td></tr>\n",
       "<tr><td>612443644711947136</td><td>134.44394029344804</td><td>18.869896081600455</td><td>-6.02535420019159</td><td>-14.291597299266629</td></tr>\n",
       "<tr><td>612310294567826816</td><td>133.89784136868883</td><td>18.401507519623106</td><td>-6.3316689266051585</td><td>-13.885657460991828</td></tr>\n",
       "<tr><td>612485911486166656</td><td>134.96582769047063</td><td>19.309965857307247</td><td>-4.519325315774155</td><td>-11.998725329569156</td></tr>\n",
       "<tr><td>612386332668697600</td><td>135.45701048323093</td><td>18.63266345155342</td><td>-5.07684899854408</td><td>-12.436641304786672</td></tr>\n",
       "<tr><td>612343490370838912</td><td>134.36416721887917</td><td>18.68095523752155</td><td>-6.416708671503682</td><td>-14.250482858917739</td></tr>\n",
       "<tr><td>612296172717818624</td><td>133.80060286960668</td><td>18.08186533343457</td><td>-6.112792578821885</td><td>-12.50750861370402</td></tr>\n",
       "<tr><td>612394926899159168</td><td>135.51997060013844</td><td>18.817675531233004</td><td>-3.9968965218753763</td><td>-13.526821099431533</td></tr>\n",
       "<tr><td>612428870024913152</td><td>134.8384242853297</td><td>18.758253070693225</td><td>-4.0022333299353825</td><td>-14.247379430659198</td></tr>\n",
       "<tr><td>612256418500423168</td><td>134.90752972739924</td><td>18.280596648172743</td><td>-6.109836304219565</td><td>-12.145212331165776</td></tr>\n",
       "<tr><td>612429144902815104</td><td>134.77293979509543</td><td>18.73628415871413</td><td>-5.257085979310591</td><td>-13.962312685889454</td></tr>\n",
       "<tr><td>612288755307666176</td><td>134.08278872856837</td><td>18.13927459636531</td><td>-3.8479413100280895</td><td>-11.333935410818446</td></tr>\n",
       "</table></div>"
      ],
      "text/plain": [
       "<Table length=8409>\n",
       "    SOURCE_ID              ra                dec                 pmra               pmdec       \n",
       "                          deg                deg               mas / yr            mas / yr     \n",
       "      int64             float64            float64             float64             float64      \n",
       "------------------ ------------------ ------------------ ------------------- -------------------\n",
       "635559124339440000 137.58671691646745   19.1965441084838  -3.770521900009566 -12.490481778113859\n",
       "635860218726658176  138.5187065217173  19.09233926905897  -5.941679495793577 -11.346409129876392\n",
       "635674126383965568  138.8428741026386 19.031798198627634 -3.8970011609340207 -12.702779525389634\n",
       "635614168640132864 139.59219748145836 18.807955539071433  -3.309602916796381 -13.708904908478631\n",
       "635523531945742592  137.1439946395468 18.845588306639165 -3.9036930274876585 -11.634380634589444\n",
       "635821843194387840 139.88094034815086  19.62185456718988  -6.544201177153814  -12.55978220563274\n",
       "635821980633338624  139.9080311966138 19.638380144036358  -4.045391546526935 -11.966804519012523\n",
       "635551706931167104 138.04665586038192 19.248909662830798  -6.224595114220405 -12.224246333795001\n",
       "635518889086133376  137.2374229207837   18.7428630711791 -3.3186800714801046 -12.710314902969365\n",
       "635694467349085056 139.06182692172476  19.06744237567232 -3.0674889862265795   -11.4175270465402\n",
       "635580294233854464 139.44127324251306 18.465885053778493   -4.45999663908048 -12.803774239857741\n",
       "635616539462230400   139.748253143578 18.816930070010645  -3.764502655934397 -12.666704724957508\n",
       "635500953302563712 137.47969724876137 18.589457707583403  -3.194660711570627 -12.948727714046099\n",
       "635602039653056000 139.18302300031363 18.676799274156195 -3.2671051023818496  -11.67647140219096\n",
       "635598607974369792 139.20920023089508 18.624132868942702  -6.124445176881091 -12.833824027100611\n",
       "635641592007083520  138.9435110321861 18.610237707999868  -3.791613660715501  -12.86516451722882\n",
       "635684266802035712 139.17274439579512   19.1082761558709  -4.407971465526585 -12.764441856174665\n",
       "635517274178016640 137.62830801613939 18.948650358846358  -6.458846314736528 -14.097877513517432\n",
       "635567989151968768 137.75105460698236 19.360622924269965  -4.049188459972398 -13.042919254110684\n",
       "635684713478631168  139.2153044491863 19.123124494930934  -4.673761807938962 -13.267407044908088\n",
       "635850945892748672 139.86542888472115 20.011312663154804  -3.786655365804428  -14.28415600718206\n",
       "635600532119713664 139.22869949616816 18.685939084485494 -3.9742788217925122 -12.342426623384245\n",
       "635765596302772736 140.04734758156198 19.406283833620364  -3.763802631170119 -11.516039849448802\n",
       "635620701286087424  139.6862822364899 18.881113520820737 -3.3558418379356474 -12.925224236202752\n",
       "635740204456128896 139.98945182326287  19.27694306975315 -3.5117247908083487 -11.701695774207732\n",
       "635745388481042176  139.8715426069336  19.36739472431735  -6.340716495553142 -12.869365081573445\n",
       "635832357274302208  140.1301532714717 19.821917114066117  -4.055981152196889 -13.024120128840579\n",
       "               ...                ...                ...                 ...                 ...\n",
       "612155542602200320 135.20109084925417 18.103606015244775  -6.422352169700357 -12.928463131169904\n",
       "611955946881374592 135.14820752449802 17.426270937913014 -6.0227363644651914 -11.459642240642477\n",
       "612177975215097344  135.6728203544916 18.358672432072115 -3.5237019478067504 -13.537073125325234\n",
       "612107606473231232 136.03756654138073 18.041440826429486  -5.549022301194379 -12.160712951323148\n",
       "612037924926682112 134.84445715353883  17.72323933639592  -4.269227658500999  -11.49981064531317\n",
       "612270407207552640 134.70922405308724  18.29130802076034  -4.839939127439933 -11.725099676826757\n",
       "612396060770518272 135.66282067939025 18.872963154416713  -3.455761609183599 -12.332495145103103\n",
       "612352320823604736 135.05170970268458 18.367568252433077 -3.2660135577877325 -13.132871599475262\n",
       "612298513473304832 133.82579580380593 18.159803159638237  -5.861963949768889 -12.495341645865798\n",
       "612293801893070336 134.03825657189788  18.27764173308171  -3.574361477916855 -12.258128571136387\n",
       "612273598367630336 134.73890936409913  18.39525638928566  -4.197194976472134 -12.089671503223522\n",
       "612332147361443072 134.14584721363653  18.45685585044513  -6.234287981021865 -11.500464195695072\n",
       "612462271986231296  134.9599408616454  19.07904462210976  -4.169826189644795  -12.63348432947053\n",
       "612426744016802432 134.68522805061076  18.77090626983678 -3.7691372464459554 -12.889167493118862\n",
       "612331739340341760 134.12176196902254  18.42768872157865 -3.9894012386388735  -12.60504410507441\n",
       "612326413580946048  134.5787935695462 18.551330119364216 -3.8135224001480146 -13.016210119297499\n",
       "612443644711947136 134.44394029344804 18.869896081600455   -6.02535420019159 -14.291597299266629\n",
       "612310294567826816 133.89784136868883 18.401507519623106 -6.3316689266051585 -13.885657460991828\n",
       "612485911486166656 134.96582769047063 19.309965857307247  -4.519325315774155 -11.998725329569156\n",
       "612386332668697600 135.45701048323093  18.63266345155342   -5.07684899854408 -12.436641304786672\n",
       "612343490370838912 134.36416721887917  18.68095523752155  -6.416708671503682 -14.250482858917739\n",
       "612296172717818624 133.80060286960668  18.08186533343457  -6.112792578821885  -12.50750861370402\n",
       "612394926899159168 135.51997060013844 18.817675531233004 -3.9968965218753763 -13.526821099431533\n",
       "612428870024913152  134.8384242853297 18.758253070693225 -4.0022333299353825 -14.247379430659198\n",
       "612256418500423168 134.90752972739924 18.280596648172743  -6.109836304219565 -12.145212331165776\n",
       "612429144902815104 134.77293979509543  18.73628415871413  -5.257085979310591 -13.962312685889454\n",
       "612288755307666176 134.08278872856837  18.13927459636531 -3.8479413100280895 -11.333935410818446"
      ]
     },
     "execution_count": 32,
     "metadata": {},
     "output_type": "execute_result"
    }
   ],
   "source": [
    "candidate_coord_pm_results = candidate_coord_pm_job.get_results()\n",
    "candidate_coord_pm_results"
   ]
  },
  {
   "cell_type": "markdown",
   "id": "c1f32e68",
   "metadata": {
    "slideshow": {
     "slide_type": "slide"
    }
   },
   "source": [
    "## <p style=\"background-color: #f5df18; padding: 10px;\"> 🛑 Exercise (15 Minutes) </p>\n",
    "---\n",
    "\n",
    "Create a new query base called `candidate_join_query_base` that combines the `WHERE`\n",
    "clauses from the previous query with the `JOIN` clauses for the best\n",
    "neighbor and Pan-STARRS tables.\n",
    "Format the query base using the column names in `column_list`, and\n",
    "call the result `candidate_join_query`.\n",
    "\n",
    "Hint: Make sure you use qualified column names everywhere!\n",
    "\n",
    "Run your query and download the results.  The table you get should\n",
    "have 4300 rows and 9 columns."
   ]
  },
  {
   "cell_type": "code",
   "execution_count": 33,
   "id": "409804e1",
   "metadata": {
    "slideshow": {
     "slide_type": "-"
    }
   },
   "outputs": [
    {
     "name": "stdout",
     "output_type": "stream",
     "text": [
      "\n",
      "SELECT \n",
      "gaia.source_id, gaia.ra, gaia.dec, gaia.pmra, gaia.pmdec, best.best_neighbour_multiplicity, best.number_of_mates, ps.g_mean_psf_mag, ps.i_mean_psf_mag\n",
      "FROM gaiadr2.gaia_source as gaia\n",
      "JOIN gaiadr2.panstarrs1_best_neighbour as best\n",
      "  ON gaia.source_id = best.source_id\n",
      "JOIN gaiadr2.panstarrs1_original_valid as ps\n",
      "  ON best.original_ext_source_id = ps.obj_id\n",
      "WHERE parallax < 1\n",
      "  AND bp_rp BETWEEN -0.75 AND 2 \n",
      "  AND 1 = CONTAINS(POINT(gaia.ra, gaia.dec), \n",
      "                   POLYGON(135.306, 8.39862, 126.51, 13.4449, 163.017, 54.2424, 172.933, 46.4726, 135.306, 8.39862))\n",
      "  AND gaia.pmra BETWEEN -6.7 AND  -3\n",
      "  AND gaia.pmdec BETWEEN -14.31 AND -11.2\n",
      "\n",
      "INFO: Query finished. [astroquery.utils.tap.core]\n"
     ]
    },
    {
     "data": {
      "text/html": [
       "<div><i>Table length=4300</i>\n",
       "<table id=\"table6038578896\" class=\"table-striped table-bordered table-condensed\">\n",
       "<thead><tr><th>SOURCE_ID</th><th>ra</th><th>dec</th><th>pmra</th><th>pmdec</th><th>best_neighbour_multiplicity</th><th>number_of_mates</th><th>g_mean_psf_mag</th><th>i_mean_psf_mag</th></tr></thead>\n",
       "<thead><tr><th></th><th>deg</th><th>deg</th><th>mas / yr</th><th>mas / yr</th><th></th><th></th><th></th><th>mag</th></tr></thead>\n",
       "<thead><tr><th>int64</th><th>float64</th><th>float64</th><th>float64</th><th>float64</th><th>int16</th><th>int16</th><th>float64</th><th>float64</th></tr></thead>\n",
       "<tr><td>635860218726658176</td><td>138.5187065217173</td><td>19.09233926905897</td><td>-5.941679495793577</td><td>-11.346409129876392</td><td>1</td><td>0</td><td>17.8978004455566</td><td>17.5174007415771</td></tr>\n",
       "<tr><td>635674126383965568</td><td>138.8428741026386</td><td>19.031798198627634</td><td>-3.8970011609340207</td><td>-12.702779525389634</td><td>1</td><td>0</td><td>19.2873001098633</td><td>17.6781005859375</td></tr>\n",
       "<tr><td>635614168640132864</td><td>139.59219748145836</td><td>18.807955539071433</td><td>-3.309602916796381</td><td>-13.708904908478631</td><td>1</td><td>0</td><td>16.1515998840332</td><td>14.6662998199463</td></tr>\n",
       "<tr><td>635694467349085056</td><td>139.06182692172476</td><td>19.06744237567232</td><td>-3.0674889862265795</td><td>-11.4175270465402</td><td>1</td><td>0</td><td>18.6709003448486</td><td>17.9841995239258</td></tr>\n",
       "<tr><td>635598607974369792</td><td>139.20920023089508</td><td>18.624132868942702</td><td>-6.124445176881091</td><td>-12.833824027100611</td><td>1</td><td>0</td><td>16.5223999023438</td><td>16.1375007629395</td></tr>\n",
       "<tr><td>635850945892748672</td><td>139.86542888472115</td><td>20.011312663154804</td><td>-3.786655365804428</td><td>-14.28415600718206</td><td>1</td><td>0</td><td>16.5174999237061</td><td>16.0450000762939</td></tr>\n",
       "<tr><td>635600532119713664</td><td>139.22869949616816</td><td>18.685939084485494</td><td>-3.9742788217925122</td><td>-12.342426623384245</td><td>1</td><td>0</td><td>20.4505996704102</td><td>19.5177001953125</td></tr>\n",
       "<tr><td>635620701286087424</td><td>139.6862822364899</td><td>18.881113520820737</td><td>-3.3558418379356474</td><td>-12.925224236202752</td><td>1</td><td>0</td><td>20.4113006591797</td><td>19.5032997131348</td></tr>\n",
       "<tr><td>635740204456128896</td><td>139.98945182326287</td><td>19.27694306975315</td><td>-3.5117247908083487</td><td>-11.701695774207732</td><td>1</td><td>0</td><td>15.8247995376587</td><td>15.2495002746582</td></tr>\n",
       "<tr><td>635832357274302208</td><td>140.1301532714717</td><td>19.821917114066117</td><td>-4.055981152196889</td><td>-13.024120128840579</td><td>1</td><td>0</td><td>20.4759006500244</td><td>18.8048000335693</td></tr>\n",
       "<tr><td>635593552797727488</td><td>139.00070003257937</td><td>18.55590290002122</td><td>-4.306131802878042</td><td>-12.54195022893678</td><td>1</td><td>0</td><td>20.6061992645264</td><td>18.8955001831055</td></tr>\n",
       "<tr><td>635667426234947072</td><td>138.89750064175942</td><td>18.872682695055357</td><td>-5.157042432354842</td><td>-13.24136226011474</td><td>1</td><td>0</td><td>19.8118000030518</td><td>17.9141998291016</td></tr>\n",
       "<tr><td>635518889086125824</td><td>137.23270610620415</td><td>18.74116628926074</td><td>-4.465384592407755</td><td>-13.20837869612681</td><td>1</td><td>0</td><td>22.1968994140625</td><td>19.910400390625</td></tr>\n",
       "<tr><td>635672030439913088</td><td>138.75338841789633</td><td>18.969538186235194</td><td>-4.310354022480536</td><td>-11.845731163540334</td><td>1</td><td>0</td><td>19.6383991241455</td><td>18.4435005187988</td></tr>\n",
       "<tr><td>635830463193424256</td><td>139.999132312995</td><td>19.762252802658715</td><td>-6.584792205166673</td><td>-13.091381925525644</td><td>1</td><td>0</td><td>19.7700996398926</td><td>18.096399307251</td></tr>\n",
       "<tr><td>635785284432814976</td><td>139.59848476562738</td><td>19.319710275491186</td><td>-6.519450594788479</td><td>-11.639426669946435</td><td>1</td><td>0</td><td>16.1424999237061</td><td>15.5797004699707</td></tr>\n",
       "<tr><td>635724566479972736</td><td>140.03325344702228</td><td>19.111862759270924</td><td>-4.767166134623367</td><td>-12.434745246609625</td><td>1</td><td>0</td><td>20.1289005279541</td><td>19.3251991271973</td></tr>\n",
       "<tr><td>684873285997511296</td><td>134.88835179418987</td><td>20.655998230170262</td><td>-3.4510057757046795</td><td>-11.202379479112448</td><td>1</td><td>0</td><td>21.3948993682861</td><td>19.3689994812012</td></tr>\n",
       "<tr><td>685024434488326272</td><td>135.26750694153745</td><td>21.32978771858751</td><td>-3.493039346292803</td><td>-11.886709712504283</td><td>1</td><td>0</td><td>21.8339996337891</td><td>19.5998001098633</td></tr>\n",
       "<tr><td>684830748640819584</td><td>134.28791635558173</td><td>20.23756727640676</td><td>-3.447457257260076</td><td>-11.823538684067834</td><td>1</td><td>0</td><td>20.1674003601074</td><td>18.5657997131348</td></tr>\n",
       "<tr><td>684981794050890112</td><td>135.18601905163942</td><td>21.05967626130748</td><td>-6.033689927570171</td><td>-12.517240458286869</td><td>1</td><td>0</td><td>20.4491004943848</td><td>19.5289001464844</td></tr>\n",
       "<tr><td>684986054658475136</td><td>135.1428773636368</td><td>21.132546804102386</td><td>-3.509377243053634</td><td>-12.049333793806184</td><td>1</td><td>0</td><td>21.8782005310059</td><td>19.5070991516113</td></tr>\n",
       "<tr><td>684913589970140672</td><td>133.98003614910255</td><td>20.749285431402672</td><td>-3.130918122518674</td><td>-11.240945699695397</td><td>1</td><td>0</td><td>21.2791996002197</td><td>19.0611991882324</td></tr>\n",
       "<tr><td>684803432648962560</td><td>135.83688960274822</td><td>20.97933429083311</td><td>-4.280002304980531</td><td>-11.788020730636974</td><td>1</td><td>0</td><td>18.793399810791</td><td>17.979700088501</td></tr>\n",
       "<tr><td>684814840083402368</td><td>135.5740819778293</td><td>21.09833192210813</td><td>-6.685126547696213</td><td>-13.870119921625518</td><td>1</td><td>0</td><td>22.2570991516113</td><td>20.0949993133545</td></tr>\n",
       "<tr><td>685129162968638336</td><td>136.1551658190732</td><td>20.991541294334386</td><td>-3.0909962858601587</td><td>-11.490598054681108</td><td>1</td><td>0</td><td>19.3090000152588</td><td>18.0970001220703</td></tr>\n",
       "<tr><td>684978117560364800</td><td>134.9973709473519</td><td>21.058033339733743</td><td>-4.475133764029229</td><td>-12.586542940124332</td><td>1</td><td>0</td><td>21.3616008758545</td><td>19.8092002868652</td></tr>\n",
       "<tr><td>...</td><td>...</td><td>...</td><td>...</td><td>...</td><td>...</td><td>...</td><td>...</td><td>...</td></tr>\n",
       "<tr><td>611907465290896000</td><td>133.81273851571845</td><td>17.965159813342073</td><td>-3.408412171462047</td><td>-12.306375084907</td><td>1</td><td>0</td><td>20.1709003448486</td><td>18.3451995849609</td></tr>\n",
       "<tr><td>612048507721053056</td><td>135.21626129830955</td><td>17.97987120320854</td><td>-5.38160741437035</td><td>-12.153892750825657</td><td>1</td><td>0</td><td>19.6849002838135</td><td>17.9766006469727</td></tr>\n",
       "<tr><td>611988859215089280</td><td>135.4136461764135</td><td>17.646530202399166</td><td>-4.619517319148936</td><td>-13.969074676071514</td><td>1</td><td>0</td><td>18.3931999206543</td><td>18.0636005401611</td></tr>\n",
       "<tr><td>612195979718061056</td><td>135.39824069926027</td><td>18.496161925603083</td><td>-4.620321528546468</td><td>-12.155852249709683</td><td>1</td><td>0</td><td>18.381799697876</td><td>17.4955997467041</td></tr>\n",
       "<tr><td>611969274164118656</td><td>135.35821218584607</td><td>17.498451377320183</td><td>-4.9682983432829095</td><td>-13.791196593415584</td><td>1</td><td>0</td><td>19.5526008605957</td><td>17.9817008972168</td></tr>\n",
       "<tr><td>611914332943501440</td><td>133.3504183162534</td><td>17.901004407813595</td><td>-3.1826599256061505</td><td>-13.927050367229805</td><td>1</td><td>0</td><td>--</td><td>20.0070991516113</td></tr>\n",
       "<tr><td>612121693963540992</td><td>135.8248091489321</td><td>18.14209215751836</td><td>-3.5537501111129846</td><td>-12.79028040593537</td><td>1</td><td>0</td><td>18.903600692749</td><td>18.5638999938965</td></tr>\n",
       "<tr><td>611992329548741632</td><td>135.42759027470075</td><td>17.77810084752976</td><td>-3.7561031141698153</td><td>-11.247616467119482</td><td>1</td><td>0</td><td>19.592399597168</td><td>19.0261993408203</td></tr>\n",
       "<tr><td>612189726245710080</td><td>135.79995226708698</td><td>18.603990592107365</td><td>-4.777019356546885</td><td>-14.17683128792537</td><td>1</td><td>0</td><td>19.4675006866455</td><td>17.5645999908447</td></tr>\n",
       "<tr><td>611955946881374592</td><td>135.14820752449802</td><td>17.426270937913014</td><td>-6.0227363644651914</td><td>-11.459642240642477</td><td>1</td><td>0</td><td>18.0610008239746</td><td>16.3957996368408</td></tr>\n",
       "<tr><td>612177975215097344</td><td>135.6728203544916</td><td>18.358672432072115</td><td>-3.5237019478067504</td><td>-13.537073125325234</td><td>1</td><td>0</td><td>16.8976993560791</td><td>16.3057994842529</td></tr>\n",
       "<tr><td>612107606473231232</td><td>136.03756654138073</td><td>18.041440826429486</td><td>-5.549022301194379</td><td>-12.160712951323148</td><td>1</td><td>0</td><td>21.0408000946045</td><td>20.3073997497559</td></tr>\n",
       "<tr><td>612037924926682112</td><td>134.84445715353883</td><td>17.72323933639592</td><td>-4.269227658500999</td><td>-11.49981064531317</td><td>1</td><td>0</td><td>20.3553009033203</td><td>19.8570003509521</td></tr>\n",
       "<tr><td>612396060770518272</td><td>135.66282067939025</td><td>18.872963154416713</td><td>-3.455761609183599</td><td>-12.332495145103103</td><td>1</td><td>0</td><td>15.4359998703003</td><td>14.8150997161865</td></tr>\n",
       "<tr><td>612352320823604736</td><td>135.05170970268458</td><td>18.367568252433077</td><td>-3.2660135577877325</td><td>-13.132871599475262</td><td>1</td><td>0</td><td>15.1206998825073</td><td>14.8166999816895</td></tr>\n",
       "<tr><td>612298513473304832</td><td>133.82579580380593</td><td>18.159803159638237</td><td>-5.861963949768889</td><td>-12.495341645865798</td><td>1</td><td>0</td><td>16.0358009338379</td><td>15.3699998855591</td></tr>\n",
       "<tr><td>612273598367630336</td><td>134.73890936409913</td><td>18.39525638928566</td><td>-4.197194976472134</td><td>-12.089671503223522</td><td>1</td><td>0</td><td>21.1516990661621</td><td>19.441499710083</td></tr>\n",
       "<tr><td>612332147361443072</td><td>134.14584721363653</td><td>18.45685585044513</td><td>-6.234287981021865</td><td>-11.500464195695072</td><td>1</td><td>0</td><td>21.3848991394043</td><td>20.3076000213623</td></tr>\n",
       "<tr><td>612426744016802432</td><td>134.68522805061076</td><td>18.77090626983678</td><td>-3.7691372464459554</td><td>-12.889167493118862</td><td>1</td><td>0</td><td>17.8281002044678</td><td>17.4281005859375</td></tr>\n",
       "<tr><td>612331739340341760</td><td>134.12176196902254</td><td>18.42768872157865</td><td>-3.9894012386388735</td><td>-12.60504410507441</td><td>1</td><td>0</td><td>21.8656997680664</td><td>19.5223007202148</td></tr>\n",
       "<tr><td>612443644711947136</td><td>134.44394029344804</td><td>18.869896081600455</td><td>-6.02535420019159</td><td>-14.291597299266629</td><td>1</td><td>0</td><td>19.1832008361816</td><td>--</td></tr>\n",
       "<tr><td>612310294567826816</td><td>133.89784136868883</td><td>18.401507519623106</td><td>-6.3316689266051585</td><td>-13.885657460991828</td><td>1</td><td>0</td><td>22.1788997650146</td><td>19.9708003997803</td></tr>\n",
       "<tr><td>612386332668697600</td><td>135.45701048323093</td><td>18.63266345155342</td><td>-5.07684899854408</td><td>-12.436641304786672</td><td>1</td><td>0</td><td>19.3792991638184</td><td>17.9923000335693</td></tr>\n",
       "<tr><td>612296172717818624</td><td>133.80060286960668</td><td>18.08186533343457</td><td>-6.112792578821885</td><td>-12.50750861370402</td><td>1</td><td>0</td><td>17.4944000244141</td><td>16.926700592041</td></tr>\n",
       "<tr><td>612394926899159168</td><td>135.51997060013844</td><td>18.817675531233004</td><td>-3.9968965218753763</td><td>-13.526821099431533</td><td>1</td><td>0</td><td>16.4414005279541</td><td>15.8212003707886</td></tr>\n",
       "<tr><td>612256418500423168</td><td>134.90752972739924</td><td>18.280596648172743</td><td>-6.109836304219565</td><td>-12.145212331165776</td><td>1</td><td>0</td><td>20.8715991973877</td><td>19.9612007141113</td></tr>\n",
       "<tr><td>612288755307666176</td><td>134.08278872856837</td><td>18.13927459636531</td><td>-3.8479413100280895</td><td>-11.333935410818446</td><td>1</td><td>0</td><td>17.3677005767822</td><td>16.392599105835</td></tr>\n",
       "</table></div>"
      ],
      "text/plain": [
       "<Table length=4300>\n",
       "    SOURCE_ID              ra                dec                 pmra               pmdec        best_neighbour_multiplicity number_of_mates  g_mean_psf_mag   i_mean_psf_mag \n",
       "                          deg                deg               mas / yr            mas / yr                                                                         mag       \n",
       "      int64             float64            float64             float64             float64                  int16                 int16          float64          float64     \n",
       "------------------ ------------------ ------------------ ------------------- ------------------- --------------------------- --------------- ---------------- ----------------\n",
       "635860218726658176  138.5187065217173  19.09233926905897  -5.941679495793577 -11.346409129876392                           1               0 17.8978004455566 17.5174007415771\n",
       "635674126383965568  138.8428741026386 19.031798198627634 -3.8970011609340207 -12.702779525389634                           1               0 19.2873001098633 17.6781005859375\n",
       "635614168640132864 139.59219748145836 18.807955539071433  -3.309602916796381 -13.708904908478631                           1               0 16.1515998840332 14.6662998199463\n",
       "635694467349085056 139.06182692172476  19.06744237567232 -3.0674889862265795   -11.4175270465402                           1               0 18.6709003448486 17.9841995239258\n",
       "635598607974369792 139.20920023089508 18.624132868942702  -6.124445176881091 -12.833824027100611                           1               0 16.5223999023438 16.1375007629395\n",
       "635850945892748672 139.86542888472115 20.011312663154804  -3.786655365804428  -14.28415600718206                           1               0 16.5174999237061 16.0450000762939\n",
       "635600532119713664 139.22869949616816 18.685939084485494 -3.9742788217925122 -12.342426623384245                           1               0 20.4505996704102 19.5177001953125\n",
       "635620701286087424  139.6862822364899 18.881113520820737 -3.3558418379356474 -12.925224236202752                           1               0 20.4113006591797 19.5032997131348\n",
       "635740204456128896 139.98945182326287  19.27694306975315 -3.5117247908083487 -11.701695774207732                           1               0 15.8247995376587 15.2495002746582\n",
       "635832357274302208  140.1301532714717 19.821917114066117  -4.055981152196889 -13.024120128840579                           1               0 20.4759006500244 18.8048000335693\n",
       "635593552797727488 139.00070003257937  18.55590290002122  -4.306131802878042  -12.54195022893678                           1               0 20.6061992645264 18.8955001831055\n",
       "635667426234947072 138.89750064175942 18.872682695055357  -5.157042432354842  -13.24136226011474                           1               0 19.8118000030518 17.9141998291016\n",
       "635518889086125824 137.23270610620415  18.74116628926074  -4.465384592407755  -13.20837869612681                           1               0 22.1968994140625  19.910400390625\n",
       "635672030439913088 138.75338841789633 18.969538186235194  -4.310354022480536 -11.845731163540334                           1               0 19.6383991241455 18.4435005187988\n",
       "635830463193424256   139.999132312995 19.762252802658715  -6.584792205166673 -13.091381925525644                           1               0 19.7700996398926  18.096399307251\n",
       "635785284432814976 139.59848476562738 19.319710275491186  -6.519450594788479 -11.639426669946435                           1               0 16.1424999237061 15.5797004699707\n",
       "635724566479972736 140.03325344702228 19.111862759270924  -4.767166134623367 -12.434745246609625                           1               0 20.1289005279541 19.3251991271973\n",
       "684873285997511296 134.88835179418987 20.655998230170262 -3.4510057757046795 -11.202379479112448                           1               0 21.3948993682861 19.3689994812012\n",
       "685024434488326272 135.26750694153745  21.32978771858751  -3.493039346292803 -11.886709712504283                           1               0 21.8339996337891 19.5998001098633\n",
       "684830748640819584 134.28791635558173  20.23756727640676  -3.447457257260076 -11.823538684067834                           1               0 20.1674003601074 18.5657997131348\n",
       "684981794050890112 135.18601905163942  21.05967626130748  -6.033689927570171 -12.517240458286869                           1               0 20.4491004943848 19.5289001464844\n",
       "684986054658475136  135.1428773636368 21.132546804102386  -3.509377243053634 -12.049333793806184                           1               0 21.8782005310059 19.5070991516113\n",
       "684913589970140672 133.98003614910255 20.749285431402672  -3.130918122518674 -11.240945699695397                           1               0 21.2791996002197 19.0611991882324\n",
       "684803432648962560 135.83688960274822  20.97933429083311  -4.280002304980531 -11.788020730636974                           1               0  18.793399810791  17.979700088501\n",
       "684814840083402368  135.5740819778293  21.09833192210813  -6.685126547696213 -13.870119921625518                           1               0 22.2570991516113 20.0949993133545\n",
       "685129162968638336  136.1551658190732 20.991541294334386 -3.0909962858601587 -11.490598054681108                           1               0 19.3090000152588 18.0970001220703\n",
       "684978117560364800  134.9973709473519 21.058033339733743  -4.475133764029229 -12.586542940124332                           1               0 21.3616008758545 19.8092002868652\n",
       "               ...                ...                ...                 ...                 ...                         ...             ...              ...              ...\n",
       "611907465290896000 133.81273851571845 17.965159813342073  -3.408412171462047    -12.306375084907                           1               0 20.1709003448486 18.3451995849609\n",
       "612048507721053056 135.21626129830955  17.97987120320854   -5.38160741437035 -12.153892750825657                           1               0 19.6849002838135 17.9766006469727\n",
       "611988859215089280  135.4136461764135 17.646530202399166  -4.619517319148936 -13.969074676071514                           1               0 18.3931999206543 18.0636005401611\n",
       "612195979718061056 135.39824069926027 18.496161925603083  -4.620321528546468 -12.155852249709683                           1               0  18.381799697876 17.4955997467041\n",
       "611969274164118656 135.35821218584607 17.498451377320183 -4.9682983432829095 -13.791196593415584                           1               0 19.5526008605957 17.9817008972168\n",
       "611914332943501440  133.3504183162534 17.901004407813595 -3.1826599256061505 -13.927050367229805                           1               0               -- 20.0070991516113\n",
       "612121693963540992  135.8248091489321  18.14209215751836 -3.5537501111129846  -12.79028040593537                           1               0  18.903600692749 18.5638999938965\n",
       "611992329548741632 135.42759027470075  17.77810084752976 -3.7561031141698153 -11.247616467119482                           1               0  19.592399597168 19.0261993408203\n",
       "612189726245710080 135.79995226708698 18.603990592107365  -4.777019356546885  -14.17683128792537                           1               0 19.4675006866455 17.5645999908447\n",
       "611955946881374592 135.14820752449802 17.426270937913014 -6.0227363644651914 -11.459642240642477                           1               0 18.0610008239746 16.3957996368408\n",
       "612177975215097344  135.6728203544916 18.358672432072115 -3.5237019478067504 -13.537073125325234                           1               0 16.8976993560791 16.3057994842529\n",
       "612107606473231232 136.03756654138073 18.041440826429486  -5.549022301194379 -12.160712951323148                           1               0 21.0408000946045 20.3073997497559\n",
       "612037924926682112 134.84445715353883  17.72323933639592  -4.269227658500999  -11.49981064531317                           1               0 20.3553009033203 19.8570003509521\n",
       "612396060770518272 135.66282067939025 18.872963154416713  -3.455761609183599 -12.332495145103103                           1               0 15.4359998703003 14.8150997161865\n",
       "612352320823604736 135.05170970268458 18.367568252433077 -3.2660135577877325 -13.132871599475262                           1               0 15.1206998825073 14.8166999816895\n",
       "612298513473304832 133.82579580380593 18.159803159638237  -5.861963949768889 -12.495341645865798                           1               0 16.0358009338379 15.3699998855591\n",
       "612273598367630336 134.73890936409913  18.39525638928566  -4.197194976472134 -12.089671503223522                           1               0 21.1516990661621  19.441499710083\n",
       "612332147361443072 134.14584721363653  18.45685585044513  -6.234287981021865 -11.500464195695072                           1               0 21.3848991394043 20.3076000213623\n",
       "612426744016802432 134.68522805061076  18.77090626983678 -3.7691372464459554 -12.889167493118862                           1               0 17.8281002044678 17.4281005859375\n",
       "612331739340341760 134.12176196902254  18.42768872157865 -3.9894012386388735  -12.60504410507441                           1               0 21.8656997680664 19.5223007202148\n",
       "612443644711947136 134.44394029344804 18.869896081600455   -6.02535420019159 -14.291597299266629                           1               0 19.1832008361816               --\n",
       "612310294567826816 133.89784136868883 18.401507519623106 -6.3316689266051585 -13.885657460991828                           1               0 22.1788997650146 19.9708003997803\n",
       "612386332668697600 135.45701048323093  18.63266345155342   -5.07684899854408 -12.436641304786672                           1               0 19.3792991638184 17.9923000335693\n",
       "612296172717818624 133.80060286960668  18.08186533343457  -6.112792578821885  -12.50750861370402                           1               0 17.4944000244141  16.926700592041\n",
       "612394926899159168 135.51997060013844 18.817675531233004 -3.9968965218753763 -13.526821099431533                           1               0 16.4414005279541 15.8212003707886\n",
       "612256418500423168 134.90752972739924 18.280596648172743  -6.109836304219565 -12.145212331165776                           1               0 20.8715991973877 19.9612007141113\n",
       "612288755307666176 134.08278872856837  18.13927459636531 -3.8479413100280895 -11.333935410818446                           1               0 17.3677005767822  16.392599105835"
      ]
     },
     "execution_count": 33,
     "metadata": {},
     "output_type": "execute_result"
    }
   ],
   "source": [
    "candidate_join_query_base = \"\"\"\n",
    "SELECT \n",
    "{columns}\n",
    "FROM gaiadr2.gaia_source as gaia\n",
    "JOIN gaiadr2.panstarrs1_best_neighbour as best\n",
    "  ON gaia.source_id = best.source_id\n",
    "JOIN gaiadr2.panstarrs1_original_valid as ps\n",
    "  ON best.original_ext_source_id = ps.obj_id\n",
    "WHERE parallax < 1\n",
    "  AND bp_rp BETWEEN -0.75 AND 2 \n",
    "  AND 1 = CONTAINS(POINT(gaia.ra, gaia.dec), \n",
    "                   POLYGON({sky_point_list}))\n",
    "  AND gaia.pmra BETWEEN {pmra_min} AND  {pmra_max}\n",
    "  AND gaia.pmdec BETWEEN {pmdec_min} AND {pmdec_max}\n",
    "\"\"\"\n",
    "\n",
    "columns = ', '.join(column_list)\n",
    "\n",
    "candidate_join_query = candidate_join_query_base.format(columns=columns,\n",
    "                            sky_point_list= sky_point_list,\n",
    "                            pmra_min=pmra_min,\n",
    "                            pmra_max=pmra_max,\n",
    "                            pmdec_min=pmdec_min,\n",
    "                            pmdec_max=pmdec_max)\n",
    "print(candidate_join_query)\n",
    "\n",
    "\n",
    "candidate_join_job = Gaia.launch_job_async(candidate_join_query)\n",
    "candidate_table = candidate_join_job.get_results()\n",
    "candidate_table"
   ]
  },
  {
   "cell_type": "markdown",
   "id": "9fdd959c",
   "metadata": {
    "slideshow": {
     "slide_type": "slide"
    }
   },
   "source": [
    "# Checking the match\n",
    "---\n",
    "\n",
    "To get more information about the matching process, we can inspect\n",
    "`best_neighbour_multiplicity`, which indicates for each star in Gaia\n",
    "how many stars in Pan-STARRS are equally likely matches."
   ]
  },
  {
   "cell_type": "code",
   "execution_count": 34,
   "id": "b1857b17",
   "metadata": {
    "scrolled": true,
    "slideshow": {
     "slide_type": "-"
    }
   },
   "outputs": [
    {
     "data": {
      "text/html": [
       "&lt;MaskedColumn name=&apos;best_neighbour_multiplicity&apos; dtype=&apos;int16&apos; description=&apos;Number of neighbours with same probability as best neighbour&apos; length=4300&gt;\n",
       "<table>\n",
       "<tr><td>1</td></tr>\n",
       "<tr><td>1</td></tr>\n",
       "<tr><td>1</td></tr>\n",
       "<tr><td>1</td></tr>\n",
       "<tr><td>1</td></tr>\n",
       "<tr><td>1</td></tr>\n",
       "<tr><td>1</td></tr>\n",
       "<tr><td>1</td></tr>\n",
       "<tr><td>1</td></tr>\n",
       "<tr><td>1</td></tr>\n",
       "<tr><td>1</td></tr>\n",
       "<tr><td>1</td></tr>\n",
       "<tr><td>1</td></tr>\n",
       "<tr><td>1</td></tr>\n",
       "<tr><td>1</td></tr>\n",
       "<tr><td>1</td></tr>\n",
       "<tr><td>1</td></tr>\n",
       "<tr><td>1</td></tr>\n",
       "<tr><td>1</td></tr>\n",
       "<tr><td>1</td></tr>\n",
       "<tr><td>1</td></tr>\n",
       "<tr><td>1</td></tr>\n",
       "<tr><td>1</td></tr>\n",
       "<tr><td>1</td></tr>\n",
       "<tr><td>1</td></tr>\n",
       "<tr><td>1</td></tr>\n",
       "<tr><td>1</td></tr>\n",
       "<tr><td>1</td></tr>\n",
       "<tr><td>1</td></tr>\n",
       "<tr><td>1</td></tr>\n",
       "<tr><td>...</td></tr>\n",
       "<tr><td>1</td></tr>\n",
       "<tr><td>1</td></tr>\n",
       "<tr><td>1</td></tr>\n",
       "<tr><td>1</td></tr>\n",
       "<tr><td>1</td></tr>\n",
       "<tr><td>1</td></tr>\n",
       "<tr><td>1</td></tr>\n",
       "<tr><td>1</td></tr>\n",
       "<tr><td>1</td></tr>\n",
       "<tr><td>1</td></tr>\n",
       "<tr><td>1</td></tr>\n",
       "<tr><td>1</td></tr>\n",
       "<tr><td>1</td></tr>\n",
       "<tr><td>1</td></tr>\n",
       "<tr><td>1</td></tr>\n",
       "<tr><td>1</td></tr>\n",
       "<tr><td>1</td></tr>\n",
       "<tr><td>1</td></tr>\n",
       "<tr><td>1</td></tr>\n",
       "<tr><td>1</td></tr>\n",
       "<tr><td>1</td></tr>\n",
       "<tr><td>1</td></tr>\n",
       "<tr><td>1</td></tr>\n",
       "<tr><td>1</td></tr>\n",
       "<tr><td>1</td></tr>\n",
       "<tr><td>1</td></tr>\n",
       "<tr><td>1</td></tr>\n",
       "<tr><td>1</td></tr>\n",
       "<tr><td>1</td></tr>\n",
       "</table>"
      ],
      "text/plain": [
       "<MaskedColumn name='best_neighbour_multiplicity' dtype='int16' description='Number of neighbours with same probability as best neighbour' length=4300>\n",
       "  1\n",
       "  1\n",
       "  1\n",
       "  1\n",
       "  1\n",
       "  1\n",
       "  1\n",
       "  1\n",
       "  1\n",
       "  1\n",
       "  1\n",
       "  1\n",
       "  1\n",
       "  1\n",
       "  1\n",
       "  1\n",
       "  1\n",
       "  1\n",
       "  1\n",
       "  1\n",
       "  1\n",
       "  1\n",
       "  1\n",
       "  1\n",
       "  1\n",
       "  1\n",
       "  1\n",
       "  1\n",
       "  1\n",
       "  1\n",
       "...\n",
       "  1\n",
       "  1\n",
       "  1\n",
       "  1\n",
       "  1\n",
       "  1\n",
       "  1\n",
       "  1\n",
       "  1\n",
       "  1\n",
       "  1\n",
       "  1\n",
       "  1\n",
       "  1\n",
       "  1\n",
       "  1\n",
       "  1\n",
       "  1\n",
       "  1\n",
       "  1\n",
       "  1\n",
       "  1\n",
       "  1\n",
       "  1\n",
       "  1\n",
       "  1\n",
       "  1\n",
       "  1\n",
       "  1"
      ]
     },
     "execution_count": 34,
     "metadata": {},
     "output_type": "execute_result"
    }
   ],
   "source": [
    "candidate_table['best_neighbour_multiplicity']"
   ]
  },
  {
   "cell_type": "markdown",
   "id": "45124f5a",
   "metadata": {
    "slideshow": {
     "slide_type": "slide"
    }
   },
   "source": [
    "Most of the values are `1`, which is good; that means\n",
    "that for each candidate star we have identified exactly one source in\n",
    "Pan-STARRS that is likely to be the same star.\n",
    "\n",
    "To check whether there are any values other than `1`, we can convert\n",
    "this column to a Pandas `Series` and use `describe`, which we saw in\n",
    "in episode 3.\n",
    "\n",
    "```python\n",
    "multiplicity = pd.Series(candidate_table['best_neighbour_multiplicity'])\n",
    "multiplicity.describe()\n",
    "```\n",
    "\n",
    "```output\n",
    "count    4300.0\n",
    "mean        1.0\n",
    "std         0.0\n",
    "min         1.0\n",
    "25%         1.0\n",
    "50%         1.0\n",
    "75%         1.0\n",
    "max         1.0\n",
    "dtype: float64\n",
    "```\n",
    "\n",
    "In fact, `1` is the only value in the `Series`, so every candidate\n",
    "star has a single best match."
   ]
  },
  {
   "cell_type": "markdown",
   "id": "d888af8c",
   "metadata": {
    "slideshow": {
     "slide_type": "slide"
    }
   },
   "source": [
    "## 🔔 Numpy Mask Warning\n",
    "\n",
    "You may see a warning that ends with the following phrase:\n",
    "\n",
    "`site-packages/numpy/lib/function_base.py:4650:`\n",
    "\n",
    "`UserWarning: Warning: 'partition' will ignore the 'mask' of the MaskedColumn.`\n",
    "`arr.partition(`\n",
    "\n",
    "This is because astroquery is returning a table with masked columns (which are really fancy masked numpy arrays).\n",
    "When we turn this column into a pandas Series, it maintains its mask. Describe calls numpy functions to perform statistics.\n",
    "Numpy recently implemented this warning to let you know that the mask is not being considered in the calculation\n",
    "its performing.\n"
   ]
  },
  {
   "cell_type": "markdown",
   "id": "ac14141b",
   "metadata": {
    "slideshow": {
     "slide_type": "slide"
    }
   },
   "source": [
    "Similarly, `number_of_mates` indicates the number of *other* stars in\n",
    "Gaia that match with the same star in Pan-STARRS."
   ]
  },
  {
   "cell_type": "code",
   "execution_count": 35,
   "id": "e049764e",
   "metadata": {},
   "outputs": [
    {
     "name": "stderr",
     "output_type": "stream",
     "text": [
      "/Users/tb/anaconda3/lib/python3.11/site-packages/numpy/lib/function_base.py:4824: UserWarning: Warning: 'partition' will ignore the 'mask' of the MaskedColumn.\n",
      "  arr.partition(\n"
     ]
    },
    {
     "data": {
      "text/plain": [
       "count    4300.0\n",
       "mean        0.0\n",
       "std         0.0\n",
       "min         0.0\n",
       "25%         0.0\n",
       "50%         0.0\n",
       "75%         0.0\n",
       "max         0.0\n",
       "dtype: float64"
      ]
     },
     "execution_count": 35,
     "metadata": {},
     "output_type": "execute_result"
    }
   ],
   "source": [
    "mates = pd.Series(candidate_table['number_of_mates'])\n",
    "mates.describe()"
   ]
  },
  {
   "cell_type": "markdown",
   "id": "aa4797f6",
   "metadata": {},
   "source": [
    "All values in this column are `0`, which means that for each match we\n",
    "found in Pan-STARRS, there are no other stars in Gaia that also match."
   ]
  },
  {
   "cell_type": "markdown",
   "id": "9f97d792",
   "metadata": {
    "slideshow": {
     "slide_type": "slide"
    }
   },
   "source": [
    "# Saving the DataFrame\n",
    "---\n",
    "\n",
    "We can make a `DataFrame` from our Astropy `Table` and save our results so we can pick up where we left off\n",
    "without running this query again. Once again, we will make use of our `make_dataframe` function."
   ]
  },
  {
   "cell_type": "code",
   "execution_count": 36,
   "id": "055a64a0",
   "metadata": {},
   "outputs": [],
   "source": [
    "candidate_df = make_dataframe(candidate_table)"
   ]
  },
  {
   "cell_type": "markdown",
   "id": "7bf08064",
   "metadata": {},
   "source": [
    "The HDF5 file should already exist, so we'll add `candidate_df` to it."
   ]
  },
  {
   "cell_type": "code",
   "execution_count": 37,
   "id": "ef6b8896",
   "metadata": {},
   "outputs": [
    {
     "name": "stderr",
     "output_type": "stream",
     "text": [
      "/var/folders/b3/gxd2jb0s4bq1wknd7l1bnpg80000gn/T/ipykernel_15931/97204592.py:3: FutureWarning: Starting with pandas version 3.0 all arguments of to_hdf except for the argument 'path_or_buf' will be keyword-only.\n",
      "  candidate_df.to_hdf(filename, 'candidate_df')\n"
     ]
    }
   ],
   "source": [
    "filename = 'gd1_data.hdf'\n",
    "\n",
    "candidate_df.to_hdf(filename, 'candidate_df')\n"
   ]
  },
  {
   "cell_type": "markdown",
   "id": "7f790ed8",
   "metadata": {},
   "source": [
    "We can use `getsize` to confirm that the file exists and check the size:"
   ]
  },
  {
   "cell_type": "code",
   "execution_count": 38,
   "id": "228c3ea0",
   "metadata": {},
   "outputs": [
    {
     "data": {
      "text/plain": [
       "15.428459167480469"
      ]
     },
     "execution_count": 38,
     "metadata": {},
     "output_type": "execute_result"
    }
   ],
   "source": [
    "from os.path import getsize\n",
    "\n",
    "MB = 1024 * 1024\n",
    "getsize(filename) / MB\n"
   ]
  },
  {
   "cell_type": "markdown",
   "id": "b8dffe5f",
   "metadata": {
    "slideshow": {
     "slide_type": "slide"
    }
   },
   "source": [
    "# Another file format - CSV\n",
    "--- \n",
    "\n",
    "Pandas can write a variety of other formats, [which you can read about\n",
    "here](https://pandas.pydata.org/pandas-docs/stable/user_guide/io.html).\n",
    "We won't cover all of them, but one other important one is\n",
    "[CSV](https://en.wikipedia.org/wiki/Comma-separated_values), which\n",
    "stands for \"comma-separated values\".\n",
    "\n",
    "CSV is a plain-text format that can be read and written by pretty much\n",
    "any tool that works with data.  In that sense, it is the \"least common\n",
    "denominator\" of data formats.\n",
    "\n",
    "However, it has an important limitation: some information about the\n",
    "data gets lost in translation, notably the data types.  If you read a\n",
    "CSV file from someone else, you might need some additional information\n",
    "to make sure you are getting it right.\n",
    "\n",
    "Also, CSV files tend to be big, and slow to read and write.\n",
    "\n",
    "With those caveats, here is how to write one:\n",
    "\n",
    "the kind of thing that can go wrong with CSV files."
   ]
  },
  {
   "cell_type": "code",
   "execution_count": 39,
   "id": "c31da1de",
   "metadata": {
    "slideshow": {
     "slide_type": "-"
    }
   },
   "outputs": [],
   "source": [
    "candidate_df.to_csv('gd1_data.csv')"
   ]
  },
  {
   "cell_type": "markdown",
   "id": "ce5583b6",
   "metadata": {
    "slideshow": {
     "slide_type": "slide"
    }
   },
   "source": [
    "We can check the file size like this:"
   ]
  },
  {
   "cell_type": "code",
   "execution_count": 40,
   "id": "bab57985",
   "metadata": {
    "slideshow": {
     "slide_type": "-"
    }
   },
   "outputs": [
    {
     "data": {
      "text/plain": [
       "0.8788290023803711"
      ]
     },
     "execution_count": 40,
     "metadata": {},
     "output_type": "execute_result"
    }
   ],
   "source": [
    "getsize('gd1_data.csv') / MB"
   ]
  },
  {
   "cell_type": "markdown",
   "id": "babd0d65",
   "metadata": {
    "slideshow": {
     "slide_type": "slide"
    }
   },
   "source": [
    "We can read the CSV file back like this:"
   ]
  },
  {
   "cell_type": "code",
   "execution_count": 41,
   "id": "ad872494",
   "metadata": {
    "slideshow": {
     "slide_type": "-"
    }
   },
   "outputs": [],
   "source": [
    "read_back_csv = pd.read_csv('gd1_data.csv')"
   ]
  },
  {
   "cell_type": "markdown",
   "id": "3053cac7",
   "metadata": {
    "slideshow": {
     "slide_type": "slide"
    }
   },
   "source": [
    "We will compare the first few rows of `candidate_df` and `read_back_csv`"
   ]
  },
  {
   "cell_type": "code",
   "execution_count": 42,
   "id": "a397d51c",
   "metadata": {
    "slideshow": {
     "slide_type": "-"
    }
   },
   "outputs": [
    {
     "data": {
      "text/html": [
       "<div>\n",
       "<style scoped>\n",
       "    .dataframe tbody tr th:only-of-type {\n",
       "        vertical-align: middle;\n",
       "    }\n",
       "\n",
       "    .dataframe tbody tr th {\n",
       "        vertical-align: top;\n",
       "    }\n",
       "\n",
       "    .dataframe thead th {\n",
       "        text-align: right;\n",
       "    }\n",
       "</style>\n",
       "<table border=\"1\" class=\"dataframe\">\n",
       "  <thead>\n",
       "    <tr style=\"text-align: right;\">\n",
       "      <th></th>\n",
       "      <th>SOURCE_ID</th>\n",
       "      <th>ra</th>\n",
       "      <th>dec</th>\n",
       "      <th>pmra</th>\n",
       "      <th>pmdec</th>\n",
       "      <th>best_neighbour_multiplicity</th>\n",
       "      <th>number_of_mates</th>\n",
       "      <th>g_mean_psf_mag</th>\n",
       "      <th>i_mean_psf_mag</th>\n",
       "      <th>phi1</th>\n",
       "      <th>phi2</th>\n",
       "      <th>pm_phi1</th>\n",
       "      <th>pm_phi2</th>\n",
       "    </tr>\n",
       "  </thead>\n",
       "  <tbody>\n",
       "    <tr>\n",
       "      <th>0</th>\n",
       "      <td>635860218726658176</td>\n",
       "      <td>138.518707</td>\n",
       "      <td>19.092339</td>\n",
       "      <td>-5.941679</td>\n",
       "      <td>-11.346409</td>\n",
       "      <td>1</td>\n",
       "      <td>0</td>\n",
       "      <td>17.8978</td>\n",
       "      <td>17.517401</td>\n",
       "      <td>-59.247330</td>\n",
       "      <td>-2.016078</td>\n",
       "      <td>-7.527126</td>\n",
       "      <td>1.748779</td>\n",
       "    </tr>\n",
       "    <tr>\n",
       "      <th>1</th>\n",
       "      <td>635674126383965568</td>\n",
       "      <td>138.842874</td>\n",
       "      <td>19.031798</td>\n",
       "      <td>-3.897001</td>\n",
       "      <td>-12.702780</td>\n",
       "      <td>1</td>\n",
       "      <td>0</td>\n",
       "      <td>19.2873</td>\n",
       "      <td>17.678101</td>\n",
       "      <td>-59.133391</td>\n",
       "      <td>-2.306901</td>\n",
       "      <td>-7.560608</td>\n",
       "      <td>-0.741800</td>\n",
       "    </tr>\n",
       "    <tr>\n",
       "      <th>2</th>\n",
       "      <td>635614168640132864</td>\n",
       "      <td>139.592197</td>\n",
       "      <td>18.807956</td>\n",
       "      <td>-3.309603</td>\n",
       "      <td>-13.708905</td>\n",
       "      <td>1</td>\n",
       "      <td>0</td>\n",
       "      <td>16.1516</td>\n",
       "      <td>14.666300</td>\n",
       "      <td>-58.938113</td>\n",
       "      <td>-3.024192</td>\n",
       "      <td>-8.062762</td>\n",
       "      <td>-1.869082</td>\n",
       "    </tr>\n",
       "  </tbody>\n",
       "</table>\n",
       "</div>"
      ],
      "text/plain": [
       "            SOURCE_ID          ra        dec      pmra      pmdec  \\\n",
       "0  635860218726658176  138.518707  19.092339 -5.941679 -11.346409   \n",
       "1  635674126383965568  138.842874  19.031798 -3.897001 -12.702780   \n",
       "2  635614168640132864  139.592197  18.807956 -3.309603 -13.708905   \n",
       "\n",
       "   best_neighbour_multiplicity  number_of_mates  g_mean_psf_mag  \\\n",
       "0                            1                0         17.8978   \n",
       "1                            1                0         19.2873   \n",
       "2                            1                0         16.1516   \n",
       "\n",
       "   i_mean_psf_mag       phi1      phi2   pm_phi1   pm_phi2  \n",
       "0       17.517401 -59.247330 -2.016078 -7.527126  1.748779  \n",
       "1       17.678101 -59.133391 -2.306901 -7.560608 -0.741800  \n",
       "2       14.666300 -58.938113 -3.024192 -8.062762 -1.869082  "
      ]
     },
     "execution_count": 42,
     "metadata": {},
     "output_type": "execute_result"
    }
   ],
   "source": [
    "candidate_df.head(3)"
   ]
  },
  {
   "cell_type": "code",
   "execution_count": 43,
   "id": "16345162",
   "metadata": {
    "slideshow": {
     "slide_type": "-"
    }
   },
   "outputs": [
    {
     "data": {
      "text/html": [
       "<div>\n",
       "<style scoped>\n",
       "    .dataframe tbody tr th:only-of-type {\n",
       "        vertical-align: middle;\n",
       "    }\n",
       "\n",
       "    .dataframe tbody tr th {\n",
       "        vertical-align: top;\n",
       "    }\n",
       "\n",
       "    .dataframe thead th {\n",
       "        text-align: right;\n",
       "    }\n",
       "</style>\n",
       "<table border=\"1\" class=\"dataframe\">\n",
       "  <thead>\n",
       "    <tr style=\"text-align: right;\">\n",
       "      <th></th>\n",
       "      <th>Unnamed: 0</th>\n",
       "      <th>SOURCE_ID</th>\n",
       "      <th>ra</th>\n",
       "      <th>dec</th>\n",
       "      <th>pmra</th>\n",
       "      <th>pmdec</th>\n",
       "      <th>best_neighbour_multiplicity</th>\n",
       "      <th>number_of_mates</th>\n",
       "      <th>g_mean_psf_mag</th>\n",
       "      <th>i_mean_psf_mag</th>\n",
       "      <th>phi1</th>\n",
       "      <th>phi2</th>\n",
       "      <th>pm_phi1</th>\n",
       "      <th>pm_phi2</th>\n",
       "    </tr>\n",
       "  </thead>\n",
       "  <tbody>\n",
       "    <tr>\n",
       "      <th>0</th>\n",
       "      <td>0</td>\n",
       "      <td>635860218726658176</td>\n",
       "      <td>138.518707</td>\n",
       "      <td>19.092339</td>\n",
       "      <td>-5.941679</td>\n",
       "      <td>-11.346409</td>\n",
       "      <td>1</td>\n",
       "      <td>0</td>\n",
       "      <td>17.8978</td>\n",
       "      <td>17.517401</td>\n",
       "      <td>-59.247330</td>\n",
       "      <td>-2.016078</td>\n",
       "      <td>-7.527126</td>\n",
       "      <td>1.748779</td>\n",
       "    </tr>\n",
       "    <tr>\n",
       "      <th>1</th>\n",
       "      <td>1</td>\n",
       "      <td>635674126383965568</td>\n",
       "      <td>138.842874</td>\n",
       "      <td>19.031798</td>\n",
       "      <td>-3.897001</td>\n",
       "      <td>-12.702780</td>\n",
       "      <td>1</td>\n",
       "      <td>0</td>\n",
       "      <td>19.2873</td>\n",
       "      <td>17.678101</td>\n",
       "      <td>-59.133391</td>\n",
       "      <td>-2.306901</td>\n",
       "      <td>-7.560608</td>\n",
       "      <td>-0.741800</td>\n",
       "    </tr>\n",
       "    <tr>\n",
       "      <th>2</th>\n",
       "      <td>2</td>\n",
       "      <td>635614168640132864</td>\n",
       "      <td>139.592197</td>\n",
       "      <td>18.807956</td>\n",
       "      <td>-3.309603</td>\n",
       "      <td>-13.708905</td>\n",
       "      <td>1</td>\n",
       "      <td>0</td>\n",
       "      <td>16.1516</td>\n",
       "      <td>14.666300</td>\n",
       "      <td>-58.938113</td>\n",
       "      <td>-3.024192</td>\n",
       "      <td>-8.062762</td>\n",
       "      <td>-1.869082</td>\n",
       "    </tr>\n",
       "  </tbody>\n",
       "</table>\n",
       "</div>"
      ],
      "text/plain": [
       "   Unnamed: 0           SOURCE_ID          ra        dec      pmra      pmdec  \\\n",
       "0           0  635860218726658176  138.518707  19.092339 -5.941679 -11.346409   \n",
       "1           1  635674126383965568  138.842874  19.031798 -3.897001 -12.702780   \n",
       "2           2  635614168640132864  139.592197  18.807956 -3.309603 -13.708905   \n",
       "\n",
       "   best_neighbour_multiplicity  number_of_mates  g_mean_psf_mag  \\\n",
       "0                            1                0         17.8978   \n",
       "1                            1                0         19.2873   \n",
       "2                            1                0         16.1516   \n",
       "\n",
       "   i_mean_psf_mag       phi1      phi2   pm_phi1   pm_phi2  \n",
       "0       17.517401 -59.247330 -2.016078 -7.527126  1.748779  \n",
       "1       17.678101 -59.133391 -2.306901 -7.560608 -0.741800  \n",
       "2       14.666300 -58.938113 -3.024192 -8.062762 -1.869082  "
      ]
     },
     "execution_count": 43,
     "metadata": {},
     "output_type": "execute_result"
    }
   ],
   "source": [
    "read_back_csv.head(3)"
   ]
  },
  {
   "cell_type": "markdown",
   "id": "u5dNDiesCZTW",
   "metadata": {
    "id": "u5dNDiesCZTW",
    "slideshow": {
     "slide_type": "slide"
    }
   },
   "source": [
    "# Summary\n",
    "\n",
    "---\n",
    "\n",
    "In this episode, we used database `JOIN` operations to select\n",
    "photometry data for the stars we've identified as candidates to be in\n",
    "GD-1.\n",
    "\n",
    "In the next episode, we will use this data for a second round of\n",
    "selection, identifying stars that have photometry data consistent with\n",
    "GD-1."
   ]
  },
  {
   "cell_type": "markdown",
   "id": "RWGI5jCnCdME",
   "metadata": {
    "id": "RWGI5jCnCdME"
   },
   "source": [
    "# <p style=\"background-color: #f5df18; padding: 10px;\"> 🗝️ Key points</p>\n",
    "\n",
    "---\n",
    "\n",
    "- Use `JOIN` operations to combine data from multiple tables in a database, using some kind of identifier to match up records from one table with records from another. This is another example of a practice we saw in the previous notebook, moving the computation to the data.\n",
    "- For most applications, saving data in FITS or HDF5 is better than CSV.  FITS and HDF5 are binary formats, so the files are usually smaller, and they store metadata, so you don't lose anything when you read the file back.\n",
    "- On the other hand, CSV is a 'least common denominator' format; that is, it can be read by practically any application that works with data."
   ]
  }
 ],
 "metadata": {
  "celltoolbar": "Slideshow",
  "colab": {
   "provenance": []
  },
  "kernelspec": {
   "display_name": "Python 3 (ipykernel)",
   "language": "python",
   "name": "python3"
  },
  "language_info": {
   "codemirror_mode": {
    "name": "ipython",
    "version": 3
   },
   "file_extension": ".py",
   "mimetype": "text/x-python",
   "name": "python",
   "nbconvert_exporter": "python",
   "pygments_lexer": "ipython3",
   "version": "3.11.9"
  },
  "toc-showcode": true
 },
 "nbformat": 4,
 "nbformat_minor": 5
}
