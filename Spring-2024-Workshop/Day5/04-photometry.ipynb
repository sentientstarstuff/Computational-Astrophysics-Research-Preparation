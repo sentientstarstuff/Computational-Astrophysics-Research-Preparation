{
 "cells": [
  {
   "cell_type": "markdown",
   "id": "labeled-firewall",
   "metadata": {
    "id": "labeled-firewall",
    "slideshow": {
     "slide_type": "slide"
    }
   },
   "source": [
    "# <p style=\"background-color: #f5df18; padding: 10px;\"> Foundations of Astronomical Data Science | **Photometry** </p>\n",
    "\n",
    "\n",
    "\n",
    "### <strong>Instructor: <span style=\"color: darkblue;\">Name (Affliation)</span></strong>\n",
    "\n",
    "Estimated completion time: 🕚 40 minutes\n",
    "\n"
   ]
  },
  {
   "cell_type": "markdown",
   "id": "provincial-bruce",
   "metadata": {
    "id": "provincial-bruce",
    "slideshow": {
     "slide_type": "slide"
    },
    "tags": []
   },
   "source": [
    "<div style=\"display: flex;\">\n",
    "    <div style=\"flex: 1; margin-right: 100px;\">\n",
    "        <h2>Questions</h2>\n",
    "        <ul>\n",
    "            <li>How do we use Matplotlib to define a polygon and select points that fall inside it?</li>\n",
    "        </ul>\n",
    "    </div>\n",
    "    <div style=\"flex: 1;\">\n",
    "        <h2>Learning Objectives</h2>\n",
    "        <ul>\n",
    "            <li>Use isochrone data to specify a polygon and determine which points fall inside it.</li>\n",
    "            <li>Use Matplotlib features to customize the appearance of figures.</li>\n",
    "        </ul>\n",
    "    </div>\n",
    "</div>\n"
   ]
  },
  {
   "cell_type": "markdown",
   "id": "motivated-manufacturer",
   "metadata": {
    "id": "motivated-manufacturer",
    "slideshow": {
     "slide_type": "slide"
    }
   },
   "source": [
    "In the previous episode we downloaded photometry data from Pan-STARRS,\n",
    "which is available from the same server we have been using to get Gaia\n",
    "data.\n",
    "\n",
    "The next step in the analysis is to select candidate stars based on\n",
    "the photometry data.\n",
    "The following figure from the paper is a color-magnitude diagram\n",
    "showing the stars we previously selected based on proper motion:\n",
    "\n",
    "\n",
    "<div>\n",
    "<img src=\"https://datacarpentry.org/astronomy-python/fig/gd1-3.png\" width=\"800\"/>\n",
    "</div>\n",
    "\n",
    "In orange is a [theoretical isochrone](https://en.wikipedia.org/wiki/Stellar_isochrone), showing where we expect the stars\n",
    "in GD-1 to fall based on the metallicity and age of their original\n",
    "globular cluster.\n",
    "\n",
    "By selecting stars in the shaded area, we can further distinguish the\n",
    "main sequence of GD-1 from mostly younger background stars.\n"
   ]
  },
  {
   "cell_type": "markdown",
   "id": "e9nBPvR3nimC",
   "metadata": {
    "id": "e9nBPvR3nimC",
    "slideshow": {
     "slide_type": "slide"
    }
   },
   "source": [
    "# Outline\n",
    "---\n",
    "\n",
    "1. We will reload the data from the previous episode and make a\n",
    "  color-magnitude diagram.\n",
    "\n",
    "2. We will use an isochrone computed by MIST to specify a polygonal\n",
    "  region in the color-magnitude diagram and select the stars inside of it."
   ]
  },
  {
   "cell_type": "markdown",
   "id": "pressed-commerce",
   "metadata": {
    "id": "pressed-commerce",
    "slideshow": {
     "slide_type": "slide"
    },
    "tags": []
   },
   "source": [
    "# Plotting photometry data\n",
    "---\n",
    "\n",
    "Now that we have photometry data from Pan-STARRS, we can produce a\n",
    "[color-magnitude\n",
    "diagram](https://coolwiki.ipac.caltech.edu/index.php/Color-Magnitude_and_Color-Color_plots_Overview)\n",
    "to replicate the diagram from the original paper:\n",
    "\n",
    "<div>\n",
    "<img src=\"https://datacarpentry.org/astronomy-python/fig/gd1-3.png\" width=\"800\"/>\n",
    "</div>\n",
    "\n",
    "The y-axis shows the apparent magnitude of each source with the [g\n",
    "filter](https://en.wikipedia.org/wiki/Photometric_system).\n",
    "\n",
    "The x-axis shows the difference in apparent magnitude between the g\n",
    "and i filters, which indicates color."
   ]
  },
  {
   "cell_type": "markdown",
   "id": "19a7aa02",
   "metadata": {
    "slideshow": {
     "slide_type": "slide"
    }
   },
   "source": [
    "## The color magnitude diagram of GD-1 and foreground stars\n",
    "\n",
    "As a pathologist can easily point to tumor on a biopsy slide, so too can astronomers who study stellar populations see two stellar main groups of stars in this color magnitude diagram, one from an old star cluster (presumably, GD-1), and the other, stars much closer, but at every distance between the Earth and the cluster (\"foreground\"). The color magnitude diagram is a technique developed to separate these features out just as pathologists have techniques to contrast human tissue.\n",
    "The color of a star is primarily related to the star's surface temperature, with bluer stars indicating higher temperatures and redder stars indicating lower temperatures. This logic is not too far off from the color at the bottom of a match flame compared to the top.\n"
   ]
  },
  {
   "cell_type": "markdown",
   "id": "85233848",
   "metadata": {
    "slideshow": {
     "slide_type": "fragment"
    }
   },
   "source": [
    "Foreground Stars:\n",
    "To know the temperature of a star, you first need to know its distance and to account for the dust between us and the star. You can guess the effect of distance. A star farther away will be fainter (lower y-axis value) than the same star closer (think of car headlights as they approach). Dust will remove light from the star's path to our telescopes, which makes the star seem like it has less energy than it otherwise would have, which makes it do two things on this diagram: 1) look fainter (lower on the y-axis; larger magnitude value) and 2) look cooler (higher x-axis value). The stars spread throughout the diagram are all stars bright enough to be detected in our Milky Way between GD-1 and us but made fainter and redder (spread to the lower-right) by their spread in distance from us and the amount dust in the line of sight.\n"
   ]
  },
  {
   "cell_type": "markdown",
   "id": "d1892de1",
   "metadata": {
    "slideshow": {
     "slide_type": "fragment"
    }
   },
   "source": [
    "GD-1:\n",
    "The pile up of stars in the lower-left quadrant of this diagram are interesting because it suggests something is at the same distance with the same amount of dust in the way. When we use our knowledge of theoretical astrophysics (independently calculated outside this work) to estimate how bright a population of old stars would be if it were at the distance of GD-1, we get that solid red line. The exact values of age and metallicity ([Fe/H] value) is a variable needed to reproduce the theoretical isochrone, but frankly, the choice could vary a lot and still would fit the data well."
   ]
  },
  {
   "cell_type": "markdown",
   "id": "026e88a8",
   "metadata": {
    "slideshow": {
     "slide_type": "fragment"
    }
   },
   "source": [
    "[More on color-magnitude diagrams and their theoretical counterpart, here.](https://spiff.rit.edu/classes/ladder/lectures/ordinary_stars/ordinary.html)\n"
   ]
  },
  {
   "cell_type": "markdown",
   "id": "64ae33bb",
   "metadata": {
    "slideshow": {
     "slide_type": "slide"
    }
   },
   "source": [
    "With the photometry we downloaded from the PanSTARRS table into\n",
    "`candidate_df` we can now recreate this plot."
   ]
  },
  {
   "cell_type": "code",
   "execution_count": null,
   "id": "006ac7b6",
   "metadata": {
    "slideshow": {
     "slide_type": "-"
    }
   },
   "outputs": [],
   "source": [
    "### Recreate color-magnitude diagram ### \n",
    "\n",
    "\n",
    "\n",
    "\n"
   ]
  },
  {
   "cell_type": "markdown",
   "id": "24fcfc07",
   "metadata": {
    "slideshow": {
     "slide_type": "slide"
    }
   },
   "source": [
    "We have assigned the color and magnitude to variables `x` and `y`, respectively.  \n",
    "We have done this out of convenience and to keep the code readable since the\n",
    "table variables and column names are long and `x` includes an operation\n",
    "between two columns.\n",
    "\n",
    "We can zoom in on the region of interest by setting the range of\n",
    "x and y values displayed with the `xlim` and `ylim` functions.\n",
    "If we put the higher value first in the `ylim` call, this will invert\n",
    "the y-axis, putting fainter magnitudes at the bottom."
   ]
  },
  {
   "cell_type": "code",
   "execution_count": null,
   "id": "48b7de16",
   "metadata": {
    "slideshow": {
     "slide_type": "-"
    }
   },
   "outputs": [],
   "source": [
    "### Zoom in on the region of interest ###\n",
    "\n",
    "\n",
    "\n"
   ]
  },
  {
   "cell_type": "markdown",
   "id": "7395ab2e",
   "metadata": {
    "slideshow": {
     "slide_type": "slide"
    }
   },
   "source": [
    "Our figure does not look exactly like the one in the paper because we\n",
    "are working with a smaller region of the sky, so we have fewer\n",
    "stars.  But the main sequence of GD-1 appears as an overdense region in the lower left.\n",
    "\n",
    "We want to be able to make this plot again, with any selection of PanSTARRs photometry,\n",
    "so this is a natural time to put it into a function that accepts as input\n",
    "an Astropy `Table` or Pandas `DataFrame`, as long as\n",
    "it has columns named `g_mean_psf_mag` and `i_mean_psf_mag`. To do this we will change\n",
    "our variable name from `candidate_df` to the more generic `dataframe`."
   ]
  },
  {
   "cell_type": "code",
   "execution_count": 1,
   "id": "5018a1bc",
   "metadata": {
    "slideshow": {
     "slide_type": "-"
    }
   },
   "outputs": [],
   "source": [
    "### Define function \"plot_cmd\" to assist in recreating figure ####\n",
    "\n",
    "\n",
    "\n"
   ]
  },
  {
   "cell_type": "markdown",
   "id": "4e18717c",
   "metadata": {
    "slideshow": {
     "slide_type": "slide"
    }
   },
   "source": [
    "Here are the results:"
   ]
  },
  {
   "cell_type": "code",
   "execution_count": null,
   "id": "27eac96a",
   "metadata": {
    "slideshow": {
     "slide_type": "-"
    }
   },
   "outputs": [],
   "source": []
  },
  {
   "cell_type": "markdown",
   "id": "3c61d4f8",
   "metadata": {
    "slideshow": {
     "slide_type": "fragment"
    }
   },
   "source": [
    "In the next section we will use an isochrone to specify a polygon that contains this overdense region."
   ]
  },
  {
   "cell_type": "markdown",
   "id": "7d9fab7e",
   "metadata": {
    "slideshow": {
     "slide_type": "slide"
    }
   },
   "source": [
    "# Isochrone\n",
    "---\n",
    "\n",
    "Given our understanding of the age, metallicity, and distance to GD-1 we can overlay a\n",
    "theoretical isochrone for GD-1 from the MESA Isochrones and Stellar Tracks and better identify the main sequence of GD-1."
   ]
  },
  {
   "cell_type": "markdown",
   "id": "8cb2c1e6",
   "metadata": {
    "slideshow": {
     "slide_type": "slide"
    }
   },
   "source": [
    "## 🔔 Calculating Isochrone\n",
    "---\n",
    "\n",
    "In fact, we can use [MESA Isochrones \\& Stellar Tracks](https://waps.cfa.harvard.edu/MIST/) (MIST)\n",
    "to compute it for us.\n",
    "Using the [MIST Version 1.2 web interface](https://waps.cfa.harvard.edu/MIST/interp_isos.html),\n",
    "we computed an isochrone with the following parameters:\n",
    "\n",
    "- Rotation initial v/v\\_crit = 0.4\n",
    "- Single age, linear scale = 12e9\n",
    "- Composition [Fe/H] = -1.35\n",
    "- Synthetic Photometry, PanStarrs\n",
    "- Extinction av = 0"
   ]
  },
  {
   "cell_type": "markdown",
   "id": "98743b0a",
   "metadata": {
    "slideshow": {
     "slide_type": "slide"
    }
   },
   "source": [
    "# Making a polygon\n",
    "---\n",
    "\n",
    "The MIST isochrone files available on the website above can not be directly plotted over our data.\n",
    "We have selected the relevant part of the isochrone, the filters we are interested in, and scaled the photometry to the distance of GD-1\n",
    "([details here](https://datacarpentry.org/astronomy-python/instructor/calculating_MIST_isochrone.html)).\n",
    "Now we can read in the results which you downloaded as part of the [setup instructions](https://datacarpentry.org/astronomy-python/instructor/index.html#setup):"
   ]
  },
  {
   "cell_type": "code",
   "execution_count": null,
   "id": "6cee325b",
   "metadata": {
    "slideshow": {
     "slide_type": "-"
    }
   },
   "outputs": [],
   "source": [
    "### Read in 'gd1_isochrone.hdf5' ### \n",
    "\n",
    "\n"
   ]
  },
  {
   "cell_type": "markdown",
   "id": "03b4812f",
   "metadata": {
    "slideshow": {
     "slide_type": "slide"
    }
   },
   "source": [
    "Here is what the isochrone looks like on the color-magnitude diagram."
   ]
  },
  {
   "cell_type": "code",
   "execution_count": null,
   "id": "bafe5c52",
   "metadata": {
    "slideshow": {
     "slide_type": "-"
    }
   },
   "outputs": [],
   "source": [
    "### Overplot isochrone on the color-magnitude diagram ###\n",
    "\n",
    "\n",
    "\n"
   ]
  },
  {
   "cell_type": "markdown",
   "id": "67f46b9d",
   "metadata": {
    "slideshow": {
     "slide_type": "slide"
    }
   },
   "source": [
    "In the bottom half of the figure, the isochrone passes through the\n",
    "overdense region where the stars are likely to belong to GD-1.\n",
    "\n",
    "Although some stars near the top half of the isochrone likely belong to GD-1,\n",
    "these represent stars that have evolved off the main sequence. The density of GD-1 stars in this region is therefore\n",
    "much less and the contamination with other stars much greater. So to get the purest sample of GD-1 stars we will select only stars on the main sequence.\n",
    "\n",
    "So we will select the part of the isochrone that lies in the overdense region.\n",
    "\n",
    "`g_mask` is a Boolean Series that is `True` where `g` is between 18.0 and 21.5."
   ]
  },
  {
   "cell_type": "code",
   "execution_count": null,
   "id": "bb647310",
   "metadata": {
    "slideshow": {
     "slide_type": "-"
    }
   },
   "outputs": [],
   "source": []
  },
  {
   "cell_type": "markdown",
   "id": "c37e49bd",
   "metadata": {
    "slideshow": {
     "slide_type": "slide"
    }
   },
   "source": [
    "We can use it to select the corresponding rows in `iso_df`:"
   ]
  },
  {
   "cell_type": "code",
   "execution_count": null,
   "id": "d6ab0153",
   "metadata": {
    "slideshow": {
     "slide_type": "-"
    }
   },
   "outputs": [],
   "source": []
  },
  {
   "cell_type": "markdown",
   "id": "2bd83af0",
   "metadata": {
    "slideshow": {
     "slide_type": "slide"
    }
   },
   "source": [
    "Now, to select the stars in the overdense region, we have to define a\n",
    "polygon that includes stars near the isochrone."
   ]
  },
  {
   "cell_type": "code",
   "execution_count": null,
   "id": "5949d429",
   "metadata": {
    "slideshow": {
     "slide_type": "-"
    }
   },
   "outputs": [],
   "source": []
  },
  {
   "cell_type": "markdown",
   "id": "50407e25",
   "metadata": {
    "slideshow": {
     "slide_type": "slide"
    }
   },
   "source": [
    "Here is our plot with these boundaries:"
   ]
  },
  {
   "cell_type": "code",
   "execution_count": null,
   "id": "c50b0a82",
   "metadata": {
    "slideshow": {
     "slide_type": "-"
    }
   },
   "outputs": [],
   "source": [
    "### add boundaries to the cmd ###\n",
    "\n",
    "\n",
    "\n",
    "\n"
   ]
  },
  {
   "cell_type": "markdown",
   "id": "35e48f52",
   "metadata": {
    "slideshow": {
     "slide_type": "slide"
    }
   },
   "source": [
    "# Which points are in the polygon?\n",
    "---\n",
    "\n",
    "Matplotlib provides a `Polygon` object that we can use to check which\n",
    "points fall in the polygon we just constructed.\n",
    "\n",
    "To make a `Polygon`, we need to assemble `g`, `left_color`, and\n",
    "`right_color` into a loop, so the points in `left_color` are connected\n",
    "to the points of `right_color` in reverse order.\n",
    "\n",
    "We will use a \"slice index\" to reverse the elements of `right_color`.\n",
    "As explained in the [NumPy\n",
    "documentation](https://numpy.org/doc/stable/reference/arrays.indexing.html),\n",
    "a slice index has three parts separated by colons:\n",
    "\n",
    "- `start`: The index of the element where the slice starts.\n",
    "\n",
    "- `stop`: The index of the element where the slice ends.\n",
    "\n",
    "- `step`: The step size between elements.\n",
    "\n",
    "```\n",
    "reverse_right_color = right_color[::-1]\n",
    "```\n",
    "\n",
    "\n",
    "In this example, `start` and `stop` are omitted, which means all\n",
    "elements are selected.\n",
    "\n",
    "And `step` is `-1`, which means the elements are in reverse order.\n",
    "\n",
    "To combine the `left_color` and `right_color` arrays we will use the NumPy `append` function\n",
    "which takes two arrays as input, and outputs them combined into a single array.\n"
   ]
  },
  {
   "cell_type": "code",
   "execution_count": null,
   "id": "f731e373",
   "metadata": {
    "slideshow": {
     "slide_type": "-"
    }
   },
   "outputs": [],
   "source": [
    "### Use the NumPy append function to create a single array ###\n",
    "\n",
    "\n",
    "\n"
   ]
  },
  {
   "cell_type": "markdown",
   "id": "d1277e0b",
   "metadata": {
    "slideshow": {
     "slide_type": "slide"
    }
   },
   "source": [
    "We can repeat combine these two lines of code into a single line to create a corresponding loop with the elements of `g` in forward and reverse order."
   ]
  },
  {
   "cell_type": "code",
   "execution_count": null,
   "id": "15692afa",
   "metadata": {
    "slideshow": {
     "slide_type": "-"
    }
   },
   "outputs": [],
   "source": []
  },
  {
   "cell_type": "markdown",
   "id": "9a51ce35",
   "metadata": {
    "slideshow": {
     "slide_type": "slide"
    }
   },
   "source": [
    "Here is the loop on our plot:"
   ]
  },
  {
   "cell_type": "code",
   "execution_count": null,
   "id": "0c8acfec",
   "metadata": {
    "slideshow": {
     "slide_type": "-"
    }
   },
   "outputs": [],
   "source": [
    "### Add the loop to the cmd ###\n",
    "\n",
    "\n",
    "\n"
   ]
  },
  {
   "cell_type": "markdown",
   "id": "9ac48409",
   "metadata": {
    "slideshow": {
     "slide_type": "slide"
    }
   },
   "source": [
    "To make a `Polygon`, it will be useful to put `color_loop` and\n",
    "`mag_loop` into a `DataFrame`. This is convenient for two reasons - first, `Polygon`\n",
    "is expecting an Nx2 array and the `DataFrame` provides an easy way for us to pass that\n",
    "in that is also descriptive for us. Secondly, for reproducibility of our work, we may want\n",
    "to save the region we use to select stars, and the `DataFrame`, as we have already seen, allows us to save into a variety of formats."
   ]
  },
  {
   "cell_type": "code",
   "execution_count": null,
   "id": "e8e3d54b",
   "metadata": {
    "slideshow": {
     "slide_type": "-"
    }
   },
   "outputs": [],
   "source": []
  },
  {
   "cell_type": "markdown",
   "id": "100a00ae",
   "metadata": {
    "slideshow": {
     "slide_type": "slide"
    }
   },
   "source": [
    "Now we can pass `loop_df` to `Polygon`:"
   ]
  },
  {
   "cell_type": "code",
   "execution_count": null,
   "id": "c4596baf",
   "metadata": {
    "slideshow": {
     "slide_type": "-"
    }
   },
   "outputs": [],
   "source": []
  },
  {
   "cell_type": "markdown",
   "id": "cd128460",
   "metadata": {
    "slideshow": {
     "slide_type": "slide"
    }
   },
   "source": [
    "The result is a `Polygon` object which has a `contains_points` method.\n",
    "This allows us to pass `polygon.contains_points` a list of points and\n",
    "for each point it will tell us if the point is contained within the polygon.\n",
    "A point is a tuple with two elements, x and y.\n"
   ]
  },
  {
   "cell_type": "markdown",
   "id": "c4fe650f",
   "metadata": {
    "slideshow": {
     "slide_type": "slide"
    }
   },
   "source": [
    "## <p style=\"background-color: #f5df18; padding: 10px;\"> 🛑 Exercise (5 Minutes) </p>\n",
    "---\n",
    "\n",
    "When we encounter a new object, it is good to create a toy example to test\n",
    "that it does what we think it does. Define a list of two points (represented as two tuples),\n",
    "one that should be inside the polygon and one that should be outside the polygon. Call\n",
    "`contains_points` on the polygon we just created, passing it the list of points you\n",
    "defined, to verify that the results are as expected."
   ]
  },
  {
   "cell_type": "code",
   "execution_count": null,
   "id": "082d1269",
   "metadata": {
    "slideshow": {
     "slide_type": "-"
    }
   },
   "outputs": [],
   "source": [
    "### your answer here ###"
   ]
  },
  {
   "cell_type": "markdown",
   "id": "28386380",
   "metadata": {
    "slideshow": {
     "slide_type": "slide"
    }
   },
   "source": [
    "\n",
    "We are almost ready to select stars whose photometry data falls in\n",
    "this polygon.  But first we need to do some data cleaning.\n"
   ]
  },
  {
   "cell_type": "markdown",
   "id": "ba7f2915",
   "metadata": {
    "slideshow": {
     "slide_type": "slide"
    }
   },
   "source": [
    "# Save the polygon\n",
    "---\n",
    "\n",
    "[Reproducibile\n",
    "research](https://en.wikipedia.org/wiki/Reproducibility#Reproducible_research)\n",
    "is \"the idea that ... the full computational environment used to\n",
    "produce the results in the paper such as the code, data, etc. can be\n",
    "used to reproduce the results and create new work based on the\n",
    "research.\"\n",
    "\n",
    "This lesson is an example of reproducible research because\n",
    "it contains all of the code needed to reproduce the results, including\n",
    "the database queries that download the data and the analysis.\n",
    "\n",
    "In this episode, we used an isochrone to derive a polygon, which we used\n",
    "to select stars based on photometry.\n",
    "So it is important to record the polygon as part of the data analysis pipeline.\n",
    "\n",
    "Here is how we can save it in an HDF5 file."
   ]
  },
  {
   "cell_type": "code",
   "execution_count": null,
   "id": "7e2b367f",
   "metadata": {
    "slideshow": {
     "slide_type": "-"
    }
   },
   "outputs": [],
   "source": [
    "### Save loop to HDF5 file ###\n",
    "\n",
    "\n",
    "\n"
   ]
  },
  {
   "cell_type": "markdown",
   "id": "295a309b",
   "metadata": {
    "slideshow": {
     "slide_type": "slide"
    }
   },
   "source": [
    "# Selecting based on photometry\n",
    "---\n",
    "\n",
    "Now we will check how many of the candidate stars are inside the polygon we chose.\n",
    "`contains_points` expects a list of (x,y) pairs. As with creating the `Polygon`, `DataFrames` are\n",
    "a convenient way to pass the colors and magnitudes for all of our stars in `candidates_df` to our `Polygon` to see\n",
    "which candidates are inside the polygon. We will start by putting color and magnitude data from `candidate_df` into a new `DataFrame`."
   ]
  },
  {
   "cell_type": "code",
   "execution_count": null,
   "id": "bfccb694",
   "metadata": {
    "slideshow": {
     "slide_type": "-"
    }
   },
   "outputs": [],
   "source": []
  },
  {
   "cell_type": "markdown",
   "id": "5877aeb2",
   "metadata": {
    "slideshow": {
     "slide_type": "slide"
    }
   },
   "source": [
    "Which we can pass to `contains_points`:"
   ]
  },
  {
   "cell_type": "code",
   "execution_count": null,
   "id": "f81722f7",
   "metadata": {
    "slideshow": {
     "slide_type": "-"
    }
   },
   "outputs": [],
   "source": []
  },
  {
   "cell_type": "markdown",
   "id": "dc799748",
   "metadata": {
    "slideshow": {
     "slide_type": "slide"
    }
   },
   "source": [
    "The result is a Boolean array."
   ]
  },
  {
   "cell_type": "markdown",
   "id": "ZBQQ13FV67XG",
   "metadata": {
    "id": "ZBQQ13FV67XG",
    "slideshow": {
     "slide_type": "slide"
    }
   },
   "source": [
    "## <p style=\"background-color: #f5df18; padding: 10px;\"> 🛑 Exercise (5 Minutes) </p>\n",
    "---\n",
    "\n",
    "Boolean values are stored as 0s and 1s. `FALSE` = 0 and `TRUE` = 1. Use this information\n",
    "to determine the number of stars that fall inside the polygon."
   ]
  },
  {
   "cell_type": "code",
   "execution_count": null,
   "id": "_G3VRpXn7KqM",
   "metadata": {
    "id": "_G3VRpXn7KqM",
    "slideshow": {
     "slide_type": "-"
    }
   },
   "outputs": [],
   "source": [
    "### your answer here ####"
   ]
  },
  {
   "cell_type": "markdown",
   "id": "LgQIKeaE7ROL",
   "metadata": {
    "id": "LgQIKeaE7ROL",
    "slideshow": {
     "slide_type": "slide"
    }
   },
   "source": [
    "Now we can use `inside_mask` as a mask to select stars that fall inside the polygon."
   ]
  },
  {
   "cell_type": "code",
   "execution_count": null,
   "id": "d0e4ec77",
   "metadata": {
    "slideshow": {
     "slide_type": "-"
    }
   },
   "outputs": [],
   "source": []
  },
  {
   "cell_type": "markdown",
   "id": "5JuFiwZb7wZH",
   "metadata": {
    "id": "5JuFiwZb7wZH",
    "slideshow": {
     "slide_type": "slide"
    }
   },
   "source": [
    "We will make a color-magnitude plot one more time, highlighting the selected stars with green markers."
   ]
  },
  {
   "cell_type": "code",
   "execution_count": null,
   "id": "8eb1e806",
   "metadata": {
    "slideshow": {
     "slide_type": "-"
    }
   },
   "outputs": [],
   "source": []
  },
  {
   "cell_type": "markdown",
   "id": "syklXPkK8Utk",
   "metadata": {
    "id": "syklXPkK8Utk",
    "slideshow": {
     "slide_type": "slide"
    }
   },
   "source": [
    "The selected stars are, in fact, inside the polygon,\n",
    "which means they have photometry data consistent with GD-1.\n",
    "\n",
    "Finally, we can plot the coordinates of the selected stars:"
   ]
  },
  {
   "cell_type": "code",
   "execution_count": null,
   "id": "024713fc",
   "metadata": {
    "slideshow": {
     "slide_type": "-"
    }
   },
   "outputs": [],
   "source": []
  },
  {
   "cell_type": "markdown",
   "id": "y_ntDoSp8aUc",
   "metadata": {
    "id": "y_ntDoSp8aUc",
    "slideshow": {
     "slide_type": "slide"
    }
   },
   "source": [
    "This example includes the new Matplotlib command `figure`, which creates the larger canvas that the subplots are placed on.  In previous examples, we didn't have\n",
    "to use this function; the figure was created automatically.  But when\n",
    "we call it explicitly, we can provide arguments like `figsize`, which\n",
    "sets the size of the figure. It also returns a figure object which we will\n",
    "use to further customize our plotting in the next episode.\n",
    "\n",
    "In the example above we also used TeX markup in our axis labels so that they render as the\n",
    "Greek letter `$\\phi$` with subscripts for `1` and `2`.\n",
    "Matplotlib also allows us to write basic TeX markup by wrapping the text we want\n",
    "rendered as TeX with `$` and then using TeX commands inside. This basic rendering\n",
    "is performed with [mathtext](https://matplotlib.org/stable/tutorials/text/mathtext.html);\n",
    "more advanced rendering with LaTex can be done with the `usetex` option in `rcParams`\n",
    "which we will discuss in Episode 7.\n",
    "\n",
    "In the next episode we are going to make this plot several more times, so it makes sense to\n",
    "make a function. As we have done with previous functions we can copy and paste what we just wrote,\n",
    "replacing the specific variable `winner_df` with the more generic `df`."
   ]
  },
  {
   "cell_type": "code",
   "execution_count": null,
   "id": "fbf96928",
   "metadata": {
    "slideshow": {
     "slide_type": "-"
    }
   },
   "outputs": [],
   "source": [
    "def plot_cmd_selection(df):\n",
    "    x = df['phi1']\n",
    "    y = df['phi2']\n",
    "\n",
    "    plt.plot(x, y, 'ko', markersize=0.7, alpha=0.9)\n",
    "\n",
    "    plt.xlabel('$\\phi_1$ [deg]')\n",
    "    plt.ylabel('$\\phi_2$ [deg]')\n",
    "    plt.title('Proper motion + photometry selection', fontsize='medium')\n",
    "\n",
    "    plt.axis('equal')"
   ]
  },
  {
   "cell_type": "markdown",
   "id": "4ef2a2be",
   "metadata": {
    "slideshow": {
     "slide_type": "slide"
    }
   },
   "source": [
    "And here is how we use the function."
   ]
  },
  {
   "cell_type": "code",
   "execution_count": null,
   "id": "2uHzOSOJ7TRg",
   "metadata": {
    "id": "2uHzOSOJ7TRg",
    "slideshow": {
     "slide_type": "-"
    }
   },
   "outputs": [],
   "source": []
  },
  {
   "cell_type": "markdown",
   "id": "5w9vclHx836N",
   "metadata": {
    "id": "5w9vclHx836N",
    "slideshow": {
     "slide_type": "slide"
    }
   },
   "source": [
    "# 💾 Write the data\n",
    "---\n",
    "\n",
    "Finally, we will write the selected stars to a file.\n"
   ]
  },
  {
   "cell_type": "code",
   "execution_count": null,
   "id": "Z7HOvYN29Iy_",
   "metadata": {
    "id": "Z7HOvYN29Iy_",
    "slideshow": {
     "slide_type": "-"
    }
   },
   "outputs": [],
   "source": [
    "### save winner_df as an hdf ###\n",
    "\n",
    "\n",
    "\n"
   ]
  },
  {
   "cell_type": "markdown",
   "id": "u5dNDiesCZTW",
   "metadata": {
    "id": "u5dNDiesCZTW",
    "slideshow": {
     "slide_type": "slide"
    }
   },
   "source": [
    "# Summary\n",
    "---\n",
    "\n",
    "In this episode, we used photometry data from Pan-STARRS to draw a\n",
    "color-magnitude diagram.\n",
    "We used an isochrone to define a polygon and select stars we think are\n",
    "likely to be in GD-1.  Plotting the results, we have a clearer picture\n",
    "of GD-1, similar to Figure 1 in the original paper."
   ]
  },
  {
   "cell_type": "markdown",
   "id": "RWGI5jCnCdME",
   "metadata": {
    "id": "RWGI5jCnCdME",
    "slideshow": {
     "slide_type": "-"
    }
   },
   "source": [
    "# <p style=\"background-color: #f5df18; padding: 10px;\"> 🗝️ Key points</p>\n",
    "---\n",
    "\n",
    "- Matplotlib provides operations for working with points, polygons, and other geometric entities, so it is not just for making figures.\n",
    "- Use Matplotlib options to control the size and aspect ratio of figures to make them easier to interpret.\n",
    "- Record every element of the data analysis pipeline that would be needed to replicate the results.\n"
   ]
  },
  {
   "cell_type": "code",
   "execution_count": null,
   "id": "0bWR0HuaCjnh",
   "metadata": {
    "id": "0bWR0HuaCjnh"
   },
   "outputs": [],
   "source": []
  }
 ],
 "metadata": {
  "celltoolbar": "Slideshow",
  "colab": {
   "provenance": []
  },
  "kernelspec": {
   "display_name": "Python 3 (ipykernel)",
   "language": "python",
   "name": "python3"
  },
  "language_info": {
   "codemirror_mode": {
    "name": "ipython",
    "version": 3
   },
   "file_extension": ".py",
   "mimetype": "text/x-python",
   "name": "python",
   "nbconvert_exporter": "python",
   "pygments_lexer": "ipython3",
   "version": "3.11.3"
  },
  "toc-showcode": true
 },
 "nbformat": 4,
 "nbformat_minor": 5
}
