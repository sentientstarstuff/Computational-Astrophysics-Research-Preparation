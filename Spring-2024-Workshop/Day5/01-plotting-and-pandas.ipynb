{
 "cells": [
  {
   "cell_type": "markdown",
   "id": "labeled-firewall",
   "metadata": {
    "id": "labeled-firewall",
    "slideshow": {
     "slide_type": "slide"
    }
   },
   "source": [
    "## <p style=\"background-color: #f5df18; padding: 10px;\"> Foundations of Astronomical Data Science | **Plotting and Pandas** </p>\n",
    "\n",
    "\n",
    "### <strong>Instructor: <span style=\"color: darkblue;\">Name (Affliation)</span></strong>\n",
    "\n",
    "Estimated completion time: 🕚 65 minutes\n"
   ]
  },
  {
   "cell_type": "markdown",
   "id": "bc4d9969",
   "metadata": {
    "slideshow": {
     "slide_type": "slide"
    }
   },
   "source": [
    "<div style=\"display: flex;\">\n",
    "    <div style=\"flex: 1; margin-right: 10px;\">\n",
    "        <h2>Questions</h2>\n",
    "        <ul>\n",
    "            <li>How do efficiently explore our data and identify appropriate filters to produce a clean sample (in this case of GD-1 stars)?</li>\n",
    "        </ul>\n",
    "    </div>\n",
    "    <div style=\"flex: 1;\">\n",
    "        <h2>Learning Objectives</h2>\n",
    "        <ul>\n",
    "            <li>Use a Boolean Pandas <code>Series</code> to select rows in a <code>DataFrame</code>.</li>\n",
    "    <li>Save multiple <code>DataFrame</code>s in an HDF5 file.</li>\n",
    "        </ul>\n",
    "    </div>\n",
    "</div>"
   ]
  },
  {
   "cell_type": "markdown",
   "id": "provincial-bruce",
   "metadata": {
    "id": "provincial-bruce",
    "slideshow": {
     "slide_type": "slide"
    },
    "tags": []
   },
   "source": [
    "In the previous episode, we wrote a query to select stars from the region of the sky where we expect GD-1 to be, and saved the results in a FITS and HDF5 file.\n",
    "\n",
    "Now we will read that data back in and implement the next step in the analysis, identifying stars with the proper motion we expect for GD-1."
   ]
  },
  {
   "cell_type": "markdown",
   "id": "JEZu1caTH2zf",
   "metadata": {
    "id": "JEZu1caTH2zf",
    "slideshow": {
     "slide_type": "slide"
    }
   },
   "source": [
    "# Outline\n",
    "---\n",
    "\n",
    "1. We will put those results into a Pandas `DataFrame`, which we will use\n",
    "  to select stars near the centerline of GD-1.\n",
    "\n",
    "2. Plotting the proper motion of those stars, we will identify a region\n",
    "  of proper motion for stars that are likely to be in GD-1.\n",
    "\n",
    "3. Finally, we will select and plot the stars whose proper motion is in\n",
    "  that region.\n",
    "  "
   ]
  },
  {
   "cell_type": "markdown",
   "id": "-CGO8uCxILkq",
   "metadata": {
    "id": "-CGO8uCxILkq",
    "slideshow": {
     "slide_type": "slide"
    }
   },
   "source": [
    "# Exploring data\n",
    "\n",
    "---\n",
    "\n",
    "One benefit of using Pandas is that it provides functions for\n",
    "exploring the data and checking for problems.\n",
    "One of the most useful of these functions is `describe`, which\n",
    "computes summary statistics for each column."
   ]
  },
  {
   "cell_type": "code",
   "execution_count": null,
   "id": "sB3RuNchIc55",
   "metadata": {
    "id": "sB3RuNchIc55",
    "slideshow": {
     "slide_type": "slide"
    }
   },
   "outputs": [],
   "source": [
    "import astropy.units as u\n",
    "import matplotlib.pyplot as plt\n",
    "import pandas as pd\n",
    "\n",
    "from episode_functions import *\n",
    "\n",
    "filename = 'gd1_data.hdf'\n",
    "results_df = pd.read_hdf(filename, 'results_df')\n",
    "\n",
    "results_df.describe()"
   ]
  },
  {
   "cell_type": "markdown",
   "id": "tfcyUHoIINwP",
   "metadata": {
    "id": "tfcyUHoIINwP",
    "slideshow": {
     "slide_type": "slide"
    }
   },
   "source": [
    "## <p style=\"background-color: #f5df18; padding: 10px;\"> 🛑 Exercise (10 Minutes) </p>\n",
    "\n",
    "---\n",
    "Review the summary statistics in this table.\n",
    "\n",
    "- Do the values make sense based on what you know about the context?\n",
    "\n",
    "- Do you see any values that seem problematic, or evidence of other data issues?\n"
   ]
  },
  {
   "cell_type": "markdown",
   "id": "yp-npZi9INy7",
   "metadata": {
    "id": "yp-npZi9INy7",
    "slideshow": {
     "slide_type": "slide"
    }
   },
   "source": [
    "# Plot proper motion\n",
    "\n",
    "---\n",
    "\n",
    "Now we are ready to replicate one of the panels in Figure 1 of the Price-Whelan and Bonaca paper, the one that shows components of proper motion as a scatter plot:\n",
    "<div>\n",
    "<img src=\"https://datacarpentry.org/astronomy-python/fig/gd1-1.png\" />\n",
    "</div>\n"
   ]
  },
  {
   "cell_type": "markdown",
   "id": "eU-pOm3eJK5x",
   "metadata": {
    "id": "eU-pOm3eJK5x",
    "slideshow": {
     "slide_type": "slide"
    }
   },
   "source": [
    "In this figure, the shaded area identifies stars that are likely to be\n",
    "in GD-1 because:\n",
    "\n",
    "- Due to the nature of tidal streams, we expect the proper motion for\n",
    "  stars in GD-1 to be along the axis of the stream; that is, we expect\n",
    "  motion in the direction of `phi2` to be near 0.\n",
    "\n",
    "- In the direction of `phi1`, we do not have a prior expectation for\n",
    "  proper motion, except that it should form a cluster at a non-zero\n",
    "  value.\n",
    "\n",
    "By plotting proper motion in the GD-1 frame, we hope to find this cluster.\n",
    "Then we will use the bounds of the cluster to select stars that are\n",
    "more likely to be in GD-1.\n",
    "\n",
    "The following figure is a scatter plot of proper motion, in the GD-1\n",
    "frame, for the stars in `results_df`."
   ]
  },
  {
   "cell_type": "code",
   "execution_count": null,
   "id": "-0-8VjGKJrKj",
   "metadata": {
    "id": "-0-8VjGKJrKj",
    "slideshow": {
     "slide_type": "slide"
    }
   },
   "outputs": [],
   "source": [
    "x = results_df['pm_phi1']\n",
    "y = results_df['pm_phi2']\n",
    "plt.plot(x, y, 'ko', markersize=0.1, alpha=0.1)\n",
    "\n",
    "plt.xlabel('Proper motion phi1 (mas/yr GD1 frame)')\n",
    "plt.ylabel('Proper motion phi2 (mas/yr GD1 frame)')"
   ]
  },
  {
   "cell_type": "markdown",
   "id": "BJK62FzpJLEa",
   "metadata": {
    "id": "BJK62FzpJLEa",
    "slideshow": {
     "slide_type": "-"
    }
   },
   "source": [
    "Most of the proper motions are near the origin, but there are a few\n",
    "extreme values.\n",
    "Following the example in the paper, we will use `xlim` and `ylim` to\n",
    "zoom in on the region near the origin."
   ]
  },
  {
   "cell_type": "code",
   "execution_count": null,
   "id": "L8f0B9UEJxVs",
   "metadata": {
    "id": "L8f0B9UEJxVs",
    "slideshow": {
     "slide_type": "slide"
    }
   },
   "outputs": [],
   "source": [
    "x = results_df['pm_phi1']\n",
    "y = results_df['pm_phi2']\n",
    "plt.plot(x, y, 'ko', markersize=0.1, alpha=0.1)\n",
    "\n",
    "plt.xlabel('Proper motion phi1 (mas/yr GD1 frame)')\n",
    "plt.ylabel('Proper motion phi2 (mas/yr GD1 frame)')\n",
    "\n",
    "plt.xlim(-12, 8)\n",
    "plt.ylim(-10, 10)"
   ]
  },
  {
   "cell_type": "markdown",
   "id": "ZwBKRDJ1JLH7",
   "metadata": {
    "id": "ZwBKRDJ1JLH7",
    "slideshow": {
     "slide_type": "-"
    }
   },
   "source": [
    "There is a hint of an overdense region near (-7.5, 0), but if you did not know where to look, you would miss it.\n",
    "\n",
    "To see the cluster more clearly, we need a sample that contains a higher proportion of stars in GD-1. We will do that by selecting stars close to the centerline.\n",
    "\n"
   ]
  },
  {
   "cell_type": "markdown",
   "id": "bgx1jG46JLKi",
   "metadata": {
    "id": "bgx1jG46JLKi",
    "slideshow": {
     "slide_type": "slide"
    }
   },
   "source": [
    "# Selecting the centerline\n",
    "\n",
    "---\n",
    "\n",
    "As we can see in the following figure, many stars in GD-1 are less\n",
    "than 1 degree from the line `phi2=0`.\n",
    "\n",
    "<div>\n",
    "<img src=\"https://datacarpentry.org/astronomy-python/fig/gd1-4.png\"/>\n",
    "</div>\n"
   ]
  },
  {
   "cell_type": "markdown",
   "id": "lu05I7KQJ8Nr",
   "metadata": {
    "id": "lu05I7KQJ8Nr",
    "slideshow": {
     "slide_type": "slide"
    }
   },
   "source": [
    "Stars near this line have the highest probability of being in GD-1.\n",
    "\n",
    "To select them, we will use a \"Boolean mask\".  We will start by\n",
    "selecting the `phi2` column from the `DataFrame`:"
   ]
  },
  {
   "cell_type": "code",
   "execution_count": null,
   "id": "pqQiKqVQKRyM",
   "metadata": {
    "id": "pqQiKqVQKRyM",
    "slideshow": {
     "slide_type": "-"
    }
   },
   "outputs": [],
   "source": []
  },
  {
   "cell_type": "markdown",
   "id": "A1Df3X6UJ8Uv",
   "metadata": {
    "id": "A1Df3X6UJ8Uv",
    "slideshow": {
     "slide_type": "slide"
    }
   },
   "source": [
    "The result is a `Series`, which is the structure Pandas uses to\n",
    "represent columns.\n",
    "\n",
    "We can use a comparison operator, `>`, to compare the values in a\n",
    "`Series` to a constant."
   ]
  },
  {
   "cell_type": "code",
   "execution_count": null,
   "id": "dgfXVMbLKW1y",
   "metadata": {
    "id": "dgfXVMbLKW1y",
    "slideshow": {
     "slide_type": "-"
    }
   },
   "outputs": [],
   "source": []
  },
  {
   "cell_type": "markdown",
   "id": "7eF6RyENJ8X1",
   "metadata": {
    "id": "7eF6RyENJ8X1",
    "slideshow": {
     "slide_type": "slide"
    }
   },
   "source": [
    "The result is a `Series` of Boolean values, that is, `True` and `False`."
   ]
  },
  {
   "cell_type": "code",
   "execution_count": null,
   "id": "slBfaIFqKdQq",
   "metadata": {
    "id": "slBfaIFqKdQq",
    "slideshow": {
     "slide_type": "-"
    }
   },
   "outputs": [],
   "source": []
  },
  {
   "cell_type": "markdown",
   "id": "OyLJTjvjJ8an",
   "metadata": {
    "id": "OyLJTjvjJ8an",
    "slideshow": {
     "slide_type": "slide"
    }
   },
   "source": [
    "To select values that fall between `phi2_min` and `phi2_max`, we will\n",
    "use the `&` operator, which computes \"logical AND\".\n",
    "The result is true where elements from both Boolean `Series` are true."
   ]
  },
  {
   "cell_type": "code",
   "execution_count": null,
   "id": "0fGEs5VqKmoF",
   "metadata": {
    "id": "0fGEs5VqKmoF",
    "slideshow": {
     "slide_type": "-"
    }
   },
   "outputs": [],
   "source": []
  },
  {
   "cell_type": "markdown",
   "id": "jBa3YzOEJ8dr",
   "metadata": {
    "id": "jBa3YzOEJ8dr",
    "slideshow": {
     "slide_type": "slide"
    }
   },
   "source": [
    "## 🔔 **LOGICAL OPERATORS**\n",
    "---\n",
    "\n",
    "Python's logical operators (`and`, `or`, and `not`)\n",
    "do not work with NumPy or Pandas.  Both libraries use the bitwise\n",
    "operators (`&`, `|`, and `~`) to do elementwise logical operations\n",
    "([explanation here](https://stackoverflow.com/questions/21415661/logical-operators-for-boolean-indexing-in-pandas)).\n",
    "\n",
    "Also, we need the parentheses around the conditions; otherwise the\n",
    "order of operations is incorrect."
   ]
  },
  {
   "cell_type": "markdown",
   "id": "bJrV6bLeJ8gN",
   "metadata": {
    "id": "bJrV6bLeJ8gN",
    "slideshow": {
     "slide_type": "slide"
    }
   },
   "source": [
    "The sum of a Boolean `Series` is the number of `True` values, so we\n",
    "can use `sum` to see how many stars are in the selected region."
   ]
  },
  {
   "cell_type": "code",
   "execution_count": null,
   "id": "AMZAtTsxK5Tx",
   "metadata": {
    "id": "AMZAtTsxK5Tx",
    "slideshow": {
     "slide_type": "-"
    }
   },
   "outputs": [],
   "source": []
  },
  {
   "cell_type": "markdown",
   "id": "vgpQSJJSJ8i5",
   "metadata": {
    "id": "vgpQSJJSJ8i5",
    "slideshow": {
     "slide_type": "slide"
    }
   },
   "source": [
    "A Boolean `Series` is sometimes called a \"mask\" because we can use it\n",
    "to mask out some of the rows in a `DataFrame` and select the rest,\n",
    "like this:\n"
   ]
  },
  {
   "cell_type": "code",
   "execution_count": null,
   "id": "a-ckxyzfK-yV",
   "metadata": {
    "id": "a-ckxyzfK-yV",
    "slideshow": {
     "slide_type": "-"
    }
   },
   "outputs": [],
   "source": []
  },
  {
   "cell_type": "markdown",
   "id": "o4CeK82WLAx8",
   "metadata": {
    "id": "o4CeK82WLAx8",
    "slideshow": {
     "slide_type": "slide"
    }
   },
   "source": [
    "`centerline_df` is a `DataFrame` that contains only the rows from\n",
    "`results_df` that correspond to `True` values in `mask`.\n",
    "So it contains the stars near the centerline of GD-1.\n",
    "\n",
    "We can use `len` to see how many rows are in `centerline_df`:\n"
   ]
  },
  {
   "cell_type": "code",
   "execution_count": null,
   "id": "Msh07fppLCN7",
   "metadata": {
    "id": "Msh07fppLCN7",
    "slideshow": {
     "slide_type": "-"
    }
   },
   "outputs": [],
   "source": []
  },
  {
   "cell_type": "markdown",
   "id": "4-u5v4OsLDnk",
   "metadata": {
    "id": "4-u5v4OsLDnk",
    "slideshow": {
     "slide_type": "slide"
    }
   },
   "source": [
    "And what fraction of the rows we have selected."
   ]
  },
  {
   "cell_type": "code",
   "execution_count": null,
   "id": "psGknqNSLGKm",
   "metadata": {
    "id": "psGknqNSLGKm",
    "slideshow": {
     "slide_type": "-"
    }
   },
   "outputs": [],
   "source": [
    "len(centerline_df) / len(results_df)"
   ]
  },
  {
   "cell_type": "markdown",
   "id": "b_9_aPXTLHsB",
   "metadata": {
    "id": "b_9_aPXTLHsB",
    "slideshow": {
     "slide_type": "fragment"
    }
   },
   "source": [
    "There are about 25,000 stars in this region, about 18% of the total.\n",
    "\n"
   ]
  },
  {
   "cell_type": "markdown",
   "id": "YsdJATmSLKcL",
   "metadata": {
    "id": "YsdJATmSLKcL",
    "slideshow": {
     "slide_type": "slide"
    }
   },
   "source": [
    "# Plotting proper motion\n",
    "\n",
    "---\n",
    "\n",
    "This is the second time we are plotting proper motion, and we can imagine we might do it a few more times. Instead of copying and pasting the previous code, we will write a function that we can reuse on any dataframe."
   ]
  },
  {
   "cell_type": "code",
   "execution_count": null,
   "id": "RJ8GijbaLM7c",
   "metadata": {
    "id": "RJ8GijbaLM7c",
    "slideshow": {
     "slide_type": "-"
    }
   },
   "outputs": [],
   "source": [
    "def plot_proper_motion(df):\n",
    "    \"\"\"Plot proper motion.\n",
    "\n",
    "    df: DataFrame with `pm_phi1` and `pm_phi2`\n",
    "    \"\"\"\n",
    "    x = df['pm_phi1']\n",
    "    y = df['pm_phi2']\n",
    "    plt.plot(x, y, 'ko', markersize=0.3, alpha=0.3)\n",
    "\n",
    "    plt.xlabel('Proper motion phi1 (mas/yr)')\n",
    "    plt.ylabel('Proper motion phi2 (mas/yr)')\n",
    "\n",
    "    plt.xlim(-12, 8)\n",
    "    plt.ylim(-10, 10)"
   ]
  },
  {
   "cell_type": "markdown",
   "id": "IVTLN0JYLNBq",
   "metadata": {
    "id": "IVTLN0JYLNBq",
    "slideshow": {
     "slide_type": "slide"
    }
   },
   "source": [
    "And we can call it like this:"
   ]
  },
  {
   "cell_type": "code",
   "execution_count": null,
   "id": "ejReeRGqhpAF",
   "metadata": {
    "id": "ejReeRGqhpAF",
    "slideshow": {
     "slide_type": "-"
    }
   },
   "outputs": [],
   "source": []
  },
  {
   "cell_type": "markdown",
   "id": "FV5RTdLehxQI",
   "metadata": {
    "id": "FV5RTdLehxQI",
    "slideshow": {
     "slide_type": "slide"
    }
   },
   "source": [
    "Now we can see more clearly that there is a cluster near (-7.5, 0).\n",
    "\n",
    "You might notice that our figure is less dense than the one in the\n",
    "paper.  That is because we started with a set of stars from a\n",
    "relatively small region.  The figure in the paper is based on a region\n",
    "about 10 times bigger.\n",
    "\n",
    "In the next episode we will go back and select stars from a larger\n",
    "region.  But first we will use the proper motion data to identify stars\n",
    "likely to be in GD-1."
   ]
  },
  {
   "cell_type": "markdown",
   "id": "B6WqhaXth2H3",
   "metadata": {
    "id": "B6WqhaXth2H3",
    "slideshow": {
     "slide_type": "slide"
    }
   },
   "source": [
    "## Filtering based on proper motion\n",
    "---\n",
    "\n",
    "The next step is to select stars in the \"overdense\" region of proper\n",
    "motion, which are candidates to be in GD-1.\n",
    "\n",
    "In the original paper, Price-Whelan and Bonaca used a polygon to cover\n",
    "this region, as shown in this figure.\n",
    "\n",
    "<div>\n",
    "<img src=\"https://datacarpentry.org/astronomy-python/fig/gd1-1.png\" alt=\"Scatter plot of proper motion with overlaid polygon showing overdense region selected for analysis in Price-Whelan and Bonaca paper.\" />\n",
    "</div>\n",
    "\n",
    "\n",
    "\n",
    "We will use a simple rectangle for now, but in a later lesson we will see\n",
    "how to select a polygonal region as well."
   ]
  },
  {
   "cell_type": "markdown",
   "id": "2kYZP0GHiSsw",
   "metadata": {
    "id": "2kYZP0GHiSsw",
    "slideshow": {
     "slide_type": "slide"
    }
   },
   "source": [
    "Here are bounds on proper motion we chose by eye:"
   ]
  },
  {
   "cell_type": "code",
   "execution_count": null,
   "id": "mhz8sW-FiTDx",
   "metadata": {
    "id": "mhz8sW-FiTDx",
    "slideshow": {
     "slide_type": "-"
    }
   },
   "outputs": [],
   "source": [
    "pm1_min = -8.9\n",
    "pm1_max = -6.9\n",
    "pm2_min = -2.2\n",
    "pm2_max =  1.0"
   ]
  },
  {
   "cell_type": "markdown",
   "id": "-RvRohS_iZHN",
   "metadata": {
    "id": "-RvRohS_iZHN",
    "slideshow": {
     "slide_type": "slide"
    }
   },
   "source": [
    "To draw these bounds, we will use the `make_rectangle` function we wrote in episode 2 to make two lists containing the coordinates of the corners of the rectangle."
   ]
  },
  {
   "cell_type": "code",
   "execution_count": null,
   "id": "dc1ec9ea",
   "metadata": {
    "id": "9YYf5VYEic1q",
    "slideshow": {
     "slide_type": "-"
    }
   },
   "outputs": [],
   "source": [
    "pm1_rect, pm2_rect = make_rectangle(\n",
    "    pm1_min, pm1_max, pm2_min, pm2_max)"
   ]
  },
  {
   "cell_type": "markdown",
   "id": "4b99455b",
   "metadata": {
    "slideshow": {
     "slide_type": "slide"
    }
   },
   "source": [
    "Here is what the plot looks like with the bounds we chose."
   ]
  },
  {
   "cell_type": "code",
   "execution_count": null,
   "id": "LBcmF148iti7",
   "metadata": {
    "id": "LBcmF148iti7",
    "slideshow": {
     "slide_type": "-"
    }
   },
   "outputs": [],
   "source": [
    "plot_proper_motion(centerline_df)\n",
    "plt.plot(pm1_rect, pm2_rect, '-')"
   ]
  },
  {
   "cell_type": "markdown",
   "id": "w384Zkcri_5a",
   "metadata": {
    "id": "w384Zkcri_5a",
    "slideshow": {
     "slide_type": "slide"
    }
   },
   "source": [
    "Now that we have identified the bounds of the cluster in proper motion,\n",
    "we will use it to select rows from `results_df`.\n",
    "\n",
    "We will use the following function, which uses Pandas operators to make\n",
    "a mask that selects rows where `series` falls between `low` and\n",
    "`high`."
   ]
  },
  {
   "cell_type": "code",
   "execution_count": null,
   "id": "RL6LA0rOjCP-",
   "metadata": {
    "id": "RL6LA0rOjCP-",
    "slideshow": {
     "slide_type": "slide"
    }
   },
   "outputs": [],
   "source": [
    "def between(series, low, high):\n",
    "    \"\"\"Check whether values are between `low` and `high`.\"\"\"\n",
    "    return (series > low) & (series < high)"
   ]
  },
  {
   "cell_type": "markdown",
   "id": "wj4DzEumjD3L",
   "metadata": {
    "id": "wj4DzEumjD3L",
    "slideshow": {
     "slide_type": "slide"
    }
   },
   "source": [
    "The following mask selects stars with proper motion in the region we chose."
   ]
  },
  {
   "cell_type": "code",
   "execution_count": null,
   "id": "jFcLhPmPjFj_",
   "metadata": {
    "id": "jFcLhPmPjFj_",
    "slideshow": {
     "slide_type": "-"
    }
   },
   "outputs": [],
   "source": [
    "pm1 = results_df['pm_phi1']\n",
    "pm2 = results_df['pm_phi2']\n",
    "\n",
    "pm_mask = (between(pm1, pm1_min, pm1_max) &\n",
    "           between(pm2, pm2_min, pm2_max))"
   ]
  },
  {
   "cell_type": "markdown",
   "id": "yNwgkjlnjJZh",
   "metadata": {
    "id": "yNwgkjlnjJZh",
    "slideshow": {
     "slide_type": "slide"
    }
   },
   "source": [
    "Again, the sum of a Boolean series is the number of `TRUE` values."
   ]
  },
  {
   "cell_type": "code",
   "execution_count": null,
   "id": "1F8Y0yiyjM1g",
   "metadata": {
    "id": "1F8Y0yiyjM1g",
    "slideshow": {
     "slide_type": "-"
    }
   },
   "outputs": [],
   "source": [
    "pm_mask.sum()"
   ]
  },
  {
   "cell_type": "markdown",
   "id": "KhOvxSLtjP1m",
   "metadata": {
    "id": "KhOvxSLtjP1m",
    "slideshow": {
     "slide_type": "slide"
    }
   },
   "source": [
    "Now we can use this mask to select rows from `results_df`."
   ]
  },
  {
   "cell_type": "code",
   "execution_count": null,
   "id": "xpkRjOkQjQMU",
   "metadata": {
    "id": "xpkRjOkQjQMU",
    "slideshow": {
     "slide_type": "-"
    }
   },
   "outputs": [],
   "source": [
    "selected_df = results_df[pm_mask]\n",
    "len(selected_df)"
   ]
  },
  {
   "cell_type": "markdown",
   "id": "k1CtCTwGjUg_",
   "metadata": {
    "id": "k1CtCTwGjUg_",
    "slideshow": {
     "slide_type": "slide"
    }
   },
   "source": [
    "These are the stars we think are likely to be in GD-1. We can inspect these stars, plotting their coordinates (not their proper motion)."
   ]
  },
  {
   "cell_type": "code",
   "execution_count": null,
   "id": "NsdX1Ea2jWPh",
   "metadata": {
    "id": "NsdX1Ea2jWPh",
    "slideshow": {
     "slide_type": "-"
    }
   },
   "outputs": [],
   "source": [
    "x = selected_df['phi1']\n",
    "y = selected_df['phi2']\n",
    "plt.plot(x, y, 'ko', markersize=1, alpha=1)\n",
    "\n",
    "plt.xlabel('phi1 (degree GD1)')\n",
    "plt.ylabel('phi2 (degree GD1)')"
   ]
  },
  {
   "cell_type": "markdown",
   "id": "Dc9RtkugjZU5",
   "metadata": {
    "id": "Dc9RtkugjZU5",
    "slideshow": {
     "slide_type": "slide"
    }
   },
   "source": [
    "Now that is starting to look like a tidal stream!\n",
    "\n",
    "To clean up the plot a little bit we can add two new Matplotlib commands:\n",
    "\n",
    "- `axis` with the parameter `equal` sets up the axes so a unit is the\n",
    "  same size along the `x` and `y` axes.\n",
    "\n",
    "- `title` puts the input string as a title at the top of the plot. The `fontsize` keyword\n",
    "  sets the `fontsize` to be `medium`, a little smaller than the default `large`.\n",
    "\n",
    "In an example like this, where `x` and `y` represent coordinates in\n",
    "space, equal axes ensures that the distance between points is\n",
    "represented accurately. Since we are now constraining the relative proportions\n",
    "of our axes, the data may not fill the entire figure."
   ]
  },
  {
   "cell_type": "code",
   "execution_count": null,
   "id": "Gbu5XcaIjdzE",
   "metadata": {
    "id": "Gbu5XcaIjdzE",
    "slideshow": {
     "slide_type": "slide"
    }
   },
   "outputs": [],
   "source": [
    "x = selected_df['phi1']\n",
    "y = selected_df['phi2']\n",
    "\n",
    "plt.plot(x, y, 'ko', markersize=0.3, alpha=0.3)\n",
    "\n",
    "plt.xlabel('phi1 [deg]')\n",
    "plt.ylabel('phi2 [deg]')\n",
    "plt.title('Proper motion selection', fontsize='medium')\n",
    "\n",
    "plt.axis('equal')"
   ]
  },
  {
   "cell_type": "markdown",
   "id": "GMNdU--wjgva",
   "metadata": {
    "id": "GMNdU--wjgva",
    "slideshow": {
     "slide_type": "slide"
    }
   },
   "source": [
    "Before we go any further, we will put the code we wrote to make one of the panel figures into a function that we will use in future episodes to recreate this entire plot with a single line of code."
   ]
  },
  {
   "cell_type": "code",
   "execution_count": null,
   "id": "FjrKKBrDjhHX",
   "metadata": {
    "id": "FjrKKBrDjhHX",
    "slideshow": {
     "slide_type": "slide"
    }
   },
   "outputs": [],
   "source": [
    "def plot_pm_selection(df):\n",
    "    \"\"\"Plot in GD-1 spatial coordinates the location of the stars\n",
    "    selected by proper motion\n",
    "    \"\"\"\n",
    "    x = df['phi1']\n",
    "    y = df['phi2']\n",
    "\n",
    "    plt.plot(x, y, 'ko', markersize=0.3, alpha=0.3)\n",
    "\n",
    "    plt.xlabel('phi1 [deg]')\n",
    "    plt.ylabel('phi2 [deg]')\n",
    "    plt.title('Proper motion selection', fontsize='medium')\n",
    "\n",
    "    plt.axis('equal')"
   ]
  },
  {
   "cell_type": "markdown",
   "id": "iiNA4OLqjlXl",
   "metadata": {
    "id": "iiNA4OLqjlXl",
    "slideshow": {
     "slide_type": "slide"
    }
   },
   "source": [
    "Now our one line plot command is:\n",
    "\n"
   ]
  },
  {
   "cell_type": "code",
   "execution_count": null,
   "id": "yJk13TFijj_2",
   "metadata": {
    "id": "yJk13TFijj_2",
    "slideshow": {
     "slide_type": "-"
    }
   },
   "outputs": [],
   "source": [
    "plot_pm_selection(selected_df)"
   ]
  },
  {
   "cell_type": "markdown",
   "id": "uGGCKEFCjrae",
   "metadata": {
    "id": "uGGCKEFCjrae",
    "slideshow": {
     "slide_type": "slide"
    }
   },
   "source": [
    "## Saving the DataFrame\n",
    "---\n",
    "\n",
    "At this point we have run a successful query and cleaned up the\n",
    "results. This is a good time to save the data.\n",
    "We have already started a results file called gd1\\_data.hdf which we wrote `results_df` to.\n",
    "\n",
    "Recall that we chose HDF5 because it is a binary format producing small files that are fast to read and write and are a cross-language standard.\n",
    "\n",
    "Additionally, HDF5 files can contain more than one dataset and can store metadata associated with each dataset (such as column names or observatory information, like a FITS header).\n",
    "\n",
    "We can add to our existing Pandas `DataFrame` to an HDF5 file by omitting the `mode='w'` keyword like this:\n"
   ]
  },
  {
   "cell_type": "code",
   "execution_count": null,
   "id": "aL2KYwQRj4wD",
   "metadata": {
    "id": "aL2KYwQRj4wD",
    "slideshow": {
     "slide_type": "slide"
    }
   },
   "outputs": [],
   "source": [
    "filename = 'gd1_data.hdf'\n",
    "\n",
    "selected_df.to_hdf(filename, 'selected_df')"
   ]
  },
  {
   "cell_type": "markdown",
   "id": "pT2F4Gt8j7QH",
   "metadata": {
    "id": "pT2F4Gt8j7QH",
    "slideshow": {
     "slide_type": "slide"
    }
   },
   "source": [
    "Because an HDF5 file can contain more than one Dataset, we have to\n",
    "provide a name, or \"key\", that identifies the Dataset in the file.\n",
    "\n",
    "We could use any string as the key, but it is generally a good practice\n",
    "to use a descriptive name (just like your `DataFrame` variable name) so\n",
    "we will give the Dataset in the file the same name (key) as the `DataFrame`.\n"
   ]
  },
  {
   "cell_type": "markdown",
   "id": "CiXxq8L-j89w",
   "metadata": {
    "id": "CiXxq8L-j89w",
    "slideshow": {
     "slide_type": "slide"
    }
   },
   "source": [
    "## <p style=\"background-color: #f5df18; padding: 10px;\"> 🛑 Exercise (5 Minutes) </p>\n",
    "\n",
    "---\n",
    "We are going to need `centerline_df` later as well.  Write a line of\n",
    "code to add it as a second Dataset in the HDF5 file.\n",
    "\n",
    "Hint: Since the file already exists, you should *not* use `mode='w'`.\n"
   ]
  },
  {
   "cell_type": "code",
   "execution_count": null,
   "id": "hBw08a1tkONE",
   "metadata": {
    "id": "hBw08a1tkONE",
    "slideshow": {
     "slide_type": "-"
    }
   },
   "outputs": [],
   "source": [
    "### Your answer here ###"
   ]
  },
  {
   "cell_type": "markdown",
   "id": "wzoXpMqnkMwc",
   "metadata": {
    "id": "wzoXpMqnkMwc",
    "slideshow": {
     "slide_type": "slide"
    }
   },
   "source": [
    "We can use `getsize` to confirm that the file exists and check the size.\n",
    "`getsize` returns a value in bytes. For the size files we're looking at, it will\n",
    "be useful to view their size in MegaBytes (MB), so we will divide by 1024\\*1024.\n"
   ]
  },
  {
   "cell_type": "code",
   "execution_count": null,
   "id": "WX1JfzTwkSD3",
   "metadata": {
    "id": "WX1JfzTwkSD3",
    "slideshow": {
     "slide_type": "slide"
    }
   },
   "outputs": [],
   "source": [
    "from os.path import getsize\n",
    "\n",
    "MB = 1024 * 1024\n",
    "getsize(filename) / MB"
   ]
  },
  {
   "cell_type": "markdown",
   "id": "7U3U56jEkTyi",
   "metadata": {
    "id": "7U3U56jEkTyi",
    "slideshow": {
     "slide_type": "slide"
    }
   },
   "source": [
    "If you forget what the names of the Datasets in the file are, you can read them back like this:"
   ]
  },
  {
   "cell_type": "code",
   "execution_count": null,
   "id": "4BXIbyZqkbuM",
   "metadata": {
    "id": "4BXIbyZqkbuM",
    "slideshow": {
     "slide_type": "slide"
    }
   },
   "outputs": [],
   "source": [
    "with pd.HDFStore(filename) as hdf:\n",
    "    print(hdf.keys())"
   ]
  },
  {
   "cell_type": "markdown",
   "id": "IvpRWhvqkiC0",
   "metadata": {
    "id": "IvpRWhvqkiC0",
    "slideshow": {
     "slide_type": "slide"
    }
   },
   "source": [
    "## 🔔 Context Managers\n",
    "---\n",
    "\n",
    "We use a `with` statement here to open the file\n",
    "before the print statement and (automatically) close it after.  Read\n",
    "more about [context managers](https://book.pythontips.com/en/latest/context_managers.html).\n",
    "\n"
   ]
  },
  {
   "cell_type": "markdown",
   "id": "NjrHieD4mN7h",
   "metadata": {
    "id": "NjrHieD4mN7h",
    "slideshow": {
     "slide_type": "slide"
    }
   },
   "source": [
    "The keys are the names of the Datasets which makes it easy for us to remember which DataFrame is in which Dataset."
   ]
  },
  {
   "cell_type": "markdown",
   "id": "HhMD0cz9kN-x",
   "metadata": {
    "id": "HhMD0cz9kN-x",
    "slideshow": {
     "slide_type": "slide"
    }
   },
   "source": [
    "# Summary\n",
    "\n",
    "---\n",
    "In this episode, we re-loaded the transformed Gaia data we saved from a previous query.\n",
    "\n",
    "Then we prototyped the selection process from the Price-Whelan and Bonaca paper locally using data that we had already downloaded.:\n",
    "\n",
    "- We selected stars near the centerline of GD-1 and made a scatter\n",
    "  plot of their proper motion.\n",
    "\n",
    "- We identified a region of proper motion that contains stars likely\n",
    "  to be in GD-1.\n",
    "\n",
    "- We used a Boolean `Series` as a mask to select stars whose proper\n",
    "  motion is in that region.\n",
    "\n",
    "So far, we have used data from a relatively small region of the sky so that our local dataset was not too big.\n",
    "In the next lesson, we will write a query that selects stars based on\n",
    "the proper motion limits we identified in this lesson, which will allow us to explore a larger region."
   ]
  },
  {
   "cell_type": "markdown",
   "id": "c3xyuFI9k7XT",
   "metadata": {
    "id": "c3xyuFI9k7XT"
   },
   "source": [
    "# <p style=\"background-color: #f5df18; padding: 10px;\"> 🗝️ Key points</p>\n",
    "---\n",
    "\n",
    "\n",
    "- A workflow is often prototyped on a small set of data which can be explored more easily and used to identify ways to limit a dataset to exactly the data you want.\n",
    "- To store data from a Pandas `DataFrame`, a good option is an HDF5 file, which can contain multiple Datasets.\n"
   ]
  }
 ],
 "metadata": {
  "celltoolbar": "Slideshow",
  "colab": {
   "provenance": []
  },
  "kernelspec": {
   "display_name": "Python 3 (ipykernel)",
   "language": "python",
   "name": "python3"
  },
  "language_info": {
   "codemirror_mode": {
    "name": "ipython",
    "version": 3
   },
   "file_extension": ".py",
   "mimetype": "text/x-python",
   "name": "python",
   "nbconvert_exporter": "python",
   "pygments_lexer": "ipython3",
   "version": "3.11.3"
  },
  "toc-showcode": true
 },
 "nbformat": 4,
 "nbformat_minor": 5
}
