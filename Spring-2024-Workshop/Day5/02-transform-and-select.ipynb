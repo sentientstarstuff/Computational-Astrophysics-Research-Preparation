{
 "cells": [
  {
   "cell_type": "markdown",
   "id": "labeled-firewall",
   "metadata": {
    "id": "labeled-firewall",
    "slideshow": {
     "slide_type": "slide"
    }
   },
   "source": [
    "## <p style=\"background-color: #f5df18; padding: 10px;\"> Foundations of Astronomical Data Science | **Transform and Select** </p>\n",
    "\n",
    "\n",
    "\n",
    "### <strong>Instructor: <span style=\"color: darkblue;\">Name (Affliation)</span></strong>\n",
    "\n",
    "Estimated completion time: 🕚 70 minutes\n",
    "\n"
   ]
  },
  {
   "cell_type": "markdown",
   "id": "0109e2a1",
   "metadata": {
    "slideshow": {
     "slide_type": "slide"
    }
   },
   "source": [
    "<div style=\"display: flex;\">\n",
    "    <div style=\"flex: 1; margin-right: 10px;\">\n",
    "        <h2>Questions</h2>\n",
    "        <ul>\n",
    "            <li>When should we use the database server for computation?</li>\n",
    "    <li>When should we download the data from the database server and compute locally?</li>\n",
    "        </ul>\n",
    "    </div>\n",
    "    <div style=\"flex: 1;\">\n",
    "        <h2>Learning Objectives</h2>\n",
    "        <ul>\n",
    "            <li>Transform proper motions from one frame to another.</li>\n",
    "    <li>Compute the convex hull of a set of points.</li>\n",
    "    <li>Write an ADQL query that selects based on proper motion.</li>\n",
    "        </ul>\n",
    "    </div>\n",
    "</div>"
   ]
  },
  {
   "cell_type": "markdown",
   "id": "motivated-manufacturer",
   "metadata": {
    "id": "motivated-manufacturer",
    "slideshow": {
     "slide_type": "slide"
    }
   },
   "source": [
    "In the previous episode, we identified stars with the proper motion we\n",
    "expect for GD-1.\n",
    "\n",
    "Now we will do the same selection in an ADQL query, which will make it\n",
    "possible to work with a larger region of the sky and still download\n",
    "less data."
   ]
  },
  {
   "cell_type": "markdown",
   "id": "e9nBPvR3nimC",
   "metadata": {
    "id": "e9nBPvR3nimC",
    "slideshow": {
     "slide_type": "slide"
    }
   },
   "source": [
    "# Outline\n",
    "---\n",
    "\n",
    "1. Using data from the previous episode, we will identify the values of\n",
    "  proper motion for stars likely to be in GD-1.\n",
    "\n",
    "2. Then we will compose an ADQL query that selects stars based on proper\n",
    "  motion, so we can download only the data we need.\n",
    "\n",
    "That will make it possible to search a bigger region of the sky in a\n",
    "single query."
   ]
  },
  {
   "cell_type": "markdown",
   "id": "pressed-commerce",
   "metadata": {
    "id": "pressed-commerce",
    "slideshow": {
     "slide_type": "slide"
    },
    "tags": []
   },
   "source": [
    "# Selection by proper motion\n",
    "---\n",
    "\n",
    "\n",
    "Let us review how we got to this point.\n",
    "\n",
    "1. We made an ADQL query to the Gaia server to get data for stars in\n",
    "  the vicinity of a small part of GD-1.\n",
    "\n",
    "2. We transformed the coordinates to the GD-1 frame (`GD1Koposov10`) so we\n",
    "  could select stars along the centerline of GD-1.\n",
    "\n",
    "3. We plotted the proper motion of stars along the centerline of GD-1\n",
    "  to identify the bounds of an anomalous overdense region associated\n",
    "  with the proper motion of stars in GD-1.\n",
    "\n",
    "4. We made a mask that selects stars whose proper motion is in this\n",
    "  overdense region and which are therefore likely to be part of the GD-1 stream."
   ]
  },
  {
   "cell_type": "markdown",
   "id": "93b54dc0",
   "metadata": {
    "slideshow": {
     "slide_type": "slide"
    }
   },
   "source": [
    "At this point we have downloaded data for a relatively large number of\n",
    "stars (more than 100,000) and selected a relatively small number\n",
    "(around 1000).\n",
    "\n",
    "It would be more efficient to use ADQL to select only the stars we\n",
    "need.  That would also make it possible to download data covering a\n",
    "larger region of the sky.\n",
    "\n",
    "However, the selection we did was based on proper motion in the\n",
    "GD-1 frame. In order to do the same selection on the Gaia catalog in ADQL,\n",
    "we have to work with proper motions in the ICRS frame as this is the\n",
    "frame that the Gaia catalog uses."
   ]
  },
  {
   "cell_type": "markdown",
   "id": "30150f3b",
   "metadata": {
    "slideshow": {
     "slide_type": "slide"
    }
   },
   "source": [
    "First, we will verify that our proper motion selection was correct,\n",
    "starting with the `plot_proper_motion` function that we defined in episode 3.\n",
    "The following figure shows:\n",
    "\n",
    "- Proper motion for the stars we selected along the center line of GD-1,\n",
    "\n",
    "- The rectangle we selected, and\n",
    "\n",
    "- The stars inside the rectangle highlighted in green."
   ]
  },
  {
   "cell_type": "code",
   "execution_count": null,
   "id": "superior-entertainment",
   "metadata": {
    "id": "superior-entertainment",
    "scrolled": true,
    "slideshow": {
     "slide_type": "-"
    },
    "tags": []
   },
   "outputs": [],
   "source": []
  },
  {
   "cell_type": "markdown",
   "id": "mX2T8Jy3pSUh",
   "metadata": {
    "id": "mX2T8Jy3pSUh",
    "slideshow": {
     "slide_type": "slide"
    }
   },
   "source": [
    "Now we will make the same plot using proper motions in the ICRS frame,\n",
    "which are stored in columns named `pmra` and `pmdec`."
   ]
  },
  {
   "cell_type": "code",
   "execution_count": null,
   "id": "arctic-spirit",
   "metadata": {
    "id": "arctic-spirit",
    "slideshow": {
     "slide_type": "-"
    },
    "tags": []
   },
   "outputs": [],
   "source": [
    "#"
   ]
  },
  {
   "cell_type": "markdown",
   "id": "XkFWwVUNqHiL",
   "metadata": {
    "id": "XkFWwVUNqHiL",
    "slideshow": {
     "slide_type": "slide"
    }
   },
   "source": [
    "The proper motions of the selected stars are more spread out in this\n",
    "frame, which is why it was preferable to do the selection in the GD-1\n",
    "frame.\n",
    "\n",
    "In the following exercise, we will identify a rectangle that encompasses the majority of the stars we identified as having proper motion consistent with that of GD-1 without including too many other stars."
   ]
  },
  {
   "cell_type": "code",
   "execution_count": null,
   "id": "gWc06PxtqKde",
   "metadata": {
    "id": "gWc06PxtqKde",
    "slideshow": {
     "slide_type": "-"
    }
   },
   "outputs": [],
   "source": [
    "##"
   ]
  },
  {
   "cell_type": "markdown",
   "id": "c4997f9a",
   "metadata": {
    "slideshow": {
     "slide_type": "slide"
    }
   },
   "source": [
    "## <p style=\"background-color: #f5df18; padding: 10px;\"> 🛑 Exercise (5 Minutes) </p>\n",
    "\n",
    "Looking at the proper motion of the stars we identified along the centerline of GD-1, in the ICRS reference frame\n",
    "define a rectangle (`pmra_min`, `pmra_max`, `pmdec_min`, and `pmdec_max`)\n",
    "that encompass the proper motion of the majority of the stars near the centerline of GD-1 without including to much contamination from other stars.\n"
   ]
  },
  {
   "cell_type": "code",
   "execution_count": 1,
   "id": "126821f2",
   "metadata": {
    "slideshow": {
     "slide_type": "-"
    }
   },
   "outputs": [],
   "source": [
    "### your answer here ###"
   ]
  },
  {
   "cell_type": "markdown",
   "id": "HhMD0cz9kN-x",
   "metadata": {
    "id": "HhMD0cz9kN-x",
    "slideshow": {
     "slide_type": "slide"
    }
   },
   "source": [
    "## Selecting a Region\n",
    "---\n",
    "\n",
    "In lesson 2 we used the following query to select stars in a polygonal region\n",
    "around a small part of GD-1 with a few filters on color and distance (parallax):\n",
    "\n",
    "```python\n",
    "candidate_coord_query_base = \"\"\"SELECT\n",
    "{columns}\n",
    "FROM gaiadr2.gaia_source\n",
    "WHERE parallax < 1\n",
    "  AND bp_rp BETWEEN -0.75 AND 2 \n",
    "  AND 1 = CONTAINS(POINT(ra, dec), \n",
    "                   POLYGON({sky_point_list}))\n",
    "\"\"\"\n",
    "```"
   ]
  },
  {
   "cell_type": "code",
   "execution_count": null,
   "id": "92f656dd",
   "metadata": {
    "slideshow": {
     "slide_type": "-"
    }
   },
   "outputs": [],
   "source": []
  },
  {
   "cell_type": "markdown",
   "id": "4196a3d8",
   "metadata": {
    "slideshow": {
     "slide_type": "slide"
    }
   },
   "source": [
    "In this episode we will make two changes:\n",
    "\n",
    "1. We will select stars with coordinates in a larger region to include more of GD-1.\n",
    "\n",
    "2. We will add another clause to select stars whose proper motion is in\n",
    "  the range we just defined in the previous exercise.\n",
    "\n",
    "The fact that we remove most contaminating stars with the proper\n",
    "motion filter is what allows us to expand our query to include\n",
    "most of GD-1 without returning too many results.\n",
    "As we did in episode 2, we will define the physical region we want\n",
    "to select in the GD-1 frame and transform it to the ICRS frame\n",
    "to query the Gaia catalog which is in the ICRS frame.\n",
    "\n",
    "Here are the coordinates of the larger rectangle in the GD-1 frame."
   ]
  },
  {
   "cell_type": "code",
   "execution_count": null,
   "id": "b6f9b386",
   "metadata": {
    "slideshow": {
     "slide_type": "-"
    }
   },
   "outputs": [],
   "source": []
  },
  {
   "cell_type": "markdown",
   "id": "385304d0",
   "metadata": {
    "slideshow": {
     "slide_type": "slide"
    }
   },
   "source": [
    "We selected these bounds by trial and error, defining the largest\n",
    "region we can process in a single query."
   ]
  },
  {
   "cell_type": "code",
   "execution_count": null,
   "id": "b8f18de2",
   "metadata": {
    "slideshow": {
     "slide_type": "-"
    }
   },
   "outputs": [],
   "source": []
  },
  {
   "cell_type": "markdown",
   "id": "a569b036",
   "metadata": {
    "slideshow": {
     "slide_type": "slide"
    }
   },
   "source": [
    "Here is how we transform it to ICRS, as we saw in lesson 2."
   ]
  },
  {
   "cell_type": "code",
   "execution_count": null,
   "id": "83375cb3",
   "metadata": {
    "slideshow": {
     "slide_type": "-"
    }
   },
   "outputs": [],
   "source": []
  },
  {
   "cell_type": "markdown",
   "id": "3a4510ae",
   "metadata": {
    "slideshow": {
     "slide_type": "slide"
    }
   },
   "source": [
    "To use `corners_icrs` as part of an ADQL query, we have to convert it\n",
    "to a string.\n",
    "Fortunately, we wrote a function, `skycoord_to_string` to do this in episode 2\n",
    "which we will call now."
   ]
  },
  {
   "cell_type": "code",
   "execution_count": null,
   "id": "806afbe3",
   "metadata": {
    "slideshow": {
     "slide_type": "-"
    }
   },
   "outputs": [],
   "source": []
  },
  {
   "cell_type": "code",
   "execution_count": null,
   "id": "b8f52581",
   "metadata": {
    "slideshow": {
     "slide_type": "-"
    }
   },
   "outputs": [],
   "source": []
  },
  {
   "cell_type": "markdown",
   "id": "f0212f2d",
   "metadata": {
    "slideshow": {
     "slide_type": "slide"
    }
   },
   "source": [
    "Here are the columns we want to select."
   ]
  },
  {
   "cell_type": "code",
   "execution_count": null,
   "id": "5dd2612d",
   "metadata": {
    "slideshow": {
     "slide_type": "-"
    }
   },
   "outputs": [],
   "source": []
  },
  {
   "cell_type": "markdown",
   "id": "f0bdf1a1",
   "metadata": {
    "slideshow": {
     "slide_type": "slide"
    }
   },
   "source": [
    "Now we have everything we need to assemble the query, but\n",
    "**DO NOT try to run this query**.\n",
    "Because it selects a larger region, there are too many stars to handle\n",
    "in a single query. Until we select by proper motion, that is."
   ]
  },
  {
   "cell_type": "code",
   "execution_count": null,
   "id": "81c35a97",
   "metadata": {
    "slideshow": {
     "slide_type": "-"
    }
   },
   "outputs": [],
   "source": []
  },
  {
   "cell_type": "code",
   "execution_count": null,
   "id": "3b593526",
   "metadata": {
    "slideshow": {
     "slide_type": "-"
    }
   },
   "outputs": [],
   "source": []
  },
  {
   "cell_type": "markdown",
   "id": "769b68e8",
   "metadata": {
    "slideshow": {
     "slide_type": "slide"
    }
   },
   "source": [
    "## Selecting proper motion\n",
    "---\n",
    "\n",
    "Now we are ready to add a `WHERE` clause to select stars whose proper\n",
    "motion falls range we defined in the last exercise."
   ]
  },
  {
   "cell_type": "markdown",
   "id": "ZBQQ13FV67XG",
   "metadata": {
    "id": "ZBQQ13FV67XG",
    "slideshow": {
     "slide_type": "slide"
    }
   },
   "source": [
    "## <p style=\"background-color: #f5df18; padding: 10px;\"> 🛑 Exercise (10 Minutes) </p>\n",
    "---\n",
    "\n",
    "Define `candidate_coord_pm_query_base`, starting with `candidate_coord_query_base` and adding two new `BETWEEN`\n",
    "clauses to select stars whose coordinates of proper motion, `pmra` and\n",
    "`pmdec`, fall within the region defined by `pmra_min`, `pmra_max`, `pmdec_min`, and `pmdec_max`.\n",
    "In the next exercise we will use the format statement to fill in the values we defined above."
   ]
  },
  {
   "cell_type": "code",
   "execution_count": null,
   "id": "_G3VRpXn7KqM",
   "metadata": {
    "id": "_G3VRpXn7KqM",
    "slideshow": {
     "slide_type": "-"
    }
   },
   "outputs": [],
   "source": [
    "### your answer here ####"
   ]
  },
  {
   "cell_type": "markdown",
   "id": "dfe2b450",
   "metadata": {
    "slideshow": {
     "slide_type": "slide"
    }
   },
   "source": [
    "## <p style=\"background-color: #f5df18; padding: 10px;\"> 🛑 Exercise (5 Minutes) </p>\n",
    "---\n",
    "\n",
    "Use `format` to format `candidate_coord_pm_query_base` and define `candidate_coord_pm_query`, filling in\n",
    "the values of `columns`, `sky_point_list`, and `pmra_min`, `pmra_max`, `pmdec_min`, `pmdec_max`."
   ]
  },
  {
   "cell_type": "code",
   "execution_count": null,
   "id": "79b95ce5",
   "metadata": {
    "slideshow": {
     "slide_type": "-"
    }
   },
   "outputs": [],
   "source": [
    "### your answer here ####"
   ]
  },
  {
   "cell_type": "markdown",
   "id": "8e463ca8",
   "metadata": {
    "slideshow": {
     "slide_type": "slide"
    }
   },
   "source": [
    "Now we can run the query like this:"
   ]
  },
  {
   "cell_type": "code",
   "execution_count": null,
   "id": "840f0b69",
   "metadata": {
    "slideshow": {
     "slide_type": "-"
    }
   },
   "outputs": [],
   "source": []
  },
  {
   "cell_type": "code",
   "execution_count": null,
   "id": "0984d392",
   "metadata": {
    "slideshow": {
     "slide_type": "-"
    }
   },
   "outputs": [],
   "source": []
  },
  {
   "cell_type": "markdown",
   "id": "eaee8c8d",
   "metadata": {
    "slideshow": {
     "slide_type": "slide"
    }
   },
   "source": [
    "And get the results."
   ]
  },
  {
   "cell_type": "code",
   "execution_count": null,
   "id": "88767a48",
   "metadata": {
    "slideshow": {
     "slide_type": "-"
    }
   },
   "outputs": [],
   "source": []
  },
  {
   "cell_type": "code",
   "execution_count": null,
   "id": "8f6b0492",
   "metadata": {
    "slideshow": {
     "slide_type": "-"
    }
   },
   "outputs": [],
   "source": []
  },
  {
   "cell_type": "markdown",
   "id": "1e366bfa",
   "metadata": {
    "slideshow": {
     "slide_type": "slide"
    }
   },
   "source": [
    "## 🔔 BETWEEN vs POLYGON\n",
    "---\n",
    "\n",
    "You may be wondering why we used `BETWEEN` for proper motion when we previously used `POLYGON`\n",
    "for coordinates. ADQL intends the `POLYGON` function to only be used on coordinates and not on proper motion.\n",
    "To enforce this, it will produce an error when a negative value is passed into the first argument."
   ]
  },
  {
   "cell_type": "markdown",
   "id": "b40c5e65",
   "metadata": {
    "slideshow": {
     "slide_type": "slide"
    }
   },
   "source": [
    "We call the results `candidate_gaia_table` because it contains information from\n",
    "the Gaia table for stars that are good candidates for GD-1.\n",
    "\n",
    "`sky_point_list`, `pmra_min`, `pmra_max`, `pmdec_min`, and `pmdec_max` are a set of selection criteria that we\n",
    "derived from data downloaded from the Gaia Database. To make sure we can repeat\n",
    "our analysis at a later date we should save this information to a file.\n",
    "\n",
    "There are several ways we could do that, but since we are already\n",
    "storing data in an HDF5 file, we will do the same with these variables.\n",
    "\n",
    "To save them to an HDF5 file we first need to put them in a Pandas object.\n",
    "We have seen how to create a `Series` from a column in a `DataFrame`.\n",
    "Now we will build a `Series` from scratch.\n",
    "We do not need the full `DataFrame` format with multiple rows and columns\n",
    "because we are only storing one string (`sky_point_list`).\n",
    "We can store each string as a row in the `Series` and save it. One aspect that\n",
    "is nice about `Series` is that we can label each row.\n",
    "To do this we need an object that can define both the name of each row and\n",
    "the data to go in that row. We can use a Python `Dictionary` for this,\n",
    "defining the row names with the dictionary keys and the row data with\n",
    "the dictionary values."
   ]
  },
  {
   "cell_type": "code",
   "execution_count": null,
   "id": "342fe0c4",
   "metadata": {
    "slideshow": {
     "slide_type": "-"
    }
   },
   "outputs": [],
   "source": []
  },
  {
   "cell_type": "markdown",
   "id": "5bdee525",
   "metadata": {
    "slideshow": {
     "slide_type": "slide"
    }
   },
   "source": [
    "And use this `Dictionary` to initialize a `Series`."
   ]
  },
  {
   "cell_type": "code",
   "execution_count": null,
   "id": "8b8d5e42",
   "metadata": {
    "slideshow": {
     "slide_type": "-"
    }
   },
   "outputs": [],
   "source": []
  },
  {
   "cell_type": "markdown",
   "id": "8069016f",
   "metadata": {
    "slideshow": {
     "slide_type": "slide"
    }
   },
   "source": [
    "Now we can save our `Series` using `to_hdf()`."
   ]
  },
  {
   "cell_type": "code",
   "execution_count": null,
   "id": "31abd3c9",
   "metadata": {
    "slideshow": {
     "slide_type": "-"
    }
   },
   "outputs": [],
   "source": []
  },
  {
   "cell_type": "markdown",
   "id": "7c68e6d8",
   "metadata": {
    "slideshow": {
     "slide_type": "slide"
    }
   },
   "source": [
    "## 🔔 Performance Warning\n",
    "---\n",
    "\n",
    "You may see the previous command issue this or a similar performance warning:\n",
    "\n",
    "```output\n",
    "[...] PerformanceWarning:\n",
    "your performance may suffer as PyTables will pickle object types that it cannot\n",
    "map directly to c-types [inferred_type->mixed-integer,key->values] [items->None]\n",
    "  point_series.to_hdf(filename, 'point_series')\n",
    "```\n",
    "\n",
    "This is because in the Series we just created, we are mixing variables of\n",
    "different types: `sky_point_list` is a string (text), whereas `pmra_min`\n",
    "etc. are floating point numbers. While combining different data types in a\n",
    "single Series is somewhat inefficient, the amount of data is small enough to\n",
    "not matter in this case, so this warning can be safely ignored."
   ]
  },
  {
   "cell_type": "markdown",
   "id": "dd30c266",
   "metadata": {
    "slideshow": {
     "slide_type": "slide"
    }
   },
   "source": [
    "## Plotting one more time\n",
    "---\n",
    "\n",
    "Now we can examine the results:"
   ]
  },
  {
   "cell_type": "code",
   "execution_count": null,
   "id": "67affbe7",
   "metadata": {
    "slideshow": {
     "slide_type": "-"
    }
   },
   "outputs": [],
   "source": []
  },
  {
   "cell_type": "markdown",
   "id": "ae6bbe56",
   "metadata": {
    "slideshow": {
     "slide_type": "slide"
    }
   },
   "source": [
    "This plot shows why it was useful to transform these coordinates to the GD-1 frame.  In\n",
    "ICRS, it is more difficult to identity the stars near the centerline\n",
    "of GD-1.\n",
    "\n",
    "We can use our `make_dataframe` function from episode 3 to transform the results back\n",
    "to the GD-1 frame. In addition to doing the coordinate transformation and reflex correction\n",
    "for us, this function also compiles everything into a single object (a `DataFrame`) to make it easier to use. Note that because we put this code into a function, we can do all of this with a single line of code!"
   ]
  },
  {
   "cell_type": "code",
   "execution_count": null,
   "id": "5fcc09c5",
   "metadata": {
    "slideshow": {
     "slide_type": "-"
    }
   },
   "outputs": [],
   "source": []
  },
  {
   "cell_type": "markdown",
   "id": "d615b8f5",
   "metadata": {
    "slideshow": {
     "slide_type": "slide"
    }
   },
   "source": [
    "We can check the results using the `plot_pm_selection` function we wrote in lesson 3"
   ]
  },
  {
   "cell_type": "code",
   "execution_count": null,
   "id": "937077ed",
   "metadata": {
    "slideshow": {
     "slide_type": "-"
    }
   },
   "outputs": [],
   "source": []
  },
  {
   "cell_type": "markdown",
   "id": "78da0d01",
   "metadata": {
    "slideshow": {
     "slide_type": "slide"
    }
   },
   "source": [
    "We are starting to see GD-1 more clearly.\n",
    "We can compare this figure with this panel from Figure 1 from the\n",
    "original paper:\n",
    "\n",
    "<img height=\"150\"\n",
    "src=\"https://datacarpentry.org/astronomy-python/fig/gd1-2.png\" alt=\"Figure from Price-Whelan and Bonaca paper showing phi1 vs phi2 in GD-1 after selecting on proper motion.\">\n",
    "\n",
    "This panel shows stars selected based on proper motion only, so it is\n",
    "comparable to our figure (although notice that the original figure covers a wider\n",
    "region)."
   ]
  },
  {
   "cell_type": "markdown",
   "id": "e9067166",
   "metadata": {
    "slideshow": {
     "slide_type": "slide"
    }
   },
   "source": [
    "In the next episode, we will use photometry data from Pan-STARRS to do\n",
    "a second round of filtering, and see if we can replicate this panel.\n",
    "\n",
    "<img height=\"150\"\n",
    "src=\"https://datacarpentry.org/astronomy-python/fig/gd1-4.png\" alt=\"Figure from Price-Whelan and Bonaca paper showing phi1 vs phi2 in GD-1 after selecting on proper motion and photometry.\">\n",
    "\n",
    "Later we will learn how to add annotations like the ones in the figure and\n",
    "customize the style of the figure to present the results clearly and\n",
    "compellingly."
   ]
  },
  {
   "cell_type": "markdown",
   "id": "u5dNDiesCZTW",
   "metadata": {
    "id": "u5dNDiesCZTW",
    "slideshow": {
     "slide_type": "slide"
    }
   },
   "source": [
    "# Summary\n",
    "\n",
    "---\n",
    "\n",
    "In the previous episode we downloaded data for a large number of stars\n",
    "and then selected a small fraction of them based on proper motion.\n",
    "\n",
    "In this episode, we improved this process by writing a more complex\n",
    "query that uses the database to select stars based on proper motion.\n",
    "This process requires more computation on the Gaia server, but then\n",
    "we are able to either:\n",
    "\n",
    "1. Search the same region and download less data, or\n",
    "\n",
    "2. Search a larger region while still downloading a manageable amount of data.\n",
    "\n",
    "In the next episode, we will learn about the database `JOIN` operation, which we will use\n",
    "in later episodes to join our Gaia data with photometry data from Pan-STARRS."
   ]
  },
  {
   "cell_type": "markdown",
   "id": "RWGI5jCnCdME",
   "metadata": {
    "id": "RWGI5jCnCdME",
    "slideshow": {
     "slide_type": "slide"
    }
   },
   "source": [
    "# <p style=\"background-color: #f5df18; padding: 10px;\"> 🗝️ Key points</p>\n",
    "\n",
    "---\n",
    "\n",
    "- When possible, 'move the computation to the data'; that is, do as much of the work as possible on the database server before downloading the data."
   ]
  }
 ],
 "metadata": {
  "celltoolbar": "Slideshow",
  "colab": {
   "provenance": []
  },
  "kernelspec": {
   "display_name": "Python 3 (ipykernel)",
   "language": "python",
   "name": "python3"
  },
  "language_info": {
   "codemirror_mode": {
    "name": "ipython",
    "version": 3
   },
   "file_extension": ".py",
   "mimetype": "text/x-python",
   "name": "python",
   "nbconvert_exporter": "python",
   "pygments_lexer": "ipython3",
   "version": "3.11.3"
  },
  "toc-showcode": true
 },
 "nbformat": 4,
 "nbformat_minor": 5
}
