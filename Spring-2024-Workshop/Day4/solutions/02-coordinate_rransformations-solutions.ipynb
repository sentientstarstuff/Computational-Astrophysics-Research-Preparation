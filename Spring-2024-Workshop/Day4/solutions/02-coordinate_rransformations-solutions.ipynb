{
 "cells": [
  {
   "cell_type": "markdown",
   "id": "labeled-firewall",
   "metadata": {
    "id": "labeled-firewall",
    "slideshow": {
     "slide_type": "slide"
    }
   },
   "source": [
    "# <p style=\"background-color: #f5df18; padding: 10px;\"> Foundations of Astronomical Data Science | **Coordinate Transformations** </p>\n",
    "\n",
    "\n",
    "\n",
    "### <strong>Instructor: <span style=\"color: darkblue;\">Dr. Devontae C. Baxter (UCSD)</span></strong>\n",
    "\n",
    "Estimated completion time: 🕚 95 minutes\n",
    "\n"
   ]
  },
  {
   "cell_type": "markdown",
   "id": "8bd3d3a2",
   "metadata": {
    "slideshow": {
     "slide_type": "slide"
    }
   },
   "source": [
    "<div style=\"display: flex;\">\n",
    "    <div style=\"flex: 1; margin-right: 20px;\">\n",
    "        <h2>Questions</h2>\n",
    "        <ul>\n",
    "            <li>How do we transform celestial coordinates from one frame to another and save a subset of the results in files?</li>\n",
    "        </ul>\n",
    "    </div>\n",
    "    <div style=\"flex: 1;\">\n",
    "        <h2>Learning Objectives</h2>\n",
    "        <ul>\n",
    "            <li>Use Python string formatting to compose more complex ADQL queries.</li>\n",
    "            <li>Work with coordinates and other quantities that have units.</li>\n",
    "            <li>Download the results of a query and store them in a file.</li>\n",
    "        </ul>\n",
    "    </div>\n",
    "</div>\n"
   ]
  },
  {
   "cell_type": "markdown",
   "id": "motivated-manufacturer",
   "metadata": {
    "id": "motivated-manufacturer",
    "slideshow": {
     "slide_type": "slide"
    }
   },
   "source": [
    "In the previous lesson, we wrote ADQL queries and used them to select and download data from the Gaia server. In this episode, we will write a query to select stars from a particular region of the sky."
   ]
  },
  {
   "cell_type": "markdown",
   "id": "e9nBPvR3nimC",
   "metadata": {
    "id": "e9nBPvR3nimC",
    "slideshow": {
     "slide_type": "slide"
    }
   },
   "source": [
    "# Outline\n",
    "---\n",
    "\n",
    "We'll start with an example that does a \"cone search\"; that is, it\n",
    "selects stars that appear in a circular region of the sky.\n",
    "\n",
    "Then, to select stars in the vicinity of GD-1, we will:\n",
    "\n",
    "- Use `Quantity` objects to represent measurements with units.\n",
    "\n",
    "- Use [Astropy](https://www.astropy.org) to convert coordinates from one frame to another.\n",
    "\n",
    "- Use the ADQL keywords `POLYGON`, `CONTAINS`, and `POINT` to select\n",
    "  stars that fall within a polygonal region.\n",
    "\n",
    "- Submit a query and download the results.\n",
    "\n",
    "- Store the results in a [FITS file](https://fits.gsfc.nasa.gov/fits_primer.html)."
   ]
  },
  {
   "cell_type": "markdown",
   "id": "pressed-commerce",
   "metadata": {
    "id": "pressed-commerce",
    "slideshow": {
     "slide_type": "slide"
    },
    "tags": []
   },
   "source": [
    "# Working with Units\n",
    "---\n",
    "\n",
    "\n",
    "The measurements we will work with are physical quantities, which\n",
    "means that they have two parts, a value and a unit.\n",
    "For example, the coordinate 30<sup>°</sup> has value 30 and its units are degrees.\n",
    "\n",
    "Until recently, most scientific computation was done with values only;\n",
    "units were left out of the program altogether, [sometimes with\n",
    "catastrophic\n",
    "results](https://en.wikipedia.org/wiki/Mars_Climate_Orbiter#Cause_of_failure).\n",
    "\n"
   ]
  },
  {
   "cell_type": "markdown",
   "id": "a3712159",
   "metadata": {
    "slideshow": {
     "slide_type": "slide"
    }
   },
   "source": [
    "## The Mars Climate Orbiter Incident \n",
    "---\n",
    "<div>\n",
    "<img src=\"https://pbs.twimg.com/media/GE72ty3XsAEAKri.jpg\" width=\"800\"/>\n",
    "</div>"
   ]
  },
  {
   "cell_type": "markdown",
   "id": "eae2bf85",
   "metadata": {
    "slideshow": {
     "slide_type": "slide"
    }
   },
   "source": [
    "Astropy provides tools for including units explicitly in computations,\n",
    "which makes it possible to detect errors before they cause disasters.\n",
    "\n",
    "To use Astropy units, we import them like this:"
   ]
  },
  {
   "cell_type": "code",
   "execution_count": 1,
   "id": "3e4418bf",
   "metadata": {},
   "outputs": [],
   "source": [
    "import astropy.units as u"
   ]
  },
  {
   "cell_type": "markdown",
   "id": "mX2T8Jy3pSUh",
   "metadata": {
    "id": "mX2T8Jy3pSUh",
    "slideshow": {
     "slide_type": "slide"
    }
   },
   "source": [
    "`u` is an object that contains most common units and all SI units.\n",
    "\n",
    "You can use `dir` to list them, but you should also [read the\n",
    "documentation](https://docs.astropy.org/en/stable/units/)."
   ]
  },
  {
   "cell_type": "code",
   "execution_count": 27,
   "id": "arctic-spirit",
   "metadata": {
    "id": "arctic-spirit",
    "tags": []
   },
   "outputs": [
    {
     "data": {
      "text/plain": [
       "['A',\n",
       " 'AA',\n",
       " 'AB',\n",
       " 'ABflux',\n",
       " 'ABmag',\n",
       " 'AU',\n",
       " 'Angstrom',\n",
       " 'B',\n",
       " 'Ba',\n",
       " 'Barye',\n",
       " 'Bi',\n",
       " 'Biot',\n",
       " 'Bol',\n",
       " 'Bq',\n",
       " 'C',\n",
       " 'Celsius',\n",
       " 'Ci',\n",
       " 'CompositeUnit',\n",
       " 'D',\n",
       " 'DN',\n",
       " 'Da',\n",
       " 'Dalton',\n",
       " 'Debye',\n",
       " 'Decibel',\n",
       " 'DecibelUnit',\n",
       " 'Dex',\n",
       " 'DexUnit',\n",
       " 'EA',\n",
       " 'EAU',\n",
       " 'EB',\n",
       " 'EBa',\n",
       " 'EC',\n",
       " 'ED',\n",
       " 'EF',\n",
       " 'EG',\n",
       " 'EGal',\n",
       " 'EH',\n",
       " 'EHz',\n",
       " 'EJ',\n",
       " 'EJy',\n",
       " 'EK',\n",
       " 'EL',\n",
       " 'EN',\n",
       " 'EOhm',\n",
       " 'EP',\n",
       " 'EPa',\n",
       " 'ER',\n",
       " 'ERy',\n",
       " 'ES',\n",
       " 'ESt',\n",
       " 'ET',\n",
       " 'EV',\n",
       " 'EW',\n",
       " 'EWb',\n",
       " 'Ea',\n",
       " 'Eadu',\n",
       " 'Earcmin',\n",
       " 'Earcsec',\n",
       " 'Eau',\n",
       " 'Eb',\n",
       " 'Ebarn',\n",
       " 'Ebeam',\n",
       " 'Ebin',\n",
       " 'Ebit',\n",
       " 'Ebyte',\n",
       " 'Ecd',\n",
       " 'Echan',\n",
       " 'Ecount',\n",
       " 'Ect',\n",
       " 'Ed',\n",
       " 'Edeg',\n",
       " 'Edyn',\n",
       " 'EeV',\n",
       " 'Eerg',\n",
       " 'Eg',\n",
       " 'Eh',\n",
       " 'EiB',\n",
       " 'Eib',\n",
       " 'Eibit',\n",
       " 'Eibyte',\n",
       " 'Ek',\n",
       " 'El',\n",
       " 'Elm',\n",
       " 'Elx',\n",
       " 'Elyr',\n",
       " 'Em',\n",
       " 'Emag',\n",
       " 'Emin',\n",
       " 'Emol',\n",
       " 'Eohm',\n",
       " 'Epc',\n",
       " 'Eph',\n",
       " 'Ephoton',\n",
       " 'Epix',\n",
       " 'Epixel',\n",
       " 'Equivalency',\n",
       " 'Erad',\n",
       " 'Es',\n",
       " 'Esr',\n",
       " 'Eu',\n",
       " 'Evox',\n",
       " 'Evoxel',\n",
       " 'Eyr',\n",
       " 'F',\n",
       " 'Farad',\n",
       " 'Fr',\n",
       " 'Franklin',\n",
       " 'FunctionQuantity',\n",
       " 'FunctionUnitBase',\n",
       " 'G',\n",
       " 'GA',\n",
       " 'GAU',\n",
       " 'GB',\n",
       " 'GBa',\n",
       " 'GC',\n",
       " 'GD',\n",
       " 'GF',\n",
       " 'GG',\n",
       " 'GGal',\n",
       " 'GH',\n",
       " 'GHz',\n",
       " 'GJ',\n",
       " 'GJy',\n",
       " 'GK',\n",
       " 'GL',\n",
       " 'GN',\n",
       " 'GOhm',\n",
       " 'GP',\n",
       " 'GPa',\n",
       " 'GR',\n",
       " 'GRy',\n",
       " 'GS',\n",
       " 'GSt',\n",
       " 'GT',\n",
       " 'GV',\n",
       " 'GW',\n",
       " 'GWb',\n",
       " 'Ga',\n",
       " 'Gadu',\n",
       " 'Gal',\n",
       " 'Garcmin',\n",
       " 'Garcsec',\n",
       " 'Gau',\n",
       " 'Gauss',\n",
       " 'Gb',\n",
       " 'Gbarn',\n",
       " 'Gbeam',\n",
       " 'Gbin',\n",
       " 'Gbit',\n",
       " 'Gbyte',\n",
       " 'Gcd',\n",
       " 'Gchan',\n",
       " 'Gcount',\n",
       " 'Gct',\n",
       " 'Gd',\n",
       " 'Gdeg',\n",
       " 'Gdyn',\n",
       " 'GeV',\n",
       " 'Gerg',\n",
       " 'Gg',\n",
       " 'Gh',\n",
       " 'GiB',\n",
       " 'Gib',\n",
       " 'Gibit',\n",
       " 'Gibyte',\n",
       " 'Gk',\n",
       " 'Gl',\n",
       " 'Glm',\n",
       " 'Glx',\n",
       " 'Glyr',\n",
       " 'Gm',\n",
       " 'Gmag',\n",
       " 'Gmin',\n",
       " 'Gmol',\n",
       " 'Gohm',\n",
       " 'Gpc',\n",
       " 'Gph',\n",
       " 'Gphoton',\n",
       " 'Gpix',\n",
       " 'Gpixel',\n",
       " 'Grad',\n",
       " 'Gs',\n",
       " 'Gsr',\n",
       " 'Gu',\n",
       " 'Gvox',\n",
       " 'Gvoxel',\n",
       " 'Gyr',\n",
       " 'H',\n",
       " 'Henry',\n",
       " 'Hertz',\n",
       " 'Hz',\n",
       " 'IrreducibleUnit',\n",
       " 'J',\n",
       " 'Jansky',\n",
       " 'Joule',\n",
       " 'Jy',\n",
       " 'K',\n",
       " 'Kayser',\n",
       " 'Kelvin',\n",
       " 'KiB',\n",
       " 'Kib',\n",
       " 'Kibit',\n",
       " 'Kibyte',\n",
       " 'L',\n",
       " 'L_bol',\n",
       " 'L_sun',\n",
       " 'LogQuantity',\n",
       " 'LogUnit',\n",
       " 'Lsun',\n",
       " 'MA',\n",
       " 'MAU',\n",
       " 'MB',\n",
       " 'MBa',\n",
       " 'MC',\n",
       " 'MD',\n",
       " 'MF',\n",
       " 'MG',\n",
       " 'MGal',\n",
       " 'MH',\n",
       " 'MHz',\n",
       " 'MJ',\n",
       " 'MJy',\n",
       " 'MK',\n",
       " 'ML',\n",
       " 'MN',\n",
       " 'MOhm',\n",
       " 'MP',\n",
       " 'MPa',\n",
       " 'MR',\n",
       " 'MRy',\n",
       " 'MS',\n",
       " 'MSt',\n",
       " 'MT',\n",
       " 'MV',\n",
       " 'MW',\n",
       " 'MWb',\n",
       " 'M_bol',\n",
       " 'M_e',\n",
       " 'M_earth',\n",
       " 'M_jup',\n",
       " 'M_jupiter',\n",
       " 'M_p',\n",
       " 'M_sun',\n",
       " 'Ma',\n",
       " 'Madu',\n",
       " 'MagUnit',\n",
       " 'Magnitude',\n",
       " 'Marcmin',\n",
       " 'Marcsec',\n",
       " 'Mau',\n",
       " 'Maxwell',\n",
       " 'Mb',\n",
       " 'Mbarn',\n",
       " 'Mbeam',\n",
       " 'Mbin',\n",
       " 'Mbit',\n",
       " 'Mbyte',\n",
       " 'Mcd',\n",
       " 'Mchan',\n",
       " 'Mcount',\n",
       " 'Mct',\n",
       " 'Md',\n",
       " 'Mdeg',\n",
       " 'Mdyn',\n",
       " 'MeV',\n",
       " 'Mearth',\n",
       " 'Merg',\n",
       " 'Mg',\n",
       " 'Mh',\n",
       " 'MiB',\n",
       " 'Mib',\n",
       " 'Mibit',\n",
       " 'Mibyte',\n",
       " 'Mjup',\n",
       " 'Mjupiter',\n",
       " 'Mk',\n",
       " 'Ml',\n",
       " 'Mlm',\n",
       " 'Mlx',\n",
       " 'Mlyr',\n",
       " 'Mm',\n",
       " 'Mmag',\n",
       " 'Mmin',\n",
       " 'Mmol',\n",
       " 'Mohm',\n",
       " 'Mpc',\n",
       " 'Mph',\n",
       " 'Mphoton',\n",
       " 'Mpix',\n",
       " 'Mpixel',\n",
       " 'Mrad',\n",
       " 'Ms',\n",
       " 'Msr',\n",
       " 'Msun',\n",
       " 'Mu',\n",
       " 'Mvox',\n",
       " 'Mvoxel',\n",
       " 'Mx',\n",
       " 'Myr',\n",
       " 'N',\n",
       " 'NamedUnit',\n",
       " 'Newton',\n",
       " 'Ohm',\n",
       " 'P',\n",
       " 'PA',\n",
       " 'PAU',\n",
       " 'PB',\n",
       " 'PBa',\n",
       " 'PC',\n",
       " 'PD',\n",
       " 'PF',\n",
       " 'PG',\n",
       " 'PGal',\n",
       " 'PH',\n",
       " 'PHz',\n",
       " 'PJ',\n",
       " 'PJy',\n",
       " 'PK',\n",
       " 'PL',\n",
       " 'PN',\n",
       " 'POhm',\n",
       " 'PP',\n",
       " 'PPa',\n",
       " 'PR',\n",
       " 'PRy',\n",
       " 'PS',\n",
       " 'PSt',\n",
       " 'PT',\n",
       " 'PV',\n",
       " 'PW',\n",
       " 'PWb',\n",
       " 'Pa',\n",
       " 'Padu',\n",
       " 'Parcmin',\n",
       " 'Parcsec',\n",
       " 'Pascal',\n",
       " 'Pau',\n",
       " 'Pb',\n",
       " 'Pbarn',\n",
       " 'Pbeam',\n",
       " 'Pbin',\n",
       " 'Pbit',\n",
       " 'Pbyte',\n",
       " 'Pcd',\n",
       " 'Pchan',\n",
       " 'Pcount',\n",
       " 'Pct',\n",
       " 'Pd',\n",
       " 'Pdeg',\n",
       " 'Pdyn',\n",
       " 'PeV',\n",
       " 'Perg',\n",
       " 'Pg',\n",
       " 'Ph',\n",
       " 'PhysicalType',\n",
       " 'PiB',\n",
       " 'Pib',\n",
       " 'Pibit',\n",
       " 'Pibyte',\n",
       " 'Pk',\n",
       " 'Pl',\n",
       " 'Plm',\n",
       " 'Plx',\n",
       " 'Plyr',\n",
       " 'Pm',\n",
       " 'Pmag',\n",
       " 'Pmin',\n",
       " 'Pmol',\n",
       " 'Pohm',\n",
       " 'Ppc',\n",
       " 'Pph',\n",
       " 'Pphoton',\n",
       " 'Ppix',\n",
       " 'Ppixel',\n",
       " 'Prad',\n",
       " 'PrefixUnit',\n",
       " 'Ps',\n",
       " 'Psr',\n",
       " 'Pu',\n",
       " 'Pvox',\n",
       " 'Pvoxel',\n",
       " 'Pyr',\n",
       " 'Quantity',\n",
       " 'QuantityInfo',\n",
       " 'QuantityInfoBase',\n",
       " 'R',\n",
       " 'R_earth',\n",
       " 'R_jup',\n",
       " 'R_jupiter',\n",
       " 'R_sun',\n",
       " 'Rayleigh',\n",
       " 'Rearth',\n",
       " 'Rjup',\n",
       " 'Rjupiter',\n",
       " 'Rsun',\n",
       " 'Ry',\n",
       " 'S',\n",
       " 'ST',\n",
       " 'STflux',\n",
       " 'STmag',\n",
       " 'Siemens',\n",
       " 'SpecificTypeQuantity',\n",
       " 'St',\n",
       " 'StructuredUnit',\n",
       " 'Sun',\n",
       " 'T',\n",
       " 'TA',\n",
       " 'TAU',\n",
       " 'TB',\n",
       " 'TBa',\n",
       " 'TC',\n",
       " 'TD',\n",
       " 'TF',\n",
       " 'TG',\n",
       " 'TGal',\n",
       " 'TH',\n",
       " 'THz',\n",
       " 'TJ',\n",
       " 'TJy',\n",
       " 'TK',\n",
       " 'TL',\n",
       " 'TN',\n",
       " 'TOhm',\n",
       " 'TP',\n",
       " 'TPa',\n",
       " 'TR',\n",
       " 'TRy',\n",
       " 'TS',\n",
       " 'TSt',\n",
       " 'TT',\n",
       " 'TV',\n",
       " 'TW',\n",
       " 'TWb',\n",
       " 'Ta',\n",
       " 'Tadu',\n",
       " 'Tarcmin',\n",
       " 'Tarcsec',\n",
       " 'Tau',\n",
       " 'Tb',\n",
       " 'Tbarn',\n",
       " 'Tbeam',\n",
       " 'Tbin',\n",
       " 'Tbit',\n",
       " 'Tbyte',\n",
       " 'Tcd',\n",
       " 'Tchan',\n",
       " 'Tcount',\n",
       " 'Tct',\n",
       " 'Td',\n",
       " 'Tdeg',\n",
       " 'Tdyn',\n",
       " 'TeV',\n",
       " 'Terg',\n",
       " 'Tesla',\n",
       " 'Tg',\n",
       " 'Th',\n",
       " 'TiB',\n",
       " 'Tib',\n",
       " 'Tibit',\n",
       " 'Tibyte',\n",
       " 'Tk',\n",
       " 'Tl',\n",
       " 'Tlm',\n",
       " 'Tlx',\n",
       " 'Tlyr',\n",
       " 'Tm',\n",
       " 'Tmag',\n",
       " 'Tmin',\n",
       " 'Tmol',\n",
       " 'Tohm',\n",
       " 'Torr',\n",
       " 'Tpc',\n",
       " 'Tph',\n",
       " 'Tphoton',\n",
       " 'Tpix',\n",
       " 'Tpixel',\n",
       " 'Trad',\n",
       " 'Ts',\n",
       " 'Tsr',\n",
       " 'Tu',\n",
       " 'Tvox',\n",
       " 'Tvoxel',\n",
       " 'Tyr',\n",
       " 'Unit',\n",
       " 'UnitBase',\n",
       " 'UnitConversionError',\n",
       " 'UnitTypeError',\n",
       " 'UnitsError',\n",
       " 'UnitsWarning',\n",
       " 'UnrecognizedUnit',\n",
       " 'V',\n",
       " 'Volt',\n",
       " 'W',\n",
       " 'Watt',\n",
       " 'Wb',\n",
       " 'Weber',\n",
       " 'YA',\n",
       " 'YAU',\n",
       " 'YB',\n",
       " 'YBa',\n",
       " 'YC',\n",
       " 'YD',\n",
       " 'YF',\n",
       " 'YG',\n",
       " 'YGal',\n",
       " 'YH',\n",
       " 'YHz',\n",
       " 'YJ',\n",
       " 'YJy',\n",
       " 'YK',\n",
       " 'YL',\n",
       " 'YN',\n",
       " 'YOhm',\n",
       " 'YP',\n",
       " 'YPa',\n",
       " 'YR',\n",
       " 'YRy',\n",
       " 'YS',\n",
       " 'YSt',\n",
       " 'YT',\n",
       " 'YV',\n",
       " 'YW',\n",
       " 'YWb',\n",
       " 'Ya',\n",
       " 'Yadu',\n",
       " 'Yarcmin',\n",
       " 'Yarcsec',\n",
       " 'Yau',\n",
       " 'Yb',\n",
       " 'Ybarn',\n",
       " 'Ybeam',\n",
       " 'Ybin',\n",
       " 'Ybit',\n",
       " 'Ybyte',\n",
       " 'Ycd',\n",
       " 'Ychan',\n",
       " 'Ycount',\n",
       " 'Yct',\n",
       " 'Yd',\n",
       " 'Ydeg',\n",
       " 'Ydyn',\n",
       " 'YeV',\n",
       " 'Yerg',\n",
       " 'Yg',\n",
       " 'Yh',\n",
       " 'Yk',\n",
       " 'Yl',\n",
       " 'Ylm',\n",
       " 'Ylx',\n",
       " 'Ylyr',\n",
       " 'Ym',\n",
       " 'Ymag',\n",
       " 'Ymin',\n",
       " 'Ymol',\n",
       " 'Yohm',\n",
       " 'Ypc',\n",
       " 'Yph',\n",
       " 'Yphoton',\n",
       " 'Ypix',\n",
       " 'Ypixel',\n",
       " 'Yrad',\n",
       " 'Ys',\n",
       " 'Ysr',\n",
       " 'Yu',\n",
       " 'Yvox',\n",
       " 'Yvoxel',\n",
       " 'Yyr',\n",
       " 'ZA',\n",
       " 'ZAU',\n",
       " 'ZB',\n",
       " 'ZBa',\n",
       " 'ZC',\n",
       " 'ZD',\n",
       " 'ZF',\n",
       " 'ZG',\n",
       " 'ZGal',\n",
       " 'ZH',\n",
       " 'ZHz',\n",
       " 'ZJ',\n",
       " 'ZJy',\n",
       " 'ZK',\n",
       " 'ZL',\n",
       " 'ZN',\n",
       " 'ZOhm',\n",
       " 'ZP',\n",
       " 'ZPa',\n",
       " 'ZR',\n",
       " 'ZRy',\n",
       " 'ZS',\n",
       " 'ZSt',\n",
       " 'ZT',\n",
       " 'ZV',\n",
       " 'ZW',\n",
       " 'ZWb',\n",
       " 'Za',\n",
       " 'Zadu',\n",
       " 'Zarcmin',\n",
       " 'Zarcsec',\n",
       " 'Zau',\n",
       " 'Zb',\n",
       " 'Zbarn',\n",
       " 'Zbeam',\n",
       " 'Zbin',\n",
       " 'Zbit',\n",
       " 'Zbyte',\n",
       " 'Zcd',\n",
       " 'Zchan',\n",
       " 'Zcount',\n",
       " 'Zct',\n",
       " 'Zd',\n",
       " 'Zdeg',\n",
       " 'Zdyn',\n",
       " 'ZeV',\n",
       " 'Zerg',\n",
       " 'Zg',\n",
       " 'Zh',\n",
       " 'Zk',\n",
       " 'Zl',\n",
       " 'Zlm',\n",
       " 'Zlx',\n",
       " 'Zlyr',\n",
       " 'Zm',\n",
       " 'Zmag',\n",
       " 'Zmin',\n",
       " 'Zmol',\n",
       " 'Zohm',\n",
       " 'Zpc',\n",
       " 'Zph',\n",
       " 'Zphoton',\n",
       " 'Zpix',\n",
       " 'Zpixel',\n",
       " 'Zrad',\n",
       " 'Zs',\n",
       " 'Zsr',\n",
       " 'Zu',\n",
       " 'Zvox',\n",
       " 'Zvoxel',\n",
       " 'Zyr',\n",
       " '__builtins__',\n",
       " '__cached__',\n",
       " '__doc__',\n",
       " '__file__',\n",
       " '__getattr__',\n",
       " '__loader__',\n",
       " '__name__',\n",
       " '__package__',\n",
       " '__path__',\n",
       " '__spec__',\n",
       " '_typing',\n",
       " 'a',\n",
       " 'aA',\n",
       " 'aAU',\n",
       " 'aB',\n",
       " 'aBa',\n",
       " 'aC',\n",
       " 'aD',\n",
       " 'aF',\n",
       " 'aG',\n",
       " 'aGal',\n",
       " 'aH',\n",
       " 'aHz',\n",
       " 'aJ',\n",
       " 'aJy',\n",
       " 'aK',\n",
       " 'aL',\n",
       " 'aN',\n",
       " 'aOhm',\n",
       " 'aP',\n",
       " 'aPa',\n",
       " 'aR',\n",
       " 'aRy',\n",
       " 'aS',\n",
       " 'aSt',\n",
       " 'aT',\n",
       " 'aV',\n",
       " 'aW',\n",
       " 'aWb',\n",
       " 'aa',\n",
       " 'aadu',\n",
       " 'aarcmin',\n",
       " 'aarcsec',\n",
       " 'aau',\n",
       " 'ab',\n",
       " 'abA',\n",
       " 'abC',\n",
       " 'abampere',\n",
       " 'abarn',\n",
       " 'abcoulomb',\n",
       " 'abeam',\n",
       " 'abin',\n",
       " 'abit',\n",
       " 'abyte',\n",
       " 'acd',\n",
       " 'achan',\n",
       " 'acount',\n",
       " 'act',\n",
       " 'ad',\n",
       " 'add_enabled_aliases',\n",
       " 'add_enabled_equivalencies',\n",
       " 'add_enabled_units',\n",
       " 'adeg',\n",
       " 'adu',\n",
       " 'adyn',\n",
       " 'aeV',\n",
       " 'aerg',\n",
       " 'ag',\n",
       " 'ah',\n",
       " 'ak',\n",
       " 'al',\n",
       " 'allclose',\n",
       " 'alm',\n",
       " 'alx',\n",
       " 'alyr',\n",
       " 'am',\n",
       " 'amag',\n",
       " 'amin',\n",
       " 'amol',\n",
       " 'amp',\n",
       " 'ampere',\n",
       " 'angstrom',\n",
       " 'annum',\n",
       " 'aohm',\n",
       " 'apc',\n",
       " 'aph',\n",
       " 'aphoton',\n",
       " 'apix',\n",
       " 'apixel',\n",
       " 'arad',\n",
       " 'arcmin',\n",
       " 'arcminute',\n",
       " 'arcsec',\n",
       " 'arcsecond',\n",
       " 'asr',\n",
       " 'astronomical_unit',\n",
       " 'astrophys',\n",
       " 'attoBarye',\n",
       " 'attoDa',\n",
       " 'attoDalton',\n",
       " 'attoDebye',\n",
       " 'attoFarad',\n",
       " 'attoGauss',\n",
       " 'attoHenry',\n",
       " 'attoHertz',\n",
       " 'attoJansky',\n",
       " 'attoJoule',\n",
       " 'attoKayser',\n",
       " 'attoKelvin',\n",
       " 'attoNewton',\n",
       " 'attoOhm',\n",
       " 'attoPascal',\n",
       " 'attoRayleigh',\n",
       " 'attoSiemens',\n",
       " 'attoTesla',\n",
       " 'attoVolt',\n",
       " 'attoWatt',\n",
       " 'attoWeber',\n",
       " 'attoamp',\n",
       " 'attoampere',\n",
       " 'attoannum',\n",
       " 'attoarcminute',\n",
       " 'attoarcsecond',\n",
       " 'attoastronomical_unit',\n",
       " 'attobarn',\n",
       " 'attobarye',\n",
       " 'attobit',\n",
       " 'attobyte',\n",
       " 'attocandela',\n",
       " 'attocoulomb',\n",
       " 'attocount',\n",
       " 'attoday',\n",
       " 'attodebye',\n",
       " 'attodegree',\n",
       " 'attodyne',\n",
       " 'attoelectronvolt',\n",
       " 'attofarad',\n",
       " 'attogal',\n",
       " 'attogauss',\n",
       " 'attogram',\n",
       " 'attohenry',\n",
       " 'attohertz',\n",
       " 'attohour',\n",
       " 'attohr',\n",
       " 'attojansky',\n",
       " 'attojoule',\n",
       " 'attokayser',\n",
       " 'attolightyear',\n",
       " 'attoliter',\n",
       " 'attolumen',\n",
       " 'attolux',\n",
       " 'attometer',\n",
       " 'attominute',\n",
       " 'attomole',\n",
       " 'attonewton',\n",
       " 'attoparsec',\n",
       " 'attopascal',\n",
       " 'attophoton',\n",
       " 'attopixel',\n",
       " 'attopoise',\n",
       " 'attoradian',\n",
       " 'attorayleigh',\n",
       " 'attorydberg',\n",
       " 'attosecond',\n",
       " 'attosiemens',\n",
       " 'attosteradian',\n",
       " 'attostokes',\n",
       " 'attotesla',\n",
       " 'attovolt',\n",
       " 'attovoxel',\n",
       " 'attowatt',\n",
       " 'attoweber',\n",
       " 'attoyear',\n",
       " 'au',\n",
       " 'avox',\n",
       " 'avoxel',\n",
       " 'ayr',\n",
       " 'b',\n",
       " 'bar',\n",
       " 'barn',\n",
       " 'barye',\n",
       " 'beam',\n",
       " 'beam_angular_area',\n",
       " 'becquerel',\n",
       " 'bin',\n",
       " 'binary_prefixes',\n",
       " 'bit',\n",
       " 'bol',\n",
       " 'brightness_temperature',\n",
       " 'byte',\n",
       " 'cA',\n",
       " 'cAU',\n",
       " 'cB',\n",
       " 'cBa',\n",
       " 'cC',\n",
       " 'cD',\n",
       " 'cF',\n",
       " 'cG',\n",
       " 'cGal',\n",
       " 'cH',\n",
       " 'cHz',\n",
       " 'cJ',\n",
       " 'cJy',\n",
       " 'cK',\n",
       " 'cL',\n",
       " 'cN',\n",
       " 'cOhm',\n",
       " 'cP',\n",
       " 'cPa',\n",
       " 'cR',\n",
       " 'cRy',\n",
       " 'cS',\n",
       " 'cSt',\n",
       " 'cT',\n",
       " 'cV',\n",
       " 'cW',\n",
       " 'cWb',\n",
       " 'ca',\n",
       " 'cadu',\n",
       " 'candela',\n",
       " 'carcmin',\n",
       " 'carcsec',\n",
       " 'cau',\n",
       " 'cb',\n",
       " 'cbarn',\n",
       " 'cbeam',\n",
       " 'cbin',\n",
       " 'cbit',\n",
       " 'cbyte',\n",
       " 'ccd',\n",
       " 'cchan',\n",
       " 'ccount',\n",
       " 'cct',\n",
       " 'cd',\n",
       " 'cdeg',\n",
       " 'cdyn',\n",
       " 'ceV',\n",
       " 'centiBarye',\n",
       " 'centiDa',\n",
       " 'centiDalton',\n",
       " 'centiDebye',\n",
       " 'centiFarad',\n",
       " 'centiGauss',\n",
       " 'centiHenry',\n",
       " 'centiHertz',\n",
       " 'centiJansky',\n",
       " 'centiJoule',\n",
       " 'centiKayser',\n",
       " 'centiKelvin',\n",
       " 'centiNewton',\n",
       " 'centiOhm',\n",
       " 'centiPascal',\n",
       " 'centiRayleigh',\n",
       " 'centiSiemens',\n",
       " 'centiTesla',\n",
       " 'centiVolt',\n",
       " 'centiWatt',\n",
       " 'centiWeber',\n",
       " 'centiamp',\n",
       " 'centiampere',\n",
       " 'centiannum',\n",
       " 'centiarcminute',\n",
       " 'centiarcsecond',\n",
       " 'centiastronomical_unit',\n",
       " 'centibarn',\n",
       " 'centibarye',\n",
       " 'centibit',\n",
       " 'centibyte',\n",
       " 'centicandela',\n",
       " 'centicoulomb',\n",
       " 'centicount',\n",
       " 'centiday',\n",
       " 'centidebye',\n",
       " 'centidegree',\n",
       " 'centidyne',\n",
       " 'centielectronvolt',\n",
       " 'centifarad',\n",
       " 'centigal',\n",
       " 'centigauss',\n",
       " 'centigram',\n",
       " 'centihenry',\n",
       " 'centihertz',\n",
       " 'centihour',\n",
       " 'centihr',\n",
       " 'centijansky',\n",
       " 'centijoule',\n",
       " 'centikayser',\n",
       " 'centilightyear',\n",
       " 'centiliter',\n",
       " 'centilumen',\n",
       " 'centilux',\n",
       " 'centimeter',\n",
       " 'centiminute',\n",
       " 'centimole',\n",
       " 'centinewton',\n",
       " 'centiparsec',\n",
       " 'centipascal',\n",
       " 'centiphoton',\n",
       " 'centipixel',\n",
       " 'centipoise',\n",
       " 'centiradian',\n",
       " 'centirayleigh',\n",
       " 'centirydberg',\n",
       " 'centisecond',\n",
       " 'centisiemens',\n",
       " 'centisteradian',\n",
       " 'centistokes',\n",
       " 'centitesla',\n",
       " 'centivolt',\n",
       " 'centivoxel',\n",
       " 'centiwatt',\n",
       " 'centiweber',\n",
       " 'centiyear',\n",
       " 'cerg',\n",
       " 'cg',\n",
       " 'cgs',\n",
       " 'ch',\n",
       " 'chan',\n",
       " 'ck',\n",
       " 'cl',\n",
       " 'clm',\n",
       " 'clx',\n",
       " 'clyr',\n",
       " 'cm',\n",
       " 'cmag',\n",
       " 'cmin',\n",
       " 'cmol',\n",
       " 'cohm',\n",
       " 'core',\n",
       " 'coulomb',\n",
       " 'count',\n",
       " 'cpc',\n",
       " 'cph',\n",
       " 'cphoton',\n",
       " 'cpix',\n",
       " 'cpixel',\n",
       " 'crad',\n",
       " 'cs',\n",
       " 'csr',\n",
       " 'ct',\n",
       " 'cu',\n",
       " 'curie',\n",
       " 'cvox',\n",
       " 'cvoxel',\n",
       " 'cy',\n",
       " 'cycle',\n",
       " 'cyr',\n",
       " 'd',\n",
       " 'dA',\n",
       " 'dAU',\n",
       " 'dB',\n",
       " 'dBa',\n",
       " 'dC',\n",
       " 'dD',\n",
       " 'dF',\n",
       " 'dG',\n",
       " 'dGal',\n",
       " 'dH',\n",
       " 'dHz',\n",
       " 'dJ',\n",
       " 'dJy',\n",
       " 'dK',\n",
       " ...]"
      ]
     },
     "execution_count": 27,
     "metadata": {},
     "output_type": "execute_result"
    }
   ],
   "source": [
    "dir(u)"
   ]
  },
  {
   "cell_type": "markdown",
   "id": "XkFWwVUNqHiL",
   "metadata": {
    "id": "XkFWwVUNqHiL",
    "slideshow": {
     "slide_type": "slide"
    }
   },
   "source": [
    "To create a quantity, we multiply a value by a unit:"
   ]
  },
  {
   "cell_type": "code",
   "execution_count": 3,
   "id": "gWc06PxtqKde",
   "metadata": {
    "id": "gWc06PxtqKde",
    "slideshow": {
     "slide_type": "-"
    }
   },
   "outputs": [],
   "source": [
    "angle = 10*u.degree"
   ]
  },
  {
   "cell_type": "code",
   "execution_count": 5,
   "id": "e3886675",
   "metadata": {
    "slideshow": {
     "slide_type": "-"
    }
   },
   "outputs": [
    {
     "data": {
      "text/plain": [
       "astropy.units.quantity.Quantity"
      ]
     },
     "execution_count": 5,
     "metadata": {},
     "output_type": "execute_result"
    }
   ],
   "source": [
    "type(angle)"
   ]
  },
  {
   "cell_type": "markdown",
   "id": "eHT9iAzYqQHH",
   "metadata": {
    "id": "eHT9iAzYqQHH",
    "slideshow": {
     "slide_type": "slide"
    }
   },
   "source": [
    "The result is a `Quantity` object.\n",
    "Jupyter knows how to display `Quantities` like this:"
   ]
  },
  {
   "cell_type": "code",
   "execution_count": 6,
   "id": "1_8_a4zsqVlt",
   "metadata": {
    "id": "1_8_a4zsqVlt",
    "slideshow": {
     "slide_type": "-"
    }
   },
   "outputs": [
    {
     "data": {
      "text/latex": [
       "$10 \\; \\mathrm{{}^{\\circ}}$"
      ],
      "text/plain": [
       "<Quantity 10. deg>"
      ]
     },
     "execution_count": 6,
     "metadata": {},
     "output_type": "execute_result"
    }
   ],
   "source": [
    "angle"
   ]
  },
  {
   "cell_type": "markdown",
   "id": "2Vg9iQLwqWXe",
   "metadata": {
    "id": "2Vg9iQLwqWXe",
    "slideshow": {
     "slide_type": "slide"
    }
   },
   "source": [
    "`Quantities` provides a method called `to` that converts to other units.\n",
    "For example, we can compute the number of arcminutes in `angle`:"
   ]
  },
  {
   "cell_type": "code",
   "execution_count": 7,
   "id": "HUhbQDByqcAC",
   "metadata": {
    "id": "HUhbQDByqcAC",
    "slideshow": {
     "slide_type": "-"
    }
   },
   "outputs": [
    {
     "data": {
      "text/latex": [
       "$600 \\; \\mathrm{{}^{\\prime}}$"
      ],
      "text/plain": [
       "<Quantity 600. arcmin>"
      ]
     },
     "execution_count": 7,
     "metadata": {},
     "output_type": "execute_result"
    }
   ],
   "source": [
    "angle_arcmin = angle.to('arcmin')\n",
    "angle_arcmin"
   ]
  },
  {
   "cell_type": "markdown",
   "id": "MByytRRBqoV5",
   "metadata": {
    "id": "MByytRRBqoV5",
    "slideshow": {
     "slide_type": "slide"
    }
   },
   "source": [
    "If you add quantities, Astropy converts them to compatible units, if possible:"
   ]
  },
  {
   "cell_type": "code",
   "execution_count": 8,
   "id": "-KR_RJpkqpvg",
   "metadata": {
    "id": "-KR_RJpkqpvg",
    "slideshow": {
     "slide_type": "-"
    }
   },
   "outputs": [
    {
     "data": {
      "text/latex": [
       "$10.5 \\; \\mathrm{{}^{\\circ}}$"
      ],
      "text/plain": [
       "<Quantity 10.5 deg>"
      ]
     },
     "execution_count": 8,
     "metadata": {},
     "output_type": "execute_result"
    }
   ],
   "source": [
    "angle + 30*u.arcmin"
   ]
  },
  {
   "cell_type": "markdown",
   "id": "nxhoetjpqvte",
   "metadata": {
    "id": "nxhoetjpqvte",
    "slideshow": {
     "slide_type": "slide"
    }
   },
   "source": [
    "If the units are not compatible, you get an error. For example:"
   ]
  },
  {
   "cell_type": "code",
   "execution_count": 10,
   "id": "Hx6-_fN4qx5T",
   "metadata": {
    "id": "Hx6-_fN4qx5T",
    "scrolled": true,
    "slideshow": {
     "slide_type": "-"
    }
   },
   "outputs": [
    {
     "ename": "UnitConversionError",
     "evalue": "Can only apply 'add' function to quantities with compatible dimensions",
     "output_type": "error",
     "traceback": [
      "\u001b[0;31m---------------------------------------------------------------------------\u001b[0m",
      "\u001b[0;31mUnitConversionError\u001b[0m                       Traceback (most recent call last)",
      "File \u001b[0;32m~/anaconda3/lib/python3.11/site-packages/astropy/units/quantity_helper/helpers.py:68\u001b[0m, in \u001b[0;36mget_converters_and_unit\u001b[0;34m(f, unit1, unit2)\u001b[0m\n\u001b[1;32m     67\u001b[0m \u001b[38;5;28;01mtry\u001b[39;00m:\n\u001b[0;32m---> 68\u001b[0m     converters[changeable] \u001b[38;5;241m=\u001b[39m get_converter(unit2, unit1)\n\u001b[1;32m     69\u001b[0m \u001b[38;5;28;01mexcept\u001b[39;00m UnitsError:\n",
      "File \u001b[0;32m~/anaconda3/lib/python3.11/site-packages/astropy/units/quantity_helper/helpers.py:32\u001b[0m, in \u001b[0;36mget_converter\u001b[0;34m(from_unit, to_unit)\u001b[0m\n\u001b[1;32m     30\u001b[0m \u001b[38;5;250m\u001b[39m\u001b[38;5;124;03m\"\"\"Like Unit._get_converter, except returns None if no scaling is needed,\u001b[39;00m\n\u001b[1;32m     31\u001b[0m \u001b[38;5;124;03mi.e., if the inferred scale is unity.\"\"\"\u001b[39;00m\n\u001b[0;32m---> 32\u001b[0m converter \u001b[38;5;241m=\u001b[39m from_unit\u001b[38;5;241m.\u001b[39m_get_converter(to_unit)\n\u001b[1;32m     33\u001b[0m \u001b[38;5;28;01mreturn\u001b[39;00m \u001b[38;5;28;01mNone\u001b[39;00m \u001b[38;5;28;01mif\u001b[39;00m converter \u001b[38;5;129;01mis\u001b[39;00m unit_scale_converter \u001b[38;5;28;01melse\u001b[39;00m converter\n",
      "File \u001b[0;32m~/anaconda3/lib/python3.11/site-packages/astropy/units/core.py:1061\u001b[0m, in \u001b[0;36mUnitBase._get_converter\u001b[0;34m(self, other, equivalencies)\u001b[0m\n\u001b[1;32m   1059\u001b[0m                 \u001b[38;5;28;01mpass\u001b[39;00m\n\u001b[0;32m-> 1061\u001b[0m \u001b[38;5;28;01mraise\u001b[39;00m exc\n",
      "File \u001b[0;32m~/anaconda3/lib/python3.11/site-packages/astropy/units/core.py:1046\u001b[0m, in \u001b[0;36mUnitBase._get_converter\u001b[0;34m(self, other, equivalencies)\u001b[0m\n\u001b[1;32m   1045\u001b[0m \u001b[38;5;28;01mtry\u001b[39;00m:\n\u001b[0;32m-> 1046\u001b[0m     \u001b[38;5;28;01mreturn\u001b[39;00m \u001b[38;5;28mself\u001b[39m\u001b[38;5;241m.\u001b[39m_apply_equivalencies(\n\u001b[1;32m   1047\u001b[0m         \u001b[38;5;28mself\u001b[39m, other, \u001b[38;5;28mself\u001b[39m\u001b[38;5;241m.\u001b[39m_normalize_equivalencies(equivalencies))\n\u001b[1;32m   1048\u001b[0m \u001b[38;5;28;01mexcept\u001b[39;00m UnitsError \u001b[38;5;28;01mas\u001b[39;00m exc:\n\u001b[1;32m   1049\u001b[0m     \u001b[38;5;66;03m# Last hope: maybe other knows how to do it?\u001b[39;00m\n\u001b[1;32m   1050\u001b[0m     \u001b[38;5;66;03m# We assume the equivalencies have the unit itself as first item.\u001b[39;00m\n\u001b[1;32m   1051\u001b[0m     \u001b[38;5;66;03m# TODO: maybe better for other to have a `_back_converter` method?\u001b[39;00m\n",
      "File \u001b[0;32m~/anaconda3/lib/python3.11/site-packages/astropy/units/core.py:1022\u001b[0m, in \u001b[0;36mUnitBase._apply_equivalencies\u001b[0;34m(self, unit, other, equivalencies)\u001b[0m\n\u001b[1;32m   1020\u001b[0m other_str \u001b[38;5;241m=\u001b[39m get_err_str(other)\n\u001b[0;32m-> 1022\u001b[0m \u001b[38;5;28;01mraise\u001b[39;00m UnitConversionError(\n\u001b[1;32m   1023\u001b[0m     \u001b[38;5;124mf\u001b[39m\u001b[38;5;124m\"\u001b[39m\u001b[38;5;132;01m{\u001b[39;00munit_str\u001b[38;5;132;01m}\u001b[39;00m\u001b[38;5;124m and \u001b[39m\u001b[38;5;132;01m{\u001b[39;00mother_str\u001b[38;5;132;01m}\u001b[39;00m\u001b[38;5;124m are not convertible\u001b[39m\u001b[38;5;124m\"\u001b[39m)\n",
      "\u001b[0;31mUnitConversionError\u001b[0m: 'kg' (mass) and 'deg' (angle) are not convertible",
      "\nDuring handling of the above exception, another exception occurred:\n",
      "\u001b[0;31mUnitConversionError\u001b[0m                       Traceback (most recent call last)",
      "Cell \u001b[0;32mIn[10], line 1\u001b[0m\n\u001b[0;32m----> 1\u001b[0m angle \u001b[38;5;241m+\u001b[39m \u001b[38;5;241m5\u001b[39m\u001b[38;5;241m*\u001b[39mu\u001b[38;5;241m.\u001b[39mkg\n",
      "File \u001b[0;32m~/anaconda3/lib/python3.11/site-packages/astropy/units/quantity.py:591\u001b[0m, in \u001b[0;36mQuantity.__array_ufunc__\u001b[0;34m(self, function, method, *inputs, **kwargs)\u001b[0m\n\u001b[1;32m    569\u001b[0m \u001b[38;5;250m\u001b[39m\u001b[38;5;124;03m\"\"\"Wrap numpy ufuncs, taking care of units.\u001b[39;00m\n\u001b[1;32m    570\u001b[0m \n\u001b[1;32m    571\u001b[0m \u001b[38;5;124;03mParameters\u001b[39;00m\n\u001b[0;32m   (...)\u001b[0m\n\u001b[1;32m    585\u001b[0m \u001b[38;5;124;03m    Results of the ufunc, with the unit set properly.\u001b[39;00m\n\u001b[1;32m    586\u001b[0m \u001b[38;5;124;03m\"\"\"\u001b[39;00m\n\u001b[1;32m    587\u001b[0m \u001b[38;5;66;03m# Determine required conversion functions -- to bring the unit of the\u001b[39;00m\n\u001b[1;32m    588\u001b[0m \u001b[38;5;66;03m# input to that expected (e.g., radian for np.sin), or to get\u001b[39;00m\n\u001b[1;32m    589\u001b[0m \u001b[38;5;66;03m# consistent units between two inputs (e.g., in np.add) --\u001b[39;00m\n\u001b[1;32m    590\u001b[0m \u001b[38;5;66;03m# and the unit of the result (or tuple of units for nout > 1).\u001b[39;00m\n\u001b[0;32m--> 591\u001b[0m converters, unit \u001b[38;5;241m=\u001b[39m converters_and_unit(function, method, \u001b[38;5;241m*\u001b[39minputs)\n\u001b[1;32m    593\u001b[0m out \u001b[38;5;241m=\u001b[39m kwargs\u001b[38;5;241m.\u001b[39mget(\u001b[38;5;124m'\u001b[39m\u001b[38;5;124mout\u001b[39m\u001b[38;5;124m'\u001b[39m, \u001b[38;5;28;01mNone\u001b[39;00m)\n\u001b[1;32m    594\u001b[0m \u001b[38;5;66;03m# Avoid loop back by turning any Quantity output into array views.\u001b[39;00m\n",
      "File \u001b[0;32m~/anaconda3/lib/python3.11/site-packages/astropy/units/quantity_helper/converters.py:174\u001b[0m, in \u001b[0;36mconverters_and_unit\u001b[0;34m(function, method, *args)\u001b[0m\n\u001b[1;32m    171\u001b[0m units \u001b[38;5;241m=\u001b[39m [\u001b[38;5;28mgetattr\u001b[39m(arg, \u001b[38;5;124m'\u001b[39m\u001b[38;5;124munit\u001b[39m\u001b[38;5;124m'\u001b[39m, \u001b[38;5;28;01mNone\u001b[39;00m) \u001b[38;5;28;01mfor\u001b[39;00m arg \u001b[38;5;129;01min\u001b[39;00m args]\n\u001b[1;32m    173\u001b[0m \u001b[38;5;66;03m# Determine possible conversion functions, and the result unit.\u001b[39;00m\n\u001b[0;32m--> 174\u001b[0m converters, result_unit \u001b[38;5;241m=\u001b[39m ufunc_helper(function, \u001b[38;5;241m*\u001b[39munits)\n\u001b[1;32m    176\u001b[0m \u001b[38;5;28;01mif\u001b[39;00m \u001b[38;5;28many\u001b[39m(converter \u001b[38;5;129;01mis\u001b[39;00m \u001b[38;5;28;01mFalse\u001b[39;00m \u001b[38;5;28;01mfor\u001b[39;00m converter \u001b[38;5;129;01min\u001b[39;00m converters):\n\u001b[1;32m    177\u001b[0m     \u001b[38;5;66;03m# for multi-argument ufuncs with a quantity and a non-quantity,\u001b[39;00m\n\u001b[1;32m    178\u001b[0m     \u001b[38;5;66;03m# the quantity normally needs to be dimensionless, *except*\u001b[39;00m\n\u001b[0;32m   (...)\u001b[0m\n\u001b[1;32m    181\u001b[0m     \u001b[38;5;66;03m# can just have the unit of the quantity\u001b[39;00m\n\u001b[1;32m    182\u001b[0m     \u001b[38;5;66;03m# (this allows, e.g., `q > 0.` independent of unit)\u001b[39;00m\n\u001b[1;32m    183\u001b[0m     \u001b[38;5;28;01mtry\u001b[39;00m:\n\u001b[1;32m    184\u001b[0m         \u001b[38;5;66;03m# Don't fold this loop in the test above: this rare case\u001b[39;00m\n\u001b[1;32m    185\u001b[0m         \u001b[38;5;66;03m# should not make the common case slower.\u001b[39;00m\n",
      "File \u001b[0;32m~/anaconda3/lib/python3.11/site-packages/astropy/units/quantity_helper/helpers.py:70\u001b[0m, in \u001b[0;36mget_converters_and_unit\u001b[0;34m(f, unit1, unit2)\u001b[0m\n\u001b[1;32m     68\u001b[0m     converters[changeable] \u001b[38;5;241m=\u001b[39m get_converter(unit2, unit1)\n\u001b[1;32m     69\u001b[0m \u001b[38;5;28;01mexcept\u001b[39;00m UnitsError:\n\u001b[0;32m---> 70\u001b[0m     \u001b[38;5;28;01mraise\u001b[39;00m UnitConversionError(\n\u001b[1;32m     71\u001b[0m         \u001b[38;5;124m\"\u001b[39m\u001b[38;5;124mCan only apply \u001b[39m\u001b[38;5;124m'\u001b[39m\u001b[38;5;132;01m{}\u001b[39;00m\u001b[38;5;124m'\u001b[39m\u001b[38;5;124m function to quantities \u001b[39m\u001b[38;5;124m\"\u001b[39m\n\u001b[1;32m     72\u001b[0m         \u001b[38;5;124m\"\u001b[39m\u001b[38;5;124mwith compatible dimensions\u001b[39m\u001b[38;5;124m\"\u001b[39m\n\u001b[1;32m     73\u001b[0m         \u001b[38;5;241m.\u001b[39mformat(f\u001b[38;5;241m.\u001b[39m\u001b[38;5;18m__name__\u001b[39m))\n\u001b[1;32m     75\u001b[0m \u001b[38;5;28;01mreturn\u001b[39;00m converters, unit1\n",
      "\u001b[0;31mUnitConversionError\u001b[0m: Can only apply 'add' function to quantities with compatible dimensions"
     ]
    }
   ],
   "source": [
    "angle + 5*u.kg"
   ]
  },
  {
   "cell_type": "markdown",
   "id": "c4fe650f",
   "metadata": {
    "slideshow": {
     "slide_type": "slide"
    }
   },
   "source": [
    "## <p style=\"background-color: #f5df18; padding: 10px;\"> 🛑 Exercise (2 minutes) </p>\n",
    "---\n",
    "\n",
    "Create a quantity that represents 5\n",
    "[arcminutes](https://en.wikipedia.org/wiki/Minute_and_second_of_arc)\n",
    "and assign it to a variable called `radius`.\n",
    "\n",
    "Then convert it to degrees."
   ]
  },
  {
   "cell_type": "code",
   "execution_count": 11,
   "id": "c5959c6b",
   "metadata": {
    "slideshow": {
     "slide_type": "-"
    }
   },
   "outputs": [],
   "source": [
    "radius = 5 *u.arcmin\n",
    "\n",
    "radius_deg = radius.to(u.degree)"
   ]
  },
  {
   "cell_type": "markdown",
   "id": "HhMD0cz9kN-x",
   "metadata": {
    "id": "HhMD0cz9kN-x",
    "slideshow": {
     "slide_type": "slide"
    }
   },
   "source": [
    "# Selecting a Region\n",
    "\n",
    "---"
   ]
  },
  {
   "cell_type": "markdown",
   "id": "Nz7DKB87kjGj",
   "metadata": {
    "id": "Nz7DKB87kjGj",
    "slideshow": {
     "slide_type": "-"
    }
   },
   "source": [
    "One of the most common ways to restrict a query is to select stars in\n",
    "a particular region of the sky.\n",
    "For example, here is a query from the [Gaia archive\n",
    "documentation](https://gea.esac.esa.int/archive-help/adql/examples/index.html)\n",
    "that selects objects in a circular region centered at (88.8, 7.4) with\n",
    "a search radius of 5 arcmin (0.08333 deg).\n",
    "\n",
    "```python\n",
    "cone_query = \"\"\"SELECT \n",
    "TOP 10 \n",
    "source_id\n",
    "FROM gaiadr2.gaia_source\n",
    "WHERE 1=CONTAINS(\n",
    "  POINT(ra, dec),\n",
    "  CIRCLE(88.8, 7.4, 0.08333333))\n",
    "\"\"\"\n",
    "```"
   ]
  },
  {
   "cell_type": "markdown",
   "id": "I5WJvkMVlOdY",
   "metadata": {
    "id": "I5WJvkMVlOdY",
    "slideshow": {
     "slide_type": "slide"
    }
   },
   "source": [
    "This query uses three keywords that are specific to ADQL (not SQL):\n",
    "\n",
    "- `POINT`: a location in [ICRS\n",
    "  coordinates](https://en.wikipedia.org/wiki/International_Celestial_Reference_System),\n",
    "  specified in degrees of right ascension and declination.\n",
    "\n",
    "- `CIRCLE`: a circle where the first two values are the coordinates of\n",
    "  the center and the third is the radius in degrees.\n",
    "\n",
    "- `CONTAINS`: a function that returns `1` if a `POINT` is contained in\n",
    "  a shape and `0` otherwise. Here is the [documentation of\n",
    "  `CONTAINS`](https://www.ivoa.net/documents/ADQL/20180112/PR-ADQL-2.1-20180112.html#tth_sEc4.2.12).\n",
    "\n",
    "A query like this is called a cone search because it selects stars in a cone.\n",
    "Here is how we run it:"
   ]
  },
  {
   "cell_type": "code",
   "execution_count": 12,
   "id": "084f7d81",
   "metadata": {
    "slideshow": {
     "slide_type": "-"
    }
   },
   "outputs": [],
   "source": [
    "cone_query = \"\"\"SELECT \n",
    "TOP 10 \n",
    "source_id\n",
    "FROM gaiadr2.gaia_source\n",
    "WHERE 1=CONTAINS(\n",
    "  POINT(ra, dec),\n",
    "  CIRCLE(88.8, 7.4, 0.08333333))\n",
    "\"\"\""
   ]
  },
  {
   "cell_type": "code",
   "execution_count": 16,
   "id": "1_eONCO6rVOG",
   "metadata": {
    "id": "1_eONCO6rVOG",
    "slideshow": {
     "slide_type": "-"
    }
   },
   "outputs": [],
   "source": [
    "from astroquery.gaia import Gaia\n",
    "cone_job = Gaia.launch_job(cone_query)"
   ]
  },
  {
   "cell_type": "code",
   "execution_count": 18,
   "id": "FNWuTCEb6-79",
   "metadata": {
    "id": "FNWuTCEb6-79",
    "slideshow": {
     "slide_type": "-"
    }
   },
   "outputs": [
    {
     "data": {
      "text/html": [
       "<div><i>Table length=10</i>\n",
       "<table id=\"table5230251280\" class=\"table-striped table-bordered table-condensed\">\n",
       "<thead><tr><th>SOURCE_ID</th></tr></thead>\n",
       "<thead><tr><th>int64</th></tr></thead>\n",
       "<tr><td>3322773965056065536</td></tr>\n",
       "<tr><td>3322773758899157120</td></tr>\n",
       "<tr><td>3322774068134271104</td></tr>\n",
       "<tr><td>3322773930696320512</td></tr>\n",
       "<tr><td>3322774377374425728</td></tr>\n",
       "<tr><td>3322773724537891456</td></tr>\n",
       "<tr><td>3322773724537891328</td></tr>\n",
       "<tr><td>3322773930696321792</td></tr>\n",
       "<tr><td>3322773724537890944</td></tr>\n",
       "<tr><td>3322773930696322176</td></tr>\n",
       "</table></div>"
      ],
      "text/plain": [
       "<Table length=10>\n",
       "     SOURCE_ID     \n",
       "       int64       \n",
       "-------------------\n",
       "3322773965056065536\n",
       "3322773758899157120\n",
       "3322774068134271104\n",
       "3322773930696320512\n",
       "3322774377374425728\n",
       "3322773724537891456\n",
       "3322773724537891328\n",
       "3322773930696321792\n",
       "3322773724537890944\n",
       "3322773930696322176"
      ]
     },
     "execution_count": 18,
     "metadata": {},
     "output_type": "execute_result"
    }
   ],
   "source": [
    "cone_results = cone_job.get_results()\n",
    "cone_results"
   ]
  },
  {
   "cell_type": "markdown",
   "id": "ZBQQ13FV67XG",
   "metadata": {
    "id": "ZBQQ13FV67XG",
    "slideshow": {
     "slide_type": "slide"
    }
   },
   "source": [
    "## <p style=\"background-color: #f5df18; padding: 10px;\"> 🛑 Exercise (4 minutes) </p>\n",
    "---\n",
    "\n",
    "When you are debugging queries like this, you can use `TOP` to limit\n",
    "the size of the results, but then you still don't know how big the\n",
    "results will be.\n",
    "\n",
    "An alternative is to use `COUNT`, which asks for the number of rows\n",
    "that would be selected, but it does not return them.\n",
    "\n",
    "In the previous query, replace `TOP 10 source_id` with\n",
    "`COUNT(source_id)` and run the query again.  How many stars has Gaia\n",
    "identified in the cone we searched?"
   ]
  },
  {
   "cell_type": "code",
   "execution_count": null,
   "id": "b38a1571",
   "metadata": {},
   "outputs": [],
   "source": [
    "### your answer here ####\n",
    "\n",
    "count_cone_query = \"\"\"SELECT \n",
    "COUNT(source_id)\n",
    "FROM gaiadr2.gaia_source\n",
    "WHERE 1=CONTAINS(\n",
    "  POINT(ra, dec),\n",
    "  CIRCLE(88.8, 7.4, 0.08333333))\n",
    "\"\"\""
   ]
  },
  {
   "cell_type": "code",
   "execution_count": null,
   "id": "ef7d0048",
   "metadata": {},
   "outputs": [],
   "source": [
    "count_cone_job = Gaia.launch_job(count_cone_query)"
   ]
  },
  {
   "cell_type": "code",
   "execution_count": null,
   "id": "c9cee106",
   "metadata": {},
   "outputs": [],
   "source": [
    "count_results = count_cone_job.get_results()"
   ]
  },
  {
   "cell_type": "code",
   "execution_count": 22,
   "id": "_G3VRpXn7KqM",
   "metadata": {
    "id": "_G3VRpXn7KqM",
    "slideshow": {
     "slide_type": "-"
    }
   },
   "outputs": [
    {
     "data": {
      "text/html": [
       "<div><i>Table length=1</i>\n",
       "<table id=\"table6106950480\" class=\"table-striped table-bordered table-condensed\">\n",
       "<thead><tr><th>COUNT</th></tr></thead>\n",
       "<thead><tr><th>int64</th></tr></thead>\n",
       "<tr><td>594</td></tr>\n",
       "</table></div>"
      ],
      "text/plain": [
       "<Table length=1>\n",
       "COUNT\n",
       "int64\n",
       "-----\n",
       "  594"
      ]
     },
     "execution_count": 22,
     "metadata": {},
     "output_type": "execute_result"
    }
   ],
   "source": [
    "count_results"
   ]
  },
  {
   "cell_type": "markdown",
   "id": "LgQIKeaE7ROL",
   "metadata": {
    "id": "LgQIKeaE7ROL",
    "slideshow": {
     "slide_type": "slide"
    }
   },
   "source": [
    "# Getting GD-1 Data\n",
    "\n",
    "---"
   ]
  },
  {
   "cell_type": "markdown",
   "id": "KmvE9EIF7YAD",
   "metadata": {
    "id": "KmvE9EIF7YAD",
    "slideshow": {
     "slide_type": "-"
    }
   },
   "source": [
    "From the Price-Whelan and Bonaca paper, we will try to reproduce [Figure 1](https://www.astroexplorer.org/details/apjlaad7b5f1/eyJrZXlXb3JkcyI6IlByaWNlLVdoZWxhbiIsImF1dGhvciI6IlByaWNlLVdoZWxhbiIsImZyb21ZZWFyIjoyMDE4LCJ0b1llYXIiOjIwMTgsInBhZ2UiOjEsInNob3ciOiIyMDAifQ), which includes this representation of stars likely to belong to GD-1:\n",
    "\n",
    "\n",
    "\n",
    "<div>\n",
    "<img src=\"https://datacarpentry.org/astronomy-python/fig/gd1-4.png\" width=\"1300\"/>\n",
    "</div>\n"
   ]
  },
  {
   "cell_type": "markdown",
   "id": "5JuFiwZb7wZH",
   "metadata": {
    "id": "5JuFiwZb7wZH",
    "slideshow": {
     "slide_type": "-"
    }
   },
   "source": [
    "The axes of this figure are defined so the x-axis is aligned with the stars in GD-1, and the y-axis is perpendicular.\n",
    "\n",
    "* Along the x-axis ($\\phi_{1}$) the figure extends from -100 to 20 degrees.\n",
    "\n",
    "* Along the y-axis ($\\phi_{2}$) the figure extends from about -8 to 4 degrees.\n",
    "\n",
    "Ideally, we would select all stars from this rectangle, but there are more than 10 million of them. This would be difficult to work with, and as anonymous Gaia users, we are limited to 3 million rows in a single query. While we are developing and testing code, it will be faster to work with a smaller dataset.\n",
    "\n",
    "So we will start by selecting stars in a smaller rectangle near the center of GD-1, from -55 to -45 degrees $\\phi_{1}$ and -8 to 4 degrees $\\phi_{2}$. First we will learn how to represent these coordinates with Astropy."
   ]
  },
  {
   "cell_type": "markdown",
   "id": "syklXPkK8Utk",
   "metadata": {
    "id": "syklXPkK8Utk",
    "slideshow": {
     "slide_type": "slide"
    }
   },
   "source": [
    "# Transforming coordinates\n",
    "\n",
    "---"
   ]
  },
  {
   "cell_type": "markdown",
   "id": "y_ntDoSp8aUc",
   "metadata": {
    "id": "y_ntDoSp8aUc",
    "slideshow": {
     "slide_type": "-"
    }
   },
   "source": [
    "Astronomy makes use of many different [coordinate systems](https://en.wikipedia.org/wiki/Celestial_coordinate_system). Transforming between coordinate systems is a common task in observational astronomy, and thankfully, Astropy has abstracted the required spherical trigonometry for us. Below we show the steps to go from Equatorial coordinates (sky coordinates) to Galactic coordinates and finally to a reference frame defined to more easily study GD-1.\n",
    "\n",
    "Astropy provides a `SkyCoord` object that represents sky coordinates\n",
    "relative to a specified reference frame.\n",
    "\n",
    "Let's create a `SkyCoord` object that represents the\n",
    "approximate coordinates of\n",
    "[Betelgeuse](https://simbad.u-strasbg.fr/simbad/sim-basic?Ident=Betelgeuse)\n",
    "(alf Ori) in the ICRS frame.\n",
    "\n",
    "Note: [ICRS](https://www.iers.org/IERS/EN/Science/ICRS/ICRS.html) is the\n",
    "\"International Celestial Reference System\", adopted in 1997 by the\n",
    "International Astronomical Union."
   ]
  },
  {
   "cell_type": "markdown",
   "id": "ed6bbcdd",
   "metadata": {
    "slideshow": {
     "slide_type": "slide"
    }
   },
   "source": [
    "From the [Simbad](https://simbad.u-strasbg.fr/simbad/sim-basic?Ident=Betelgeuse) database, Betelgeuse is located at `RA=05h55m10.31s, DEC=07d24m25.4s`\n",
    "\n",
    "Before defining the SkyCoord object, let's first convert these units to degrees. This can be achieved using the `Angle` class from astropy. "
   ]
  },
  {
   "cell_type": "code",
   "execution_count": 57,
   "id": "0d544d4b",
   "metadata": {
    "slideshow": {
     "slide_type": "-"
    }
   },
   "outputs": [
    {
     "name": "stdout",
     "output_type": "stream",
     "text": [
      "alf Ori is located at RA=88.8, DEC=7.4\n"
     ]
    }
   ],
   "source": [
    "from astropy.coordinates import Angle\n",
    "\n",
    "ra_alf_ori = Angle('05h55m10.31s') # hours, minutes, seconds\n",
    "\n",
    "ra_alf_ori_deg = ra_alf_ori.deg\n",
    "\n",
    "dec_alf_ori = Angle('07d24m25.4s') # degrees, arcminutes, arcseconds \n",
    "\n",
    "dec_alf_ori_deg = dec_alf_ori.deg \n",
    "\n",
    "print('alf Ori is located at RA={:.1f}, DEC={:.1f}'.format(ra_alf_ori_deg, dec_alf_ori_deg))"
   ]
  },
  {
   "cell_type": "code",
   "execution_count": 67,
   "id": "b2d71f9e",
   "metadata": {
    "id": "2uHzOSOJ7TRg",
    "slideshow": {
     "slide_type": "slide"
    }
   },
   "outputs": [],
   "source": [
    "# Create SkyCoord object that represents Betelgeuse in the ICRS frame #\n",
    "\n",
    "from astropy.coordinates import SkyCoord\n",
    "\n",
    "coord_icrs = SkyCoord(ra=88.8*u.deg, dec=7.4*u.deg, frame='icrs')"
   ]
  },
  {
   "cell_type": "code",
   "execution_count": 68,
   "id": "d5034e85",
   "metadata": {
    "slideshow": {
     "slide_type": "-"
    }
   },
   "outputs": [
    {
     "data": {
      "text/plain": [
       "<SkyCoord (ICRS): (ra, dec) in deg\n",
       "    (88.8, 7.4)>"
      ]
     },
     "execution_count": 68,
     "metadata": {},
     "output_type": "execute_result"
    }
   ],
   "source": [
    "coord_icrs"
   ]
  },
  {
   "cell_type": "markdown",
   "id": "5w9vclHx836N",
   "metadata": {
    "id": "5w9vclHx836N",
    "slideshow": {
     "slide_type": "slide"
    }
   },
   "source": [
    "`SkyCoord` objects require units in order to understand the context. There are a number of ways to define\n",
    "`SkyCoord` objects, in our example, we explicitly specified the coordinates and units and provided a\n",
    "reference frame.\n",
    "\n",
    "`SkyCoord` provides the `transform_to` function to transform from one reference frame to another reference frame.\n",
    "For example, we can transform `coords_icrs` to Galactic coordinates like this:"
   ]
  },
  {
   "cell_type": "code",
   "execution_count": 69,
   "id": "Z7HOvYN29Iy_",
   "metadata": {
    "id": "Z7HOvYN29Iy_",
    "slideshow": {
     "slide_type": "-"
    }
   },
   "outputs": [],
   "source": [
    "coord_galactic = coord_icrs.transform_to(frame='galactic')"
   ]
  },
  {
   "cell_type": "code",
   "execution_count": 70,
   "id": "9980a72b",
   "metadata": {
    "slideshow": {
     "slide_type": "-"
    }
   },
   "outputs": [
    {
     "data": {
      "text/plain": [
       "<SkyCoord (Galactic): (l, b) in deg\n",
       "    (199.79693102, -8.95591653)>"
      ]
     },
     "execution_count": 70,
     "metadata": {},
     "output_type": "execute_result"
    }
   ],
   "source": [
    "coord_galactic"
   ]
  },
  {
   "cell_type": "markdown",
   "id": "RpNYSXki9ONB",
   "metadata": {
    "id": "RpNYSXki9ONB",
    "slideshow": {
     "slide_type": "slide"
    }
   },
   "source": [
    "## 🔔 **COORDINATE VARIABLES**\n",
    "---\n",
    "\n",
    "Notice that in the Galactic frame, the coordinates are the variables we usually use for Galactic\n",
    "longitude and latitude called `l` and `b`, respectively, not `ra` and `dec`. Most reference frames have\n",
    "different ways to specify coordinates and the `SkyCoord` object will use these names.\n"
   ]
  },
  {
   "cell_type": "markdown",
   "id": "2opMS5039lE_",
   "metadata": {
    "id": "2opMS5039lE_",
    "slideshow": {
     "slide_type": "slide"
    }
   },
   "source": [
    "To transform to and from GD-1 coordinates, we will use a frame defined\n",
    "by [Gala](https://gala-astro.readthedocs.io/en/latest/), which is an\n",
    "Astropy-affiliated library that provides tools for galactic dynamics.\n",
    "\n",
    "Gala provides\n",
    "[`GD1Koposov10`](https://gala-astro.readthedocs.io/en/latest/_modules/gala/coordinates/gd1.html),\n",
    "which is \"a Heliocentric spherical coordinate system defined by the\n",
    "orbit of the GD-1 stream\". In this coordinate system, one axis is defined along\n",
    "the direction of the steam (the x-axis in Figure 1) and one axis is defined\n",
    "perpendicular to the direction of the stream (the y-axis in Figure 1).\n",
    "These are called the φ<sub>1</sub> and φ<sub>2</sub> coordinates, respectively.\n"
   ]
  },
  {
   "cell_type": "code",
   "execution_count": null,
   "id": "2701a5e4",
   "metadata": {
    "slideshow": {
     "slide_type": "-"
    }
   },
   "outputs": [],
   "source": [
    "pip install gala"
   ]
  },
  {
   "cell_type": "code",
   "execution_count": 76,
   "id": "_2-uWFre9Uu_",
   "metadata": {
    "id": "_2-uWFre9Uu_",
    "slideshow": {
     "slide_type": "-"
    }
   },
   "outputs": [],
   "source": [
    "from gala.coordinates import GD1Koposov10\n",
    "\n",
    "gd1_frame = GD1Koposov10()"
   ]
  },
  {
   "cell_type": "code",
   "execution_count": 78,
   "id": "0fbca2f3",
   "metadata": {
    "slideshow": {
     "slide_type": "-"
    }
   },
   "outputs": [
    {
     "data": {
      "text/plain": [
       "<GD1Koposov10 Frame>"
      ]
     },
     "execution_count": 78,
     "metadata": {},
     "output_type": "execute_result"
    }
   ],
   "source": [
    "gd1_frame"
   ]
  },
  {
   "cell_type": "markdown",
   "id": "-ZFPZeWs9z5b",
   "metadata": {
    "id": "-ZFPZeWs9z5b",
    "slideshow": {
     "slide_type": "-"
    }
   },
   "source": [
    "We can use it to find the coordinates of Betelgeuse in the GD-1 frame, like this:"
   ]
  },
  {
   "cell_type": "code",
   "execution_count": 80,
   "id": "iTse6a7490OH",
   "metadata": {
    "id": "iTse6a7490OH",
    "slideshow": {
     "slide_type": "-"
    }
   },
   "outputs": [
    {
     "data": {
      "text/plain": [
       "<SkyCoord (GD1Koposov10): (phi1, phi2) in deg\n",
       "    (-94.97222038, 34.5813813)>"
      ]
     },
     "execution_count": 80,
     "metadata": {},
     "output_type": "execute_result"
    }
   ],
   "source": [
    "coord_gd1 = coord_icrs.transform_to(gd1_frame)\n",
    "coord_gd1"
   ]
  },
  {
   "cell_type": "markdown",
   "id": "4zleSP00-nqT",
   "metadata": {
    "id": "4zleSP00-nqT",
    "slideshow": {
     "slide_type": "slide"
    }
   },
   "source": [
    "## <p style=\"background-color: #f5df18; padding: 10px;\"> 🛑 Exercise (6 minutes) </p>\n",
    "---\n",
    "\n",
    "\n",
    "Find the location of GD-1 in ICRS coordinates.\n",
    "\n",
    "1. Create a `SkyCoord` object at 0°, 0° in the GD-1 frame.\n",
    "\n",
    "2. Transform it to the ICRS frame.\n",
    "\n",
    "Hint: Because ICRS is a standard frame, it is built into Astropy. You can specify it by name,\n",
    "`icrs` (as we did with `galactic`)."
   ]
  },
  {
   "cell_type": "code",
   "execution_count": 84,
   "id": "kngQrPna-riD",
   "metadata": {
    "id": "kngQrPna-riD",
    "slideshow": {
     "slide_type": "-"
    }
   },
   "outputs": [
    {
     "data": {
      "text/plain": [
       "<SkyCoord (ICRS): (ra, dec) in deg\n",
       "    (200., 59.4504341)>"
      ]
     },
     "execution_count": 84,
     "metadata": {},
     "output_type": "execute_result"
    }
   ],
   "source": [
    "## Solution\n",
    "\n",
    "origin_gd1 = SkyCoord(0*u.deg, 0*u.deg, frame=gd1_frame)\n",
    "\n",
    "origin_icrs = origin_gd1.transform_to('icrs')\n",
    "\n",
    "origin_icrs"
   ]
  },
  {
   "cell_type": "markdown",
   "id": "AnE_e7ub_MUf",
   "metadata": {
    "id": "AnE_e7ub_MUf",
    "slideshow": {
     "slide_type": "fragment"
    }
   },
   "source": [
    "You will notice that the origin of the GD-1 frame maps to `ra=200`, exactly, in ICRS. That is by design.\n",
    "\n"
   ]
  },
  {
   "cell_type": "markdown",
   "id": "VWMO_8MI_VVi",
   "metadata": {
    "id": "VWMO_8MI_VVi",
    "slideshow": {
     "slide_type": "slide"
    }
   },
   "source": [
    "#  Selecting a rectangle\n",
    "\n",
    "---"
   ]
  },
  {
   "cell_type": "markdown",
   "id": "3lsB43wq_aPc",
   "metadata": {
    "id": "3lsB43wq_aPc",
    "slideshow": {
     "slide_type": "-"
    }
   },
   "source": [
    "Now that we know how to define coordinate transformations, we are going to use them to get a list of stars that are in GD-1. As we mentioned before, this is a lot of stars, so we are going to start by defining a rectangle that encompasses a small part of GD-1. This is easiest to define in GD-1 coordinates.\n",
    "\n",
    "As mentioned earlier, let's start by selecting stars in a smaller rectangle near the center of GD-1, from -55 to -45 degrees $\\phi_{1}$ and -8 to 4 degrees $\\phi_{2}$. First we will learn how to represent these coordinates with Astropy."
   ]
  },
  {
   "cell_type": "code",
   "execution_count": 109,
   "id": "9v_V_cqb_NvC",
   "metadata": {
    "id": "9v_V_cqb_NvC",
    "slideshow": {
     "slide_type": "-"
    }
   },
   "outputs": [],
   "source": [
    "### Define the boundaries of the rectangle in $\\phi_{1}$ and $\\phi_{2}$.\n",
    "\n",
    "phi1_min = -55 * u.degree \n",
    "phi1_max = -45 * u.degree \n",
    "phi2_min = -8 * u.degree\n",
    "phi2_max = 4 * u.degree"
   ]
  },
  {
   "cell_type": "markdown",
   "id": "uOXaZL1i_alt",
   "metadata": {
    "id": "uOXaZL1i_alt",
    "slideshow": {
     "slide_type": "slide"
    }
   },
   "source": [
    "Throughout this lesson we are going to be defining a rectangle often. Rather than copy and paste multiple lines of code, we will write a function to build the rectangle for us. By having the code contained in a single location, we can easily fix bugs or update our implementation as needed. By choosing an explicit function name our code is also self documenting, meaning its easy for us to understand that we are building a rectangle when we call this function.\n",
    "\n",
    "To create a rectangle, we will use the following function, which takes the lower and upper bounds as parameters and returns a list of x and y coordinates of the corners of a rectangle starting with the lower left corner and working clockwise.\n",
    "\n",
    "```python\n",
    "def make_rectangle(x1, x2, y1, y2):\n",
    "    \"\"\"Return the corners of a rectangle.\"\"\"\n",
    "    xs = [x1, x1, x2, x2, x1]\n",
    "    ys = [y1, y2, y2, y1, y1]\n",
    "    return xs, ys\n",
    "```\n",
    "\n",
    "The return value is a tuple containing a list of coordinates in $\\phi_{1}$ followed by a list of coordinates in $\\phi_{2}$.\n"
   ]
  },
  {
   "cell_type": "code",
   "execution_count": 110,
   "id": "U4_auksS_2oD",
   "metadata": {
    "id": "U4_auksS_2oD",
    "slideshow": {
     "slide_type": "fragment"
    }
   },
   "outputs": [],
   "source": [
    "### define make_rectangle ### \n",
    "\n",
    "def make_rectangle(x1, x2, y1, y2):\n",
    "    \"\"\"Return the corners of a rectangle.\"\"\"\n",
    "    xs = [x1, x1, x2, x2, x1]\n",
    "    ys = [y1, y2, y2, y1, y1]\n",
    "    return xs, ys"
   ]
  },
  {
   "cell_type": "markdown",
   "id": "4OeYByVgASif",
   "metadata": {
    "id": "4OeYByVgASif",
    "slideshow": {
     "slide_type": "slide"
    }
   },
   "source": [
    "Store the coordinates of the corners of\n",
    "a rectangle in the GD-1 frame as `phi1_rect` and `phi2_rect`."
   ]
  },
  {
   "cell_type": "code",
   "execution_count": 111,
   "id": "3ANuo-GLAH15",
   "metadata": {
    "id": "3ANuo-GLAH15",
    "slideshow": {
     "slide_type": "-"
    }
   },
   "outputs": [],
   "source": [
    "phi1_rect, phi2_rect = make_rectangle(x1=phi1_min, x2=phi1_max, y1=phi2_min, \n",
    "                                     y2=phi2_max)"
   ]
  },
  {
   "cell_type": "markdown",
   "id": "XbiL7638AXwv",
   "metadata": {
    "id": "XbiL7638AXwv",
    "slideshow": {
     "slide_type": "slide"
    }
   },
   "source": [
    "While it is easier to visualize the regions we want to define in the GD-1 frame, the coordinates in the Gaia catalog are in the ICRS frame. In order to use the rectangle we defined, we need to convert the coordinates from the GD-1 frame to the ICRS frame. We will do this using the SkyCoord object. Fortunately SkyCoord objects can take lists of coordinates, in addition to single values."
   ]
  },
  {
   "cell_type": "code",
   "execution_count": 112,
   "id": "U04i9OaAAd9c",
   "metadata": {
    "id": "U04i9OaAAd9c",
    "slideshow": {
     "slide_type": "-"
    }
   },
   "outputs": [
    {
     "data": {
      "text/plain": [
       "<SkyCoord (GD1Koposov10): (phi1, phi2) in deg\n",
       "    [(-55., -8.), (-55.,  4.), (-45.,  4.), (-45., -8.), (-55., -8.)]>"
      ]
     },
     "execution_count": 112,
     "metadata": {},
     "output_type": "execute_result"
    }
   ],
   "source": [
    "corners = SkyCoord(phi1=phi1_rect, phi2=phi2_rect, frame=gd1_frame)\n",
    "corners"
   ]
  },
  {
   "cell_type": "markdown",
   "id": "JWZvYFZuAf0z",
   "metadata": {
    "id": "JWZvYFZuAf0z",
    "slideshow": {
     "slide_type": "slide"
    }
   },
   "source": [
    "Now we can use `transform_to` to convert to ICRS coordinates."
   ]
  },
  {
   "cell_type": "code",
   "execution_count": 113,
   "id": "jfYygrlGAhf0",
   "metadata": {
    "id": "jfYygrlGAhf0",
    "slideshow": {
     "slide_type": "-"
    }
   },
   "outputs": [
    {
     "data": {
      "text/plain": [
       "<SkyCoord (ICRS): (ra, dec) in deg\n",
       "    [(146.27533314, 19.26190982), (135.42163944, 25.87738723),\n",
       "     (141.60264825, 34.3048303 ), (152.81671045, 27.13611254),\n",
       "     (146.27533314, 19.26190982)]>"
      ]
     },
     "execution_count": 113,
     "metadata": {},
     "output_type": "execute_result"
    }
   ],
   "source": [
    "corners_icrs = corners.transform_to('icrs')\n",
    "corners_icrs"
   ]
  },
  {
   "cell_type": "markdown",
   "id": "gXU-Z3K4AjBz",
   "metadata": {
    "id": "gXU-Z3K4AjBz",
    "slideshow": {
     "slide_type": "-"
    }
   },
   "source": [
    "Notice that a rectangle in one coordinate system is not necessarily a rectangle in another. In this example, the result is a (non-rectangular) polygon. This is why we defined our rectangle in the GD-1 frame."
   ]
  },
  {
   "cell_type": "markdown",
   "id": "3tYWVU5XAn3J",
   "metadata": {
    "id": "3tYWVU5XAn3J",
    "slideshow": {
     "slide_type": "slide"
    }
   },
   "source": [
    "# ♦️ Defining a polygon\n",
    "\n",
    "---"
   ]
  },
  {
   "cell_type": "markdown",
   "id": "CrHwQ5dYArO2",
   "metadata": {
    "id": "CrHwQ5dYArO2",
    "slideshow": {
     "slide_type": "-"
    }
   },
   "source": [
    "In order to use this polygon as part of an ADQL query, we have to convert it to a string with a comma-separated list of coordinates, as in this example:\n",
    "\n",
    "```python\n",
    "\"\"\"POLYGON(143.65, 20.98,\n",
    "        134.46, 26.39,\n",
    "        140.58, 34.85,\n",
    "        150.16, 29.01)\n",
    "\"\"\"\n",
    "```"
   ]
  },
  {
   "cell_type": "markdown",
   "id": "77bhrxNwAxtE",
   "metadata": {
    "id": "77bhrxNwAxtE",
    "slideshow": {
     "slide_type": "slide"
    }
   },
   "source": [
    "`SkyCoord` provides `to_string`, which produces a list of strings.\n"
   ]
  },
  {
   "cell_type": "code",
   "execution_count": 115,
   "id": "1Ddelg96A1MO",
   "metadata": {
    "id": "1Ddelg96A1MO",
    "slideshow": {
     "slide_type": "-"
    }
   },
   "outputs": [
    {
     "data": {
      "text/plain": [
       "['146.275 19.2619',\n",
       " '135.422 25.8774',\n",
       " '141.603 34.3048',\n",
       " '152.817 27.1361',\n",
       " '146.275 19.2619']"
      ]
     },
     "execution_count": 115,
     "metadata": {},
     "output_type": "execute_result"
    }
   ],
   "source": [
    "corners_list_str = corners_icrs.to_string()\n",
    "corners_list_str"
   ]
  },
  {
   "cell_type": "markdown",
   "id": "syoOKLLZA2x3",
   "metadata": {
    "id": "syoOKLLZA2x3",
    "slideshow": {
     "slide_type": "slide"
    }
   },
   "source": [
    "We can use the Python string function `join` to join `corners_list_str` into a single\n",
    "string (with spaces between the pairs):"
   ]
  },
  {
   "cell_type": "code",
   "execution_count": 116,
   "id": "972b02da",
   "metadata": {
    "slideshow": {
     "slide_type": "-"
    }
   },
   "outputs": [
    {
     "data": {
      "text/plain": [
       "'146.275 19.2619 135.422 25.8774 141.603 34.3048 152.817 27.1361 146.275 19.2619'"
      ]
     },
     "execution_count": 116,
     "metadata": {},
     "output_type": "execute_result"
    }
   ],
   "source": [
    "corners_single_str = ' '.join(corners_list_str)\n",
    "corners_single_str"
   ]
  },
  {
   "cell_type": "markdown",
   "id": "j5fOztfLA40C",
   "metadata": {
    "id": "j5fOztfLA40C",
    "slideshow": {
     "slide_type": "slide"
    }
   },
   "source": [
    "This is almost what we need, but we have to replace the spaces with commas.\n",
    "\n"
   ]
  },
  {
   "cell_type": "code",
   "execution_count": 117,
   "id": "Xr4ibedLA69T",
   "metadata": {
    "id": "Xr4ibedLA69T",
    "slideshow": {
     "slide_type": "-"
    }
   },
   "outputs": [
    {
     "data": {
      "text/plain": [
       "'146.275, 19.2619, 135.422, 25.8774, 141.603, 34.3048, 152.817, 27.1361, 146.275, 19.2619'"
      ]
     },
     "execution_count": 117,
     "metadata": {},
     "output_type": "execute_result"
    }
   ],
   "source": [
    "corners_single_str.replace(' ', ', ')"
   ]
  },
  {
   "cell_type": "markdown",
   "id": "2KA_IwB8A8xM",
   "metadata": {
    "id": "2KA_IwB8A8xM",
    "slideshow": {
     "slide_type": "slide"
    }
   },
   "source": [
    "This is something we will need to do multiple times. We will write a function to do it for us so we don’t have to copy and paste every time. The following function combines these steps.\n",
    "\n",
    "```python\n",
    "def skycoord_to_string(skycoord):\n",
    "    \"\"\"Convert a one-dimenstional list of SkyCoord to string for Gaia's query format.\"\"\"\n",
    "    corners_list_str = skycoord.to_string()\n",
    "    corners_single_str = ' '.join(corners_list_str)\n",
    "    return corners_single_str.replace(' ', ', ')\n",
    "```"
   ]
  },
  {
   "cell_type": "code",
   "execution_count": 118,
   "id": "a753123f",
   "metadata": {
    "slideshow": {
     "slide_type": "-"
    }
   },
   "outputs": [],
   "source": [
    "def skycoord_to_string(skycoord):\n",
    "    \"\"\"Convert a one-dimenstional list of SkyCoord to string for Gaia's query format.\"\"\"\n",
    "    corners_list_str = skycoord.to_string()\n",
    "    corners_single_str = ' '.join(corners_list_str)\n",
    "    return corners_single_str.replace(' ', ', ')"
   ]
  },
  {
   "cell_type": "markdown",
   "id": "ppmQ-kSlBCcJ",
   "metadata": {
    "id": "ppmQ-kSlBCcJ",
    "slideshow": {
     "slide_type": "slide"
    }
   },
   "source": [
    "Here is how we use this function:\n",
    "\n"
   ]
  },
  {
   "cell_type": "code",
   "execution_count": 119,
   "id": "Dt7B2ANDBEDX",
   "metadata": {
    "id": "Dt7B2ANDBEDX",
    "slideshow": {
     "slide_type": "-"
    }
   },
   "outputs": [
    {
     "data": {
      "text/plain": [
       "'146.275, 19.2619, 135.422, 25.8774, 141.603, 34.3048, 152.817, 27.1361, 146.275, 19.2619'"
      ]
     },
     "execution_count": 119,
     "metadata": {},
     "output_type": "execute_result"
    }
   ],
   "source": [
    "sky_point_list = skycoord_to_string(corners_icrs)\n",
    "sky_point_list"
   ]
  },
  {
   "cell_type": "markdown",
   "id": "2s13szmTBIXO",
   "metadata": {
    "id": "2s13szmTBIXO",
    "slideshow": {
     "slide_type": "slide"
    }
   },
   "source": [
    "# 🏗️ Assembling the query\n",
    "\n",
    "---"
   ]
  },
  {
   "cell_type": "markdown",
   "id": "VqXW92oHBM3y",
   "metadata": {
    "id": "VqXW92oHBM3y",
    "slideshow": {
     "slide_type": "-"
    }
   },
   "source": [
    "Now we are ready to assemble our query to get all of the stars in\n",
    "the Gaia catalog that are in the small rectangle we defined and\n",
    "are likely to be part of GD-1 with the criteria we previously defined.\n",
    "\n",
    "We need `columns` again (as we saw in the previous episode)."
   ]
  },
  {
   "cell_type": "code",
   "execution_count": 120,
   "id": "Zv1Zt4IEBH8P",
   "metadata": {
    "id": "Zv1Zt4IEBH8P",
    "slideshow": {
     "slide_type": "-"
    }
   },
   "outputs": [],
   "source": [
    "columns = 'source_id, ra, dec, pmra, pmdec, parallax'"
   ]
  },
  {
   "cell_type": "markdown",
   "id": "NuMkhOVPBU21",
   "metadata": {
    "id": "NuMkhOVPBU21",
    "slideshow": {
     "slide_type": "slide"
    }
   },
   "source": [
    "And here is the query base we used in the previous lesson:\n",
    "\n",
    "```python\n",
    "query3_base = \"\"\"SELECT\n",
    "TOP 10\n",
    "{columns}\n",
    "FROM gaiadr2.gaia_source\n",
    "WHERE parallax < 1\n",
    "  AND bp_rp BETWEEN -0.75 AND 2\n",
    "\"\"\"\n",
    "```\n"
   ]
  },
  {
   "cell_type": "markdown",
   "id": "Grr2HuHaBX1W",
   "metadata": {
    "id": "Grr2HuHaBX1W",
    "slideshow": {
     "slide_type": "-"
    }
   },
   "source": [
    "Now we will add a `WHERE` clause to select stars in the polygon we defined and start using more descriptive variables for our queries."
   ]
  },
  {
   "cell_type": "code",
   "execution_count": 25,
   "id": "TLmLRAz8BYry",
   "metadata": {
    "id": "TLmLRAz8BYry",
    "slideshow": {
     "slide_type": "slide"
    }
   },
   "outputs": [],
   "source": [
    "### Create query base with additional condition to select stars in the polygon ###\n",
    "\n",
    "polygon_top10query_base = \"\"\"SELECT\n",
    "TOP 10\n",
    "{columns}\n",
    "FROM gaiadr2.gaia_source\n",
    "WHERE parallax < 1\n",
    "  AND bp_rp BETWEEN -0.75 AND 2 \n",
    "  AND 1 = CONTAINS(POINT(ra, dec), \n",
    "                   POLYGON({sky_point_list}))\n",
    "\"\"\""
   ]
  },
  {
   "cell_type": "markdown",
   "id": "oDT2e16gBchc",
   "metadata": {
    "id": "oDT2e16gBchc",
    "slideshow": {
     "slide_type": "slide"
    }
   },
   "source": [
    "The query base contains format specifiers for `columns` and `sky_point_list`.\n",
    "\n",
    "We will use `format` to fill in these values."
   ]
  },
  {
   "cell_type": "code",
   "execution_count": 122,
   "id": "JSzy3jooBguC",
   "metadata": {
    "id": "JSzy3jooBguC",
    "slideshow": {
     "slide_type": "-"
    }
   },
   "outputs": [
    {
     "name": "stdout",
     "output_type": "stream",
     "text": [
      "SELECT\n",
      "TOP 10\n",
      "source_id, ra, dec, pmra, pmdec, parallax\n",
      "FROM gaiadr2.gaia_source\n",
      "WHERE parallax < 1\n",
      "  AND bp_rp BETWEEN -0.75 AND 2 \n",
      "  AND 1 = CONTAINS(POINT(ra, dec), \n",
      "                   POLYGON(146.275, 19.2619, 135.422, 25.8774, 141.603, 34.3048, 152.817, 27.1361, 146.275, 19.2619))\n",
      "\n"
     ]
    }
   ],
   "source": [
    "### Use format to fill in columns and list of sky points ###\n",
    "\n",
    "polygon_top10query = polygon_top10query_base.format(columns=columns, \n",
    "                          sky_point_list=sky_point_list)\n",
    "print(polygon_top10query)"
   ]
  },
  {
   "cell_type": "markdown",
   "id": "otaDGGRABoIz",
   "metadata": {
    "id": "otaDGGRABoIz",
    "slideshow": {
     "slide_type": "fragment"
    }
   },
   "source": [
    "As always, we should take a minute to proof-read the query before we launch it.\n",
    "\n"
   ]
  },
  {
   "cell_type": "code",
   "execution_count": 123,
   "id": "FSH6EwiGBpzd",
   "metadata": {
    "id": "FSH6EwiGBpzd",
    "slideshow": {
     "slide_type": "slide"
    }
   },
   "outputs": [
    {
     "name": "stdout",
     "output_type": "stream",
     "text": [
      "INFO: Query finished. [astroquery.utils.tap.core]\n",
      "<Table length=10>\n",
      "   name    dtype    unit                              description                            \n",
      "--------- ------- -------- ------------------------------------------------------------------\n",
      "SOURCE_ID   int64          Unique source identifier (unique within a particular Data Release)\n",
      "       ra float64      deg                                                    Right ascension\n",
      "      dec float64      deg                                                        Declination\n",
      "     pmra float64 mas / yr                         Proper motion in right ascension direction\n",
      "    pmdec float64 mas / yr                             Proper motion in declination direction\n",
      " parallax float64      mas                                                           Parallax\n",
      "Jobid: 1716079699507O\n",
      "Phase: COMPLETED\n",
      "Owner: None\n",
      "Output file: async_20240518174819.vot\n",
      "Results: None\n"
     ]
    }
   ],
   "source": [
    "### launch and print query ###\n",
    "\n",
    "polygon_top10query_job = Gaia.launch_job_async(polygon_top10query)\n",
    "print(polygon_top10query_job)"
   ]
  },
  {
   "cell_type": "markdown",
   "id": "0b1_VjheBr81",
   "metadata": {
    "id": "0b1_VjheBr81",
    "slideshow": {
     "slide_type": "slide"
    }
   },
   "source": [
    "Retrieve and display are the results.\n",
    "\n"
   ]
  },
  {
   "cell_type": "code",
   "execution_count": 124,
   "id": "85rw8FTGBsPt",
   "metadata": {
    "id": "85rw8FTGBsPt",
    "slideshow": {
     "slide_type": "-"
    }
   },
   "outputs": [
    {
     "data": {
      "text/html": [
       "<div><i>Table length=10</i>\n",
       "<table id=\"table12887681936\" class=\"table-striped table-bordered table-condensed\">\n",
       "<thead><tr><th>SOURCE_ID</th><th>ra</th><th>dec</th><th>pmra</th><th>pmdec</th><th>parallax</th></tr></thead>\n",
       "<thead><tr><th></th><th>deg</th><th>deg</th><th>mas / yr</th><th>mas / yr</th><th>mas</th></tr></thead>\n",
       "<thead><tr><th>int64</th><th>float64</th><th>float64</th><th>float64</th><th>float64</th><th>float64</th></tr></thead>\n",
       "<tr><td>637987125186749568</td><td>142.48301935991023</td><td>21.75771616932985</td><td>-2.5168384683875766</td><td>2.941813096629439</td><td>-0.2573448962333354</td></tr>\n",
       "<tr><td>638285195917112960</td><td>142.25452941346344</td><td>22.476168171141378</td><td>2.6627020143457996</td><td>-12.165984395577347</td><td>0.4227283465319491</td></tr>\n",
       "<tr><td>638073505568978688</td><td>142.64528557468074</td><td>22.16693224953078</td><td>18.30674739454163</td><td>-7.950659620550862</td><td>0.10363972229362585</td></tr>\n",
       "<tr><td>638086386175786752</td><td>142.57739430926034</td><td>22.22791951401365</td><td>0.9877856720147953</td><td>-2.584105480335548</td><td>-0.8573270355079308</td></tr>\n",
       "<tr><td>638049655615392384</td><td>142.58913564478618</td><td>22.110783166677418</td><td>0.24443878227817095</td><td>-4.941079187010136</td><td>0.099624729200593</td></tr>\n",
       "<tr><td>638267565075964032</td><td>141.81762228999614</td><td>22.375696125322275</td><td>-3.413174589660796</td><td>1.8838892877285924</td><td>-0.07271215219283075</td></tr>\n",
       "<tr><td>638028902333511168</td><td>143.18339801317677</td><td>22.2512465812369</td><td>7.848511762712128</td><td>-21.391145547787154</td><td>0.28736226011479443</td></tr>\n",
       "<tr><td>638085767700610432</td><td>142.9347319464589</td><td>22.46244080823965</td><td>-3.6585960944321476</td><td>-12.486419770278376</td><td>-0.9896728393047383</td></tr>\n",
       "<tr><td>638299863230178304</td><td>142.26769745823267</td><td>22.640183776884836</td><td>-1.8168370892218297</td><td>1.0537342990941316</td><td>0.16396383783029062</td></tr>\n",
       "<tr><td>637973067758974208</td><td>142.89551292869012</td><td>21.612824100339875</td><td>-8.645166256559063</td><td>-44.41164172204947</td><td>0.7647361167279948</td></tr>\n",
       "</table></div>"
      ],
      "text/plain": [
       "<Table length=10>\n",
       "    SOURCE_ID              ra         ...       parallax      \n",
       "                          deg         ...         mas         \n",
       "      int64             float64       ...       float64       \n",
       "------------------ ------------------ ... --------------------\n",
       "637987125186749568 142.48301935991023 ...  -0.2573448962333354\n",
       "638285195917112960 142.25452941346344 ...   0.4227283465319491\n",
       "638073505568978688 142.64528557468074 ...  0.10363972229362585\n",
       "638086386175786752 142.57739430926034 ...  -0.8573270355079308\n",
       "638049655615392384 142.58913564478618 ...    0.099624729200593\n",
       "638267565075964032 141.81762228999614 ... -0.07271215219283075\n",
       "638028902333511168 143.18339801317677 ...  0.28736226011479443\n",
       "638085767700610432  142.9347319464589 ...  -0.9896728393047383\n",
       "638299863230178304 142.26769745823267 ...  0.16396383783029062\n",
       "637973067758974208 142.89551292869012 ...   0.7647361167279948"
      ]
     },
     "execution_count": 124,
     "metadata": {},
     "output_type": "execute_result"
    }
   ],
   "source": [
    "polygon_top10query_results = polygon_top10query_job.get_results()\n",
    "polygon_top10query_results"
   ]
  },
  {
   "cell_type": "markdown",
   "id": "f7d2509e",
   "metadata": {
    "slideshow": {
     "slide_type": "slide"
    }
   },
   "source": [
    "## <p style=\"background-color: #f5df18; padding: 10px;\"> 🛑 Exercise (10 minutes) </p>\n",
    "---\n",
    "\n",
    "Let's remove `TOP 10` and run the query again. The result is bigger than our previous queries, so it will take a little longer. Once done, find the number of stars in the output table.\n",
    "\n",
    "Hint: To complete this exercise you must take the following steps:\n",
    "\n",
    "1. Remove `TOP 10` from the query base. \n",
    "2. Format the query.\n",
    "3. Proof-read the query and launch it.\n",
    "4. Retrieve results.\n",
    "5. Print the length of the resultant Astropy table. "
   ]
  },
  {
   "cell_type": "code",
   "execution_count": 125,
   "id": "s30Vh9wfB0c8",
   "metadata": {
    "id": "s30Vh9wfB0c8",
    "slideshow": {
     "slide_type": "-"
    }
   },
   "outputs": [
    {
     "name": "stdout",
     "output_type": "stream",
     "text": [
      "SELECT\n",
      "source_id, ra, dec, pmra, pmdec, parallax\n",
      "FROM gaiadr2.gaia_source\n",
      "WHERE parallax < 1\n",
      "  AND bp_rp BETWEEN -0.75 AND 2 \n",
      "  AND 1 = CONTAINS(POINT(ra, dec), \n",
      "                   POLYGON(146.275, 19.2619, 135.422, 25.8774, 141.603, 34.3048, 152.817, 27.1361, 146.275, 19.2619))\n",
      "\n",
      "INFO: Query finished. [astroquery.utils.tap.core]\n",
      "<Table length=140339>\n",
      "   name    dtype    unit                              description                            \n",
      "--------- ------- -------- ------------------------------------------------------------------\n",
      "SOURCE_ID   int64          Unique source identifier (unique within a particular Data Release)\n",
      "       ra float64      deg                                                    Right ascension\n",
      "      dec float64      deg                                                        Declination\n",
      "     pmra float64 mas / yr                         Proper motion in right ascension direction\n",
      "    pmdec float64 mas / yr                             Proper motion in declination direction\n",
      " parallax float64      mas                                                           Parallax\n",
      "Jobid: 1716079763901O\n",
      "Phase: COMPLETED\n",
      "Owner: None\n",
      "Output file: async_20240518174923.vot\n",
      "Results: None\n"
     ]
    },
    {
     "data": {
      "text/plain": [
       "140339"
      ]
     },
     "execution_count": 125,
     "metadata": {},
     "output_type": "execute_result"
    }
   ],
   "source": [
    "### Your answer here ### \n",
    "\n",
    "polygon_query_base = \"\"\"SELECT\n",
    "{columns}\n",
    "FROM gaiadr2.gaia_source\n",
    "WHERE parallax < 1\n",
    "  AND bp_rp BETWEEN -0.75 AND 2 \n",
    "  AND 1 = CONTAINS(POINT(ra, dec), \n",
    "                   POLYGON({sky_point_list}))\n",
    "\"\"\"\n",
    "\n",
    "polygon_query = polygon_query_base.format(columns=columns, \n",
    "                          sky_point_list=sky_point_list)\n",
    "print(polygon_query)\n",
    "\n",
    "\n",
    "polygon_job = Gaia.launch_job_async(polygon_query)\n",
    "print(polygon_job)\n",
    "\n",
    "polygon_results = polygon_job.get_results()\n",
    "len(polygon_results)"
   ]
  },
  {
   "cell_type": "markdown",
   "id": "T7reO1UKCAIu",
   "metadata": {
    "id": "T7reO1UKCAIu",
    "slideshow": {
     "slide_type": "slide"
    }
   },
   "source": [
    "There should be more than 100,000 stars in this polygon, but that’s a manageable size to work with.\n",
    "\n"
   ]
  },
  {
   "cell_type": "markdown",
   "id": "TW1agePPCFDS",
   "metadata": {
    "id": "TW1agePPCFDS",
    "slideshow": {
     "slide_type": "slide"
    }
   },
   "source": [
    "# 💾 Saving results\n",
    "\n",
    "---"
   ]
  },
  {
   "cell_type": "markdown",
   "id": "IlV47PIyCG0H",
   "metadata": {
    "id": "IlV47PIyCG0H",
    "slideshow": {
     "slide_type": "-"
    }
   },
   "source": [
    "This is the set of stars we will work with in the next step.  Since\n",
    "we have a substantial dataset now, this is a good time to save it.\n",
    "\n",
    "Storing the data in a file means we can shut down our notebook and\n",
    "pick up where we left off without running the previous query again.\n",
    "\n",
    "Astropy `Table` objects provide `write`, which writes the table to disk."
   ]
  },
  {
   "cell_type": "code",
   "execution_count": 126,
   "id": "PvEbacOlCJxH",
   "metadata": {
    "id": "PvEbacOlCJxH",
    "slideshow": {
     "slide_type": "-"
    }
   },
   "outputs": [],
   "source": [
    "filename = 'gd1_results.fits'\n",
    "polygon_results.write(filename, overwrite=True)"
   ]
  },
  {
   "cell_type": "markdown",
   "id": "5cnXZz7gCMGO",
   "metadata": {
    "id": "5cnXZz7gCMGO",
    "slideshow": {
     "slide_type": "slide"
    }
   },
   "source": [
    "Because the filename ends with `fits`, the table is written in the\n",
    "[FITS format](https://en.wikipedia.org/wiki/FITS), which preserves the\n",
    "metadata associated with the table.\n",
    "\n",
    "If the file already exists, the `overwrite` argument causes it to be\n",
    "overwritten.\n",
    "\n",
    "We can use `getsize` to confirm that the file exists and check the size:\n"
   ]
  },
  {
   "cell_type": "code",
   "execution_count": 127,
   "id": "djHSFYa7CUIS",
   "metadata": {
    "id": "djHSFYa7CUIS",
    "slideshow": {
     "slide_type": "-"
    }
   },
   "outputs": [
    {
     "data": {
      "text/plain": [
       "6.4324951171875"
      ]
     },
     "execution_count": 127,
     "metadata": {},
     "output_type": "execute_result"
    }
   ],
   "source": [
    "from os.path import getsize\n",
    "\n",
    "MB = 1024 * 1024\n",
    "getsize(filename) / MB"
   ]
  },
  {
   "cell_type": "markdown",
   "id": "718ca1e3",
   "metadata": {},
   "source": [
    "### Downloading using Google Colab\n",
    "---\n",
    "\n",
    "If you are using Google Colab, it is possible that the data **will not** be saved in the same directory as this notebook.\n",
    "\n",
    "Use the following code to download the data to your local drive. \n",
    "\n",
    "\n",
    "```python\n",
    "import os\n",
    "\n",
    "# Get the current working directory\n",
    "current_directory = os.getcwd()\n",
    "print(\"Current working directory:\", current_directory)\n",
    "\n",
    "# List the contents of the current directory\n",
    "contents = os.listdir(current_directory)\n",
    "print(\"Contents of the current directory:\", contents)\n",
    "\n",
    "## your file should be saved in the directory '/content/'\n",
    "\n",
    "from google.colab import files\n",
    "\n",
    "# Specify the file path of the item you want to download\n",
    "file_path = '/content/example.fits' # Replace 'example.fits' with the name of your file\n",
    "  \n",
    "\n",
    "# Download the file\n",
    "files.download(file_path)\n",
    "\n",
    "\n",
    "```"
   ]
  },
  {
   "cell_type": "markdown",
   "id": "u5dNDiesCZTW",
   "metadata": {
    "id": "u5dNDiesCZTW",
    "slideshow": {
     "slide_type": "slide"
    }
   },
   "source": [
    "# Summary\n",
    "\n",
    "---"
   ]
  },
  {
   "cell_type": "markdown",
   "id": "2thK0tL0Ca4C",
   "metadata": {
    "id": "2thK0tL0Ca4C",
    "slideshow": {
     "slide_type": "-"
    }
   },
   "source": [
    "In this notebook, we composed more complex queries to select stars\n",
    "within a polygonal region of the sky.  Then we downloaded the results\n",
    "and saved them in a FITS file.\n",
    "\n",
    "In the next lesson, we'll reload the data from this file and\n",
    "replicate the next step in the analysis, using proper motion to\n",
    "identify stars likely to be in GD-1."
   ]
  },
  {
   "cell_type": "markdown",
   "id": "RWGI5jCnCdME",
   "metadata": {
    "id": "RWGI5jCnCdME",
    "slideshow": {
     "slide_type": "slide"
    }
   },
   "source": [
    "# <p style=\"background-color: #f5df18; padding: 10px;\"> 🗝️ Key points</p>\n",
    "\n",
    "---\n",
    "\n",
    "- For measurements with units, use `Quantity` objects that represent units explicitly and check for errors.\n",
    "- Use the `format` function to compose queries; it is often faster and less error-prone.\n",
    "- Develop queries incrementally: start with something simple, test it, and add a little bit at a time.\n",
    "- Once you have a query working, save the data in a local file.  If you shut down the notebook and come back to it later, you can reload the file; you don't have to run the query again."
   ]
  }
 ],
 "metadata": {
  "celltoolbar": "Slideshow",
  "colab": {
   "provenance": []
  },
  "kernelspec": {
   "display_name": "Python 3 (ipykernel)",
   "language": "python",
   "name": "python3"
  },
  "language_info": {
   "codemirror_mode": {
    "name": "ipython",
    "version": 3
   },
   "file_extension": ".py",
   "mimetype": "text/x-python",
   "name": "python",
   "nbconvert_exporter": "python",
   "pygments_lexer": "ipython3",
   "version": "3.11.3"
  },
  "toc-showcode": true
 },
 "nbformat": 4,
 "nbformat_minor": 5
}
