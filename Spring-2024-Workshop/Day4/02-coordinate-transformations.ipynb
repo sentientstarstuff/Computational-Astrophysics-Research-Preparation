{
 "cells": [
  {
   "cell_type": "markdown",
   "id": "labeled-firewall",
   "metadata": {
    "id": "labeled-firewall",
    "slideshow": {
     "slide_type": "slide"
    }
   },
   "source": [
    "# <p style=\"background-color: #f5df18; padding: 10px;\"> Foundations of Astronomical Data Science | **Coordinate Transformations** </p>\n",
    "\n",
    "\n",
    "\n",
    "### <strong>Instructor: <span style=\"color: darkblue;\">Dr. Devontae C. Baxter (UCSD)</span></strong>\n",
    "\n",
    "Estimated completion time: 🕚 95 minutes\n",
    "\n"
   ]
  },
  {
   "cell_type": "markdown",
   "id": "8bd3d3a2",
   "metadata": {
    "slideshow": {
     "slide_type": "slide"
    }
   },
   "source": [
    "<div style=\"display: flex;\">\n",
    "    <div style=\"flex: 1; margin-right: 20px;\">\n",
    "        <h2>Questions</h2>\n",
    "        <ul>\n",
    "            <li>How do we transform celestial coordinates from one frame to another and save a subset of the results in files?</li>\n",
    "        </ul>\n",
    "    </div>\n",
    "    <div style=\"flex: 1;\">\n",
    "        <h2>Learning Objectives</h2>\n",
    "        <ul>\n",
    "            <li>Use Python string formatting to compose more complex ADQL queries.</li>\n",
    "            <li>Work with coordinates and other quantities that have units.</li>\n",
    "            <li>Download the results of a query and store them in a file.</li>\n",
    "        </ul>\n",
    "    </div>\n",
    "</div>\n"
   ]
  },
  {
   "cell_type": "markdown",
   "id": "motivated-manufacturer",
   "metadata": {
    "id": "motivated-manufacturer",
    "slideshow": {
     "slide_type": "slide"
    }
   },
   "source": [
    "In the previous lesson, we wrote ADQL queries and used them to select and download data from the Gaia server. In this lesson, we will write a query to select stars from a particular region of the sky."
   ]
  },
  {
   "cell_type": "markdown",
   "id": "e9nBPvR3nimC",
   "metadata": {
    "id": "e9nBPvR3nimC",
    "slideshow": {
     "slide_type": "slide"
    }
   },
   "source": [
    "# Outline\n",
    "---\n",
    "\n",
    "We'll start with an example that does a \"cone search\"; that is, it\n",
    "selects stars that appear in a circular region of the sky.\n",
    "\n",
    "Then, to select stars in the vicinity of GD-1, we will:\n",
    "\n",
    "- Use `Quantity` objects to represent measurements with units.\n",
    "\n",
    "- Use [Astropy](https://www.astropy.org) to convert coordinates from one frame to another.\n",
    "\n",
    "- Use the ADQL keywords `POLYGON`, `CONTAINS`, and `POINT` to select\n",
    "  stars that fall within a polygonal region.\n",
    "\n",
    "- Submit a query and download the results.\n",
    "\n",
    "- Store the results in a [FITS file](https://fits.gsfc.nasa.gov/fits_primer.html)."
   ]
  },
  {
   "cell_type": "markdown",
   "id": "pressed-commerce",
   "metadata": {
    "id": "pressed-commerce",
    "slideshow": {
     "slide_type": "slide"
    },
    "tags": []
   },
   "source": [
    "# Working with Units\n",
    "---\n",
    "\n",
    "\n",
    "The measurements we will work with are physical quantities, which\n",
    "means that they have two parts, a value and a unit.\n",
    "For example, the coordinate 30&deg; has value 30 and its units are degrees.\n",
    "\n",
    "Until recently, most scientific computation was done with values only;\n",
    "units were left out of the program altogether, [sometimes with\n",
    "catastrophic\n",
    "results](https://en.wikipedia.org/wiki/Mars_Climate_Orbiter#Cause_of_failure).\n",
    "\n"
   ]
  },
  {
   "cell_type": "markdown",
   "id": "a3712159",
   "metadata": {
    "slideshow": {
     "slide_type": "slide"
    }
   },
   "source": [
    "## The Mars Climate Orbiter Incident \n",
    "---\n",
    "<div>\n",
    "<img src=\"https://pbs.twimg.com/media/GE72ty3XsAEAKri.jpg\" width=\"800\"/>\n",
    "</div>"
   ]
  },
  {
   "cell_type": "markdown",
   "id": "eae2bf85",
   "metadata": {
    "slideshow": {
     "slide_type": "slide"
    }
   },
   "source": [
    "Astropy provides tools for including units explicitly in computations,\n",
    "which makes it possible to detect errors before they cause disasters.\n",
    "\n",
    "To use Astropy units, we import them like this:"
   ]
  },
  {
   "cell_type": "code",
   "execution_count": null,
   "id": "3e4418bf",
   "metadata": {},
   "outputs": [],
   "source": []
  },
  {
   "cell_type": "markdown",
   "id": "mX2T8Jy3pSUh",
   "metadata": {
    "id": "mX2T8Jy3pSUh",
    "slideshow": {
     "slide_type": "slide"
    }
   },
   "source": [
    "`u` is an object that contains most common units and all SI units.\n",
    "\n",
    "You can use `dir` to list them, but you should also [read the\n",
    "documentation](https://docs.astropy.org/en/stable/units/)."
   ]
  },
  {
   "cell_type": "code",
   "execution_count": null,
   "id": "arctic-spirit",
   "metadata": {
    "id": "arctic-spirit",
    "tags": []
   },
   "outputs": [],
   "source": []
  },
  {
   "cell_type": "markdown",
   "id": "XkFWwVUNqHiL",
   "metadata": {
    "id": "XkFWwVUNqHiL",
    "slideshow": {
     "slide_type": "slide"
    }
   },
   "source": [
    "To create a quantity, we multiply a value by a unit:"
   ]
  },
  {
   "cell_type": "code",
   "execution_count": null,
   "id": "gWc06PxtqKde",
   "metadata": {
    "id": "gWc06PxtqKde",
    "slideshow": {
     "slide_type": "-"
    }
   },
   "outputs": [],
   "source": []
  },
  {
   "cell_type": "code",
   "execution_count": null,
   "id": "e3886675",
   "metadata": {
    "slideshow": {
     "slide_type": "-"
    }
   },
   "outputs": [],
   "source": []
  },
  {
   "cell_type": "markdown",
   "id": "eHT9iAzYqQHH",
   "metadata": {
    "id": "eHT9iAzYqQHH",
    "slideshow": {
     "slide_type": "slide"
    }
   },
   "source": [
    "The result is a `Quantity` object.\n",
    "Jupyter knows how to display `Quantities` like this:"
   ]
  },
  {
   "cell_type": "code",
   "execution_count": null,
   "id": "1_8_a4zsqVlt",
   "metadata": {
    "id": "1_8_a4zsqVlt",
    "slideshow": {
     "slide_type": "-"
    }
   },
   "outputs": [],
   "source": []
  },
  {
   "cell_type": "markdown",
   "id": "2Vg9iQLwqWXe",
   "metadata": {
    "id": "2Vg9iQLwqWXe",
    "slideshow": {
     "slide_type": "slide"
    }
   },
   "source": [
    "`Quantities` provides a method called `to` that converts to other units.\n",
    "For example, we can compute the number of arcminutes in `angle`:"
   ]
  },
  {
   "cell_type": "code",
   "execution_count": null,
   "id": "HUhbQDByqcAC",
   "metadata": {
    "id": "HUhbQDByqcAC",
    "slideshow": {
     "slide_type": "-"
    }
   },
   "outputs": [],
   "source": [
    "\n",
    " "
   ]
  },
  {
   "cell_type": "markdown",
   "id": "MByytRRBqoV5",
   "metadata": {
    "id": "MByytRRBqoV5",
    "slideshow": {
     "slide_type": "slide"
    }
   },
   "source": [
    "If you add quantities, Astropy converts them to compatible units, if possible:"
   ]
  },
  {
   "cell_type": "code",
   "execution_count": null,
   "id": "-KR_RJpkqpvg",
   "metadata": {
    "id": "-KR_RJpkqpvg",
    "slideshow": {
     "slide_type": "-"
    }
   },
   "outputs": [],
   "source": []
  },
  {
   "cell_type": "markdown",
   "id": "nxhoetjpqvte",
   "metadata": {
    "id": "nxhoetjpqvte",
    "slideshow": {
     "slide_type": "slide"
    }
   },
   "source": [
    "If the units are not compatible, you get an error. For example:"
   ]
  },
  {
   "cell_type": "code",
   "execution_count": null,
   "id": "Hx6-_fN4qx5T",
   "metadata": {
    "id": "Hx6-_fN4qx5T",
    "scrolled": true,
    "slideshow": {
     "slide_type": "-"
    }
   },
   "outputs": [],
   "source": []
  },
  {
   "cell_type": "markdown",
   "id": "c4fe650f",
   "metadata": {
    "slideshow": {
     "slide_type": "slide"
    }
   },
   "source": [
    "## <p style=\"background-color: #f5df18; padding: 10px;\"> 🛑 Exercise </p>\n",
    "---\n",
    "\n",
    "Create a quantity that represents 5\n",
    "[arcminutes](https://en.wikipedia.org/wiki/Minute_and_second_of_arc)\n",
    "and assign it to a variable called `radius`.\n",
    "\n",
    "Then convert it to degrees."
   ]
  },
  {
   "cell_type": "code",
   "execution_count": 15,
   "id": "c5959c6b",
   "metadata": {
    "slideshow": {
     "slide_type": "-"
    }
   },
   "outputs": [],
   "source": [
    "### your answer here ###"
   ]
  },
  {
   "cell_type": "markdown",
   "id": "HhMD0cz9kN-x",
   "metadata": {
    "id": "HhMD0cz9kN-x",
    "slideshow": {
     "slide_type": "slide"
    }
   },
   "source": [
    "# Selecting a Region\n",
    "\n",
    "---"
   ]
  },
  {
   "cell_type": "markdown",
   "id": "Nz7DKB87kjGj",
   "metadata": {
    "id": "Nz7DKB87kjGj",
    "slideshow": {
     "slide_type": "-"
    }
   },
   "source": [
    "One of the most common ways to restrict a query is to select stars in\n",
    "a particular region of the sky.\n",
    "For example, here is a query from the [Gaia archive\n",
    "documentation](https://gea.esac.esa.int/archive-help/adql/examples/index.html)\n",
    "that selects objects in a circular region centered at (88.8, 7.4) with\n",
    "a search radius of 5 arcmin (0.08333 deg).\n",
    "\n",
    "```python\n",
    "cone_query = \"\"\"SELECT \n",
    "TOP 10 \n",
    "source_id\n",
    "FROM gaiadr2.gaia_source\n",
    "WHERE 1=CONTAINS(\n",
    "  POINT(ra, dec),\n",
    "  CIRCLE(88.8, 7.4, 0.08333333))\n",
    "\"\"\"\n",
    "```"
   ]
  },
  {
   "cell_type": "markdown",
   "id": "I5WJvkMVlOdY",
   "metadata": {
    "id": "I5WJvkMVlOdY",
    "slideshow": {
     "slide_type": "slide"
    }
   },
   "source": [
    "This query uses three keywords that are specific to ADQL (not SQL):\n",
    "\n",
    "- `POINT`: a location in [ICRS\n",
    "  coordinates](https://en.wikipedia.org/wiki/International_Celestial_Reference_System),\n",
    "  specified in degrees of right ascension and declination.\n",
    "\n",
    "- `CIRCLE`: a circle where the first two values are the coordinates of\n",
    "  the center and the third is the radius in degrees.\n",
    "\n",
    "- `CONTAINS`: a function that returns `1` if a `POINT` is contained in\n",
    "  a shape and `0` otherwise. Here is the [documentation of\n",
    "  `CONTAINS`](https://www.ivoa.net/documents/ADQL/20180112/PR-ADQL-2.1-20180112.html#tth_sEc4.2.12).\n",
    "\n",
    "A query like this is called a cone search because it selects stars in a cone.\n",
    "Here is how we run it:"
   ]
  },
  {
   "cell_type": "code",
   "execution_count": 12,
   "id": "084f7d81",
   "metadata": {
    "slideshow": {
     "slide_type": "-"
    }
   },
   "outputs": [],
   "source": [
    "cone_query = \"\"\"SELECT \n",
    "TOP 10 \n",
    "source_id\n",
    "FROM gaiadr2.gaia_source\n",
    "WHERE 1=CONTAINS(\n",
    "  POINT(ra, dec),\n",
    "  CIRCLE(88.8, 7.4, 0.08333333))\n",
    "\"\"\""
   ]
  },
  {
   "cell_type": "code",
   "execution_count": null,
   "id": "1_eONCO6rVOG",
   "metadata": {
    "id": "1_eONCO6rVOG",
    "slideshow": {
     "slide_type": "slide"
    }
   },
   "outputs": [],
   "source": []
  },
  {
   "cell_type": "code",
   "execution_count": null,
   "id": "FNWuTCEb6-79",
   "metadata": {
    "id": "FNWuTCEb6-79",
    "slideshow": {
     "slide_type": "-"
    }
   },
   "outputs": [],
   "source": []
  },
  {
   "cell_type": "markdown",
   "id": "ZBQQ13FV67XG",
   "metadata": {
    "id": "ZBQQ13FV67XG",
    "slideshow": {
     "slide_type": "slide"
    }
   },
   "source": [
    "## <p style=\"background-color: #f5df18; padding: 10px;\"> 🛑 Exercise </p>\n",
    "---\n",
    "\n",
    "When you are debugging queries like this, you can use `TOP` to limit\n",
    "the size of the results, but then you still don't know how big the\n",
    "results will be.\n",
    "\n",
    "An alternative is to use `COUNT`, which asks for the number of rows\n",
    "that would be selected, but it does not return them.\n",
    "\n",
    "In the previous query, replace `TOP 10 source_id` with\n",
    "`COUNT(source_id)` and run the query again.  How many stars has Gaia\n",
    "identified in the cone we searched?"
   ]
  },
  {
   "cell_type": "code",
   "execution_count": 16,
   "id": "b38a1571",
   "metadata": {},
   "outputs": [],
   "source": [
    "### your answer here ####"
   ]
  },
  {
   "cell_type": "markdown",
   "id": "LgQIKeaE7ROL",
   "metadata": {
    "id": "LgQIKeaE7ROL",
    "slideshow": {
     "slide_type": "slide"
    }
   },
   "source": [
    "# Getting GD-1 Data\n",
    "\n",
    "---"
   ]
  },
  {
   "cell_type": "markdown",
   "id": "KmvE9EIF7YAD",
   "metadata": {
    "id": "KmvE9EIF7YAD",
    "slideshow": {
     "slide_type": "-"
    }
   },
   "source": [
    "From the Price-Whelan and Bonaca paper, we will try to reproduce [Figure 1](https://www.astroexplorer.org/details/apjlaad7b5f1/eyJrZXlXb3JkcyI6IlByaWNlLVdoZWxhbiIsImF1dGhvciI6IlByaWNlLVdoZWxhbiIsImZyb21ZZWFyIjoyMDE4LCJ0b1llYXIiOjIwMTgsInBhZ2UiOjEsInNob3ciOiIyMDAifQ), which includes this representation of stars likely to belong to GD-1:\n",
    "\n",
    "\n",
    "\n",
    "<div>\n",
    "<img src=\"https://datacarpentry.org/astronomy-python/fig/gd1-4.png\" width=\"1300\"/>\n",
    "</div>\n"
   ]
  },
  {
   "cell_type": "markdown",
   "id": "5JuFiwZb7wZH",
   "metadata": {
    "id": "5JuFiwZb7wZH",
    "slideshow": {
     "slide_type": "-"
    }
   },
   "source": [
    "The axes of this figure are defined so the x-axis is aligned with the stars in GD-1, and the y-axis is perpendicular.\n",
    "\n",
    "* Along the x-axis ($\\phi_{1}$) the figure extends from -100 to 20 degrees.\n",
    "\n",
    "* Along the y-axis ($\\phi_{2}$) the figure extends from about -8 to 4 degrees.\n",
    "\n",
    "Ideally, we would select all stars from this rectangle, but there are more than 10 million of them. This would be difficult to work with, and as anonymous Gaia users, we are limited to 3 million rows in a single query. While we are developing and testing code, it will be faster to work with a smaller dataset.\n",
    "\n",
    "So we will start by selecting stars in a smaller rectangle near the center of GD-1, from -55 to -45 degrees $\\phi_{1}$ and -8 to 4 degrees $\\phi_{2}$. First we will learn how to represent these coordinates with Astropy."
   ]
  },
  {
   "cell_type": "markdown",
   "id": "syklXPkK8Utk",
   "metadata": {
    "id": "syklXPkK8Utk",
    "slideshow": {
     "slide_type": "slide"
    }
   },
   "source": [
    "# Transforming coordinates\n",
    "\n",
    "---"
   ]
  },
  {
   "cell_type": "markdown",
   "id": "y_ntDoSp8aUc",
   "metadata": {
    "id": "y_ntDoSp8aUc",
    "slideshow": {
     "slide_type": "-"
    }
   },
   "source": [
    "Astronomy makes use of many different [coordinate systems](https://en.wikipedia.org/wiki/Celestial_coordinate_system). Transforming between coordinate systems is a common task in observational astronomy, and thankfully, Astropy has abstracted the required spherical trigonometry for us. Below we show the steps to go from Equatorial coordinates (sky coordinates) to Galactic coordinates and finally to a reference frame defined to more easily study GD-1.\n",
    "\n",
    "Astropy provides a `SkyCoord` object that represents sky coordinates\n",
    "relative to a specified reference frame.\n",
    "\n",
    "Let's create a `SkyCoord` object that represents the\n",
    "approximate coordinates of\n",
    "[Betelgeuse](https://simbad.u-strasbg.fr/simbad/sim-basic?Ident=Betelgeuse)\n",
    "(alf Ori) in the ICRS frame.\n",
    "\n",
    "Note: [ICRS](https://www.iers.org/IERS/EN/Science/ICRS/ICRS.html) is the\n",
    "\"International Celestial Reference System\", adopted in 1997 by the\n",
    "International Astronomical Union."
   ]
  },
  {
   "cell_type": "markdown",
   "id": "ed6bbcdd",
   "metadata": {
    "slideshow": {
     "slide_type": "slide"
    }
   },
   "source": [
    "From the [Simbad](https://simbad.u-strasbg.fr/simbad/sim-basic?Ident=Betelgeuse) database, Betelgeuse is located at `RA=05h55m10.31s, DEC=07d24m25.4s`\n",
    "\n",
    "Before defining the SkyCoord object, let's first convert these units to degrees. This can be achieved using the `Angle` class from astropy. "
   ]
  },
  {
   "cell_type": "code",
   "execution_count": null,
   "id": "0d544d4b",
   "metadata": {
    "slideshow": {
     "slide_type": "-"
    }
   },
   "outputs": [],
   "source": []
  },
  {
   "cell_type": "code",
   "execution_count": null,
   "id": "b2d71f9e",
   "metadata": {
    "id": "2uHzOSOJ7TRg",
    "slideshow": {
     "slide_type": "slide"
    }
   },
   "outputs": [],
   "source": []
  },
  {
   "cell_type": "code",
   "execution_count": null,
   "id": "d5034e85",
   "metadata": {
    "slideshow": {
     "slide_type": "-"
    }
   },
   "outputs": [],
   "source": []
  },
  {
   "cell_type": "markdown",
   "id": "5w9vclHx836N",
   "metadata": {
    "id": "5w9vclHx836N",
    "slideshow": {
     "slide_type": "slide"
    }
   },
   "source": [
    "`SkyCoord` objects require units in order to understand the context. There are a number of ways to define\n",
    "`SkyCoord` objects, in our example, we explicitly specified the coordinates and units and provided a\n",
    "reference frame.\n",
    "\n",
    "`SkyCoord` provides the `transform_to` function to transform from one reference frame to another reference frame.\n",
    "For example, we can transform `coords_icrs` to Galactic coordinates like this:"
   ]
  },
  {
   "cell_type": "code",
   "execution_count": null,
   "id": "Z7HOvYN29Iy_",
   "metadata": {
    "id": "Z7HOvYN29Iy_",
    "slideshow": {
     "slide_type": "-"
    }
   },
   "outputs": [],
   "source": []
  },
  {
   "cell_type": "code",
   "execution_count": null,
   "id": "9980a72b",
   "metadata": {
    "slideshow": {
     "slide_type": "-"
    }
   },
   "outputs": [],
   "source": []
  },
  {
   "cell_type": "markdown",
   "id": "RpNYSXki9ONB",
   "metadata": {
    "id": "RpNYSXki9ONB",
    "slideshow": {
     "slide_type": "slide"
    }
   },
   "source": [
    "## 🔔 **COORDINATE VARIABLES**\n",
    "---\n",
    "\n",
    "Notice that in the Galactic frame, the coordinates are the variables we usually use for Galactic\n",
    "longitude and latitude called `l` and `b`, respectively, not `ra` and `dec`. Most reference frames have\n",
    "different ways to specify coordinates and the `SkyCoord` object will use these names.\n"
   ]
  },
  {
   "cell_type": "markdown",
   "id": "2opMS5039lE_",
   "metadata": {
    "id": "2opMS5039lE_",
    "slideshow": {
     "slide_type": "slide"
    }
   },
   "source": [
    "To transform to and from GD-1 coordinates, we will use a frame defined\n",
    "by [Gala](https://gala-astro.readthedocs.io/en/latest/), which is an\n",
    "Astropy-affiliated library that provides tools for galactic dynamics.\n",
    "\n",
    "Gala provides\n",
    "[`GD1Koposov10`](https://gala-astro.readthedocs.io/en/latest/_modules/gala/coordinates/gd1.html),\n",
    "which is \"a Heliocentric spherical coordinate system defined by the\n",
    "orbit of the GD-1 stream\". In this coordinate system, one axis is defined along\n",
    "the direction of the steam (the x-axis in Figure 1) and one axis is defined\n",
    "perpendicular to the direction of the stream (the y-axis in Figure 1).\n",
    "These are called the φ<sub>1</sub> and φ<sub>2</sub> coordinates, respectively.\n"
   ]
  },
  {
   "cell_type": "code",
   "execution_count": null,
   "id": "2701a5e4",
   "metadata": {
    "slideshow": {
     "slide_type": "-"
    }
   },
   "outputs": [],
   "source": [
    "pip install gala"
   ]
  },
  {
   "cell_type": "code",
   "execution_count": 76,
   "id": "_2-uWFre9Uu_",
   "metadata": {
    "id": "_2-uWFre9Uu_",
    "slideshow": {
     "slide_type": "-"
    }
   },
   "outputs": [],
   "source": [
    "from gala.coordinates import GD1Koposov10"
   ]
  },
  {
   "cell_type": "code",
   "execution_count": null,
   "id": "0fbca2f3",
   "metadata": {
    "slideshow": {
     "slide_type": "-"
    }
   },
   "outputs": [],
   "source": []
  },
  {
   "cell_type": "markdown",
   "id": "-ZFPZeWs9z5b",
   "metadata": {
    "id": "-ZFPZeWs9z5b",
    "slideshow": {
     "slide_type": "-"
    }
   },
   "source": [
    "We can use it to find the coordinates of Betelgeuse in the GD-1 frame, like this:"
   ]
  },
  {
   "cell_type": "code",
   "execution_count": null,
   "id": "iTse6a7490OH",
   "metadata": {
    "id": "iTse6a7490OH",
    "slideshow": {
     "slide_type": "-"
    }
   },
   "outputs": [],
   "source": []
  },
  {
   "cell_type": "markdown",
   "id": "4zleSP00-nqT",
   "metadata": {
    "id": "4zleSP00-nqT",
    "slideshow": {
     "slide_type": "slide"
    }
   },
   "source": [
    "## <p style=\"background-color: #f5df18; padding: 10px;\"> 🛑 Exercise </p>\n",
    "---\n",
    "\n",
    "\n",
    "Find the location of GD-1 in ICRS coordinates.\n",
    "\n",
    "1. Create a `SkyCoord` object at 0°, 0° in the GD-1 frame.\n",
    "\n",
    "2. Transform it to the ICRS frame.\n",
    "\n",
    "Hint: Because ICRS is a standard frame, it is built into Astropy. You can specify it by name,\n",
    "`icrs` (as we did with `galactic`)."
   ]
  },
  {
   "cell_type": "code",
   "execution_count": 17,
   "id": "kngQrPna-riD",
   "metadata": {
    "id": "kngQrPna-riD",
    "slideshow": {
     "slide_type": "-"
    }
   },
   "outputs": [],
   "source": [
    "### your answer here ####"
   ]
  },
  {
   "cell_type": "markdown",
   "id": "AnE_e7ub_MUf",
   "metadata": {
    "id": "AnE_e7ub_MUf",
    "slideshow": {
     "slide_type": "fragment"
    }
   },
   "source": [
    "You will notice that the origin of the GD-1 frame maps to `ra=200`, exactly, in ICRS. That is by design.\n",
    "\n"
   ]
  },
  {
   "cell_type": "markdown",
   "id": "VWMO_8MI_VVi",
   "metadata": {
    "id": "VWMO_8MI_VVi",
    "slideshow": {
     "slide_type": "slide"
    }
   },
   "source": [
    "#  Selecting a rectangle\n",
    "\n",
    "---"
   ]
  },
  {
   "cell_type": "markdown",
   "id": "3lsB43wq_aPc",
   "metadata": {
    "id": "3lsB43wq_aPc",
    "slideshow": {
     "slide_type": "-"
    }
   },
   "source": [
    "Now that we know how to define coordinate transformations, we are going to use them to get a list of stars that are in GD-1. As we mentioned before, this is a lot of stars, so we are going to start by defining a rectangle that encompasses a small part of GD-1. This is easiest to define in GD-1 coordinates.\n",
    "\n",
    "As mentioned earlier, let's start by selecting stars in a smaller rectangle near the center of GD-1, from -55 to -45 degrees $\\phi_{1}$ and -8 to 4 degrees $\\phi_{2}$. First we will learn how to represent these coordinates with Astropy."
   ]
  },
  {
   "cell_type": "code",
   "execution_count": 19,
   "id": "9v_V_cqb_NvC",
   "metadata": {
    "id": "9v_V_cqb_NvC",
    "slideshow": {
     "slide_type": "-"
    }
   },
   "outputs": [],
   "source": [
    "### Define the boundaries of the rectangle in $\\phi_{1}$ and $\\phi_{2}$.\n",
    "\n",
    "phi1_min =\n",
    "phi1_max = \n",
    "phi2_min = \n",
    "phi2_max = "
   ]
  },
  {
   "cell_type": "markdown",
   "id": "uOXaZL1i_alt",
   "metadata": {
    "id": "uOXaZL1i_alt",
    "slideshow": {
     "slide_type": "slide"
    }
   },
   "source": [
    "Throughout this lesson we are going to be defining a rectangle often. Rather than copy and paste multiple lines of code, we will write a function to build the rectangle for us. By having the code contained in a single location, we can easily fix bugs or update our implementation as needed. By choosing an explicit function name our code is also self documenting, meaning its easy for us to understand that we are building a rectangle when we call this function.\n",
    "\n",
    "To create a rectangle, we will use the following function, which takes the lower and upper bounds as parameters and returns a list of x and y coordinates of the corners of a rectangle starting with the lower left corner and working clockwise.\n",
    "\n",
    "```python\n",
    "def make_rectangle(x1, x2, y1, y2):\n",
    "    \"\"\"Return the corners of a rectangle.\"\"\"\n",
    "    xs = [x1, x1, x2, x2, x1]\n",
    "    ys = [y1, y2, y2, y1, y1]\n",
    "    return xs, ys\n",
    "```\n",
    "\n",
    "The return value is a tuple containing a list of coordinates in $\\phi_{1}$ followed by a list of coordinates in $\\phi_{2}$.\n"
   ]
  },
  {
   "cell_type": "code",
   "execution_count": 110,
   "id": "U4_auksS_2oD",
   "metadata": {
    "id": "U4_auksS_2oD",
    "slideshow": {
     "slide_type": "fragment"
    }
   },
   "outputs": [],
   "source": [
    "### define make_rectangle ### \n",
    "\n",
    "def make_rectangle(x1, x2, y1, y2):\n",
    "    \"\"\"Return the corners of a rectangle.\"\"\"\n",
    "    xs = [x1, x1, x2, x2, x1]\n",
    "    ys = [y1, y2, y2, y1, y1]\n",
    "    return xs, ys"
   ]
  },
  {
   "cell_type": "markdown",
   "id": "4OeYByVgASif",
   "metadata": {
    "id": "4OeYByVgASif",
    "slideshow": {
     "slide_type": "slide"
    }
   },
   "source": [
    "Store the coordinates of the corners of\n",
    "a rectangle in the GD-1 frame as `phi1_rect` and `phi2_rect`."
   ]
  },
  {
   "cell_type": "code",
   "execution_count": null,
   "id": "3ANuo-GLAH15",
   "metadata": {
    "id": "3ANuo-GLAH15",
    "slideshow": {
     "slide_type": "-"
    }
   },
   "outputs": [],
   "source": []
  },
  {
   "cell_type": "markdown",
   "id": "XbiL7638AXwv",
   "metadata": {
    "id": "XbiL7638AXwv",
    "slideshow": {
     "slide_type": "slide"
    }
   },
   "source": [
    "While it is easier to visualize the regions we want to define in the GD-1 frame, the coordinates in the Gaia catalog are in the ICRS frame. In order to use the rectangle we defined, we need to convert the coordinates from the GD-1 frame to the ICRS frame. We will do this using the SkyCoord object. Fortunately SkyCoord objects can take lists of coordinates, in addition to single values."
   ]
  },
  {
   "cell_type": "code",
   "execution_count": null,
   "id": "U04i9OaAAd9c",
   "metadata": {
    "id": "U04i9OaAAd9c",
    "slideshow": {
     "slide_type": "-"
    }
   },
   "outputs": [],
   "source": []
  },
  {
   "cell_type": "markdown",
   "id": "JWZvYFZuAf0z",
   "metadata": {
    "id": "JWZvYFZuAf0z",
    "slideshow": {
     "slide_type": "slide"
    }
   },
   "source": [
    "Now we can use `transform_to` to convert to ICRS coordinates."
   ]
  },
  {
   "cell_type": "code",
   "execution_count": null,
   "id": "jfYygrlGAhf0",
   "metadata": {
    "id": "jfYygrlGAhf0",
    "slideshow": {
     "slide_type": "-"
    }
   },
   "outputs": [],
   "source": []
  },
  {
   "cell_type": "markdown",
   "id": "gXU-Z3K4AjBz",
   "metadata": {
    "id": "gXU-Z3K4AjBz",
    "slideshow": {
     "slide_type": "-"
    }
   },
   "source": [
    "Notice that a rectangle in one coordinate system is not necessarily a rectangle in another. In this example, the result is a (non-rectangular) polygon. This is why we defined our rectangle in the GD-1 frame."
   ]
  },
  {
   "cell_type": "markdown",
   "id": "3tYWVU5XAn3J",
   "metadata": {
    "id": "3tYWVU5XAn3J",
    "slideshow": {
     "slide_type": "slide"
    }
   },
   "source": [
    "# ♦️ Defining a polygon\n",
    "\n",
    "---"
   ]
  },
  {
   "cell_type": "markdown",
   "id": "CrHwQ5dYArO2",
   "metadata": {
    "id": "CrHwQ5dYArO2",
    "slideshow": {
     "slide_type": "-"
    }
   },
   "source": [
    "In order to use this polygon as part of an ADQL query, we have to convert it to a string with a comma-separated list of coordinates, as in this example:\n",
    "\n",
    "```python\n",
    "\"\"\"POLYGON(143.65, 20.98,\n",
    "        134.46, 26.39,\n",
    "        140.58, 34.85,\n",
    "        150.16, 29.01)\n",
    "\"\"\"\n",
    "```"
   ]
  },
  {
   "cell_type": "markdown",
   "id": "77bhrxNwAxtE",
   "metadata": {
    "id": "77bhrxNwAxtE",
    "slideshow": {
     "slide_type": "slide"
    }
   },
   "source": [
    "`SkyCoord` provides `to_string`, which produces a list of strings.\n"
   ]
  },
  {
   "cell_type": "code",
   "execution_count": null,
   "id": "1Ddelg96A1MO",
   "metadata": {
    "id": "1Ddelg96A1MO",
    "slideshow": {
     "slide_type": "-"
    }
   },
   "outputs": [],
   "source": []
  },
  {
   "cell_type": "markdown",
   "id": "syoOKLLZA2x3",
   "metadata": {
    "id": "syoOKLLZA2x3",
    "slideshow": {
     "slide_type": "slide"
    }
   },
   "source": [
    "We can use the Python string function `join` to join `corners_list_str` into a single\n",
    "string (with spaces between the pairs):"
   ]
  },
  {
   "cell_type": "code",
   "execution_count": null,
   "id": "972b02da",
   "metadata": {
    "slideshow": {
     "slide_type": "-"
    }
   },
   "outputs": [],
   "source": []
  },
  {
   "cell_type": "markdown",
   "id": "j5fOztfLA40C",
   "metadata": {
    "id": "j5fOztfLA40C",
    "slideshow": {
     "slide_type": "slide"
    }
   },
   "source": [
    "This is almost what we need, but we have to replace the spaces with commas.\n",
    "\n"
   ]
  },
  {
   "cell_type": "code",
   "execution_count": null,
   "id": "Xr4ibedLA69T",
   "metadata": {
    "id": "Xr4ibedLA69T",
    "slideshow": {
     "slide_type": "-"
    }
   },
   "outputs": [],
   "source": []
  },
  {
   "cell_type": "markdown",
   "id": "2KA_IwB8A8xM",
   "metadata": {
    "id": "2KA_IwB8A8xM",
    "slideshow": {
     "slide_type": "slide"
    }
   },
   "source": [
    "This is something we will need to do multiple times. We will write a function to do it for us so we don’t have to copy and paste every time. The following function combines these steps.\n",
    "\n",
    "```python\n",
    "def skycoord_to_string(skycoord):\n",
    "    \"\"\"Convert a one-dimenstional list of SkyCoord to string for Gaia's query format.\"\"\"\n",
    "    corners_list_str = skycoord.to_string()\n",
    "    corners_single_str = ' '.join(corners_list_str)\n",
    "    return corners_single_str.replace(' ', ', ')\n",
    "```"
   ]
  },
  {
   "cell_type": "code",
   "execution_count": null,
   "id": "a753123f",
   "metadata": {
    "slideshow": {
     "slide_type": "-"
    }
   },
   "outputs": [],
   "source": []
  },
  {
   "cell_type": "markdown",
   "id": "ppmQ-kSlBCcJ",
   "metadata": {
    "id": "ppmQ-kSlBCcJ",
    "slideshow": {
     "slide_type": "slide"
    }
   },
   "source": [
    "Here is how we use this function:\n",
    "\n"
   ]
  },
  {
   "cell_type": "code",
   "execution_count": null,
   "id": "Dt7B2ANDBEDX",
   "metadata": {
    "id": "Dt7B2ANDBEDX",
    "slideshow": {
     "slide_type": "-"
    }
   },
   "outputs": [],
   "source": []
  },
  {
   "cell_type": "markdown",
   "id": "2s13szmTBIXO",
   "metadata": {
    "id": "2s13szmTBIXO",
    "slideshow": {
     "slide_type": "slide"
    }
   },
   "source": [
    "# 🏗️ Assembling the query\n",
    "\n",
    "---"
   ]
  },
  {
   "cell_type": "markdown",
   "id": "VqXW92oHBM3y",
   "metadata": {
    "id": "VqXW92oHBM3y",
    "slideshow": {
     "slide_type": "-"
    }
   },
   "source": [
    "Now we are ready to assemble our query to get all of the stars in\n",
    "the Gaia catalog that are in the small rectangle we defined and\n",
    "are likely to be part of GD-1 with the criteria we previously defined.\n",
    "\n",
    "We need `columns` again (as we saw in the previous episode)."
   ]
  },
  {
   "cell_type": "code",
   "execution_count": null,
   "id": "Zv1Zt4IEBH8P",
   "metadata": {
    "id": "Zv1Zt4IEBH8P",
    "slideshow": {
     "slide_type": "-"
    }
   },
   "outputs": [],
   "source": []
  },
  {
   "cell_type": "markdown",
   "id": "NuMkhOVPBU21",
   "metadata": {
    "id": "NuMkhOVPBU21",
    "slideshow": {
     "slide_type": "slide"
    }
   },
   "source": [
    "And here is the query base we used in the previous lesson:\n",
    "\n",
    "```python\n",
    "query3_base = \"\"\"SELECT\n",
    "TOP 10\n",
    "{columns}\n",
    "FROM gaiadr2.gaia_source\n",
    "WHERE parallax < 1\n",
    "  AND bp_rp BETWEEN -0.75 AND 2\n",
    "\"\"\"\n",
    "```\n"
   ]
  },
  {
   "cell_type": "markdown",
   "id": "Grr2HuHaBX1W",
   "metadata": {
    "id": "Grr2HuHaBX1W",
    "slideshow": {
     "slide_type": "-"
    }
   },
   "source": [
    "Now we will add a `WHERE` clause to select stars in the polygon we defined and start using more descriptive variables for our queries."
   ]
  },
  {
   "cell_type": "code",
   "execution_count": 21,
   "id": "TLmLRAz8BYry",
   "metadata": {
    "id": "TLmLRAz8BYry",
    "slideshow": {
     "slide_type": "slide"
    }
   },
   "outputs": [],
   "source": [
    "### Create query base with additional condition to select stars in the polygon ###\n",
    "\n",
    "polygon_top10query_base = "
   ]
  },
  {
   "cell_type": "markdown",
   "id": "oDT2e16gBchc",
   "metadata": {
    "id": "oDT2e16gBchc",
    "slideshow": {
     "slide_type": "slide"
    }
   },
   "source": [
    "The query base contains format specifiers for `columns` and `sky_point_list`.\n",
    "\n",
    "We will use `format` to fill in these values."
   ]
  },
  {
   "cell_type": "code",
   "execution_count": 24,
   "id": "JSzy3jooBguC",
   "metadata": {
    "id": "JSzy3jooBguC",
    "slideshow": {
     "slide_type": "-"
    }
   },
   "outputs": [],
   "source": [
    "### Use format to fill in columns and list of sky points ###\n",
    "\n",
    "polygon_top10query = "
   ]
  },
  {
   "cell_type": "markdown",
   "id": "otaDGGRABoIz",
   "metadata": {
    "id": "otaDGGRABoIz",
    "slideshow": {
     "slide_type": "fragment"
    }
   },
   "source": [
    "As always, we should take a minute to proof-read the query before we launch it.\n",
    "\n"
   ]
  },
  {
   "cell_type": "code",
   "execution_count": 25,
   "id": "FSH6EwiGBpzd",
   "metadata": {
    "id": "FSH6EwiGBpzd",
    "slideshow": {
     "slide_type": "slide"
    }
   },
   "outputs": [],
   "source": [
    "### launch and print query ###\n"
   ]
  },
  {
   "cell_type": "markdown",
   "id": "0b1_VjheBr81",
   "metadata": {
    "id": "0b1_VjheBr81",
    "slideshow": {
     "slide_type": "slide"
    }
   },
   "source": [
    "Retrieve and display are the results.\n",
    "\n"
   ]
  },
  {
   "cell_type": "code",
   "execution_count": null,
   "id": "85rw8FTGBsPt",
   "metadata": {
    "id": "85rw8FTGBsPt",
    "slideshow": {
     "slide_type": "-"
    }
   },
   "outputs": [],
   "source": []
  },
  {
   "cell_type": "markdown",
   "id": "f7d2509e",
   "metadata": {
    "slideshow": {
     "slide_type": "slide"
    }
   },
   "source": [
    "## <p style=\"background-color: #f5df18; padding: 10px;\"> 🛑 Exercise </p>\n",
    "---\n",
    "\n",
    "Let's remove `TOP 10` and run the query again. The result is bigger than our previous queries, so it will take a little longer. Once done, find the number of stars in the output table.\n",
    "\n",
    "Hint: To complete this exercise you must take the following steps:\n",
    "\n",
    "1. Remove `TOP 10` from the query base. \n",
    "2. Format the query.\n",
    "3. Proof-read the query and launch it.\n",
    "4. Retrieve results.\n",
    "5. Print the length of the resultant Astropy table. "
   ]
  },
  {
   "cell_type": "code",
   "execution_count": 26,
   "id": "s30Vh9wfB0c8",
   "metadata": {
    "id": "s30Vh9wfB0c8",
    "slideshow": {
     "slide_type": "-"
    }
   },
   "outputs": [],
   "source": [
    "### Your answer here ### "
   ]
  },
  {
   "cell_type": "markdown",
   "id": "T7reO1UKCAIu",
   "metadata": {
    "id": "T7reO1UKCAIu",
    "slideshow": {
     "slide_type": "slide"
    }
   },
   "source": [
    "There should be more than 100,000 stars in this polygon, but that’s a manageable size to work with.\n",
    "\n"
   ]
  },
  {
   "cell_type": "markdown",
   "id": "TW1agePPCFDS",
   "metadata": {
    "id": "TW1agePPCFDS",
    "slideshow": {
     "slide_type": "slide"
    }
   },
   "source": [
    "# 💾 Saving results\n",
    "\n",
    "---"
   ]
  },
  {
   "cell_type": "markdown",
   "id": "IlV47PIyCG0H",
   "metadata": {
    "id": "IlV47PIyCG0H",
    "slideshow": {
     "slide_type": "-"
    }
   },
   "source": [
    "This is the set of stars we will work with in the next step.  Since\n",
    "we have a substantial dataset now, this is a good time to save it.\n",
    "\n",
    "Storing the data in a file means we can shut down our notebook and\n",
    "pick up where we left off without running the previous query again.\n",
    "\n",
    "Astropy `Table` objects provide `write`, which writes the table to disk."
   ]
  },
  {
   "cell_type": "code",
   "execution_count": null,
   "id": "PvEbacOlCJxH",
   "metadata": {
    "id": "PvEbacOlCJxH",
    "slideshow": {
     "slide_type": "-"
    }
   },
   "outputs": [],
   "source": []
  },
  {
   "cell_type": "markdown",
   "id": "5cnXZz7gCMGO",
   "metadata": {
    "id": "5cnXZz7gCMGO",
    "slideshow": {
     "slide_type": "slide"
    }
   },
   "source": [
    "Because the filename ends with `fits`, the table is written in the\n",
    "[FITS format](https://en.wikipedia.org/wiki/FITS), which preserves the\n",
    "metadata associated with the table.\n",
    "\n",
    "If the file already exists, the `overwrite` argument causes it to be\n",
    "overwritten.\n",
    "\n",
    "We can use `getsize` to confirm that the file exists and check the size:\n"
   ]
  },
  {
   "cell_type": "code",
   "execution_count": 27,
   "id": "djHSFYa7CUIS",
   "metadata": {
    "id": "djHSFYa7CUIS",
    "slideshow": {
     "slide_type": "-"
    }
   },
   "outputs": [],
   "source": [
    "from os.path import getsize\n",
    "\n",
    "MB = 1024 * 1024\n",
    "\n"
   ]
  },
  {
   "cell_type": "markdown",
   "id": "718ca1e3",
   "metadata": {
    "slideshow": {
     "slide_type": "slide"
    }
   },
   "source": [
    "### Downloading using Google Colab\n",
    "---\n",
    "\n",
    "If you are using Google Colab, it is possible that the data **will not** be saved in the same directory as this notebook.\n",
    "\n",
    "Use the following code to download the data to your local drive. \n",
    "\n",
    "\n",
    "```python\n",
    "import os\n",
    "\n",
    "# Get the current working directory\n",
    "current_directory = os.getcwd()\n",
    "print(\"Current working directory:\", current_directory)\n",
    "```"
   ]
  },
  {
   "cell_type": "markdown",
   "id": "3aef2405",
   "metadata": {
    "slideshow": {
     "slide_type": "-"
    }
   },
   "source": [
    "```python\n",
    "# List the contents of the current directory\n",
    "contents = os.listdir(current_directory)\n",
    "print(\"Contents of the current directory:\", contents)\n",
    "\n",
    "## your file should be saved in the directory '/content/'\n",
    "\n",
    "from google.colab import files\n",
    "\n",
    "# Specify the file path of the item you want to download\n",
    "file_path = '/content/example.fits' # Replace 'example.fits' with the name of your file\n",
    "  \n",
    "\n",
    "# Download the file\n",
    "files.download(file_path)\n",
    "```"
   ]
  },
  {
   "cell_type": "markdown",
   "id": "u5dNDiesCZTW",
   "metadata": {
    "id": "u5dNDiesCZTW",
    "slideshow": {
     "slide_type": "slide"
    }
   },
   "source": [
    "# Summary\n",
    "\n",
    "---\n",
    "\n",
    "In this notebook, we composed more complex queries to select stars\n",
    "within a polygonal region of the sky.  Then we downloaded the results\n",
    "and saved them in a FITS file.\n",
    "\n",
    "In the next lesson, we'll reload the data from this file and\n",
    "replicate the next step in the analysis, using proper motion to\n",
    "identify stars likely to be in GD-1."
   ]
  },
  {
   "cell_type": "markdown",
   "id": "RWGI5jCnCdME",
   "metadata": {
    "id": "RWGI5jCnCdME",
    "slideshow": {
     "slide_type": "slide"
    }
   },
   "source": [
    "# <p style=\"background-color: #f5df18; padding: 10px;\"> 🗝️ Key points</p>\n",
    "\n",
    "---\n",
    "\n",
    "- For measurements with units, use `Quantity` objects that represent units explicitly and check for errors.\n",
    "- Use the `format` function to compose queries; it is often faster and less error-prone.\n",
    "- Develop queries incrementally: start with something simple, test it, and add a little bit at a time.\n",
    "- Once you have a query working, save the data in a local file.  If you shut down the notebook and come back to it later, you can reload the file; you don't have to run the query again."
   ]
  }
 ],
 "metadata": {
  "celltoolbar": "Slideshow",
  "colab": {
   "provenance": []
  },
  "kernelspec": {
   "display_name": "Python 3 (ipykernel)",
   "language": "python",
   "name": "python3"
  },
  "language_info": {
   "codemirror_mode": {
    "name": "ipython",
    "version": 3
   },
   "file_extension": ".py",
   "mimetype": "text/x-python",
   "name": "python",
   "nbconvert_exporter": "python",
   "pygments_lexer": "ipython3",
   "version": "3.11.3"
  },
  "toc-showcode": true
 },
 "nbformat": 4,
 "nbformat_minor": 5
}
