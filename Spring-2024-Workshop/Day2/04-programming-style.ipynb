{
 "cells": [
  {
   "cell_type": "markdown",
   "id": "labeled-firewall",
   "metadata": {
    "id": "labeled-firewall",
    "slideshow": {
     "slide_type": "slide"
    }
   },
   "source": [
    "# <p style=\"background-color: #f5df18; padding: 10px;\">Programming & Plotting in Python | **Programming Style** </p>\n",
    "\n",
    "\n",
    "\n",
    "### <strong>Instructor: <span style=\"color: darkblue;\">Name (Affliation)</span></strong>\n",
    "\n",
    "Estimated completion time: 🕚 30 minutes\n"
   ]
  },
  {
   "cell_type": "markdown",
   "id": "30c98737",
   "metadata": {
    "slideshow": {
     "slide_type": "slide"
    }
   },
   "source": [
    "<div style=\"display: flex;\">\n",
    "    <div style=\"flex: 1; margin-right: 20px;\">\n",
    "        <h2>Questions</h2>\n",
    "        <ul>\n",
    "            <li>How can I make my programs more readable?</li>\n",
    "            <li>How do most programmers format their code?</li>\n",
    "            <li>How can programs check their own operation?</li>\n",
    "        </ul>\n",
    "    </div>\n",
    "    <div style=\"flex: 1;\">\n",
    "        <h2>Learning Objectives</h2>\n",
    "        <ul> \n",
    "            <li>Provide sound justifications for basic rules of coding style.</li>\n",
    "            <li>Refactor one-page programs to make them more readable and justify the changes.</li>\n",
    "            <li>Use Python community coding standards (PEP-8).</li>\n",
    "        </ul>\n",
    "    </div>\n",
    "</div>\n"
   ]
  },
  {
   "cell_type": "markdown",
   "id": "pressed-commerce",
   "metadata": {
    "id": "pressed-commerce",
    "slideshow": {
     "slide_type": "slide"
    },
    "tags": []
   },
   "source": [
    "## Coding style\n",
    "---\n",
    "\n",
    "A consistent coding style helps others (including our future selves) read and understand code more easily. Code is read much more often than it is written, and as the [Zen of Python](https://www.python.org/dev/peps/pep-0020) states, \"Readability counts\".\n",
    "Python proposed a standard style through one of its first Python Enhancement Proposals (PEP), [PEP8](https://www.python.org/dev/peps/pep-0008).\n",
    "\n",
    "Some points worth highlighting:\n",
    "\n",
    "- document your code and ensure that assumptions, internal algorithms, expected inputs, expected outputs, etc., are clear\n",
    "- use clear, semantically meaningful variable names\n",
    "- use white-space, *not* tabs, to indent lines (tabs can cause problems across different text editors, operating systems, and version control systems)"
   ]
  },
  {
   "cell_type": "markdown",
   "id": "d3167cc9",
   "metadata": {
    "slideshow": {
     "slide_type": "slide"
    }
   },
   "source": [
    "## Follow standard Python style in your code.\n",
    "---\n",
    "\n",
    "- [PEP8](https://www.python.org/dev/peps/pep-0008):\n",
    "  a style guide for Python that discusses topics such as how to name variables,\n",
    "  how to indent your code,\n",
    "  how to structure your `import` statements,\n",
    "  etc.\n",
    "  Adhering to PEP8 makes it easier for other Python developers to read and understand your code, and to understand what their contributions should look like.\n",
    "- To check your code for compliance with PEP8, you can use the [pycodestyle application](https://pypi.org/project/pycodestyle/) and tools like the [black code formatter](https://github.com/psf/black) can automatically format your code to conform to PEP8 and pycodestyle (a Jupyter notebook formatter also exists [nb\\_black](https://github.com/dnanhkhoa/nb_black)).\n",
    "- Some groups and organizations follow different style guidelines besides PEP8. For example, the [Google style guide on Python](https://google.github.io/styleguide/pyguide.html) makes slightly different recommendations. Google wrote an application that can help you format your code in either their style or PEP8 called [yapf](https://github.com/google/yapf/).\n",
    "- With respect to coding style, the key is *consistency*. Choose a style for your project be it PEP8, the Google style, or something else and do your best to ensure that you and anyone else you are collaborating with sticks to it. Consistency within a project is often more impactful than the particular style used. A consistent style will make your software easier to read and understand for others and for your future self."
   ]
  },
  {
   "cell_type": "markdown",
   "id": "vertical-yellow",
   "metadata": {
    "id": "vertical-yellow",
    "jp-MarkdownHeadingCollapsed": true,
    "slideshow": {
     "slide_type": "slide"
    },
    "tags": []
   },
   "source": [
    "## Use assertions to check for internal errors.\n",
    "---\n",
    "\n",
    "Assertions are a simple but powerful method for making sure that the context in which your code is executing is as you expect.\n",
    "\n",
    "```python\n",
    "def calc_bulk_density(mass, volume):\n",
    "    '''Return dry bulk density = powder mass / powder volume.'''\n",
    "    assert volume > 0\n",
    "    return mass / volume\n",
    "```\n",
    "\n",
    "If the assertion is `False`, the Python interpreter raises an `AssertionError` runtime exception. The source code for the expression that failed will be displayed as part of the error message. To ignore assertions in your code run the interpreter with the '-O' (optimize) switch. Assertions should contain only simple checks and never change the state of the program. For example, an assertion should never contain an assignment."
   ]
  },
  {
   "cell_type": "markdown",
   "id": "hollywood-clerk",
   "metadata": {
    "id": "hollywood-clerk",
    "slideshow": {
     "slide_type": "fragment"
    }
   },
   "source": [
    "## Use docstrings to provide builtin help.\n",
    "\n",
    "If the first thing in a function is a character string that is not assigned directly to a variable, Python attaches it to the function, accessible via the builtin help function. This string that provides documentation is also known as a *docstring*.\n",
    "\n",
    "```python\n",
    "def average(values):\n",
    "    \"Return average of values, or None if no values are supplied.\"\n",
    "\n",
    "    if len(values) == 0:\n",
    "        return None\n",
    "    return sum(values) / len(values)\n",
    "\n",
    "help(average)\n",
    "```\n",
    "\n",
    "```output\n",
    "Help on function average in module __main__:\n",
    "\n",
    "average(values)\n",
    "    Return average of values, or None if no values are supplied.\n",
    "```\n"
   ]
  },
  {
   "cell_type": "markdown",
   "id": "elder-spoke",
   "metadata": {
    "id": "elder-spoke",
    "slideshow": {
     "slide_type": "slide"
    }
   },
   "source": [
    "## 🔔 Multiline Strings\n",
    "---\n",
    "\n",
    "Often use *multiline strings* for documentation.\n",
    "These start and end with three quote characters (either single or double)\n",
    "and end with three matching characters.\n",
    "\n",
    "```python\n",
    "\"\"\"This string spans\n",
    "multiple lines.\n",
    "\n",
    "Blank lines are allowed.\"\"\"\n",
    "```"
   ]
  },
  {
   "cell_type": "markdown",
   "id": "W4hpB9uV1aBy",
   "metadata": {
    "id": "W4hpB9uV1aBy",
    "slideshow": {
     "slide_type": "slide"
    }
   },
   "source": [
    "## 💬 What Will Be Shown?\n",
    "\n",
    "Highlight the lines in the code below that will be available as online help.\n",
    "Are there lines that should be made available, but won't be?\n",
    "Will any lines produce a syntax error or a runtime error?\n",
    "\n",
    "```python\n",
    "\"Find maximum edit distance between multiple sequences.\"\n",
    "# This finds the maximum distance between all sequences.\n",
    "\n",
    "def overall_max(sequences):\n",
    "    '''Determine overall maximum edit distance.'''\n",
    "\n",
    "    highest = 0\n",
    "    for left in sequences:\n",
    "        for right in sequences:\n",
    "            '''Avoid checking sequence against itself.'''\n",
    "            if left != right:\n",
    "                this = edit_distance(left, right)\n",
    "                highest = max(highest, this)\n",
    "\n",
    "    # Report.\n",
    "    return highest\n",
    "```\n"
   ]
  },
  {
   "cell_type": "markdown",
   "id": "AGmylKKlQWm5",
   "metadata": {
    "id": "AGmylKKlQWm5",
    "slideshow": {
     "slide_type": "slide"
    }
   },
   "source": [
    "## <p style=\"background-color: #f5df18; padding: 10px;\"> 🛑 Document This </p>\n",
    "\n",
    "---\n",
    "\n",
    "Use comments to describe and help others understand potentially unintuitive\n",
    "sections or individual lines of code. They are especially useful to whoever\n",
    "may need to understand and edit your code in the future, including yourself.\n",
    "\n",
    "Use docstrings to document the acceptable inputs and expected outputs of a method\n",
    "or class, its purpose, assumptions and intended behavior. Docstrings are displayed\n",
    "when a user invokes the builtin `help` method on your method or class.\n",
    "\n",
    "Turn the comment in the following function into a docstring\n",
    "and check that `help` displays it properly.\n",
    "\n",
    "```python\n",
    "def middle(a, b, c):\n",
    "    # Return the middle value of three.\n",
    "    # Assumes the values can actually be compared.\n",
    "    values = [a, b, c]\n",
    "    values.sort()\n",
    "    return values[1]\n",
    "```"
   ]
  },
  {
   "cell_type": "code",
   "execution_count": null,
   "id": "aBF5H4_1kYOL",
   "metadata": {
    "id": "aBF5H4_1kYOL",
    "slideshow": {
     "slide_type": "-"
    }
   },
   "outputs": [],
   "source": [
    "### your answer here ###"
   ]
  },
  {
   "cell_type": "markdown",
   "id": "xP8epXpCRRv9",
   "metadata": {
    "id": "xP8epXpCRRv9",
    "slideshow": {
     "slide_type": "slide"
    }
   },
   "source": [
    "## <p style=\"background-color: #f5df18; padding: 10px;\"> 🛑 Clean Up This Code </p>\n",
    "\n",
    "\n",
    "1. Read this short program and try to predict what it does.\n",
    "2. Run it: how accurate was your prediction?\n",
    "3. Refactor the program to make it more readable.\n",
    "  Remember to run it after each change to ensure its behavior hasn't changed.\n",
    "4. Compare your rewrite with your neighbor's.\n",
    "  What did you do the same?\n",
    "  What did you do differently, and why?\n",
    "\n",
    "```python\n",
    "n = 10\n",
    "s = 'et cetera'\n",
    "print(s)\n",
    "i = 0\n",
    "while i < n:\n",
    "    # print('at', j)\n",
    "    new = ''\n",
    "    for j in range(len(s)):\n",
    "        left = j-1\n",
    "        right = (j+1)%len(s)\n",
    "        if s[left]==s[right]: new = new + '-'\n",
    "        else: new = new + '*'\n",
    "    s=''.join(new)\n",
    "    print(s)\n",
    "    i += 1\n",
    "```"
   ]
  },
  {
   "cell_type": "code",
   "execution_count": null,
   "id": "e8d0b838",
   "metadata": {
    "id": "i9rxWLAz6ORF",
    "slideshow": {
     "slide_type": "-"
    }
   },
   "outputs": [],
   "source": [
    "### your answer here ###"
   ]
  },
  {
   "cell_type": "markdown",
   "id": "c3xyuFI9k7XT",
   "metadata": {
    "id": "c3xyuFI9k7XT",
    "slideshow": {
     "slide_type": "slide"
    }
   },
   "source": [
    "# <p style=\"background-color: #f5df18; padding: 10px;\"> 🗝️ Key points</p>\n",
    "---\n",
    "- Follow standard Python style in your code.\n",
    "- Use docstrings to provide builtin help."
   ]
  }
 ],
 "metadata": {
  "celltoolbar": "Slideshow",
  "colab": {
   "provenance": []
  },
  "kernelspec": {
   "display_name": "Python 3 (ipykernel)",
   "language": "python",
   "name": "python3"
  },
  "language_info": {
   "codemirror_mode": {
    "name": "ipython",
    "version": 3
   },
   "file_extension": ".py",
   "mimetype": "text/x-python",
   "name": "python",
   "nbconvert_exporter": "python",
   "pygments_lexer": "ipython3",
   "version": "3.11.3"
  },
  "toc-showcode": true
 },
 "nbformat": 4,
 "nbformat_minor": 5
}
