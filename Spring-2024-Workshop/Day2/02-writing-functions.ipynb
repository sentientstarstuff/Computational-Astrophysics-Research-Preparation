{
 "cells": [
  {
   "cell_type": "markdown",
   "id": "labeled-firewall",
   "metadata": {
    "id": "labeled-firewall",
    "slideshow": {
     "slide_type": "slide"
    }
   },
   "source": [
    "# <p style=\"background-color: #f5df18; padding: 10px;\">Programming & Plotting in Python | **Writing Functions** </p>\n",
    "\n",
    "\n",
    "\n",
    "### <strong>Instructor: <span style=\"color: darkblue;\">Name (Affliation)</span></strong>\n",
    "\n",
    "Estimated completion time: 🕚 25 minutes\n"
   ]
  },
  {
   "cell_type": "markdown",
   "id": "30c98737",
   "metadata": {
    "slideshow": {
     "slide_type": "slide"
    }
   },
   "source": [
    "<div style=\"display: flex;\">\n",
    "    <div style=\"flex: 1; margin-right: 20px;\">\n",
    "        <h2>Questions</h2>\n",
    "        <ul>\n",
    "            <li>How can I create my own functions?</li>\n",
    "        </ul>\n",
    "    </div>\n",
    "    <div style=\"flex: 1;\">\n",
    "        <h2>Learning Objectives</h2>\n",
    "        <ul> \n",
    "            <li>Explain and identify the difference between function definition and function call.</li>\n",
    "            <li>Write a function that takes a small, fixed number of arguments and produces a single result.</li>\n",
    "        </ul>\n",
    "    </div>\n",
    "</div>\n"
   ]
  },
  {
   "cell_type": "markdown",
   "id": "pressed-commerce",
   "metadata": {
    "id": "pressed-commerce",
    "slideshow": {
     "slide_type": "slide"
    },
    "tags": []
   },
   "source": [
    "## Break programs down into functions to make them easier to understand.\n",
    "\n",
    "- Human beings can only keep a few items in working memory at a time.\n",
    "- Understand larger/more complicated ideas by understanding and combining pieces.\n",
    "  - Components in a machine.\n",
    "  - Lemmas when proving theorems.\n",
    "- Functions serve the same purpose in programs.\n",
    "  - *Encapsulate* complexity so that we can treat it as a single \"thing\".\n",
    "- Also enables *re-use*.\n",
    "  - Write one time, use many times."
   ]
  },
  {
   "cell_type": "markdown",
   "id": "d3167cc9",
   "metadata": {
    "slideshow": {
     "slide_type": "slide"
    }
   },
   "source": [
    "## Define a function using `def` with a name, parameters, and a block of code.\n",
    "\n",
    "- Begin the definition of a new function with `def`.\n",
    "- Followed by the name of the function.\n",
    "  - Must obey the same rules as variable names.\n",
    "- Then *parameters* in parentheses.\n",
    "  - Empty parentheses if the function doesn't take any inputs.\n",
    "  - We will discuss this in detail in a moment.\n",
    "- Then a colon.\n",
    "- Then an indented block of code."
   ]
  },
  {
   "cell_type": "code",
   "execution_count": null,
   "id": "7f113dcf",
   "metadata": {
    "slideshow": {
     "slide_type": "-"
    }
   },
   "outputs": [],
   "source": [
    "### define the function `print_greeting` that prints a typical Californian greetings ###\n",
    "\n",
    "\n"
   ]
  },
  {
   "cell_type": "markdown",
   "id": "vertical-yellow",
   "metadata": {
    "id": "vertical-yellow",
    "jp-MarkdownHeadingCollapsed": true,
    "slideshow": {
     "slide_type": "slide"
    },
    "tags": []
   },
   "source": [
    "## Defining a function does not run it.\n",
    "\n",
    "- Defining a function does not run it.\n",
    "  - Like assigning a value to a variable.\n",
    "- Must call the function to execute the code it contains."
   ]
  },
  {
   "cell_type": "code",
   "execution_count": null,
   "id": "iraqi-embassy",
   "metadata": {
    "id": "iraqi-embassy",
    "slideshow": {
     "slide_type": "-"
    }
   },
   "outputs": [],
   "source": []
  },
  {
   "cell_type": "markdown",
   "id": "norwegian-multiple",
   "metadata": {
    "id": "norwegian-multiple",
    "slideshow": {
     "slide_type": "slide"
    }
   },
   "source": [
    "## Arguments in a function call are matched to its defined parameters.\n",
    "---\n",
    "\n",
    "- Functions are most useful when they can operate on different data.\n",
    "- Specify *parameters* when defining a function.\n",
    "  - These become variables when the function is executed.\n",
    "  - Are assigned the arguments in the call (i.e., the values passed to the function).\n",
    "  - If you don't name the arguments when using them in the call, the arguments will be matched to\n",
    "    parameters in the order the parameters are defined in the function."
   ]
  },
  {
   "cell_type": "code",
   "execution_count": null,
   "id": "b8943744",
   "metadata": {
    "id": "C50c3Fz7tVOJ"
   },
   "outputs": [],
   "source": [
    "### define the function `print_date` that takes `year`, `month`, and `day` as arguements \n",
    "### and returns the date in year/month/day format \n",
    "\n",
    "\n"
   ]
  },
  {
   "cell_type": "markdown",
   "id": "ef9ce686",
   "metadata": {
    "id": "characteristic-oklahoma",
    "slideshow": {
     "slide_type": "slide"
    }
   },
   "source": [
    "Or, we can name the arguments when we call the function, which allows us to\n",
    "specify them in any order and adds clarity to the call site; otherwise as\n",
    "one is reading the code they might forget if the second argument is the month\n",
    "or the day for example."
   ]
  },
  {
   "cell_type": "code",
   "execution_count": null,
   "id": "98ecf9db",
   "metadata": {
    "slideshow": {
     "slide_type": "-"
    }
   },
   "outputs": [],
   "source": []
  },
  {
   "cell_type": "markdown",
   "id": "1379ba0c",
   "metadata": {
    "slideshow": {
     "slide_type": "fragment"
    }
   },
   "source": [
    "- Via [Twitter](https://twitter.com/minisciencegirl/status/693486088963272705):\n",
    "  `()` contains the ingredients for the function\n",
    "  while the body contains the recipe."
   ]
  },
  {
   "cell_type": "markdown",
   "id": "elder-spoke",
   "metadata": {
    "id": "elder-spoke",
    "slideshow": {
     "slide_type": "slide"
    }
   },
   "source": [
    "## Functions may return a result to their caller using `return`.\n",
    "\n",
    "- Use `return ...` to give a value back to the caller.\n",
    "- May occur anywhere in the function.\n",
    "- But functions are easier to understand if `return` occurs:\n",
    "  - At the start to handle special cases.\n",
    "  - At the very end, with a final result.\n"
   ]
  },
  {
   "cell_type": "code",
   "execution_count": null,
   "id": "37577297",
   "metadata": {
    "slideshow": {
     "slide_type": "-"
    }
   },
   "outputs": [],
   "source": [
    "### define the function `average` that returns to average of a list of values or returs `None` if list is empty\n"
   ]
  },
  {
   "cell_type": "code",
   "execution_count": null,
   "id": "ef2bf0e8",
   "metadata": {
    "slideshow": {
     "slide_type": "-"
    }
   },
   "outputs": [],
   "source": []
  },
  {
   "cell_type": "markdown",
   "id": "W4hpB9uV1aBy",
   "metadata": {
    "id": "W4hpB9uV1aBy",
    "slideshow": {
     "slide_type": "slide"
    }
   },
   "source": [
    "- Remember: [every function returns something](04-built-in.md).\n",
    "- A function that doesn't explicitly `return` a value automatically returns `None`.\n",
    "\n"
   ]
  },
  {
   "cell_type": "code",
   "execution_count": null,
   "id": "strategic-wrestling",
   "metadata": {
    "id": "strategic-wrestling",
    "slideshow": {
     "slide_type": "-"
    }
   },
   "outputs": [],
   "source": [
    "result = print_date(1871, 3, 19)\n",
    "print('result of call is:', result)"
   ]
  },
  {
   "cell_type": "markdown",
   "id": "AGmylKKlQWm5",
   "metadata": {
    "id": "AGmylKKlQWm5",
    "slideshow": {
     "slide_type": "slide"
    }
   },
   "source": [
    "## <p style=\"background-color: #f5df18; padding: 10px;\"> 🛑 Identifying Syntax Errors </p>\n",
    "\n",
    "---\n",
    "\n",
    "1. Read the code below and try to identify what the errors are\n",
    "  *without* running it.\n",
    "2. Run the code and read the error message.\n",
    "  Is it a `SyntaxError` or an `IndentationError`?\n",
    "3. Fix the error.\n",
    "4. Repeat steps 2 and 3 until you have fixed all the errors.\n",
    "\n",
    "```python\n",
    "def another_function\n",
    "  print(\"Syntax errors are annoying.\")\n",
    "   print(\"But at least python tells us about them!\")\n",
    "  print(\"So they are usually not too hard to fix.\")\n",
    "```"
   ]
  },
  {
   "cell_type": "code",
   "execution_count": null,
   "id": "d33a78b2",
   "metadata": {
    "slideshow": {
     "slide_type": "-"
    }
   },
   "outputs": [],
   "source": [
    "### your answer here ###"
   ]
  },
  {
   "cell_type": "markdown",
   "id": "Ue1fIkXt4Ahu",
   "metadata": {
    "id": "Ue1fIkXt4Ahu",
    "slideshow": {
     "slide_type": "slide"
    }
   },
   "source": [
    "## <p style=\"background-color: #f5df18; padding: 10px;\"> 🛑 Definition and Use </p>\n",
    "\n",
    "---\n",
    "\n",
    "What does the following program print?\n",
    "\n",
    "```python\n",
    "def report(pressure):\n",
    "    print('pressure is', pressure)\n",
    "\n",
    "print('calling', report, 22.5)\n",
    "```"
   ]
  },
  {
   "cell_type": "code",
   "execution_count": null,
   "id": "aBF5H4_1kYOL",
   "metadata": {
    "id": "aBF5H4_1kYOL",
    "slideshow": {
     "slide_type": "-"
    }
   },
   "outputs": [],
   "source": [
    "### your answer here ###"
   ]
  },
  {
   "cell_type": "markdown",
   "id": "irhVm53xQgOG",
   "metadata": {
    "id": "irhVm53xQgOG",
    "slideshow": {
     "slide_type": "slide"
    }
   },
   "source": [
    "## <p style=\"background-color: #f5df18; padding: 10px;\"> 🛑 Order of Operations </p>\n",
    "\n",
    "---\n",
    "\n",
    "1. What's wrong in this example?\n",
    "  \n",
    "  ```python\n",
    "  result = print_time(11, 37, 59)\n",
    "  \n",
    "  def print_time(hour, minute, second):\n",
    "     time_string = str(hour) + ':' + str(minute) + ':' + str(second)\n",
    "     print(time_string)\n",
    "  ```\n",
    "\n",
    "2. After fixing the problem above, explain why running this example code:\n",
    "  \n",
    "  ```python\n",
    "  result = print_time(11, 37, 59)\n",
    "  print('result of call is:', result)\n",
    "  ```\n",
    "  \n",
    "  gives this output:\n",
    "  \n",
    "  ```output\n",
    "  11:37:59\n",
    "  result of call is: None\n",
    "  ```\n",
    "\n",
    "3. Why is the result of the call `None`?"
   ]
  },
  {
   "cell_type": "code",
   "execution_count": 7,
   "id": "reasonable-forwarding",
   "metadata": {
    "id": "reasonable-forwarding",
    "slideshow": {
     "slide_type": "-"
    }
   },
   "outputs": [],
   "source": [
    "### your answer here ###"
   ]
  },
  {
   "cell_type": "markdown",
   "id": "xP8epXpCRRv9",
   "metadata": {
    "id": "xP8epXpCRRv9",
    "slideshow": {
     "slide_type": "slide"
    }
   },
   "source": [
    "## <p style=\"background-color: #f5df18; padding: 10px;\"> 🛑 Encapsulation </p>\n",
    "\n",
    "\n",
    "Fill in the blanks to create a function that takes a single filename as an argument,\n",
    "loads the data in the file named by the argument,\n",
    "and returns the minimum value in that data.\n",
    "\n",
    "```python\n",
    "import pandas as pd\n",
    "\n",
    "def min_in_data(____):\n",
    "    data = ____\n",
    "    return ____\n",
    "```"
   ]
  },
  {
   "cell_type": "code",
   "execution_count": null,
   "id": "e8d0b838",
   "metadata": {
    "id": "i9rxWLAz6ORF",
    "slideshow": {
     "slide_type": "-"
    }
   },
   "outputs": [],
   "source": [
    "### your answer here ###"
   ]
  },
  {
   "cell_type": "markdown",
   "id": "RiepqFJMRZz3",
   "metadata": {
    "id": "RiepqFJMRZz3",
    "slideshow": {
     "slide_type": "slide"
    }
   },
   "source": [
    "## <p style=\"background-color: #f5df18; padding: 10px;\"> 🛑 Find the First </p>\n",
    "\n",
    "Fill in the blanks to create a function that takes a list of numbers as an argument\n",
    "and returns the first negative value in the list.\n",
    "What does your function do if the list is empty? What if the list has no negative numbers?\n",
    "\n",
    "```python\n",
    "def first_negative(values):\n",
    "    for v in ____:\n",
    "        if ____:\n",
    "            return ____\n",
    "```"
   ]
  },
  {
   "cell_type": "code",
   "execution_count": 9,
   "id": "south-broadway",
   "metadata": {
    "id": "south-broadway",
    "slideshow": {
     "slide_type": "-"
    }
   },
   "outputs": [],
   "source": [
    "### your answer here ###"
   ]
  },
  {
   "cell_type": "markdown",
   "id": "tyMrTbrRReoe",
   "metadata": {
    "id": "tyMrTbrRReoe",
    "slideshow": {
     "slide_type": "slide"
    }
   },
   "source": [
    "## <p style=\"background-color: #f5df18; padding: 10px;\"> 🛑 Calling by Name </p>\n",
    "---\n",
    "\n",
    "\n",
    "\n",
    "Earlier we saw this function:\n",
    "\n",
    "```python\n",
    "def print_date(year, month, day):\n",
    "    joined = str(year) + '/' + str(month) + '/' + str(day)\n",
    "    print(joined)\n",
    "```\n",
    "\n",
    "We saw that we can call the function using *named arguments*, like this:\n",
    "\n",
    "```python\n",
    "print_date(day=1, month=2, year=2003)\n",
    "```\n",
    "\n",
    "1. What does `print_date(day=1, month=2, year=2003)` print?\n",
    "2. When have you seen a function call like this before?\n",
    "3. When and why is it useful to call functions this way?"
   ]
  },
  {
   "cell_type": "code",
   "execution_count": 10,
   "id": "kBm2n22w5bNw",
   "metadata": {
    "id": "kBm2n22w5bNw",
    "slideshow": {
     "slide_type": "-"
    }
   },
   "outputs": [],
   "source": [
    "### your answer here ##"
   ]
  },
  {
   "cell_type": "markdown",
   "id": "19977c59",
   "metadata": {
    "slideshow": {
     "slide_type": "slide"
    }
   },
   "source": [
    "## <p style=\"background-color: #f5df18; padding: 10px;\"> 🛑 Encapsulation of an If/Print Block </p>\n",
    "---\n",
    "\n",
    "The code below will run on a label-printer for chicken eggs.  A digital scale will report a chicken egg mass (in grams)\n",
    "to the computer and then the computer will print a label.\n",
    "\n",
    "```python\n",
    "import random\n",
    "for i in range(10):\n",
    "\n",
    "    # simulating the mass of a chicken egg\n",
    "    # the (random) mass will be 70 +/- 20 grams\n",
    "    mass = 70 + 20.0 * (2.0 * random.random() - 1.0)\n",
    "\n",
    "    print(mass)\n",
    "\n",
    "    # egg sizing machinery prints a label\n",
    "    if mass >= 85:\n",
    "        print(\"jumbo\")\n",
    "    elif mass >= 70:\n",
    "        print(\"large\")\n",
    "    elif mass < 70 and mass >= 55:\n",
    "        print(\"medium\")\n",
    "    else:\n",
    "        print(\"small\")\n",
    "```\n",
    "\n",
    "The if-block that classifies the eggs might be useful in other situations,\n",
    "so to avoid repeating it, we could fold it into a function, `get_egg_label()`.\n",
    "Revising the program to use the function would give us this:\n",
    "\n",
    "```python\n",
    "# revised version\n",
    "import random\n",
    "for i in range(10):\n",
    "\n",
    "    # simulating the mass of a chicken egg\n",
    "    # the (random) mass will be 70 +/- 20 grams\n",
    "    mass = 70 + 20.0 * (2.0 * random.random() - 1.0)\n",
    "\n",
    "    print(mass, get_egg_label(mass))\n",
    "\n",
    "```\n",
    "\n",
    "1. Create a function definition for `get_egg_label()` that will work with the revised program above.  Note that the `get_egg_label()` function's return value will be important. Sample output from the above program would be `71.23 large`.\n",
    "2. A dirty egg might have a mass of more than 90 grams, and a spoiled or broken egg will probably have a mass that's less than 50 grams.  Modify your `get_egg_label()` function to account for these error conditions. Sample output could be `25 too light, probably spoiled`."
   ]
  },
  {
   "cell_type": "code",
   "execution_count": null,
   "id": "7c5ec791",
   "metadata": {
    "slideshow": {
     "slide_type": "-"
    }
   },
   "outputs": [],
   "source": [
    "### your answer here ##"
   ]
  },
  {
   "cell_type": "markdown",
   "id": "fad4e44e",
   "metadata": {
    "slideshow": {
     "slide_type": "slide"
    }
   },
   "source": [
    "## <p style=\"background-color: #f5df18; padding: 10px;\"> 🛑 Encapsulating Data Analysis </p>\n",
    "\n",
    "\n",
    "Assume that the following code has been executed:\n",
    "\n",
    "```python\n",
    "import pandas as pd\n",
    "\n",
    "data_asia = pd.read_csv('data/gapminder_gdp_asia.csv', index_col=0)\n",
    "japan = data_asia.loc['Japan']\n",
    "```\n",
    "\n",
    "1. Complete the statements below to obtain the average GDP for Japan\n",
    "  across the years reported for the 1980s.\n",
    "  \n",
    "  ```python\n",
    "  year = 1983\n",
    "  gdp_decade = 'gdpPercap_' + str(year // ____)\n",
    "  avg = (japan.loc[gdp_decade + ___] + japan.loc[gdp_decade + ___]) / 2\n",
    "  ```\n",
    "\n",
    "2. Abstract the code above into a single function.\n",
    "  \n",
    "  ```python\n",
    "  def avg_gdp_in_decade(country, continent, year):\n",
    "      data_countries = pd.read_csv('data/gapminder_gdp_'+___+'.csv',delimiter=',',index_col=0)\n",
    "      ____\n",
    "      ____\n",
    "      ____\n",
    "      return avg\n",
    "  ```\n",
    "\n",
    "3. How would you generalize this function\n",
    "  if you did not know beforehand which specific years occurred as columns in the data?\n",
    "  For instance, what if we also had data from years ending in 1 and 9 for each decade?\n",
    "  (Hint: use the columns to filter out the ones that correspond to the decade,\n",
    "  instead of enumerating them in the code.)"
   ]
  },
  {
   "cell_type": "code",
   "execution_count": null,
   "id": "6a5f6244",
   "metadata": {
    "slideshow": {
     "slide_type": "-"
    }
   },
   "outputs": [],
   "source": [
    "### your answer here ##"
   ]
  },
  {
   "cell_type": "markdown",
   "id": "9336346d",
   "metadata": {
    "slideshow": {
     "slide_type": "slide"
    }
   },
   "source": [
    "## <p style=\"background-color: #f5df18; padding: 10px;\"> 🛑 Simulating a dynamical system </p>\n",
    "---\n",
    "\n",
    "In mathematics, a [dynamical system](https://en.wikipedia.org/wiki/Dynamical_system) is a system\n",
    "in which a function describes the time dependence of a point in a geometrical space. A canonical\n",
    "example of a dynamical system is the [logistic map](https://en.wikipedia.org/wiki/Logistic_map),\n",
    "a growth model that computes a new population density (between  0 and 1) based on the current\n",
    "density. In the model, time takes discrete values 0, 1, 2, ...\n",
    "\n",
    "1. Define a function called `logistic_map` that takes two inputs: `x`, representing the current\n",
    "  population (at time `t`), and a parameter `r = 1`. This function should return a value\n",
    "  representing the state of the system (population) at time `t + 1`, using the mapping function:\n",
    "  \n",
    "  `f(t+1) = r * f(t) * [1 - f(t)]`\n",
    "\n",
    "2. Using a `for` or `while` loop, iterate the `logistic_map` function defined in part 1, starting\n",
    "  from an initial population of 0.5, for a period of time `t_final = 10`. Store the intermediate\n",
    "  results in a list so that after the loop terminates you have accumulated a sequence of values\n",
    "  representing the state of the logistic map at times `t = [0,1,...,t_final]` (11 values in total).\n",
    "  Print this list to see the evolution of the population.\n",
    "\n",
    "3. Encapsulate the logic of your loop into a function called `iterate` that takes the initial\n",
    "  population as its first input, the parameter `t_final` as its second input and the parameter\n",
    "  `r` as its third input. The function should return the list of values representing the state of\n",
    "  the logistic map at times `t = [0,1,...,t_final]`. Run this function for periods `t_final = 100`\n",
    "  and `1000` and print some of the values. Is the population trending toward a steady state?\n"
   ]
  },
  {
   "cell_type": "code",
   "execution_count": null,
   "id": "526e1c3e",
   "metadata": {
    "slideshow": {
     "slide_type": "-"
    }
   },
   "outputs": [],
   "source": [
    "### your answer here ##"
   ]
  },
  {
   "cell_type": "markdown",
   "id": "52a506e6",
   "metadata": {
    "slideshow": {
     "slide_type": "slide"
    }
   },
   "source": [
    "## 🔔 Using Functions With Conditionals in Pandas\n",
    "---\n",
    "\n",
    "Functions will often contain conditionals.  Here is a short example that\n",
    "will indicate which quartile the argument is in based on hand-coded values\n",
    "for the quartile cut points.\n",
    "\n",
    "```python\n",
    "def calculate_life_quartile(exp):\n",
    "    if exp < 58.41:\n",
    "        # This observation is in the first quartile\n",
    "        return 1\n",
    "    elif exp >= 58.41 and exp < 67.05:\n",
    "        # This observation is in the second quartile\n",
    "       return 2\n",
    "    elif exp >= 67.05 and exp < 71.70:\n",
    "        # This observation is in the third quartile\n",
    "       return 3\n",
    "    elif exp >= 71.70:\n",
    "        # This observation is in the fourth quartile\n",
    "       return 4\n",
    "    else:\n",
    "        # This observation has bad data\n",
    "       return None\n",
    "\n",
    "calculate_life_quartile(62.5)\n",
    "```\n",
    "\n",
    "```output\n",
    "2\n",
    "```\n",
    "\n",
    "That function would typically be used within a `for` loop, but Pandas has\n",
    "a different, more efficient way of doing the same thing, and that is by\n",
    "*applying* a function to a dataframe or a portion of a dataframe.  Here\n",
    "is an example, using the definition above.\n",
    "\n",
    "```python\n",
    "data = pd.read_csv('data/gapminder_all.csv')\n",
    "data['life_qrtl'] = data['lifeExp_1952'].apply(calculate_life_quartile)\n",
    "```\n",
    "\n",
    "There is a lot in that second line, so let's take it piece by piece.\n",
    "On the right side of the `=` we start with `data['lifeExp']`, which is the\n",
    "column in the dataframe called `data` labeled `lifExp`.  We use the\n",
    "`apply()` to do what it says, apply the `calculate_life_quartile` to the\n",
    "value of this column for every row in the dataframe."
   ]
  },
  {
   "cell_type": "markdown",
   "id": "c3xyuFI9k7XT",
   "metadata": {
    "id": "c3xyuFI9k7XT",
    "slideshow": {
     "slide_type": "slide"
    }
   },
   "source": [
    "# <p style=\"background-color: #f5df18; padding: 10px;\"> 🗝️ Key points</p>\n",
    "\n",
    "---\n",
    "\n",
    "- Break programs down into functions to make them easier to understand.\n",
    "- Define a function using `def` with a name, parameters, and a block of code.\n",
    "- Defining a function does not run it.\n",
    "- Arguments in a function call are matched to its defined parameters.\n",
    "- Functions may return a result to their caller using `return`."
   ]
  }
 ],
 "metadata": {
  "celltoolbar": "Slideshow",
  "colab": {
   "provenance": []
  },
  "kernelspec": {
   "display_name": "Python 3 (ipykernel)",
   "language": "python",
   "name": "python3"
  },
  "language_info": {
   "codemirror_mode": {
    "name": "ipython",
    "version": 3
   },
   "file_extension": ".py",
   "mimetype": "text/x-python",
   "name": "python",
   "nbconvert_exporter": "python",
   "pygments_lexer": "ipython3",
   "version": "3.11.3"
  },
  "toc-showcode": true
 },
 "nbformat": 4,
 "nbformat_minor": 5
}
