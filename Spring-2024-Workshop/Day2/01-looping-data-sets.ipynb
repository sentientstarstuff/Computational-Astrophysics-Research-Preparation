{
 "cells": [
  {
   "cell_type": "markdown",
   "id": "labeled-firewall",
   "metadata": {
    "id": "labeled-firewall",
    "slideshow": {
     "slide_type": "slide"
    }
   },
   "source": [
    "# <p style=\"background-color: #f5df18; padding: 10px;\">Looping Over Data Sets | **Variables and Assignments** </p>\n",
    "\n",
    "\n",
    "\n",
    "### <strong>Instructor: <span style=\"color: darkblue;\">Name (Affliation)</span></strong>\n",
    "\n",
    "Estimated completion time: 🕚 15 minutes\n"
   ]
  },
  {
   "cell_type": "markdown",
   "id": "30c98737",
   "metadata": {
    "slideshow": {
     "slide_type": "slide"
    }
   },
   "source": [
    "<div style=\"display: flex;\">\n",
    "    <div style=\"flex: 1; margin-right: 20px;\">\n",
    "        <h2>Questions</h2>\n",
    "        <ul>\n",
    "            <li>How can I process many data sets with a single command?</li>\n",
    "        </ul>\n",
    "    </div>\n",
    "    <div style=\"flex: 1;\">\n",
    "        <h2>Learning Objectives</h2>\n",
    "        <ul> \n",
    "            <li>Be able to read and write globbing expressions that match sets of files.</li>\n",
    "            <li>Use glob to create lists of files.</li>\n",
    "            <li>Write for loops to perform operations on files given their names in a list.</li>\n",
    "        </ul>\n",
    "    </div>\n",
    "</div>\n"
   ]
  },
  {
   "cell_type": "markdown",
   "id": "pressed-commerce",
   "metadata": {
    "id": "pressed-commerce",
    "slideshow": {
     "slide_type": "slide"
    },
    "tags": []
   },
   "source": [
    "## Use a `for` loop to process files given a list of their names.\n",
    "\n",
    "- A filename is a character string.\n",
    "- And lists can contain character strings."
   ]
  },
  {
   "cell_type": "code",
   "execution_count": null,
   "id": "1a41c06a",
   "metadata": {},
   "outputs": [],
   "source": [
    "import pandas as pd\n",
    "for filename in ['data/gapminder_gdp_africa.csv', 'data/gapminder_gdp_asia.csv']:\n",
    "    data = pd.read_csv(filename, index_col='country')\n",
    "    print(filename, data.min())"
   ]
  },
  {
   "cell_type": "markdown",
   "id": "d3167cc9",
   "metadata": {
    "slideshow": {
     "slide_type": "slide"
    }
   },
   "source": [
    "## Use [`glob.glob`](https://docs.python.org/3/library/glob.html#glob.glob) to find sets of files whose names match a pattern.\n",
    "\n",
    "- In Unix, the term \"globbing\" means \"matching a set of files with a pattern\".\n",
    "- The most common patterns are:\n",
    "  - `*` meaning \"match zero or more characters\"\n",
    "  - `?` meaning \"match exactly one character\"\n",
    "- Python's standard library contains the [`glob`](https://docs.python.org/3/library/glob.html) module to provide pattern matching functionality\n",
    "- The [`glob`](https://docs.python.org/3/library/glob.html) module contains a function also called `glob` to match file patterns\n",
    "- E.g., `glob.glob('*.txt')` matches all files in the current directory\n",
    "  whose names end with `.txt`.\n",
    "- Result is a (possibly empty) list of character strings.\n"
   ]
  },
  {
   "cell_type": "code",
   "execution_count": null,
   "id": "7f113dcf",
   "metadata": {
    "slideshow": {
     "slide_type": "slide"
    }
   },
   "outputs": [],
   "source": [
    "## Use glob to print all `csv` files in 'data' directory  ###\n",
    "\n"
   ]
  },
  {
   "cell_type": "code",
   "execution_count": null,
   "id": "ba59a69e",
   "metadata": {
    "slideshow": {
     "slide_type": "fragment"
    }
   },
   "outputs": [],
   "source": [
    "### Print all `PDF` files\n",
    "\n"
   ]
  },
  {
   "cell_type": "markdown",
   "id": "vertical-yellow",
   "metadata": {
    "id": "vertical-yellow",
    "jp-MarkdownHeadingCollapsed": true,
    "slideshow": {
     "slide_type": "slide"
    },
    "tags": []
   },
   "source": [
    "## Use `glob` and `for` to process batches of files.\n",
    "\n",
    "- Helps a lot if the files are named and stored systematically and consistently\n",
    "  so that simple patterns will find the right data."
   ]
  },
  {
   "cell_type": "code",
   "execution_count": null,
   "id": "iraqi-embassy",
   "metadata": {
    "id": "iraqi-embassy",
    "slideshow": {
     "slide_type": "-"
    }
   },
   "outputs": [],
   "source": [
    "### loop over gapminder files and print the minimum gdp per capita for the year 1952 – i.e, 'gdpPercap_1952'\n",
    "\n"
   ]
  },
  {
   "cell_type": "markdown",
   "id": "hollywood-clerk",
   "metadata": {
    "id": "hollywood-clerk",
    "slideshow": {
     "slide_type": "fragment"
    }
   },
   "source": [
    "- This includes all data, as well as per-region data.\n",
    "- Use a more specific pattern in the exercises to exclude the whole data set.\n",
    "- But note that the minimum of the entire data set is also the minimum of one of the data sets,\n",
    "  which is a nice check on correctness."
   ]
  },
  {
   "cell_type": "markdown",
   "id": "AGmylKKlQWm5",
   "metadata": {
    "id": "AGmylKKlQWm5",
    "slideshow": {
     "slide_type": "slide"
    }
   },
   "source": [
    "## <p style=\"background-color: #f5df18; padding: 10px;\"> 🛑 Determining Matches </p>\n",
    "\n",
    "---\n",
    "\n",
    "Which of these files is *not* matched by the expression `glob.glob('data/*as*.csv')`?\n",
    "\n",
    "1. `data/gapminder_gdp_africa.csv`\n",
    "2. `data/gapminder_gdp_americas.csv`\n",
    "3. `data/gapminder_gdp_asia.csv`"
   ]
  },
  {
   "cell_type": "markdown",
   "id": "Ue1fIkXt4Ahu",
   "metadata": {
    "id": "Ue1fIkXt4Ahu",
    "slideshow": {
     "slide_type": "slide"
    }
   },
   "source": [
    "## <p style=\"background-color: #f5df18; padding: 10px;\"> 🛑 Minimum File Size </p>\n",
    "\n",
    "---\n",
    "\n",
    "Modify this program so that it prints the number of records in\n",
    "the file that has the fewest records.\n",
    "\n",
    "```python\n",
    "import glob\n",
    "import pandas as pd\n",
    "fewest = ____\n",
    "for filename in glob.glob('data/*.csv'):\n",
    "    dataframe = pd.____(filename)\n",
    "    fewest = min(____, dataframe.shape[0])\n",
    "print('smallest file has', fewest, 'records')\n",
    "```\n",
    "\n",
    "Note that the [`DataFrame.shape()` method][shape-method]\n",
    "returns a tuple with the number of rows and columns of the data frame."
   ]
  },
  {
   "cell_type": "code",
   "execution_count": null,
   "id": "aBF5H4_1kYOL",
   "metadata": {
    "id": "aBF5H4_1kYOL",
    "slideshow": {
     "slide_type": "-"
    }
   },
   "outputs": [],
   "source": [
    "### your answer here ###"
   ]
  },
  {
   "cell_type": "markdown",
   "id": "irhVm53xQgOG",
   "metadata": {
    "id": "irhVm53xQgOG",
    "slideshow": {
     "slide_type": "slide"
    }
   },
   "source": [
    "## <p style=\"background-color: #f5df18; padding: 10px;\"> 🛑 Comparing Data </p>\n",
    "\n",
    "---\n",
    "\n",
    "Write a program that reads in the regional data sets\n",
    "and plots the average GDP per capita for each region over time\n",
    "in a single chart. Pandas will raise an error if it encounters\n",
    "non-numeric columns in a dataframe computation so you may need\n",
    "to either filter out those columns or tell pandas to ignore them."
   ]
  },
  {
   "cell_type": "code",
   "execution_count": 7,
   "id": "reasonable-forwarding",
   "metadata": {
    "id": "reasonable-forwarding",
    "slideshow": {
     "slide_type": "-"
    }
   },
   "outputs": [],
   "source": [
    "### your answer here ###"
   ]
  },
  {
   "cell_type": "markdown",
   "id": "xP8epXpCRRv9",
   "metadata": {
    "id": "xP8epXpCRRv9",
    "slideshow": {
     "slide_type": "slide"
    }
   },
   "source": [
    "## <p style=\"background-color: #f5df18; padding: 10px;\"> 🛑 Dealing with File Paths </p>\n",
    "\n",
    "\n",
    "The [`pathlib` module][pathlib-module] provides useful abstractions for file and path manipulation like\n",
    "returning the name of a file without the file extension. This is very useful when looping over files and\n",
    "directories. In the example below, we create a `Path` object and inspect its attributes.\n",
    "\n",
    "```python\n",
    "from pathlib import Path\n",
    "\n",
    "p = Path(\"data/gapminder_gdp_africa.csv\")\n",
    "print(p.parent)\n",
    "print(p.stem)\n",
    "print(p.suffix)\n",
    "```\n",
    "\n",
    "```output\n",
    "data\n",
    "gapminder_gdp_africa\n",
    ".csv\n",
    "```\n",
    "\n",
    "**Hint:** Check all available attributes and methods on the `Path` object with the `dir()`\n",
    "function."
   ]
  },
  {
   "cell_type": "code",
   "execution_count": null,
   "id": "e8d0b838",
   "metadata": {
    "id": "i9rxWLAz6ORF",
    "slideshow": {
     "slide_type": "-"
    }
   },
   "outputs": [],
   "source": [
    "### your answer here ###"
   ]
  },
  {
   "cell_type": "markdown",
   "id": "c3xyuFI9k7XT",
   "metadata": {
    "id": "c3xyuFI9k7XT",
    "slideshow": {
     "slide_type": "slide"
    }
   },
   "source": [
    "# <p style=\"background-color: #f5df18; padding: 10px;\"> 🗝️ Key points</p>\n",
    "---\n",
    "\n",
    "- Use a `for` loop to process files given a list of their names.\n",
    "- Use `glob.glob` to find sets of files whose names match a pattern.\n",
    "- Use `glob` and `for` to process batches of files.\n"
   ]
  }
 ],
 "metadata": {
  "celltoolbar": "Slideshow",
  "colab": {
   "provenance": []
  },
  "kernelspec": {
   "display_name": "Python 3 (ipykernel)",
   "language": "python",
   "name": "python3"
  },
  "language_info": {
   "codemirror_mode": {
    "name": "ipython",
    "version": 3
   },
   "file_extension": ".py",
   "mimetype": "text/x-python",
   "name": "python",
   "nbconvert_exporter": "python",
   "pygments_lexer": "ipython3",
   "version": "3.11.3"
  },
  "toc-showcode": true
 },
 "nbformat": 4,
 "nbformat_minor": 5
}
