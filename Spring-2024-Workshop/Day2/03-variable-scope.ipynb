{
 "cells": [
  {
   "cell_type": "markdown",
   "id": "labeled-firewall",
   "metadata": {
    "id": "labeled-firewall",
    "slideshow": {
     "slide_type": "slide"
    }
   },
   "source": [
    "# <p style=\"background-color: #f5df18; padding: 10px;\">Programming & Plotting in Python | **Variable Scope** </p>\n",
    "\n",
    "\n",
    "\n",
    "### <strong>Instructor: <span style=\"color: darkblue;\">Name (Affliation)</span></strong>\n",
    "\n",
    "Estimated completion time: 🕚 20 minutes\n"
   ]
  },
  {
   "cell_type": "markdown",
   "id": "30c98737",
   "metadata": {
    "slideshow": {
     "slide_type": "slide"
    }
   },
   "source": [
    "<div style=\"display: flex;\">\n",
    "    <div style=\"flex: 1; margin-right: 20px;\">\n",
    "        <h2>Questions</h2>\n",
    "        <ul>\n",
    "            <li>How do function calls actually work?</li>\n",
    "            <li>How can I determine where errors occurred?</li>\n",
    "        </ul>\n",
    "    </div>\n",
    "    <div style=\"flex: 1;\">\n",
    "        <h2>Learning Objectives</h2>\n",
    "        <ul> \n",
    "            <li>Identify local and global variables.</li>\n",
    "            <li>Identify parameters as local variables.</li>\n",
    "            <li>Read a traceback and determine the file, function, and line number on which the error occurred, the type of error, and the error message.</li>\n",
    "        </ul>\n",
    "    </div>\n",
    "</div>\n"
   ]
  },
  {
   "cell_type": "markdown",
   "id": "pressed-commerce",
   "metadata": {
    "id": "pressed-commerce",
    "slideshow": {
     "slide_type": "slide"
    },
    "tags": []
   },
   "source": [
    "## The scope of a variable is the part of a program that can 'see' that variable.\n",
    "\n",
    "- There are only so many sensible names for variables.\n",
    "- People using functions shouldn't have to worry about\n",
    "  what variable names the author of the function used.\n",
    "- People writing functions shouldn't have to worry about\n",
    "  what variable names the function's caller uses.\n",
    "- The part of a program in which a variable is visible is called its *scope*."
   ]
  },
  {
   "cell_type": "code",
   "execution_count": 3,
   "id": "fd7f50a0",
   "metadata": {
    "slideshow": {
     "slide_type": "slide"
    }
   },
   "outputs": [],
   "source": [
    "pressure = 103.9\n",
    "\n",
    "def adjust(t):\n",
    "    temperature = t * 1.43 / pressure\n",
    "    return temperature\n"
   ]
  },
  {
   "cell_type": "markdown",
   "id": "504dd203",
   "metadata": {
    "slideshow": {
     "slide_type": "-"
    }
   },
   "source": [
    "- `pressure` is a *global variable*.\n",
    "  - Defined outside any particular function.\n",
    "  - Visible everywhere.\n",
    "- `t` and `temperature` are *local variables* in `adjust`.\n",
    "  - Defined in the function.\n",
    "  - Not visible in the main program.\n",
    "  - Remember: a function parameter is a variable\n",
    "    that is automatically assigned a value when the function is called.\n"
   ]
  },
  {
   "cell_type": "markdown",
   "id": "5c4f20f9",
   "metadata": {
    "slideshow": {
     "slide_type": "slide"
    }
   },
   "source": [
    "Before running the following code, guess what will happen."
   ]
  },
  {
   "cell_type": "code",
   "execution_count": 10,
   "id": "1a41c06a",
   "metadata": {
    "slideshow": {
     "slide_type": "-"
    }
   },
   "outputs": [],
   "source": [
    "print('adjusted:', adjust(0.9))\n",
    "print('temperature after call:', temperature)"
   ]
  },
  {
   "cell_type": "markdown",
   "id": "d3167cc9",
   "metadata": {
    "slideshow": {
     "slide_type": "slide"
    }
   },
   "source": [
    "## 💬 Local and Global Variable Use\n",
    "---\n",
    "\n",
    "Trace the values of all variables in this program as it is executed.\n",
    "(Use '---' as the value of variables before and after they exist.)"
   ]
  },
  {
   "cell_type": "code",
   "execution_count": 9,
   "id": "7f113dcf",
   "metadata": {
    "slideshow": {
     "slide_type": "-"
    }
   },
   "outputs": [],
   "source": [
    "limit = 100\n",
    "\n",
    "def clip(value):\n",
    "    return min(max(0.0, value), limit)\n",
    "value = -22.5\n",
    "print(clip(value))"
   ]
  },
  {
   "cell_type": "markdown",
   "id": "tyMrTbrRReoe",
   "metadata": {
    "id": "tyMrTbrRReoe",
    "slideshow": {
     "slide_type": "slide"
    }
   },
   "source": [
    "## <p style=\"background-color: #f5df18; padding: 10px;\"> 🛑 Reading Error Messages </p>\n",
    "\n",
    "Read the traceback below, and identify the following:\n",
    "\n",
    "1. How many levels does the traceback have?\n",
    "2. What is the file name where the error occurred?\n",
    "3. What is the function name where the error occurred?\n",
    "4. On which line number in this function did the error occur?\n",
    "5. What is the type of error?\n",
    "6. What is the error message?\n",
    "\n",
    "```error\n",
    "---------------------------------------------------------------------------\n",
    "KeyError                                  Traceback (most recent call last)\n",
    "<ipython-input-2-e4c4cbafeeb5> in <module>()\n",
    "      1 import errors_02\n",
    "----> 2 errors_02.print_friday_message()\n",
    "\n",
    "/Users/ghopper/thesis/code/errors_02.py in print_friday_message()\n",
    "     13\n",
    "     14 def print_friday_message():\n",
    "---> 15     print_message(\"Friday\")\n",
    "\n",
    "/Users/ghopper/thesis/code/errors_02.py in print_message(day)\n",
    "      9         \"sunday\": \"Aw, the weekend is almost over.\"\n",
    "     10     }\n",
    "---> 11     print(messages[day])\n",
    "     12\n",
    "     13\n",
    "\n",
    "KeyError: 'Friday'\n",
    "```\n"
   ]
  },
  {
   "cell_type": "code",
   "execution_count": 10,
   "id": "kBm2n22w5bNw",
   "metadata": {
    "id": "kBm2n22w5bNw",
    "slideshow": {
     "slide_type": "-"
    }
   },
   "outputs": [],
   "source": [
    "### your answer here ##"
   ]
  },
  {
   "cell_type": "markdown",
   "id": "c3xyuFI9k7XT",
   "metadata": {
    "id": "c3xyuFI9k7XT",
    "slideshow": {
     "slide_type": "slide"
    }
   },
   "source": [
    "# <p style=\"background-color: #f5df18; padding: 10px;\"> 🗝️ Key points</p>\n",
    "---\n",
    "\n",
    "\n",
    "- The scope of a variable is the part of a program that can 'see' that variable."
   ]
  }
 ],
 "metadata": {
  "celltoolbar": "Slideshow",
  "colab": {
   "provenance": []
  },
  "kernelspec": {
   "display_name": "Python 3 (ipykernel)",
   "language": "python",
   "name": "python3"
  },
  "language_info": {
   "codemirror_mode": {
    "name": "ipython",
    "version": 3
   },
   "file_extension": ".py",
   "mimetype": "text/x-python",
   "name": "python",
   "nbconvert_exporter": "python",
   "pygments_lexer": "ipython3",
   "version": "3.11.3"
  },
  "toc-showcode": true
 },
 "nbformat": 4,
 "nbformat_minor": 5
}
