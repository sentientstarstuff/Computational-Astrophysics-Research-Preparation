{
 "cells": [
  {
   "cell_type": "markdown",
   "id": "labeled-firewall",
   "metadata": {
    "id": "labeled-firewall",
    "slideshow": {
     "slide_type": "slide"
    }
   },
   "source": [
    "# <p style=\"background-color: #f5df18; padding: 10px;\">Programming & Plotting in Python | **Wrap-Up** </p>\n",
    "\n",
    "\n",
    "\n",
    "### <strong>Instructor: <span style=\"color: darkblue;\">Name (Affliation)</span></strong>\n",
    "\n",
    "Estimated completion time: 🕚 20 minutes\n"
   ]
  },
  {
   "cell_type": "markdown",
   "id": "30c98737",
   "metadata": {
    "slideshow": {
     "slide_type": "slide"
    }
   },
   "source": [
    "<div style=\"display: flex;\">\n",
    "    <div style=\"flex: 1; margin-right: 20px;\">\n",
    "        <h2>Questions</h2>\n",
    "        <ul>\n",
    "            <li>What have we learned?</li>\n",
    "            <li>What else is out there and where do I find it?</li>\n",
    "        </ul>\n",
    "    </div>\n",
    "    <div style=\"flex: 1;\">\n",
    "        <h2>Learning Objectives</h2>\n",
    "        <ul> \n",
    "            <li>Name and locate scientific Python community sites for software, workshops, and help.</li>\n",
    "        </ul>\n",
    "    </div>\n",
    "</div>\n"
   ]
  },
  {
   "cell_type": "markdown",
   "id": "pressed-commerce",
   "metadata": {
    "id": "pressed-commerce",
    "slideshow": {
     "slide_type": "slide"
    },
    "tags": []
   },
   "source": [
    "The computer scientist and mathematician Leslie Lamport once said, *\"Writing is nature's way of showing you how sloppy your thinking is.\"*\n",
    "The same is true of programming:\n",
    "many things that seem obvious when we're thinking about them\n",
    "turn out to be anything but when we have to explain them precisely.\n"
   ]
  },
  {
   "cell_type": "markdown",
   "id": "d3167cc9",
   "metadata": {
    "slideshow": {
     "slide_type": "slide"
    }
   },
   "source": [
    "## Python supports a large and diverse community across academia and industry.\n",
    "\n",
    "- The [Python 3 documentation](https://docs.python.org/3/) covers the core language\n",
    "  and the standard library.\n",
    "\n",
    "- [PyCon](https://pycon.org/) is the largest annual conference for the Python community.\n",
    "\n",
    "- [SciPy](https://scipy.org) is a rich collection of scientific utilities.\n",
    "  It is also the name of [a series of annual conferences](https://conference.scipy.org/).\n",
    "\n",
    "- [Jupyter](https://jupyter.org) is the home of Project Jupyter.\n",
    "\n",
    "- [Pandas](https://pandas.pydata.org) is the home of the Pandas data library.\n",
    "\n",
    "- [Astropy](https://www.astropy.org) is a community effort to develop a core package for astronomy using Python.\n",
    "\n",
    "- Stack Overflow's [general Python section](https://stackoverflow.com/questions/tagged/python?tab=Votes)\n",
    "  can be helpful,\n",
    "  as well as the sections on [NumPy](https://stackoverflow.com/questions/tagged/numpy?tab=Votes),\n",
    "  [SciPy](https://stackoverflow.com/questions/tagged/scipy?tab=Votes), and\n",
    "  [Pandas](https://stackoverflow.com/questions/tagged/pandas?tab=Votes)."
   ]
  },
  {
   "cell_type": "markdown",
   "id": "c3xyuFI9k7XT",
   "metadata": {
    "id": "c3xyuFI9k7XT",
    "slideshow": {
     "slide_type": "slide"
    }
   },
   "source": [
    "# <p style=\"background-color: #f5df18; padding: 10px;\"> 🗝️ Key points</p>\n",
    "\n",
    "---\n",
    "\n",
    "- Python supports a large and diverse community across academia and industry."
   ]
  }
 ],
 "metadata": {
  "celltoolbar": "Slideshow",
  "colab": {
   "provenance": []
  },
  "kernelspec": {
   "display_name": "Python 3 (ipykernel)",
   "language": "python",
   "name": "python3"
  },
  "language_info": {
   "codemirror_mode": {
    "name": "ipython",
    "version": 3
   },
   "file_extension": ".py",
   "mimetype": "text/x-python",
   "name": "python",
   "nbconvert_exporter": "python",
   "pygments_lexer": "ipython3",
   "version": "3.11.3"
  },
  "toc-showcode": true
 },
 "nbformat": 4,
 "nbformat_minor": 5
}
