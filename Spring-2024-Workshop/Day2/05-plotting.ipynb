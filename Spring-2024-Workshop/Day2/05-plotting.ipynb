{
 "cells": [
  {
   "cell_type": "markdown",
   "id": "labeled-firewall",
   "metadata": {
    "id": "labeled-firewall",
    "slideshow": {
     "slide_type": "slide"
    }
   },
   "source": [
    "# <p style=\"background-color: #f5df18; padding: 10px;\">Programming & Plotting in Python | **Plotting** </p>\n",
    "\n",
    "\n",
    "\n",
    "### <strong>Instructor: <span style=\"color: darkblue;\">Name (Affliation)</span></strong>\n",
    "\n",
    "Estimated completion time: 🕚 30 minutes\n"
   ]
  },
  {
   "cell_type": "markdown",
   "id": "81eb5c44",
   "metadata": {
    "slideshow": {
     "slide_type": "slide"
    }
   },
   "source": [
    "<div style=\"display: flex;\">\n",
    "    <div style=\"flex: 1; margin-right: 20px;\">\n",
    "        <h2>Questions</h2>\n",
    "        <ul>\n",
    "            <li>How can I plot my data?</li>\n",
    "            <li>How can I save my plot for publishing?</li>\n",
    "        </ul>\n",
    "    </div>\n",
    "    <div style=\"flex: 1;\">\n",
    "        <h2>Learning Objectives</h2>\n",
    "        <ul>\n",
    "            <li>Create a scatter plot showing relationship between two data sets.</li>\n",
    "            <li>Create a time series plot showing a single data set.</li>\n",
    "        </ul>\n",
    "    </div>\n",
    "</div>"
   ]
  },
  {
   "cell_type": "markdown",
   "id": "07ab22fa",
   "metadata": {
    "slideshow": {
     "slide_type": "slide"
    }
   },
   "source": [
    "## [`matplotlib`](https://matplotlib.org/) is the most widely used scientific plotting library in Python.\n",
    "\n",
    "- Commonly use a sub-library called [`matplotlib.pyplot`](https://matplotlib.org/stable/tutorials/introductory/pyplot.html).\n",
    "- The Jupyter Notebook will render plots inline by default."
   ]
  },
  {
   "cell_type": "code",
   "execution_count": null,
   "id": "e573aaed",
   "metadata": {
    "slideshow": {
     "slide_type": "-"
    }
   },
   "outputs": [],
   "source": [
    "## import matplotlib \n",
    "\n"
   ]
  },
  {
   "cell_type": "markdown",
   "id": "b62ce94f",
   "metadata": {
    "slideshow": {
     "slide_type": "slide"
    }
   },
   "source": [
    "- Simple plots are then (fairly) simple to create."
   ]
  },
  {
   "cell_type": "code",
   "execution_count": null,
   "id": "0bae49a0",
   "metadata": {
    "slideshow": {
     "slide_type": "-"
    }
   },
   "outputs": [],
   "source": [
    "### position vs time plot ### \n",
    "\n",
    "\n"
   ]
  },
  {
   "cell_type": "markdown",
   "id": "e2572393",
   "metadata": {
    "slideshow": {
     "slide_type": "slide"
    }
   },
   "source": [
    "## 🔔 Display All Open Figures\n",
    "\n",
    "In our Jupyter Notebook example, running the cell should generate the figure directly below the code.\n",
    "The figure is also included in the Notebook document for future viewing.\n",
    "However, other Python environments like an interactive Python session started from a terminal\n",
    "or a Python script executed via the command line require an additional command to display the figure.\n",
    "\n",
    "Instruct `matplotlib` to show a figure:\n",
    "\n",
    "```python\n",
    "plt.show()\n",
    "```\n",
    "\n",
    "This command can also be used within a Notebook - for instance, to display multiple figures\n",
    "if several are created by a single cell.\n"
   ]
  },
  {
   "cell_type": "markdown",
   "id": "643eb4ee",
   "metadata": {
    "slideshow": {
     "slide_type": "slide"
    }
   },
   "source": [
    "## Plot data directly from a [`Pandas dataframe`](https://pandas.pydata.org/pandas-docs/stable/reference/api/pandas.DataFrame.html).\n",
    "\n",
    "- We can also plot [Pandas dataframes](https://pandas.pydata.org/pandas-docs/stable/generated/pandas.DataFrame.html).\n",
    "- Before plotting, we convert the column headings from a `string` to `integer` data type, since they represent numerical values,\n",
    "  using [str.replace()](https://pandas.pydata.org/docs/reference/api/pandas.Series.str.replace.html) to remove the `gpdPercap_`\n",
    "  prefix and then [astype(int)](https://pandas.pydata.org/docs/reference/api/pandas.Series.astype.html)\n",
    "  to convert the series of string values (`['1952', '1957', ..., '2007']`) to a series of integers: `[1925, 1957, ..., 2007]`."
   ]
  },
  {
   "cell_type": "code",
   "execution_count": null,
   "id": "b6ef802e",
   "metadata": {
    "slideshow": {
     "slide_type": "-"
    }
   },
   "outputs": [],
   "source": [
    "### Import pandas and load \"gapminder_gdp_oceania.csv\" file ###\n",
    "\n"
   ]
  },
  {
   "cell_type": "code",
   "execution_count": null,
   "id": "9b6e679c",
   "metadata": {
    "slideshow": {
     "slide_type": "slide"
    }
   },
   "outputs": [],
   "source": [
    "# Extract year from last 4 characters of each column name\n",
    "# The current column names are structured as 'gdpPercap_(year)', \n",
    "# so we want to keep the (year) part only for clarity when plotting GDP vs. years\n",
    "# To do this we use replace(), which removes from the string the characters stated in the argument\n",
    "# This method works on strings, so we use replace() from Pandas Series.str vectorized string functions\n",
    "\n",
    "\n",
    "\n"
   ]
  },
  {
   "cell_type": "markdown",
   "id": "0312a262",
   "metadata": {
    "slideshow": {
     "slide_type": "slide"
    }
   },
   "source": [
    "## Select and transform data, then plot it.\n",
    "\n",
    "- By default, [`DataFrame.plot`](https://pandas.pydata.org/pandas-docs/stable/generated/pandas.DataFrame.plot.html#pandas.DataFrame.plot) plots with the rows as the X axis.\n",
    "- We can transpose the data in order to plot multiple series."
   ]
  },
  {
   "cell_type": "code",
   "execution_count": null,
   "id": "ee474f37",
   "metadata": {
    "slideshow": {
     "slide_type": "-"
    }
   },
   "outputs": [],
   "source": [
    "###"
   ]
  },
  {
   "cell_type": "markdown",
   "id": "037b2319",
   "metadata": {
    "slideshow": {
     "slide_type": "slide"
    }
   },
   "source": [
    "## Many styles of plot are available.\n",
    "\n",
    "- For example, do a bar plot using a fancier style.\n",
    "\n",
    "```python\n",
    "plt.style.use('ggplot')\n",
    "data.T.plot(kind='bar')\n",
    "plt.ylabel('GDP per capita')\n",
    "```\n",
    "\n",
    "<div>\n",
    "<img src=\"https://swcarpentry.github.io/python-novice-gapminder/fig/9_gdp_bar.svg\" width=\"500\"/>\n",
    "</div>\n"
   ]
  },
  {
   "cell_type": "markdown",
   "id": "b9a8be56",
   "metadata": {
    "slideshow": {
     "slide_type": "slide"
    }
   },
   "source": [
    "## Data can also be plotted by calling the `matplotlib` `plot` function directly.\n",
    "\n",
    "- The command is `plt.plot(x, y)`\n",
    "- The color and format of markers can also be specified as an additional optional argument e.g., `b-` is a blue line, `g--` is a green dashed line.\n"
   ]
  },
  {
   "cell_type": "markdown",
   "id": "45535df1",
   "metadata": {
    "slideshow": {
     "slide_type": "slide"
    }
   },
   "source": [
    "## Get Australia data from dataframe"
   ]
  },
  {
   "cell_type": "code",
   "execution_count": null,
   "id": "79e09b5e",
   "metadata": {
    "slideshow": {
     "slide_type": "-"
    }
   },
   "outputs": [],
   "source": []
  },
  {
   "cell_type": "markdown",
   "id": "8562ded7",
   "metadata": {
    "slideshow": {
     "slide_type": "slide"
    }
   },
   "source": [
    "## Can plot many sets of data together.\n",
    "\n",
    "```python\n",
    "# Select two countries' worth of data.\n",
    "gdp_australia = data.loc['Australia']\n",
    "gdp_nz = data.loc['New Zealand']\n",
    "\n",
    "# Plot with differently-colored markers.\n",
    "plt.plot(years, gdp_australia, 'b-', label='Australia')\n",
    "plt.plot(years, gdp_nz, 'g-', label='New Zealand')\n",
    "\n",
    "# Create legend.\n",
    "plt.legend(loc='upper left')\n",
    "plt.xlabel('Year')\n",
    "plt.ylabel('GDP per capita ($)')\n",
    "```\n",
    "<div>\n",
    "<img src=\"https://swcarpentry.github.io/python-novice-gapminder/fig/9_gdp_australia_nz_formatted.svg\" width=\"700\"/>\n",
    "</div>\n"
   ]
  },
  {
   "cell_type": "markdown",
   "id": "cac6af57",
   "metadata": {
    "slideshow": {
     "slide_type": "slide"
    }
   },
   "source": [
    "## 🔔 Adding a Legend\n",
    "\n",
    "Often when plotting multiple datasets on the same figure it is desirable to have\n",
    "a legend describing the data.\n",
    "\n",
    "This can be done in `matplotlib` in two stages:\n",
    "\n",
    "- Provide a label for each dataset in the figure:\n",
    "\n",
    "```python\n",
    "plt.plot(years, gdp_australia, label='Australia')\n",
    "plt.plot(years, gdp_nz, label='New Zealand')\n",
    "```\n",
    "\n",
    "- Instruct `matplotlib` to create the legend.\n",
    "\n",
    "```python\n",
    "plt.legend()\n",
    "```\n",
    "\n",
    "By default matplotlib will attempt to place the legend in a suitable position. If you\n",
    "would rather specify a position this can be done with the `loc=` argument, e.g to place\n",
    "the legend in the upper left corner of the plot, specify `loc='upper left'`"
   ]
  },
  {
   "cell_type": "markdown",
   "id": "cbbfcb3a",
   "metadata": {
    "slideshow": {
     "slide_type": "slide"
    }
   },
   "source": [
    "## <p style=\"background-color: #f5df18; padding: 10px;\"> 🛑 Exercise </p>\n",
    "\n",
    "Plot a scatter plot correlating the GDP of Australia and New Zealand. Use either plt.scatter or DataFrame.plot.scatter"
   ]
  },
  {
   "cell_type": "code",
   "execution_count": null,
   "id": "366baa39",
   "metadata": {
    "slideshow": {
     "slide_type": "-"
    }
   },
   "outputs": [],
   "source": [
    "### your answer here ###"
   ]
  },
  {
   "cell_type": "markdown",
   "id": "pTTOSGfZRIY_",
   "metadata": {
    "id": "pTTOSGfZRIY_",
    "slideshow": {
     "slide_type": "slide"
    }
   },
   "source": [
    "## <p style=\"background-color: #f5df18; padding: 10px;\"> 🛑  Minima and Maxima </p>\n",
    "\n",
    "---\n",
    "\n",
    "Fill in the blanks below to plot the minimum GDP per capita over time\n",
    "for all the countries in Europe.\n",
    "Modify it again to plot the maximum GDP per capita over time for Europe.\n",
    "\n",
    "```python\n",
    "data_europe = pd.read_csv('data/gapminder_gdp_europe.csv', index_col='country')\n",
    "data_europe.____.plot(label='min')\n",
    "data_europe.____\n",
    "plt.legend(loc='best')\n",
    "plt.xticks(rotation=90)\n",
    "```"
   ]
  },
  {
   "cell_type": "code",
   "execution_count": null,
   "id": "gGsU55CWQEMa",
   "metadata": {
    "id": "gGsU55CWQEMa",
    "slideshow": {
     "slide_type": "-"
    }
   },
   "outputs": [],
   "source": [
    "### your answer here ####"
   ]
  },
  {
   "cell_type": "markdown",
   "id": "jDJ9_x3m8b8X",
   "metadata": {
    "id": "jDJ9_x3m8b8X",
    "slideshow": {
     "slide_type": "slide"
    }
   },
   "source": [
    "## <p style=\"background-color: #f5df18; padding: 10px;\"> 🛑 Correlations </p>\n",
    "\n",
    "---\n",
    "\n",
    "Modify the example in the notes to create a scatter plot showing\n",
    "the relationship between the minimum and maximum GDP per capita\n",
    "among the countries in Asia for each year in the data set.\n",
    "What relationship do you see (if any)?"
   ]
  },
  {
   "cell_type": "code",
   "execution_count": null,
   "id": "4d33babe",
   "metadata": {
    "id": "4d33babe",
    "slideshow": {
     "slide_type": "-"
    }
   },
   "outputs": [],
   "source": [
    "### your answer here ####"
   ]
  },
  {
   "cell_type": "markdown",
   "id": "sm0UZGqk8oqs",
   "metadata": {
    "id": "sm0UZGqk8oqs",
    "slideshow": {
     "slide_type": "slide"
    }
   },
   "source": [
    "## <p style=\"background-color: #f5df18; padding: 10px;\"> 🛑 Correlations (continued) </p>\n",
    "---\n",
    "\n",
    "You might note that the variability in the maximum is much higher than\n",
    "that of the minimum.  Take a look at the maximum and the max indexes:\n",
    "\n",
    "```python\n",
    "data_asia = pd.read_csv('data/gapminder_gdp_asia.csv', index_col='country')\n",
    "data_asia.max().plot()\n",
    "print(data_asia.idxmax())\n",
    "print(data_asia.idxmin())\n",
    "```"
   ]
  },
  {
   "cell_type": "code",
   "execution_count": null,
   "id": "bbB11nRP8m-R",
   "metadata": {
    "id": "bbB11nRP8m-R",
    "slideshow": {
     "slide_type": "-"
    }
   },
   "outputs": [],
   "source": [
    "### your answer here ####"
   ]
  },
  {
   "cell_type": "markdown",
   "id": "Vwu5plPm85nq",
   "metadata": {
    "id": "Vwu5plPm85nq",
    "slideshow": {
     "slide_type": "slide"
    }
   },
   "source": [
    "## <p style=\"background-color: #f5df18; padding: 10px;\"> 🛑 More correlations </p>\n",
    "---\n",
    "\n",
    "This short program creates a plot showing\n",
    "the correlation between GDP and life expectancy for 2007,\n",
    "normalizing marker size by population:\n",
    "\n",
    "```python\n",
    "data_all = pd.read_csv('data/gapminder_all.csv', index_col='country')\n",
    "data_all.plot(kind='scatter', x='gdpPercap_2007', y='lifeExp_2007',\n",
    "              s=data_all['pop_2007']/1e6)\n",
    "```\n",
    "\n",
    "Using online help and other resources,\n",
    "explain what each argument to `plot` does."
   ]
  },
  {
   "cell_type": "code",
   "execution_count": null,
   "id": "63219e21",
   "metadata": {
    "id": "63219e21",
    "slideshow": {
     "slide_type": "-"
    }
   },
   "outputs": [],
   "source": [
    "### your answer here ####"
   ]
  },
  {
   "cell_type": "markdown",
   "id": "6aa16308",
   "metadata": {
    "slideshow": {
     "slide_type": "slide"
    }
   },
   "source": [
    "## 🔔 Saving your plot to a file\n",
    "---\n",
    "\n",
    "If you are satisfied with the plot you see you may want to save it to a file,\n",
    "perhaps to include it in a publication. There is a function in the\n",
    "matplotlib.pyplot module that accomplishes this:\n",
    "[savefig](https://matplotlib.org/stable/api/_as_gen/matplotlib.pyplot.savefig.html).\n",
    "Calling this function, e.g. with\n",
    "\n",
    "```python\n",
    "plt.savefig('my_figure.png')\n",
    "```\n",
    "\n",
    "will save the current figure to the file `my_figure.png`. The file format\n",
    "will automatically be deduced from the file name extension (other formats\n",
    "are pdf, ps, eps and svg).\n",
    "\n",
    "Note that functions in `plt` refer to a global figure variable\n",
    "and after a figure has been displayed to the screen (e.g. with `plt.show`)\n",
    "matplotlib will make this  variable refer to a new empty figure.\n",
    "Therefore, make sure you call `plt.savefig` before the plot is displayed to\n",
    "the screen, otherwise you may find a file with an empty plot.\n",
    "\n",
    "When using dataframes, data is often generated and plotted to screen in one line.\n",
    "In addition to using `plt.savefig`, we can save a reference to the current figure\n",
    "in a local variable (with `plt.gcf`) and call the `savefig` class method from\n",
    "that variable to save the figure to file.\n",
    "\n",
    "```python\n",
    "data.plot(kind='bar')\n",
    "fig = plt.gcf() # get current figure\n",
    "fig.savefig('my_figure.png')\n",
    "```"
   ]
  },
  {
   "cell_type": "markdown",
   "id": "be5c25f2",
   "metadata": {
    "slideshow": {
     "slide_type": "slide"
    }
   },
   "source": [
    "## 🔔 Making your plots accessible\n",
    "---\n",
    "\n",
    "Whenever you are generating plots to go into a paper or a presentation, there are a few things you can do to make sure that everyone can understand your plots.\n",
    "\n",
    "- Always make sure your text is large enough to read. Use the `fontsize` parameter in `xlabel`, `ylabel`, `title`, and `legend`, and [`tick_params` with `labelsize`](https://matplotlib.org/stable/api/_as_gen/matplotlib.axes.Axes.tick_params.html) to increase the text size of the numbers on your axes.\n",
    "- Similarly, you should make your graph elements easy to see. Use `s` to increase the size of your scatterplot markers and `linewidth` to increase the sizes of your plot lines.\n",
    "- Using color (and nothing else) to distinguish between different plot elements will make your plots unreadable to anyone who is colorblind, or who happens to have a black-and-white office printer. For lines, the `linestyle` parameter lets you use different types of lines. For scatterplots, `marker` lets you change the shape of your points. If you're unsure about your colors, you can use [Coblis](https://www.color-blindness.com/coblis-color-blindness-simulator/) or [Color Oracle](https://colororacle.org/) to simulate what your plots would look like to those with colorblindness."
   ]
  },
  {
   "cell_type": "markdown",
   "id": "c3xyuFI9k7XT",
   "metadata": {
    "id": "c3xyuFI9k7XT",
    "slideshow": {
     "slide_type": "slide"
    }
   },
   "source": [
    "# <p style=\"background-color: #f5df18; padding: 10px;\"> 🗝️ Key points</p>\n",
    "---\n",
    "\n",
    "- [`matplotlib`](https://matplotlib.org/) is the most widely used scientific plotting library in Python.\n",
    "- Plot data directly from a Pandas dataframe.\n",
    "- Select and transform data, then plot it.\n",
    "- Many styles of plot are available: see the [Python Graph Gallery](https://python-graph-gallery.com/matplotlib/) for more options.\n",
    "- Can plot many sets of data together."
   ]
  }
 ],
 "metadata": {
  "celltoolbar": "Slideshow",
  "colab": {
   "provenance": []
  },
  "kernelspec": {
   "display_name": "Python 3 (ipykernel)",
   "language": "python",
   "name": "python3"
  },
  "language_info": {
   "codemirror_mode": {
    "name": "ipython",
    "version": 3
   },
   "file_extension": ".py",
   "mimetype": "text/x-python",
   "name": "python",
   "nbconvert_exporter": "python",
   "pygments_lexer": "ipython3",
   "version": "3.11.3"
  },
  "toc-showcode": true
 },
 "nbformat": 4,
 "nbformat_minor": 5
}
