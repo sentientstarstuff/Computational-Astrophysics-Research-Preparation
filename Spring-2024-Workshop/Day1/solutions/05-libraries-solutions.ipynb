{
 "cells": [
  {
   "cell_type": "markdown",
   "id": "labeled-firewall",
   "metadata": {
    "id": "labeled-firewall",
    "slideshow": {
     "slide_type": "slide"
    }
   },
   "source": [
    "# <p style=\"background-color: #f5df18; padding: 10px;\">Programming & Plotting in Python | **Libraries** </p>\n"
   ]
  },
  {
   "cell_type": "markdown",
   "id": "a4601fb3",
   "metadata": {
    "slideshow": {
     "slide_type": "slide"
    }
   },
   "source": [
    "<div style=\"display: flex;\">\n",
    "    <div style=\"flex: 1; margin-right: 20px;\">\n",
    "        <h2>Questions</h2>\n",
    "        <ul>\n",
    "            <li>How can I use software that other people have written?</li>\n",
    "    <li>How can I find out what that software does?</li>\n",
    "        </ul>\n",
    "    </div>\n",
    "    <div style=\"flex: 1;\">\n",
    "        <h2>Learning Objectives</h2>\n",
    "        <ul>\n",
    "            <li>Explain what software libraries are and why programmers create and use them.</li>\n",
    "    <li>Write programs that import and use modules from Python's standard library.</li>\n",
    "    <li>Find and read documentation for the standard library interactively (in the interpreter) and online.</li>\n",
    "        </ul>\n",
    "    </div>\n",
    "</div>"
   ]
  },
  {
   "cell_type": "markdown",
   "id": "provincial-bruce",
   "metadata": {
    "id": "provincial-bruce",
    "slideshow": {
     "slide_type": "slide"
    },
    "tags": []
   },
   "source": [
    "\n",
    "## Most of the power of a programming language is in its libraries.\n",
    "---"
   ]
  },
  {
   "cell_type": "markdown",
   "id": "7aaf8060",
   "metadata": {
    "slideshow": {
     "slide_type": "fragment"
    }
   },
   "source": [
    "- A *library* is a collection of files (called *modules*) that contains\n",
    "  functions for use by other programs.\n",
    "  - May also contain data values (e.g., numerical constants) and other things.\n",
    "  - Library's contents are supposed to be related, but there's no way to enforce that."
   ]
  },
  {
   "cell_type": "markdown",
   "id": "542c1208",
   "metadata": {
    "slideshow": {
     "slide_type": "fragment"
    }
   },
   "source": [
    "- The Python [standard library](https://docs.python.org/3/library/) is an extensive suite of modules that comes\n",
    "  with Python itself.\n"
   ]
  },
  {
   "cell_type": "markdown",
   "id": "4580d7fc",
   "metadata": {
    "slideshow": {
     "slide_type": "fragment"
    }
   },
   "source": [
    "- Many additional libraries are available from [PyPI](https://pypi.python.org/pypi/) (the Python Package Index).\n"
   ]
  },
  {
   "cell_type": "markdown",
   "id": "1fac1f3d",
   "metadata": {
    "slideshow": {
     "slide_type": "fragment"
    }
   },
   "source": [
    "- We will see later how to write new libraries."
   ]
  },
  {
   "cell_type": "markdown",
   "id": "HeZYJOpw7Tmp",
   "metadata": {
    "id": "HeZYJOpw7Tmp",
    "slideshow": {
     "slide_type": "slide"
    }
   },
   "source": [
    "## 🔔 Libraries and modules\n",
    "---\n",
    "\n",
    "\n",
    "A library is a collection of modules, but the terms are often used\n",
    "interchangeably, especially since many libraries only consist of a single\n",
    "module, so don't worry if you mix them.\n"
   ]
  },
  {
   "cell_type": "markdown",
   "id": "healthy-subdivision",
   "metadata": {
    "id": "healthy-subdivision",
    "slideshow": {
     "slide_type": "slide"
    }
   },
   "source": [
    "## A program must import a library module before using it.\n",
    "---\n",
    "\n",
    "- Use `import` to load a library module into a program's memory.\n",
    "- Then refer to things from the module as `module_name.thing_name`.\n",
    "  - Python uses `.` to mean \"part of\".\n",
    "- Let's import `math`, one of the modules in the standard library:"
   ]
  },
  {
   "cell_type": "code",
   "execution_count": 5,
   "id": "XMxCM1M07a9P",
   "metadata": {
    "id": "XMxCM1M07a9P",
    "slideshow": {
     "slide_type": "-"
    }
   },
   "outputs": [
    {
     "name": "stdout",
     "output_type": "stream",
     "text": [
      "3.141592653589793\n",
      "-1.0\n"
     ]
    }
   ],
   "source": [
    "import math\n",
    "\n",
    "print(math.pi)\n",
    "\n",
    "print(math.cos(math.pi))\n",
    "\n"
   ]
  },
  {
   "cell_type": "markdown",
   "id": "pressed-commerce",
   "metadata": {
    "id": "pressed-commerce",
    "slideshow": {
     "slide_type": "slide"
    },
    "tags": []
   },
   "source": [
    "## Use `help` to learn about the contents of a library module.\n",
    "---\n",
    "\n",
    "- Works just like help for a function."
   ]
  },
  {
   "cell_type": "code",
   "execution_count": 6,
   "id": "superior-entertainment",
   "metadata": {
    "id": "superior-entertainment",
    "scrolled": true,
    "slideshow": {
     "slide_type": "-"
    },
    "tags": []
   },
   "outputs": [
    {
     "name": "stdout",
     "output_type": "stream",
     "text": [
      "Help on module math:\n",
      "\n",
      "NAME\n",
      "    math\n",
      "\n",
      "MODULE REFERENCE\n",
      "    https://docs.python.org/3.11/library/math.html\n",
      "    \n",
      "    The following documentation is automatically generated from the Python\n",
      "    source files.  It may be incomplete, incorrect or include features that\n",
      "    are considered implementation detail and may vary between Python\n",
      "    implementations.  When in doubt, consult the module reference at the\n",
      "    location listed above.\n",
      "\n",
      "DESCRIPTION\n",
      "    This module provides access to the mathematical functions\n",
      "    defined by the C standard.\n",
      "\n",
      "FUNCTIONS\n",
      "    acos(x, /)\n",
      "        Return the arc cosine (measured in radians) of x.\n",
      "        \n",
      "        The result is between 0 and pi.\n",
      "    \n",
      "    acosh(x, /)\n",
      "        Return the inverse hyperbolic cosine of x.\n",
      "    \n",
      "    asin(x, /)\n",
      "        Return the arc sine (measured in radians) of x.\n",
      "        \n",
      "        The result is between -pi/2 and pi/2.\n",
      "    \n",
      "    asinh(x, /)\n",
      "        Return the inverse hyperbolic sine of x.\n",
      "    \n",
      "    atan(x, /)\n",
      "        Return the arc tangent (measured in radians) of x.\n",
      "        \n",
      "        The result is between -pi/2 and pi/2.\n",
      "    \n",
      "    atan2(y, x, /)\n",
      "        Return the arc tangent (measured in radians) of y/x.\n",
      "        \n",
      "        Unlike atan(y/x), the signs of both x and y are considered.\n",
      "    \n",
      "    atanh(x, /)\n",
      "        Return the inverse hyperbolic tangent of x.\n",
      "    \n",
      "    cbrt(x, /)\n",
      "        Return the cube root of x.\n",
      "    \n",
      "    ceil(x, /)\n",
      "        Return the ceiling of x as an Integral.\n",
      "        \n",
      "        This is the smallest integer >= x.\n",
      "    \n",
      "    comb(n, k, /)\n",
      "        Number of ways to choose k items from n items without repetition and without order.\n",
      "        \n",
      "        Evaluates to n! / (k! * (n - k)!) when k <= n and evaluates\n",
      "        to zero when k > n.\n",
      "        \n",
      "        Also called the binomial coefficient because it is equivalent\n",
      "        to the coefficient of k-th term in polynomial expansion of the\n",
      "        expression (1 + x)**n.\n",
      "        \n",
      "        Raises TypeError if either of the arguments are not integers.\n",
      "        Raises ValueError if either of the arguments are negative.\n",
      "    \n",
      "    copysign(x, y, /)\n",
      "        Return a float with the magnitude (absolute value) of x but the sign of y.\n",
      "        \n",
      "        On platforms that support signed zeros, copysign(1.0, -0.0)\n",
      "        returns -1.0.\n",
      "    \n",
      "    cos(x, /)\n",
      "        Return the cosine of x (measured in radians).\n",
      "    \n",
      "    cosh(x, /)\n",
      "        Return the hyperbolic cosine of x.\n",
      "    \n",
      "    degrees(x, /)\n",
      "        Convert angle x from radians to degrees.\n",
      "    \n",
      "    dist(p, q, /)\n",
      "        Return the Euclidean distance between two points p and q.\n",
      "        \n",
      "        The points should be specified as sequences (or iterables) of\n",
      "        coordinates.  Both inputs must have the same dimension.\n",
      "        \n",
      "        Roughly equivalent to:\n",
      "            sqrt(sum((px - qx) ** 2.0 for px, qx in zip(p, q)))\n",
      "    \n",
      "    erf(x, /)\n",
      "        Error function at x.\n",
      "    \n",
      "    erfc(x, /)\n",
      "        Complementary error function at x.\n",
      "    \n",
      "    exp(x, /)\n",
      "        Return e raised to the power of x.\n",
      "    \n",
      "    exp2(x, /)\n",
      "        Return 2 raised to the power of x.\n",
      "    \n",
      "    expm1(x, /)\n",
      "        Return exp(x)-1.\n",
      "        \n",
      "        This function avoids the loss of precision involved in the direct evaluation of exp(x)-1 for small x.\n",
      "    \n",
      "    fabs(x, /)\n",
      "        Return the absolute value of the float x.\n",
      "    \n",
      "    factorial(n, /)\n",
      "        Find n!.\n",
      "        \n",
      "        Raise a ValueError if x is negative or non-integral.\n",
      "    \n",
      "    floor(x, /)\n",
      "        Return the floor of x as an Integral.\n",
      "        \n",
      "        This is the largest integer <= x.\n",
      "    \n",
      "    fmod(x, y, /)\n",
      "        Return fmod(x, y), according to platform C.\n",
      "        \n",
      "        x % y may differ.\n",
      "    \n",
      "    frexp(x, /)\n",
      "        Return the mantissa and exponent of x, as pair (m, e).\n",
      "        \n",
      "        m is a float and e is an int, such that x = m * 2.**e.\n",
      "        If x is 0, m and e are both 0.  Else 0.5 <= abs(m) < 1.0.\n",
      "    \n",
      "    fsum(seq, /)\n",
      "        Return an accurate floating point sum of values in the iterable seq.\n",
      "        \n",
      "        Assumes IEEE-754 floating point arithmetic.\n",
      "    \n",
      "    gamma(x, /)\n",
      "        Gamma function at x.\n",
      "    \n",
      "    gcd(*integers)\n",
      "        Greatest Common Divisor.\n",
      "    \n",
      "    hypot(...)\n",
      "        hypot(*coordinates) -> value\n",
      "        \n",
      "        Multidimensional Euclidean distance from the origin to a point.\n",
      "        \n",
      "        Roughly equivalent to:\n",
      "            sqrt(sum(x**2 for x in coordinates))\n",
      "        \n",
      "        For a two dimensional point (x, y), gives the hypotenuse\n",
      "        using the Pythagorean theorem:  sqrt(x*x + y*y).\n",
      "        \n",
      "        For example, the hypotenuse of a 3/4/5 right triangle is:\n",
      "        \n",
      "            >>> hypot(3.0, 4.0)\n",
      "            5.0\n",
      "    \n",
      "    isclose(a, b, *, rel_tol=1e-09, abs_tol=0.0)\n",
      "        Determine whether two floating point numbers are close in value.\n",
      "        \n",
      "          rel_tol\n",
      "            maximum difference for being considered \"close\", relative to the\n",
      "            magnitude of the input values\n",
      "          abs_tol\n",
      "            maximum difference for being considered \"close\", regardless of the\n",
      "            magnitude of the input values\n",
      "        \n",
      "        Return True if a is close in value to b, and False otherwise.\n",
      "        \n",
      "        For the values to be considered close, the difference between them\n",
      "        must be smaller than at least one of the tolerances.\n",
      "        \n",
      "        -inf, inf and NaN behave similarly to the IEEE 754 Standard.  That\n",
      "        is, NaN is not close to anything, even itself.  inf and -inf are\n",
      "        only close to themselves.\n",
      "    \n",
      "    isfinite(x, /)\n",
      "        Return True if x is neither an infinity nor a NaN, and False otherwise.\n",
      "    \n",
      "    isinf(x, /)\n",
      "        Return True if x is a positive or negative infinity, and False otherwise.\n",
      "    \n",
      "    isnan(x, /)\n",
      "        Return True if x is a NaN (not a number), and False otherwise.\n",
      "    \n",
      "    isqrt(n, /)\n",
      "        Return the integer part of the square root of the input.\n",
      "    \n",
      "    lcm(*integers)\n",
      "        Least Common Multiple.\n",
      "    \n",
      "    ldexp(x, i, /)\n",
      "        Return x * (2**i).\n",
      "        \n",
      "        This is essentially the inverse of frexp().\n",
      "    \n",
      "    lgamma(x, /)\n",
      "        Natural logarithm of absolute value of Gamma function at x.\n",
      "    \n",
      "    log(...)\n",
      "        log(x, [base=math.e])\n",
      "        Return the logarithm of x to the given base.\n",
      "        \n",
      "        If the base not specified, returns the natural logarithm (base e) of x.\n",
      "    \n",
      "    log10(x, /)\n",
      "        Return the base 10 logarithm of x.\n",
      "    \n",
      "    log1p(x, /)\n",
      "        Return the natural logarithm of 1+x (base e).\n",
      "        \n",
      "        The result is computed in a way which is accurate for x near zero.\n",
      "    \n",
      "    log2(x, /)\n",
      "        Return the base 2 logarithm of x.\n",
      "    \n",
      "    modf(x, /)\n",
      "        Return the fractional and integer parts of x.\n",
      "        \n",
      "        Both results carry the sign of x and are floats.\n",
      "    \n",
      "    nextafter(x, y, /)\n",
      "        Return the next floating-point value after x towards y.\n",
      "    \n",
      "    perm(n, k=None, /)\n",
      "        Number of ways to choose k items from n items without repetition and with order.\n",
      "        \n",
      "        Evaluates to n! / (n - k)! when k <= n and evaluates\n",
      "        to zero when k > n.\n",
      "        \n",
      "        If k is not specified or is None, then k defaults to n\n",
      "        and the function returns n!.\n",
      "        \n",
      "        Raises TypeError if either of the arguments are not integers.\n",
      "        Raises ValueError if either of the arguments are negative.\n",
      "    \n",
      "    pow(x, y, /)\n",
      "        Return x**y (x to the power of y).\n",
      "    \n",
      "    prod(iterable, /, *, start=1)\n",
      "        Calculate the product of all the elements in the input iterable.\n",
      "        \n",
      "        The default start value for the product is 1.\n",
      "        \n",
      "        When the iterable is empty, return the start value.  This function is\n",
      "        intended specifically for use with numeric values and may reject\n",
      "        non-numeric types.\n",
      "    \n",
      "    radians(x, /)\n",
      "        Convert angle x from degrees to radians.\n",
      "    \n",
      "    remainder(x, y, /)\n",
      "        Difference between x and the closest integer multiple of y.\n",
      "        \n",
      "        Return x - n*y where n*y is the closest integer multiple of y.\n",
      "        In the case where x is exactly halfway between two multiples of\n",
      "        y, the nearest even value of n is used. The result is always exact.\n",
      "    \n",
      "    sin(x, /)\n",
      "        Return the sine of x (measured in radians).\n",
      "    \n",
      "    sinh(x, /)\n",
      "        Return the hyperbolic sine of x.\n",
      "    \n",
      "    sqrt(x, /)\n",
      "        Return the square root of x.\n",
      "    \n",
      "    tan(x, /)\n",
      "        Return the tangent of x (measured in radians).\n",
      "    \n",
      "    tanh(x, /)\n",
      "        Return the hyperbolic tangent of x.\n",
      "    \n",
      "    trunc(x, /)\n",
      "        Truncates the Real x to the nearest Integral toward 0.\n",
      "        \n",
      "        Uses the __trunc__ magic method.\n",
      "    \n",
      "    ulp(x, /)\n",
      "        Return the value of the least significant bit of the float x.\n",
      "\n",
      "DATA\n",
      "    e = 2.718281828459045\n",
      "    inf = inf\n",
      "    nan = nan\n",
      "    pi = 3.141592653589793\n",
      "    tau = 6.283185307179586\n",
      "\n",
      "FILE\n",
      "    /Users/tb/anaconda3/lib/python3.11/lib-dynload/math.cpython-311-darwin.so\n",
      "\n",
      "\n"
     ]
    }
   ],
   "source": [
    "help(math)"
   ]
  },
  {
   "cell_type": "markdown",
   "id": "DMO1E52P7icM",
   "metadata": {
    "id": "DMO1E52P7icM",
    "slideshow": {
     "slide_type": "slide"
    }
   },
   "source": [
    "## Import specific items from a library module to shorten programs.\n",
    "---\n",
    "\n",
    "\n"
   ]
  },
  {
   "cell_type": "markdown",
   "id": "76144c47",
   "metadata": {
    "slideshow": {
     "slide_type": "fragment"
    }
   },
   "source": [
    "- Use `from ... import ...` to load only specific items from a library module."
   ]
  },
  {
   "cell_type": "markdown",
   "id": "2cdf8e38",
   "metadata": {
    "slideshow": {
     "slide_type": "fragment"
    }
   },
   "source": [
    "- Then refer to them directly without library name as prefix.\n"
   ]
  },
  {
   "cell_type": "code",
   "execution_count": 9,
   "id": "PzhR_CFQ721c",
   "metadata": {
    "id": "PzhR_CFQ721c",
    "slideshow": {
     "slide_type": "-"
    }
   },
   "outputs": [
    {
     "name": "stdout",
     "output_type": "stream",
     "text": [
      "3.141592653589793\n",
      "cos(pi) is -1.0\n"
     ]
    }
   ],
   "source": [
    "from math import cos, pi\n",
    "\n",
    "print(pi)\n",
    "\n",
    "print('cos(pi) is', cos(pi))"
   ]
  },
  {
   "cell_type": "markdown",
   "id": "oriental-transsexual",
   "metadata": {
    "id": "oriental-transsexual",
    "jp-MarkdownHeadingCollapsed": true,
    "slideshow": {
     "slide_type": "slide"
    },
    "tags": []
   },
   "source": [
    "## Create an alias for a library module when importing it to shorten programs.\n",
    "---\n",
    "\n"
   ]
  },
  {
   "cell_type": "markdown",
   "id": "43ee8a76",
   "metadata": {
    "slideshow": {
     "slide_type": "fragment"
    }
   },
   "source": [
    "- Use `import ... as ...` to give a library a short *alias* while importing it."
   ]
  },
  {
   "cell_type": "markdown",
   "id": "eb7bb252",
   "metadata": {
    "slideshow": {
     "slide_type": "fragment"
    }
   },
   "source": [
    "- Then refer to items in the library using that shortened name."
   ]
  },
  {
   "cell_type": "code",
   "execution_count": 11,
   "id": "atomic-afternoon",
   "metadata": {
    "id": "atomic-afternoon",
    "scrolled": true,
    "slideshow": {
     "slide_type": "-"
    },
    "tags": []
   },
   "outputs": [
    {
     "name": "stdout",
     "output_type": "stream",
     "text": [
      "3.141592653589793\n"
     ]
    }
   ],
   "source": [
    "import math as m\n",
    "\n",
    "print(m.pi)"
   ]
  },
  {
   "cell_type": "markdown",
   "id": "ba0db71d",
   "metadata": {
    "slideshow": {
     "slide_type": "fragment"
    }
   },
   "source": [
    "- Commonly used for libraries that are frequently used or have long names.\n",
    "  - E.g., the `matplotlib` plotting library is often aliased as `mpl`."
   ]
  },
  {
   "cell_type": "markdown",
   "id": "9c159bb8",
   "metadata": {
    "slideshow": {
     "slide_type": "fragment"
    }
   },
   "source": [
    "- But can make programs harder to understand,\n",
    "  since readers must learn your program's aliases."
   ]
  },
  {
   "cell_type": "markdown",
   "id": "pTTOSGfZRIY_",
   "metadata": {
    "id": "pTTOSGfZRIY_",
    "slideshow": {
     "slide_type": "slide"
    }
   },
   "source": [
    "## <p style=\"background-color: #f5df18; padding: 10px;\"> 🛑 Exploring the Math Module </p>\n",
    "\n",
    "---\n",
    "\n",
    "1. What function from the `math` module can you use to calculate a square root\n",
    "  *without* using `sqrt`?\n",
    "2. Since the library contains this function, why does `sqrt` exist?"
   ]
  },
  {
   "cell_type": "markdown",
   "id": "044ce851",
   "metadata": {
    "id": "gGsU55CWQEMa",
    "slideshow": {
     "slide_type": "-"
    }
   },
   "source": [
    "## Solution\n",
    "\n",
    "1. Using `help(math)` we see that we've got `pow(x,y)` in addition to `sqrt(x)`,\n",
    "  so we could use `pow(x, 0.5)` to find a square root.\n",
    "\n",
    "2. The `sqrt(x)` function is arguably more readable than `pow(x, 0.5)` when\n",
    "  implementing equations. Readability is a cornerstone of good programming, so it\n",
    "  makes sense to provide a special function for this specific common case.\n",
    "  \n",
    "  Also, the design of Python's `math` library has its origin in the C standard,\n",
    "  which includes both `sqrt(x)` and `pow(x,y)`, so a little bit of the history\n",
    "  of programming is showing in Python's function names.\n",
    "  \n",
    "  "
   ]
  },
  {
   "cell_type": "markdown",
   "id": "jDJ9_x3m8b8X",
   "metadata": {
    "id": "jDJ9_x3m8b8X",
    "slideshow": {
     "slide_type": "slide"
    }
   },
   "source": [
    "## <p style=\"background-color: #f5df18; padding: 10px;\"> 🛑 Locating the Right Module </p>\n",
    "\n",
    "---\n",
    "\n",
    "You want to select a random character from a string:\n",
    "\n",
    "```python\n",
    "bases = 'ACTTGCTTGAC'\n",
    "```\n",
    "\n",
    "1. Which [standard library](https://docs.python.org/3/library/) module could help you?\n",
    "2. Which function would you select from that module? Are there alternatives?\n",
    "3. Try to write a program that uses the function."
   ]
  },
  {
   "cell_type": "markdown",
   "id": "4e4dcf2f",
   "metadata": {
    "slideshow": {
     "slide_type": "-"
    }
   },
   "source": [
    "The [random module](https://docs.python.org/3/library/random.html) seems like it could help.\n",
    "\n",
    "The string has 11 characters, each having a positional index from 0 to 10.\n",
    "You could use the [`random.randrange`](https://docs.python.org/3/library/random.html#random.randrange)\n",
    "or [`random.randint`](https://docs.python.org/3/library/random.html#random.randint) functions\n",
    "to get a random integer between 0 and 10, and then select the `bases` character at that index:\n",
    "\n",
    "```python\n",
    "from random import randrange\n",
    "\n",
    "random_index = randrange(len(bases))\n",
    "print(bases[random_index])\n",
    "```\n",
    "\n",
    "or more compactly:\n",
    "\n",
    "```python\n",
    "from random import randrange\n",
    "\n",
    "print(bases[randrange(len(bases))])\n",
    "```\n",
    "\n",
    "Perhaps you found the [`random.sample`](https://docs.python.org/3/library/random.html#random.sample) function?\n",
    "It allows for slightly less typing but might be a bit harder to understand just by reading:\n",
    "\n",
    "```python\n",
    "from random import sample\n",
    "\n",
    "print(sample(bases, 1)[0])\n",
    "```\n",
    "\n",
    "Note that this function returns a list of values. We will learn about\n",
    "lists in [episode 11](11-lists.md).\n",
    "\n",
    "The simplest and shortest solution is the [`random.choice`](https://docs.python.org/3/library/random.html#random.choice)\n",
    "function that does exactly what we want:\n",
    "\n",
    "```python\n",
    "from random import choice\n",
    "\n",
    "print(choice(bases))\n",
    "```\n"
   ]
  },
  {
   "cell_type": "markdown",
   "id": "sm0UZGqk8oqs",
   "metadata": {
    "id": "sm0UZGqk8oqs",
    "slideshow": {
     "slide_type": "slide"
    }
   },
   "source": [
    "## <p style=\"background-color: #f5df18; padding: 10px;\"> 🛑 Jigsaw Puzzle (Parson's Problem) Programming Example </p>\n",
    "---\n",
    "\n",
    "Rearrange the following statements so that a random\n",
    "DNA base is printed and its index in the string.\n",
    "Not all statements may be needed.  Feel free to use/add\n",
    "intermediate variables.\n",
    "\n",
    "```python\n",
    "bases=\"ACTTGCTTGAC\"\n",
    "import math\n",
    "import random\n",
    "___ = random.randrange(n_bases)\n",
    "___ = len(bases)\n",
    "print(\"random base \", bases[___], \"base index\", ___)\n",
    "```"
   ]
  },
  {
   "cell_type": "markdown",
   "id": "4e43a3f1",
   "metadata": {
    "id": "bbB11nRP8m-R",
    "slideshow": {
     "slide_type": "-"
    }
   },
   "source": [
    "\n",
    "## Solution\n",
    "\n",
    "```python\n",
    "import math \n",
    "import random\n",
    "bases = \"ACTTGCTTGAC\" \n",
    "n_bases = len(bases)\n",
    "idx = random.randrange(n_bases)\n",
    "print(\"random base\", bases[idx], \"base index\", idx)\n",
    "```"
   ]
  },
  {
   "cell_type": "markdown",
   "id": "Vwu5plPm85nq",
   "metadata": {
    "id": "Vwu5plPm85nq",
    "slideshow": {
     "slide_type": "slide"
    }
   },
   "source": [
    "## <p style=\"background-color: #f5df18; padding: 10px;\"> 🛑 When Is Help Available? </p>\n",
    "---\n",
    "\n",
    "When a colleague of yours types `help(math)`,\n",
    "Python reports an error:\n",
    "\n",
    "```error\n",
    "NameError: name 'math' is not defined\n",
    "```\n",
    "\n",
    "What has your colleague forgotten to do?"
   ]
  },
  {
   "cell_type": "markdown",
   "id": "18db0b36",
   "metadata": {
    "id": "63219e21",
    "slideshow": {
     "slide_type": "-"
    }
   },
   "source": [
    "\n",
    "## Solution\n",
    "\n",
    "Importing the math module (`import math`)"
   ]
  },
  {
   "cell_type": "markdown",
   "id": "62443d40",
   "metadata": {
    "slideshow": {
     "slide_type": "slide"
    }
   },
   "source": [
    "## <p style=\"background-color: #f5df18; padding: 10px;\"> 🛑 Importing With Aliases </p>\n",
    "---\n",
    "\n",
    "1. Fill in the blanks so that the program below prints `90.0`.\n",
    "2. Rewrite the program so that it uses `import` *without* `as`.\n",
    "3. Which form do you find easier to read?\n",
    "\n",
    "```python\n",
    "import math as m\n",
    "angle = ____.degrees(____.pi / 2)\n",
    "print(____)\n",
    "```"
   ]
  },
  {
   "cell_type": "markdown",
   "id": "55cb4df7",
   "metadata": {
    "slideshow": {
     "slide_type": "-"
    }
   },
   "source": [
    "## Solution\n",
    "\n",
    "```python\n",
    "import math as m\n",
    "angle = m.degrees(m.pi / 2)\n",
    "print(angle)\n",
    "```\n",
    "\n",
    "can be written as\n",
    "\n",
    "```python\n",
    "import math\n",
    "angle = math.degrees(math.pi / 2)\n",
    "print(angle)\n",
    "```\n",
    "\n",
    "Since you just wrote the code and are familiar with it, you might actually\n",
    "find the first version easier to read. But when trying to read a huge piece\n",
    "of code written by someone else, or when getting back to your own huge piece\n",
    "of code after several months, non-abbreviated names are often easier, except\n",
    "where there are clear abbreviation conventions.\n",
    "\n"
   ]
  },
  {
   "cell_type": "markdown",
   "id": "3ae5c751",
   "metadata": {
    "slideshow": {
     "slide_type": "slide"
    }
   },
   "source": [
    "## <p style=\"background-color: #f5df18; padding: 10px;\"> 🛑 There Are Many Ways To Import Libraries! </p>\n",
    "---\n",
    "\n",
    "Match the following print statements with the appropriate library calls.\n",
    "\n",
    "Print commands:\n",
    "\n",
    "1. `print(\"sin(pi/2) =\", sin(pi/2))`\n",
    "2. `print(\"sin(pi/2) =\", m.sin(m.pi/2))`\n",
    "3. `print(\"sin(pi/2) =\", math.sin(math.pi/2))`\n",
    "\n",
    "Library calls:\n",
    "\n",
    "1. `from math import sin, pi`\n",
    "2. `import math`\n",
    "3. `import math as m`\n",
    "4. `from math import *`"
   ]
  },
  {
   "cell_type": "markdown",
   "id": "74913b79",
   "metadata": {
    "slideshow": {
     "slide_type": "fragment"
    }
   },
   "source": [
    "## Solution\n",
    "\n",
    "1. Library calls 1 and 4. In order to directly refer to `sin` and `pi` without\n",
    "  the library name as prefix, you need to use the `from ... import ...`\n",
    "  statement. Whereas library call 1 specifically imports the two functions\n",
    "  `sin` and `pi`, library call 4 imports all functions in the `math` module.\n",
    "2. Library call 3. Here `sin` and `pi` are referred to with a shortened library\n",
    "  name `m` instead of `math`. Library call 3 does exactly that using the\n",
    "  `import ... as ...` syntax - it creates an alias for `math` in the form of\n",
    "  the shortened name `m`.\n",
    "3. Library call 2. Here `sin` and `pi` are referred to with the regular library\n",
    "  name `math`, so the regular `import ...` call suffices.\n",
    "\n",
    "**Note:** although library call 4 works, importing all names from a module using a wildcard\n",
    "import is [not recommended][pep8-imports] as it makes it unclear which names from the module\n",
    "are used in the code. In general it is best to make your imports as specific as possible and to\n",
    "only import what your code uses. In library call 1, the `import` statement explicitly tells us\n",
    "that the `sin` function is imported from the `math` module, but library call 4 does not\n",
    "convey this information.\n"
   ]
  },
  {
   "cell_type": "markdown",
   "id": "c4aed3e2",
   "metadata": {
    "slideshow": {
     "slide_type": "slide"
    }
   },
   "source": [
    "## <p style=\"background-color: #f5df18; padding: 10px;\"> 🛑 Importing Specific Items </p>\n",
    "---\n",
    "\n",
    "1. Fill in the blanks so that the program below prints `90.0`.\n",
    "2. Do you find this version easier to read than preceding ones?\n",
    "3. Why *wouldn't* programmers always use this form of `import`?\n",
    "\n",
    "```python\n",
    "____ math import ____, ____\n",
    "angle = degrees(pi / 2)\n",
    "print(angle)\n",
    "```"
   ]
  },
  {
   "cell_type": "markdown",
   "id": "436280aa",
   "metadata": {
    "slideshow": {
     "slide_type": "-"
    }
   },
   "source": [
    "## Solution\n",
    "\n",
    "```python\n",
    "from math import degrees, pi\n",
    "angle = degrees(pi / 2)\n",
    "print(angle)\n",
    "```\n",
    "\n",
    "Most likely you find this version easier to read since it's less dense.\n",
    "The main reason not to use this form of import is to avoid name clashes.\n",
    "For instance, you wouldn't import `degrees` this way if you also wanted to\n",
    "use the name `degrees` for a variable or function of your own. Or if you\n",
    "were to also import a function named `degrees` from another library.\n",
    "\n",
    "\n"
   ]
  },
  {
   "cell_type": "markdown",
   "id": "1dcace28",
   "metadata": {
    "slideshow": {
     "slide_type": "slide"
    }
   },
   "source": [
    "## <p style=\"background-color: #f5df18; padding: 10px;\"> 🛑 Reading Error Messages </p>\n",
    "---\n",
    "\n",
    "\n",
    "1. Read the code below and try to identify what the errors are without running it.\n",
    "2. Run the code, and read the error message. What type of error is it?\n",
    "\n",
    "```python\n",
    "from math import log\n",
    "log(0)\n",
    "```\n"
   ]
  },
  {
   "cell_type": "markdown",
   "id": "7c51aaba",
   "metadata": {
    "slideshow": {
     "slide_type": "-"
    }
   },
   "source": [
    "## Solution\n",
    "\n",
    "```output\n",
    "---------------------------------------------------------------------------\n",
    "ValueError                                Traceback (most recent call last)\n",
    "<ipython-input-1-d72e1d780bab> in <module>\n",
    "      1 from math import log\n",
    "----> 2 log(0)\n",
    "\n",
    "ValueError: math domain error\n",
    "```\n",
    "\n",
    "1. The logarithm of `x` is only defined for `x > 0`, so 0 is outside the\n",
    "  domain of the function.\n",
    "2. You get an error of type `ValueError`, indicating that the function\n",
    "  received an inappropriate argument value. The additional message\n",
    "  \"math domain error\" makes it clearer what the problem is.\n",
    "  \n",
    "  \n",
    "  "
   ]
  },
  {
   "cell_type": "markdown",
   "id": "c3xyuFI9k7XT",
   "metadata": {
    "id": "c3xyuFI9k7XT",
    "slideshow": {
     "slide_type": "slide"
    }
   },
   "source": [
    "# <p style=\"background-color: #f5df18; padding: 10px;\"> 🗝️ Key points</p>\n",
    "---\n",
    "\n",
    "- Most of the power of a programming language is in its libraries.\n",
    "- A program must import a library module in order to use it.\n",
    "- Use `help` to learn about the contents of a library module.\n",
    "- Import specific items from a library to shorten programs.\n",
    "- Create an alias for a library when importing it to shorten programs.\n"
   ]
  }
 ],
 "metadata": {
  "celltoolbar": "Slideshow",
  "colab": {
   "provenance": []
  },
  "kernelspec": {
   "display_name": "Python 3 (ipykernel)",
   "language": "python",
   "name": "python3"
  },
  "language_info": {
   "codemirror_mode": {
    "name": "ipython",
    "version": 3
   },
   "file_extension": ".py",
   "mimetype": "text/x-python",
   "name": "python",
   "nbconvert_exporter": "python",
   "pygments_lexer": "ipython3",
   "version": "3.11.3"
  },
  "toc-showcode": true
 },
 "nbformat": 4,
 "nbformat_minor": 5
}
