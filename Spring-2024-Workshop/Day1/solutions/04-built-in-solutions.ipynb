{
 "cells": [
  {
   "cell_type": "markdown",
   "id": "labeled-firewall",
   "metadata": {
    "id": "labeled-firewall",
    "slideshow": {
     "slide_type": "slide"
    }
   },
   "source": [
    "# <p style=\"background-color: #f5df18; padding: 10px;\">Programming & Plotting in Python | **Built-in Functions and Help** </p>\n"
   ]
  },
  {
   "cell_type": "markdown",
   "id": "68add23d",
   "metadata": {
    "slideshow": {
     "slide_type": "slide"
    }
   },
   "source": [
    "<div style=\"display: flex;\">\n",
    "    <div style=\"flex: 1; margin-right: 20px;\">\n",
    "        <h2>Questions</h2>\n",
    "        <ul>\n",
    "            <li>How can I use built-in functions?</li>\n",
    "    <li>How can I find out what they do?</li>\n",
    "    <li>What kind of errors can occur in programs?</li>\n",
    "        </ul>\n",
    "    </div>\n",
    "    <div style=\"flex: 1;\">\n",
    "        <h2>Learning Objectives</h2>\n",
    "        <ul>\n",
    "            <li>Explain the purpose of functions.</li>\n",
    "    <li>Correctly call built-in Python functions.</li>\n",
    "    <li>Correctly nest calls to built-in functions.</li>\n",
    "    <li>Use help to display documentation for built-in functions.</li>\n",
    "    <li>Correctly describe situations in which SyntaxError and NameError occur.</li>\n",
    "        </ul>\n",
    "    </div>\n",
    "</div>"
   ]
  },
  {
   "cell_type": "markdown",
   "id": "provincial-bruce",
   "metadata": {
    "id": "provincial-bruce",
    "slideshow": {
     "slide_type": "slide"
    },
    "tags": []
   },
   "source": [
    "\n",
    "## Use comments to add documentation to programs.\n",
    "---"
   ]
  },
  {
   "cell_type": "code",
   "execution_count": 27,
   "id": "359b284e",
   "metadata": {
    "slideshow": {
     "slide_type": "-"
    }
   },
   "outputs": [],
   "source": [
    "# this line is not executed by Python\n",
    "\n",
    "name = 'Tae' # this is also not  \n"
   ]
  },
  {
   "cell_type": "markdown",
   "id": "HeZYJOpw7Tmp",
   "metadata": {
    "id": "HeZYJOpw7Tmp",
    "slideshow": {
     "slide_type": "slide"
    }
   },
   "source": [
    "## A function may take zero or more arguments.\n",
    "---\n",
    "\n",
    "- We have seen some functions already --- now let's take a closer look.\n"
   ]
  },
  {
   "cell_type": "markdown",
   "id": "b50de823",
   "metadata": {
    "slideshow": {
     "slide_type": "fragment"
    }
   },
   "source": [
    "- An *argument* is a value passed into a function.\n",
    "\n"
   ]
  },
  {
   "cell_type": "markdown",
   "id": "0ef1d8db",
   "metadata": {
    "slideshow": {
     "slide_type": "fragment"
    }
   },
   "source": [
    "- `len` takes exactly one.\n"
   ]
  },
  {
   "cell_type": "markdown",
   "id": "b8a12e7d",
   "metadata": {
    "slideshow": {
     "slide_type": "fragment"
    }
   },
   "source": [
    "- `int`, `str`, and `float` create a new value from an existing one.\n"
   ]
  },
  {
   "cell_type": "markdown",
   "id": "fd3fdd95",
   "metadata": {
    "slideshow": {
     "slide_type": "fragment"
    }
   },
   "source": [
    "- `print` takes zero or more.\n"
   ]
  },
  {
   "cell_type": "markdown",
   "id": "d201284f",
   "metadata": {
    "slideshow": {
     "slide_type": "fragment"
    }
   },
   "source": [
    "- `print` with no arguments prints a blank line.\n",
    "  - Must always use parentheses, even if they're empty,\n",
    "    so that Python knows a function is being called."
   ]
  },
  {
   "cell_type": "code",
   "execution_count": 28,
   "id": "motivated-manufacturer",
   "metadata": {
    "id": "motivated-manufacturer",
    "scrolled": true,
    "slideshow": {
     "slide_type": "-"
    },
    "tags": []
   },
   "outputs": [
    {
     "name": "stdout",
     "output_type": "stream",
     "text": [
      "before\n",
      "\n",
      "after\n"
     ]
    }
   ],
   "source": [
    "print('before')\n",
    "print()\n",
    "print('after')"
   ]
  },
  {
   "cell_type": "markdown",
   "id": "healthy-subdivision",
   "metadata": {
    "id": "healthy-subdivision",
    "slideshow": {
     "slide_type": "slide"
    }
   },
   "source": [
    "## Every function returns something.\n",
    "---\n",
    "\n",
    "- Every function call produces some result.\n",
    "- If the function doesn't have a useful result to return,\n",
    "  it usually returns the special value `None`. `None` is a Python\n",
    "  object that stands in anytime there is no value."
   ]
  },
  {
   "cell_type": "code",
   "execution_count": 29,
   "id": "XMxCM1M07a9P",
   "metadata": {
    "id": "XMxCM1M07a9P",
    "slideshow": {
     "slide_type": "-"
    }
   },
   "outputs": [
    {
     "name": "stdout",
     "output_type": "stream",
     "text": [
      "example\n",
      "result of print is None\n"
     ]
    }
   ],
   "source": [
    "results = print('example')\n",
    "\n",
    "print('result of print is', results)"
   ]
  },
  {
   "cell_type": "markdown",
   "id": "pressed-commerce",
   "metadata": {
    "id": "pressed-commerce",
    "slideshow": {
     "slide_type": "slide"
    },
    "tags": []
   },
   "source": [
    "## Commonly-used built-in functions include `max`, `min`, and `round`.\n",
    "---\n",
    "\n",
    "- Use `max` to find the largest value of one or more values.\n",
    "- Use `min` to find the smallest.\n",
    "- Both work on character strings as well as numbers.\n",
    "  - \"Larger\" and \"smaller\" use (0-9, A-Z, a-z) to compare letters.\n",
    "  \n",
    "* Note - the `min` and `max` functions compare the [Unicode](https://en.wikipedia.org/wiki/List_of_Unicode_characters#Basic_Latin) values of the inputs to determine which items are smaller and larger, respectively."
   ]
  },
  {
   "cell_type": "code",
   "execution_count": 31,
   "id": "4375a64c",
   "metadata": {},
   "outputs": [
    {
     "name": "stdout",
     "output_type": "stream",
     "text": [
      "1\n",
      "a\n"
     ]
    }
   ],
   "source": [
    "print(min(1, 2, 3))\n",
    "print(max('0', 'A', 'a'))"
   ]
  },
  {
   "cell_type": "markdown",
   "id": "DMO1E52P7icM",
   "metadata": {
    "id": "DMO1E52P7icM",
    "slideshow": {
     "slide_type": "slide"
    }
   },
   "source": [
    "## Functions may only work for certain (combinations of) arguments.\n",
    "---\n",
    "\n",
    "- `max` and `min` must be given at least one argument.\n",
    "  - \"Largest of the empty set\" is a meaningless question.\n",
    "- And they must be given things that can meaningfully be compared."
   ]
  },
  {
   "cell_type": "code",
   "execution_count": null,
   "id": "PzhR_CFQ721c",
   "metadata": {
    "id": "PzhR_CFQ721c",
    "slideshow": {
     "slide_type": "-"
    }
   },
   "outputs": [],
   "source": []
  },
  {
   "cell_type": "markdown",
   "id": "oriental-transsexual",
   "metadata": {
    "id": "oriental-transsexual",
    "jp-MarkdownHeadingCollapsed": true,
    "slideshow": {
     "slide_type": "slide"
    },
    "tags": []
   },
   "source": [
    "## Functions may have default values for some arguments.\n",
    "---\n",
    "\n",
    "- `round` will round off a floating-point number.\n",
    "- By default, rounds to zero decimal places."
   ]
  },
  {
   "cell_type": "code",
   "execution_count": 33,
   "id": "atomic-afternoon",
   "metadata": {
    "id": "atomic-afternoon",
    "scrolled": true,
    "slideshow": {
     "slide_type": "-"
    },
    "tags": []
   },
   "outputs": [
    {
     "data": {
      "text/plain": [
       "3"
      ]
     },
     "execution_count": 33,
     "metadata": {},
     "output_type": "execute_result"
    }
   ],
   "source": [
    "round(3.14159)"
   ]
  },
  {
   "cell_type": "markdown",
   "id": "870a9aaa",
   "metadata": {
    "slideshow": {
     "slide_type": "slide"
    }
   },
   "source": [
    "- We can specify the number of decimal places we want."
   ]
  },
  {
   "cell_type": "code",
   "execution_count": 35,
   "id": "ff977c26",
   "metadata": {
    "slideshow": {
     "slide_type": "-"
    }
   },
   "outputs": [
    {
     "name": "stdout",
     "output_type": "stream",
     "text": [
      "3.14\n"
     ]
    }
   ],
   "source": [
    "print(round(3.14159, 2))"
   ]
  },
  {
   "cell_type": "markdown",
   "id": "stylish-picking",
   "metadata": {
    "id": "stylish-picking",
    "slideshow": {
     "slide_type": "slide"
    }
   },
   "source": [
    "## Functions attached to objects are called methods\n",
    "---\n",
    "\n",
    "- Functions take another form that will be common in the pandas episodes.\n",
    "- Methods have parentheses like functions, but come after the variable.\n",
    "- Some methods are used for internal Python operations, and are marked with double underlines."
   ]
  },
  {
   "cell_type": "code",
   "execution_count": 36,
   "id": "668c7e40",
   "metadata": {
    "id": "IjrxgFpO8Eof",
    "slideshow": {
     "slide_type": "slide"
    }
   },
   "outputs": [],
   "source": [
    "my_string = 'Hello world!'  # creation of a string object "
   ]
  },
  {
   "cell_type": "code",
   "execution_count": 57,
   "id": "a0e6ff86",
   "metadata": {},
   "outputs": [
    {
     "data": {
      "text/plain": [
       "['__add__',\n",
       " '__class__',\n",
       " '__contains__',\n",
       " '__delattr__',\n",
       " '__dir__',\n",
       " '__doc__',\n",
       " '__eq__',\n",
       " '__format__',\n",
       " '__ge__',\n",
       " '__getattribute__',\n",
       " '__getitem__',\n",
       " '__getnewargs__',\n",
       " '__getstate__',\n",
       " '__gt__',\n",
       " '__hash__',\n",
       " '__init__',\n",
       " '__init_subclass__',\n",
       " '__iter__',\n",
       " '__le__',\n",
       " '__len__',\n",
       " '__lt__',\n",
       " '__mod__',\n",
       " '__mul__',\n",
       " '__ne__',\n",
       " '__new__',\n",
       " '__reduce__',\n",
       " '__reduce_ex__',\n",
       " '__repr__',\n",
       " '__rmod__',\n",
       " '__rmul__',\n",
       " '__setattr__',\n",
       " '__sizeof__',\n",
       " '__str__',\n",
       " '__subclasshook__',\n",
       " 'capitalize',\n",
       " 'casefold',\n",
       " 'center',\n",
       " 'count',\n",
       " 'encode',\n",
       " 'endswith',\n",
       " 'expandtabs',\n",
       " 'find',\n",
       " 'format',\n",
       " 'format_map',\n",
       " 'index',\n",
       " 'isalnum',\n",
       " 'isalpha',\n",
       " 'isascii',\n",
       " 'isdecimal',\n",
       " 'isdigit',\n",
       " 'isidentifier',\n",
       " 'islower',\n",
       " 'isnumeric',\n",
       " 'isprintable',\n",
       " 'isspace',\n",
       " 'istitle',\n",
       " 'isupper',\n",
       " 'join',\n",
       " 'ljust',\n",
       " 'lower',\n",
       " 'lstrip',\n",
       " 'maketrans',\n",
       " 'partition',\n",
       " 'removeprefix',\n",
       " 'removesuffix',\n",
       " 'replace',\n",
       " 'rfind',\n",
       " 'rindex',\n",
       " 'rjust',\n",
       " 'rpartition',\n",
       " 'rsplit',\n",
       " 'rstrip',\n",
       " 'split',\n",
       " 'splitlines',\n",
       " 'startswith',\n",
       " 'strip',\n",
       " 'swapcase',\n",
       " 'title',\n",
       " 'translate',\n",
       " 'upper',\n",
       " 'zfill']"
      ]
     },
     "execution_count": 57,
     "metadata": {},
     "output_type": "execute_result"
    }
   ],
   "source": [
    "## we can use `dir()` to list all of the methods avaiable to 'my_string'\n",
    "\n",
    "## this are methods that can modify the 'my_string'\n",
    "\n",
    "dir(my_string)"
   ]
  },
  {
   "cell_type": "code",
   "execution_count": 37,
   "id": "fbaa6426",
   "metadata": {
    "slideshow": {
     "slide_type": "fragment"
    }
   },
   "outputs": [
    {
     "name": "stdout",
     "output_type": "stream",
     "text": [
      "12\n"
     ]
    }
   ],
   "source": [
    "print(len(my_string))       # the len function takes a string as an argument and returns the length of the string"
   ]
  },
  {
   "cell_type": "code",
   "execution_count": 38,
   "id": "cda13def",
   "metadata": {
    "slideshow": {
     "slide_type": "fragment"
    }
   },
   "outputs": [
    {
     "name": "stdout",
     "output_type": "stream",
     "text": [
      "hELLO WORLD!\n"
     ]
    }
   ],
   "source": [
    "print(my_string.swapcase()) # calling the swapcase method on the my_string object"
   ]
  },
  {
   "cell_type": "code",
   "execution_count": 39,
   "id": "416205c2",
   "metadata": {
    "slideshow": {
     "slide_type": "fragment"
    }
   },
   "outputs": [
    {
     "name": "stdout",
     "output_type": "stream",
     "text": [
      "12\n"
     ]
    }
   ],
   "source": [
    "\n",
    "print(my_string.__len__())  # calling the internal __len__ method on the my_string object, used by len(my_string)"
   ]
  },
  {
   "cell_type": "markdown",
   "id": "NhqbN3BH8IJf",
   "metadata": {
    "id": "NhqbN3BH8IJf",
    "slideshow": {
     "slide_type": "slide"
    }
   },
   "source": [
    "- You might even see them chained together.  They operate left to right."
   ]
  },
  {
   "cell_type": "code",
   "execution_count": 40,
   "id": "_4LSzMRr8KoF",
   "metadata": {
    "id": "_4LSzMRr8KoF",
    "slideshow": {
     "slide_type": "fragment"
    }
   },
   "outputs": [
    {
     "name": "stdout",
     "output_type": "stream",
     "text": [
      "False\n"
     ]
    }
   ],
   "source": [
    "print(my_string.isupper())          # Not all the letters are uppercase"
   ]
  },
  {
   "cell_type": "code",
   "execution_count": 41,
   "id": "33dad07d",
   "metadata": {
    "slideshow": {
     "slide_type": "fragment"
    }
   },
   "outputs": [
    {
     "name": "stdout",
     "output_type": "stream",
     "text": [
      "HELLO WORLD!\n"
     ]
    }
   ],
   "source": [
    "print(my_string.upper())            # This capitalizes all the letters"
   ]
  },
  {
   "cell_type": "code",
   "execution_count": 42,
   "id": "dbb3b994",
   "metadata": {
    "slideshow": {
     "slide_type": "fragment"
    }
   },
   "outputs": [
    {
     "name": "stdout",
     "output_type": "stream",
     "text": [
      "True\n"
     ]
    }
   ],
   "source": [
    "print(my_string.upper().isupper())  # Now all the letters are uppercase"
   ]
  },
  {
   "cell_type": "markdown",
   "id": "aFOAV7Uc8Oeb",
   "metadata": {
    "id": "aFOAV7Uc8Oeb",
    "slideshow": {
     "slide_type": "slide"
    }
   },
   "source": [
    "## Use the built-in function `help` to get help for a function.\n",
    "---\n",
    "- Every built-in function has online documentation.\n"
   ]
  },
  {
   "cell_type": "code",
   "execution_count": 44,
   "id": "7556d666",
   "metadata": {
    "slideshow": {
     "slide_type": "-"
    }
   },
   "outputs": [
    {
     "name": "stdout",
     "output_type": "stream",
     "text": [
      "Help on built-in function round in module builtins:\n",
      "\n",
      "round(number, ndigits=None)\n",
      "    Round a number to a given precision in decimal digits.\n",
      "    \n",
      "    The return value is an integer if ndigits is omitted or None.  Otherwise\n",
      "    the return value has the same type as the number.  ndigits may be negative.\n",
      "\n"
     ]
    }
   ],
   "source": [
    "help(round)"
   ]
  },
  {
   "cell_type": "markdown",
   "id": "1c9a2b2b",
   "metadata": {
    "slideshow": {
     "slide_type": "slide"
    }
   },
   "source": [
    "## The Jupyter Notebook has two ways to get help.\n",
    "---\n",
    "\n",
    "- Option 1: Place the cursor near where the function is invoked in a cell\n",
    "  (i.e., the function name or its parameters),\n",
    "  - Hold down <kbd>Shift</kbd>, and press <kbd>Tab</kbd>.\n",
    "  - Do this several times to expand the information returned.\n",
    "- Option 2: Type the function name in a cell with a question mark after it. Then run the cell."
   ]
  },
  {
   "cell_type": "code",
   "execution_count": 46,
   "id": "fa891af1",
   "metadata": {
    "slideshow": {
     "slide_type": "-"
    }
   },
   "outputs": [],
   "source": [
    "max?"
   ]
  },
  {
   "cell_type": "markdown",
   "id": "39d16001",
   "metadata": {
    "slideshow": {
     "slide_type": "slide"
    }
   },
   "source": [
    "## Python reports a syntax error when it can't understand the source of a program.\n",
    "---\n",
    "\n",
    "- Won't even try to run the program if it can't be parsed."
   ]
  },
  {
   "cell_type": "code",
   "execution_count": 47,
   "id": "1c2c05ec",
   "metadata": {
    "slideshow": {
     "slide_type": "-"
    }
   },
   "outputs": [
    {
     "ename": "SyntaxError",
     "evalue": "unterminated string literal (detected at line 2) (3189986005.py, line 2)",
     "output_type": "error",
     "traceback": [
      "\u001b[0;36m  Cell \u001b[0;32mIn[47], line 2\u001b[0;36m\u001b[0m\n\u001b[0;31m    name = 'Paco\u001b[0m\n\u001b[0m           ^\u001b[0m\n\u001b[0;31mSyntaxError\u001b[0m\u001b[0;31m:\u001b[0m unterminated string literal (detected at line 2)\n"
     ]
    }
   ],
   "source": [
    "# Forgot to close the quote marks around the string.\n",
    "name = 'Paco"
   ]
  },
  {
   "cell_type": "code",
   "execution_count": 48,
   "id": "dc3eaa19",
   "metadata": {
    "slideshow": {
     "slide_type": "slide"
    }
   },
   "outputs": [
    {
     "ename": "SyntaxError",
     "evalue": "invalid syntax (323819061.py, line 2)",
     "output_type": "error",
     "traceback": [
      "\u001b[0;36m  Cell \u001b[0;32mIn[48], line 2\u001b[0;36m\u001b[0m\n\u001b[0;31m    age = = 42\u001b[0m\n\u001b[0m          ^\u001b[0m\n\u001b[0;31mSyntaxError\u001b[0m\u001b[0;31m:\u001b[0m invalid syntax\n"
     ]
    }
   ],
   "source": [
    "# An extra '=' in the assignment.\n",
    "age = = 42"
   ]
  },
  {
   "cell_type": "markdown",
   "id": "9d394ee0",
   "metadata": {
    "slideshow": {
     "slide_type": "slide"
    }
   },
   "source": [
    "* Looking more closely at the error message:"
   ]
  },
  {
   "cell_type": "code",
   "execution_count": 50,
   "id": "b2cffb72",
   "metadata": {
    "slideshow": {
     "slide_type": "-"
    }
   },
   "outputs": [
    {
     "name": "stdout",
     "output_type": "stream",
     "text": [
      "hello world\n"
     ]
    }
   ],
   "source": [
    "print(\"hello world\")"
   ]
  },
  {
   "cell_type": "markdown",
   "id": "2a7ad9c9",
   "metadata": {
    "slideshow": {
     "slide_type": "slide"
    }
   },
   "source": [
    "##  Python reports a runtime error when something goes wrong while a program is executing.\n",
    "\n",
    "---\n"
   ]
  },
  {
   "cell_type": "code",
   "execution_count": 51,
   "id": "95f938bc",
   "metadata": {
    "slideshow": {
     "slide_type": "-"
    }
   },
   "outputs": [
    {
     "ename": "NameError",
     "evalue": "name 'aege' is not defined",
     "output_type": "error",
     "traceback": [
      "\u001b[0;31m---------------------------------------------------------------------------\u001b[0m",
      "\u001b[0;31mNameError\u001b[0m                                 Traceback (most recent call last)",
      "Cell \u001b[0;32mIn[51], line 2\u001b[0m\n\u001b[1;32m      1\u001b[0m age \u001b[38;5;241m=\u001b[39m \u001b[38;5;241m42\u001b[39m\n\u001b[0;32m----> 2\u001b[0m remaining \u001b[38;5;241m=\u001b[39m \u001b[38;5;241m100\u001b[39m \u001b[38;5;241m-\u001b[39m aege\n",
      "\u001b[0;31mNameError\u001b[0m: name 'aege' is not defined"
     ]
    }
   ],
   "source": [
    "age = 42\n",
    "remaining = 100 - aege # mis-spelled 'age'"
   ]
  },
  {
   "cell_type": "markdown",
   "id": "pTTOSGfZRIY_",
   "metadata": {
    "id": "pTTOSGfZRIY_",
    "slideshow": {
     "slide_type": "slide"
    }
   },
   "source": [
    "## <p style=\"background-color: #f5df18; padding: 10px;\"> 🛑 What Happens When </p>\n",
    "\n",
    "---\n",
    "\n",
    "1. Explain in simple terms the order of operations in the following program:\n",
    "  when does the addition happen, when does the subtraction happen,\n",
    "  when is each function called, etc.\n",
    "2. What is the final value of `radiance`?\n",
    "\n",
    "```python\n",
    "radiance = 1.0\n",
    "radiance = max(2.1, 2.0 + min(radiance, 1.1 * radiance - 0.5))\n",
    "```"
   ]
  },
  {
   "cell_type": "markdown",
   "id": "e4470e11",
   "metadata": {
    "id": "gGsU55CWQEMa",
    "slideshow": {
     "slide_type": "fragment"
    }
   },
   "source": [
    "## Solution\n",
    "\n",
    "1. Order of operations:\n",
    "  1. `1.1 * radiance = 1.1`\n",
    "  2. `1.1 - 0.5 = 0.6`\n",
    "  3. `min(radiance, 0.6) = 0.6`\n",
    "  4. `2.0 + 0.6 = 2.6`\n",
    "  5. `max(2.1, 2.6) = 2.6`\n",
    "2. At the end, `radiance = 2.6`\n",
    "  \n",
    "  \n"
   ]
  },
  {
   "cell_type": "markdown",
   "id": "jDJ9_x3m8b8X",
   "metadata": {
    "id": "jDJ9_x3m8b8X",
    "slideshow": {
     "slide_type": "slide"
    }
   },
   "source": [
    "## <p style=\"background-color: #f5df18; padding: 10px;\"> 🛑 Spot the Difference </p>\n",
    "\n",
    "---\n",
    "\n",
    "1. Predict what each of the `print` statements in the program below will print.\n",
    "2. Does `max(len(rich), poor)` run or produce an error message?\n",
    "  If it runs, does its result make any sense?\n",
    "\n",
    "```python\n",
    "easy_string = \"abc\"\n",
    "print(max(easy_string))\n",
    "rich = \"gold\"\n",
    "poor = \"tin\"\n",
    "print(max(rich, poor))\n",
    "print(max(len(rich), len(poor)))\n",
    "```"
   ]
  },
  {
   "cell_type": "markdown",
   "id": "89c2e205",
   "metadata": {
    "id": "4d33babe",
    "slideshow": {
     "slide_type": "-"
    }
   },
   "source": [
    "## Solution\n",
    "\n",
    "```python\n",
    "print(max(easy_string))\n",
    "```\n",
    "\n",
    "```output\n",
    "c\n",
    "```\n",
    "\n",
    "```python\n",
    "print(max(rich, poor))\n",
    "```\n",
    "\n",
    "```output\n",
    "tin\n",
    "```\n",
    "\n",
    "```python\n",
    "print(max(len(rich), len(poor)))\n",
    "```\n",
    "\n",
    "```output\n",
    "4\n",
    "```\n",
    "\n",
    "`max(len(rich), poor)` throws a TypeError. This turns into `max(4, 'tin')` and\n",
    "as we discussed earlier a string and integer cannot meaningfully be compared.\n",
    "\n",
    "```error \n",
    "TypeError                                 Traceback (most recent call last)\n",
    "<ipython-input-65-bc82ad05177a> in <module>\n",
    "----> 1 max(len(rich), poor)\n",
    "\n",
    "TypeError: '>' not supported between instances of 'str' and 'int'\n",
    "```\n"
   ]
  },
  {
   "cell_type": "markdown",
   "id": "sm0UZGqk8oqs",
   "metadata": {
    "id": "sm0UZGqk8oqs",
    "slideshow": {
     "slide_type": "slide"
    }
   },
   "source": [
    "## <p style=\"background-color: #f5df18; padding: 10px;\"> 🛑 Why Not? </p>\n",
    "---\n",
    "Why is it that `max` and `min` do not return `None` when they are called with no arguments?"
   ]
  },
  {
   "cell_type": "markdown",
   "id": "2b7eb39a",
   "metadata": {
    "id": "bbB11nRP8m-R",
    "slideshow": {
     "slide_type": "fragment"
    }
   },
   "source": [
    "## Solution\n",
    "\n",
    "`max` and `min` return TypeErrors in this case because the correct number of parameters\n",
    "was not supplied. If it just returned `None`, the error would be much harder to trace as it\n",
    "would likely be stored into a variable and used later in the program, only to likely throw\n",
    "a runtime error.\n",
    "\n",
    "\n"
   ]
  },
  {
   "cell_type": "markdown",
   "id": "Vwu5plPm85nq",
   "metadata": {
    "id": "Vwu5plPm85nq",
    "slideshow": {
     "slide_type": "slide"
    }
   },
   "source": [
    "## <p style=\"background-color: #f5df18; padding: 10px;\"> 🛑 Last Character of a String </p>\n",
    "---\n",
    "\n",
    "If Python starts counting from zero,\n",
    "and `len` returns the number of characters in a string,\n",
    "what index expression will get the last character in the string `name`?\n",
    "(Note: we will see a simpler way to do this in a later episode.)"
   ]
  },
  {
   "cell_type": "markdown",
   "id": "836ae882",
   "metadata": {
    "id": "63219e21",
    "slideshow": {
     "slide_type": "-"
    }
   },
   "source": [
    "## Solution\n",
    "\n",
    "`name[len(name) - 1]`"
   ]
  },
  {
   "cell_type": "markdown",
   "id": "yV3Rj-Ck9Fqa",
   "metadata": {
    "id": "yV3Rj-Ck9Fqa",
    "slideshow": {
     "slide_type": "slide"
    }
   },
   "source": [
    "## 🔔 **Explore the Python docs!** \n",
    "\n",
    "The [official Python documentation](https://docs.python.org/3/) is arguably the most complete\n",
    "source of information about the language. It is available in different languages and contains a lot of useful\n",
    "resources. The [Built-in Functions page](https://docs.python.org/3/library/functions.html) contains a catalogue of\n",
    "all of these functions, including the ones that we've covered in this lesson. Some of these are more advanced and\n",
    "unnecessary at the moment, but others are very simple and useful."
   ]
  },
  {
   "cell_type": "markdown",
   "id": "c3xyuFI9k7XT",
   "metadata": {
    "id": "c3xyuFI9k7XT",
    "slideshow": {
     "slide_type": "slide"
    }
   },
   "source": [
    "# <p style=\"background-color: #f5df18; padding: 10px;\"> 🗝️ Key points</p>\n",
    "---\n",
    "\n",
    "- Use comments to add documentation to programs.\n",
    "- A function may take zero or more arguments.\n",
    "- Commonly-used built-in functions include `max`, `min`, and `round`.\n",
    "- Functions may only work for certain (combinations of) arguments.\n",
    "- Functions may have default values for some arguments.\n",
    "- Use the built-in function `help` to get help for a function.\n",
    "- The Jupyter Notebook has two ways to get help.\n",
    "- Every function returns something.\n",
    "- Python reports a syntax error when it can't understand the source of a program.\n",
    "- Python reports a runtime error when something goes wrong while a program is executing.\n",
    "- Fix syntax errors by reading the source code, and runtime errors by tracing the program's execution.\n"
   ]
  }
 ],
 "metadata": {
  "celltoolbar": "Slideshow",
  "colab": {
   "provenance": []
  },
  "kernelspec": {
   "display_name": "Python 3 (ipykernel)",
   "language": "python",
   "name": "python3"
  },
  "language_info": {
   "codemirror_mode": {
    "name": "ipython",
    "version": 3
   },
   "file_extension": ".py",
   "mimetype": "text/x-python",
   "name": "python",
   "nbconvert_exporter": "python",
   "pygments_lexer": "ipython3",
   "version": "3.11.3"
  },
  "toc-showcode": true
 },
 "nbformat": 4,
 "nbformat_minor": 5
}
