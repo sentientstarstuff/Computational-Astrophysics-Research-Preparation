{
 "cells": [
  {
   "cell_type": "markdown",
   "id": "labeled-firewall",
   "metadata": {
    "id": "labeled-firewall",
    "slideshow": {
     "slide_type": "slide"
    }
   },
   "source": [
    "# <p style=\"background-color: #f5df18; padding: 10px;\">Programming & Plotting in Python | **Pandas DataFrames** </p>\n",
    "\n"
   ]
  },
  {
   "cell_type": "markdown",
   "id": "ce6cb223",
   "metadata": {
    "slideshow": {
     "slide_type": "slide"
    }
   },
   "source": [
    "<div style=\"display: flex;\">\n",
    "    <div style=\"flex: 1; margin-right: 20px;\">\n",
    "        <h2>Questions</h2>\n",
    "        <ul>\n",
    "            <li>How can I do statistical analysis of tabular data?</li>\n",
    "        </ul>\n",
    "    </div>\n",
    "    <div style=\"flex: 1;\">\n",
    "        <h2>Learning Objectives</h2>\n",
    "        <ul>\n",
    "            <li>Select individual values from a Pandas dataframe.</li>\n",
    "    <li>Select entire rows or entire columns from a dataframe.</li>\n",
    "    <li>Select a subset of both rows and columns from a dataframe in a single operation.</li>\n",
    "    <li>Select a subset of a dataframe by a single Boolean criterion.</li>\n",
    "        </ul>\n",
    "    </div>\n",
    "</div>"
   ]
  },
  {
   "cell_type": "markdown",
   "id": "provincial-bruce",
   "metadata": {
    "id": "provincial-bruce",
    "slideshow": {
     "slide_type": "slide"
    },
    "tags": []
   },
   "source": [
    "## Note about Pandas DataFrames/Series\n",
    "---\n",
    "\n",
    "A [DataFrame](https://pandas.pydata.org/pandas-docs/stable/generated/pandas.DataFrame.html) is a collection of [Series](https://pandas.pydata.org/pandas-docs/stable/generated/pandas.Series.html);\n",
    "The DataFrame is the way Pandas represents a table, and Series is the data-structure\n",
    "Pandas use to represent a column.\n",
    "\n",
    "Pandas is built on top of the [Numpy](https://www.numpy.org/) library, which in practice means that\n",
    "most of the methods defined for Numpy Arrays apply to Pandas Series/DataFrames.\n",
    "\n",
    "What makes Pandas so attractive is the powerful interface to access individual records\n",
    "of the table, proper handling of missing values, and relational-databases operations\n",
    "between DataFrames.\n"
   ]
  },
  {
   "cell_type": "markdown",
   "id": "f7d6d362",
   "metadata": {
    "slideshow": {
     "slide_type": "slide"
    }
   },
   "source": [
    "## Selecting values\n",
    "---\n",
    "\n",
    "To access a value at the position `[i,j]` of a DataFrame, we have two options, depending on\n",
    "what is the meaning of `i` in use.\n",
    "Remember that a DataFrame provides an *index* as a way to identify the rows of the table;\n",
    "a row, then, has a *position* inside the table as well as a *label*, which\n",
    "uniquely identifies its *entry* in the DataFrame."
   ]
  },
  {
   "cell_type": "markdown",
   "id": "65872ae9",
   "metadata": {
    "slideshow": {
     "slide_type": "slide"
    }
   },
   "source": [
    "## Use `DataFrame.iloc[..., ...]` to select values by their (entry) position\n",
    "---\n",
    "\n",
    "- Can specify location by numerical index analogously to 2D version of character selection in strings."
   ]
  },
  {
   "cell_type": "code",
   "execution_count": 2,
   "id": "adbe422a",
   "metadata": {
    "slideshow": {
     "slide_type": "-"
    }
   },
   "outputs": [
    {
     "name": "stdout",
     "output_type": "stream",
     "text": [
      "1601.056136\n"
     ]
    }
   ],
   "source": [
    "import pandas as pd\n",
    "data = pd.read_csv('data/gapminder_gdp_europe.csv', index_col='country')\n",
    "print(data.iloc[0, 0])"
   ]
  },
  {
   "cell_type": "markdown",
   "id": "a46fc760",
   "metadata": {
    "slideshow": {
     "slide_type": "slide"
    }
   },
   "source": [
    "## Use `DataFrame.loc[..., ...]` to select values by their (entry) label.\n",
    "---\n",
    "\n",
    "- Can specify location by row and/or column name."
   ]
  },
  {
   "cell_type": "code",
   "execution_count": 3,
   "id": "b02ac858",
   "metadata": {
    "slideshow": {
     "slide_type": "-"
    }
   },
   "outputs": [
    {
     "name": "stdout",
     "output_type": "stream",
     "text": [
      "1601.056136\n"
     ]
    }
   ],
   "source": [
    "print(data.loc[\"Albania\", \"gdpPercap_1952\"])"
   ]
  },
  {
   "cell_type": "markdown",
   "id": "2575c613",
   "metadata": {
    "slideshow": {
     "slide_type": "slide"
    }
   },
   "source": [
    "## Use `:` on its own to mean all columns or all rows.\n",
    "\n",
    "- Just like Python's usual slicing notation."
   ]
  },
  {
   "cell_type": "code",
   "execution_count": 4,
   "id": "f2d24628",
   "metadata": {
    "slideshow": {
     "slide_type": "-"
    }
   },
   "outputs": [
    {
     "name": "stdout",
     "output_type": "stream",
     "text": [
      "gdpPercap_1952    1601.056136\n",
      "gdpPercap_1957    1942.284244\n",
      "gdpPercap_1962    2312.888958\n",
      "gdpPercap_1967    2760.196931\n",
      "gdpPercap_1972    3313.422188\n",
      "gdpPercap_1977    3533.003910\n",
      "gdpPercap_1982    3630.880722\n",
      "gdpPercap_1987    3738.932735\n",
      "gdpPercap_1992    2497.437901\n",
      "gdpPercap_1997    3193.054604\n",
      "gdpPercap_2002    4604.211737\n",
      "gdpPercap_2007    5937.029526\n",
      "Name: Albania, dtype: float64\n"
     ]
    }
   ],
   "source": [
    "print(data.loc[\"Albania\", :])"
   ]
  },
  {
   "cell_type": "markdown",
   "id": "efbad403",
   "metadata": {
    "slideshow": {
     "slide_type": "slide"
    }
   },
   "source": [
    "- Would get the same result printing `data.loc[\"Albania\"]` (without a second index)."
   ]
  },
  {
   "cell_type": "code",
   "execution_count": 5,
   "id": "19964ad4",
   "metadata": {
    "slideshow": {
     "slide_type": "-"
    }
   },
   "outputs": [
    {
     "name": "stdout",
     "output_type": "stream",
     "text": [
      "country\n",
      "Albania                    1601.056136\n",
      "Austria                    6137.076492\n",
      "Belgium                    8343.105127\n",
      "Bosnia and Herzegovina      973.533195\n",
      "Bulgaria                   2444.286648\n",
      "Croatia                    3119.236520\n",
      "Czech Republic             6876.140250\n",
      "Denmark                    9692.385245\n",
      "Finland                    6424.519071\n",
      "France                     7029.809327\n",
      "Germany                    7144.114393\n",
      "Greece                     3530.690067\n",
      "Hungary                    5263.673816\n",
      "Iceland                    7267.688428\n",
      "Ireland                    5210.280328\n",
      "Italy                      4931.404155\n",
      "Montenegro                 2647.585601\n",
      "Netherlands                8941.571858\n",
      "Norway                    10095.421720\n",
      "Poland                     4029.329699\n",
      "Portugal                   3068.319867\n",
      "Romania                    3144.613186\n",
      "Serbia                     3581.459448\n",
      "Slovak Republic            5074.659104\n",
      "Slovenia                   4215.041741\n",
      "Spain                      3834.034742\n",
      "Sweden                     8527.844662\n",
      "Switzerland               14734.232750\n",
      "Turkey                     1969.100980\n",
      "United Kingdom             9979.508487\n",
      "Name: gdpPercap_1952, dtype: float64\n"
     ]
    }
   ],
   "source": [
    "print(data.loc[:, \"gdpPercap_1952\"])"
   ]
  },
  {
   "cell_type": "markdown",
   "id": "26dbd748",
   "metadata": {
    "slideshow": {
     "slide_type": "slide"
    }
   },
   "source": [
    "- Would get the same result printing `data[\"gdpPercap_1952\"]`\n",
    "- Also get the same result printing `data.gdpPercap_1952` (not recommended, because easily confused with `.` notation for methods)"
   ]
  },
  {
   "cell_type": "markdown",
   "id": "2a6e1abc",
   "metadata": {
    "slideshow": {
     "slide_type": "slide"
    }
   },
   "source": [
    "## Select multiple columns or rows using `DataFrame.loc` and a named slice.\n",
    "---"
   ]
  },
  {
   "cell_type": "code",
   "execution_count": null,
   "id": "dfeebdeb",
   "metadata": {
    "slideshow": {
     "slide_type": "-"
    }
   },
   "outputs": [],
   "source": [
    "print(data.loc[:, \"gdpPercap_1952\"])"
   ]
  },
  {
   "cell_type": "markdown",
   "id": "b15f1e98",
   "metadata": {
    "slideshow": {
     "slide_type": "slide"
    }
   },
   "source": [
    "In the above code, we discover that **slicing using `loc` is inclusive at both\n",
    "ends**, which differs from **slicing using `iloc`**, where slicing indicates\n",
    "everything up to but not including the final index.\n"
   ]
  },
  {
   "cell_type": "markdown",
   "id": "d1b006cb",
   "metadata": {
    "slideshow": {
     "slide_type": "slide"
    }
   },
   "source": [
    "## Result of slicing can be used in further operations.\n",
    "---\n",
    "\n",
    "- Usually don't just print a slice.\n",
    "- All the statistical operators that work on entire dataframes\n",
    "  work the same way on slices.\n",
    "- E.g., calculate max of a slice.\n"
   ]
  },
  {
   "cell_type": "code",
   "execution_count": null,
   "id": "bf44f262",
   "metadata": {
    "slideshow": {
     "slide_type": "-"
    }
   },
   "outputs": [],
   "source": [
    "print(data.loc['Italy':'Poland', 'gdpPercap_1962':'gdpPercap_1972'].max())"
   ]
  },
  {
   "cell_type": "code",
   "execution_count": null,
   "id": "a0ac194f",
   "metadata": {
    "slideshow": {
     "slide_type": "-"
    }
   },
   "outputs": [],
   "source": [
    "print(data.loc['Italy':'Poland', 'gdpPercap_1962':'gdpPercap_1972'].min())"
   ]
  },
  {
   "cell_type": "markdown",
   "id": "696bbb95",
   "metadata": {
    "slideshow": {
     "slide_type": "slide"
    }
   },
   "source": [
    "## Use comparisons to select data based on value.\n",
    "\n",
    "- Comparison is applied element by element.\n",
    "- Returns a similarly-shaped dataframe of `True` and `False`."
   ]
  },
  {
   "cell_type": "code",
   "execution_count": null,
   "id": "12f8570b",
   "metadata": {
    "slideshow": {
     "slide_type": "-"
    }
   },
   "outputs": [],
   "source": [
    "# Use a subset of data to keep output readable.\n",
    "subset = data.loc['Italy':'Poland', 'gdpPercap_1962':'gdpPercap_1972']\n",
    "print('Subset of data:\\n', subset)\n",
    "\n",
    "\n",
    "# Which values were greater than 10000 ?\n",
    "print('\\nWhere are values large?\\n', subset > 10000)"
   ]
  },
  {
   "cell_type": "markdown",
   "id": "d57911a9",
   "metadata": {
    "slideshow": {
     "slide_type": "slide"
    }
   },
   "source": [
    "## Select values or NaN using a Boolean mask.\n",
    "---\n",
    "\n",
    "- A frame full of Booleans is sometimes called a *mask* because of how it can be used."
   ]
  },
  {
   "cell_type": "code",
   "execution_count": null,
   "id": "4cac4b31",
   "metadata": {
    "slideshow": {
     "slide_type": "-"
    }
   },
   "outputs": [],
   "source": [
    "mask = subset > 10000\n",
    "print(subset[mask])"
   ]
  },
  {
   "cell_type": "markdown",
   "id": "4950789d",
   "metadata": {
    "slideshow": {
     "slide_type": "slide"
    }
   },
   "source": [
    "- Get the value where the mask is true, and NaN (Not a Number) where it is false.\n",
    "- Useful because NaNs are ignored by operations like max, min, average, etc."
   ]
  },
  {
   "cell_type": "code",
   "execution_count": null,
   "id": "97a12e8c",
   "metadata": {
    "slideshow": {
     "slide_type": "-"
    }
   },
   "outputs": [],
   "source": [
    "mask = subset > 10000\n",
    "print(subset[mask])"
   ]
  },
  {
   "cell_type": "markdown",
   "id": "eddf9bb3",
   "metadata": {
    "slideshow": {
     "slide_type": "slide"
    }
   },
   "source": [
    "## Group By: split-apply-combine\n",
    "---\n",
    "\n",
    "Pandas vectorizing methods and grouping operations are features that provide users\n",
    "much flexibility to analyse their data.\n",
    "\n",
    "For instance, let's say we want to have a clearer view on how the European countries\n",
    "split themselves according to their GDP.\n",
    "\n",
    "1. We may have a glance by splitting the countries in two groups during the years surveyed,\n",
    "  those who presented a GDP *higher* than the European average and those with a *lower* GDP.\n",
    "2. We then estimate a *wealthy score* based on the historical (from 1962 to 2007) values,\n",
    "  where we account how many times a country has participated in the groups of *lower* or *higher* GDP\n"
   ]
  },
  {
   "cell_type": "code",
   "execution_count": null,
   "id": "73049857",
   "metadata": {
    "slideshow": {
     "slide_type": "-"
    }
   },
   "outputs": [],
   "source": [
    "mask_higher = data > data.mean()\n",
    "wealth_score = mask_higher.aggregate('sum', axis=1) / len(data.columns)\n",
    "print(wealth_score)"
   ]
  },
  {
   "cell_type": "markdown",
   "id": "1703379f",
   "metadata": {
    "slideshow": {
     "slide_type": "slide"
    }
   },
   "source": [
    "Finally, for each group in the `wealth_score` table, we sum their (financial) contribution\n",
    "across the years surveyed using chained methods:"
   ]
  },
  {
   "cell_type": "code",
   "execution_count": null,
   "id": "superior-entertainment",
   "metadata": {
    "id": "superior-entertainment",
    "scrolled": true,
    "slideshow": {
     "slide_type": "-"
    },
    "tags": []
   },
   "outputs": [],
   "source": [
    "print(data.groupby(wealth_score).sum())"
   ]
  },
  {
   "cell_type": "markdown",
   "id": "pTTOSGfZRIY_",
   "metadata": {
    "id": "pTTOSGfZRIY_",
    "slideshow": {
     "slide_type": "slide"
    }
   },
   "source": [
    "## <p style=\"background-color: #f5df18; padding: 10px;\"> 🛑 Selection of Individual Values </p>\n",
    "\n",
    "---\n",
    "\n",
    "Assume Pandas has been imported into your notebook\n",
    "and the Gapminder GDP data for Europe has been loaded:\n",
    "\n",
    "```python\n",
    "import pandas as pd\n",
    "\n",
    "data_europe = pd.read_csv('data/gapminder_gdp_europe.csv', index_col='country')\n",
    "```\n",
    "\n",
    "Write an expression to find the Per Capita GDP of Serbia in 2007."
   ]
  },
  {
   "cell_type": "code",
   "execution_count": 1,
   "id": "gGsU55CWQEMa",
   "metadata": {
    "id": "gGsU55CWQEMa",
    "slideshow": {
     "slide_type": "-"
    }
   },
   "outputs": [],
   "source": [
    "#### solution\n",
    "\n",
    "import pandas as pd\n",
    "\n",
    "data_europe = pd.read_csv('data/gapminder_gdp_europe.csv', index_col='country')\n",
    "\n",
    "# The selection can be done by using the labels for both the row (\"Serbia\") and the column (\"gdpPercap\\_2007\"):\n",
    "\n",
    "print(data_europe.loc['Serbia', 'gdpPercap_2007'])"
   ]
  },
  {
   "cell_type": "markdown",
   "id": "jDJ9_x3m8b8X",
   "metadata": {
    "id": "jDJ9_x3m8b8X",
    "slideshow": {
     "slide_type": "slide"
    }
   },
   "source": [
    "## <p style=\"background-color: #f5df18; padding: 10px;\"> 🛑 Extent of Slicing </p>\n",
    "\n",
    "---\n",
    "\n",
    "1. Do the two statements below produce the same output?\n",
    "2. Based on this,\n",
    "  what rule governs what is included (or not) in numerical slices and named slices in Pandas?\n",
    "\n",
    "```python\n",
    "print(data_europe.iloc[0:2, 0:2])\n",
    "print(data_europe.loc['Albania':'Belgium', 'gdpPercap_1952':'gdpPercap_1962'])\n",
    "```"
   ]
  },
  {
   "cell_type": "markdown",
   "id": "27c7ed6f",
   "metadata": {
    "id": "4d33babe",
    "slideshow": {
     "slide_type": "-"
    }
   },
   "source": [
    "#### solution\n",
    "\n",
    "No, they do not produce the same output! The output of the first statement is:\n",
    "\n",
    "```output\n",
    "        gdpPercap_1952  gdpPercap_1957\n",
    "country                                \n",
    "Albania     1601.056136     1942.284244\n",
    "Austria     6137.076492     8842.598030\n",
    "```\n",
    "\n",
    "The second statement gives:\n",
    "\n",
    "```output\n",
    "        gdpPercap_1952  gdpPercap_1957  gdpPercap_1962\n",
    "country                                                \n",
    "Albania     1601.056136     1942.284244     2312.888958\n",
    "Austria     6137.076492     8842.598030    10750.721110\n",
    "Belgium     8343.105127     9714.960623    10991.206760\n",
    "```\n",
    "\n",
    "Clearly, the second statement produces an additional column and an additional row compared to the first statement.  \n",
    "What conclusion can we draw? We see that a numerical slice, 0:2, *omits* the final index (i.e. index 2)\n",
    "in the range provided,\n",
    "while a named slice, 'gdpPercap\\_1952':'gdpPercap\\_1962', *includes* the final element.\n"
   ]
  },
  {
   "cell_type": "markdown",
   "id": "sm0UZGqk8oqs",
   "metadata": {
    "id": "sm0UZGqk8oqs",
    "slideshow": {
     "slide_type": "slide"
    }
   },
   "source": [
    "## <p style=\"background-color: #f5df18; padding: 10px;\"> 🛑 Reconstructing Data </p>\n",
    "---\n",
    "\n",
    "Explain what each line in the following short program does:\n",
    "what is in `first`, `second`, etc.?\n",
    "\n",
    "```python\n",
    "first = pd.read_csv('data/gapminder_all.csv', index_col='country')\n",
    "second = first[first['continent'] == 'Americas']\n",
    "third = second.drop('Puerto Rico')\n",
    "fourth = third.drop('continent', axis = 1)\n",
    "fourth.to_csv('result.csv')\n",
    "```"
   ]
  },
  {
   "cell_type": "markdown",
   "id": "8f98ab2a",
   "metadata": {
    "id": "bbB11nRP8m-R",
    "slideshow": {
     "slide_type": "-"
    }
   },
   "source": [
    "#### solution\n",
    "Let's go through this piece of code line by line.\n",
    "\n",
    "```python\n",
    "first = pd.read_csv('data/gapminder_all.csv', index_col='country')\n",
    "```\n",
    "\n",
    "This line loads the dataset containing the GDP data from all countries into a dataframe called\n",
    "`first`. The `index_col='country'` parameter selects which column to use as the\n",
    "row labels in the dataframe.\n",
    "\n",
    "```python\n",
    "second = first[first['continent'] == 'Americas']\n",
    "```\n",
    "\n",
    "This line makes a selection: only those rows of `first` for which the 'continent' column matches\n",
    "'Americas' are extracted. Notice how the Boolean expression inside the brackets,\n",
    "`first['continent'] == 'Americas'`, is used to select only those rows where the expression is true.\n",
    "Try printing this expression! Can you print also its individual True/False elements?\n",
    "(hint: first assign the expression to a variable)\n",
    "\n",
    "```python\n",
    "third = second.drop('Puerto Rico')\n",
    "```\n",
    "\n",
    "As the syntax suggests, this line drops the row from `second` where the label is 'Puerto Rico'. The\n",
    "resulting dataframe `third` has one row less than the original dataframe `second`.\n",
    "\n",
    "```python\n",
    "fourth = third.drop('continent', axis = 1)\n",
    "```\n",
    "\n",
    "Again we apply the drop function, but in this case we are dropping not a row but a whole column.\n",
    "To accomplish this, we need to specify also the `axis` parameter (we want to drop the second column\n",
    "which has index 1).\n",
    "\n",
    "```python\n",
    "fourth.to_csv('result.csv')\n",
    "```\n",
    "\n",
    "The final step is to write the data that we have been working on to a csv file. Pandas makes this easy\n",
    "with the `to_csv()` function. The only required argument to the function is the filename. Note that the\n",
    "file will be written in the directory from which you started the Jupyter or Python session.\n"
   ]
  },
  {
   "cell_type": "markdown",
   "id": "Vwu5plPm85nq",
   "metadata": {
    "id": "Vwu5plPm85nq",
    "slideshow": {
     "slide_type": "slide"
    }
   },
   "source": [
    "## <p style=\"background-color: #f5df18; padding: 10px;\"> 🛑 Selecting Indices </p>\n",
    "---\n",
    "\n",
    "Explain in simple terms what `idxmin` and `idxmax` do in the short program below.\n",
    "When would you use these methods?\n",
    "\n",
    "```python\n",
    "data = pd.read_csv('data/gapminder_gdp_europe.csv', index_col='country')\n",
    "print(data.idxmin())\n",
    "print(data.idxmax())\n",
    "```"
   ]
  },
  {
   "cell_type": "markdown",
   "id": "58ebe753",
   "metadata": {
    "id": "63219e21",
    "slideshow": {
     "slide_type": "-"
    }
   },
   "source": [
    "#### solution\n",
    "\n",
    "For each column in `data`, `idxmin` will return the index value corresponding to each column's minimum;\n",
    "`idxmax` will do accordingly the same for each column's maximum value.\n",
    "\n",
    "You can use these functions whenever you want to get the row index of the minimum/maximum value and not the actual minimum/maximum value.\n"
   ]
  },
  {
   "cell_type": "markdown",
   "id": "b2789a70",
   "metadata": {
    "slideshow": {
     "slide_type": "slide"
    }
   },
   "source": [
    "## <p style=\"background-color: #f5df18; padding: 10px;\"> 🛑 Practice with Selection </p>\n",
    "---\n",
    "\n",
    "Assume Pandas has been imported and the Gapminder GDP data for Europe has been loaded.\n",
    "Write an expression to select each of the following:\n",
    "\n",
    "1. GDP per capita for all countries in 1982.\n",
    "2. GDP per capita for Denmark for all years.\n",
    "3. GDP per capita for all countries for years *after* 1985.\n",
    "4. GDP per capita for each country in 2007 as a multiple of\n",
    "  GDP per capita for that country in 1952.\n"
   ]
  },
  {
   "cell_type": "markdown",
   "id": "67de0e62",
   "metadata": {
    "slideshow": {
     "slide_type": "-"
    }
   },
   "source": [
    "#### solution\n",
    "\n",
    "1: \n",
    "```python\n",
    "data['gdpPercap_1982']\n",
    "```\n",
    "\n",
    "2:\n",
    "\n",
    "```python\n",
    "data.loc['Denmark',:]\n",
    "```\n",
    "\n",
    "3:\n",
    "\n",
    "```python\n",
    "data.loc[:,'gdpPercap_1985':]\n",
    "```\n",
    "\n",
    "Pandas is smart enough to recognize the number at the end of the column label and does not give you an error, although no column named `gdpPercap_1985` actually exists. This is useful if new columns are added to the CSV file later.\n",
    "\n",
    "4:\n",
    "\n",
    "```python\n",
    "data['gdpPercap_2007']/data['gdpPercap_1952']\n",
    "```"
   ]
  },
  {
   "cell_type": "markdown",
   "id": "d8ad5e31",
   "metadata": {
    "slideshow": {
     "slide_type": "slide"
    }
   },
   "source": [
    "## <p style=\"background-color: #f5df18; padding: 10px;\"> 🛑 Many Ways of Access </p>\n",
    "---\n",
    "\n",
    "There are at least two ways of accessing a value or slice of a DataFrame: by name or index.\n",
    "However, there are many others. For example, a single column or row can be accessed either as a `DataFrame`\n",
    "or a `Series` object.\n",
    "\n",
    "Suggest different ways of doing the following operations on a DataFrame:\n",
    "\n",
    "1. Access a single column\n",
    "2. Access a single row\n",
    "3. Access an individual DataFrame element\n",
    "4. Access several columns\n",
    "5. Access several rows\n",
    "6. Access a subset of specific rows and columns\n",
    "7. Access a subset of row and column ranges\n"
   ]
  },
  {
   "cell_type": "markdown",
   "id": "1d4048af",
   "metadata": {
    "slideshow": {
     "slide_type": "-"
    }
   },
   "source": [
    "#### solution\n",
    "\n",
    "1\\. Access a single column:\n",
    "\n",
    "```python\n",
    "# by name\n",
    "data[\"col_name\"]   # as a Series\n",
    "data[[\"col_name\"]] # as a DataFrame\n",
    "\n",
    "# by name using .loc\n",
    "data.T.loc[\"col_name\"]  # as a Series\n",
    "data.T.loc[[\"col_name\"]].T  # as a DataFrame\n",
    "\n",
    "# Dot notation (Series)\n",
    "data.col_name\n",
    "\n",
    "# by index (iloc)\n",
    "data.iloc[:, col_index]   # as a Series\n",
    "data.iloc[:, [col_index]] # as a DataFrame\n",
    "\n",
    "# using a mask\n",
    "data.T[data.T.index == \"col_name\"].T\n",
    "```\n",
    "\n",
    "2\\. Access a single row:\n",
    "\n",
    "```python\n",
    "# by name using .loc\n",
    "data.loc[\"row_name\"] # as a Series\n",
    "data.loc[[\"row_name\"]] # as a DataFrame\n",
    "\n",
    "# by name\n",
    "data.T[\"row_name\"] # as a Series\n",
    "data.T[[\"row_name\"]].T # as a DataFrame\n",
    "\n",
    "# by index\n",
    "data.iloc[row_index]   # as a Series\n",
    "data.iloc[[row_index]]   # as a DataFrame\n",
    "\n",
    "# using mask\n",
    "data[data.index == \"row_name\"]\n",
    "```\n",
    "\n",
    "3\\. Access an individual DataFrame element:\n",
    "\n",
    "```python\n",
    "# by column/row names\n",
    "data[\"column_name\"][\"row_name\"]         # as a Series\n",
    "\n",
    "data[[\"col_name\"]].loc[\"row_name\"]  # as a Series\n",
    "data[[\"col_name\"]].loc[[\"row_name\"]]  # as a DataFrame\n",
    "\n",
    "data.loc[\"row_name\"][\"col_name\"]  # as a value\n",
    "data.loc[[\"row_name\"]][\"col_name\"]  # as a Series\n",
    "data.loc[[\"row_name\"]][[\"col_name\"]]  # as a DataFrame\n",
    "\n",
    "data.loc[\"row_name\", \"col_name\"]  # as a value\n",
    "data.loc[[\"row_name\"], \"col_name\"]  # as a Series. Preserves index. Column name is moved to `.name`.\n",
    "data.loc[\"row_name\", [\"col_name\"]]  # as a Series. Index is moved to `.name.` Sets index to column name.\n",
    "data.loc[[\"row_name\"], [\"col_name\"]]  # as a DataFrame (preserves original index and column name)\n",
    "\n",
    "# by column/row names: Dot notation\n",
    "data.col_name.row_name\n",
    "\n",
    "# by column/row indices\n",
    "data.iloc[row_index, col_index] # as a value\n",
    "data.iloc[[row_index], col_index] # as a Series. Preserves index. Column name is moved to `.name`\n",
    "data.iloc[row_index, [col_index]] # as a Series. Index is moved to `.name.` Sets index to column name.\n",
    "data.iloc[[row_index], [col_index]] # as a DataFrame (preserves original index and column name)\n",
    "\n",
    "# column name + row index\n",
    "data[\"col_name\"][row_index]\n",
    "data.col_name[row_index]\n",
    "data[\"col_name\"].iloc[row_index]\n",
    "\n",
    "# column index + row name\n",
    "data.iloc[:, [col_index]].loc[\"row_name\"]  # as a Series\n",
    "data.iloc[:, [col_index]].loc[[\"row_name\"]]  # as a DataFrame\n",
    "\n",
    "# using masks\n",
    "data[data.index == \"row_name\"].T[data.T.index == \"col_name\"].T\n",
    "```\n",
    "\n",
    "4\\. Access several columns:\n",
    "\n",
    "```python\n",
    "# by name\n",
    "data[[\"col1\", \"col2\", \"col3\"]]\n",
    "data.loc[:, [\"col1\", \"col2\", \"col3\"]]\n",
    "\n",
    "# by index\n",
    "data.iloc[:, [col1_index, col2_index, col3_index]]\n",
    "```\n",
    "\n",
    "5\\. Access several rows\n",
    "\n",
    "```python\n",
    "# by name\n",
    "data.loc[[\"row1\", \"row2\", \"row3\"]]\n",
    "\n",
    "# by index\n",
    "data.iloc[[row1_index, row2_index, row3_index]]\n",
    "```\n",
    "\n",
    "6\\. Access a subset of specific rows and columns\n",
    "\n",
    "```python\n",
    "# by names\n",
    "data.loc[[\"row1\", \"row2\", \"row3\"], [\"col1\", \"col2\", \"col3\"]]\n",
    "\n",
    "# by indices\n",
    "data.iloc[[row1_index, row2_index, row3_index], [col1_index, col2_index, col3_index]]\n",
    "\n",
    "# column names + row indices\n",
    "data[[\"col1\", \"col2\", \"col3\"]].iloc[[row1_index, row2_index, row3_index]]\n",
    "\n",
    "# column indices + row names\n",
    "data.iloc[:, [col1_index, col2_index, col3_index]].loc[[\"row1\", \"row2\", \"row3\"]]\n",
    "```\n",
    "\n",
    "7\\. Access a subset of row and column ranges\n",
    "\n",
    "```python\n",
    "# by name\n",
    "data.loc[\"row1\":\"row2\", \"col1\":\"col2\"]\n",
    "\n",
    "# by index\n",
    "data.iloc[row1_index:row2_index, col1_index:col2_index]\n",
    "\n",
    "# column names + row indices\n",
    "data.loc[:, \"col1_name\":\"col2_name\"].iloc[row1_index:row2_index]\n",
    "\n",
    "# column indices + row names\n",
    "data.iloc[:, col1_index:col2_index].loc[\"row1\":\"row2\"]\n",
    "```\n"
   ]
  },
  {
   "cell_type": "markdown",
   "id": "8979542b",
   "metadata": {
    "slideshow": {
     "slide_type": "slide"
    }
   },
   "source": [
    "## <p style=\"background-color: #f5df18; padding: 10px;\"> 🛑 Exploring available methods using the `dir()` function </p>\n",
    "---\n",
    "\n",
    "Python includes a `dir()` function that can be used to display all of the available methods (functions) that are built into a data object.  In Episode 4, we used some methods with a string. But we can see many more are available by using `dir()`:\n",
    "\n",
    "```python\n",
    "my_string = 'Hello world!'   # creation of a string object \n",
    "dir(my_string)\n",
    "```\n",
    "\n",
    "This command returns:\n",
    "\n",
    "```python\n",
    "['__add__',\n",
    "...\n",
    "'__subclasshook__',\n",
    "'capitalize',\n",
    "'casefold',\n",
    "'center',\n",
    "...\n",
    "'upper',\n",
    "'zfill']\n",
    "```\n",
    "\n",
    "You can use `help()` or <kbd>Shift</kbd>\\+<kbd>Tab</kbd> to get more information about what these methods do.\n",
    "\n",
    "Assume Pandas has been imported and the Gapminder GDP data for Europe has been loaded as `data`.  Then, use `dir()`\n",
    "to find the function that prints out the median per-capita GDP across all European countries for each year that information is available."
   ]
  },
  {
   "cell_type": "markdown",
   "id": "98f721b4",
   "metadata": {
    "scrolled": true,
    "slideshow": {
     "slide_type": "-"
    }
   },
   "source": [
    "#### solution\n",
    "\n",
    "Among many choices, `dir()` lists the `median()` function as a possibility.  Thus,\n",
    "\n",
    "```python\n",
    "data.median()\n",
    "```\n"
   ]
  },
  {
   "cell_type": "code",
   "execution_count": 6,
   "id": "617afc9b",
   "metadata": {},
   "outputs": [
    {
     "data": {
      "text/plain": [
       "gdpPercap_1952     5142.469716\n",
       "gdpPercap_1957     6066.721495\n",
       "gdpPercap_1962     7515.733737\n",
       "gdpPercap_1967     9366.067033\n",
       "gdpPercap_1972    12326.379990\n",
       "gdpPercap_1977    14225.754515\n",
       "gdpPercap_1982    15322.824720\n",
       "gdpPercap_1987    16215.485895\n",
       "gdpPercap_1992    17550.155945\n",
       "gdpPercap_1997    19596.498550\n",
       "gdpPercap_2002    23674.863230\n",
       "gdpPercap_2007    28054.065790\n",
       "dtype: float64"
      ]
     },
     "execution_count": 6,
     "metadata": {},
     "output_type": "execute_result"
    }
   ],
   "source": [
    "data_europe.median()"
   ]
  },
  {
   "cell_type": "markdown",
   "id": "c3xyuFI9k7XT",
   "metadata": {
    "id": "c3xyuFI9k7XT",
    "slideshow": {
     "slide_type": "slide"
    }
   },
   "source": [
    "# <p style=\"background-color: #f5df18; padding: 10px;\"> 🗝️ Key points</p>\n",
    "---\n",
    "\n",
    "- Use `DataFrame.iloc[..., ...]` to select values by integer location.\n",
    "- Use `:` on its own to mean all columns or all rows.\n",
    "- Select multiple columns or rows using `DataFrame.loc` and a named slice.\n",
    "- Result of slicing can be used in further operations.\n",
    "- Use comparisons to select data based on value.\n",
    "- Select values or NaN using a Boolean mask."
   ]
  }
 ],
 "metadata": {
  "celltoolbar": "Slideshow",
  "colab": {
   "provenance": []
  },
  "kernelspec": {
   "display_name": "Python 3 (ipykernel)",
   "language": "python",
   "name": "python3"
  },
  "language_info": {
   "codemirror_mode": {
    "name": "ipython",
    "version": 3
   },
   "file_extension": ".py",
   "mimetype": "text/x-python",
   "name": "python",
   "nbconvert_exporter": "python",
   "pygments_lexer": "ipython3",
   "version": "3.11.3"
  },
  "toc-showcode": true
 },
 "nbformat": 4,
 "nbformat_minor": 5
}
