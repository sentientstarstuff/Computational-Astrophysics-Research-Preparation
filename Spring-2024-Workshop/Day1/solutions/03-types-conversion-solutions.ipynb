{
 "cells": [
  {
   "cell_type": "markdown",
   "id": "labeled-firewall",
   "metadata": {
    "id": "labeled-firewall",
    "slideshow": {
     "slide_type": "slide"
    }
   },
   "source": [
    "# <p style=\"background-color: #f5df18; padding: 10px;\">Programming & Plotting in Python | **Data Types & Type Conversion** </p>"
   ]
  },
  {
   "cell_type": "markdown",
   "id": "1f147702",
   "metadata": {
    "slideshow": {
     "slide_type": "slide"
    }
   },
   "source": [
    "<div style=\"display: flex;\">\n",
    "    <div style=\"flex: 1; margin-right: 20px;\">\n",
    "        <h2>Questions</h2>\n",
    "        <ul>\n",
    "            <li>What kinds of data do programs store?</li> \n",
    "            <li>How can I convert one type to another?</li> \n",
    "        </ul>\n",
    "    </div>\n",
    "    <div style=\"flex: 1;\">\n",
    "        <h2>Learning Objectives</h2>\n",
    "        <ul>\n",
    "            <li>Explain key differences between integers and floating point numbers.</li>\n",
    "            <li>Explain key differences between numbers and character strings.</li>\n",
    "            <li>Use built-in functions to convert between integers, floating point numbers, and strings.</li>\n",
    "        </ul>\n",
    "    </div>\n",
    "</div>"
   ]
  },
  {
   "cell_type": "markdown",
   "id": "provincial-bruce",
   "metadata": {
    "id": "provincial-bruce",
    "slideshow": {
     "slide_type": "slide"
    },
    "tags": []
   },
   "source": [
    "\n",
    "## Every value has a type.\n",
    "---\n",
    "\n",
    "- Every value in a program has a specific type.\n"
   ]
  },
  {
   "cell_type": "markdown",
   "id": "62cba6e9",
   "metadata": {
    "slideshow": {
     "slide_type": "fragment"
    }
   },
   "source": [
    "- Integer (`int`): represents positive or negative whole numbers like 3 or -512.\n"
   ]
  },
  {
   "cell_type": "markdown",
   "id": "104739f4",
   "metadata": {
    "slideshow": {
     "slide_type": "fragment"
    }
   },
   "source": [
    "- Floating point number (`float`): represents real numbers like 3.14159 or -2.5.\n"
   ]
  },
  {
   "cell_type": "markdown",
   "id": "048843d0",
   "metadata": {
    "slideshow": {
     "slide_type": "fragment"
    }
   },
   "source": [
    "- Character string (usually called \"string\", `str`): text.\n",
    "  - Written in either single quotes or double quotes (as long as they match).\n",
    "  - The quote marks aren't printed when the string is displayed."
   ]
  },
  {
   "cell_type": "markdown",
   "id": "HeZYJOpw7Tmp",
   "metadata": {
    "id": "HeZYJOpw7Tmp",
    "slideshow": {
     "slide_type": "slide"
    }
   },
   "source": [
    "## Use the built-in function `type` to find the type of a value.\n",
    "---\n",
    "\n",
    "- Use the built-in function `type` to find out what type a value has.\n",
    "- Works on variables as well.\n",
    "  - But remember: the *value* has the type --- the *variable* is just a label."
   ]
  },
  {
   "cell_type": "code",
   "execution_count": 7,
   "id": "motivated-manufacturer",
   "metadata": {
    "id": "motivated-manufacturer",
    "slideshow": {
     "slide_type": "-"
    },
    "tags": []
   },
   "outputs": [
    {
     "data": {
      "text/plain": [
       "str"
      ]
     },
     "execution_count": 7,
     "metadata": {},
     "output_type": "execute_result"
    }
   ],
   "source": [
    "type('5.0')"
   ]
  },
  {
   "cell_type": "markdown",
   "id": "healthy-subdivision",
   "metadata": {
    "id": "healthy-subdivision",
    "slideshow": {
     "slide_type": "slide"
    }
   },
   "source": [
    "## Types control what operations (or methods) can be performed on a given value.\n",
    "---\n",
    "\n",
    "- A value's type determines what the program can do to it."
   ]
  },
  {
   "cell_type": "code",
   "execution_count": 9,
   "id": "XMxCM1M07a9P",
   "metadata": {
    "id": "XMxCM1M07a9P",
    "slideshow": {
     "slide_type": "-"
    }
   },
   "outputs": [
    {
     "ename": "TypeError",
     "evalue": "unsupported operand type(s) for -: 'str' and 'str'",
     "output_type": "error",
     "traceback": [
      "\u001b[0;31m---------------------------------------------------------------------------\u001b[0m",
      "\u001b[0;31mTypeError\u001b[0m                                 Traceback (most recent call last)",
      "Cell \u001b[0;32mIn[9], line 1\u001b[0m\n\u001b[0;32m----> 1\u001b[0m \u001b[38;5;28mprint\u001b[39m(\u001b[38;5;124m'\u001b[39m\u001b[38;5;124mhello\u001b[39m\u001b[38;5;124m'\u001b[39m \u001b[38;5;241m-\u001b[39m \u001b[38;5;124m'\u001b[39m\u001b[38;5;124mh\u001b[39m\u001b[38;5;124m'\u001b[39m)\n",
      "\u001b[0;31mTypeError\u001b[0m: unsupported operand type(s) for -: 'str' and 'str'"
     ]
    }
   ],
   "source": [
    "print('hello' - 'h')"
   ]
  },
  {
   "cell_type": "markdown",
   "id": "pressed-commerce",
   "metadata": {
    "id": "pressed-commerce",
    "slideshow": {
     "slide_type": "slide"
    },
    "tags": []
   },
   "source": [
    "## You can use the \"+\" and \"\\*\" operators on strings.\n",
    "---\n",
    "\n",
    "- \"Adding\" character strings concatenates them."
   ]
  },
  {
   "cell_type": "code",
   "execution_count": 13,
   "id": "superior-entertainment",
   "metadata": {
    "id": "superior-entertainment",
    "scrolled": true,
    "slideshow": {
     "slide_type": "-"
    },
    "tags": []
   },
   "outputs": [
    {
     "name": "stdout",
     "output_type": "stream",
     "text": [
      "Devontae Baxter\n"
     ]
    }
   ],
   "source": [
    "full_name = 'Devontae' + ' ' + 'Baxter'\n",
    "print(full_name)"
   ]
  },
  {
   "cell_type": "markdown",
   "id": "DMO1E52P7icM",
   "metadata": {
    "id": "DMO1E52P7icM",
    "slideshow": {
     "slide_type": "slide"
    }
   },
   "source": [
    "- Multiplying a character string by an integer *N* creates a new string that consists of that character string repeated  *N* times.\n",
    "  - Since multiplication is repeated addition."
   ]
  },
  {
   "cell_type": "code",
   "execution_count": 18,
   "id": "1cd6039f",
   "metadata": {
    "slideshow": {
     "slide_type": "-"
    }
   },
   "outputs": [
    {
     "name": "stdout",
     "output_type": "stream",
     "text": [
      "**********\n"
     ]
    }
   ],
   "source": [
    "stars = 10 * '*'\n",
    "\n",
    "print(stars)"
   ]
  },
  {
   "cell_type": "markdown",
   "id": "auburn-suffering",
   "metadata": {
    "id": "auburn-suffering",
    "slideshow": {
     "slide_type": "slide"
    },
    "tags": []
   },
   "source": [
    "## Strings have a length (but numbers don't).\n",
    "---\n",
    "\n",
    "- The built-in function `len` counts the number of characters in a string.\n"
   ]
  },
  {
   "cell_type": "code",
   "execution_count": 21,
   "id": "PzhR_CFQ721c",
   "metadata": {
    "id": "PzhR_CFQ721c",
    "slideshow": {
     "slide_type": "-"
    }
   },
   "outputs": [
    {
     "name": "stdout",
     "output_type": "stream",
     "text": [
      "15\n",
      "1\n"
     ]
    }
   ],
   "source": [
    "print(len(full_name))\n",
    "print(len('5'))"
   ]
  },
  {
   "cell_type": "markdown",
   "id": "106b639f",
   "metadata": {
    "slideshow": {
     "slide_type": "fragment"
    }
   },
   "source": [
    "* But numbers don’t have a length (not even zero)."
   ]
  },
  {
   "cell_type": "code",
   "execution_count": null,
   "id": "c498a4a1",
   "metadata": {
    "slideshow": {
     "slide_type": "-"
    }
   },
   "outputs": [],
   "source": []
  },
  {
   "cell_type": "markdown",
   "id": "oriental-transsexual",
   "metadata": {
    "id": "oriental-transsexual",
    "jp-MarkdownHeadingCollapsed": true,
    "slideshow": {
     "slide_type": "slide"
    },
    "tags": []
   },
   "source": [
    "\n",
    "## Must convert numbers to strings or vice versa when operating on them.\n",
    "\n",
    "- Cannot add numbers and strings."
   ]
  },
  {
   "cell_type": "code",
   "execution_count": 22,
   "id": "atomic-afternoon",
   "metadata": {
    "id": "atomic-afternoon",
    "scrolled": true,
    "slideshow": {
     "slide_type": "-"
    },
    "tags": []
   },
   "outputs": [
    {
     "ename": "TypeError",
     "evalue": "unsupported operand type(s) for +: 'int' and 'str'",
     "output_type": "error",
     "traceback": [
      "\u001b[0;31m---------------------------------------------------------------------------\u001b[0m",
      "\u001b[0;31mTypeError\u001b[0m                                 Traceback (most recent call last)",
      "Cell \u001b[0;32mIn[22], line 1\u001b[0m\n\u001b[0;32m----> 1\u001b[0m \u001b[38;5;28mprint\u001b[39m(\u001b[38;5;241m5\u001b[39m \u001b[38;5;241m+\u001b[39m \u001b[38;5;124m'\u001b[39m\u001b[38;5;124m2\u001b[39m\u001b[38;5;124m'\u001b[39m)\n",
      "\u001b[0;31mTypeError\u001b[0m: unsupported operand type(s) for +: 'int' and 'str'"
     ]
    }
   ],
   "source": [
    "print(5 + '2')"
   ]
  },
  {
   "cell_type": "markdown",
   "id": "1f37f377",
   "metadata": {
    "slideshow": {
     "slide_type": "slide"
    }
   },
   "source": [
    "* Not allowed because it’s ambiguous: should 1 + '2' be 3 or '12'?\n",
    "* Some types can be converted to other types by using the type name as a function."
   ]
  },
  {
   "cell_type": "code",
   "execution_count": 23,
   "id": "f8250639",
   "metadata": {
    "slideshow": {
     "slide_type": "-"
    }
   },
   "outputs": [
    {
     "name": "stdout",
     "output_type": "stream",
     "text": [
      "7\n"
     ]
    }
   ],
   "source": [
    "print(5 + int('2') )"
   ]
  },
  {
   "cell_type": "markdown",
   "id": "stylish-picking",
   "metadata": {
    "id": "stylish-picking",
    "slideshow": {
     "slide_type": "slide"
    }
   },
   "source": [
    "## Can mix integers and floats freely in operations.\n",
    "\n",
    "- Integers and floating-point numbers can be mixed in arithmetic.\n",
    "  - Python 3 automatically converts integers to floats as needed."
   ]
  },
  {
   "cell_type": "code",
   "execution_count": 28,
   "id": "IjrxgFpO8Eof",
   "metadata": {
    "id": "IjrxgFpO8Eof",
    "slideshow": {
     "slide_type": "-"
    }
   },
   "outputs": [
    {
     "name": "stdout",
     "output_type": "stream",
     "text": [
      "half is 0.5\n",
      "three squared is 9.0\n"
     ]
    }
   ],
   "source": [
    "print('half is', 1/2.0)\n",
    "print('three squared is', 3**2.0)"
   ]
  },
  {
   "cell_type": "markdown",
   "id": "NhqbN3BH8IJf",
   "metadata": {
    "id": "NhqbN3BH8IJf",
    "slideshow": {
     "slide_type": "slide"
    }
   },
   "source": [
    "\n",
    "## Variables only change value when something is assigned to them.\n",
    "\n",
    "- If we make one cell in a spreadsheet depend on another,\n",
    "  and update the latter,\n",
    "  the former updates automatically.\n",
    "- This does **not** happen in programming languages.\n"
   ]
  },
  {
   "cell_type": "code",
   "execution_count": 15,
   "id": "_4LSzMRr8KoF",
   "metadata": {
    "id": "_4LSzMRr8KoF",
    "slideshow": {
     "slide_type": "slide"
    }
   },
   "outputs": [
    {
     "name": "stdout",
     "output_type": "stream",
     "text": [
      "first is 2 and second is 5\n"
     ]
    }
   ],
   "source": [
    "variable_one = 1\n",
    "variable_two = 5 * variable_one\n",
    "variable_one = 2\n",
    "print('first is', variable_one, 'and second is', variable_two)"
   ]
  },
  {
   "cell_type": "markdown",
   "id": "aFOAV7Uc8Oeb",
   "metadata": {
    "id": "aFOAV7Uc8Oeb",
    "slideshow": {
     "slide_type": "fragment"
    }
   },
   "source": [
    "- The computer reads the value of `variable_one` when doing the multiplication,\n",
    "  creates a new value, and assigns it to `variable_two`.\n",
    "- Afterwards, the value of `variable_two` is set to the new value and *not dependent on `variable_one`* so its value\n",
    "  does not automatically change when `variable_one` changes.\n"
   ]
  },
  {
   "cell_type": "markdown",
   "id": "pTTOSGfZRIY_",
   "metadata": {
    "id": "pTTOSGfZRIY_",
    "slideshow": {
     "slide_type": "slide"
    }
   },
   "source": [
    "## <p style=\"background-color: #f5df18; padding: 10px;\"> 🛑 Fractions </p>\n",
    "\n",
    "---\n",
    "\n",
    "What type of value is 3.4?\n",
    "How can you find out?"
   ]
  },
  {
   "cell_type": "markdown",
   "id": "8e2bbb0c",
   "metadata": {
    "id": "gGsU55CWQEMa",
    "slideshow": {
     "slide_type": "-"
    }
   },
   "source": [
    "## Solution\n",
    "\n",
    "It is a floating-point number (often abbreviated \"float\").\n",
    "It is possible to find out by using the built-in function `type()`.\n",
    "\n",
    "```python\n",
    "print(type(3.4))\n",
    "```\n",
    "\n",
    "```output\n",
    "<class 'float'>\n",
    "```\n"
   ]
  },
  {
   "cell_type": "markdown",
   "id": "jDJ9_x3m8b8X",
   "metadata": {
    "id": "jDJ9_x3m8b8X",
    "slideshow": {
     "slide_type": "slide"
    }
   },
   "source": [
    "## <p style=\"background-color: #f5df18; padding: 10px;\"> 🛑 Automatic Type Conversion </p>\n",
    "\n",
    "---\n",
    "\n",
    "What type of value is 3.25 + 4?"
   ]
  },
  {
   "cell_type": "markdown",
   "id": "3ac755e4",
   "metadata": {
    "id": "4d33babe",
    "slideshow": {
     "slide_type": "-"
    }
   },
   "source": [
    "## Solution\n",
    "\n",
    "It is a float:\n",
    "integers are automatically converted to floats as necessary.\n",
    "\n",
    "```python\n",
    "result = 3.25 + 4\n",
    "print(result, 'is', type(result))\n",
    "```\n",
    "\n",
    "```output\n",
    "7.25 is <class 'float'>\n",
    "```"
   ]
  },
  {
   "cell_type": "markdown",
   "id": "sm0UZGqk8oqs",
   "metadata": {
    "id": "sm0UZGqk8oqs",
    "slideshow": {
     "slide_type": "slide"
    }
   },
   "source": [
    "## <p style=\"background-color: #f5df18; padding: 10px;\"> 🛑 Choose a Type </p>\n",
    "---\n",
    "What type of value (integer, floating point number, or character string)\n",
    "would you use to represent each of the following?  Try to come up with more than one good answer for each problem.  For example, in  # 1, when would counting days with a floating point variable make more sense than using an integer?\n",
    "\n",
    "1. Number of days since the start of the year.\n",
    "2. Time elapsed from the start of the year until now in days.\n",
    "3. Serial number of a piece of lab equipment.\n",
    "4. A lab specimen's age\n",
    "5. Current population of a city.\n",
    "6. Average population of a city over time."
   ]
  },
  {
   "cell_type": "markdown",
   "id": "f4ab14b0",
   "metadata": {
    "id": "bbB11nRP8m-R",
    "slideshow": {
     "slide_type": "slide"
    }
   },
   "source": [
    "## Solution\n",
    "\n",
    "The answers to the questions are:\n",
    "\n",
    "1. Integer, since the number of days would lie between 1 and 365.\n",
    "2. Floating point, since fractional days are required\n",
    "3. Character string if serial number contains letters and numbers, otherwise integer if the serial number consists only of numerals\n",
    "4. This will vary! How do you define a specimen's age? whole days since collection (integer)? date and time (string)?\n",
    "5. Choose floating point to represent population as large aggregates (eg millions), or integer to represent population in units of individuals.\n",
    "6. Floating point number, since an average is likely to have a fractional part.\n",
    "  \n",
    "  \n"
   ]
  },
  {
   "cell_type": "markdown",
   "id": "Vwu5plPm85nq",
   "metadata": {
    "id": "Vwu5plPm85nq",
    "slideshow": {
     "slide_type": "slide"
    }
   },
   "source": [
    "## <p style=\"background-color: #f5df18; padding: 10px;\"> 🛑 Division Types </p>\n",
    "---\n",
    "\n",
    "In Python 3, the `//` operator performs integer (whole-number) floor division, the `/` operator performs floating-point\n",
    "division, and the `%` (or *modulo*) operator calculates and returns the remainder from integer division:\n",
    "\n",
    "```python\n",
    "print('5 // 3:', 5 // 3)\n",
    "print('5 / 3:', 5 / 3)\n",
    "print('5 % 3:', 5 % 3)\n",
    "```\n",
    "\n",
    "```output\n",
    "5 // 3: 1\n",
    "5 / 3: 1.6666666666666667\n",
    "5 % 3: 2\n",
    "```\n",
    "\n",
    "If `num_subjects` is the number of subjects taking part in a study,\n",
    "and `num_per_survey` is the number that can take part in a single survey,\n",
    "write an expression that calculates the number of surveys needed\n",
    "to reach everyone once."
   ]
  },
  {
   "cell_type": "markdown",
   "id": "d386213b",
   "metadata": {
    "slideshow": {
     "slide_type": "slide"
    }
   },
   "source": [
    "We want the minimum number of surveys that reaches everyone once, which is the rounded up value of `num_subjects/ num_per_survey`. This is equivalent to performing a floor division with // and adding 1. Before the division we need to subtract 1 from the number of subjects to deal with the case where `num_subjects` is evenly divisible by `num_per_survey`."
   ]
  },
  {
   "cell_type": "markdown",
   "id": "639c7133",
   "metadata": {
    "id": "63219e21",
    "slideshow": {
     "slide_type": "-"
    }
   },
   "source": [
    "## Solution\n",
    "\n",
    "We want the minimum number of surveys that reaches everyone once, which is\n",
    "the rounded up value of `num_subjects/ num_per_survey`. This is\n",
    "equivalent to performing a floor division with `//` and adding 1. Before\n",
    "the division we need to subtract 1 from the number of subjects to deal with\n",
    "the case where `num_subjects` is evenly divisible by `num_per_survey`.\n",
    "\n",
    "```python\n",
    "num_subjects = 600\n",
    "num_per_survey = 42\n",
    "num_surveys = (num_subjects - 1) // num_per_survey + 1\n",
    "\n",
    "print(num_subjects, 'subjects,', num_per_survey, 'per survey:', num_surveys)\n",
    "```\n",
    "\n",
    "```output\n",
    "600 subjects, 42 per survey: 15\n",
    "```\n"
   ]
  },
  {
   "cell_type": "markdown",
   "id": "yV3Rj-Ck9Fqa",
   "metadata": {
    "id": "yV3Rj-Ck9Fqa",
    "slideshow": {
     "slide_type": "slide"
    }
   },
   "source": [
    "## <p style=\"background-color: #f5df18; padding: 10px;\"> 🛑 Strings to Numbers </p>\n",
    "---\n",
    "\n",
    "Where reasonable, `float()` will convert a string to a floating point number,\n",
    "and `int()` will convert a floating point number to an integer:\n",
    "\n",
    "```python\n",
    "print(\"string to float:\", float(\"3.4\"))\n",
    "print(\"float to int:\", int(3.4))\n",
    "```\n",
    "\n",
    "```output\n",
    "string to float: 3.4\n",
    "float to int: 3\n",
    "```\n",
    "\n",
    "If the conversion doesn't make sense, however, an error message will occur.\n",
    "\n",
    "```python\n",
    "print(\"string to float:\", float(\"Hello world!\"))\n",
    "```\n",
    "\n",
    "```error\n",
    "---------------------------------------------------------------------------\n",
    "ValueError                                Traceback (most recent call last)\n",
    "<ipython-input-5-df3b790bf0a2> in <module>\n",
    "----> 1 print(\"string to float:\", float(\"Hello world!\"))\n",
    "\n",
    "ValueError: could not convert string to float: 'Hello world!'\n",
    "```\n",
    "\n",
    "Given this information, what do you expect the following program to do?\n",
    "\n",
    "What does it actually do?\n",
    "\n",
    "Why do you think it does that?\n",
    "\n",
    "```python\n",
    "print(\"fractional string to int:\", int(\"3.4\"))\n",
    "```"
   ]
  },
  {
   "cell_type": "markdown",
   "id": "260fda02",
   "metadata": {
    "id": "cc891b3b",
    "slideshow": {
     "slide_type": "slide"
    }
   },
   "source": [
    "## Solution\n",
    "\n",
    "What do you expect this program to do? It would not be so unreasonable to expect the Python 3 `int` command to\n",
    "convert the string \"3.4\" to 3.4 and an additional type conversion to 3. After all, Python 3 performs a lot of other\n",
    "magic - isn't that part of its charm?\n",
    "\n",
    "```python\n",
    "int(\"3.4\")\n",
    "```\n",
    "\n",
    "```output\n",
    "---------------------------------------------------------------------------\n",
    "ValueError                                Traceback (most recent call last)\n",
    "<ipython-input-2-ec6729dfccdc> in <module>\n",
    "----> 1 int(\"3.4\")\n",
    "ValueError: invalid literal for int() with base 10: '3.4'\n",
    "```\n",
    "\n",
    "However, Python 3 throws an error. Why? To be consistent, possibly. If you ask Python to perform two consecutive\n",
    "typecasts, you must convert it explicitly in code.\n",
    "\n",
    "```python\n",
    "int(float(\"3.4\"))\n",
    "```\n",
    "\n",
    "```output\n",
    "3\n",
    "```\n"
   ]
  },
  {
   "cell_type": "markdown",
   "id": "vertical-yellow",
   "metadata": {
    "id": "vertical-yellow",
    "jp-MarkdownHeadingCollapsed": true,
    "slideshow": {
     "slide_type": "slide"
    },
    "tags": []
   },
   "source": [
    "## <p style=\"background-color: #f5df18; padding: 10px;\"> 🛑 Arithmetic with Different Types </p>\n",
    "\n",
    "---\n",
    "Which of the following will return the floating point number `2.0`?\n",
    "Note: there may be more than one right answer.\n",
    "\n",
    "```python\n",
    "first = 1.0\n",
    "second = \"1\"\n",
    "third = \"1.1\"\n",
    "```\n",
    "\n",
    "1. `first + float(second)`\n",
    "2. `float(second) + float(third)`\n",
    "3. `first + int(third)`\n",
    "4. `first + int(float(third))`\n",
    "5. `int(first) + int(float(third))`\n",
    "6. `2.0 * second`\n"
   ]
  },
  {
   "cell_type": "markdown",
   "id": "9ccad416",
   "metadata": {
    "id": "Z06zgR2U95_R",
    "slideshow": {
     "slide_type": "fragment"
    }
   },
   "source": [
    "## Solution\n",
    "\n",
    "Answer: 1 and 4\n"
   ]
  },
  {
   "cell_type": "markdown",
   "id": "hollywood-clerk",
   "metadata": {
    "id": "hollywood-clerk",
    "slideshow": {
     "slide_type": "slide"
    }
   },
   "source": [
    "## <p style=\"background-color: #f5df18; padding: 10px;\"> 🛑 Complex Numbers </p>\n",
    "---\n",
    "\n",
    "Python provides complex numbers,\n",
    "which are written as `1.0+2.0j`.\n",
    "If `val` is a complex number,\n",
    "its real and imaginary parts can be accessed using *dot notation*\n",
    "as `val.real` and `val.imag`.\n",
    "\n",
    "```python\n",
    "a_complex_number = 6 + 2j\n",
    "print(a_complex_number.real)\n",
    "print(a_complex_number.imag)\n",
    "```\n",
    "\n",
    "```output\n",
    "6.0\n",
    "2.0\n",
    "```\n",
    "\n",
    "1. Why do you think Python uses `j` instead of `i` for the imaginary part?\n",
    "2. What do you expect `1 + 2j + 3` to produce?\n",
    "3. What do you expect `4j` to be?  What about `4 j` or `4 + j`?"
   ]
  },
  {
   "cell_type": "markdown",
   "id": "9ad7c62d",
   "metadata": {
    "id": "powered-notification",
    "slideshow": {
     "slide_type": "fragment"
    }
   },
   "source": [
    "## Solution\n",
    "\n",
    "1. Standard mathematics treatments typically use `i` to denote an imaginary number. However, from media reports it\n",
    "  was an early convention established from electrical engineering that now presents a technically expensive area to\n",
    "  change. [Stack Overflow provides additional explanation and\n",
    "  discussion.](https://stackoverflow.com/questions/24812444/why-are-complex-numbers-in-python-denoted-with-j-instead-of-i)\n",
    "2. `(4+2j)`\n",
    "3. `4j` and `Syntax Error: invalid syntax`. In the latter cases, `j` is considered a variable and the statement\n",
    "  depends on if `j` is defined and if so, its assigned value.\n",
    "  \n",
    "  "
   ]
  },
  {
   "cell_type": "markdown",
   "id": "c3xyuFI9k7XT",
   "metadata": {
    "id": "c3xyuFI9k7XT",
    "slideshow": {
     "slide_type": "slide"
    }
   },
   "source": [
    "# <p style=\"background-color: #f5df18; padding: 10px;\"> 🗝️ Key points</p>\n",
    "\n",
    "---\n",
    "\n",
    "- Every value has a type.\n",
    "- Use the built-in function `type` to find the type of a value.\n",
    "- Types control what operations can be done on values.\n",
    "- Strings can be added and multiplied.\n",
    "- Strings have a length (but numbers don't).\n",
    "- Must convert numbers to strings or vice versa when operating on them.\n",
    "- Can mix integers and floats freely in operations.\n",
    "- Variables only change value when something is assigned to them."
   ]
  },
  {
   "cell_type": "code",
   "execution_count": null,
   "id": "I5WJvkMVlOdY",
   "metadata": {
    "id": "I5WJvkMVlOdY"
   },
   "outputs": [],
   "source": []
  }
 ],
 "metadata": {
  "celltoolbar": "Slideshow",
  "colab": {
   "provenance": []
  },
  "kernelspec": {
   "display_name": "Python 3 (ipykernel)",
   "language": "python",
   "name": "python3"
  },
  "language_info": {
   "codemirror_mode": {
    "name": "ipython",
    "version": 3
   },
   "file_extension": ".py",
   "mimetype": "text/x-python",
   "name": "python",
   "nbconvert_exporter": "python",
   "pygments_lexer": "ipython3",
   "version": "3.11.3"
  },
  "toc-showcode": true
 },
 "nbformat": 4,
 "nbformat_minor": 5
}
