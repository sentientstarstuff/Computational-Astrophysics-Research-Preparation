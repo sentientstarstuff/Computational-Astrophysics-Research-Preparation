{
 "cells": [
  {
   "cell_type": "markdown",
   "id": "labeled-firewall",
   "metadata": {
    "id": "labeled-firewall",
    "slideshow": {
     "slide_type": "slide"
    }
   },
   "source": [
    "# <p style=\"background-color: #f5df18; padding: 10px;\">Programming & Plotting in Python | **Reading Tabular Data into DataFrames** </p>\n",
    "\n"
   ]
  },
  {
   "cell_type": "markdown",
   "id": "b2e90a32",
   "metadata": {
    "slideshow": {
     "slide_type": "slide"
    }
   },
   "source": [
    "<div style=\"display: flex;\">\n",
    "    <div style=\"flex: 1; margin-right: 20px;\">\n",
    "        <h2>Questions</h2>\n",
    "        <ul>\n",
    "            <li>How can I read tabular data?</li>\n",
    "        </ul>\n",
    "    </div>\n",
    "    <div style=\"flex: 1;\">\n",
    "        <h2>Learning Objectives</h2>\n",
    "        <ul>\n",
    "            <li>Import the Pandas library.</li>\n",
    "    <li>Use Pandas to load a simple CSV data set.</li>\n",
    "    <li>Get some basic information about a Pandas DataFrame.</li>\n",
    "        </ul>\n",
    "    </div>\n",
    "</div>"
   ]
  },
  {
   "cell_type": "markdown",
   "id": "provincial-bruce",
   "metadata": {
    "id": "provincial-bruce",
    "slideshow": {
     "slide_type": "slide"
    },
    "tags": []
   },
   "source": [
    "\n",
    "## Use the Pandas library to do statistics on tabular data.\n",
    "---\n"
   ]
  },
  {
   "cell_type": "markdown",
   "id": "cdf194c2",
   "metadata": {
    "slideshow": {
     "slide_type": "fragment"
    }
   },
   "source": [
    "- [Pandas](https://pandas.pydata.org/) is a widely-used Python library for statistics, particularly on tabular data.\n"
   ]
  },
  {
   "cell_type": "markdown",
   "id": "6af1686f",
   "metadata": {
    "slideshow": {
     "slide_type": "fragment"
    }
   },
   "source": [
    "- Pandas uses `DataFrames`, which are 2-dimensional tables whose columns have names\n",
    "    and potentially have different data types.\n"
   ]
  },
  {
   "cell_type": "markdown",
   "id": "d4c44f0a",
   "metadata": {
    "slideshow": {
     "slide_type": "fragment"
    }
   },
   "source": [
    "- We load Pandas with `import pandas as pd`. The alias `pd` is commonly used to refer to the Pandas library in code.\n"
   ]
  },
  {
   "cell_type": "markdown",
   "id": "e4c37678",
   "metadata": {
    "slideshow": {
     "slide_type": "slide"
    }
   },
   "source": [
    "- We read Comma Separated Values (CSV) data file with `pd.read_csv`.\n",
    "  - Argument is the name of the file to be read.\n",
    "  - Returns a dataframe that you can assign to a variable\n"
   ]
  },
  {
   "cell_type": "markdown",
   "id": "fb517655",
   "metadata": {
    "slideshow": {
     "slide_type": "slide"
    }
   },
   "source": [
    "Let's read and print the contents of the `gapminder_gdp_oceania.csv` file stored in the `data` directory"
   ]
  },
  {
   "cell_type": "code",
   "execution_count": 2,
   "id": "a31ad0a9",
   "metadata": {
    "slideshow": {
     "slide_type": "-"
    }
   },
   "outputs": [],
   "source": [
    "import pandas as pd"
   ]
  },
  {
   "cell_type": "code",
   "execution_count": 3,
   "id": "0fea67d3",
   "metadata": {
    "slideshow": {
     "slide_type": "fragment"
    }
   },
   "outputs": [],
   "source": [
    "data_oceania = pd.read_csv('data/gapminder_gdp_oceania.csv')"
   ]
  },
  {
   "cell_type": "code",
   "execution_count": 4,
   "id": "e8e3c3d1",
   "metadata": {},
   "outputs": [
    {
     "data": {
      "text/html": [
       "<div>\n",
       "<style scoped>\n",
       "    .dataframe tbody tr th:only-of-type {\n",
       "        vertical-align: middle;\n",
       "    }\n",
       "\n",
       "    .dataframe tbody tr th {\n",
       "        vertical-align: top;\n",
       "    }\n",
       "\n",
       "    .dataframe thead th {\n",
       "        text-align: right;\n",
       "    }\n",
       "</style>\n",
       "<table border=\"1\" class=\"dataframe\">\n",
       "  <thead>\n",
       "    <tr style=\"text-align: right;\">\n",
       "      <th></th>\n",
       "      <th>country</th>\n",
       "      <th>gdpPercap_1952</th>\n",
       "      <th>gdpPercap_1957</th>\n",
       "      <th>gdpPercap_1962</th>\n",
       "      <th>gdpPercap_1967</th>\n",
       "      <th>gdpPercap_1972</th>\n",
       "      <th>gdpPercap_1977</th>\n",
       "      <th>gdpPercap_1982</th>\n",
       "      <th>gdpPercap_1987</th>\n",
       "      <th>gdpPercap_1992</th>\n",
       "      <th>gdpPercap_1997</th>\n",
       "      <th>gdpPercap_2002</th>\n",
       "      <th>gdpPercap_2007</th>\n",
       "    </tr>\n",
       "  </thead>\n",
       "  <tbody>\n",
       "    <tr>\n",
       "      <th>0</th>\n",
       "      <td>Australia</td>\n",
       "      <td>10039.59564</td>\n",
       "      <td>10949.64959</td>\n",
       "      <td>12217.22686</td>\n",
       "      <td>14526.12465</td>\n",
       "      <td>16788.62948</td>\n",
       "      <td>18334.19751</td>\n",
       "      <td>19477.00928</td>\n",
       "      <td>21888.88903</td>\n",
       "      <td>23424.76683</td>\n",
       "      <td>26997.93657</td>\n",
       "      <td>30687.75473</td>\n",
       "      <td>34435.36744</td>\n",
       "    </tr>\n",
       "    <tr>\n",
       "      <th>1</th>\n",
       "      <td>New Zealand</td>\n",
       "      <td>10556.57566</td>\n",
       "      <td>12247.39532</td>\n",
       "      <td>13175.67800</td>\n",
       "      <td>14463.91893</td>\n",
       "      <td>16046.03728</td>\n",
       "      <td>16233.71770</td>\n",
       "      <td>17632.41040</td>\n",
       "      <td>19007.19129</td>\n",
       "      <td>18363.32494</td>\n",
       "      <td>21050.41377</td>\n",
       "      <td>23189.80135</td>\n",
       "      <td>25185.00911</td>\n",
       "    </tr>\n",
       "  </tbody>\n",
       "</table>\n",
       "</div>"
      ],
      "text/plain": [
       "       country  gdpPercap_1952  gdpPercap_1957  gdpPercap_1962  \\\n",
       "0    Australia     10039.59564     10949.64959     12217.22686   \n",
       "1  New Zealand     10556.57566     12247.39532     13175.67800   \n",
       "\n",
       "   gdpPercap_1967  gdpPercap_1972  gdpPercap_1977  gdpPercap_1982  \\\n",
       "0     14526.12465     16788.62948     18334.19751     19477.00928   \n",
       "1     14463.91893     16046.03728     16233.71770     17632.41040   \n",
       "\n",
       "   gdpPercap_1987  gdpPercap_1992  gdpPercap_1997  gdpPercap_2002  \\\n",
       "0     21888.88903     23424.76683     26997.93657     30687.75473   \n",
       "1     19007.19129     18363.32494     21050.41377     23189.80135   \n",
       "\n",
       "   gdpPercap_2007  \n",
       "0     34435.36744  \n",
       "1     25185.00911  "
      ]
     },
     "execution_count": 4,
     "metadata": {},
     "output_type": "execute_result"
    }
   ],
   "source": [
    "data_oceania"
   ]
  },
  {
   "cell_type": "markdown",
   "id": "f7d6d362",
   "metadata": {
    "slideshow": {
     "slide_type": "slide"
    }
   },
   "source": [
    "- The columns in a dataframe are the observed variables, and the rows are the observations."
   ]
  },
  {
   "cell_type": "markdown",
   "id": "2a59f488",
   "metadata": {
    "slideshow": {
     "slide_type": "fragment"
    }
   },
   "source": [
    "- Pandas uses backslash `\\` to show wrapped lines when output is too wide to fit the screen."
   ]
  },
  {
   "cell_type": "markdown",
   "id": "c0c20f6e",
   "metadata": {
    "slideshow": {
     "slide_type": "fragment"
    }
   },
   "source": [
    "- Using descriptive dataframe names helps us distinguish between multiple dataframes so we won't accidentally overwrite a dataframe or read from the wrong one."
   ]
  },
  {
   "cell_type": "markdown",
   "id": "HeZYJOpw7Tmp",
   "metadata": {
    "id": "HeZYJOpw7Tmp",
    "slideshow": {
     "slide_type": "slide"
    }
   },
   "source": [
    "## 🔔 File Not Found\n",
    "---\n",
    "\n",
    "Our lessons store their data files in a `data` sub-directory,\n",
    "which is why the path to the file is `data/gapminder_gdp_oceania.csv`.\n",
    "If you forget to include `data/`,\n",
    "or if you include it but your copy of the file is somewhere else,\n",
    "you will get a [runtime error](04-built-in.md)\n",
    "that ends with a line like this:\n",
    "\n",
    "```error\n",
    "FileNotFoundError: [Errno 2] No such file or directory: 'data/gapminder_gdp_oceania.csv'\n",
    "```\n"
   ]
  },
  {
   "cell_type": "markdown",
   "id": "pressed-commerce",
   "metadata": {
    "id": "pressed-commerce",
    "slideshow": {
     "slide_type": "slide"
    },
    "tags": []
   },
   "source": [
    "##  Use `index_col` to specify that a column's values should be used as row headings.\n",
    "---\n",
    "\n",
    "- Row headings are numbers (0 and 1 in this case).\n",
    "- Really want to index by country.\n",
    "- Pass the name of the column to `read_csv` as its `index_col` parameter to do this.\n",
    "- Naming the dataframe `data_oceania_country` tells us which region the data includes (`oceania`) and how it is indexed (`country`)."
   ]
  },
  {
   "cell_type": "code",
   "execution_count": 5,
   "id": "3fb7eaeb",
   "metadata": {
    "slideshow": {
     "slide_type": "-"
    }
   },
   "outputs": [],
   "source": [
    "data_oceania_country = pd.read_csv('data/gapminder_gdp_oceania.csv', index_col='country')"
   ]
  },
  {
   "cell_type": "code",
   "execution_count": 6,
   "id": "b54cef0b",
   "metadata": {
    "slideshow": {
     "slide_type": "-"
    }
   },
   "outputs": [
    {
     "data": {
      "text/html": [
       "<div>\n",
       "<style scoped>\n",
       "    .dataframe tbody tr th:only-of-type {\n",
       "        vertical-align: middle;\n",
       "    }\n",
       "\n",
       "    .dataframe tbody tr th {\n",
       "        vertical-align: top;\n",
       "    }\n",
       "\n",
       "    .dataframe thead th {\n",
       "        text-align: right;\n",
       "    }\n",
       "</style>\n",
       "<table border=\"1\" class=\"dataframe\">\n",
       "  <thead>\n",
       "    <tr style=\"text-align: right;\">\n",
       "      <th></th>\n",
       "      <th>gdpPercap_1952</th>\n",
       "      <th>gdpPercap_1957</th>\n",
       "      <th>gdpPercap_1962</th>\n",
       "      <th>gdpPercap_1967</th>\n",
       "      <th>gdpPercap_1972</th>\n",
       "      <th>gdpPercap_1977</th>\n",
       "      <th>gdpPercap_1982</th>\n",
       "      <th>gdpPercap_1987</th>\n",
       "      <th>gdpPercap_1992</th>\n",
       "      <th>gdpPercap_1997</th>\n",
       "      <th>gdpPercap_2002</th>\n",
       "      <th>gdpPercap_2007</th>\n",
       "    </tr>\n",
       "    <tr>\n",
       "      <th>country</th>\n",
       "      <th></th>\n",
       "      <th></th>\n",
       "      <th></th>\n",
       "      <th></th>\n",
       "      <th></th>\n",
       "      <th></th>\n",
       "      <th></th>\n",
       "      <th></th>\n",
       "      <th></th>\n",
       "      <th></th>\n",
       "      <th></th>\n",
       "      <th></th>\n",
       "    </tr>\n",
       "  </thead>\n",
       "  <tbody>\n",
       "    <tr>\n",
       "      <th>Australia</th>\n",
       "      <td>10039.59564</td>\n",
       "      <td>10949.64959</td>\n",
       "      <td>12217.22686</td>\n",
       "      <td>14526.12465</td>\n",
       "      <td>16788.62948</td>\n",
       "      <td>18334.19751</td>\n",
       "      <td>19477.00928</td>\n",
       "      <td>21888.88903</td>\n",
       "      <td>23424.76683</td>\n",
       "      <td>26997.93657</td>\n",
       "      <td>30687.75473</td>\n",
       "      <td>34435.36744</td>\n",
       "    </tr>\n",
       "    <tr>\n",
       "      <th>New Zealand</th>\n",
       "      <td>10556.57566</td>\n",
       "      <td>12247.39532</td>\n",
       "      <td>13175.67800</td>\n",
       "      <td>14463.91893</td>\n",
       "      <td>16046.03728</td>\n",
       "      <td>16233.71770</td>\n",
       "      <td>17632.41040</td>\n",
       "      <td>19007.19129</td>\n",
       "      <td>18363.32494</td>\n",
       "      <td>21050.41377</td>\n",
       "      <td>23189.80135</td>\n",
       "      <td>25185.00911</td>\n",
       "    </tr>\n",
       "  </tbody>\n",
       "</table>\n",
       "</div>"
      ],
      "text/plain": [
       "             gdpPercap_1952  gdpPercap_1957  gdpPercap_1962  gdpPercap_1967  \\\n",
       "country                                                                       \n",
       "Australia       10039.59564     10949.64959     12217.22686     14526.12465   \n",
       "New Zealand     10556.57566     12247.39532     13175.67800     14463.91893   \n",
       "\n",
       "             gdpPercap_1972  gdpPercap_1977  gdpPercap_1982  gdpPercap_1987  \\\n",
       "country                                                                       \n",
       "Australia       16788.62948     18334.19751     19477.00928     21888.88903   \n",
       "New Zealand     16046.03728     16233.71770     17632.41040     19007.19129   \n",
       "\n",
       "             gdpPercap_1992  gdpPercap_1997  gdpPercap_2002  gdpPercap_2007  \n",
       "country                                                                      \n",
       "Australia       23424.76683     26997.93657     30687.75473     34435.36744  \n",
       "New Zealand     18363.32494     21050.41377     23189.80135     25185.00911  "
      ]
     },
     "execution_count": 6,
     "metadata": {},
     "output_type": "execute_result"
    }
   ],
   "source": [
    "data_oceania_country"
   ]
  },
  {
   "cell_type": "markdown",
   "id": "DMO1E52P7icM",
   "metadata": {
    "id": "DMO1E52P7icM",
    "slideshow": {
     "slide_type": "slide"
    }
   },
   "source": [
    "## Use the `DataFrame.info()` method to find out more about a dataframe.\n",
    "---\n"
   ]
  },
  {
   "cell_type": "code",
   "execution_count": 7,
   "id": "PzhR_CFQ721c",
   "metadata": {
    "id": "PzhR_CFQ721c",
    "slideshow": {
     "slide_type": "-"
    }
   },
   "outputs": [
    {
     "name": "stdout",
     "output_type": "stream",
     "text": [
      "<class 'pandas.core.frame.DataFrame'>\n",
      "Index: 2 entries, Australia to New Zealand\n",
      "Data columns (total 12 columns):\n",
      " #   Column          Non-Null Count  Dtype  \n",
      "---  ------          --------------  -----  \n",
      " 0   gdpPercap_1952  2 non-null      float64\n",
      " 1   gdpPercap_1957  2 non-null      float64\n",
      " 2   gdpPercap_1962  2 non-null      float64\n",
      " 3   gdpPercap_1967  2 non-null      float64\n",
      " 4   gdpPercap_1972  2 non-null      float64\n",
      " 5   gdpPercap_1977  2 non-null      float64\n",
      " 6   gdpPercap_1982  2 non-null      float64\n",
      " 7   gdpPercap_1987  2 non-null      float64\n",
      " 8   gdpPercap_1992  2 non-null      float64\n",
      " 9   gdpPercap_1997  2 non-null      float64\n",
      " 10  gdpPercap_2002  2 non-null      float64\n",
      " 11  gdpPercap_2007  2 non-null      float64\n",
      "dtypes: float64(12)\n",
      "memory usage: 208.0+ bytes\n"
     ]
    }
   ],
   "source": [
    "data_oceania_country.info()"
   ]
  },
  {
   "cell_type": "markdown",
   "id": "68b672d8",
   "metadata": {
    "slideshow": {
     "slide_type": "slide"
    }
   },
   "source": [
    "- This is a `DataFrame`\n",
    "- Two rows named `'Australia'` and `'New Zealand'`\n",
    "- Twelve columns, each of which has two actual 64-bit floating point values.\n",
    "  - We will talk later about null values, which are used to represent missing observations.\n",
    "- Uses 208 bytes of memory."
   ]
  },
  {
   "cell_type": "markdown",
   "id": "oriental-transsexual",
   "metadata": {
    "id": "oriental-transsexual",
    "jp-MarkdownHeadingCollapsed": true,
    "slideshow": {
     "slide_type": "slide"
    },
    "tags": []
   },
   "source": [
    "## The `DataFrame.columns` variable stores information about the dataframe's columns.\n",
    "---"
   ]
  },
  {
   "cell_type": "code",
   "execution_count": 8,
   "id": "596d7b23",
   "metadata": {
    "slideshow": {
     "slide_type": "-"
    }
   },
   "outputs": [
    {
     "data": {
      "text/plain": [
       "Index(['gdpPercap_1952', 'gdpPercap_1957', 'gdpPercap_1962', 'gdpPercap_1967',\n",
       "       'gdpPercap_1972', 'gdpPercap_1977', 'gdpPercap_1982', 'gdpPercap_1987',\n",
       "       'gdpPercap_1992', 'gdpPercap_1997', 'gdpPercap_2002', 'gdpPercap_2007'],\n",
       "      dtype='object')"
      ]
     },
     "execution_count": 8,
     "metadata": {},
     "output_type": "execute_result"
    }
   ],
   "source": [
    "data_oceania_country.columns"
   ]
  },
  {
   "cell_type": "markdown",
   "id": "fe1f5d31",
   "metadata": {
    "id": "atomic-afternoon",
    "scrolled": true,
    "slideshow": {
     "slide_type": "fragment"
    },
    "tags": []
   },
   "source": [
    "\n",
    "- Note that this is data, *not* a method.  (It doesn't have parentheses.)\n",
    "  - Like `math.pi`.\n",
    "  - So do not use `()` to try to call it.\n",
    "- Called a *member variable*, or just *member*."
   ]
  },
  {
   "cell_type": "markdown",
   "id": "2ddcbdac",
   "metadata": {
    "slideshow": {
     "slide_type": "slide"
    }
   },
   "source": [
    "## Use `DataFrame.T` to transpose a dataframe.\n",
    "---\n",
    "\n",
    "- Sometimes want to treat columns as rows and vice versa.\n",
    "- Transpose (written `.T`) doesn't copy the data, just changes the program's view of it.\n",
    "- Like `columns`, it is a member variable.\n"
   ]
  },
  {
   "cell_type": "code",
   "execution_count": 9,
   "id": "f8776418",
   "metadata": {
    "slideshow": {
     "slide_type": "-"
    }
   },
   "outputs": [
    {
     "data": {
      "text/html": [
       "<div>\n",
       "<style scoped>\n",
       "    .dataframe tbody tr th:only-of-type {\n",
       "        vertical-align: middle;\n",
       "    }\n",
       "\n",
       "    .dataframe tbody tr th {\n",
       "        vertical-align: top;\n",
       "    }\n",
       "\n",
       "    .dataframe thead th {\n",
       "        text-align: right;\n",
       "    }\n",
       "</style>\n",
       "<table border=\"1\" class=\"dataframe\">\n",
       "  <thead>\n",
       "    <tr style=\"text-align: right;\">\n",
       "      <th>country</th>\n",
       "      <th>Australia</th>\n",
       "      <th>New Zealand</th>\n",
       "    </tr>\n",
       "  </thead>\n",
       "  <tbody>\n",
       "    <tr>\n",
       "      <th>gdpPercap_1952</th>\n",
       "      <td>10039.59564</td>\n",
       "      <td>10556.57566</td>\n",
       "    </tr>\n",
       "    <tr>\n",
       "      <th>gdpPercap_1957</th>\n",
       "      <td>10949.64959</td>\n",
       "      <td>12247.39532</td>\n",
       "    </tr>\n",
       "    <tr>\n",
       "      <th>gdpPercap_1962</th>\n",
       "      <td>12217.22686</td>\n",
       "      <td>13175.67800</td>\n",
       "    </tr>\n",
       "    <tr>\n",
       "      <th>gdpPercap_1967</th>\n",
       "      <td>14526.12465</td>\n",
       "      <td>14463.91893</td>\n",
       "    </tr>\n",
       "    <tr>\n",
       "      <th>gdpPercap_1972</th>\n",
       "      <td>16788.62948</td>\n",
       "      <td>16046.03728</td>\n",
       "    </tr>\n",
       "    <tr>\n",
       "      <th>gdpPercap_1977</th>\n",
       "      <td>18334.19751</td>\n",
       "      <td>16233.71770</td>\n",
       "    </tr>\n",
       "    <tr>\n",
       "      <th>gdpPercap_1982</th>\n",
       "      <td>19477.00928</td>\n",
       "      <td>17632.41040</td>\n",
       "    </tr>\n",
       "    <tr>\n",
       "      <th>gdpPercap_1987</th>\n",
       "      <td>21888.88903</td>\n",
       "      <td>19007.19129</td>\n",
       "    </tr>\n",
       "    <tr>\n",
       "      <th>gdpPercap_1992</th>\n",
       "      <td>23424.76683</td>\n",
       "      <td>18363.32494</td>\n",
       "    </tr>\n",
       "    <tr>\n",
       "      <th>gdpPercap_1997</th>\n",
       "      <td>26997.93657</td>\n",
       "      <td>21050.41377</td>\n",
       "    </tr>\n",
       "    <tr>\n",
       "      <th>gdpPercap_2002</th>\n",
       "      <td>30687.75473</td>\n",
       "      <td>23189.80135</td>\n",
       "    </tr>\n",
       "    <tr>\n",
       "      <th>gdpPercap_2007</th>\n",
       "      <td>34435.36744</td>\n",
       "      <td>25185.00911</td>\n",
       "    </tr>\n",
       "  </tbody>\n",
       "</table>\n",
       "</div>"
      ],
      "text/plain": [
       "country           Australia  New Zealand\n",
       "gdpPercap_1952  10039.59564  10556.57566\n",
       "gdpPercap_1957  10949.64959  12247.39532\n",
       "gdpPercap_1962  12217.22686  13175.67800\n",
       "gdpPercap_1967  14526.12465  14463.91893\n",
       "gdpPercap_1972  16788.62948  16046.03728\n",
       "gdpPercap_1977  18334.19751  16233.71770\n",
       "gdpPercap_1982  19477.00928  17632.41040\n",
       "gdpPercap_1987  21888.88903  19007.19129\n",
       "gdpPercap_1992  23424.76683  18363.32494\n",
       "gdpPercap_1997  26997.93657  21050.41377\n",
       "gdpPercap_2002  30687.75473  23189.80135\n",
       "gdpPercap_2007  34435.36744  25185.00911"
      ]
     },
     "execution_count": 9,
     "metadata": {},
     "output_type": "execute_result"
    }
   ],
   "source": [
    "data_oceania_country.T"
   ]
  },
  {
   "cell_type": "markdown",
   "id": "ad9fad08",
   "metadata": {
    "slideshow": {
     "slide_type": "slide"
    }
   },
   "source": [
    "## Use `DataFrame.describe()` to get summary statistics about data.\n",
    "---\n",
    "\n",
    "`DataFrame.describe()` gets the summary statistics of only the columns that have numerical data.\n",
    "All other columns are ignored, unless you use the argument `include='all'`."
   ]
  },
  {
   "cell_type": "code",
   "execution_count": 10,
   "id": "824d0cba",
   "metadata": {
    "slideshow": {
     "slide_type": "-"
    }
   },
   "outputs": [
    {
     "data": {
      "text/html": [
       "<div>\n",
       "<style scoped>\n",
       "    .dataframe tbody tr th:only-of-type {\n",
       "        vertical-align: middle;\n",
       "    }\n",
       "\n",
       "    .dataframe tbody tr th {\n",
       "        vertical-align: top;\n",
       "    }\n",
       "\n",
       "    .dataframe thead th {\n",
       "        text-align: right;\n",
       "    }\n",
       "</style>\n",
       "<table border=\"1\" class=\"dataframe\">\n",
       "  <thead>\n",
       "    <tr style=\"text-align: right;\">\n",
       "      <th></th>\n",
       "      <th>gdpPercap_1952</th>\n",
       "      <th>gdpPercap_1957</th>\n",
       "      <th>gdpPercap_1962</th>\n",
       "      <th>gdpPercap_1967</th>\n",
       "      <th>gdpPercap_1972</th>\n",
       "      <th>gdpPercap_1977</th>\n",
       "      <th>gdpPercap_1982</th>\n",
       "      <th>gdpPercap_1987</th>\n",
       "      <th>gdpPercap_1992</th>\n",
       "      <th>gdpPercap_1997</th>\n",
       "      <th>gdpPercap_2002</th>\n",
       "      <th>gdpPercap_2007</th>\n",
       "    </tr>\n",
       "  </thead>\n",
       "  <tbody>\n",
       "    <tr>\n",
       "      <th>count</th>\n",
       "      <td>2.000000</td>\n",
       "      <td>2.000000</td>\n",
       "      <td>2.000000</td>\n",
       "      <td>2.000000</td>\n",
       "      <td>2.00000</td>\n",
       "      <td>2.000000</td>\n",
       "      <td>2.000000</td>\n",
       "      <td>2.000000</td>\n",
       "      <td>2.000000</td>\n",
       "      <td>2.000000</td>\n",
       "      <td>2.000000</td>\n",
       "      <td>2.000000</td>\n",
       "    </tr>\n",
       "    <tr>\n",
       "      <th>mean</th>\n",
       "      <td>10298.085650</td>\n",
       "      <td>11598.522455</td>\n",
       "      <td>12696.452430</td>\n",
       "      <td>14495.021790</td>\n",
       "      <td>16417.33338</td>\n",
       "      <td>17283.957605</td>\n",
       "      <td>18554.709840</td>\n",
       "      <td>20448.040160</td>\n",
       "      <td>20894.045885</td>\n",
       "      <td>24024.175170</td>\n",
       "      <td>26938.778040</td>\n",
       "      <td>29810.188275</td>\n",
       "    </tr>\n",
       "    <tr>\n",
       "      <th>std</th>\n",
       "      <td>365.560078</td>\n",
       "      <td>917.644806</td>\n",
       "      <td>677.727301</td>\n",
       "      <td>43.986086</td>\n",
       "      <td>525.09198</td>\n",
       "      <td>1485.263517</td>\n",
       "      <td>1304.328377</td>\n",
       "      <td>2037.668013</td>\n",
       "      <td>3578.979883</td>\n",
       "      <td>4205.533703</td>\n",
       "      <td>5301.853680</td>\n",
       "      <td>6540.991104</td>\n",
       "    </tr>\n",
       "    <tr>\n",
       "      <th>min</th>\n",
       "      <td>10039.595640</td>\n",
       "      <td>10949.649590</td>\n",
       "      <td>12217.226860</td>\n",
       "      <td>14463.918930</td>\n",
       "      <td>16046.03728</td>\n",
       "      <td>16233.717700</td>\n",
       "      <td>17632.410400</td>\n",
       "      <td>19007.191290</td>\n",
       "      <td>18363.324940</td>\n",
       "      <td>21050.413770</td>\n",
       "      <td>23189.801350</td>\n",
       "      <td>25185.009110</td>\n",
       "    </tr>\n",
       "    <tr>\n",
       "      <th>25%</th>\n",
       "      <td>10168.840645</td>\n",
       "      <td>11274.086022</td>\n",
       "      <td>12456.839645</td>\n",
       "      <td>14479.470360</td>\n",
       "      <td>16231.68533</td>\n",
       "      <td>16758.837652</td>\n",
       "      <td>18093.560120</td>\n",
       "      <td>19727.615725</td>\n",
       "      <td>19628.685412</td>\n",
       "      <td>22537.294470</td>\n",
       "      <td>25064.289695</td>\n",
       "      <td>27497.598692</td>\n",
       "    </tr>\n",
       "    <tr>\n",
       "      <th>50%</th>\n",
       "      <td>10298.085650</td>\n",
       "      <td>11598.522455</td>\n",
       "      <td>12696.452430</td>\n",
       "      <td>14495.021790</td>\n",
       "      <td>16417.33338</td>\n",
       "      <td>17283.957605</td>\n",
       "      <td>18554.709840</td>\n",
       "      <td>20448.040160</td>\n",
       "      <td>20894.045885</td>\n",
       "      <td>24024.175170</td>\n",
       "      <td>26938.778040</td>\n",
       "      <td>29810.188275</td>\n",
       "    </tr>\n",
       "    <tr>\n",
       "      <th>75%</th>\n",
       "      <td>10427.330655</td>\n",
       "      <td>11922.958888</td>\n",
       "      <td>12936.065215</td>\n",
       "      <td>14510.573220</td>\n",
       "      <td>16602.98143</td>\n",
       "      <td>17809.077558</td>\n",
       "      <td>19015.859560</td>\n",
       "      <td>21168.464595</td>\n",
       "      <td>22159.406358</td>\n",
       "      <td>25511.055870</td>\n",
       "      <td>28813.266385</td>\n",
       "      <td>32122.777858</td>\n",
       "    </tr>\n",
       "    <tr>\n",
       "      <th>max</th>\n",
       "      <td>10556.575660</td>\n",
       "      <td>12247.395320</td>\n",
       "      <td>13175.678000</td>\n",
       "      <td>14526.124650</td>\n",
       "      <td>16788.62948</td>\n",
       "      <td>18334.197510</td>\n",
       "      <td>19477.009280</td>\n",
       "      <td>21888.889030</td>\n",
       "      <td>23424.766830</td>\n",
       "      <td>26997.936570</td>\n",
       "      <td>30687.754730</td>\n",
       "      <td>34435.367440</td>\n",
       "    </tr>\n",
       "  </tbody>\n",
       "</table>\n",
       "</div>"
      ],
      "text/plain": [
       "       gdpPercap_1952  gdpPercap_1957  gdpPercap_1962  gdpPercap_1967  \\\n",
       "count        2.000000        2.000000        2.000000        2.000000   \n",
       "mean     10298.085650    11598.522455    12696.452430    14495.021790   \n",
       "std        365.560078      917.644806      677.727301       43.986086   \n",
       "min      10039.595640    10949.649590    12217.226860    14463.918930   \n",
       "25%      10168.840645    11274.086022    12456.839645    14479.470360   \n",
       "50%      10298.085650    11598.522455    12696.452430    14495.021790   \n",
       "75%      10427.330655    11922.958888    12936.065215    14510.573220   \n",
       "max      10556.575660    12247.395320    13175.678000    14526.124650   \n",
       "\n",
       "       gdpPercap_1972  gdpPercap_1977  gdpPercap_1982  gdpPercap_1987  \\\n",
       "count         2.00000        2.000000        2.000000        2.000000   \n",
       "mean      16417.33338    17283.957605    18554.709840    20448.040160   \n",
       "std         525.09198     1485.263517     1304.328377     2037.668013   \n",
       "min       16046.03728    16233.717700    17632.410400    19007.191290   \n",
       "25%       16231.68533    16758.837652    18093.560120    19727.615725   \n",
       "50%       16417.33338    17283.957605    18554.709840    20448.040160   \n",
       "75%       16602.98143    17809.077558    19015.859560    21168.464595   \n",
       "max       16788.62948    18334.197510    19477.009280    21888.889030   \n",
       "\n",
       "       gdpPercap_1992  gdpPercap_1997  gdpPercap_2002  gdpPercap_2007  \n",
       "count        2.000000        2.000000        2.000000        2.000000  \n",
       "mean     20894.045885    24024.175170    26938.778040    29810.188275  \n",
       "std       3578.979883     4205.533703     5301.853680     6540.991104  \n",
       "min      18363.324940    21050.413770    23189.801350    25185.009110  \n",
       "25%      19628.685412    22537.294470    25064.289695    27497.598692  \n",
       "50%      20894.045885    24024.175170    26938.778040    29810.188275  \n",
       "75%      22159.406358    25511.055870    28813.266385    32122.777858  \n",
       "max      23424.766830    26997.936570    30687.754730    34435.367440  "
      ]
     },
     "execution_count": 10,
     "metadata": {},
     "output_type": "execute_result"
    }
   ],
   "source": [
    "data_oceania_country.describe()"
   ]
  },
  {
   "cell_type": "markdown",
   "id": "674b7dfb",
   "metadata": {
    "slideshow": {
     "slide_type": "slide"
    }
   },
   "source": [
    "- Not particularly useful with just two records,\n",
    "  but very helpful when there are thousands."
   ]
  },
  {
   "cell_type": "markdown",
   "id": "pTTOSGfZRIY_",
   "metadata": {
    "id": "pTTOSGfZRIY_",
    "slideshow": {
     "slide_type": "slide"
    }
   },
   "source": [
    "## <p style=\"background-color: #f5df18; padding: 10px;\"> 🛑 Reading other data </p>\n",
    "\n",
    "---\n",
    "\n",
    "Read the data in `gapminder_gdp_americas.csv`\n",
    "(which should be in the same directory as `gapminder_gdp_oceania.csv`)\n",
    "into a variable called `data_americas`\n",
    "and display its summary statistics."
   ]
  },
  {
   "cell_type": "markdown",
   "id": "3210a8e9",
   "metadata": {
    "id": "gGsU55CWQEMa",
    "slideshow": {
     "slide_type": "-"
    }
   },
   "source": [
    "## Solution\n",
    "\n",
    "To read in a CSV, we use `pd.read_csv` and pass the filename `'data/gapminder_gdp_americas.csv'` to it.\n",
    "We also once again pass the column name `'country'` to the parameter `index_col` in order to index by country.\n",
    "The summary statistics can be displayed with the `DataFrame.describe()` method.\n",
    "\n",
    "```python\n",
    "data_americas = pd.read_csv('data/gapminder_gdp_americas.csv', index_col='country')\n",
    "data_americas.describe()\n",
    "```\n"
   ]
  },
  {
   "cell_type": "markdown",
   "id": "jDJ9_x3m8b8X",
   "metadata": {
    "id": "jDJ9_x3m8b8X",
    "slideshow": {
     "slide_type": "slide"
    }
   },
   "source": [
    "## <p style=\"background-color: #f5df18; padding: 10px;\"> 🛑 Inspecting data </p>\n",
    "\n",
    "---\n",
    "\n",
    "After reading the data for the Americas,\n",
    "use `help(data_americas.head)` and `help(data_americas.tail)`\n",
    "to find out what `DataFrame.head` and `DataFrame.tail` do.\n",
    "\n",
    "1. What method call will display the first three rows of this data?\n",
    "2. What method call will display the last three columns of this data?\n",
    "  (Hint: you may need to change your view of the data.)"
   ]
  },
  {
   "cell_type": "markdown",
   "id": "ca2c485d",
   "metadata": {
    "id": "4d33babe",
    "slideshow": {
     "slide_type": "-"
    }
   },
   "source": [
    "## Solution\n",
    "\n",
    "1. We can check out the first five rows of `data_americas` by executing `data_americas.head()`\n",
    "  which lets us view the beginning of the DataFrame. We can specify the number of rows we wish\n",
    "  to see by specifying the parameter `n` in our call to `data_americas.head()`.\n",
    "  To view the first three rows, execute:\n",
    "  \n",
    "  ```python\n",
    "  data_americas.head(n=3)\n",
    "  ```\n",
    "  \n",
    "  ```output\n",
    "            continent  gdpPercap_1952  gdpPercap_1957  gdpPercap_1962  \\\n",
    "  country\n",
    "  Argentina  Americas     5911.315053     6856.856212     7133.166023\n",
    "  Bolivia    Americas     2677.326347     2127.686326     2180.972546\n",
    "  Brazil     Americas     2108.944355     2487.365989     3336.585802\n",
    "  \n",
    "            gdpPercap_1967  gdpPercap_1972  gdpPercap_1977  gdpPercap_1982  \\\n",
    "  country\n",
    "  Argentina     8052.953021     9443.038526    10079.026740     8997.897412\n",
    "  Bolivia       2586.886053     2980.331339     3548.097832     3156.510452\n",
    "  Brazil        3429.864357     4985.711467     6660.118654     7030.835878\n",
    "  \n",
    "             gdpPercap_1987  gdpPercap_1992  gdpPercap_1997  gdpPercap_2002  \\\n",
    "  country\n",
    "  Argentina     9139.671389     9308.418710    10967.281950     8797.640716\n",
    "  Bolivia       2753.691490     2961.699694     3326.143191     3413.262690\n",
    "  Brazil        7807.095818     6950.283021     7957.980824     8131.212843\n",
    "  \n",
    "             gdpPercap_2007\n",
    "  country\n",
    "  Argentina    12779.379640\n",
    "  Bolivia       3822.137084\n",
    "  Brazil        9065.800825\n",
    "  ```\n",
    "\n",
    "2. To check out the last three rows of `data_americas`, we would use the command,\n",
    "  `americas.tail(n=3)`, analogous to `head()` used above. However, here we want to look at\n",
    "  the last three columns so we need to change our view and then use `tail()`. To do so, we\n",
    "  create a new DataFrame in which rows and columns are switched:\n",
    "  \n",
    "  ```python\n",
    "  americas_flipped = data_americas.T\n",
    "  ```\n",
    "  \n",
    "  We can then view the last three columns of `americas` by viewing the last three rows\n",
    "  of `americas_flipped`:\n",
    "  \n",
    "  ```python\n",
    "  americas_flipped.tail(n=3)\n",
    "  ```\n",
    "  \n",
    "  ```output\n",
    "  country        Argentina  Bolivia   Brazil   Canada    Chile Colombia  \\\n",
    "  gdpPercap_1997   10967.3  3326.14  7957.98  28954.9  10118.1  6117.36\n",
    "  gdpPercap_2002   8797.64  3413.26  8131.21    33329  10778.8  5755.26\n",
    "  gdpPercap_2007   12779.4  3822.14   9065.8  36319.2  13171.6  7006.58\n",
    "  \n",
    "  country        Costa Rica     Cuba Dominican Republic  Ecuador    ...     \\\n",
    "  gdpPercap_1997    6677.05  5431.99             3614.1  7429.46    ...\n",
    "  gdpPercap_2002    7723.45  6340.65            4563.81  5773.04    ...\n",
    "  gdpPercap_2007    9645.06   8948.1            6025.37  6873.26    ...\n",
    "  \n",
    "  country          Mexico Nicaragua   Panama Paraguay     Peru Puerto Rico  \\\n",
    "  gdpPercap_1997   9767.3   2253.02  7113.69   4247.4  5838.35     16999.4\n",
    "  gdpPercap_2002  10742.4   2474.55  7356.03  3783.67  5909.02     18855.6\n",
    "  gdpPercap_2007  11977.6   2749.32  9809.19  4172.84  7408.91     19328.7\n",
    "  \n",
    "  country        Trinidad and Tobago United States  Uruguay Venezuela\n",
    "  gdpPercap_1997             8792.57       35767.4  9230.24   10165.5\n",
    "  gdpPercap_2002             11460.6       39097.1     7727   8605.05\n",
    "  gdpPercap_2007             18008.5       42951.7  10611.5   11415.8\n",
    "  ```\n",
    "  \n",
    "  This shows the data that we want, but we may prefer to display three columns instead of three rows,\n",
    "  so we can flip it back:\n",
    "  \n",
    "  ```python\n",
    "  americas_flipped.tail(n=3).T    \n",
    "  ```\n",
    "  \n",
    "  **Note:** we could have done the above in a single line of code by 'chaining' the commands:\n",
    "  \n",
    "  ```python\n",
    "  data_americas.T.tail(n=3).T\n",
    "  ```"
   ]
  },
  {
   "cell_type": "markdown",
   "id": "sm0UZGqk8oqs",
   "metadata": {
    "id": "sm0UZGqk8oqs",
    "slideshow": {
     "slide_type": "slide"
    }
   },
   "source": [
    "## <p style=\"background-color: #f5df18; padding: 10px;\"> 🛑 Reading Files in Other Directories </p>\n",
    "---\n",
    "\n",
    "The data for your current project is stored in a file called `microbes.csv`,\n",
    "which is located in a folder called `field_data`.\n",
    "You are doing analysis in a notebook called `analysis.ipynb`\n",
    "in a sibling folder called `thesis`:\n",
    "\n",
    "```output\n",
    "your_home_directory\n",
    "+-- field_data/\n",
    "|   +-- microbes.csv\n",
    "+-- thesis/\n",
    "    +-- analysis.ipynb\n",
    "```\n",
    "\n",
    "What value(s) should you pass to `read_csv` to read `microbes.csv` in `analysis.ipynb`?"
   ]
  },
  {
   "cell_type": "markdown",
   "id": "ae240376",
   "metadata": {
    "id": "bbB11nRP8m-R",
    "slideshow": {
     "slide_type": "-"
    }
   },
   "source": [
    "## Solution\n",
    "\n",
    "We need to specify the path to the file of interest in the call to `pd.read_csv`. We first need to 'jump' out of\n",
    "the folder `thesis` using '../' and then into the folder `field_data` using 'field\\_data/'. Then we can specify the filename \\`microbes.csv.\n",
    "The result is as follows:\n",
    "\n",
    "```python\n",
    "data_microbes = pd.read_csv('../field_data/microbes.csv')\n",
    "```"
   ]
  },
  {
   "cell_type": "markdown",
   "id": "Vwu5plPm85nq",
   "metadata": {
    "id": "Vwu5plPm85nq",
    "slideshow": {
     "slide_type": "slide"
    }
   },
   "source": [
    "## <p style=\"background-color: #f5df18; padding: 10px;\"> 🛑 Writing data </p>\n",
    "---\n",
    "\n",
    "As well as the `read_csv` function for reading data from a file,\n",
    "Pandas provides a `to_csv` function to write dataframes to files.\n",
    "Applying what you've learned about reading from files,\n",
    "write one of your dataframes to a file called `processed.csv`.\n",
    "You can use `help` to get information on how to use `to_csv`."
   ]
  },
  {
   "cell_type": "markdown",
   "id": "83468b4e",
   "metadata": {
    "id": "63219e21",
    "slideshow": {
     "slide_type": "-"
    }
   },
   "source": [
    "## Solution\n",
    "\n",
    "In order to write the DataFrame `data_americas` to a file called `processed.csv`, execute the following command:\n",
    "\n",
    "```python\n",
    "data_americas.to_csv('processed.csv')\n",
    "```\n",
    "\n",
    "For help on `read_csv` or `to_csv`, you could execute, for example:\n",
    "\n",
    "```python\n",
    "help(data_americas.to_csv)\n",
    "help(pd.read_csv)\n",
    "```\n",
    "\n",
    "Note that `help(to_csv)` or `help(pd.to_csv)` throws an error! This is due to the fact that `to_csv` is not a global Pandas function, but\n",
    "a member function of DataFrames. This means you can only call it on an instance of a DataFrame\n",
    "e.g., `data_americas.to_csv` or `data_oceania.to_csv`"
   ]
  },
  {
   "cell_type": "markdown",
   "id": "c3xyuFI9k7XT",
   "metadata": {
    "id": "c3xyuFI9k7XT",
    "slideshow": {
     "slide_type": "slide"
    }
   },
   "source": [
    "# <p style=\"background-color: #f5df18; padding: 10px;\"> 🗝️ Key points</p>\n",
    "---\n",
    "\n",
    "- Use the Pandas library to get basic statistics out of tabular data.\n",
    "- Use `index_col` to specify that a column's values should be used as row headings.\n",
    "- Use `DataFrame.info` to find out more about a dataframe.\n",
    "- The `DataFrame.columns` variable stores information about the dataframe's columns.\n",
    "- Use `DataFrame.T` to transpose a dataframe.\n",
    "- Use `DataFrame.describe` to get summary statistics about data."
   ]
  },
  {
   "cell_type": "code",
   "execution_count": null,
   "id": "c7c195c8",
   "metadata": {},
   "outputs": [],
   "source": []
  }
 ],
 "metadata": {
  "celltoolbar": "Slideshow",
  "colab": {
   "provenance": []
  },
  "kernelspec": {
   "display_name": "Python 3 (ipykernel)",
   "language": "python",
   "name": "python3"
  },
  "language_info": {
   "codemirror_mode": {
    "name": "ipython",
    "version": 3
   },
   "file_extension": ".py",
   "mimetype": "text/x-python",
   "name": "python",
   "nbconvert_exporter": "python",
   "pygments_lexer": "ipython3",
   "version": "3.11.3"
  },
  "toc-showcode": true
 },
 "nbformat": 4,
 "nbformat_minor": 5
}
