{
 "cells": [
  {
   "cell_type": "markdown",
   "id": "labeled-firewall",
   "metadata": {
    "id": "labeled-firewall",
    "slideshow": {
     "slide_type": "slide"
    }
   },
   "source": [
    "# <p style=\"background-color: #f5df18; padding: 10px;\">Programming & Plotting in Python | **Lists** </p>\n"
   ]
  },
  {
   "cell_type": "markdown",
   "id": "e7c63350",
   "metadata": {
    "slideshow": {
     "slide_type": "slide"
    }
   },
   "source": [
    "<div style=\"display: flex;\">\n",
    "    <div style=\"flex: 1; margin-right: 150px;\">\n",
    "        <h2>Questions</h2>\n",
    "        <ul>\n",
    "            <li>How can I store multiple values?</li>\n",
    "        </ul>\n",
    "    </div>\n",
    "    <div style=\"flex: 1;\">\n",
    "        <h2>Learning Objectives</h2>\n",
    "        <ul>\n",
    "            <li>Explain why programs need collections of values.</li>\n",
    "            <li>Write programs that create flat lists, index them, slice them, and modify them through assignment and method calls.</li>\n",
    "        </ul>\n",
    "    </div>\n",
    "</div>"
   ]
  },
  {
   "cell_type": "markdown",
   "id": "5ab33b0a",
   "metadata": {
    "slideshow": {
     "slide_type": "slide"
    }
   },
   "source": [
    "## A list stores many values in a single structure.\n",
    "\n",
    "- Doing calculations with a hundred variables called `pressure_001`, `pressure_002`, etc.,\n",
    "  would be at least as slow as doing them by hand.\n",
    "- Use a *list* to store many values together.\n",
    "  - Contained within square brackets `[...]`.\n",
    "  - Values separated by commas `,`.\n",
    "- Use `len` to find out how many values are in a list."
   ]
  },
  {
   "cell_type": "code",
   "execution_count": null,
   "id": "044d7a66",
   "metadata": {
    "slideshow": {
     "slide_type": "-"
    }
   },
   "outputs": [],
   "source": [
    "pressures = [0.273, 0.275, 0.277, 0.275, 0.276]\n",
    "print('pressures:', pressures)\n",
    "print('length:', len(pressures))"
   ]
  },
  {
   "cell_type": "markdown",
   "id": "ca79c3a1",
   "metadata": {
    "slideshow": {
     "slide_type": "slide"
    }
   },
   "source": [
    "## Use an item's index to fetch it from a list.\n",
    "\n",
    "- Just like strings."
   ]
  },
  {
   "cell_type": "code",
   "execution_count": null,
   "id": "a6f4e448",
   "metadata": {
    "slideshow": {
     "slide_type": "-"
    }
   },
   "outputs": [],
   "source": [
    "print('zeroth item of pressures:', pressures[0])\n",
    "print('fourth item of pressures:', pressures[4])"
   ]
  },
  {
   "cell_type": "markdown",
   "id": "7609808f",
   "metadata": {
    "slideshow": {
     "slide_type": "slide"
    }
   },
   "source": [
    "## Lists' values can be replaced by assigning to them.\n",
    "\n",
    "- Use an index expression on the left of assignment to replace a value."
   ]
  },
  {
   "cell_type": "code",
   "execution_count": null,
   "id": "afc7ee9e",
   "metadata": {
    "slideshow": {
     "slide_type": "-"
    }
   },
   "outputs": [],
   "source": [
    "pressures[0] = 0.265\n",
    "print('pressures is now:', pressures)"
   ]
  },
  {
   "cell_type": "markdown",
   "id": "cfd38b36",
   "metadata": {
    "slideshow": {
     "slide_type": "slide"
    }
   },
   "source": [
    "## Appending items to a list lengthens it.\n",
    "\n",
    "- Use `list_name.append` to add items to the end of a list."
   ]
  },
  {
   "cell_type": "code",
   "execution_count": null,
   "id": "6bacae32",
   "metadata": {
    "slideshow": {
     "slide_type": "-"
    }
   },
   "outputs": [],
   "source": [
    "primes = [2, 3, 5]\n",
    "print('primes is initially:', primes)\n",
    "primes.append(7)\n",
    "print('primes has become:', primes)"
   ]
  },
  {
   "cell_type": "markdown",
   "id": "fcef0e2b",
   "metadata": {
    "slideshow": {
     "slide_type": "slide"
    }
   },
   "source": [
    "- `append` is a *method* of lists.\n",
    "  - Like a function, but tied to a particular object.\n",
    "- Use `object_name.method_name` to call methods.\n",
    "  - Deliberately resembles the way we refer to things in a library.\n",
    "- We will meet other methods of lists as we go along.\n",
    "  - Use `help(list)` for a preview.\n",
    "- `extend` is similar to `append`, but it allows you to combine two lists.\n",
    "\n",
    "### For example, let' extend \"primes\" list to include \"teen primes\" and \"middle aged primes\"\n"
   ]
  },
  {
   "cell_type": "code",
   "execution_count": 5,
   "id": "b9f85584",
   "metadata": {
    "slideshow": {
     "slide_type": "-"
    }
   },
   "outputs": [],
   "source": [
    "teen_primes = [11, 13, 17, 19]\n",
    "middle_aged_primes = [37, 41, 43, 47]\n",
    "print('primes is currently:', primes)\n",
    "primes.extend(teen_primes)\n",
    "print('primes has now become:', primes)\n",
    "primes.append(middle_aged_primes)\n",
    "print('primes has finally become:', primes)"
   ]
  },
  {
   "cell_type": "markdown",
   "id": "d9b65d93",
   "metadata": {
    "slideshow": {
     "slide_type": "fragment"
    }
   },
   "source": [
    "Note that while `extend` maintains the \"flat\" structure of the list, appending a list to a list means\n",
    "the last element in `primes` will itself be a list, not an integer. Lists can contain values of any\n",
    "type; therefore, lists of lists are possible."
   ]
  },
  {
   "cell_type": "markdown",
   "id": "be689716",
   "metadata": {
    "slideshow": {
     "slide_type": "slide"
    }
   },
   "source": [
    "## Use `del` to remove items from a list entirely.\n",
    "\n",
    "- We use `del list_name[index]` to remove an element from a list (in the example, 9 is not a prime number) and thus shorten it.\n",
    "- `del` is not a function or a method, but a statement in the language."
   ]
  },
  {
   "cell_type": "code",
   "execution_count": null,
   "id": "bda5f4b0",
   "metadata": {
    "slideshow": {
     "slide_type": "-"
    }
   },
   "outputs": [],
   "source": [
    "primes = [2, 3, 5, 7, 9]\n",
    "print('primes before removing last item:', primes)\n",
    "del primes[4]\n",
    "print('primes after removing last item:', primes)"
   ]
  },
  {
   "cell_type": "markdown",
   "id": "90b7bcb8",
   "metadata": {
    "slideshow": {
     "slide_type": "slide"
    }
   },
   "source": [
    "## The empty list contains no values.\n",
    "\n",
    "- Use `[]` on its own to represent a list that doesn't contain any values.\n",
    "  - \"The zero of lists.\"\n",
    "- Helpful as a starting point for collecting values\n",
    "  (which we will see in the next lesson on loops)."
   ]
  },
  {
   "cell_type": "markdown",
   "id": "dd2202c7",
   "metadata": {
    "slideshow": {
     "slide_type": "slide"
    }
   },
   "source": [
    "## Lists may contain values of different types.\n",
    "\n",
    "- A single list may contain numbers, strings, and anything else."
   ]
  },
  {
   "cell_type": "code",
   "execution_count": null,
   "id": "eafdc707",
   "metadata": {
    "slideshow": {
     "slide_type": "-"
    }
   },
   "outputs": [],
   "source": [
    "goals = [1, 'Create lists.', 2, 'Extract items from lists.', 3, 'Modify lists.']"
   ]
  },
  {
   "cell_type": "markdown",
   "id": "70380097",
   "metadata": {
    "slideshow": {
     "slide_type": "slide"
    }
   },
   "source": [
    "## Character strings can be indexed like lists.\n",
    "\n",
    "- Get single characters from a character string using indexes in square brackets.\n"
   ]
  },
  {
   "cell_type": "code",
   "execution_count": null,
   "id": "aebc8654",
   "metadata": {
    "slideshow": {
     "slide_type": "-"
    }
   },
   "outputs": [],
   "source": [
    "element = 'carbon'\n",
    "print('zeroth character:', element[0])\n",
    "print('third character:', element[3])"
   ]
  },
  {
   "cell_type": "markdown",
   "id": "583f2b80",
   "metadata": {
    "slideshow": {
     "slide_type": "slide"
    }
   },
   "source": [
    "## Character strings are immutable.\n",
    "\n",
    "- Cannot change the characters in a string after it has been created.\n",
    "  - *Immutable*: can't be changed after creation.\n",
    "  - In contrast, lists are *mutable*: they can be modified in place.\n",
    "- Python considers the string to be a single value with parts,\n",
    "  not a collection of values."
   ]
  },
  {
   "cell_type": "code",
   "execution_count": null,
   "id": "f0c5db3a",
   "metadata": {
    "slideshow": {
     "slide_type": "-"
    }
   },
   "outputs": [],
   "source": [
    "element[0] = 'C'"
   ]
  },
  {
   "cell_type": "markdown",
   "id": "680a9d50",
   "metadata": {},
   "source": [
    "\n",
    "- Lists and character strings are both *collections*."
   ]
  },
  {
   "cell_type": "markdown",
   "id": "5e4a5052",
   "metadata": {
    "slideshow": {
     "slide_type": "slide"
    }
   },
   "source": [
    "## Indexing beyond the end of the collection is an error.\n",
    "\n",
    "- Python reports an `IndexError` if we attempt to access a value that doesn't exist.\n",
    "  - This is a kind of [runtime error](04-built-in.md).\n",
    "  - Cannot be detected as the code is parsed\n",
    "    because the index might be calculated based on data."
   ]
  },
  {
   "cell_type": "code",
   "execution_count": null,
   "id": "54bcb354",
   "metadata": {},
   "outputs": [],
   "source": [
    "print('99th element of element is:', element[99])"
   ]
  },
  {
   "cell_type": "markdown",
   "id": "065e476c",
   "metadata": {
    "slideshow": {
     "slide_type": "slide"
    }
   },
   "source": [
    "## <p style=\"background-color: #f5df18; padding: 10px;\"> 🛑 Fill in the blanks</p>\n",
    "\n",
    "Fill in the blanks so that the program below produces the output shown.\n",
    "\n",
    "```python\n",
    "values = ____\n",
    "values.____(1)\n",
    "values.____(3)\n",
    "values.____(5)\n",
    "print('first time:', values)\n",
    "values = values[____]\n",
    "print('second time:', values)\n",
    "```\n",
    "\n",
    "```output\n",
    "first time: [1, 3, 5]\n",
    "second time: [3, 5]\n",
    "```\n"
   ]
  },
  {
   "cell_type": "markdown",
   "id": "743bb343",
   "metadata": {
    "slideshow": {
     "slide_type": "-"
    }
   },
   "source": [
    "## Solution\n",
    "\n",
    "```python\n",
    "values = []\n",
    "values.append(1)\n",
    "values.append(3)\n",
    "values.append(5)\n",
    "print('first time:', values)\n",
    "values = values[1:]\n",
    "print('second time:', values)\n",
    "```"
   ]
  },
  {
   "cell_type": "markdown",
   "id": "pTTOSGfZRIY_",
   "metadata": {
    "id": "pTTOSGfZRIY_",
    "slideshow": {
     "slide_type": "slide"
    }
   },
   "source": [
    "## <p style=\"background-color: #f5df18; padding: 10px;\"> 🛑 How large is a slice? </p>\n",
    "\n",
    "---\n",
    "\n",
    "If `start` and `stop` are both non-negative integers,\n",
    "how long is the list `values[start:stop]`?"
   ]
  },
  {
   "cell_type": "markdown",
   "id": "b915b31b",
   "metadata": {
    "id": "gGsU55CWQEMa",
    "slideshow": {
     "slide_type": "-"
    }
   },
   "source": [
    "## Solution\n",
    "\n",
    "The list `values[start:stop]` has up to `stop - start` elements.  For example,\n",
    "`values[1:4]` has the 3 elements `values[1]`, `values[2]`, and `values[3]`.\n",
    "Why 'up to'? As we saw in [episode 2](02-variables.md),\n",
    "if `stop` is greater than the total length of the list `values`,\n",
    "we will still get a list back but it will be shorter than expected.\n",
    "\n"
   ]
  },
  {
   "cell_type": "markdown",
   "id": "jDJ9_x3m8b8X",
   "metadata": {
    "id": "jDJ9_x3m8b8X",
    "slideshow": {
     "slide_type": "slide"
    }
   },
   "source": [
    "## <p style=\"background-color: #f5df18; padding: 10px;\"> 🛑 From Strings to Lists and Back </p>\n",
    "\n",
    "---\n",
    "\n",
    "Given this:\n",
    "\n",
    "```python\n",
    "print('string to list:', list('tin'))\n",
    "print('list to string:', ''.join(['g', 'o', 'l', 'd']))\n",
    "```\n",
    "\n",
    "```output\n",
    "string to list: ['t', 'i', 'n']\n",
    "list to string: gold\n",
    "```\n",
    "\n",
    "1. What does `list('some string')` do?\n",
    "2. What does `'-'.join(['x', 'y', 'z'])` generate?"
   ]
  },
  {
   "cell_type": "markdown",
   "id": "fd056456",
   "metadata": {
    "id": "4d33babe",
    "slideshow": {
     "slide_type": "-"
    }
   },
   "source": [
    "## Solution\n",
    "\n",
    "1. [`list('some string')`](https://docs.python.org/3/library/stdtypes.html#list) converts a string into a list containing all of its characters.\n",
    "2. [`join`](https://docs.python.org/3/library/stdtypes.html#str.join) returns a string that is the *concatenation*\n",
    "  of each string element in the list and adds the separator between each element in the list. This results in\n",
    "  `x-y-z`. The separator between the elements is the string that provides this method.\n",
    "  \n",
    "  \n"
   ]
  },
  {
   "cell_type": "markdown",
   "id": "Vwu5plPm85nq",
   "metadata": {
    "id": "Vwu5plPm85nq",
    "slideshow": {
     "slide_type": "slide"
    }
   },
   "source": [
    "## <p style=\"background-color: #f5df18; padding: 10px;\"> 🛑 Working with the end </p>\n",
    "---\n",
    "\n",
    "What does the following program print?\n",
    "\n",
    "```python\n",
    "element = 'helium'\n",
    "print(element[-1])\n",
    "```\n",
    "\n",
    "1. How does Python interpret a negative index?\n",
    "2. If a list or string has N elements,\n",
    "  what is the most negative index that can safely be used with it,\n",
    "  and what location does that index represent?\n",
    "3. If `values` is a list, what does `del values[-1]` do?\n",
    "4. How can you display all elements but the last one without changing `values`?\n",
    "  (Hint: you will need to combine slicing and negative indexing.)"
   ]
  },
  {
   "cell_type": "markdown",
   "id": "77dd3810",
   "metadata": {
    "id": "bbB11nRP8m-R",
    "slideshow": {
     "slide_type": "-"
    }
   },
   "source": [
    "## Solution\n",
    "\n",
    "The program prints `m`.\n",
    "\n",
    "1. Python interprets a negative index as starting from the end (as opposed to\n",
    "  starting from the beginning).  The last element is `-1`.\n",
    "2. The last index that can safely be used with a list of N elements is element\n",
    "  `-N`, which represents the first element.\n",
    "3. `del values[-1]` removes the last element from the list.\n",
    "4. `values[:-1]`\n",
    "  \n",
    "  "
   ]
  },
  {
   "cell_type": "markdown",
   "id": "sm0UZGqk8oqs",
   "metadata": {
    "id": "sm0UZGqk8oqs",
    "slideshow": {
     "slide_type": "slide"
    }
   },
   "source": [
    "## <p style=\"background-color: #f5df18; padding: 10px;\"> 🛑 Stepping Through a List </p>\n",
    "---\n",
    "\n",
    "What does the following program print?\n",
    "\n",
    "```python\n",
    "element = 'fluorine'\n",
    "print(element[::2])\n",
    "print(element[::-1])\n",
    "```\n",
    "\n",
    "1. If we write a slice as `low:high:stride`, what does `stride` do?\n",
    "2. What expression would select all of the even-numbered items from a collection?"
   ]
  },
  {
   "cell_type": "markdown",
   "id": "4210e476",
   "metadata": {
    "slideshow": {
     "slide_type": "-"
    }
   },
   "source": [
    "## Solution\n",
    "\n",
    "The program prints\n",
    "\n",
    "```python\n",
    "furn\n",
    "eniroulf\n",
    "```\n",
    "\n",
    "1. `stride` is the step size of the slice.\n",
    "2. The slice `1::2` selects all even-numbered items from a collection: it starts\n",
    "  with element `1` (which is the second element, since indexing starts at `0`),\n",
    "  goes on until the end (since no `end` is given), and uses a step size of `2`\n",
    "  (i.e., selects every second element).\n",
    "  \n",
    "  "
   ]
  },
  {
   "cell_type": "markdown",
   "id": "5b63a6a2",
   "metadata": {
    "slideshow": {
     "slide_type": "slide"
    }
   },
   "source": [
    "## <p style=\"background-color: #f5df18; padding: 10px;\"> 🛑 Slice Bounds </p>\n",
    "---\n",
    "\n",
    "What does the following program print?\n",
    "\n",
    "```python\n",
    "element = 'lithium'\n",
    "print(element[0:20])\n",
    "print(element[-1:3])\n",
    "```\n"
   ]
  },
  {
   "cell_type": "markdown",
   "id": "48f25cc2",
   "metadata": {
    "slideshow": {
     "slide_type": "-"
    }
   },
   "source": [
    "## Solution\n",
    "\n",
    "```output\n",
    "lithium\n",
    "\n",
    "```\n",
    "\n",
    "The first statement prints the whole string, since the slice goes beyond the total length of the string.\n",
    "The second statement returns an empty string, because the slice goes \"out of bounds\" of the string.\n"
   ]
  },
  {
   "cell_type": "markdown",
   "id": "5c8ef92b",
   "metadata": {
    "slideshow": {
     "slide_type": "slide"
    }
   },
   "source": [
    "## <p style=\"background-color: #f5df18; padding: 10px;\"> 🛑  Sort and Sorted\n",
    " </p>\n",
    "---\n",
    "\n",
    "What do these two programs print?\n",
    "In simple terms, explain the difference between `sorted(letters)` and `letters.sort()`.\n",
    "\n",
    "```python\n",
    "# Program A\n",
    "letters = list('gold')\n",
    "result = sorted(letters)\n",
    "print('letters is', letters, 'and result is', result)\n",
    "```\n",
    "\n",
    "```python\n",
    "# Program B\n",
    "letters = list('gold')\n",
    "result = letters.sort()\n",
    "print('letters is', letters, 'and result is', result)\n",
    "```\n"
   ]
  },
  {
   "cell_type": "markdown",
   "id": "f6da54ae",
   "metadata": {
    "id": "63219e21",
    "slideshow": {
     "slide_type": "-"
    }
   },
   "source": [
    "## Solution\n",
    "\n",
    "Program A prints\n",
    "\n",
    "```output\n",
    "letters is ['g', 'o', 'l', 'd'] and result is ['d', 'g', 'l', 'o']\n",
    "```\n",
    "\n",
    "Program B prints\n",
    "\n",
    "```output\n",
    "letters is ['d', 'g', 'l', 'o'] and result is None\n",
    "```\n",
    "\n",
    "`sorted(letters)` returns a sorted copy of the list `letters` (the original\n",
    "list `letters` remains unchanged), while `letters.sort()` sorts the list\n",
    "`letters` in-place and does not return anything.\n",
    "\n"
   ]
  },
  {
   "cell_type": "markdown",
   "id": "3d9e3640",
   "metadata": {
    "slideshow": {
     "slide_type": "slide"
    }
   },
   "source": [
    "## <p style=\"background-color: #f5df18; padding: 10px;\"> 🛑 Copying (or Not)\n",
    " </p>\n",
    "---\n",
    "\n",
    "What do these two programs print?\n",
    "In simple terms, explain the difference between `new = old` and `new = old[:]`.\n",
    "\n",
    "```python\n",
    "# Program A\n",
    "old = list('gold')\n",
    "new = old      # simple assignment\n",
    "new[0] = 'D'\n",
    "print('new is', new, 'and old is', old)\n",
    "```\n",
    "\n",
    "```python\n",
    "# Program B\n",
    "old = list('gold')\n",
    "new = old[:]   # assigning a slice\n",
    "new[0] = 'D'\n",
    "print('new is', new, 'and old is', old)\n",
    "```"
   ]
  },
  {
   "cell_type": "markdown",
   "id": "8e2eae01",
   "metadata": {
    "slideshow": {
     "slide_type": "-"
    }
   },
   "source": [
    "## Solution\n",
    "\n",
    "Program A prints\n",
    "\n",
    "```output\n",
    "new is ['D', 'o', 'l', 'd'] and old is ['D', 'o', 'l', 'd']\n",
    "```\n",
    "\n",
    "Program B prints\n",
    "\n",
    "```output\n",
    "new is ['D', 'o', 'l', 'd'] and old is ['g', 'o', 'l', 'd']\n",
    "```\n",
    "\n",
    "`new = old` makes `new` a reference to the list `old`; `new` and `old` point\n",
    "towards the same object.\n",
    "\n",
    "`new = old[:]` however creates a new list object `new` containing all elements\n",
    "from the list `old`; `new` and `old` are different objects.\n",
    "\n"
   ]
  },
  {
   "cell_type": "markdown",
   "id": "c3xyuFI9k7XT",
   "metadata": {
    "id": "c3xyuFI9k7XT",
    "slideshow": {
     "slide_type": "slide"
    }
   },
   "source": [
    "# <p style=\"background-color: #f5df18; padding: 10px;\"> 🗝️ Key points</p>\n",
    "---\n",
    "\n",
    "- A list stores many values in a single structure.\n",
    "- Use an item's index to fetch it from a list.\n",
    "- Lists' values can be replaced by assigning to them.\n",
    "- Appending items to a list lengthens it.\n",
    "- Use `del` to remove items from a list entirely.\n",
    "- The empty list contains no values.\n",
    "- Lists may contain values of different types.\n",
    "- Character strings can be indexed like lists.\n",
    "- Character strings are immutable.\n",
    "- Indexing beyond the end of the collection is an error."
   ]
  }
 ],
 "metadata": {
  "celltoolbar": "Slideshow",
  "colab": {
   "provenance": []
  },
  "kernelspec": {
   "display_name": "Python 3 (ipykernel)",
   "language": "python",
   "name": "python3"
  },
  "language_info": {
   "codemirror_mode": {
    "name": "ipython",
    "version": 3
   },
   "file_extension": ".py",
   "mimetype": "text/x-python",
   "name": "python",
   "nbconvert_exporter": "python",
   "pygments_lexer": "ipython3",
   "version": "3.11.3"
  },
  "toc-showcode": true
 },
 "nbformat": 4,
 "nbformat_minor": 5
}
