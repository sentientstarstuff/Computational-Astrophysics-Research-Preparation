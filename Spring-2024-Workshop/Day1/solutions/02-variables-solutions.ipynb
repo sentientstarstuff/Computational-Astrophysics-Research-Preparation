{
 "cells": [
  {
   "cell_type": "markdown",
   "id": "labeled-firewall",
   "metadata": {
    "id": "labeled-firewall",
    "slideshow": {
     "slide_type": "slide"
    }
   },
   "source": [
    "# <p style=\"background-color: #f5df18; padding: 10px;\">Programming & Plotting in Python | **Variables and Assignments** </p>\n"
   ]
  },
  {
   "cell_type": "markdown",
   "id": "30c98737",
   "metadata": {
    "slideshow": {
     "slide_type": "slide"
    }
   },
   "source": [
    "<div style=\"display: flex;\">\n",
    "    <div style=\"flex: 1; margin-right: 20px;\">\n",
    "        <h2>Questions</h2>\n",
    "        <ul>\n",
    "            <li>How can I store data in programs?</li>\n",
    "        </ul>\n",
    "    </div>\n",
    "    <div style=\"flex: 1;\">\n",
    "        <h2>Learning Objectives</h2>\n",
    "        <ul> \n",
    "            <li>Write programs that assign scalar values to variables and perform calculations with those values.</li>\n",
    "            <li>Correctly trace value changes in programs that use scalar assignment.</li>\n",
    "        </ul>\n",
    "    </div>\n",
    "</div>\n"
   ]
  },
  {
   "cell_type": "markdown",
   "id": "pressed-commerce",
   "metadata": {
    "id": "pressed-commerce",
    "slideshow": {
     "slide_type": "slide"
    },
    "tags": []
   },
   "source": [
    "# Use variables to store values.\n",
    "---\n",
    "\n",
    "- **Variables** are names for values.\n",
    "\n",
    "- Variable names\n",
    "  \n",
    "  - can **only** contain letters, digits, and underscore `_` (typically used to separate words in long variable names)\n",
    "  - cannot start with a digit\n",
    "  - are **case sensitive** (age, Age and AGE are three different variables)"
   ]
  },
  {
   "cell_type": "markdown",
   "id": "1ea7647e",
   "metadata": {
    "slideshow": {
     "slide_type": "slide"
    }
   },
   "source": [
    "- The name should also be meaningful so you or another programmer know what it is\n"
   ]
  },
  {
   "cell_type": "markdown",
   "id": "df9bb103",
   "metadata": {
    "slideshow": {
     "slide_type": "fragment"
    }
   },
   "source": [
    "- Variable names that start with underscores like `__alistairs_real_age` have a special meaning\n",
    "  so we won't do that until we understand the convention.\n"
   ]
  },
  {
   "cell_type": "markdown",
   "id": "98861246",
   "metadata": {
    "slideshow": {
     "slide_type": "fragment"
    }
   },
   "source": [
    "- In Python the `=` symbol assigns the value on the right to the name on the left."
   ]
  },
  {
   "cell_type": "markdown",
   "id": "ab05c2cb",
   "metadata": {
    "slideshow": {
     "slide_type": "fragment"
    }
   },
   "source": [
    "- The variable is created when a value is assigned to it."
   ]
  },
  {
   "cell_type": "markdown",
   "id": "d3167cc9",
   "metadata": {
    "slideshow": {
     "slide_type": "slide"
    }
   },
   "source": [
    "Let's use Python to assign a numerical value to a variable `age` and a name in quotes to a variable `first_name`."
   ]
  },
  {
   "cell_type": "code",
   "execution_count": 4,
   "id": "7f113dcf",
   "metadata": {
    "slideshow": {
     "slide_type": "-"
    }
   },
   "outputs": [],
   "source": [
    "age = 42\n",
    "first_name = 'Link'"
   ]
  },
  {
   "cell_type": "markdown",
   "id": "vertical-yellow",
   "metadata": {
    "id": "vertical-yellow",
    "jp-MarkdownHeadingCollapsed": true,
    "slideshow": {
     "slide_type": "slide"
    },
    "tags": []
   },
   "source": [
    "# Use `print` to display values.\n",
    "\n",
    "---\n",
    "\n",
    "* Python has a built-in function called `print` that prints things as text.\n"
   ]
  },
  {
   "cell_type": "markdown",
   "id": "9d9fc57f",
   "metadata": {
    "slideshow": {
     "slide_type": "fragment"
    }
   },
   "source": [
    "* Call the function (i.e., tell Python to run it) by using its name.\n"
   ]
  },
  {
   "cell_type": "markdown",
   "id": "c3279ebd",
   "metadata": {
    "slideshow": {
     "slide_type": "fragment"
    }
   },
   "source": [
    "* Provide values to the function (i.e., the things to print) in parentheses.\n"
   ]
  },
  {
   "cell_type": "markdown",
   "id": "f8bbbe47",
   "metadata": {
    "slideshow": {
     "slide_type": "fragment"
    }
   },
   "source": [
    "* To add a string to the printout, wrap the string in single or double quotes.\n"
   ]
  },
  {
   "cell_type": "markdown",
   "id": "a5eb74b2",
   "metadata": {
    "slideshow": {
     "slide_type": "fragment"
    }
   },
   "source": [
    "* The values passed to the function are called **arguments**"
   ]
  },
  {
   "cell_type": "markdown",
   "id": "daac0833",
   "metadata": {
    "slideshow": {
     "slide_type": "slide"
    }
   },
   "source": [
    "Let's print the variables `age` and `first_name`."
   ]
  },
  {
   "cell_type": "code",
   "execution_count": 6,
   "id": "4979480b",
   "metadata": {
    "slideshow": {
     "slide_type": "-"
    }
   },
   "outputs": [
    {
     "name": "stdout",
     "output_type": "stream",
     "text": [
      "Link is 42 years old\n"
     ]
    }
   ],
   "source": [
    "print(first_name, 'is', age, 'years old')"
   ]
  },
  {
   "cell_type": "markdown",
   "id": "hollywood-clerk",
   "metadata": {
    "id": "hollywood-clerk",
    "slideshow": {
     "slide_type": "fragment"
    }
   },
   "source": [
    "* print automatically puts a single space between items to separate them.\n",
    "* And wraps around to a new line at the end."
   ]
  },
  {
   "cell_type": "markdown",
   "id": "norwegian-multiple",
   "metadata": {
    "id": "norwegian-multiple",
    "slideshow": {
     "slide_type": "slide"
    }
   },
   "source": [
    "# Variables must be created before they are used.\n",
    "---"
   ]
  },
  {
   "cell_type": "markdown",
   "id": "C50c3Fz7tVOJ",
   "metadata": {
    "id": "C50c3Fz7tVOJ"
   },
   "source": [
    "* If a variable doesn’t exist yet, or if the name has been mis-spelled, Python reports an error. (Unlike some languages, which “guess” a default value.)"
   ]
  },
  {
   "cell_type": "code",
   "execution_count": 7,
   "id": "characteristic-oklahoma",
   "metadata": {
    "id": "characteristic-oklahoma"
   },
   "outputs": [
    {
     "ename": "NameError",
     "evalue": "name 'last_name' is not defined",
     "output_type": "error",
     "traceback": [
      "\u001b[0;31m---------------------------------------------------------------------------\u001b[0m",
      "\u001b[0;31mNameError\u001b[0m                                 Traceback (most recent call last)",
      "Cell \u001b[0;32mIn[7], line 1\u001b[0m\n\u001b[0;32m----> 1\u001b[0m \u001b[38;5;28mprint\u001b[39m(last_name)\n",
      "\u001b[0;31mNameError\u001b[0m: name 'last_name' is not defined"
     ]
    }
   ],
   "source": [
    "print(last_name)"
   ]
  },
  {
   "cell_type": "markdown",
   "id": "elder-spoke",
   "metadata": {
    "id": "elder-spoke",
    "slideshow": {
     "slide_type": "slide"
    }
   },
   "source": [
    "## 🔔 Variables Persist Between Cells\n",
    "---\n",
    "\n",
    "Be aware that it is the *order* of execution of cells that is important in a Jupyter notebook, not the order\n",
    "in which they appear. Python will remember *all* the code that was run previously, including any variables you have\n",
    "defined, irrespective of the order in the notebook. Therefore if you define variables lower down the notebook and then\n",
    "(re)run cells further up, those defined further down will still be present. As an example, create two cells with the\n",
    "following content, in this order:\n",
    "\n",
    "```python\n",
    "print(myval)\n",
    "```\n",
    "\n",
    "```python\n",
    "myval = 1\n",
    "```"
   ]
  },
  {
   "cell_type": "code",
   "execution_count": 10,
   "id": "3d9f0408",
   "metadata": {
    "slideshow": {
     "slide_type": "-"
    }
   },
   "outputs": [],
   "source": [
    "print(myval)\n",
    "myval = 1"
   ]
  },
  {
   "cell_type": "code",
   "execution_count": 11,
   "id": "234fee65",
   "metadata": {
    "id": "iraqi-embassy",
    "slideshow": {
     "slide_type": "-"
    }
   },
   "outputs": [
    {
     "name": "stdout",
     "output_type": "stream",
     "text": [
      "1\n"
     ]
    }
   ],
   "source": [
    "print(myval)"
   ]
  },
  {
   "cell_type": "markdown",
   "id": "27f9aa64",
   "metadata": {
    "slideshow": {
     "slide_type": "slide"
    }
   },
   "source": [
    "If you execute this in order, the first cell will give an error. However, if you run the first cell *after* the second\n",
    "cell it will print out `1`. To prevent confusion, it can be helpful to use the `Kernel` -> `Restart & Run All` option which\n",
    "clears the interpreter and runs everything from a clean slate going top to bottom.\n"
   ]
  },
  {
   "cell_type": "markdown",
   "id": "W4hpB9uV1aBy",
   "metadata": {
    "id": "W4hpB9uV1aBy",
    "slideshow": {
     "slide_type": "slide"
    }
   },
   "source": [
    "## Variables can be used in calculations.\n",
    "\n",
    "- We can use variables in calculations just as if they were values.\n",
    "  - Remember, we assigned the value `42` to `age` a few lines ago.\n"
   ]
  },
  {
   "cell_type": "markdown",
   "id": "0be57ca5",
   "metadata": {
    "id": "strategic-wrestling",
    "slideshow": {
     "slide_type": "-"
    }
   },
   "source": [
    "Let's add 3 to the variable `age` and print the new age. "
   ]
  },
  {
   "cell_type": "code",
   "execution_count": 14,
   "id": "aLKbgXLY1eIo",
   "metadata": {
    "id": "aLKbgXLY1eIo",
    "slideshow": {
     "slide_type": "-"
    }
   },
   "outputs": [
    {
     "name": "stdout",
     "output_type": "stream",
     "text": [
      "Link is now 45 years old\n"
     ]
    }
   ],
   "source": [
    "new_age = age + 3\n",
    "\n",
    "print(first_name, 'is now', new_age, 'years old')"
   ]
  },
  {
   "cell_type": "markdown",
   "id": "bEb5VNCs1efR",
   "metadata": {
    "id": "bEb5VNCs1efR",
    "slideshow": {
     "slide_type": "slide"
    }
   },
   "source": [
    "## Use an index to get a single character from a string.\n",
    "---\n",
    "\n",
    "- The characters (individual letters, numbers, and so on) in a string are\n",
    "  ordered. For example, the string `'AB'` is not the same as `'BA'`. Because of\n",
    "  this ordering, we can treat the string as a list of characters.\n",
    "\n"
   ]
  },
  {
   "cell_type": "markdown",
   "id": "92dfa04b",
   "metadata": {
    "slideshow": {
     "slide_type": "fragment"
    }
   },
   "source": [
    "- Each position in the string (first, second, etc.) is given a number. This\n",
    "  number is called an **index** or sometimes a subscript."
   ]
  },
  {
   "cell_type": "markdown",
   "id": "ce124fc8",
   "metadata": {
    "slideshow": {
     "slide_type": "fragment"
    }
   },
   "source": [
    "- Indices are numbered from 0."
   ]
  },
  {
   "cell_type": "markdown",
   "id": "414a0538",
   "metadata": {
    "slideshow": {
     "slide_type": "fragment"
    }
   },
   "source": [
    "- Use the position's index in square brackets to get the character at that position."
   ]
  },
  {
   "cell_type": "markdown",
   "id": "ecc5eb9a",
   "metadata": {
    "slideshow": {
     "slide_type": "slide"
    }
   },
   "source": [
    "<div>\n",
    "<img src=\"https://swcarpentry.github.io/python-novice-gapminder/fig/2_indexing.svg\" width=\"1800\"/>\n",
    "</div>\n"
   ]
  },
  {
   "cell_type": "markdown",
   "id": "57aadbfd",
   "metadata": {
    "slideshow": {
     "slide_type": "-"
    }
   },
   "source": [
    "A line of Python code, print(atom_name[0]), demonstrates that using the zero index will output just the initial letter, in this case ‘h’ for helium."
   ]
  },
  {
   "cell_type": "markdown",
   "id": "a1a4740a",
   "metadata": {
    "slideshow": {
     "slide_type": "slide"
    }
   },
   "source": [
    "Let's try this out ourselves."
   ]
  },
  {
   "cell_type": "code",
   "execution_count": 19,
   "id": "0bbca122",
   "metadata": {
    "slideshow": {
     "slide_type": "-"
    }
   },
   "outputs": [
    {
     "name": "stdout",
     "output_type": "stream",
     "text": [
      "i\n"
     ]
    }
   ],
   "source": [
    "atom_name = 'helium'\n",
    "\n",
    "print(atom_name[3])"
   ]
  },
  {
   "cell_type": "markdown",
   "id": "tyNY10qAQzg0",
   "metadata": {
    "id": "tyNY10qAQzg0",
    "slideshow": {
     "slide_type": "slide"
    }
   },
   "source": [
    "## Use a slice to get a substring.\n",
    "---\n",
    "\n",
    "- A part of a string is called a **substring**. A substring can be as short as a\n",
    "  single character."
   ]
  },
  {
   "cell_type": "markdown",
   "id": "851fe6f2",
   "metadata": {
    "slideshow": {
     "slide_type": "fragment"
    }
   },
   "source": [
    "- An item in a list is called an element. Whenever we treat a string as if it\n",
    "  were a list, the string's elements are its individual characters.\n"
   ]
  },
  {
   "cell_type": "markdown",
   "id": "1f1f108a",
   "metadata": {
    "slideshow": {
     "slide_type": "fragment"
    }
   },
   "source": [
    "- A slice is a part of a string (or, more generally, a part of any list-like thing).\n"
   ]
  },
  {
   "cell_type": "markdown",
   "id": "b9170377",
   "metadata": {
    "slideshow": {
     "slide_type": "fragment"
    }
   },
   "source": [
    "- We take a slice with the notation `[start:stop]`, where `start` is the integer\n",
    "  index of the first element we want and `stop` is the integer index of\n",
    "  the element *just after* the last element we want.\n"
   ]
  },
  {
   "cell_type": "markdown",
   "id": "1a2fa6f5",
   "metadata": {
    "slideshow": {
     "slide_type": "fragment"
    }
   },
   "source": [
    "- The difference between `stop` and `start` is the slice's length.\n"
   ]
  },
  {
   "cell_type": "markdown",
   "id": "cf8b7b28",
   "metadata": {
    "slideshow": {
     "slide_type": "fragment"
    }
   },
   "source": [
    "- Taking a slice does not change the contents of the original string. Instead,\n",
    "  taking a slice returns a copy of part of the original string.\n"
   ]
  },
  {
   "cell_type": "markdown",
   "id": "3ef133c8",
   "metadata": {
    "slideshow": {
     "slide_type": "slide"
    }
   },
   "source": [
    "Let's define the `atom_name='sodium'` and take the slice `[0:3]`. What do you expect it to return? "
   ]
  },
  {
   "cell_type": "code",
   "execution_count": 20,
   "id": "db1a3eca",
   "metadata": {
    "slideshow": {
     "slide_type": "-"
    }
   },
   "outputs": [
    {
     "name": "stdout",
     "output_type": "stream",
     "text": [
      "sod\n"
     ]
    }
   ],
   "source": [
    "atom_name = 'sodium'\n",
    "\n",
    "print(atom_name[0:3])"
   ]
  },
  {
   "cell_type": "markdown",
   "id": "fourth-vitamin",
   "metadata": {
    "id": "fourth-vitamin",
    "slideshow": {
     "slide_type": "slide"
    }
   },
   "source": [
    "## Use the built-in function `len` to find the length of a string.\n",
    "---\n",
    "\n",
    "Let's use `len` to find the length of `atom_name`."
   ]
  },
  {
   "cell_type": "code",
   "execution_count": 21,
   "id": "6425c87f",
   "metadata": {
    "slideshow": {
     "slide_type": "-"
    }
   },
   "outputs": [
    {
     "name": "stdout",
     "output_type": "stream",
     "text": [
      "6\n"
     ]
    }
   ],
   "source": [
    "print(len(atom_name))"
   ]
  },
  {
   "cell_type": "markdown",
   "id": "oriented-migration",
   "metadata": {
    "id": "oriented-migration",
    "slideshow": {
     "slide_type": "slide"
    }
   },
   "source": [
    "## Python is case-sensitive.\n",
    "---\n",
    "\n",
    "- Python thinks that upper- and lower-case letters are different,\n",
    "  so `Name` and `name` are different variables."
   ]
  },
  {
   "cell_type": "markdown",
   "id": "abc8f038",
   "metadata": {
    "slideshow": {
     "slide_type": "fragment"
    }
   },
   "source": [
    "- There are conventions for using upper-case letters at the start of variable names so we will use lower-case letters for now."
   ]
  },
  {
   "cell_type": "markdown",
   "id": "supreme-favor",
   "metadata": {
    "id": "supreme-favor",
    "slideshow": {
     "slide_type": "slide"
    }
   },
   "source": [
    "## Use meaningful variable names.\n",
    "---\n",
    "\n",
    "- Python doesn't care what you call variables as long as they obey the rules\n",
    "  (alphanumeric characters and the underscore)."
   ]
  },
  {
   "cell_type": "code",
   "execution_count": 27,
   "id": "18613bc8",
   "metadata": {
    "slideshow": {
     "slide_type": "fragment"
    }
   },
   "outputs": [
    {
     "name": "stdout",
     "output_type": "stream",
     "text": [
      "Link is 42 years old\n"
     ]
    }
   ],
   "source": [
    "flabadab = 42\n",
    "ewr_422_yY = 'Link'\n",
    "print(ewr_422_yY, 'is', flabadab, 'years old')"
   ]
  },
  {
   "cell_type": "markdown",
   "id": "8630c9e2",
   "metadata": {
    "slideshow": {
     "slide_type": "fragment"
    }
   },
   "source": [
    "- Use meaningful variable names to help other people understand what the program does."
   ]
  },
  {
   "cell_type": "markdown",
   "id": "a58e0447",
   "metadata": {
    "slideshow": {
     "slide_type": "fragment"
    }
   },
   "source": [
    "- The most important \"other person\" is your future self."
   ]
  },
  {
   "cell_type": "markdown",
   "id": "AGmylKKlQWm5",
   "metadata": {
    "id": "AGmylKKlQWm5",
    "slideshow": {
     "slide_type": "slide"
    }
   },
   "source": [
    "## <p style=\"background-color: #f5df18; padding: 10px;\"> 🛑 Swapping Values Exercise </p>\n",
    "\n",
    "---\n",
    "\n",
    "Fill the table showing the values of the variables in this program\n",
    "*after* each statement is executed.\n",
    "\n",
    "```python\n",
    "# Command  # Value of x   # Value of y   # Value of swap #\n",
    "x = 1.0    #              #              #               #\n",
    "y = 3.0    #              #              #               #\n",
    "swap = x   #              #              #               #\n",
    "x = y      #              #              #               #\n",
    "y = swap   #              #              #               #\n",
    "```\n"
   ]
  },
  {
   "cell_type": "markdown",
   "id": "66d91d9a",
   "metadata": {},
   "source": [
    "## Solution\n",
    "\n",
    "\n",
    "```output\n",
    "# Command  # Value of x   # Value of y   # Value of swap #\n",
    "x = 1.0    # 1.0          # not defined  # not defined   #\n",
    "y = 3.0    # 1.0          # 3.0          # not defined   #\n",
    "swap = x   # 1.0          # 3.0          # 1.0           #\n",
    "x = y      # 3.0          # 3.0          # 1.0           #\n",
    "y = swap   # 3.0          # 1.0          # 1.0           #\n",
    "```\n",
    "\n",
    "These three lines exchange the values in `x` and `y` using the `swap`\n",
    "variable for temporary storage. This is a fairly common programming idiom.\n",
    "\n",
    "\n"
   ]
  },
  {
   "cell_type": "markdown",
   "id": "Ue1fIkXt4Ahu",
   "metadata": {
    "id": "Ue1fIkXt4Ahu",
    "slideshow": {
     "slide_type": "slide"
    }
   },
   "source": [
    "## <p style=\"background-color: #f5df18; padding: 10px;\"> 🛑 Predicting Values Exercise </p>\n",
    "\n",
    "---\n",
    "\n",
    "What is the final value of `position` in the program below?\n",
    "(Try to predict the value without running the program,\n",
    "then check your prediction.)\n",
    "\n",
    "```python\n",
    "initial = 'left'\n",
    "position = initial\n",
    "initial = 'right'\n",
    "```"
   ]
  },
  {
   "cell_type": "markdown",
   "id": "9cd114fb",
   "metadata": {
    "id": "aBF5H4_1kYOL",
    "slideshow": {
     "slide_type": "-"
    }
   },
   "source": [
    "## Solution\n",
    "\n",
    "```python\n",
    "print(position)\n",
    "```\n",
    "\n",
    "```output\n",
    "left\n",
    "```\n",
    "\n",
    "The `initial` variable is assigned the value `'left'`.\n",
    "In the second line, the `position` variable also receives\n",
    "the string value `'left'`. In third line, the `initial` variable is given the\n",
    "value `'right'`, but the `position` variable retains its string value\n",
    "of `'left'`."
   ]
  },
  {
   "cell_type": "markdown",
   "id": "irhVm53xQgOG",
   "metadata": {
    "id": "irhVm53xQgOG",
    "slideshow": {
     "slide_type": "slide"
    }
   },
   "source": [
    "## <p style=\"background-color: #f5df18; padding: 10px;\"> 🛑 Indexing Exercise </p>\n",
    "\n",
    "---\n",
    "\n",
    "If you assign `a = 123`,\n",
    "what happens if you try to get the second digit of `a` via `a[1]`?"
   ]
  },
  {
   "cell_type": "markdown",
   "id": "d268db4a",
   "metadata": {
    "id": "reasonable-forwarding",
    "slideshow": {
     "slide_type": "-"
    }
   },
   "source": [
    " Numbers are not strings or sequences and Python will raise an error if you try to perform an index operation on a\n",
    "number. In the [next lesson on types and type conversion](03-types-conversion.md)\n",
    "we will learn more about types and how to convert between different types. If you want the Nth digit of a number you\n",
    "can convert it into a string using the `str` built-in function and then perform an index operation on that string.\n",
    "\n",
    "```python\n",
    "a = 123\n",
    "print(a[1])\n",
    "```\n",
    "\n",
    "```error\n",
    "TypeError: 'int' object is not subscriptable\n",
    "```\n",
    "\n",
    "```python\n",
    "a = str(123)\n",
    "print(a[1])\n",
    "```\n",
    "\n",
    "```output\n",
    "2\n",
    "```\n"
   ]
  },
  {
   "cell_type": "markdown",
   "id": "xP8epXpCRRv9",
   "metadata": {
    "id": "xP8epXpCRRv9",
    "slideshow": {
     "slide_type": "slide"
    }
   },
   "source": [
    "## <p style=\"background-color: #f5df18; padding: 10px;\"> 🛑 Choosing a Name Exercise </p>\n",
    "\n",
    "\n",
    "Which is a better variable name, `m`, `min`, or `minutes`?\n",
    "Why?\n",
    "Hint: think about which code you would rather inherit\n",
    "from someone who is leaving the lab:\n",
    "\n",
    "1. `ts = m * 60 + s`\n",
    "2. `tot_sec = min * 60 + sec`\n",
    "3. `total_seconds = minutes * 60 + seconds`"
   ]
  },
  {
   "cell_type": "markdown",
   "id": "2f18c2ea",
   "metadata": {
    "id": "i9rxWLAz6ORF",
    "slideshow": {
     "slide_type": "-"
    }
   },
   "source": [
    "## Solution\n",
    "\n",
    "`minutes` is better because `min` might mean something like \"minimum\"\n",
    "(and actually is an existing built-in function in Python that we will cover later).\n",
    "\n",
    "\n"
   ]
  },
  {
   "cell_type": "markdown",
   "id": "RiepqFJMRZz3",
   "metadata": {
    "id": "RiepqFJMRZz3",
    "slideshow": {
     "slide_type": "slide"
    }
   },
   "source": [
    "## <p style=\"background-color: #f5df18; padding: 10px;\"> 🛑 Slicing practice </p>\n",
    "\n",
    "What does the following program print?\n",
    "\n",
    "```python\n",
    "atom_name = 'carbon'\n",
    "print('atom_name[1:3] is:', atom_name[1:3])\n",
    "```"
   ]
  },
  {
   "cell_type": "markdown",
   "id": "d53d9045",
   "metadata": {
    "id": "south-broadway",
    "slideshow": {
     "slide_type": "-"
    }
   },
   "source": [
    "## Solution\n",
    "\n",
    "```output\n",
    "atom_name[1:3] is: ar\n",
    "```"
   ]
  },
  {
   "cell_type": "markdown",
   "id": "tyMrTbrRReoe",
   "metadata": {
    "id": "tyMrTbrRReoe",
    "slideshow": {
     "slide_type": "slide"
    }
   },
   "source": [
    "## <p style=\"background-color: #f5df18; padding: 10px;\"> 🛑 Slicing Exercise </p>\n",
    "\n",
    "\n",
    "Given the following string:\n",
    "\n",
    "```python\n",
    "species_name = \"Acacia buxifolia\"\n",
    "```\n",
    "\n",
    "What would these expressions return?\n",
    "\n",
    "1. `species_name[2:8]`\n",
    "2. `species_name[11:]` (without a value after the colon)\n",
    "3. `species_name[:4]` (without a value before the colon)\n",
    "4. `species_name[:]` (just a colon)\n",
    "5. `species_name[11:-3]`\n",
    "6. `species_name[-5:-3]`\n",
    "7. What happens when you choose a `stop` value which is out of range? (i.e., try `species_name[0:20]` or `species_name[:103]`)"
   ]
  },
  {
   "cell_type": "markdown",
   "id": "ccf61540",
   "metadata": {
    "id": "kBm2n22w5bNw",
    "slideshow": {
     "slide_type": "-"
    }
   },
   "source": [
    "## Solutions\n",
    "\n",
    "1. `species_name[2:8]` returns the substring `'acia b'`\n",
    "2. `species_name[11:]` returns the substring `'folia'`, from position 11 until the end\n",
    "3. `species_name[:4]` returns the substring `'Acac'`, from the start up to but not including position 4\n",
    "4. `species_name[:]` returns the entire string `'Acacia buxifolia'`\n",
    "5. `species_name[11:-3]` returns the substring `'fo'`, from the 11th position to the third last position\n",
    "6. `species_name[-5:-3]` also returns the substring `'fo'`, from the fifth last position to the third last\n",
    "7. If a part of the slice is out of range, the operation does not fail. `species_name[0:20]` gives the same result as `species_name[0:]`, and `species_name[:103]` gives the same result as `species_name[:]`\n",
    "  \n",
    "  "
   ]
  },
  {
   "cell_type": "markdown",
   "id": "c3xyuFI9k7XT",
   "metadata": {
    "id": "c3xyuFI9k7XT",
    "slideshow": {
     "slide_type": "slide"
    }
   },
   "source": [
    "# <p style=\"background-color: #f5df18; padding: 10px;\"> 🗝️ Key points</p>\n",
    "\n",
    "---"
   ]
  },
  {
   "cell_type": "markdown",
   "id": "KvQ58r56lDDq",
   "metadata": {
    "id": "KvQ58r56lDDq",
    "slideshow": {
     "slide_type": "-"
    }
   },
   "source": [
    "- Use variables to store values.\n",
    "- Use `print` to display values.\n",
    "- Variables persist between cells.\n",
    "- Variables must be created before they are used.\n",
    "- Variables can be used in calculations.\n",
    "- Use an index to get a single character from a string.\n",
    "- Use a slice to get a substring.\n",
    "- Use the built-in function `len` to find the length of a string.\n",
    "- Python is case-sensitive.\n",
    "- Use meaningful variable names.\n"
   ]
  }
 ],
 "metadata": {
  "celltoolbar": "Slideshow",
  "colab": {
   "provenance": []
  },
  "kernelspec": {
   "display_name": "Python 3 (ipykernel)",
   "language": "python",
   "name": "python3"
  },
  "language_info": {
   "codemirror_mode": {
    "name": "ipython",
    "version": 3
   },
   "file_extension": ".py",
   "mimetype": "text/x-python",
   "name": "python",
   "nbconvert_exporter": "python",
   "pygments_lexer": "ipython3",
   "version": "3.11.3"
  },
  "toc-showcode": true
 },
 "nbformat": 4,
 "nbformat_minor": 5
}
