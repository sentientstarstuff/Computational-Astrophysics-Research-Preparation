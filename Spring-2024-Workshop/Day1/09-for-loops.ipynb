{
 "cells": [
  {
   "cell_type": "markdown",
   "id": "labeled-firewall",
   "metadata": {
    "id": "labeled-firewall",
    "slideshow": {
     "slide_type": "slide"
    }
   },
   "source": [
    "# <p style=\"background-color: #f5df18; padding: 10px;\">Programming & Plotting in Python | **For Loops** </p>\n",
    "\n",
    "\n",
    "\n",
    "### <strong>Instructor: <span style=\"color: darkblue;\">Name (Affliation)</span></strong>\n",
    "\n",
    "Estimated completion time: 🕚 20 minutes\n"
   ]
  },
  {
   "cell_type": "markdown",
   "id": "30c98737",
   "metadata": {
    "slideshow": {
     "slide_type": "slide"
    }
   },
   "source": [
    "<div style=\"display: flex;\">\n",
    "    <div style=\"flex: 1; margin-right: 20px;\">\n",
    "        <h2>Questions</h2>\n",
    "        <ul>\n",
    "            <li>How can I make a program do many things?</li>\n",
    "        </ul>\n",
    "    </div>\n",
    "    <div style=\"flex: 1;\">\n",
    "        <h2>Learning Objectives</h2>\n",
    "        <ul> \n",
    "            <li>Explain what for loops are normally used for.</li>\n",
    "            <li>Trace the execution of a simple (unnested) loop and correctly state the values of variables in each iteration.</li>\n",
    "            <li>Write for loops that use the Accumulator pattern to aggregate values.</li>\n",
    "        </ul>\n",
    "    </div>\n",
    "</div>\n"
   ]
  },
  {
   "cell_type": "markdown",
   "id": "pressed-commerce",
   "metadata": {
    "id": "pressed-commerce",
    "slideshow": {
     "slide_type": "slide"
    },
    "tags": []
   },
   "source": [
    "## A *for loop* executes commands once for each value in a collection.\n",
    "\n",
    "- Doing calculations on the values in a list one by one\n",
    "  is as painful as working with `pressure_001`, `pressure_002`, etc.\n",
    "- A *for loop* tells Python to execute some statements once for each value in a list,\n",
    "  a character string,\n",
    "  or some other collection.\n",
    "- \"for each thing in this group, do these operations\""
   ]
  },
  {
   "cell_type": "code",
   "execution_count": null,
   "id": "7bbee27f",
   "metadata": {
    "slideshow": {
     "slide_type": "-"
    }
   },
   "outputs": [],
   "source": []
  },
  {
   "cell_type": "code",
   "execution_count": null,
   "id": "1a41c06a",
   "metadata": {
    "slideshow": {
     "slide_type": "-"
    }
   },
   "outputs": [],
   "source": []
  },
  {
   "cell_type": "markdown",
   "id": "d3167cc9",
   "metadata": {
    "slideshow": {
     "slide_type": "slide"
    }
   },
   "source": [
    "## A `for` loop is made up of a collection, a loop variable, and a body.\n",
    "```python\n",
    "for number in [2, 3, 5]:\n",
    "    print(number)\n",
    "```\n",
    "\n",
    "- The collection, `[2, 3, 5]`, is what the loop is being run on.\n",
    "- The body, `print(number)`, specifies what to do for each value in the collection.\n",
    "- The loop variable, `number`, is what changes for each *iteration* of the loop.\n",
    "  - The \"current thing\"."
   ]
  },
  {
   "cell_type": "code",
   "execution_count": null,
   "id": "7f113dcf",
   "metadata": {
    "slideshow": {
     "slide_type": "-"
    }
   },
   "outputs": [],
   "source": []
  },
  {
   "cell_type": "markdown",
   "id": "vertical-yellow",
   "metadata": {
    "id": "vertical-yellow",
    "jp-MarkdownHeadingCollapsed": true,
    "slideshow": {
     "slide_type": "slide"
    },
    "tags": []
   },
   "source": [
    "## The first line of the `for` loop must end with a colon, and the body must be indented.\n",
    "\n",
    "- The colon at the end of the first line signals the start of a *block* of statements.\n",
    "- Python uses indentation rather than `{}` or `begin`/`end` to show *nesting*.\n",
    "  - Any consistent indentation is legal, but almost everyone uses four spaces."
   ]
  },
  {
   "cell_type": "code",
   "execution_count": null,
   "id": "iraqi-embassy",
   "metadata": {
    "id": "iraqi-embassy",
    "slideshow": {
     "slide_type": "-"
    }
   },
   "outputs": [],
   "source": []
  },
  {
   "cell_type": "markdown",
   "id": "hollywood-clerk",
   "metadata": {
    "id": "hollywood-clerk",
    "slideshow": {
     "slide_type": "slide"
    }
   },
   "source": [
    "- Indentation is always meaningful in Python.\n",
    "\n",
    "```python\n",
    "firstName = \"Jon\"\n",
    "  lastName = \"Smith\"\n",
    "```\n",
    "\n",
    "```error\n",
    "  File \"<ipython-input-7-f65f2962bf9c>\", line 2\n",
    "    lastName = \"Smith\"\n",
    "    ^\n",
    "IndentationError: unexpected indent\n",
    "```\n",
    "\n",
    "- This error can be fixed by removing the extra spaces\n",
    "  at the beginning of the second line."
   ]
  },
  {
   "cell_type": "markdown",
   "id": "norwegian-multiple",
   "metadata": {
    "id": "norwegian-multiple",
    "slideshow": {
     "slide_type": "slide"
    }
   },
   "source": [
    "## Loop variables can be called anything.\n",
    "\n",
    "- As with all variables, loop variables are:\n",
    "  - Created on demand.\n",
    "  - Meaningless: their names can be anything at all."
   ]
  },
  {
   "cell_type": "code",
   "execution_count": null,
   "id": "characteristic-oklahoma",
   "metadata": {
    "id": "characteristic-oklahoma",
    "slideshow": {
     "slide_type": "-"
    }
   },
   "outputs": [],
   "source": []
  },
  {
   "cell_type": "markdown",
   "id": "9b5fe3b2",
   "metadata": {
    "slideshow": {
     "slide_type": "slide"
    }
   },
   "source": [
    "## The body of a loop can contain many statements.\n",
    "\n",
    "- But no loop should be more than a few lines long.\n",
    "- Hard for human beings to keep larger chunks of code in mind."
   ]
  },
  {
   "cell_type": "code",
   "execution_count": null,
   "id": "35fff701",
   "metadata": {
    "slideshow": {
     "slide_type": "-"
    }
   },
   "outputs": [],
   "source": []
  },
  {
   "cell_type": "markdown",
   "id": "W4hpB9uV1aBy",
   "metadata": {
    "id": "W4hpB9uV1aBy",
    "slideshow": {
     "slide_type": "slide"
    }
   },
   "source": [
    "## Use `range` to iterate over a sequence of numbers.\n",
    "\n",
    "- The built-in function [`range`](https://docs.python.org/3/library/stdtypes.html#range) produces a sequence of numbers.\n",
    "  - *Not* a list: the numbers are produced on demand\n",
    "    to make looping over large ranges more efficient.\n",
    "- `range(N)` is the numbers 0..N-1\n",
    "  - Exactly the legal indices of a list or character string of length N\n"
   ]
  },
  {
   "cell_type": "code",
   "execution_count": null,
   "id": "7af89c1a",
   "metadata": {
    "slideshow": {
     "slide_type": "-"
    }
   },
   "outputs": [],
   "source": []
  },
  {
   "cell_type": "markdown",
   "id": "a150bda5",
   "metadata": {
    "slideshow": {
     "slide_type": "slide"
    }
   },
   "source": [
    "## The Accumulator pattern turns many values into one.\n",
    "\n",
    "- A common pattern in programs is to:\n",
    "  1. Initialize an *accumulator* variable to zero, the empty string, or the empty list.\n",
    "  2. Update the variable with values from a collection."
   ]
  },
  {
   "cell_type": "code",
   "execution_count": null,
   "id": "2d4977fe",
   "metadata": {
    "slideshow": {
     "slide_type": "-"
    }
   },
   "outputs": [],
   "source": []
  },
  {
   "cell_type": "markdown",
   "id": "db96120c",
   "metadata": {
    "slideshow": {
     "slide_type": "slide"
    }
   },
   "source": [
    "- Read `total = total + (number + 1)` as:\n",
    "  - Add 1 to the current value of the loop variable `number`.\n",
    "  - Add that to the current value of the accumulator variable `total`.\n",
    "  - Assign that to `total`, replacing the current value.\n",
    "- We have to add `number + 1` because `range` produces 0..9, not 1..10."
   ]
  },
  {
   "cell_type": "markdown",
   "id": "AGmylKKlQWm5",
   "metadata": {
    "id": "AGmylKKlQWm5",
    "slideshow": {
     "slide_type": "slide"
    }
   },
   "source": [
    "## <p style=\"background-color: #f5df18; padding: 10px;\"> 🛑 Classifying Errors </p>\n",
    "\n",
    "---\n",
    "\n",
    "Is an indentation error a syntax error or a runtime error?"
   ]
  },
  {
   "cell_type": "code",
   "execution_count": null,
   "id": "33e65584",
   "metadata": {
    "slideshow": {
     "slide_type": "-"
    }
   },
   "outputs": [],
   "source": [
    "### your answer here ###"
   ]
  },
  {
   "cell_type": "markdown",
   "id": "Ue1fIkXt4Ahu",
   "metadata": {
    "id": "Ue1fIkXt4Ahu",
    "slideshow": {
     "slide_type": "slide"
    }
   },
   "source": [
    "## <p style=\"background-color: #f5df18; padding: 10px;\"> 🛑 Predicting Values Exercise </p>\n",
    "\n",
    "---\n",
    "\n",
    "What is the final value of `position` in the program below?\n",
    "(Try to predict the value without running the program,\n",
    "then check your prediction.)\n",
    "\n",
    "```python\n",
    "initial = 'left'\n",
    "position = initial\n",
    "initial = 'right'\n",
    "```"
   ]
  },
  {
   "cell_type": "code",
   "execution_count": null,
   "id": "aBF5H4_1kYOL",
   "metadata": {
    "id": "aBF5H4_1kYOL",
    "slideshow": {
     "slide_type": "-"
    }
   },
   "outputs": [],
   "source": [
    "### your answer here ###"
   ]
  },
  {
   "cell_type": "markdown",
   "id": "irhVm53xQgOG",
   "metadata": {
    "id": "irhVm53xQgOG",
    "slideshow": {
     "slide_type": "slide"
    }
   },
   "source": [
    "## <p style=\"background-color: #f5df18; padding: 10px;\"> 🛑 Tracing Execution </p>\n",
    "\n",
    "---\n",
    "\n",
    "Create a table showing the numbers of the lines that are executed when this program runs,\n",
    "and the values of the variables after each line is executed.\n",
    "\n",
    "```python\n",
    "total = 0\n",
    "for char in \"tin\":\n",
    "    total = total + 1\n",
    "```"
   ]
  },
  {
   "cell_type": "code",
   "execution_count": 7,
   "id": "reasonable-forwarding",
   "metadata": {
    "id": "reasonable-forwarding",
    "slideshow": {
     "slide_type": "-"
    }
   },
   "outputs": [],
   "source": [
    "### your answer here ###"
   ]
  },
  {
   "cell_type": "markdown",
   "id": "xP8epXpCRRv9",
   "metadata": {
    "id": "xP8epXpCRRv9",
    "slideshow": {
     "slide_type": "slide"
    }
   },
   "source": [
    "## <p style=\"background-color: #f5df18; padding: 10px;\"> 🛑 Reversing a String </p>\n",
    "\n",
    "\n",
    "Fill in the blanks in the program below so that it prints \"nit\"\n",
    "(the reverse of the original character string \"tin\").\n",
    "\n",
    "```python\n",
    "original = \"tin\"\n",
    "result = ____\n",
    "for char in original:\n",
    "    result = ____\n",
    "print(result)\n",
    "```\n"
   ]
  },
  {
   "cell_type": "code",
   "execution_count": null,
   "id": "e8d0b838",
   "metadata": {
    "id": "i9rxWLAz6ORF",
    "slideshow": {
     "slide_type": "-"
    }
   },
   "outputs": [],
   "source": [
    "### your answer here ###"
   ]
  },
  {
   "cell_type": "markdown",
   "id": "RiepqFJMRZz3",
   "metadata": {
    "id": "RiepqFJMRZz3",
    "slideshow": {
     "slide_type": "slide"
    }
   },
   "source": [
    "## <p style=\"background-color: #f5df18; padding: 10px;\"> 🛑 Practice Accumulating </p>\n",
    "\n",
    "Fill in the blanks in each of the programs below\n",
    "to produce the indicated result.\n",
    "\n",
    "```python\n",
    "# Total length of the strings in the list: [\"red\", \"green\", \"blue\"] => 12\n",
    "total = 0\n",
    "for word in [\"red\", \"green\", \"blue\"]:\n",
    "    ____ = ____ + len(word)\n",
    "print(total)\n",
    "```"
   ]
  },
  {
   "cell_type": "code",
   "execution_count": 9,
   "id": "south-broadway",
   "metadata": {
    "id": "south-broadway",
    "slideshow": {
     "slide_type": "-"
    }
   },
   "outputs": [],
   "source": [
    "### your answer here ###"
   ]
  },
  {
   "cell_type": "markdown",
   "id": "d5d48571",
   "metadata": {
    "slideshow": {
     "slide_type": "slide"
    }
   },
   "source": [
    "## <p style=\"background-color: #f5df18; padding: 10px;\"> 🛑 Practice Accumulating (Continued) </p>\n",
    "\n",
    "```python\n",
    "# List of word lengths: [\"red\", \"green\", \"blue\"] => [3, 5, 4]\n",
    "lengths = ____\n",
    "for word in [\"red\", \"green\", \"blue\"]:\n",
    "    lengths.____(____)\n",
    "print(lengths)\n",
    "```"
   ]
  },
  {
   "cell_type": "code",
   "execution_count": null,
   "id": "e3d266b5",
   "metadata": {
    "slideshow": {
     "slide_type": "-"
    }
   },
   "outputs": [],
   "source": [
    "### your answer here ###"
   ]
  },
  {
   "cell_type": "markdown",
   "id": "79a98579",
   "metadata": {
    "slideshow": {
     "slide_type": "slide"
    }
   },
   "source": [
    "## <p style=\"background-color: #f5df18; padding: 10px;\"> 🛑 Practice Accumulating (Continued) </p>\n",
    "\n",
    "\n",
    "```python\n",
    "# Concatenate all words: [\"red\", \"green\", \"blue\"] => \"redgreenblue\"\n",
    "words = [\"red\", \"green\", \"blue\"]\n",
    "result = ____\n",
    "for ____ in ____:\n",
    "    ____\n",
    "print(result)\n",
    "```"
   ]
  },
  {
   "cell_type": "code",
   "execution_count": null,
   "id": "bf1feebf",
   "metadata": {
    "slideshow": {
     "slide_type": "-"
    }
   },
   "outputs": [],
   "source": [
    "### your answer here ###"
   ]
  },
  {
   "cell_type": "markdown",
   "id": "945b4f3f",
   "metadata": {
    "slideshow": {
     "slide_type": "slide"
    }
   },
   "source": [
    "## <p style=\"background-color: #f5df18; padding: 10px;\"> 🛑 Practice Accumulating (Continued) </p>\n",
    "\n",
    "**Create an acronym:** Starting from the list `[\"red\", \"green\", \"blue\"]`, create the acronym `\"RGB\"` using\n",
    "a for loop.\n",
    "\n",
    "**Hint:** You may need to use a string method to properly format the acronym.\n"
   ]
  },
  {
   "cell_type": "code",
   "execution_count": null,
   "id": "3eb14f6d",
   "metadata": {
    "slideshow": {
     "slide_type": "-"
    }
   },
   "outputs": [],
   "source": [
    "### your answer here ###"
   ]
  },
  {
   "cell_type": "markdown",
   "id": "tyMrTbrRReoe",
   "metadata": {
    "id": "tyMrTbrRReoe",
    "slideshow": {
     "slide_type": "slide"
    }
   },
   "source": [
    "## <p style=\"background-color: #f5df18; padding: 10px;\"> 🛑  Cumulative Sum </p>\n",
    "\n",
    "\n",
    "Reorder and properly indent the lines of code below\n",
    "so that they print a list with the cumulative sum of data.\n",
    "The result should be `[1, 3, 5, 10]`.\n",
    "\n",
    "```python\n",
    "cumulative.append(total)\n",
    "for number in data:\n",
    "cumulative = []\n",
    "total = total + number\n",
    "total = 0\n",
    "print(cumulative)\n",
    "data = [1,2,2,5]\n",
    "```"
   ]
  },
  {
   "cell_type": "code",
   "execution_count": 10,
   "id": "kBm2n22w5bNw",
   "metadata": {
    "id": "kBm2n22w5bNw",
    "slideshow": {
     "slide_type": "-"
    }
   },
   "outputs": [],
   "source": [
    "### your answer here ##"
   ]
  },
  {
   "cell_type": "markdown",
   "id": "4453170d",
   "metadata": {
    "slideshow": {
     "slide_type": "slide"
    }
   },
   "source": [
    "## <p style=\"background-color: #f5df18; padding: 10px;\"> 🛑 Identifying Variable Name Errors </p>\n",
    "\n",
    "\n",
    "1. Read the code below and try to identify what the errors are\n",
    "  *without* running it.\n",
    "2. Run the code and read the error message.\n",
    "  What type of `NameError` do you think this is?\n",
    "  Is it a string with no quotes, a misspelled variable, or a\n",
    "  variable that should have been defined but was not?\n",
    "3. Fix the error.\n",
    "4. Repeat steps 2 and 3, until you have fixed all the errors.\n",
    "\n",
    "```python\n",
    "for number in range(10):\n",
    "    # use a if the number is a multiple of 3, otherwise use b\n",
    "    if (Number % 3) == 0:\n",
    "        message = message + a\n",
    "    else:\n",
    "        message = message + \"b\"\n",
    "print(message)\n",
    "```"
   ]
  },
  {
   "cell_type": "code",
   "execution_count": null,
   "id": "47585888",
   "metadata": {
    "slideshow": {
     "slide_type": "-"
    }
   },
   "outputs": [],
   "source": [
    "### your answer here ##"
   ]
  },
  {
   "cell_type": "markdown",
   "id": "1b842134",
   "metadata": {
    "slideshow": {
     "slide_type": "slide"
    }
   },
   "source": [
    "## <p style=\"background-color: #f5df18; padding: 10px;\"> 🛑 Identifying Item Errors </p>\n",
    "\n",
    "1. Read the code below and try to identify what the errors are\n",
    "  *without* running it.\n",
    "2. Run the code, and read the error message. What type of error is it?\n",
    "3. Fix the error.\n",
    "\n",
    "```python\n",
    "seasons = ['Spring', 'Summer', 'Fall', 'Winter']\n",
    "print('My favorite season is ', seasons[4])\n",
    "```"
   ]
  },
  {
   "cell_type": "markdown",
   "id": "c3xyuFI9k7XT",
   "metadata": {
    "id": "c3xyuFI9k7XT",
    "slideshow": {
     "slide_type": "slide"
    }
   },
   "source": [
    "# <p style=\"background-color: #f5df18; padding: 10px;\"> 🗝️ Key points</p>\n",
    "\n",
    "---\n",
    "\n",
    "- A *for loop* executes commands once for each value in a collection.\n",
    "- A `for` loop is made up of a collection, a loop variable, and a body.\n",
    "- The first line of the `for` loop must end with a colon, and the body must be indented.\n",
    "- Indentation is always meaningful in Python.\n",
    "- Loop variables can be called anything (but it is strongly advised to have a meaningful name to the looping variable).\n",
    "- The body of a loop can contain many statements.\n",
    "- Use `range` to iterate over a sequence of numbers.\n",
    "- The Accumulator pattern turns many values into one."
   ]
  }
 ],
 "metadata": {
  "celltoolbar": "Slideshow",
  "colab": {
   "provenance": []
  },
  "kernelspec": {
   "display_name": "Python 3 (ipykernel)",
   "language": "python",
   "name": "python3"
  },
  "language_info": {
   "codemirror_mode": {
    "name": "ipython",
    "version": 3
   },
   "file_extension": ".py",
   "mimetype": "text/x-python",
   "name": "python",
   "nbconvert_exporter": "python",
   "pygments_lexer": "ipython3",
   "version": "3.11.3"
  },
  "toc-showcode": true
 },
 "nbformat": 4,
 "nbformat_minor": 5
}
