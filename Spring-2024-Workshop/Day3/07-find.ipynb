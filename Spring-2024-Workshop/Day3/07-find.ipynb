{
 "cells": [
  {
   "cell_type": "markdown",
   "id": "labeled-firewall",
   "metadata": {
    "id": "labeled-firewall",
    "slideshow": {
     "slide_type": "slide"
    }
   },
   "source": [
    "# <p style=\"background-color: #f5df18; padding: 10px;\">The Unix Shell | **🔎 Finding Things** </p>\n",
    "\n",
    "\n",
    "\n",
    "### <strong>Instructor: <span style=\"color: darkblue;\">Name (Affliation)</span></strong>\n",
    "\n",
    "Estimated completion time: 🕚 45 minutes\n",
    "\n"
   ]
  },
  {
   "cell_type": "markdown",
   "id": "30c98737",
   "metadata": {
    "slideshow": {
     "slide_type": "slide"
    }
   },
   "source": [
    "<div style=\"display: flex;\">\n",
    "    <div style=\"flex: 1; margin-right: 20px;\">\n",
    "        <h2>Questions</h2>\n",
    "        <ul>\n",
    "            <li>How can I find files?</li>\n",
    "    <li>How can I find things in files?</li>\n",
    "        </ul>\n",
    "    </div>\n",
    "    <div style=\"flex: 1;\">\n",
    "        <h2>Learning Objectives</h2>\n",
    "        <ul> \n",
    "            <li>Use <code>grep</code> to select lines from text files that match simple patterns.</li>\n",
    "    <li>Use <code>find</code> to find files and directories whose names match simple patterns.</li>\n",
    "    <li>Use the output of one command as the command-line argument(s) to another command.</li>\n",
    "    <li>Explain what is meant by 'text' and 'binary' files, and why many common tools don't handle the latter well.</li>\n",
    "        </ul>\n",
    "    </div>\n",
    "</div>\n"
   ]
  },
  {
   "cell_type": "markdown",
   "id": "pressed-commerce",
   "metadata": {
    "id": "pressed-commerce",
    "slideshow": {
     "slide_type": "slide"
    },
    "tags": []
   },
   "source": [
    "In the same way that many of us now use 'Google' as a\n",
    "verb meaning 'to find', Unix programmers often use the\n",
    "word 'grep'.\n",
    "'grep' is a contraction of 'global/regular expression/print',\n",
    "a common sequence of operations in early Unix text editors.\n",
    "It is also the name of a very useful command-line program.\n",
    "\n"
   ]
  },
  {
   "cell_type": "markdown",
   "id": "fff76b4f",
   "metadata": {
    "slideshow": {
     "slide_type": "slide"
    }
   },
   "source": [
    "`grep` finds and prints lines in files that match a pattern.\n",
    "For our examples,\n",
    "we will use a file that contains three haiku taken from a\n",
    "[1998 competition](https://web.archive.org/web/19991201042211/http://salon.com/21st/chal/1998/01/26chal.html)\n",
    "in *Salon* magazine (Credit to authors Bill Torcaso, Howard Korder, and\n",
    "Margaret Segall, respectively. See\n",
    "Haiku Error Messsages archived\n",
    "[Page 1](https://web.archive.org/web/20000310061355/http://www.salon.com/21st/chal/1998/02/10chal2.html)\n",
    "and\n",
    "[Page 2](https://web.archive.org/web/20000229135138/http://www.salon.com/21st/chal/1998/02/10chal3.html)\n",
    ".). For this set of examples,\n",
    "we're going to be working in the writing subdirectory:\n",
    "\n"
   ]
  },
  {
   "cell_type": "markdown",
   "id": "58e882d6",
   "metadata": {
    "slideshow": {
     "slide_type": "fragment"
    }
   },
   "source": [
    "```bash\n",
    "$ cd\n",
    "$ cd Desktop/shell-lesson-data/exercise-data/writing\n",
    "$ cat haiku.txt\n",
    "```\n",
    "\n"
   ]
  },
  {
   "cell_type": "markdown",
   "id": "58e791b7",
   "metadata": {
    "slideshow": {
     "slide_type": "slide"
    }
   },
   "source": [
    "```output\n",
    "\n",
    "The Tao that is seen\n",
    "Is not the true Tao, until\n",
    "You bring fresh toner.\n",
    "\n",
    "With searching comes loss\n",
    "and the presence of absence:\n",
    "\"My Thesis\" not found.\n",
    "\n",
    "Yesterday it worked\n",
    "Today it is not working\n",
    "Software is like that.\n",
    "\n",
    "\n",
    "```"
   ]
  },
  {
   "cell_type": "markdown",
   "id": "bba7ed5d",
   "metadata": {
    "slideshow": {
     "slide_type": "slide"
    }
   },
   "source": [
    "Let's find lines that contain the word 'not':\n",
    "\n"
   ]
  },
  {
   "cell_type": "markdown",
   "id": "0b5b3bcb",
   "metadata": {
    "slideshow": {
     "slide_type": "fragment"
    }
   },
   "source": [
    "```bash\n",
    "$ grep not haiku.txt\n",
    "```\n",
    "\n"
   ]
  },
  {
   "cell_type": "markdown",
   "id": "35df1d88",
   "metadata": {
    "slideshow": {
     "slide_type": "fragment"
    }
   },
   "source": [
    "```output\n",
    "Is not the true Tao, until\n",
    "\"My Thesis\" not found\n",
    "Today it is not working\n",
    "```\n",
    "\n"
   ]
  },
  {
   "cell_type": "markdown",
   "id": "cdb49ba8",
   "metadata": {
    "slideshow": {
     "slide_type": "slide"
    }
   },
   "source": [
    "Here, `not` is the pattern we're searching for.\n",
    "The grep command searches through the file, looking for matches to the pattern specified.\n",
    "To use it type `grep`, then the pattern we're searching for and finally\n",
    "the name of the file (or files) we're searching in.\n",
    "\n",
    "\n"
   ]
  },
  {
   "cell_type": "markdown",
   "id": "70390d82",
   "metadata": {
    "slideshow": {
     "slide_type": "fragment"
    }
   },
   "source": [
    "The output is the three lines in the file that contain the letters 'not'.\n",
    "\n"
   ]
  },
  {
   "cell_type": "markdown",
   "id": "704b753b",
   "metadata": {
    "slideshow": {
     "slide_type": "fragment"
    }
   },
   "source": [
    "By default, grep searches for a pattern in a case-sensitive way.\n",
    "In addition, the search pattern we have selected does not have to form a complete word,\n",
    "as we will see in the next example.\n"
   ]
  },
  {
   "cell_type": "markdown",
   "id": "e4564f59",
   "metadata": {
    "slideshow": {
     "slide_type": "slide"
    }
   },
   "source": [
    "Let's search for the pattern: 'The'.\n",
    "\n"
   ]
  },
  {
   "cell_type": "markdown",
   "id": "0ec63a06",
   "metadata": {
    "slideshow": {
     "slide_type": "fragment"
    }
   },
   "source": [
    "```bash\n",
    "$ grep The haiku.txt\n",
    "```\n",
    "\n"
   ]
  },
  {
   "cell_type": "markdown",
   "id": "e6fcdfbc",
   "metadata": {
    "slideshow": {
     "slide_type": "fragment"
    }
   },
   "source": [
    "```output\n",
    "The Tao that is seen\n",
    "\"My Thesis\" not found.\n",
    "```\n",
    "\n"
   ]
  },
  {
   "cell_type": "markdown",
   "id": "193e6ad5",
   "metadata": {
    "slideshow": {
     "slide_type": "slide"
    }
   },
   "source": [
    "This time, two lines that include the letters 'The' are outputted,\n",
    "one of which contained our search pattern within a larger word, 'Thesis'.\n",
    "\n",
    "To restrict matches to lines containing the word 'The' on its own,\n",
    "we can give `grep` the `-w` option.\n",
    "This will limit matches to word boundaries.\n",
    "\n",
    "Later in this lesson, we will also see how we can change the search behavior of grep\n",
    "with respect to its case sensitivity.\n"
   ]
  },
  {
   "cell_type": "markdown",
   "id": "3ce74219",
   "metadata": {
    "slideshow": {
     "slide_type": "fragment"
    }
   },
   "source": [
    "\n",
    "```bash\n",
    "$ grep -w The haiku.txt\n",
    "```\n",
    "\n"
   ]
  },
  {
   "cell_type": "markdown",
   "id": "55d9ae1d",
   "metadata": {
    "slideshow": {
     "slide_type": "fragment"
    }
   },
   "source": [
    "```output\n",
    "The Tao that is seen\n",
    "```\n",
    "\n"
   ]
  },
  {
   "cell_type": "markdown",
   "id": "70ccb3f7",
   "metadata": {
    "slideshow": {
     "slide_type": "slide"
    }
   },
   "source": [
    "Note that a 'word boundary' includes the start and end of a line, so not\n",
    "just letters surrounded by spaces.\n",
    "Sometimes we don't\n",
    "want to search for a single word, but a phrase. We can also do this with\n",
    "`grep` by putting the phrase in quotes.\n",
    "\n"
   ]
  },
  {
   "cell_type": "markdown",
   "id": "87cb56ab",
   "metadata": {
    "slideshow": {
     "slide_type": "fragment"
    }
   },
   "source": [
    "```bash\n",
    "$ grep -w \"is not\" haiku.txt\n",
    "```\n",
    "\n"
   ]
  },
  {
   "cell_type": "markdown",
   "id": "ace52ee5",
   "metadata": {
    "slideshow": {
     "slide_type": "fragment"
    }
   },
   "source": [
    "```output\n",
    "Today it is not working\n",
    "```\n",
    "\n"
   ]
  },
  {
   "cell_type": "markdown",
   "id": "774f4023",
   "metadata": {
    "slideshow": {
     "slide_type": "slide"
    }
   },
   "source": [
    "We've now seen that you don't have to have quotes around single words,\n",
    "but it is useful to use quotes when searching for multiple words.\n",
    "It also helps to make it easier to distinguish between the search term or phrase\n",
    "and the file being searched.\n",
    "We will use quotes in the remaining examples.\n",
    "\n",
    "Another useful option is `-n`, which numbers the lines that match:\n",
    "\n"
   ]
  },
  {
   "cell_type": "markdown",
   "id": "cf36d5b0",
   "metadata": {
    "slideshow": {
     "slide_type": "fragment"
    }
   },
   "source": [
    "```bash\n",
    "$ grep -n \"it\" haiku.txt\n",
    "```\n",
    "\n"
   ]
  },
  {
   "cell_type": "markdown",
   "id": "578b1a6e",
   "metadata": {
    "slideshow": {
     "slide_type": "fragment"
    }
   },
   "source": [
    "```output\n",
    "5:With searching comes loss\n",
    "9:Yesterday it worked\n",
    "10:Today it is not working\n",
    "```\n",
    "\n"
   ]
  },
  {
   "cell_type": "markdown",
   "id": "6297ab89",
   "metadata": {
    "slideshow": {
     "slide_type": "slide"
    }
   },
   "source": [
    "Here, we can see that lines 5, 9, and 10 contain the letters 'it'.\n",
    "\n",
    "We can combine options (i.e. flags) as we do with other Unix commands.\n",
    "For example, let's find the lines that contain the word 'the'.\n",
    "We can combine the option `-w` to find the lines that contain the word 'the'\n",
    "and `-n` to number the lines that match:\n",
    "\n"
   ]
  },
  {
   "cell_type": "markdown",
   "id": "bc693a32",
   "metadata": {
    "slideshow": {
     "slide_type": "fragment"
    }
   },
   "source": [
    "```bash\n",
    "$ grep -n -w \"the\" haiku.txt\n",
    "```\n",
    "\n"
   ]
  },
  {
   "cell_type": "markdown",
   "id": "1857ef59",
   "metadata": {
    "slideshow": {
     "slide_type": "fragment"
    }
   },
   "source": [
    "```output\n",
    "2:Is not the true Tao, until\n",
    "6:and the presence of absence:\n",
    "```\n",
    "\n"
   ]
  },
  {
   "cell_type": "markdown",
   "id": "0c6877a8",
   "metadata": {
    "slideshow": {
     "slide_type": "slide"
    }
   },
   "source": [
    "Now we want to use the option `-i` to make our search case-insensitive:\n",
    "\n"
   ]
  },
  {
   "cell_type": "markdown",
   "id": "5495ee70",
   "metadata": {
    "slideshow": {
     "slide_type": "fragment"
    }
   },
   "source": [
    "```bash\n",
    "$ grep -n -w -i \"the\" haiku.txt\n",
    "```\n",
    "\n"
   ]
  },
  {
   "cell_type": "markdown",
   "id": "ef7eec58",
   "metadata": {
    "slideshow": {
     "slide_type": "fragment"
    }
   },
   "source": [
    "```output\n",
    "1:The Tao that is seen\n",
    "2:Is not the true Tao, until\n",
    "6:and the presence of absence:\n",
    "```\n"
   ]
  },
  {
   "cell_type": "markdown",
   "id": "f22aeb68",
   "metadata": {
    "slideshow": {
     "slide_type": "slide"
    }
   },
   "source": [
    "\n",
    "Now, we want to use the option `-v` to invert our search, i.e., we want to output\n",
    "the lines that do not contain the word 'the'.\n",
    "\n"
   ]
  },
  {
   "cell_type": "markdown",
   "id": "f25f19d6",
   "metadata": {
    "slideshow": {
     "slide_type": "fragment"
    }
   },
   "source": [
    "```bash\n",
    "$ grep -n -w -v \"the\" haiku.txt\n",
    "```\n",
    "\n"
   ]
  },
  {
   "cell_type": "markdown",
   "id": "103aebe5",
   "metadata": {
    "slideshow": {
     "slide_type": "fragment"
    }
   },
   "source": [
    "```output\n",
    "1:The Tao that is seen\n",
    "3:You bring fresh toner.\n",
    "4:\n",
    "5:With searching comes loss\n",
    "7:\"My Thesis\" not found.\n",
    "8:\n",
    "9:Yesterday it worked\n",
    "10:Today it is not working\n",
    "11:Software is like that.\n",
    "```\n"
   ]
  },
  {
   "cell_type": "markdown",
   "id": "5d901002",
   "metadata": {
    "slideshow": {
     "slide_type": "slide"
    }
   },
   "source": [
    "\n",
    "If we use the `-r` (recursive) option,\n",
    "`grep` can search for a pattern recursively through a set of files in subdirectories.\n",
    "\n",
    "Let's search recursively for `Yesterday` in the `shell-lesson-data/exercise-data/writing` directory:\n",
    "\n"
   ]
  },
  {
   "cell_type": "markdown",
   "id": "f855a407",
   "metadata": {
    "slideshow": {
     "slide_type": "fragment"
    }
   },
   "source": [
    "```bash\n",
    "$ grep -r Yesterday .\n",
    "```\n",
    "\n"
   ]
  },
  {
   "cell_type": "markdown",
   "id": "4277d250",
   "metadata": {
    "slideshow": {
     "slide_type": "fragment"
    }
   },
   "source": [
    "```output\n",
    "./LittleWomen.txt:\"Yesterday, when Aunt was asleep and I was trying to be as still as a\n",
    "./LittleWomen.txt:Yesterday at dinner, when an Austrian officer stared at us and then\n",
    "./LittleWomen.txt:Yesterday was a quiet day spent in teaching, sewing, and writing in my\n",
    "./haiku.txt:Yesterday it worked\n",
    "```\n",
    "\n"
   ]
  },
  {
   "cell_type": "markdown",
   "id": "78a1b96c",
   "metadata": {
    "slideshow": {
     "slide_type": "slide"
    }
   },
   "source": [
    "`grep` has lots of other options. To find out what they are, we can type:\n",
    "\n"
   ]
  },
  {
   "cell_type": "markdown",
   "id": "68fe9f5d",
   "metadata": {
    "slideshow": {
     "slide_type": "fragment"
    }
   },
   "source": [
    "```bash\n",
    "$ grep --help\n",
    "```\n",
    "\n"
   ]
  },
  {
   "cell_type": "markdown",
   "id": "7540c634",
   "metadata": {
    "slideshow": {
     "slide_type": "fragment"
    }
   },
   "source": [
    "```output\n",
    "Usage: grep [OPTION]... PATTERN [FILE]...\n",
    "Search for PATTERN in each FILE or standard input.\n",
    "PATTERN is, by default, a basic regular expression (BRE).\n",
    "Example: grep -i 'hello world' menu.h main.c\n",
    "\n",
    "Regexp selection and interpretation:\n",
    "  -E, --extended-regexp     PATTERN is an extended regular expression (ERE)\n",
    "  -F, --fixed-strings       PATTERN is a set of newline-separated fixed strings\n",
    "  -G, --basic-regexp        PATTERN is a basic regular expression (BRE)\n",
    "  -P, --perl-regexp         PATTERN is a Perl regular expression\n",
    "  -e, --regexp=PATTERN      use PATTERN for matching\n",
    "  -f, --file=FILE           obtain PATTERN from FILE\n",
    "  -i, --ignore-case         ignore case distinctions\n",
    "  -w, --word-regexp         force PATTERN to match only whole words\n",
    "  -x, --line-regexp         force PATTERN to match only whole lines\n",
    "  -z, --null-data           a data line ends in 0 byte, not newline\n",
    "\n",
    "Miscellaneous:\n",
    "...        ...        ...\n",
    "```"
   ]
  },
  {
   "cell_type": "markdown",
   "id": "d0a2e2ad",
   "metadata": {
    "slideshow": {
     "slide_type": "slide"
    }
   },
   "source": [
    "## <p style=\"background-color: #f5df18; padding: 10px;\"> 🛑 Using `grep` </p>\n",
    "\n",
    "---\n",
    "\n",
    "Which command would result in the following output:\n",
    "\n",
    "```output\n",
    "and the presence of absence:\n",
    "```\n",
    "\n",
    "1. `grep \"of\" haiku.txt`\n",
    "2. `grep -E \"of\" haiku.txt`\n",
    "3. `grep -w \"of\" haiku.txt`\n",
    "4. `grep -i \"of\" haiku.txt`"
   ]
  },
  {
   "cell_type": "code",
   "execution_count": null,
   "id": "309a33b0",
   "metadata": {
    "slideshow": {
     "slide_type": "-"
    }
   },
   "outputs": [],
   "source": [
    "### your answer here ###"
   ]
  },
  {
   "cell_type": "markdown",
   "id": "bf8edb88",
   "metadata": {
    "slideshow": {
     "slide_type": "slide"
    }
   },
   "source": [
    "## 🔔 Wildcards\n",
    "---\n",
    "\n",
    "\n",
    "\n",
    "`grep`'s real power doesn't come from its options, though; it comes from\n",
    "the fact that patterns can include wildcards. (The technical name for\n",
    "these is **regular expressions**, which\n",
    "is what the 're' in 'grep' stands for.) Regular expressions are both complex\n",
    "and powerful; if you want to do complex searches, please look at the lesson\n",
    "on [our website](https://librarycarpentry.org/lc-data-intro/01-regular-expressions.html). As a taster, we can\n",
    "find lines that have an 'o' in the second position like this:\n"
   ]
  },
  {
   "cell_type": "markdown",
   "id": "b497f6cb",
   "metadata": {
    "slideshow": {
     "slide_type": "fragment"
    }
   },
   "source": [
    "```bash\n",
    "$ grep -E \"^.o\" haiku.txt\n",
    "```"
   ]
  },
  {
   "cell_type": "markdown",
   "id": "3bbe84cb",
   "metadata": {
    "slideshow": {
     "slide_type": "fragment"
    }
   },
   "source": [
    "```output\n",
    "You bring fresh toner.\n",
    "Today it is not working\n",
    "Software is like that.\n",
    "```\n",
    "\n"
   ]
  },
  {
   "cell_type": "markdown",
   "id": "8b9fed74",
   "metadata": {
    "slideshow": {
     "slide_type": "fragment"
    }
   },
   "source": [
    "We use the `-E` option and put the pattern in quotes to prevent the shell\n",
    "from trying to interpret it. (If the pattern contained a `*`, for\n",
    "example, the shell would try to expand it before running `grep`.) The\n",
    "`^` in the pattern anchors the match to the start of the line. The `.`\n",
    "matches a single character (just like `?` in the shell), while the `o`\n",
    "matches an actual 'o'.\n"
   ]
  },
  {
   "cell_type": "markdown",
   "id": "vertical-yellow",
   "metadata": {
    "id": "vertical-yellow",
    "jp-MarkdownHeadingCollapsed": true,
    "slideshow": {
     "slide_type": "slide"
    },
    "tags": []
   },
   "source": [
    "## <p style=\"background-color: #f5df18; padding: 10px;\"> 🛑 Tracking a Species </p>\n",
    "\n",
    "---\n",
    "\n",
    "\n",
    "Leah has several hundred\n",
    "data files saved in one directory, each of which is formatted like this:\n",
    "\n",
    "```source\n",
    "2012-11-05,deer,5\n",
    "2012-11-05,rabbit,22\n",
    "2012-11-05,raccoon,7\n",
    "2012-11-06,rabbit,19\n",
    "2012-11-06,deer,2\n",
    "2012-11-06,fox,4\n",
    "2012-11-07,rabbit,16\n",
    "2012-11-07,bear,1\n",
    "```\n",
    "\n",
    "She wants to write a shell script that takes a species as the first command-line argument\n",
    "and a directory as the second argument. The script should return one file called `<species>.txt`\n",
    "containing a list of dates and the number of that species seen on each date.\n",
    "For example using the data shown above, `rabbit.txt` would contain:\n",
    "\n",
    "```source\n",
    "2012-11-05,22\n",
    "2012-11-06,19\n",
    "2012-11-07,16\n",
    "```\n",
    "\n",
    "Below, each line contains an individual command, or pipe.  Arrange their\n",
    "sequence in one command in order to achieve Leah's goal:\n",
    "\n",
    "```bash\n",
    "cut -d : -f 2\n",
    ">\n",
    "|\n",
    "grep -w $1 -r $2\n",
    "|\n",
    "$1.txt\n",
    "cut -d , -f 1,3\n",
    "```\n",
    "\n",
    "Hint: use `man grep` to look for how to grep text recursively in a directory\n",
    "and `man cut` to select more than one field in a line.\n",
    "\n",
    "An example of such a file is provided in\n",
    "`shell-lesson-data/exercise-data/animal-counts/animals.csv`"
   ]
  },
  {
   "cell_type": "code",
   "execution_count": null,
   "id": "219a329a",
   "metadata": {
    "slideshow": {
     "slide_type": "-"
    }
   },
   "outputs": [],
   "source": [
    "### your answer here ###"
   ]
  },
  {
   "cell_type": "markdown",
   "id": "hollywood-clerk",
   "metadata": {
    "id": "hollywood-clerk",
    "slideshow": {
     "slide_type": "slide"
    }
   },
   "source": [
    "## <p style=\"background-color: #f5df18; padding: 10px;\"> 🛑 Little Women </p>\n",
    "\n",
    "---\n",
    "\n",
    "You and your friend, having just finished reading *Little Women* by\n",
    "Louisa May Alcott, are in an argument.  Of the four sisters in the\n",
    "book, Jo, Meg, Beth, and Amy, your friend thinks that Jo was the\n",
    "most mentioned.  You, however, are certain it was Amy.  Luckily, you\n",
    "have a file `LittleWomen.txt` containing the full text of the novel\n",
    "(`shell-lesson-data/exercise-data/writing/LittleWomen.txt`).\n",
    "Using a `for` loop, how would you tabulate the number of times each\n",
    "of the four sisters is mentioned?\n",
    "\n",
    "Hint: one solution might employ\n",
    "the commands `grep` and `wc` and a `|`, while another might utilize\n",
    "`grep` options.\n",
    "There is often more than one way to solve a programming task, so a\n",
    "particular solution is usually chosen based on a combination of\n",
    "yielding the correct result, elegance, readability, and speed."
   ]
  },
  {
   "cell_type": "code",
   "execution_count": null,
   "id": "9aa2a4c2",
   "metadata": {
    "slideshow": {
     "slide_type": "-"
    }
   },
   "outputs": [],
   "source": [
    "### your answer here ###"
   ]
  },
  {
   "cell_type": "markdown",
   "id": "norwegian-multiple",
   "metadata": {
    "id": "norwegian-multiple",
    "slideshow": {
     "slide_type": "slide"
    }
   },
   "source": [
    "While `grep` finds lines in files,\n",
    "the `find` command finds files themselves.\n",
    "Again,\n",
    "it has a lot of options;\n",
    "to show how the simplest ones work, we'll use the `shell-lesson-data/exercise-data`\n",
    "directory tree shown below."
   ]
  },
  {
   "cell_type": "markdown",
   "id": "bf10e5be",
   "metadata": {
    "slideshow": {
     "slide_type": "fragment"
    }
   },
   "source": [
    "```output\n",
    ".\n",
    "├── animal-counts/\n",
    "│   └── animals.csv\n",
    "├── creatures/\n",
    "│   ├── basilisk.dat\n",
    "│   ├── minotaur.dat\n",
    "│   └── unicorn.dat\n",
    "├── numbers.txt\n",
    "├── alkanes/\n",
    "│   ├── cubane.pdb\n",
    "│   ├── ethane.pdb\n",
    "│   ├── methane.pdb\n",
    "│   ├── octane.pdb\n",
    "│   ├── pentane.pdb\n",
    "│   └── propane.pdb\n",
    "└── writing/\n",
    "    ├── haiku.txt\n",
    "    └── LittleWomen.txt\n",
    "```\n",
    "\n"
   ]
  },
  {
   "cell_type": "markdown",
   "id": "85550c82",
   "metadata": {
    "slideshow": {
     "slide_type": "slide"
    }
   },
   "source": [
    "The `exercise-data` directory contains one file, `numbers.txt` and four directories:\n",
    "`animal-counts`, `creatures`, `alkanes` and `writing` containing various files.\n",
    "\n",
    "For our first command,\n",
    "let's run `find .` (remember to run this command from the `shell-lesson-data/exercise-data` folder).\n"
   ]
  },
  {
   "cell_type": "markdown",
   "id": "1d9dc150",
   "metadata": {
    "slideshow": {
     "slide_type": "fragment"
    }
   },
   "source": [
    "\n",
    "```bash\n",
    "$ find .\n",
    "```\n",
    "\n"
   ]
  },
  {
   "cell_type": "markdown",
   "id": "c74a8735",
   "metadata": {
    "slideshow": {
     "slide_type": "fragment"
    }
   },
   "source": [
    "```output\n",
    ".\n",
    "./writing\n",
    "./writing/LittleWomen.txt\n",
    "./writing/haiku.txt\n",
    "./creatures\n",
    "./creatures/basilisk.dat\n",
    "./creatures/unicorn.dat\n",
    "./creatures/minotaur.dat\n",
    "./animal-counts\n",
    "./animal-counts/animals.csv\n",
    "./numbers.txt\n",
    "./alkanes\n",
    "./alkanes/ethane.pdb\n",
    "./alkanes/propane.pdb\n",
    "./alkanes/octane.pdb\n",
    "./alkanes/pentane.pdb\n",
    "./alkanes/methane.pdb\n",
    "./alkanes/cubane.pdb\n",
    "```\n",
    "\n"
   ]
  },
  {
   "cell_type": "markdown",
   "id": "541ecbb0",
   "metadata": {
    "slideshow": {
     "slide_type": "slide"
    }
   },
   "source": [
    "As always, the `.` on its own means the current working directory,\n",
    "which is where we want our search to start.\n",
    "`find`'s output is the names of every file **and** directory\n",
    "under the current working directory.\n",
    "This can seem useless at first but `find` has many options\n",
    "to filter the output and in this lesson we will discover some\n",
    "of them.\n",
    "\n"
   ]
  },
  {
   "cell_type": "markdown",
   "id": "ca51125d",
   "metadata": {
    "slideshow": {
     "slide_type": "slide"
    }
   },
   "source": [
    "The first option in our list is\n",
    "`-type d` that means 'things that are directories'.\n",
    "Sure enough, `find`'s output is the names of the five directories (including `.`):\n",
    "\n"
   ]
  },
  {
   "cell_type": "markdown",
   "id": "0e2e5618",
   "metadata": {
    "slideshow": {
     "slide_type": "fragment"
    }
   },
   "source": [
    "```bash\n",
    "$ find . -type d\n",
    "```\n"
   ]
  },
  {
   "cell_type": "markdown",
   "id": "fa6e54e8",
   "metadata": {
    "slideshow": {
     "slide_type": "fragment"
    }
   },
   "source": [
    "\n",
    "```output\n",
    ".\n",
    "./writing\n",
    "./creatures\n",
    "./animal-counts\n",
    "./alkanes\n",
    "```\n",
    "\n"
   ]
  },
  {
   "cell_type": "markdown",
   "id": "135ef2f2",
   "metadata": {
    "slideshow": {
     "slide_type": "slide"
    }
   },
   "source": [
    "Notice that the objects `find` finds are not listed in any particular order.\n",
    "If we change `-type d` to `-type f`,\n",
    "we get a listing of all the files instead:\n",
    "\n"
   ]
  },
  {
   "cell_type": "markdown",
   "id": "5a70d08a",
   "metadata": {
    "slideshow": {
     "slide_type": "fragment"
    }
   },
   "source": [
    "```bash\n",
    "$ find . -type f\n",
    "```\n",
    "\n"
   ]
  },
  {
   "cell_type": "markdown",
   "id": "521c1136",
   "metadata": {
    "slideshow": {
     "slide_type": "fragment"
    }
   },
   "source": [
    "```output\n",
    "./writing/LittleWomen.txt\n",
    "./writing/haiku.txt\n",
    "./creatures/basilisk.dat\n",
    "./creatures/unicorn.dat\n",
    "./creatures/minotaur.dat\n",
    "./animal-counts/animals.csv\n",
    "./numbers.txt\n",
    "./alkanes/ethane.pdb\n",
    "./alkanes/propane.pdb\n",
    "./alkanes/octane.pdb\n",
    "./alkanes/pentane.pdb\n",
    "./alkanes/methane.pdb\n",
    "./alkanes/cubane.pdb\n",
    "```\n"
   ]
  },
  {
   "cell_type": "markdown",
   "id": "239197ad",
   "metadata": {
    "slideshow": {
     "slide_type": "slide"
    }
   },
   "source": [
    "\n",
    "Now let's try matching by name:\n"
   ]
  },
  {
   "cell_type": "markdown",
   "id": "c87b7473",
   "metadata": {
    "slideshow": {
     "slide_type": "fragment"
    }
   },
   "source": [
    "\n",
    "```bash\n",
    "$ find . -name *.txt\n",
    "```\n",
    "\n"
   ]
  },
  {
   "cell_type": "markdown",
   "id": "1e3ae4c0",
   "metadata": {
    "slideshow": {
     "slide_type": "fragment"
    }
   },
   "source": [
    "```output\n",
    "./numbers.txt\n",
    "```\n"
   ]
  },
  {
   "cell_type": "markdown",
   "id": "030df84e",
   "metadata": {
    "slideshow": {
     "slide_type": "slide"
    }
   },
   "source": [
    "\n",
    "We expected it to find all the text files,\n",
    "but it only prints out `./numbers.txt`.\n",
    "The problem is that the shell expands wildcard characters like `*` *before* commands run.\n",
    "Since `*.txt` in the current directory expands to `./numbers.txt`,\n",
    "the command we actually ran was:\n",
    "\n"
   ]
  },
  {
   "cell_type": "markdown",
   "id": "3e703d2c",
   "metadata": {
    "slideshow": {
     "slide_type": "fragment"
    }
   },
   "source": [
    "```bash\n",
    "$ find . -name numbers.txt\n",
    "```\n",
    "\n"
   ]
  },
  {
   "cell_type": "markdown",
   "id": "fefb759d",
   "metadata": {
    "slideshow": {
     "slide_type": "fragment"
    }
   },
   "source": [
    "`find` did what we asked; we just asked for the wrong thing."
   ]
  },
  {
   "cell_type": "markdown",
   "id": "44a868da",
   "metadata": {
    "slideshow": {
     "slide_type": "slide"
    }
   },
   "source": [
    "\n",
    "\n",
    "To get what we want,\n",
    "let's do what we did with `grep`:\n",
    "put `*.txt` in quotes to prevent the shell from expanding the `*` wildcard.\n",
    "This way,\n",
    "`find` actually gets the pattern `*.txt`, not the expanded filename `numbers.txt`:\n",
    "\n"
   ]
  },
  {
   "cell_type": "markdown",
   "id": "d9f64eb5",
   "metadata": {
    "slideshow": {
     "slide_type": "fragment"
    }
   },
   "source": [
    "```bash\n",
    "$ find . -name \"*.txt\"\n",
    "```\n",
    "\n"
   ]
  },
  {
   "cell_type": "markdown",
   "id": "0dbe455a",
   "metadata": {
    "slideshow": {
     "slide_type": "fragment"
    }
   },
   "source": [
    "```output\n",
    "./writing/LittleWomen.txt\n",
    "./writing/haiku.txt\n",
    "./numbers.txt\n",
    "```"
   ]
  },
  {
   "cell_type": "markdown",
   "id": "fe1d3631",
   "metadata": {
    "slideshow": {
     "slide_type": "slide"
    }
   },
   "source": [
    "## 🔔 Listing vs. Finding\n",
    "---\n",
    "\n",
    "\n",
    "`ls` and `find` can be made to do similar things given the right options,\n",
    "but under normal circumstances,\n",
    "`ls` lists everything it can,\n",
    "while `find` searches for things with certain properties and shows them."
   ]
  },
  {
   "cell_type": "markdown",
   "id": "d931dedf",
   "metadata": {
    "slideshow": {
     "slide_type": "slide"
    }
   },
   "source": [
    "As we said earlier,\n",
    "the command line's power lies in combining tools.\n",
    "We've seen how to do that with pipes;\n",
    "let's look at another technique.\n",
    "As we just saw,\n",
    "`find . -name \"*.txt\"` gives us a list of all text files in or below the current directory.\n",
    "How can we combine that with `wc -l` to count the lines in all those files?\n",
    "\n"
   ]
  },
  {
   "cell_type": "markdown",
   "id": "174c064c",
   "metadata": {
    "slideshow": {
     "slide_type": "slide"
    }
   },
   "source": [
    "The simplest way is to put the `find` command inside `$()`:\n",
    "\n"
   ]
  },
  {
   "cell_type": "markdown",
   "id": "ae6fa93d",
   "metadata": {
    "slideshow": {
     "slide_type": "fragment"
    }
   },
   "source": [
    "```bash\n",
    "$ wc -l $(find . -name \"*.txt\")\n",
    "```\n",
    "\n"
   ]
  },
  {
   "cell_type": "markdown",
   "id": "af81c01d",
   "metadata": {
    "slideshow": {
     "slide_type": "fragment"
    }
   },
   "source": [
    "```output\n",
    "  21022 ./writing/LittleWomen.txt\n",
    "     11 ./writing/haiku.txt\n",
    "      5 ./numbers.txt\n",
    "  21038 total\n",
    "```\n",
    "\n"
   ]
  },
  {
   "cell_type": "markdown",
   "id": "050331a4",
   "metadata": {
    "slideshow": {
     "slide_type": "slide"
    }
   },
   "source": [
    "When the shell executes this command,\n",
    "the first thing it does is run whatever is inside the `$()`.\n",
    "It then replaces the `$()` expression with that command's output.\n",
    "Since the output of `find` is the three filenames `./writing/LittleWomen.txt`,\n",
    "`./writing/haiku.txt`, and `./numbers.txt`, the shell constructs the command:\n",
    "\n"
   ]
  },
  {
   "cell_type": "markdown",
   "id": "50447e9a",
   "metadata": {
    "slideshow": {
     "slide_type": "fragment"
    }
   },
   "source": [
    "```bash\n",
    "$ wc -l ./writing/LittleWomen.txt ./writing/haiku.txt ./numbers.txt\n",
    "```\n",
    "\n"
   ]
  },
  {
   "cell_type": "markdown",
   "id": "09324fa8",
   "metadata": {
    "slideshow": {
     "slide_type": "fragment"
    }
   },
   "source": [
    "which is what we wanted.\n",
    "This expansion is exactly what the shell does when it expands wildcards like `*` and `?`,\n",
    "but lets us use any command we want as our own 'wildcard'.\n",
    "\n"
   ]
  },
  {
   "cell_type": "markdown",
   "id": "4f2e5230",
   "metadata": {
    "slideshow": {
     "slide_type": "slide"
    }
   },
   "source": [
    "It's very common to use `find` and `grep` together.\n",
    "The first finds files that match a pattern;\n",
    "the second looks for lines inside those files that match another pattern.\n",
    "Here, for example, we can find txt files that contain the word \"searching\"\n",
    "by looking for the string 'searching' in all the `.txt` files in the current directory:\n",
    "\n"
   ]
  },
  {
   "cell_type": "markdown",
   "id": "00f30266",
   "metadata": {
    "slideshow": {
     "slide_type": "fragment"
    }
   },
   "source": [
    "```bash\n",
    "$ grep \"searching\" $(find . -name \"*.txt\")\n",
    "```\n",
    "\n"
   ]
  },
  {
   "cell_type": "markdown",
   "id": "51878d01",
   "metadata": {
    "slideshow": {
     "slide_type": "fragment"
    }
   },
   "source": [
    "```output\n",
    "./writing/LittleWomen.txt:sitting on the top step, affected to be searching for her book, but was\n",
    "./writing/haiku.txt:With searching comes loss\n",
    "```"
   ]
  },
  {
   "cell_type": "markdown",
   "id": "c3e711e1",
   "metadata": {
    "slideshow": {
     "slide_type": "slide"
    }
   },
   "source": [
    "## <p style=\"background-color: #f5df18; padding: 10px;\"> 🛑 Matching and Subtracting </p>\n",
    "---\n",
    "\n",
    "The `-v` option to `grep` inverts pattern matching, so that only lines\n",
    "which do *not* match the pattern are printed. Given that, which of\n",
    "the following commands will find all .dat files in `creatures`\n",
    "except `unicorn.dat`?\n",
    "Once you have thought about your answer, you can test the commands in the\n",
    "`shell-lesson-data/exercise-data` directory.\n",
    "\n",
    "1. `find creatures -name \"*.dat\" | grep -v unicorn`\n",
    "2. `find creatures -name *.dat | grep -v unicorn`\n",
    "3. `grep -v \"unicorn\" $(find creatures -name \"*.dat\")`\n",
    "4. None of the above."
   ]
  },
  {
   "cell_type": "code",
   "execution_count": null,
   "id": "e0df56d4",
   "metadata": {
    "slideshow": {
     "slide_type": "-"
    }
   },
   "outputs": [],
   "source": [
    "### your answer here ###"
   ]
  },
  {
   "cell_type": "markdown",
   "id": "e6d8c934",
   "metadata": {
    "slideshow": {
     "slide_type": "slide"
    }
   },
   "source": [
    "## 🔔 Binary Files\n",
    "---\n",
    "\n",
    "\n",
    "We have focused exclusively on finding patterns in text files. What if\n",
    "your data is stored as images, in databases, or in some other format?\n",
    "\n",
    "A handful of tools extend `grep` to handle a few non text formats. But a\n",
    "more generalizable approach is to convert the data to text, or\n",
    "extract the text-like elements from the data. On the one hand, it makes simple\n",
    "things easy to do. On the other hand, complex things are usually impossible. For\n",
    "example, it's easy enough to write a program that will extract X and Y\n",
    "dimensions from image files for `grep` to play with, but how would you\n",
    "write something to find values in a spreadsheet whose cells contained\n",
    "formulas?\n",
    "\n",
    "A last option is to recognize that the shell and text processing have\n",
    "their limits, and to use another programming language.\n",
    "When the time comes to do this, don't be too hard on the shell. Many\n",
    "modern programming languages have borrowed a lot of\n",
    "ideas from it, and imitation is also the sincerest form of praise.\n"
   ]
  },
  {
   "cell_type": "markdown",
   "id": "d1532fe9",
   "metadata": {
    "slideshow": {
     "slide_type": "slide"
    }
   },
   "source": [
    "The Unix shell is older than most of the people who use it. It has\n",
    "survived so long because it is one of the most productive programming\n",
    "environments ever created --- maybe even *the* most productive. Its syntax\n",
    "may be cryptic, but people who have mastered it can experiment with\n",
    "different commands interactively, then use what they have learned to\n",
    "automate their work. Graphical user interfaces may be easier to use at\n",
    "first, but once learned, the productivity in the shell is unbeatable.\n",
    "And as Alfred North Whitehead wrote in 1911, 'Civilization advances by\n",
    "extending the number of important operations which we can perform\n",
    "without thinking about them.'"
   ]
  },
  {
   "cell_type": "markdown",
   "id": "bd7bb1fb",
   "metadata": {
    "slideshow": {
     "slide_type": "slide"
    }
   },
   "source": [
    "## <p style=\"background-color: #f5df18; padding: 10px;\"> 🛑 `find` Pipeline Reading Comprehension </p>\n",
    "\n",
    "---\n",
    "\n",
    "Write a short explanatory comment for the following shell script:\n",
    "\n",
    "```bash\n",
    "wc -l $(find . -name \"*.dat\") | sort -n\n"
   ]
  },
  {
   "cell_type": "code",
   "execution_count": null,
   "id": "8be36cc2",
   "metadata": {
    "slideshow": {
     "slide_type": "-"
    }
   },
   "outputs": [],
   "source": [
    "### your answer here ###"
   ]
  },
  {
   "cell_type": "markdown",
   "id": "c3xyuFI9k7XT",
   "metadata": {
    "id": "c3xyuFI9k7XT",
    "slideshow": {
     "slide_type": "slide"
    }
   },
   "source": [
    "# <p style=\"background-color: #f5df18; padding: 10px;\"> 🗝️ Key points</p>\n",
    "\n",
    "---\n",
    "\n",
    "- `find` finds files with specific properties that match patterns.\n",
    "- `grep` selects lines in files that match patterns.\n",
    "- `--help` is an option supported by many bash commands, and programs that can be run from within Bash, to display more information on how to use these commands or programs.\n",
    "- `man [command]` displays the manual page for a given command.\n",
    "- `$([command])` inserts a command's output in place.\n"
   ]
  }
 ],
 "metadata": {
  "celltoolbar": "Slideshow",
  "colab": {
   "provenance": []
  },
  "kernelspec": {
   "display_name": "Python 3 (ipykernel)",
   "language": "python",
   "name": "python3"
  },
  "language_info": {
   "codemirror_mode": {
    "name": "ipython",
    "version": 3
   },
   "file_extension": ".py",
   "mimetype": "text/x-python",
   "name": "python",
   "nbconvert_exporter": "python",
   "pygments_lexer": "ipython3",
   "version": "3.11.3"
  },
  "toc-showcode": true
 },
 "nbformat": 4,
 "nbformat_minor": 5
}
