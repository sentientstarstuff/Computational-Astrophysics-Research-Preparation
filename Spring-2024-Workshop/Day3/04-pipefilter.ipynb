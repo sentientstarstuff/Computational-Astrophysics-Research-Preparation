{
 "cells": [
  {
   "cell_type": "markdown",
   "id": "labeled-firewall",
   "metadata": {
    "id": "labeled-firewall",
    "slideshow": {
     "slide_type": "slide"
    }
   },
   "source": [
    "# <p style=\"background-color: #f5df18; padding: 10px;\">The Unix Shell | **Pipes and Filters** </p>\n",
    "\n",
    "\n",
    "\n",
    "### <strong>Instructor: <span style=\"color: darkblue;\">Name (Affliation)</span></strong>\n",
    "\n",
    "Estimated completion time: 🕚 35 minutes\n"
   ]
  },
  {
   "cell_type": "markdown",
   "id": "30c98737",
   "metadata": {
    "slideshow": {
     "slide_type": "slide"
    }
   },
   "source": [
    "<div style=\"display: flex;\">\n",
    "    <div style=\"flex: 1; margin-right: 20px;\">\n",
    "        <h2>Questions</h2>\n",
    "        <ul>\n",
    "            <li>How can I combine existing commands to produce a desired output?</li>\n",
    "    <li>How can I show only part of the output?</li>\n",
    "        </ul>\n",
    "    </div>\n",
    "    <div style=\"flex: 1;\">\n",
    "        <h2>Learning Objectives</h2>\n",
    "        <ul> \n",
    "            <li>Explain the advantage of linking commands with pipes and filters.</li>\n",
    "    <li>Combine sequences of commands to get new output.</li>\n",
    "    <li>Redirect a command's output to a file.</li>\n",
    "    <li>Explain what usually happens if a program or pipeline isn't given any input to process.</li>\n",
    "        </ul>\n",
    "    </div>\n",
    "</div>\n"
   ]
  },
  {
   "cell_type": "markdown",
   "id": "pressed-commerce",
   "metadata": {
    "id": "pressed-commerce",
    "slideshow": {
     "slide_type": "slide"
    },
    "tags": []
   },
   "source": [
    "Now that we know a few basic commands,\n",
    "we can finally look at the shell's most powerful feature:\n",
    "the ease with which it lets us combine existing programs in new ways.\n",
    "We'll start with the directory `shell-lesson-data/exercise-data/alkanes`\n",
    "that contains six files describing some simple organic molecules.\n",
    "The `.pdb` extension indicates that these files are in Protein Data Bank format,\n",
    "a simple text format that specifies the type and position of each atom in the molecule.\n"
   ]
  },
  {
   "cell_type": "markdown",
   "id": "0bb9216d",
   "metadata": {
    "slideshow": {
     "slide_type": "slide"
    }
   },
   "source": [
    "Let's run an example command:\n",
    "\n",
    "```bash\n",
    "$ wc cubane.pdb\n",
    "```"
   ]
  },
  {
   "cell_type": "markdown",
   "id": "d3167cc9",
   "metadata": {
    "slideshow": {
     "slide_type": "slide"
    }
   },
   "source": [
    "`wc` is the 'word count' command:\n",
    "it counts the number of lines, words, and characters in files (returning the values\n",
    "in that order from left to right).\n",
    "\n",
    "If we run the command `wc *.pdb`, the `*` in `*.pdb` matches zero or more characters,\n",
    "so the shell turns `*.pdb` into a list of all `.pdb` files in the current directory:\n",
    "\n",
    "```bash\n",
    "$ wc *.pdb\n",
    "```"
   ]
  },
  {
   "cell_type": "markdown",
   "id": "aeba3578",
   "metadata": {
    "slideshow": {
     "slide_type": "slide"
    }
   },
   "source": [
    "Note that `wc *.pdb` also shows the total number of all lines in the last line of the output.\n",
    "\n",
    "If we run `wc -l` instead of just `wc`,\n",
    "the output shows only the number of lines per file:\n",
    "\n",
    "```bash\n",
    "$ wc -l *.pdb\n",
    "```"
   ]
  },
  {
   "cell_type": "markdown",
   "id": "cab03f22",
   "metadata": {
    "slideshow": {
     "slide_type": "fragment"
    }
   },
   "source": [
    "The `-m` and `-w` options can also be used with the `wc` command to show\n",
    "only the number of characters or the number of words, respectively.\n"
   ]
  },
  {
   "cell_type": "markdown",
   "id": "bf8edb88",
   "metadata": {
    "slideshow": {
     "slide_type": "slide"
    }
   },
   "source": [
    "## 🔔  Why Isn't It Doing Anything?\n",
    "---\n",
    "\n",
    "What happens if a command is supposed to process a file, but we\n",
    "don't give it a filename? For example, what if we type:\n",
    "\n",
    "```bash\n",
    "$ wc -l\n",
    "```\n",
    "\n",
    "but don't type `*.pdb` (or anything else) after the command?\n",
    "Since it doesn't have any filenames, `wc` assumes it is supposed to\n",
    "process input given at the command prompt, so it just sits there and waits\n",
    "for us to give it some data interactively. From the outside, though, all we\n",
    "see is it sitting there, and the command doesn't appear to do anything.\n",
    "\n",
    "If you make this kind of mistake, you can escape out of this state by\n",
    "holding down the control key (<kbd>Ctrl</kbd>) and pressing the letter\n",
    "<kbd>C</kbd> once: <kbd>Ctrl</kbd>\\+<kbd>C</kbd>. Then release both keys.\n"
   ]
  },
  {
   "cell_type": "markdown",
   "id": "vertical-yellow",
   "metadata": {
    "id": "vertical-yellow",
    "jp-MarkdownHeadingCollapsed": true,
    "slideshow": {
     "slide_type": "slide"
    },
    "tags": []
   },
   "source": [
    "## Capturing output from commands\n",
    "\n",
    "Which of these files contains the fewest lines?\n",
    "It's an easy question to answer when there are only six files,\n",
    "but what if there were 6000?\n",
    "Our first step toward a solution is to run the command:\n",
    "\n",
    "```bash\n",
    "$ wc -l *.pdb > lengths.txt\n",
    "```\n",
    "\n",
    "The greater than symbol, `>`, tells the shell to **redirect** the command's output to a\n",
    "file instead of printing it to the screen. This command prints no screen output, because\n",
    "everything that `wc` would have printed has gone into the file `lengths.txt` instead.\n",
    "If the file doesn't exist prior to issuing the command, the shell will create the file.\n",
    "If the file exists already, it will be silently overwritten, which may lead to data loss.\n",
    "Thus, **redirect** commands require caution.\n",
    "\n",
    "`ls lengths.txt` confirms that the file exists:\n",
    "\n",
    "```bash\n",
    "$ ls lengths.txt\n",
    "```"
   ]
  },
  {
   "cell_type": "markdown",
   "id": "hollywood-clerk",
   "metadata": {
    "id": "hollywood-clerk",
    "slideshow": {
     "slide_type": "slide"
    }
   },
   "source": [
    "We can now send the content of `lengths.txt` to the screen using `cat lengths.txt`.\n",
    "The `cat` command gets its name from 'concatenate' i.e. join together,\n",
    "and it prints the contents of files one after another.\n",
    "There's only one file in this case,\n",
    "so `cat` just shows us what it contains:\n",
    "\n",
    "```bash\n",
    "$ cat lengths.txt\n",
    "```"
   ]
  },
  {
   "cell_type": "markdown",
   "id": "20a64a9b",
   "metadata": {
    "slideshow": {
     "slide_type": "slide"
    }
   },
   "source": [
    "## 🔔  Output Page by Page\n",
    "---\n",
    "\n",
    "We'll continue to use `cat` in this lesson, for convenience and consistency,\n",
    "but it has the disadvantage that it always dumps the whole file onto your screen.\n",
    "More useful in practice is the command `less` (e.g. `less lengths.txt`).\n",
    "This displays a screenful of the file, and then stops.\n",
    "You can go forward one screenful by pressing the spacebar,\n",
    "or back one by pressing `b`.  Press `q` to quit.\n"
   ]
  },
  {
   "cell_type": "markdown",
   "id": "norwegian-multiple",
   "metadata": {
    "id": "norwegian-multiple",
    "slideshow": {
     "slide_type": "slide"
    }
   },
   "source": [
    "## Filtering output\n",
    "\n",
    "Next we'll use the `sort` command to sort the contents of the `lengths.txt` file.\n",
    "But first we'll do an exercise to learn a little about the sort command:"
   ]
  },
  {
   "cell_type": "markdown",
   "id": "AGmylKKlQWm5",
   "metadata": {
    "id": "AGmylKKlQWm5",
    "slideshow": {
     "slide_type": "slide"
    }
   },
   "source": [
    "## <p style=\"background-color: #f5df18; padding: 10px;\"> 🛑 What Does `sort -n` Do? </p>\n",
    "\n",
    "---\n",
    "\n",
    "The file `shell-lesson-data/exercise-data/numbers.txt` contains the following lines:\n",
    "\n",
    "```source\n",
    "10\n",
    "2\n",
    "19\n",
    "22\n",
    "6\n",
    "```\n",
    "\n",
    "If we run `sort` on this file, the output is:\n",
    "\n",
    "```output\n",
    "10\n",
    "19\n",
    "2\n",
    "22\n",
    "6\n",
    "```\n",
    "\n",
    "If we run `sort -n` on the same file, we get this instead:\n",
    "\n",
    "```output\n",
    "2\n",
    "6\n",
    "10\n",
    "19\n",
    "22\n",
    "```\n",
    "\n",
    "Explain why `-n` has this effect."
   ]
  },
  {
   "cell_type": "code",
   "execution_count": null,
   "id": "be52ccf8",
   "metadata": {},
   "outputs": [],
   "source": [
    "### your answer ###"
   ]
  },
  {
   "cell_type": "markdown",
   "id": "a4f9fe0c",
   "metadata": {
    "slideshow": {
     "slide_type": "slide"
    }
   },
   "source": [
    "We will also use the `-n` option to specify that the sort is\n",
    "numerical instead of alphanumerical.\n",
    "This does *not* change the file;\n",
    "instead, it sends the sorted result to the screen:\n",
    "\n",
    "```bash\n",
    "$ sort -n lengths.txt\n",
    "```"
   ]
  },
  {
   "cell_type": "markdown",
   "id": "bc45843b",
   "metadata": {
    "slideshow": {
     "slide_type": "slide"
    }
   },
   "source": [
    "We can put the sorted list of lines in another temporary file called `sorted-lengths.txt`\n",
    "by putting `> sorted-lengths.txt` after the command,\n",
    "just as we used `> lengths.txt` to put the output of `wc` into `lengths.txt`.\n",
    "Once we've done that,\n",
    "we can run another command called `head` to get the first few lines in `sorted-lengths.txt`:\n",
    "\n",
    "```bash\n",
    "$ sort -n lengths.txt > sorted-lengths.txt\n",
    "$ head -n 1 sorted-lengths.txt\n",
    "```"
   ]
  },
  {
   "cell_type": "markdown",
   "id": "faf08121",
   "metadata": {
    "slideshow": {
     "slide_type": "slide"
    }
   },
   "source": [
    "Using `-n 1` with `head` tells it that\n",
    "we only want the first line of the file;\n",
    "`-n 20` would get the first 20,\n",
    "and so on.\n",
    "Since `sorted-lengths.txt` contains the lengths of our files ordered from least to greatest,\n",
    "the output of `head` must be the file with the fewest lines."
   ]
  },
  {
   "cell_type": "markdown",
   "id": "41dda57f",
   "metadata": {
    "slideshow": {
     "slide_type": "slide"
    }
   },
   "source": [
    "## 🔔  Redirecting to the same file\n",
    "---\n",
    "\n",
    "It's a very bad idea to try redirecting\n",
    "the output of a command that operates on a file\n",
    "to the same file. For example:\n",
    "\n",
    "```bash\n",
    "$ sort -n lengths.txt > lengths.txt\n",
    "```\n",
    "\n",
    "Doing something like this may give you\n",
    "incorrect results and/or delete\n",
    "the contents of `lengths.txt`.\n"
   ]
  },
  {
   "cell_type": "markdown",
   "id": "Ue1fIkXt4Ahu",
   "metadata": {
    "id": "Ue1fIkXt4Ahu",
    "slideshow": {
     "slide_type": "slide"
    }
   },
   "source": [
    "## <p style=\"background-color: #f5df18; padding: 10px;\"> 🛑  What Does `>>` Mean? </p>\n",
    "\n",
    "---\n",
    "\n",
    "We have seen the use of `>`, but there is a similar operator `>>`\n",
    "which works slightly differently.\n",
    "We'll learn about the differences between these two operators by printing some strings.\n",
    "We can use the `echo` command to print strings e.g.\n",
    "\n",
    "```bash\n",
    "$ echo The echo command prints text\n",
    "```\n",
    "\n",
    "```output\n",
    "The echo command prints text\n",
    "```\n",
    "\n",
    "Now test the commands below to reveal the difference between the two operators:\n",
    "\n",
    "```bash\n",
    "$ echo hello > testfile01.txt\n",
    "```\n",
    "\n",
    "and:\n",
    "\n",
    "```bash\n",
    "$ echo hello >> testfile02.txt\n",
    "```\n",
    "\n",
    "Hint: Try executing each command twice in a row and then examining the output files.\n"
   ]
  },
  {
   "cell_type": "code",
   "execution_count": null,
   "id": "bbad2ea9",
   "metadata": {},
   "outputs": [],
   "source": [
    "### your answer here ###"
   ]
  },
  {
   "cell_type": "markdown",
   "id": "fd85a2f1",
   "metadata": {
    "id": "aBF5H4_1kYOL",
    "slideshow": {
     "slide_type": "slide"
    }
   },
   "source": [
    "## <p style=\"background-color: #f5df18; padding: 10px;\"> 🛑 Appending Data </p>\n",
    "\n",
    "---\n",
    "\n",
    "We have already met the `head` command, which prints lines from the start of a file.\n",
    "`tail` is similar, but prints lines from the end of a file instead.\n",
    "\n",
    "Consider the file `shell-lesson-data/exercise-data/animal-counts/animals.csv`.\n",
    "After these commands, select the answer that\n",
    "corresponds to the file `animals-subset.csv`:\n",
    "\n",
    "```bash\n",
    "$ head -n 3 animals.csv > animals-subset.csv\n",
    "$ tail -n 2 animals.csv >> animals-subset.csv\n",
    "```\n",
    "\n",
    "1. The first three lines of `animals.csv`\n",
    "2. The last two lines of `animals.csv`\n",
    "3. The first three lines and the last two lines of `animals.csv`\n",
    "4. The second and third lines of `animals.csv`\n"
   ]
  },
  {
   "cell_type": "code",
   "execution_count": null,
   "id": "aedd2f3f",
   "metadata": {},
   "outputs": [],
   "source": [
    "### your answer here ###"
   ]
  },
  {
   "cell_type": "markdown",
   "id": "7e78422e",
   "metadata": {
    "slideshow": {
     "slide_type": "slide"
    }
   },
   "source": [
    "## Passing output to another command\n",
    "\n",
    "In our example of finding the file with the fewest lines,\n",
    "we are using two intermediate files `lengths.txt` and `sorted-lengths.txt` to store output.\n",
    "This is a confusing way to work because\n",
    "even once you understand what `wc`, `sort`, and `head` do,\n",
    "those intermediate files make it hard to follow what's going on.\n",
    "We can make it easier to understand by running `sort` and `head` together:\n",
    "\n",
    "```bash\n",
    "$ sort -n lengths.txt | head -n 1\n",
    "```"
   ]
  },
  {
   "cell_type": "markdown",
   "id": "781b5dda",
   "metadata": {
    "slideshow": {
     "slide_type": "fragment"
    }
   },
   "source": [
    "The vertical bar, `|`, between the two commands is called a **pipe**.\n",
    "It tells the shell that we want to use\n",
    "the output of the command on the left\n",
    "as the input to the command on the right.\n",
    "\n",
    "This has removed the need for the `sorted-lengths.txt` file."
   ]
  },
  {
   "cell_type": "markdown",
   "id": "irhVm53xQgOG",
   "metadata": {
    "id": "irhVm53xQgOG",
    "slideshow": {
     "slide_type": "slide"
    }
   },
   "source": [
    "## Combining multiple commands\n",
    "\n",
    "Nothing prevents us from chaining pipes consecutively.\n",
    "We can for example send the output of `wc` directly to `sort`,\n",
    "and then send the resulting output to `head`.\n",
    "This removes the need for any intermediate files.\n",
    "\n",
    "We'll start by using a pipe to send the output of `wc` to `sort`:\n",
    "\n",
    "```bash\n",
    "$ wc -l *.pdb | sort -n\n",
    "```"
   ]
  },
  {
   "cell_type": "markdown",
   "id": "3660499f",
   "metadata": {
    "slideshow": {
     "slide_type": "fragment"
    }
   },
   "source": [
    "We can then send that output through another pipe, to `head`, so that the full pipeline becomes:\n",
    "\n",
    "```bash\n",
    "$ wc -l *.pdb | sort -n | head -n 1\n",
    "```\n",
    "\n",
    "\n"
   ]
  },
  {
   "cell_type": "markdown",
   "id": "6b6e6dc0",
   "metadata": {
    "slideshow": {
     "slide_type": "slide"
    }
   },
   "source": [
    "This is exactly like a mathematician nesting functions like *log(3x)*\n",
    "and saying 'the log of three times *x*'.\n",
    "In our case,\n",
    "the algorithm is 'head of sort of line count of `*.pdb`'.\n",
    "\n",
    "The redirection and pipes used in the last few commands are illustrated below:\n",
    "\n",
    "<img src='https://swcarpentry.github.io/shell-novice/fig/redirects-and-pipes.svg'>"
   ]
  },
  {
   "cell_type": "markdown",
   "id": "xP8epXpCRRv9",
   "metadata": {
    "id": "xP8epXpCRRv9",
    "slideshow": {
     "slide_type": "slide"
    }
   },
   "source": [
    "## <p style=\"background-color: #f5df18; padding: 10px;\"> 🛑 Piping Commands Together\n",
    "</p>\n",
    "\n",
    "In our current directory, we want to find the 3 files which have the least number of\n",
    "lines. Which command listed below would work?\n",
    "\n",
    "1. `wc -l * > sort -n > head -n 3`\n",
    "2. `wc -l * | sort -n | head -n 1-3`\n",
    "3. `wc -l * | head -n 3 | sort -n`\n",
    "4. `wc -l * | sort -n | head -n 3`"
   ]
  },
  {
   "cell_type": "code",
   "execution_count": null,
   "id": "e8d0b838",
   "metadata": {
    "id": "i9rxWLAz6ORF",
    "slideshow": {
     "slide_type": "-"
    }
   },
   "outputs": [],
   "source": [
    "### your answer here ###"
   ]
  },
  {
   "cell_type": "markdown",
   "id": "b6249afa",
   "metadata": {
    "slideshow": {
     "slide_type": "slide"
    }
   },
   "source": [
    "## Tools designed to work together\n",
    "\n",
    "This idea of linking programs together is why Unix has been so successful.\n",
    "Instead of creating enormous programs that try to do many different things,\n",
    "Unix programmers focus on creating lots of simple tools that each do one job well,\n",
    "and that work well with each other.\n",
    "This programming model is called 'pipes and filters'.\n",
    "We've already seen pipes;\n",
    "a **filter** is a program like `wc` or `sort`\n",
    "that transforms a stream of input into a stream of output.\n",
    "Almost all of the standard Unix tools can work this way.\n",
    "Unless told to do otherwise,\n",
    "they read from standard input,\n",
    "do something with what they've read,\n",
    "and write to standard output.\n",
    "\n",
    "The key is that any program that reads lines of text from standard input\n",
    "and writes lines of text to standard output\n",
    "can be combined with every other program that behaves this way as well.\n",
    "You can *and should* write your programs this way\n",
    "so that you and other people can put those programs into pipes to multiply their power."
   ]
  },
  {
   "cell_type": "markdown",
   "id": "tyMrTbrRReoe",
   "metadata": {
    "id": "tyMrTbrRReoe",
    "slideshow": {
     "slide_type": "slide"
    }
   },
   "source": [
    "## <p style=\"background-color: #f5df18; padding: 10px;\"> 🛑 Pipe Reading Comprehension </p>\n",
    "\n",
    "\n",
    "A file called `animals.csv` (in the `shell-lesson-data/exercise-data/animal-counts` folder)\n",
    "contains the following data:\n",
    "\n",
    "```source\n",
    "2012-11-05,deer,5\n",
    "2012-11-05,rabbit,22\n",
    "2012-11-05,raccoon,7\n",
    "2012-11-06,rabbit,19\n",
    "2012-11-06,deer,2\n",
    "2012-11-06,fox,4\n",
    "2012-11-07,rabbit,16\n",
    "2012-11-07,bear,1\n",
    "```\n",
    "\n",
    "What text passes through each of the pipes and the final redirect in the pipeline below?\n",
    "Note, the `sort -r` command sorts in reverse order.\n",
    "\n",
    "```bash\n",
    "$ cat animals.csv | head -n 5 | tail -n 3 | sort -r > final.txt\n",
    "```\n",
    "\n",
    "Hint: build the pipeline up one command at a time to test your understanding\n"
   ]
  },
  {
   "cell_type": "code",
   "execution_count": null,
   "id": "572939dd",
   "metadata": {
    "slideshow": {
     "slide_type": "-"
    }
   },
   "outputs": [],
   "source": [
    "### your answer here ##"
   ]
  },
  {
   "cell_type": "markdown",
   "id": "54ff8bc3",
   "metadata": {
    "slideshow": {
     "slide_type": "slide"
    }
   },
   "source": [
    "## <p style=\"background-color: #f5df18; padding: 10px;\"> 🛑  Pipe Construction </p>\n",
    "\n",
    "For the file `animals.csv` from the previous exercise, consider the following command:\n",
    "\n",
    "```bash\n",
    "$ cut -d , -f 2 animals.csv\n",
    "```\n",
    "\n",
    "The `cut` command is used to remove or 'cut out' certain sections of each line in the file,\n",
    "and `cut` expects the lines to be separated into columns by a <kbd>Tab</kbd> character.\n",
    "A character used in this way is called a **delimiter**.\n",
    "In the example above we use the `-d` option to specify the comma as our delimiter character.\n",
    "We have also used the `-f` option to specify that we want to extract the second field (column).\n",
    "This gives the following output:\n",
    "\n",
    "```output\n",
    "deer\n",
    "rabbit\n",
    "raccoon\n",
    "rabbit\n",
    "deer\n",
    "fox\n",
    "rabbit\n",
    "bear\n",
    "```\n",
    "\n",
    "The `uniq` command filters out adjacent matching lines in a file.\n",
    "How could you extend this pipeline (using `uniq` and another command) to find\n",
    "out what animals the file contains (without any duplicates in their\n",
    "names)?"
   ]
  },
  {
   "cell_type": "code",
   "execution_count": null,
   "id": "3d0f0eca",
   "metadata": {
    "slideshow": {
     "slide_type": "-"
    }
   },
   "outputs": [],
   "source": [
    "### your answer here ##"
   ]
  },
  {
   "cell_type": "markdown",
   "id": "acb8768a",
   "metadata": {},
   "source": [
    "## <p style=\"background-color: #f5df18; padding: 10px;\"> 🛑 Which Pipe? </p>\n",
    "\n",
    "\n",
    "The file `animals.csv` contains 8 lines of data formatted as follows:\n",
    "\n",
    "```output\n",
    "2012-11-05,deer,5\n",
    "2012-11-05,rabbit,22\n",
    "2012-11-05,raccoon,7\n",
    "2012-11-06,rabbit,19\n",
    "...\n",
    "```\n",
    "\n",
    "The `uniq` command has a `-c` option which gives a count of the\n",
    "number of times a line occurs in its input.  Assuming your current\n",
    "directory is `shell-lesson-data/exercise-data/animal-counts`,\n",
    "what command would you use to produce a table that shows\n",
    "the total count of each type of animal in the file?\n",
    "\n",
    "1. `sort animals.csv | uniq -c`\n",
    "2. `sort -t, -k2,2 animals.csv | uniq -c`\n",
    "3. `cut -d, -f 2 animals.csv | uniq -c`\n",
    "4. `cut -d, -f 2 animals.csv | sort | uniq -c`\n",
    "5. `cut -d, -f 2 animals.csv | sort | uniq -c | wc -l`"
   ]
  },
  {
   "cell_type": "code",
   "execution_count": null,
   "id": "81af8f9b",
   "metadata": {},
   "outputs": [],
   "source": [
    "### your answer here ###"
   ]
  },
  {
   "cell_type": "markdown",
   "id": "e52a562e",
   "metadata": {
    "slideshow": {
     "slide_type": "slide"
    }
   },
   "source": [
    "## Nelle's Pipeline: Checking Files\n",
    "---\n",
    "\n",
    "Nelle has run her samples through the assay machines\n",
    "and created 17 files in the `north-pacific-gyre` directory described earlier.\n",
    "As a quick check, starting from the `shell-lesson-data` directory, Nelle types:\n",
    "\n",
    "```bash\n",
    "$ cd north-pacific-gyre\n",
    "$ wc -l *.txt\n",
    "```\n",
    "\n",
    "The output is 18 lines that look like this:\n",
    "\n",
    "```output\n",
    "300 NENE01729A.txt\n",
    "300 NENE01729B.txt\n",
    "300 NENE01736A.txt\n",
    "300 NENE01751A.txt\n",
    "300 NENE01751B.txt\n",
    "300 NENE01812A.txt\n",
    "... ...\n",
    "```"
   ]
  },
  {
   "cell_type": "markdown",
   "id": "451d06f7",
   "metadata": {
    "slideshow": {
     "slide_type": "slide"
    }
   },
   "source": [
    "Now she types this:\n",
    "\n",
    "```bash\n",
    "$ wc -l *.txt | sort -n | head -n 5\n",
    "```\n",
    "\n",
    "```output\n",
    " 240 NENE02018B.txt\n",
    " 300 NENE01729A.txt\n",
    " 300 NENE01729B.txt\n",
    " 300 NENE01736A.txt\n",
    " 300 NENE01751A.txt\n",
    "```\n"
   ]
  },
  {
   "cell_type": "markdown",
   "id": "e8ca04cf",
   "metadata": {
    "slideshow": {
     "slide_type": "slide"
    }
   },
   "source": [
    "Whoops: one of the files is 60 lines shorter than the others.\n",
    "When she goes back and checks it,\n",
    "she sees that she did that assay at 8:00 on a Monday morning --- someone\n",
    "was probably in using the machine on the weekend,\n",
    "and she forgot to reset it.\n",
    "Before re-running that sample,\n",
    "she checks to see if any files have too much data:\n",
    "\n",
    "```bash\n",
    "$ wc -l *.txt | sort -n | tail -n 5\n",
    "```\n",
    "\n",
    "```output\n",
    " 300 NENE02040B.txt\n",
    " 300 NENE02040Z.txt\n",
    " 300 NENE02043A.txt\n",
    " 300 NENE02043B.txt\n",
    "5040 total\n",
    "```"
   ]
  },
  {
   "cell_type": "markdown",
   "id": "ad303013",
   "metadata": {
    "slideshow": {
     "slide_type": "slide"
    }
   },
   "source": [
    "Those numbers look good --- but what's that 'Z' doing there in the third-to-last line?\n",
    "All of her samples should be marked 'A' or 'B';\n",
    "by convention,\n",
    "her lab uses 'Z' to indicate samples with missing information.\n",
    "To find others like it, she does this:\n",
    "\n",
    "```bash\n",
    "$ ls *Z.txt\n",
    "```\n",
    "\n",
    "```output\n",
    "NENE01971Z.txt    NENE02040Z.txt\n",
    "```"
   ]
  },
  {
   "cell_type": "markdown",
   "id": "a5f819ee",
   "metadata": {
    "slideshow": {
     "slide_type": "slide"
    }
   },
   "source": [
    "Sure enough,\n",
    "when she checks the log on her laptop,\n",
    "there's no depth recorded for either of those samples.\n",
    "Since it's too late to get the information any other way,\n",
    "she must exclude those two files from her analysis.\n",
    "She could delete them using `rm`,\n",
    "but there are actually some analyses she might do later where depth doesn't matter,\n",
    "so instead, she'll have to be careful later on to select files using the wildcard expressions\n",
    "`NENE*A.txt NENE*B.txt`."
   ]
  },
  {
   "cell_type": "markdown",
   "id": "73ba31da",
   "metadata": {
    "slideshow": {
     "slide_type": "slide"
    }
   },
   "source": [
    "## <p style=\"background-color: #f5df18; padding: 10px;\"> 🛑 Removing Unneeded Files </p>\n",
    "\n",
    "\n",
    "Suppose you want to delete your processed data files, and only keep\n",
    "your raw files and processing script to save storage.\n",
    "The raw files end in `.dat` and the processed files end in `.txt`.\n",
    "Which of the following would remove all the processed data files,\n",
    "and *only* the processed data files?\n",
    "\n",
    "1. `rm ?.txt`\n",
    "2. `rm *.txt`\n",
    "3. `rm * .txt`\n",
    "4. `rm *.*`"
   ]
  },
  {
   "cell_type": "code",
   "execution_count": null,
   "id": "8fdb90e1",
   "metadata": {
    "slideshow": {
     "slide_type": "-"
    }
   },
   "outputs": [],
   "source": [
    "### your answer here ###"
   ]
  },
  {
   "cell_type": "markdown",
   "id": "c3xyuFI9k7XT",
   "metadata": {
    "id": "c3xyuFI9k7XT",
    "slideshow": {
     "slide_type": "slide"
    }
   },
   "source": [
    "# <p style=\"background-color: #f5df18; padding: 10px;\"> 🗝️ Key points</p>\n",
    "\n",
    "---\n",
    "\n",
    "- `wc` counts lines, words, and characters in its inputs.\n",
    "- `cat` displays the contents of its inputs.\n",
    "- `sort` sorts its inputs.\n",
    "- `head` displays the first 10 lines of its input.\n",
    "- `tail` displays the last 10 lines of its input.\n",
    "- `command > [file]` redirects a command's output to a file (overwriting any existing content).\n",
    "- `command >> [file]` appends a command's output to a file.\n",
    "- `[first] | [second]` is a pipeline: the output of the first command is used as the input to the second.\n",
    "- The best way to use the shell is to use pipes to combine simple single-purpose programs (filters).\n"
   ]
  }
 ],
 "metadata": {
  "celltoolbar": "Slideshow",
  "colab": {
   "provenance": []
  },
  "kernelspec": {
   "display_name": "Python 3 (ipykernel)",
   "language": "python",
   "name": "python3"
  },
  "language_info": {
   "codemirror_mode": {
    "name": "ipython",
    "version": 3
   },
   "file_extension": ".py",
   "mimetype": "text/x-python",
   "name": "python",
   "nbconvert_exporter": "python",
   "pygments_lexer": "ipython3",
   "version": "3.11.3"
  },
  "toc-showcode": true
 },
 "nbformat": 4,
 "nbformat_minor": 5
}
