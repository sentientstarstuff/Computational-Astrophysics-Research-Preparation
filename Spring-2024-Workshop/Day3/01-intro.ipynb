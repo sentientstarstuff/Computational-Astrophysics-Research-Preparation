{
 "cells": [
  {
   "cell_type": "markdown",
   "id": "labeled-firewall",
   "metadata": {
    "id": "labeled-firewall",
    "slideshow": {
     "slide_type": "slide"
    }
   },
   "source": [
    "# <p style=\"background-color: #f5df18; padding: 10px;\">The Unix Shell | **Introducing the Shell** </p>\n",
    "\n",
    "\n",
    "\n",
    "### <strong>Instructor: <span style=\"color: darkblue;\">Name (Affliation)</span></strong>\n",
    "\n",
    "Estimated completion time: 🕚 5 minutes\n"
   ]
  },
  {
   "cell_type": "markdown",
   "id": "30c98737",
   "metadata": {
    "slideshow": {
     "slide_type": "slide"
    }
   },
   "source": [
    "<div style=\"display: flex;\">\n",
    "    <div style=\"flex: 1; margin-right: 20px;\">\n",
    "        <h2>Questions</h2>\n",
    "        <ul>\n",
    "            <li>What is a command shell and why would I use one?</li>\n",
    "        </ul>\n",
    "    </div>\n",
    "    <div style=\"flex: 1;\">\n",
    "        <h2>Learning Objectives</h2>\n",
    "        <ul> \n",
    "            <li>Explain how the shell relates to the keyboard, the screen, the operating system, and users' programs.</li>\n",
    "    <li>Explain when and why command-line interfaces should be used instead of graphical interfaces.</li>\n",
    "        </ul>\n",
    "    </div>\n",
    "</div>\n"
   ]
  },
  {
   "cell_type": "markdown",
   "id": "pressed-commerce",
   "metadata": {
    "id": "pressed-commerce",
    "slideshow": {
     "slide_type": "slide"
    },
    "tags": []
   },
   "source": [
    "### Background\n",
    "---\n",
    "\n",
    "Humans and computers commonly interact in many different ways, such as through a keyboard and mouse,\n",
    "touch screen interfaces, or using speech recognition systems. The most widely used way to interact with personal computers is called a **graphical user interface** (GUI). With a GUI, we give instructions by clicking a mouse and using menu-driven interactions. "
   ]
  },
  {
   "cell_type": "markdown",
   "id": "f3f7a974",
   "metadata": {
    "slideshow": {
     "slide_type": "slide"
    }
   },
   "source": [
    "While the visual aid of a GUI makes it intuitive to learn, this way of delivering instructions to a computer scales very poorly. Imagine the following task:\n",
    "   "
   ]
  },
  {
   "cell_type": "markdown",
   "id": "fcad3952",
   "metadata": {
    "slideshow": {
     "slide_type": "fragment"
    }
   },
   "source": [
    "for a literature search, you have to copy the third line of one thousand text files in one thousand\n",
    "different directories and paste it into a single file.\n",
    "Using a GUI, you would not only be clicking at your desk for several hours,\n",
    "but you could potentially also commit an error in the process of completing this repetitive task.\n",
    "This is where we take advantage of the Unix shell.\n",
    "The Unix shell is both a **command-line interface** (CLI) and a scripting language,\n",
    "allowing such repetitive tasks to be done automatically and fast.\n",
    "With the proper commands, the shell can repeat tasks with or without some modification\n",
    "as many times as we want.\n",
    "Using the shell, the task in the literature example can be accomplished in seconds.\n"
   ]
  },
  {
   "cell_type": "markdown",
   "id": "b74d5962",
   "metadata": {
    "slideshow": {
     "slide_type": "slide"
    }
   },
   "source": [
    "### The Shell\n",
    "\n",
    "The shell is a program where users can type commands.\n",
    "With the shell, it's possible to invoke complicated programs like climate modeling software\n",
    "or simple commands that create an empty directory with only one line of code.\n",
    "The most popular Unix shell is Bash (the Bourne Again SHell ---\n",
    "so-called because it's derived from a shell written by Stephen Bourne).\n",
    "Bash is the default shell on most modern implementations of Unix and in most packages that provide\n",
    "Unix-like tools for Windows.\n",
    "Note that 'Git Bash' is a piece of software that enables Windows users to use a Bash like interface\n",
    "when interacting with Git."
   ]
  },
  {
   "cell_type": "markdown",
   "id": "5baa5de6",
   "metadata": {
    "slideshow": {
     "slide_type": "slide"
    }
   },
   "source": [
    "Using the shell will take some effort and some time to learn.\n",
    "While a GUI presents you with choices to select, CLI choices are not automatically presented to you,\n",
    "so you must learn a few commands like new vocabulary in a language you're studying.\n",
    "However, unlike a spoken language, a small number of \"words\" (i.e. commands) gets you a long way,\n",
    "and we'll cover those essential few today."
   ]
  },
  {
   "cell_type": "markdown",
   "id": "58e999c2",
   "metadata": {
    "slideshow": {
     "slide_type": "slide"
    }
   },
   "source": [
    "The grammar of a shell allows you to combine existing tools into powerful\n",
    "pipelines and handle large volumes of data automatically. Sequences of\n",
    "commands can be written into a *script*, improving the reproducibility of\n",
    "workflows."
   ]
  },
  {
   "cell_type": "markdown",
   "id": "65321f84",
   "metadata": {
    "slideshow": {
     "slide_type": "slide"
    }
   },
   "source": [
    "In addition, the command line is often the easiest way to interact with remote machines\n",
    "and supercomputers.\n",
    "Familiarity with the shell is near essential to run a variety of specialized tools and resources\n",
    "including high-performance computing systems.\n",
    "As clusters and cloud computing systems become more popular for scientific data crunching,\n",
    "being able to interact with the shell is becoming a necessary skill.\n",
    "We can build on the command-line skills covered here\n",
    "to tackle a wide range of scientific questions and computational challenges."
   ]
  },
  {
   "cell_type": "markdown",
   "id": "dab9bc60",
   "metadata": {
    "slideshow": {
     "slide_type": "fragment"
    }
   },
   "source": [
    "Let's get started.\n",
    "\n",
    "When the shell is first opened, you are presented with a **prompt**,\n",
    "indicating that the shell is waiting for input."
   ]
  },
  {
   "cell_type": "markdown",
   "id": "f8670252",
   "metadata": {
    "slideshow": {
     "slide_type": "fragment"
    }
   },
   "source": [
    "```bash\n",
    "$\n",
    "```"
   ]
  },
  {
   "cell_type": "markdown",
   "id": "0bb9216d",
   "metadata": {
    "slideshow": {
     "slide_type": "slide"
    }
   },
   "source": [
    "The shell typically uses `$ ` as the prompt, but may use a different symbol.\n",
    "In the examples for this lesson, we'll show the prompt as `$ `.\n",
    "Most importantly, *do not type the prompt* when typing commands.\n",
    "Only type the command that follows the prompt.\n",
    "This rule applies both in these lessons and in lessons from other sources.\n",
    "Also note that after you type a command, you have to press the <kbd>Enter</kbd> key to execute it."
   ]
  },
  {
   "cell_type": "markdown",
   "id": "a0e16a53",
   "metadata": {
    "slideshow": {
     "slide_type": "slide"
    }
   },
   "source": [
    "The prompt is followed by a **text cursor**, a character that indicates the position where your\n",
    "typing will appear.\n",
    "The cursor is usually a flashing or solid block, but it can also be an underscore or a pipe.\n",
    "You may have seen it in a text editor program, for example.\n",
    "\n"
   ]
  },
  {
   "cell_type": "markdown",
   "id": "333160c8",
   "metadata": {
    "slideshow": {
     "slide_type": "slide"
    }
   },
   "source": [
    "Note that your prompt might look a little different. In particular, most popular shell\n",
    "environments by default put your user name and the host name before the `$`. Such\n",
    "a prompt might look like, e.g.:\n",
    "\n"
   ]
  },
  {
   "cell_type": "markdown",
   "id": "c8abe01d",
   "metadata": {
    "slideshow": {
     "slide_type": "fragment"
    }
   },
   "source": [
    "```bash\n",
    "nelle@localhost $\n",
    "```"
   ]
  },
  {
   "cell_type": "markdown",
   "id": "d3167cc9",
   "metadata": {
    "slideshow": {
     "slide_type": "slide"
    }
   },
   "source": [
    "The prompt might even include more than this. Do not worry if your prompt is not\n",
    "just a short `$ `. This lesson does not depend on this additional information and it\n",
    "should also not get in your way. The only important item to focus on is the `$ `\n",
    "character itself and we will see later why."
   ]
  },
  {
   "cell_type": "markdown",
   "id": "203fa2f1",
   "metadata": {
    "slideshow": {
     "slide_type": "slide"
    }
   },
   "source": [
    "So let's try our first command, `ls`, which is short for listing.\n",
    "This command will list the contents of the current directory:"
   ]
  },
  {
   "cell_type": "markdown",
   "id": "bf8edb88",
   "metadata": {
    "slideshow": {
     "slide_type": "slide"
    }
   },
   "source": [
    "## 🔔  **Command not found**\n",
    "---\n",
    "\n",
    "If the shell can't find a program whose name is the command you typed, it\n",
    "will print an error message such as:\n",
    "\n",
    "```bash\n",
    "$ ks\n",
    "```\n",
    "\n",
    "```output\n",
    "ks: command not found\n",
    "```\n",
    "\n",
    "This might happen if the command was mis-typed or if the program corresponding to that command\n",
    "is not installed.\n",
    "\n"
   ]
  },
  {
   "cell_type": "markdown",
   "id": "vertical-yellow",
   "metadata": {
    "id": "vertical-yellow",
    "slideshow": {
     "slide_type": "slide"
    },
    "tags": []
   },
   "source": [
    "## Nelle's Pipeline: A Typical Problem\n",
    "\n",
    "Nelle Nemo, a marine biologist,\n",
    "has just returned from a six-month survey of the\n",
    "[North Pacific Gyre](https://en.wikipedia.org/wiki/North_Pacific_Gyre),\n",
    "where she has been sampling gelatinous marine life in the\n",
    "[Great Pacific Garbage Patch](https://en.wikipedia.org/wiki/Great_Pacific_Garbage_Patch).\n",
    "She has 1520 samples that she's run through an assay machine to measure the relative abundance\n",
    "of 300 proteins.\n",
    "She needs to run these 1520 files through an imaginary program called `goostats.sh`.\n",
    "In addition to this huge task, she has to write up results by the end of the month, so her paper\n",
    "can appear in a special issue of *Aquatic Goo Letters*.\n",
    "\n",
    "\n"
   ]
  },
  {
   "cell_type": "markdown",
   "id": "hollywood-clerk",
   "metadata": {
    "id": "hollywood-clerk",
    "slideshow": {
     "slide_type": "fragment"
    }
   },
   "source": [
    "\n",
    "If Nelle chooses to run `goostats.sh` by hand using a GUI,\n",
    "she'll have to select and open a file 1520 times.\n",
    "If `goostats.sh` takes 30 seconds to run each file, the whole process will take more than 12 hours\n",
    "of Nelle's attention.\n",
    "With the shell, Nelle can instead assign her computer this mundane task while she focuses\n",
    "her attention on writing her paper."
   ]
  },
  {
   "cell_type": "markdown",
   "id": "d03c7eb6",
   "metadata": {
    "slideshow": {
     "slide_type": "slide"
    }
   },
   "source": [
    "The next few lessons will explore the ways Nelle can achieve this.\n",
    "More specifically,\n",
    "the lessons explain how she can use a command shell to run the `goostats.sh` program,\n",
    "using loops to automate the repetitive steps of entering file names,\n",
    "so that her computer can work while she writes her paper.\n",
    "\n",
    "As a bonus,\n",
    "once she has put a processing pipeline together,\n",
    "she will be able to use it again whenever she collects more data."
   ]
  },
  {
   "cell_type": "markdown",
   "id": "7496513d",
   "metadata": {
    "slideshow": {
     "slide_type": "slide"
    }
   },
   "source": [
    "In order to achieve her task, Nelle needs to know how to:\n",
    "\n",
    "- navigate to a file/directory\n",
    "- create a file/directory\n",
    "- check the length of a file\n",
    "- chain commands together\n",
    "- retrieve a set of files\n",
    "- iterate over files\n",
    "- run a shell script containing her pipeline"
   ]
  },
  {
   "cell_type": "markdown",
   "id": "c3xyuFI9k7XT",
   "metadata": {
    "id": "c3xyuFI9k7XT",
    "slideshow": {
     "slide_type": "slide"
    }
   },
   "source": [
    "# <p style=\"background-color: #f5df18; padding: 10px;\"> 🗝️ Key points</p>\n",
    "\n",
    "---\n",
    "\n",
    "- A shell is a program whose primary purpose is to read commands and run other programs.\n",
    "- This lesson uses Bash, the default shell in many implementations of Unix.\n",
    "- Programs can be run in Bash by entering commands at the command-line prompt.\n",
    "- The shell's main advantages are its high action-to-keystroke ratio, its support for automating repetitive tasks, and its capacity to access networked machines.\n",
    "- A significant challenge when using the shell can be knowing what commands need to be run and how to run them.\n"
   ]
  }
 ],
 "metadata": {
  "celltoolbar": "Slideshow",
  "colab": {
   "provenance": []
  },
  "kernelspec": {
   "display_name": "Python 3 (ipykernel)",
   "language": "python",
   "name": "python3"
  },
  "language_info": {
   "codemirror_mode": {
    "name": "ipython",
    "version": 3
   },
   "file_extension": ".py",
   "mimetype": "text/x-python",
   "name": "python",
   "nbconvert_exporter": "python",
   "pygments_lexer": "ipython3",
   "version": "3.11.3"
  },
  "toc-showcode": true
 },
 "nbformat": 4,
 "nbformat_minor": 5
}
