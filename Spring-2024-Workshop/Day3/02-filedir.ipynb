{
 "cells": [
  {
   "cell_type": "markdown",
   "id": "labeled-firewall",
   "metadata": {
    "id": "labeled-firewall",
    "slideshow": {
     "slide_type": "slide"
    }
   },
   "source": [
    "# <p style=\"background-color: #f5df18; padding: 10px;\">The Unix Shell | **Navigating Files and Directories** </p>\n",
    "\n",
    "\n",
    "\n",
    "### <strong>Instructor: <span style=\"color: darkblue;\">Name (Affliation)</span></strong>\n",
    "\n",
    "Estimated completion time: 🕚 15 minutes\n"
   ]
  },
  {
   "cell_type": "markdown",
   "id": "30c98737",
   "metadata": {
    "slideshow": {
     "slide_type": "slide"
    }
   },
   "source": [
    "<div style=\"display: flex;\">\n",
    "    <div style=\"flex: 1; margin-right: 20px;\">\n",
    "        <h2>Questions</h2>\n",
    "        <ul>\n",
    "            <li>How can I move around on my computer?</li>\n",
    "    <li>How can I see what files and directories I have?</li>\n",
    "    <li>How can I specify the location of a file or directory on my computer?</li>\n",
    "        </ul>\n",
    "    </div>\n",
    "    <div style=\"flex: 1;\">\n",
    "        <h2>Learning Objectives</h2>\n",
    "        <ul> \n",
    "            <li>Explain the similarities and differences between a file and a directory.</li>\n",
    "    <li>Translate an absolute path into a relative path and vice versa.</li>\n",
    "    <li>Construct absolute and relative paths that identify specific files and directories.</li>\n",
    "    <li>Use options and arguments to change the behavior of a shell command.</li>\n",
    "    <li>Demonstrate the use of tab completion and explain its advantages.</li>\n",
    "        </ul>\n",
    "    </div>\n",
    "</div>\n"
   ]
  },
  {
   "cell_type": "markdown",
   "id": "pressed-commerce",
   "metadata": {
    "id": "pressed-commerce",
    "slideshow": {
     "slide_type": "slide"
    },
    "tags": []
   },
   "source": [
    "The part of the operating system responsible for managing files and directories\n",
    "is called the **file system**. It organizes our data into files,\n",
    "which hold information,\n",
    "and directories (also called 'folders'),\n",
    "which hold files or other directories."
   ]
  },
  {
   "cell_type": "markdown",
   "id": "e5d515b8",
   "metadata": {
    "slideshow": {
     "slide_type": "fragment"
    }
   },
   "source": [
    "Several commands are frequently used to create, inspect, rename, and delete files and directories.\n",
    "To start exploring them, we'll go to our open shell window."
   ]
  },
  {
   "cell_type": "markdown",
   "id": "147b8bbf",
   "metadata": {
    "slideshow": {
     "slide_type": "slide"
    }
   },
   "source": [
    "First, let's find out where we are by running a command called `pwd`\n",
    "(which stands for 'print working directory'). Directories are like *places* — at any time\n",
    "while we are using the shell, we are in exactly one place called\n",
    "our **current working directory**. Commands mostly read and write files in the\n",
    "current working directory, i.e. 'here', so knowing where you are before running\n",
    "a command is important. `pwd` shows you where you are:"
   ]
  },
  {
   "cell_type": "markdown",
   "id": "0bb9216d",
   "metadata": {
    "slideshow": {
     "slide_type": "fragment"
    }
   },
   "source": [
    "```bash\n",
    "$ pwd\n",
    "```\n",
    "\n",
    "```output\n",
    "/Users/nelle\n",
    "```\n",
    "\n",
    "Here,\n",
    "the computer's response is `/Users/nelle`,\n",
    "which is Nelle's **home directory**:"
   ]
  },
  {
   "cell_type": "markdown",
   "id": "bf8edb88",
   "metadata": {
    "slideshow": {
     "slide_type": "slide"
    }
   },
   "source": [
    "## 🔔  **Home Directory Variation**\n",
    "---\n",
    "\n",
    "The home directory path will look different on different operating systems.\n",
    "On Linux, it may look like `/home/nelle`,\n",
    "and on Windows, it will be similar to `C:\\Documents and Settings\\nelle` or\n",
    "`C:\\Users\\nelle`.\n",
    "(Note that it may look slightly different for different versions of Windows.)\n",
    "In future examples, we've used Mac output as the default - Linux and Windows\n",
    "output may differ slightly but should be generally similar.\n",
    "\n",
    "We will also assume that your `pwd` command returns your user's home directory.\n",
    "If `pwd` returns something different, you may need to navigate there using `cd`\n",
    "or some commands in this lesson will not work as written.\n",
    "See [Exploring Other Directories](#exploring-other-directories) for more details\n",
    "on the `cd` command.\n"
   ]
  },
  {
   "cell_type": "markdown",
   "id": "hollywood-clerk",
   "metadata": {
    "id": "hollywood-clerk",
    "slideshow": {
     "slide_type": "slide"
    }
   },
   "source": [
    "To understand what a 'home directory' is,\n",
    "let's have a look at how the file system as a whole is organized.  For the\n",
    "sake of this example, we'll be\n",
    "illustrating the filesystem on our scientist Nelle's computer.  After this\n",
    "illustration, you'll be learning commands to explore your own filesystem,\n",
    "which will be constructed in a similar way, but not be exactly identical.\n",
    "\n",
    "On Nelle's computer, the filesystem looks like this:\n",
    "\n",
    "<p align='center'>\n",
    "  <img src=\"https://swcarpentry.github.io/shell-novice/fig/filesystem.svg\"/, width=1200>\n",
    "</p>"
   ]
  },
  {
   "cell_type": "markdown",
   "id": "8eac15b9",
   "metadata": {
    "slideshow": {
     "slide_type": "slide"
    }
   },
   "source": [
    "The filesystem looks like an upside down tree. \n",
    "The topmost directory  is the **root directory**\n",
    "that holds everything else.\n",
    "We refer to it using a slash character, `/`, on its own;\n",
    "this character is the leading slash in `/Users/nelle`."
   ]
  },
  {
   "cell_type": "markdown",
   "id": "55f0f304",
   "metadata": {
    "slideshow": {
     "slide_type": "fragment"
    }
   },
   "source": [
    "Inside that directory are several other directories:\n",
    "`bin` (which is where some built-in programs are stored),\n",
    "`data` (for miscellaneous data files),\n",
    "`Users` (where users' personal directories are located),\n",
    "`tmp` (for temporary files that don't need to be stored long-term),\n",
    "and so on."
   ]
  },
  {
   "cell_type": "markdown",
   "id": "778a70d6",
   "metadata": {
    "slideshow": {
     "slide_type": "fragment"
    }
   },
   "source": [
    "We know that our current working directory `/Users/nelle` is stored inside `/Users`\n",
    "because `/Users` is the first part of its name.\n",
    "Similarly,\n",
    "we know that `/Users` is stored inside the root directory `/`\n",
    "because its name begins with `/`."
   ]
  },
  {
   "cell_type": "markdown",
   "id": "norwegian-multiple",
   "metadata": {
    "id": "norwegian-multiple",
    "slideshow": {
     "slide_type": "slide"
    }
   },
   "source": [
    "## 🔔  **Slashes**\n",
    "---\n",
    "\n",
    "Notice that there are two meanings for the `/` character.\n",
    "When it appears at the front of a file or directory name,\n",
    "it refers to the root directory. When it appears *inside* a path,\n",
    "it's just a separator.\n"
   ]
  },
  {
   "cell_type": "markdown",
   "id": "36ae627f",
   "metadata": {
    "slideshow": {
     "slide_type": "slide"
    }
   },
   "source": [
    "Underneath `/Users`,\n",
    "we find one directory for each user with an account on Nelle's machine,\n",
    "her colleagues *imhotep* and *larry*.\n",
    "\n",
    "\n",
    "<p align='center'>\n",
    "  <img src=\"https://swcarpentry.github.io/shell-novice/fig/home-directories.svg\"/, width=1000>\n",
    "</p>"
   ]
  },
  {
   "cell_type": "markdown",
   "id": "273f4e82",
   "metadata": {
    "slideshow": {
     "slide_type": "slide"
    }
   },
   "source": [
    "The user *imhotep*'s files are stored in `/Users/imhotep`,\n",
    "user *larry*'s in `/Users/larry`,\n",
    "and Nelle's in `/Users/nelle`. Nelle is the user in our\n",
    "examples here; therefore, we get `/Users/nelle` as our home directory.\n",
    "Typically, when you open a new command prompt, you will be in\n",
    "your home directory to start."
   ]
  },
  {
   "cell_type": "markdown",
   "id": "4101a3a8",
   "metadata": {
    "slideshow": {
     "slide_type": "slide"
    }
   },
   "source": [
    "Now let's learn the command that will let us see the contents of our\n",
    "own filesystem.  We can see what's in our home directory by running `ls`:"
   ]
  },
  {
   "cell_type": "markdown",
   "id": "e117634e",
   "metadata": {
    "slideshow": {
     "slide_type": "fragment"
    }
   },
   "source": [
    "```bash\n",
    "$ ls\n",
    "```\n",
    "\n",
    "```output\n",
    "Applications Documents    Library      Music        Public\n",
    "Desktop      Downloads    Movies       Pictures\n",
    "```"
   ]
  },
  {
   "cell_type": "markdown",
   "id": "C50c3Fz7tVOJ",
   "metadata": {
    "id": "C50c3Fz7tVOJ",
    "slideshow": {
     "slide_type": "fragment"
    }
   },
   "source": [
    "(Again, your results may be slightly different depending on your operating\n",
    "system and how you have customized your filesystem.)"
   ]
  },
  {
   "cell_type": "markdown",
   "id": "0196fdc5",
   "metadata": {
    "id": "characteristic-oklahoma",
    "slideshow": {
     "slide_type": "slide"
    }
   },
   "source": [
    "`ls` prints the names of the files and directories in the current directory.\n",
    "We can make its output more comprehensible by using the `-F` **option**\n",
    "which tells `ls` to classify the output\n",
    "by adding a marker to file and directory names to indicate what they are:\n",
    "\n",
    "- a trailing `/` indicates that this is a directory\n",
    "- `@` indicates a link\n",
    "- `*` indicates an executable\n",
    "\n",
    "Depending on your shell's default settings,\n",
    "the shell might also use colors to indicate whether each entry is a file or\n",
    "directory."
   ]
  },
  {
   "cell_type": "markdown",
   "id": "b21e519d",
   "metadata": {
    "slideshow": {
     "slide_type": "fragment"
    }
   },
   "source": [
    "```bash\n",
    "$ ls -F\n",
    "```\n",
    "\n",
    "```output\n",
    "Applications/ Documents/    Library/      Music/        Public/\n",
    "Desktop/      Downloads/    Movies/       Pictures/\n",
    "```"
   ]
  },
  {
   "cell_type": "markdown",
   "id": "188223bb",
   "metadata": {
    "slideshow": {
     "slide_type": "fragment"
    }
   },
   "source": [
    "Here,\n",
    "we can see that the home directory contains only **sub-directories**.\n",
    "Any names in the output that don't have a classification symbol\n",
    "are **files** in the current working directory."
   ]
  },
  {
   "cell_type": "markdown",
   "id": "elder-spoke",
   "metadata": {
    "id": "elder-spoke",
    "slideshow": {
     "slide_type": "slide"
    }
   },
   "source": [
    "## 🔔 Clearing your terminal\n",
    "---\n",
    "\n",
    "If your screen gets too cluttered, you can clear your terminal using the\n",
    "`clear` command. You can still access previous commands using <kbd>↑</kbd>\n",
    "and <kbd>↓</kbd> to move line-by-line, or by scrolling in your terminal."
   ]
  },
  {
   "cell_type": "markdown",
   "id": "W4hpB9uV1aBy",
   "metadata": {
    "id": "W4hpB9uV1aBy",
    "slideshow": {
     "slide_type": "slide"
    }
   },
   "source": [
    "### Getting help\n",
    "\n",
    "`ls` has lots of other **options**. There are two common ways to find out how\n",
    "to use a command and what options it accepts ---\n",
    "**depending on your environment, you might find that only one of these ways works:**\n",
    "\n"
   ]
  },
  {
   "cell_type": "markdown",
   "id": "3921b9ea",
   "metadata": {
    "slideshow": {
     "slide_type": "fragment"
    }
   },
   "source": [
    "1. We can pass a `--help` option to any command (available on Linux and Git Bash), for example:\n",
    "  \n",
    "  ```bash\n",
    "  $ ls --help\n",
    "  ```\n"
   ]
  },
  {
   "cell_type": "markdown",
   "id": "190af282",
   "metadata": {
    "slideshow": {
     "slide_type": "fragment"
    }
   },
   "source": [
    "2. We can read its manual with `man` (available on Linux and macOS):\n",
    "  \n",
    "  ```bash\n",
    "  $ man ls\n",
    "  ```"
   ]
  },
  {
   "cell_type": "markdown",
   "id": "2b5990a2",
   "metadata": {
    "slideshow": {
     "slide_type": "fragment"
    }
   },
   "source": [
    "We'll describe both ways next."
   ]
  },
  {
   "cell_type": "markdown",
   "id": "15e6c299",
   "metadata": {
    "slideshow": {
     "slide_type": "slide"
    }
   },
   "source": [
    "## 🔔 Help for built-in commands\n",
    "---\n",
    "\n",
    "Some commands are built in to the Bash shell, rather than existing as separate\n",
    "programs on the filesystem. One example is the `cd` (change directory) command.\n",
    "If you get a message like `No manual entry for cd`, try `help cd` instead. The\n",
    "`help` command is how you get usage information for\n",
    "[Bash built-ins](https://www.gnu.org/software/bash/manual/html_node/Bash-Builtins.html)."
   ]
  },
  {
   "cell_type": "markdown",
   "id": "bEb5VNCs1efR",
   "metadata": {
    "id": "bEb5VNCs1efR",
    "slideshow": {
     "slide_type": "slide"
    }
   },
   "source": [
    "#### The `--help` option\n",
    "\n",
    "Most bash commands and programs that people have written to be\n",
    "run from within bash, support a `--help` option that displays more\n",
    "information on how to use the command or program."
   ]
  },
  {
   "cell_type": "markdown",
   "id": "1bfc769b",
   "metadata": {
    "slideshow": {
     "slide_type": "-"
    }
   },
   "source": [
    "Let's run the following command:\n",
    "\n",
    "```bash\n",
    "$ ls --help\n",
    "```\n",
    "\n"
   ]
  },
  {
   "cell_type": "markdown",
   "id": "tyNY10qAQzg0",
   "metadata": {
    "id": "tyNY10qAQzg0",
    "slideshow": {
     "slide_type": "slide"
    }
   },
   "source": [
    "## 🔔 When to use short or long options\n",
    "---\n",
    "\n",
    "When options exist as both short and long options:\n",
    "\n",
    "- Use the short option when typing commands directly into the\n",
    "   shell to minimize keystrokes and get your task done faster.\n",
    "- Use the long option in scripts to provide clarity.\n",
    "  It will be read many times and typed once."
   ]
  },
  {
   "cell_type": "markdown",
   "id": "fourth-vitamin",
   "metadata": {
    "id": "fourth-vitamin",
    "slideshow": {
     "slide_type": "slide"
    }
   },
   "source": [
    "## 🔔 Unsupported command-line options\n",
    "---\n",
    "\n",
    "If you try to use an option that is not supported, `ls` and other commands\n",
    "will usually print an error message similar to:\n",
    "\n",
    "```bash\n",
    "$ ls -j\n",
    "```\n",
    "\n",
    "```error\n",
    "ls: invalid option -- 'j'\n",
    "Try 'ls --help' for more information.\n",
    "```"
   ]
  },
  {
   "cell_type": "markdown",
   "id": "oriented-migration",
   "metadata": {
    "id": "oriented-migration",
    "slideshow": {
     "slide_type": "slide"
    }
   },
   "source": [
    "## The `man` command\n",
    "\n",
    "The other way to learn about `ls` is to type\n",
    "\n",
    "```bash\n",
    "$ man ls\n",
    "```"
   ]
  },
  {
   "cell_type": "markdown",
   "id": "852bda10",
   "metadata": {
    "slideshow": {
     "slide_type": "fragment"
    }
   },
   "source": [
    "This command will turn your terminal into a page with a description\n",
    "of the `ls` command and its options."
   ]
  },
  {
   "cell_type": "markdown",
   "id": "76e31cc5",
   "metadata": {
    "slideshow": {
     "slide_type": "slide"
    }
   },
   "source": [
    "To navigate through the `man` pages,\n",
    "you may use <kbd>↑</kbd> and <kbd>↓</kbd> to move line-by-line,\n",
    "or try <kbd>B</kbd> and <kbd>Spacebar</kbd> to skip up and down by a full page.\n",
    "To search for a character or word in the `man` pages,\n",
    "use <kbd>/</kbd> followed by the character or word you are searching for.\n",
    "Sometimes a search will result in multiple hits.\n",
    "If so, you can move between hits using <kbd>N</kbd> (for moving forward) and\n",
    "<kbd>Shift</kbd>\\+<kbd>N</kbd> (for moving backward).\n",
    "\n",
    "To **quit** the `man` pages, press <kbd>Q</kbd>."
   ]
  },
  {
   "cell_type": "markdown",
   "id": "13ec5936",
   "metadata": {
    "id": "several-fellowship",
    "slideshow": {
     "slide_type": "slide"
    }
   },
   "source": [
    "## 🔔 Manual pages on the web\n",
    "---\n",
    "\n",
    "Of course, there is a third way to access help for commands:\n",
    "searching the internet via your web browser.\n",
    "When using internet search, including the phrase `unix man page` in your search\n",
    "query will help to find relevant results.\n",
    "\n",
    "GNU provides links to its\n",
    "[manuals](https://www.gnu.org/manual/manual.html) including the\n",
    "[core GNU utilities](https://www.gnu.org/software/coreutils/manual/coreutils.html),\n",
    "which covers many commands introduced within this lesson.\n"
   ]
  },
  {
   "cell_type": "markdown",
   "id": "AGmylKKlQWm5",
   "metadata": {
    "id": "AGmylKKlQWm5",
    "slideshow": {
     "slide_type": "slide"
    }
   },
   "source": [
    "## <p style=\"background-color: #f5df18; padding: 10px;\"> 🛑 Exploring More `ls` Options\n",
    " </p>\n",
    "\n",
    "---\n",
    "\n",
    "You can also use two options at the same time. What does the command `ls` do when used\n",
    "with the `-l` option? What about if you use both the `-l` and the `-h` option?\n",
    "\n",
    "Some of its output is about properties that we do not cover in this lesson (such\n",
    "as file permissions and ownership), but the rest should be useful\n",
    "nevertheless."
   ]
  },
  {
   "cell_type": "markdown",
   "id": "f743dd38",
   "metadata": {
    "slideshow": {
     "slide_type": "slide"
    }
   },
   "source": [
    "## <p style=\"background-color: #f5df18; padding: 10px;\"> 🛑 Listing in Reverse Chronological Order\n",
    " </p>\n",
    "\n",
    "---\n",
    "\n",
    "By default, `ls` lists the contents of a directory in alphabetical\n",
    "order by name. The command `ls -t` lists items by time of last\n",
    "change instead of alphabetically. The command `ls -r` lists the\n",
    "contents of a directory in reverse order.\n",
    "Which file is displayed last when you combine the `-t` and `-r` options?\n",
    "Hint: You may need to use the `-l` option to see the\n",
    "last changed dates."
   ]
  },
  {
   "cell_type": "markdown",
   "id": "a4f9fe0c",
   "metadata": {
    "slideshow": {
     "slide_type": "slide"
    }
   },
   "source": [
    "### Exploring Other Directories\n",
    "\n",
    "Not only can we use `ls` on the current working directory,\n",
    "but we can use it to list the contents of a different directory.\n",
    "Let's take a look at our `Desktop` directory by running `ls -F Desktop`,\n",
    "i.e.,\n",
    "the command `ls` with the `-F` **option** and the [**argument**](https://swcarpentry.github.io/shell-novice/reference.html#argument)  `Desktop`.\n",
    "The argument `Desktop` tells `ls` that\n",
    "we want a listing of something other than our current working directory:"
   ]
  },
  {
   "cell_type": "markdown",
   "id": "2acbeb14",
   "metadata": {
    "slideshow": {
     "slide_type": "fragment"
    }
   },
   "source": [
    "```bash\n",
    "$ ls -F Desktop\n",
    "```\n",
    "\n",
    "```output\n",
    "shell-lesson-data/\n",
    "```"
   ]
  },
  {
   "cell_type": "markdown",
   "id": "bc45843b",
   "metadata": {
    "slideshow": {
     "slide_type": "slide"
    }
   },
   "source": [
    "Note that if a directory named `Desktop` does not exist in your current working directory,\n",
    "this command will return an error. Typically, a `Desktop` directory exists in your\n",
    "home directory, which we assume is the current working directory of your bash shell."
   ]
  },
  {
   "cell_type": "markdown",
   "id": "733131e9",
   "metadata": {
    "slideshow": {
     "slide_type": "fragment"
    }
   },
   "source": [
    "Your output should be a list of all the files and sub-directories in your\n",
    "Desktop directory, including the `shell-lesson-data` directory you downloaded at\n",
    "the [setup for this lesson](../learners/setup.md). (On most systems, the\n",
    "contents of the `Desktop` directory in the shell will show up as icons in a graphical\n",
    "user interface behind all the open windows. See if this is the case for you.)"
   ]
  },
  {
   "cell_type": "markdown",
   "id": "d7e2d6ab",
   "metadata": {
    "slideshow": {
     "slide_type": "fragment"
    }
   },
   "source": [
    "Organizing things hierarchically helps us keep track of our work. While it's\n",
    "possible to put hundreds of files in our home directory just as it's possible to\n",
    "pile hundreds of printed papers on our desk, it's much easier to find things when\n",
    "they've been organized into sensibly-named subdirectories."
   ]
  },
  {
   "cell_type": "markdown",
   "id": "2d45bc10",
   "metadata": {
    "slideshow": {
     "slide_type": "slide"
    }
   },
   "source": [
    "Now that we know the `shell-lesson-data` directory is located in our Desktop directory, we\n",
    "can do two things.\n",
    "\n",
    "First, using the same strategy as before, we can look at its contents by passing\n",
    "a directory name to `ls`:"
   ]
  },
  {
   "cell_type": "markdown",
   "id": "eb7ea1c1",
   "metadata": {
    "slideshow": {
     "slide_type": "fragment"
    }
   },
   "source": [
    "Let's run the following command:\n",
    "\n",
    "```bash\n",
    "$ ls -F Desktop/shell-lesson-data\n",
    "```"
   ]
  },
  {
   "cell_type": "markdown",
   "id": "4d73ca3b",
   "metadata": {
    "slideshow": {
     "slide_type": "slide"
    }
   },
   "source": [
    "Second, we can actually change our location to a different directory, so\n",
    "we are no longer located in\n",
    "our home directory."
   ]
  },
  {
   "cell_type": "markdown",
   "id": "fd953567",
   "metadata": {
    "slideshow": {
     "slide_type": "fragment"
    }
   },
   "source": [
    "The command to change locations is `cd` followed by a\n",
    "directory name to change our working directory.\n",
    "`cd` stands for 'change directory',\n",
    "which is a bit misleading.\n",
    "The command doesn't change the directory;\n",
    "it changes the shell's current working directory.\n",
    "In other words it changes the shell's settings for what directory we are in.\n",
    "The `cd` command is akin to double-clicking a folder in a graphical interface\n",
    "to get into that folder."
   ]
  },
  {
   "cell_type": "markdown",
   "id": "2c237948",
   "metadata": {
    "slideshow": {
     "slide_type": "slide"
    }
   },
   "source": [
    "Let's say we want to move into the `exercise-data` directory we saw above. We can\n",
    "use the following series of commands to get there:"
   ]
  },
  {
   "cell_type": "markdown",
   "id": "a76f8083",
   "metadata": {
    "slideshow": {
     "slide_type": "fragment"
    }
   },
   "source": [
    "```bash\n",
    "$ cd Desktop\n",
    "$ cd shell-lesson-data\n",
    "$ cd exercise-data\n",
    "```"
   ]
  },
  {
   "cell_type": "markdown",
   "id": "5134c152",
   "metadata": {
    "slideshow": {
     "slide_type": "slide"
    }
   },
   "source": [
    "These commands will move us from our home directory into our Desktop directory, then into\n",
    "the `shell-lesson-data` directory, then into the `exercise-data` directory.\n",
    "You will notice that `cd` doesn't print anything. This is normal.\n",
    "Many shell commands will not output anything to the screen when successfully executed.\n",
    "But if we run `pwd` after it, we can see that we are now\n",
    "in `/Users/nelle/Desktop/shell-lesson-data/exercise-data`."
   ]
  },
  {
   "cell_type": "markdown",
   "id": "0abc2074",
   "metadata": {
    "slideshow": {
     "slide_type": "slide"
    }
   },
   "source": [
    "If we run `ls -F` without arguments now,\n",
    "it lists the contents of `/Users/nelle/Desktop/shell-lesson-data/exercise-data`,\n",
    "because that's where we now are:"
   ]
  },
  {
   "cell_type": "markdown",
   "id": "e6374f82",
   "metadata": {
    "slideshow": {
     "slide_type": "fragment"
    }
   },
   "source": [
    "```bash\n",
    "$ pwd\n",
    "```"
   ]
  },
  {
   "cell_type": "markdown",
   "id": "f3ad5654",
   "metadata": {
    "slideshow": {
     "slide_type": "fragment"
    }
   },
   "source": [
    "```output\n",
    "/Users/nelle/Desktop/shell-lesson-data/exercise-data\n",
    "```"
   ]
  },
  {
   "cell_type": "markdown",
   "id": "c275e3b6",
   "metadata": {
    "slideshow": {
     "slide_type": "fragment"
    }
   },
   "source": [
    "```bash\n",
    "$ ls -F\n",
    "```\n"
   ]
  },
  {
   "cell_type": "markdown",
   "id": "5d01715e",
   "metadata": {
    "slideshow": {
     "slide_type": "fragment"
    }
   },
   "source": [
    "\n",
    "```output\n",
    "alkanes/  animal-counts/  creatures/  numbers.txt  writing/\n",
    "```"
   ]
  },
  {
   "cell_type": "markdown",
   "id": "f599657d",
   "metadata": {
    "slideshow": {
     "slide_type": "slide"
    }
   },
   "source": [
    "We now know how to go down the directory tree (i.e. how to go into a subdirectory),\n",
    "but how do we go up (i.e. how do we leave a directory and go into its parent directory)?\n",
    "We might try the following:"
   ]
  },
  {
   "cell_type": "markdown",
   "id": "b5ad1107",
   "metadata": {
    "slideshow": {
     "slide_type": "fragment"
    }
   },
   "source": [
    "```bash\n",
    "$ cd shell-lesson-data\n",
    "```"
   ]
  },
  {
   "cell_type": "markdown",
   "id": "a59fec7d",
   "metadata": {
    "slideshow": {
     "slide_type": "fragment"
    }
   },
   "source": [
    "```error\n",
    "-bash: cd: shell-lesson-data: No such file or directory\n",
    "```"
   ]
  },
  {
   "cell_type": "markdown",
   "id": "5e97ae0a",
   "metadata": {
    "slideshow": {
     "slide_type": "slide"
    }
   },
   "source": [
    "But we get an error! Why is this?\n",
    "\n",
    "With our methods so far,\n",
    "`cd` can only see sub-directories inside your current directory. There are\n",
    "different ways to see directories above your current location; we'll start\n",
    "with the simplest."
   ]
  },
  {
   "cell_type": "markdown",
   "id": "da44c23f",
   "metadata": {
    "slideshow": {
     "slide_type": "fragment"
    }
   },
   "source": [
    "There is a shortcut in the shell to move up one directory level. It works as follows:\n",
    "\n",
    "```bash\n",
    "$ cd ..\n",
    "```\n"
   ]
  },
  {
   "cell_type": "markdown",
   "id": "7cb5caa6",
   "metadata": {
    "slideshow": {
     "slide_type": "slide"
    }
   },
   "source": [
    "`..` is a special directory name meaning\n",
    "\"the directory containing this one\",\n",
    "or more succinctly,\n",
    "the **parent** of the current directory.\n",
    "Sure enough,\n",
    "if we run `pwd` after running `cd ..`, we're back in `/Users/nelle/Desktop/shell-lesson-data`:\n"
   ]
  },
  {
   "cell_type": "markdown",
   "id": "5bb10169",
   "metadata": {
    "slideshow": {
     "slide_type": "fragment"
    }
   },
   "source": [
    "\n",
    "```bash\n",
    "$ pwd\n",
    "```\n",
    "\n",
    "```output\n",
    "/Users/nelle/Desktop/shell-lesson-data\n",
    "```\n"
   ]
  },
  {
   "cell_type": "markdown",
   "id": "3603e4af",
   "metadata": {
    "slideshow": {
     "slide_type": "slide"
    }
   },
   "source": [
    "The special directory `..` doesn't usually show up when we run `ls`. If we want\n",
    "to display it, we can add the `-a` option to `ls -F`:\n",
    "\n",
    "```bash\n",
    "$ ls -F -a\n",
    "```\n",
    "\n",
    "```output\n",
    "./  ../  exercise-data/  north-pacific-gyre/\n",
    "```"
   ]
  },
  {
   "cell_type": "markdown",
   "id": "9c024ec5",
   "metadata": {
    "slideshow": {
     "slide_type": "fragment"
    }
   },
   "source": [
    "`-a` stands for 'show all' (including hidden files);\n",
    "it forces `ls` to show us file and directory names that begin with `.`,\n",
    "such as `..` (which, if we're in `/Users/nelle`, refers to the `/Users` directory).\n",
    "As you can see,\n",
    "it also displays another special directory that's just called `.`,\n",
    "which means 'the current working directory'.\n",
    "It may seem redundant to have a name for it,\n",
    "but we'll see some uses for it soon.\n",
    "\n",
    "Note that in most command line tools, multiple options can be combined\n",
    "with a single `-` and no spaces between the options; `ls -F -a` is\n",
    "equivalent to `ls -Fa`.\n"
   ]
  },
  {
   "cell_type": "markdown",
   "id": "Ue1fIkXt4Ahu",
   "metadata": {
    "id": "Ue1fIkXt4Ahu",
    "slideshow": {
     "slide_type": "slide"
    }
   },
   "source": [
    "## 🔔 Other Hidden Files\n",
    "\n",
    "---\n",
    "In addition to the hidden directories `..` and `.`, you may also see a file\n",
    "called `.bash_profile`. This file usually contains shell configuration\n",
    "settings. You may also see other files and directories beginning\n",
    "with `.`. These are usually files and directories that are used to configure\n",
    "different programs on your computer. The prefix `.` is used to prevent these\n",
    "configuration files from cluttering the terminal when a standard `ls` command\n",
    "is used.\n"
   ]
  },
  {
   "cell_type": "markdown",
   "id": "fd85a2f1",
   "metadata": {
    "id": "aBF5H4_1kYOL",
    "slideshow": {
     "slide_type": "slide"
    }
   },
   "source": [
    "These three commands are the basic commands for navigating the filesystem on your computer:\n",
    "`pwd`, `ls`, and `cd`. Let's explore some variations on those commands. What happens\n",
    "if you type `cd` on its own, without giving\n",
    "a directory?\n",
    "\n",
    "```bash\n",
    "$ cd\n",
    "```\n"
   ]
  },
  {
   "cell_type": "markdown",
   "id": "99e53553",
   "metadata": {
    "slideshow": {
     "slide_type": "fragment"
    }
   },
   "source": [
    "How can you check what happened? `pwd` gives us the answer!\n",
    "\n",
    "```bash\n",
    "$ pwd\n",
    "```\n",
    "\n",
    "```output\n",
    "/Users/nelle\n",
    "```"
   ]
  },
  {
   "cell_type": "markdown",
   "id": "2f86738b",
   "metadata": {
    "slideshow": {
     "slide_type": "slide"
    }
   },
   "source": [
    "It turns out that `cd` without an argument will return you to your home directory,\n",
    "which is great if you've got lost in your own filesystem.\n",
    "\n",
    "Let's try returning to the `exercise-data` directory from before. Last time, we used\n",
    "three commands, but we can actually string together the list of directories\n",
    "to move to `exercise-data` in one step:\n",
    "\n",
    "```bash\n",
    "$ cd Desktop/shell-lesson-data/exercise-data\n",
    "```"
   ]
  },
  {
   "cell_type": "markdown",
   "id": "324ed217",
   "metadata": {
    "slideshow": {
     "slide_type": "fragment"
    }
   },
   "source": [
    "Check that we've moved to the right place by running `pwd` and `ls -F`.\n",
    "\n",
    "If we want to move up one level from the data directory, we could use `cd ..`.  But\n",
    "there is another way to move to any directory, regardless of your\n",
    "current location."
   ]
  },
  {
   "cell_type": "markdown",
   "id": "3d19d068",
   "metadata": {
    "slideshow": {
     "slide_type": "slide"
    }
   },
   "source": [
    "So far, when specifying directory names, or even a directory path (as above),\n",
    "we have been using **relative paths**.  When you use a relative path with a command\n",
    "like `ls` or `cd`, it tries to find that location from where we are,\n",
    "rather than from the root of the file system."
   ]
  },
  {
   "cell_type": "markdown",
   "id": "5a0774bd",
   "metadata": {
    "slideshow": {
     "slide_type": "fragment"
    }
   },
   "source": [
    "However, it is possible to specify the **absolute path** to a directory by\n",
    "including its entire path from the root directory, which is indicated by a\n",
    "leading slash. The leading `/` tells the computer to follow the path from\n",
    "the root of the file system, so it always refers to exactly one directory,\n",
    "no matter where we are when we run the command."
   ]
  },
  {
   "cell_type": "markdown",
   "id": "9fff2cbe",
   "metadata": {
    "slideshow": {
     "slide_type": "fragment"
    }
   },
   "source": [
    "This allows us to move to our `shell-lesson-data` directory from anywhere on\n",
    "the filesystem (including from inside `exercise-data`). To find the absolute path\n",
    "we're looking for, we can use `pwd` and then extract the piece we need\n",
    "to move to `shell-lesson-data`.\n",
    "\n",
    "```bash\n",
    "$ pwd\n",
    "```\n",
    "\n",
    "```output\n",
    "/Users/nelle/Desktop/shell-lesson-data/exercise-data\n",
    "```\n",
    "\n",
    "```bash\n",
    "$ cd /Users/nelle/Desktop/shell-lesson-data\n",
    "```\n",
    "\n",
    "Run `pwd` and `ls -F` to ensure that we're in the directory we expect."
   ]
  },
  {
   "cell_type": "markdown",
   "id": "7e78422e",
   "metadata": {
    "slideshow": {
     "slide_type": "slide"
    }
   },
   "source": [
    "## 🔔 Two More Shortcuts\n",
    "---\n",
    "\n",
    "The shell interprets a tilde (`~`) character at the start of a path to\n",
    "mean \"the current user's home directory\". For example, if Nelle's home\n",
    "directory is `/Users/nelle`, then `~/data` is equivalent to\n",
    "`/Users/nelle/data`. This only works if it is the first character in the\n",
    "path; `here/there/~/elsewhere` is *not* `here/there/Users/nelle/elsewhere`.\n",
    "\n",
    "Another shortcut is the `-` (dash) character. `cd` will translate `-` into\n",
    "*the previous directory I was in*, which is faster than having to remember,\n",
    "then type, the full path.  This is a *very* efficient way of moving\n",
    "*back and forth between two directories* -- i.e. if you execute `cd -` twice,\n",
    "you end up back in the starting directory.\n",
    "\n",
    "The difference between `cd ..` and `cd -` is\n",
    "that the former brings you *up*, while the latter brings you *back*.\n",
    "\n",
    "***\n",
    "\n",
    "Try it!\n",
    "First navigate to `~/Desktop/shell-lesson-data` (you should already be there).\n",
    "\n",
    "```bash\n",
    "$ cd ~/Desktop/shell-lesson-data\n",
    "```\n",
    "\n",
    "Then `cd` into the `exercise-data/creatures` directory\n",
    "\n",
    "```bash\n",
    "$ cd exercise-data/creatures\n",
    "```\n",
    "\n",
    "Now if you run\n",
    "\n",
    "```bash\n",
    "$ cd -\n",
    "```\n",
    "\n",
    "you'll see you're back in `~/Desktop/shell-lesson-data`.\n",
    "Run `cd -` again and you're back in `~/Desktop/shell-lesson-data/exercise-data/creatures`"
   ]
  },
  {
   "cell_type": "markdown",
   "id": "xP8epXpCRRv9",
   "metadata": {
    "id": "xP8epXpCRRv9",
    "slideshow": {
     "slide_type": "slide"
    }
   },
   "source": [
    "## <p style=\"background-color: #f5df18; padding: 10px;\"> 🛑 Absolute vs Relative Paths</p>\n",
    "\n",
    "Starting from `/Users/nelle/data`,\n",
    "which of the following commands could Nelle use to navigate to her home directory,\n",
    "which is `/Users/nelle`?\n",
    "\n",
    "1. `cd .`\n",
    "2. `cd /`\n",
    "3. `cd /home/nelle`\n",
    "4. `cd ../..`\n",
    "5. `cd ~`\n",
    "6. `cd home`\n",
    "7. `cd ~/data/..`\n",
    "8. `cd`\n",
    "9. `cd .."
   ]
  },
  {
   "cell_type": "code",
   "execution_count": null,
   "id": "e8d0b838",
   "metadata": {
    "id": "i9rxWLAz6ORF",
    "slideshow": {
     "slide_type": "-"
    }
   },
   "outputs": [],
   "source": [
    "### your answer here ###"
   ]
  },
  {
   "cell_type": "markdown",
   "id": "tyMrTbrRReoe",
   "metadata": {
    "id": "tyMrTbrRReoe",
    "slideshow": {
     "slide_type": "slide"
    }
   },
   "source": [
    "## <p style=\"background-color: #f5df18; padding: 10px;\"> 🛑 Relative Path Resolution </p>\n",
    "\n",
    "\n",
    "Using the filesystem diagram below, if `pwd` displays `/Users/thing`,\n",
    "what will `ls -F ../backup` display?\n",
    "\n",
    "1. `../backup: No such file or directory`\n",
    "2. `2012-12-01 2013-01-08 2013-01-27`\n",
    "3. `2012-12-01/ 2013-01-08/ 2013-01-27/`\n",
    "4. `original/ pnas_final/ pnas_sub/`\n",
    "\n",
    "<p align='center'>\n",
    "  <img src=\"https://swcarpentry.github.io/shell-novice/fig/filesystem-challenge.svg\" \n",
    "</p>"
   ]
  },
  {
   "cell_type": "code",
   "execution_count": null,
   "id": "572939dd",
   "metadata": {
    "slideshow": {
     "slide_type": "-"
    }
   },
   "outputs": [],
   "source": [
    "### your answer here ##"
   ]
  },
  {
   "cell_type": "markdown",
   "id": "54ff8bc3",
   "metadata": {
    "slideshow": {
     "slide_type": "slide"
    }
   },
   "source": [
    "## <p style=\"background-color: #f5df18; padding: 10px;\"> 🛑 `ls` Reading Comprehension </p>\n",
    "\n",
    "Using the filesystem diagram below,\n",
    "if `pwd` displays `/Users/backup`,\n",
    "and `-r` tells `ls` to display things in reverse order,\n",
    "what command(s) will result in the following output:\n",
    "\n",
    "```output\n",
    "pnas_sub/ pnas_final/ original/\n",
    "```\n",
    "\n",
    "<p align='center'>\n",
    "  <img src=\"https://swcarpentry.github.io/shell-novice/fig/filesystem-challenge.svg\" \n",
    "</p>\n",
    "\n",
    "\n",
    "\n",
    "1. `ls pwd`\n",
    "2. `ls -r -F`\n",
    "3. `ls -r -F /Users/backup`"
   ]
  },
  {
   "cell_type": "code",
   "execution_count": null,
   "id": "3d0f0eca",
   "metadata": {
    "slideshow": {
     "slide_type": "-"
    }
   },
   "outputs": [],
   "source": [
    "### your answer here ##"
   ]
  },
  {
   "cell_type": "markdown",
   "id": "7eb5a0ae",
   "metadata": {
    "slideshow": {
     "slide_type": "slide"
    }
   },
   "source": [
    "## General Syntax of a Shell Command\n",
    "\n",
    "We have now encountered commands, options, and arguments,\n",
    "but it is perhaps useful to formalise some terminology.\n",
    "\n",
    "Consider the command below as a general example of a command,\n",
    "which we will dissect into its component parts:\n",
    "\n",
    "```bash\n",
    "$ ls -F /\n",
    "```\n",
    "\n",
    "<p align='center'>\n",
    "  <img src=\"https://swcarpentry.github.io/shell-novice/fig/shell_command_syntax.svg\"/>\n",
    "</p>\n",
    "\n",
    "`ls` is the **command**, with an **option** `-F` and an\n",
    "**argument** `/`.\n",
    "We've already encountered options  which\n",
    "either start with a single dash (`-`), known as **short options**,\n",
    "or two dashes (`--`), known as **long options**.\n",
    "[Options] change the behavior of a command and\n",
    "[Arguments] tell the command what to operate on (e.g. files and directories).\n",
    "Sometimes options and arguments are referred to as **parameters**.\n",
    "A command can be called with more than one option and more than one argument, but a\n",
    "command doesn't always require an argument or an option.\n"
   ]
  },
  {
   "cell_type": "markdown",
   "id": "94b57a68",
   "metadata": {
    "slideshow": {
     "slide_type": "slide"
    }
   },
   "source": [
    "You might sometimes see options being referred to as **switches** or **flags**,\n",
    "especially for options that take no argument. In this lesson we will stick with\n",
    "using the term *option*."
   ]
  },
  {
   "cell_type": "markdown",
   "id": "e5dda611",
   "metadata": {
    "slideshow": {
     "slide_type": "slide"
    }
   },
   "source": [
    "Each part is separated by spaces. If you omit the space\n",
    "between `ls` and `-F` the shell will look for a command called `ls-F`, which\n",
    "doesn't exist. Also, capitalization can be important.\n",
    "For example, `ls -s` will display the size of files and directories alongside the names,\n",
    "while `ls -S` will sort the files and directories by size, as shown below:"
   ]
  },
  {
   "cell_type": "markdown",
   "id": "92ab162a",
   "metadata": {
    "slideshow": {
     "slide_type": "fragment"
    }
   },
   "source": [
    "```bash\n",
    "$ cd ~/Desktop/shell-lesson-data\n",
    "$ ls -s exercise-data\n",
    "```"
   ]
  },
  {
   "cell_type": "markdown",
   "id": "c361ce33",
   "metadata": {
    "slideshow": {
     "slide_type": "fragment"
    }
   },
   "source": [
    "```output\n",
    "total 28\n",
    " 4 animal-counts   4 creatures  12 numbers.txt   4 alkanes   4 writing\n",
    "```"
   ]
  },
  {
   "cell_type": "markdown",
   "id": "d002bde0",
   "metadata": {
    "slideshow": {
     "slide_type": "slide"
    }
   },
   "source": [
    "Note that the sizes returned by `ls -s` are in *blocks*.\n",
    "As these are defined differently for different operating systems,\n",
    "you may not obtain the same figures as in the example."
   ]
  },
  {
   "cell_type": "markdown",
   "id": "d89f284a",
   "metadata": {
    "slideshow": {
     "slide_type": "fragment"
    }
   },
   "source": [
    "```bash\n",
    "$ ls -S exercise-data\n",
    "```"
   ]
  },
  {
   "cell_type": "markdown",
   "id": "50e3715d",
   "metadata": {
    "slideshow": {
     "slide_type": "fragment"
    }
   },
   "source": [
    "```output\n",
    "animal-counts  creatures  alkanes  writing  numbers.txt\n",
    "```"
   ]
  },
  {
   "cell_type": "markdown",
   "id": "1e1933bb",
   "metadata": {
    "slideshow": {
     "slide_type": "slide"
    }
   },
   "source": [
    "Putting all that together, our command `ls -F /` above gives us a listing\n",
    "of files and directories in the root directory `/`.\n",
    "An example of the output you might get from the above command is given below:"
   ]
  },
  {
   "cell_type": "markdown",
   "id": "3db07783",
   "metadata": {
    "slideshow": {
     "slide_type": "fragment"
    }
   },
   "source": [
    "```bash\n",
    "$ ls -F /\n",
    "```"
   ]
  },
  {
   "cell_type": "markdown",
   "id": "538e5eeb",
   "metadata": {
    "slideshow": {
     "slide_type": "fragment"
    }
   },
   "source": [
    "```output\n",
    "Applications/         System/\n",
    "Library/              Users/\n",
    "Network/              Volumes/\n",
    "```"
   ]
  },
  {
   "cell_type": "markdown",
   "id": "4ace0878",
   "metadata": {
    "slideshow": {
     "slide_type": "slide"
    }
   },
   "source": [
    "### Nelle's Pipeline: Organizing Files\n",
    "\n",
    "Knowing this much about files and directories,\n",
    "Nelle is ready to organize the files that the protein assay machine will create."
   ]
  },
  {
   "cell_type": "markdown",
   "id": "f8561ced",
   "metadata": {
    "slideshow": {
     "slide_type": "fragment"
    }
   },
   "source": [
    "She creates a directory called `north-pacific-gyre`\n",
    "(to remind herself where the data came from),\n",
    "which will contain the data files from the assay machine\n",
    "and her data processing scripts."
   ]
  },
  {
   "cell_type": "markdown",
   "id": "84ee2269",
   "metadata": {
    "slideshow": {
     "slide_type": "fragment"
    }
   },
   "source": [
    "Each of her physical samples is labelled according to her lab's convention\n",
    "with a unique ten-character ID,\n",
    "such as 'NENE01729A'.\n",
    "This ID is what she used in her collection log\n",
    "to record the location, time, depth, and other characteristics of the sample,\n",
    "so she decides to use it within the filename of each data file.\n",
    "Since the output of the assay machine is plain text,\n",
    "she will call her files `NENE01729A.txt`, `NENE01812A.txt`, and so on.\n",
    "All 1520 files will go into the same directory.\n"
   ]
  },
  {
   "cell_type": "markdown",
   "id": "0b96d4fd",
   "metadata": {
    "slideshow": {
     "slide_type": "slide"
    }
   },
   "source": [
    "Now in her current directory `shell-lesson-data`,\n",
    "Nelle can see what files she has using the command:\n",
    "\n",
    "```bash\n",
    "$ ls north-pacific-gyre/\n",
    "```"
   ]
  },
  {
   "cell_type": "markdown",
   "id": "e6739302",
   "metadata": {
    "slideshow": {
     "slide_type": "slide"
    }
   },
   "source": [
    "This command is a lot to type,\n",
    "but she can let the shell do most of the work through what is called **tab completion**.\n",
    "If she types:\n",
    "\n",
    "```bash\n",
    "$ ls nor\n",
    "```"
   ]
  },
  {
   "cell_type": "markdown",
   "id": "79389094",
   "metadata": {
    "slideshow": {
     "slide_type": "slide"
    }
   },
   "source": [
    "and then presses <kbd>Tab</kbd> (the tab key on her keyboard),\n",
    "the shell automatically completes the directory name for her:\n",
    "\n",
    "```bash\n",
    "$ ls north-pacific-gyre/\n",
    "```"
   ]
  },
  {
   "cell_type": "markdown",
   "id": "169734ee",
   "metadata": {
    "slideshow": {
     "slide_type": "slide"
    }
   },
   "source": [
    "\n",
    "Pressing <kbd>Tab</kbd> again does nothing,\n",
    "since there are multiple possibilities;\n",
    "pressing <kbd>Tab</kbd> twice brings up a list of all the files.\n"
   ]
  },
  {
   "cell_type": "markdown",
   "id": "b256dc90",
   "metadata": {
    "slideshow": {
     "slide_type": "slide"
    }
   },
   "source": [
    "If Nelle then presses <kbd>G</kbd> and then presses <kbd>Tab</kbd> again,\n",
    "the shell will append 'goo' since all files that start with 'g' share\n",
    "the first three characters 'goo'.\n",
    "\n",
    "```bash\n",
    "$ ls north-pacific-gyre/goo\n",
    "```"
   ]
  },
  {
   "cell_type": "markdown",
   "id": "082a15d6",
   "metadata": {
    "slideshow": {
     "slide_type": "slide"
    }
   },
   "source": [
    "To see all of those files, she can press <kbd>Tab</kbd> twice more.\n",
    "\n",
    "```bash\n",
    "ls north-pacific-gyre/goo\n",
    "goodiff.sh   goostats.sh\n",
    "```\n",
    "\n",
    "This is called **tab completion**,\n",
    "and we will see it in many other tools as we go on.\n"
   ]
  },
  {
   "cell_type": "markdown",
   "id": "c3xyuFI9k7XT",
   "metadata": {
    "id": "c3xyuFI9k7XT",
    "slideshow": {
     "slide_type": "slide"
    }
   },
   "source": [
    "# <p style=\"background-color: #f5df18; padding: 10px;\"> 🗝️ Key points</p>\n",
    "\n",
    "---\n",
    "\n",
    "- The file system is responsible for managing information on the disk.\n",
    "- Information is stored in files, which are stored in directories (folders).\n",
    "- Directories can also store other directories, which then form a directory tree.\n",
    "- `pwd` prints the user's current working directory.\n",
    "- `ls [path]` prints a listing of a specific file or directory; `ls` on its own lists the current working directory.\n",
    "- `cd [path]` changes the current working directory.\n",
    "- Most commands take options that begin with a single `-`.\n",
    "- Directory names in a path are separated with `/` on Unix, but `\\` on Windows.\n",
    "- `/` on its own is the root directory of the whole file system.\n",
    "- An absolute path specifies a location from the root of the file system.\n",
    "- A relative path specifies a location starting from the current location.\n",
    "- `.` on its own means 'the current directory'; `..` means 'the directory above the current one'."
   ]
  }
 ],
 "metadata": {
  "celltoolbar": "Slideshow",
  "colab": {
   "provenance": []
  },
  "kernelspec": {
   "display_name": "Python 3 (ipykernel)",
   "language": "python",
   "name": "python3"
  },
  "language_info": {
   "codemirror_mode": {
    "name": "ipython",
    "version": 3
   },
   "file_extension": ".py",
   "mimetype": "text/x-python",
   "name": "python",
   "nbconvert_exporter": "python",
   "pygments_lexer": "ipython3",
   "version": "3.11.3"
  },
  "toc-showcode": true
 },
 "nbformat": 4,
 "nbformat_minor": 5
}
