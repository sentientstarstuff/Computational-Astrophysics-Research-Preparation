{
 "cells": [
  {
   "cell_type": "markdown",
   "id": "labeled-firewall",
   "metadata": {
    "id": "labeled-firewall",
    "slideshow": {
     "slide_type": "slide"
    }
   },
   "source": [
    "# <p style=\"background-color: #f5df18; padding: 10px;\">The Unix Shell | **Shell Scripts** </p>\n",
    "\n",
    "\n",
    "\n",
    "### <strong>Instructor: <span style=\"color: darkblue;\">Name (Affliation)</span></strong>\n",
    "\n",
    "Estimated completion time: 🕚 45 minutes\n",
    "\n"
   ]
  },
  {
   "cell_type": "markdown",
   "id": "30c98737",
   "metadata": {
    "slideshow": {
     "slide_type": "slide"
    }
   },
   "source": [
    "<div style=\"display: flex;\">\n",
    "    <div style=\"flex: 1; margin-right: 20px;\">\n",
    "        <h2>Questions</h2>\n",
    "        <ul>\n",
    "            <li>How can I save and re-use commands?</li>\n",
    "        </ul>\n",
    "    </div>\n",
    "    <div style=\"flex: 1;\">\n",
    "        <h2>Learning Objectives</h2>\n",
    "        <ul> \n",
    "            <li>Write a shell script that runs a command or series of commands for a fixed set of files.</li>\n",
    "    <li>Run a shell script from the command line.</li>\n",
    "    <li>Write a shell script that operates on a set of files defined by the user on the command line.</li>\n",
    "    <li>Create pipelines that include shell scripts you, and others, have written.</li>\n",
    "        </ul>\n",
    "    </div>\n",
    "</div>\n"
   ]
  },
  {
   "cell_type": "markdown",
   "id": "pressed-commerce",
   "metadata": {
    "id": "pressed-commerce",
    "slideshow": {
     "slide_type": "slide"
    },
    "tags": []
   },
   "source": [
    "We are finally ready to see what makes the shell such a powerful programming environment.\n",
    "We are going to take the commands we repeat frequently and save them in files\n",
    "so that we can re-run all those operations again later by typing a single command.\n",
    "For historical reasons,\n",
    "a bunch of commands saved in a file is usually called a **shell script**,\n",
    "but make no mistake --- these are actually small programs.\n",
    "\n"
   ]
  },
  {
   "cell_type": "markdown",
   "id": "2efb5aef",
   "metadata": {
    "slideshow": {
     "slide_type": "slide"
    }
   },
   "source": [
    "Not only will writing shell scripts make your work faster, but also you won't have to retype\n",
    "the same commands over and over again. It will also make it more accurate (fewer chances for\n",
    "typos) and more reproducible. If you come back to your work later (or if someone else finds\n",
    "your work and wants to build on it), you will be able to reproduce the same results simply\n",
    "by running your script, rather than having to remember or retype a long list of commands.\n",
    "\n"
   ]
  },
  {
   "cell_type": "markdown",
   "id": "9c38be19",
   "metadata": {
    "slideshow": {
     "slide_type": "slide"
    }
   },
   "source": [
    "Let's start by going back to `alkanes/` and creating a new file, `middle.sh` which will\n",
    "become our shell script:\n",
    "\n"
   ]
  },
  {
   "cell_type": "markdown",
   "id": "a1170993",
   "metadata": {
    "slideshow": {
     "slide_type": "fragment"
    }
   },
   "source": [
    "```bash\n",
    "$ cd alkanes\n",
    "$ nano middle.sh\n",
    "```\n"
   ]
  },
  {
   "cell_type": "markdown",
   "id": "f0756c6d",
   "metadata": {
    "slideshow": {
     "slide_type": "slide"
    }
   },
   "source": [
    "\n",
    "The command `nano middle.sh` opens the file `middle.sh` within the text editor 'nano'\n",
    "(which runs within the shell).\n",
    "If the file does not exist, it will be created.\n",
    "We can use the text editor to directly edit the file by inserting the following line:\n",
    "\n"
   ]
  },
  {
   "cell_type": "markdown",
   "id": "9b7563bb",
   "metadata": {
    "slideshow": {
     "slide_type": "fragment"
    }
   },
   "source": [
    "```source\n",
    "head -n 15 octane.pdb | tail -n 5\n",
    "```\n",
    "\n"
   ]
  },
  {
   "cell_type": "markdown",
   "id": "3e53a874",
   "metadata": {
    "slideshow": {
     "slide_type": "slide"
    }
   },
   "source": [
    "This is a variation on the pipe we constructed earlier, which selects lines 11-15 of\n",
    "the file `octane.pdb`. Remember, we are *not* running it as a command just yet;\n",
    "we are only incorporating the commands in a file.\n",
    "\n"
   ]
  },
  {
   "cell_type": "markdown",
   "id": "2ae512c6",
   "metadata": {
    "slideshow": {
     "slide_type": "slide"
    }
   },
   "source": [
    "Then we save the file (`Ctrl-O` in nano) and exit the text editor (`Ctrl-X` in nano).\n",
    "Check that the directory `alkanes` now contains a file called `middle.sh`.\n",
    "\n"
   ]
  },
  {
   "cell_type": "markdown",
   "id": "66dae947",
   "metadata": {
    "slideshow": {
     "slide_type": "slide"
    }
   },
   "source": [
    "Once we have saved the file,\n",
    "we can ask the shell to execute the commands it contains.\n",
    "Our shell is called `bash`, so we run the following command:\n"
   ]
  },
  {
   "cell_type": "markdown",
   "id": "e39d03c7",
   "metadata": {
    "slideshow": {
     "slide_type": "fragment"
    }
   },
   "source": [
    "\n",
    "```bash\n",
    "$ bash middle.sh\n",
    "```\n",
    "\n"
   ]
  },
  {
   "cell_type": "markdown",
   "id": "dd23452c",
   "metadata": {
    "slideshow": {
     "slide_type": "fragment"
    }
   },
   "source": [
    "```output\n",
    "ATOM      9  H           1      -4.502   0.681   0.785  1.00  0.00\n",
    "ATOM     10  H           1      -5.254  -0.243  -0.537  1.00  0.00\n",
    "ATOM     11  H           1      -4.357   1.252  -0.895  1.00  0.00\n",
    "ATOM     12  H           1      -3.009  -0.741  -1.467  1.00  0.00\n",
    "ATOM     13  H           1      -3.172  -1.337   0.206  1.00  0.00\n",
    "```\n",
    "\n"
   ]
  },
  {
   "cell_type": "markdown",
   "id": "842e7de6",
   "metadata": {
    "slideshow": {
     "slide_type": "fragment"
    }
   },
   "source": [
    "Sure enough,\n",
    "our script's output is exactly what we would get if we ran that pipeline directly.\n"
   ]
  },
  {
   "cell_type": "markdown",
   "id": "bf8edb88",
   "metadata": {
    "slideshow": {
     "slide_type": "slide"
    }
   },
   "source": [
    "## 🔔  **Text vs. Whatever**\n",
    "---\n",
    "\n",
    "We usually call programs like Microsoft Word or LibreOffice Writer \"text\n",
    "editors\", but we need to be a bit more careful when it comes to\n",
    "programming. By default, Microsoft Word uses `.docx` files to store not\n",
    "only text, but also formatting information about fonts, headings, and so\n",
    "on. This extra information isn't stored as characters and doesn't mean\n",
    "anything to tools like `head`, which expects input files to contain\n",
    "nothing but the letters, digits, and punctuation on a standard computer\n",
    "keyboard. When editing programs, therefore, you must either use a plain\n",
    "text editor or be careful to save files as plain text."
   ]
  },
  {
   "cell_type": "markdown",
   "id": "vertical-yellow",
   "metadata": {
    "id": "vertical-yellow",
    "jp-MarkdownHeadingCollapsed": true,
    "slideshow": {
     "slide_type": "slide"
    },
    "tags": []
   },
   "source": [
    "What if we want to select lines from an arbitrary file?\n",
    "We could edit `middle.sh` each time to change the filename,\n",
    "but that would probably take longer than typing the command out again\n",
    "in the shell and executing it with a new file name.\n",
    "Instead, let's edit `middle.sh` and make it more versatile:\n",
    "\n"
   ]
  },
  {
   "cell_type": "markdown",
   "id": "f3fd37aa",
   "metadata": {
    "slideshow": {
     "slide_type": "fragment"
    }
   },
   "source": [
    "```bash\n",
    "$ nano middle.sh\n",
    "```\n",
    "\n"
   ]
  },
  {
   "cell_type": "markdown",
   "id": "d320112d",
   "metadata": {
    "slideshow": {
     "slide_type": "slide"
    }
   },
   "source": [
    "Now, within \"nano\", replace the text `octane.pdb` with the special variable called `$1`:\n",
    "\n"
   ]
  },
  {
   "cell_type": "markdown",
   "id": "82f582f4",
   "metadata": {
    "slideshow": {
     "slide_type": "fragment"
    }
   },
   "source": [
    "```source\n",
    "head -n 15 \"$1\" | tail -n 5\n",
    "```\n",
    "\n"
   ]
  },
  {
   "cell_type": "markdown",
   "id": "e8ebc735",
   "metadata": {
    "slideshow": {
     "slide_type": "slide"
    }
   },
   "source": [
    "Inside a shell script,\n",
    "`$1` means 'the first filename (or other argument) on the command line'.\n",
    "We can now run our script like this:\n",
    "\n"
   ]
  },
  {
   "cell_type": "markdown",
   "id": "1902550f",
   "metadata": {
    "slideshow": {
     "slide_type": "fragment"
    }
   },
   "source": [
    "```bash\n",
    "$ bash middle.sh octane.pdb\n",
    "```\n",
    "\n"
   ]
  },
  {
   "cell_type": "markdown",
   "id": "ba14c68d",
   "metadata": {
    "slideshow": {
     "slide_type": "fragment"
    }
   },
   "source": [
    "```output\n",
    "ATOM      9  H           1      -4.502   0.681   0.785  1.00  0.00\n",
    "ATOM     10  H           1      -5.254  -0.243  -0.537  1.00  0.00\n",
    "ATOM     11  H           1      -4.357   1.252  -0.895  1.00  0.00\n",
    "ATOM     12  H           1      -3.009  -0.741  -1.467  1.00  0.00\n",
    "ATOM     13  H           1      -3.172  -1.337   0.206  1.00  0.00\n",
    "```\n",
    "\n"
   ]
  },
  {
   "cell_type": "markdown",
   "id": "9a61afee",
   "metadata": {
    "slideshow": {
     "slide_type": "slide"
    }
   },
   "source": [
    "or on a different file like this:\n",
    "\n",
    "```bash\n",
    "$ bash middle.sh pentane.pdb\n",
    "```\n",
    "\n"
   ]
  },
  {
   "cell_type": "markdown",
   "id": "0b209aa1",
   "metadata": {
    "slideshow": {
     "slide_type": "fragment"
    }
   },
   "source": [
    "```output\n",
    "ATOM      9  H           1       1.324   0.350  -1.332  1.00  0.00\n",
    "ATOM     10  H           1       1.271   1.378   0.122  1.00  0.00\n",
    "ATOM     11  H           1      -0.074  -0.384   1.288  1.00  0.00\n",
    "ATOM     12  H           1      -0.048  -1.362  -0.205  1.00  0.00\n",
    "ATOM     13  H           1      -1.183   0.500  -1.412  1.00  0.00\n",
    "```"
   ]
  },
  {
   "cell_type": "markdown",
   "id": "hollywood-clerk",
   "metadata": {
    "id": "hollywood-clerk",
    "slideshow": {
     "slide_type": "slide"
    }
   },
   "source": [
    "## 🔔  **Double-Quotes Around Arguments**\n",
    "---\n",
    "\n",
    "For the same reason that we put the loop variable inside double-quotes,\n",
    "in case the filename happens to contain any spaces,\n",
    "we surround `$1` with double-quotes.\n"
   ]
  },
  {
   "cell_type": "markdown",
   "id": "6a1bbc38",
   "metadata": {
    "slideshow": {
     "slide_type": "slide"
    }
   },
   "source": [
    "Currently, we need to edit `middle.sh` each time we want to adjust the range of\n",
    "lines that is returned.\n",
    "Let's fix that by configuring our script to instead use three command-line arguments.\n",
    "After the first command-line argument (`$1`), each additional argument that we\n",
    "provide will be accessible via the special variables `$1`, `$2`, `$3`,\n",
    "which refer to the first, second, third command-line arguments, respectively.\n",
    "\n"
   ]
  },
  {
   "cell_type": "markdown",
   "id": "9cc9054b",
   "metadata": {
    "slideshow": {
     "slide_type": "slide"
    }
   },
   "source": [
    "Knowing this, we can use additional arguments to define the range of lines to\n",
    "be passed to `head` and `tail` respectively:\n",
    "\n"
   ]
  },
  {
   "cell_type": "markdown",
   "id": "92ae14b0",
   "metadata": {
    "slideshow": {
     "slide_type": "fragment"
    }
   },
   "source": [
    "```bash\n",
    "$ nano middle.sh\n",
    "```\n"
   ]
  },
  {
   "cell_type": "markdown",
   "id": "b968c53c",
   "metadata": {
    "slideshow": {
     "slide_type": "fragment"
    }
   },
   "source": [
    "\n",
    "```source\n",
    "head -n \"$2\" \"$1\" | tail -n \"$3\"\n",
    "```\n",
    "\n"
   ]
  },
  {
   "cell_type": "markdown",
   "id": "908f63fb",
   "metadata": {
    "slideshow": {
     "slide_type": "slide"
    }
   },
   "source": [
    "We can now run:\n",
    "\n"
   ]
  },
  {
   "cell_type": "markdown",
   "id": "066ede86",
   "metadata": {
    "slideshow": {
     "slide_type": "fragment"
    }
   },
   "source": [
    "```bash\n",
    "$ bash middle.sh pentane.pdb 15 5\n",
    "```\n",
    "\n"
   ]
  },
  {
   "cell_type": "markdown",
   "id": "23f3d365",
   "metadata": {
    "slideshow": {
     "slide_type": "fragment"
    }
   },
   "source": [
    "```output\n",
    "ATOM      9  H           1       1.324   0.350  -1.332  1.00  0.00\n",
    "ATOM     10  H           1       1.271   1.378   0.122  1.00  0.00\n",
    "ATOM     11  H           1      -0.074  -0.384   1.288  1.00  0.00\n",
    "ATOM     12  H           1      -0.048  -1.362  -0.205  1.00  0.00\n",
    "ATOM     13  H           1      -1.183   0.500  -1.412  1.00  0.00\n",
    "```\n",
    "\n"
   ]
  },
  {
   "cell_type": "markdown",
   "id": "d8e89a95",
   "metadata": {
    "slideshow": {
     "slide_type": "slide"
    }
   },
   "source": [
    "By changing the arguments to our command, we can change our script's\n",
    "behaviour:\n",
    "\n"
   ]
  },
  {
   "cell_type": "markdown",
   "id": "e823fe30",
   "metadata": {
    "slideshow": {
     "slide_type": "fragment"
    }
   },
   "source": [
    "```bash\n",
    "$ bash middle.sh pentane.pdb 20 5\n",
    "```\n",
    "\n"
   ]
  },
  {
   "cell_type": "markdown",
   "id": "f84e19ec",
   "metadata": {
    "slideshow": {
     "slide_type": "fragment"
    }
   },
   "source": [
    "```output\n",
    "ATOM     14  H           1      -1.259   1.420   0.112  1.00  0.00\n",
    "ATOM     15  H           1      -2.608  -0.407   1.130  1.00  0.00\n",
    "ATOM     16  H           1      -2.540  -1.303  -0.404  1.00  0.00\n",
    "ATOM     17  H           1      -3.393   0.254  -0.321  1.00  0.00\n",
    "TER      18              1\n",
    "```\n",
    "\n"
   ]
  },
  {
   "cell_type": "markdown",
   "id": "886c7a01",
   "metadata": {
    "slideshow": {
     "slide_type": "slide"
    }
   },
   "source": [
    "This works,\n",
    "but it may take the next person who reads `middle.sh` a moment to figure out what it does.\n",
    "We can improve our script by adding some **comments** at the top:\n",
    "\n"
   ]
  },
  {
   "cell_type": "markdown",
   "id": "834b29a1",
   "metadata": {
    "slideshow": {
     "slide_type": "fragment"
    }
   },
   "source": [
    "```bash\n",
    "$ nano middle.sh\n",
    "```\n",
    "\n"
   ]
  },
  {
   "cell_type": "markdown",
   "id": "59897ac4",
   "metadata": {
    "slideshow": {
     "slide_type": "fragment"
    }
   },
   "source": [
    "```source\n",
    "# Select lines from the middle of a file.\n",
    "# Usage: bash middle.sh filename end_line num_lines\n",
    "head -n \"$2\" \"$1\" | tail -n \"$3\"\n",
    "```\n",
    "\n"
   ]
  },
  {
   "cell_type": "markdown",
   "id": "a7bcc2b7",
   "metadata": {
    "slideshow": {
     "slide_type": "slide"
    }
   },
   "source": [
    "A comment starts with a `#` character and runs to the end of the line.\n",
    "The computer ignores comments,\n",
    "but they're invaluable for helping people (including your future self) understand and use scripts.\n",
    "The only caveat is that each time you modify the script,\n",
    "you should check that the comment is still accurate. An explanation that sends\n",
    "the reader in the wrong direction is worse than none at all.\n",
    "\n"
   ]
  },
  {
   "cell_type": "markdown",
   "id": "a34a7ab7",
   "metadata": {
    "slideshow": {
     "slide_type": "slide"
    }
   },
   "source": [
    "What if we want to process many files in a single pipeline?\n",
    "For example, if we want to sort our `.pdb` files by length, we would type:\n",
    "\n"
   ]
  },
  {
   "cell_type": "markdown",
   "id": "4bebaa2f",
   "metadata": {
    "slideshow": {
     "slide_type": "fragment"
    }
   },
   "source": [
    "```bash\n",
    "$ wc -l *.pdb | sort -n\n",
    "```\n",
    "\n"
   ]
  },
  {
   "cell_type": "markdown",
   "id": "ee88b631",
   "metadata": {
    "slideshow": {
     "slide_type": "slide"
    }
   },
   "source": [
    "because `wc -l` lists the number of lines in the files\n",
    "(recall that `wc` stands for 'word count', adding the `-l` option means 'count lines' instead)\n",
    "and `sort -n` sorts things numerically.\n",
    "We could put this in a file,\n",
    "but then it would only ever sort a list of `.pdb` files in the current directory.\n"
   ]
  },
  {
   "cell_type": "markdown",
   "id": "b1c2acd9",
   "metadata": {
    "slideshow": {
     "slide_type": "slide"
    }
   },
   "source": [
    "If we want to be able to get a sorted list of other kinds of files,\n",
    "we need a way to get all those names into the script.\n",
    "We can't use `$1`, `$2`, and so on\n",
    "because we don't know how many files there are.\n",
    "Instead, we use the special variable `$@`,\n",
    "which means,\n",
    "'All of the command-line arguments to the shell script'.\n",
    "We also should put `$@` inside double-quotes\n",
    "to handle the case of arguments containing spaces\n",
    "(`\"$@\"` is special syntax and is equivalent to `\"$1\"` `\"$2\"` ...).\n",
    "\n"
   ]
  },
  {
   "cell_type": "markdown",
   "id": "51571df5",
   "metadata": {
    "slideshow": {
     "slide_type": "slide"
    }
   },
   "source": [
    "Here's an example:\n",
    "\n"
   ]
  },
  {
   "cell_type": "markdown",
   "id": "268e1d29",
   "metadata": {
    "slideshow": {
     "slide_type": "fragment"
    }
   },
   "source": [
    "```bash\n",
    "$ nano sorted.sh\n",
    "```\n"
   ]
  },
  {
   "cell_type": "markdown",
   "id": "6bb3a3d1",
   "metadata": {
    "slideshow": {
     "slide_type": "fragment"
    }
   },
   "source": [
    "\n",
    "```source\n",
    "# Sort files by their length.\n",
    "# Usage: bash sorted.sh one_or_more_filenames\n",
    "wc -l \"$@\" | sort -n\n",
    "```\n"
   ]
  },
  {
   "cell_type": "markdown",
   "id": "4823eeb4",
   "metadata": {
    "slideshow": {
     "slide_type": "slide"
    }
   },
   "source": [
    "\n",
    "```bash\n",
    "$ bash sorted.sh *.pdb ../creatures/*.dat\n",
    "```\n",
    "\n"
   ]
  },
  {
   "cell_type": "markdown",
   "id": "6941493a",
   "metadata": {
    "slideshow": {
     "slide_type": "fragment"
    }
   },
   "source": [
    "```output\n",
    "9 methane.pdb\n",
    "12 ethane.pdb\n",
    "15 propane.pdb\n",
    "20 cubane.pdb\n",
    "21 pentane.pdb\n",
    "30 octane.pdb\n",
    "163 ../creatures/basilisk.dat\n",
    "163 ../creatures/minotaur.dat\n",
    "163 ../creatures/unicorn.dat\n",
    "596 total\n",
    "```\n"
   ]
  },
  {
   "cell_type": "markdown",
   "id": "Ue1fIkXt4Ahu",
   "metadata": {
    "id": "Ue1fIkXt4Ahu",
    "slideshow": {
     "slide_type": "slide"
    }
   },
   "source": [
    "## <p style=\"background-color: #f5df18; padding: 10px;\"> 🛑 List Unique Species </p>\n",
    "\n",
    "---\n",
    "\n",
    "Leah has several hundred data files, each of which is formatted like this:\n",
    "\n",
    "```source\n",
    "2013-11-05,deer,5\n",
    "2013-11-05,rabbit,22\n",
    "2013-11-05,raccoon,7\n",
    "2013-11-06,rabbit,19\n",
    "2013-11-06,deer,2\n",
    "2013-11-06,fox,1\n",
    "2013-11-07,rabbit,18\n",
    "2013-11-07,bear,1\n",
    "```\n",
    "\n",
    "An example of this type of file is given in\n",
    "`shell-lesson-data/exercise-data/animal-counts/animals.csv`.\n",
    "\n",
    "We can use the command `cut -d , -f 2 animals.csv | sort | uniq` to produce\n",
    "the unique species in `animals.csv`.\n",
    "In order to avoid having to type out this series of commands every time,\n",
    "a scientist may choose to write a shell script instead.\n",
    "\n",
    "Write a shell script called `species.sh` that takes any number of\n",
    "filenames as command-line arguments and uses a variation of the above command\n",
    "to print a list of the unique species appearing in each of those files separately."
   ]
  },
  {
   "cell_type": "code",
   "execution_count": null,
   "id": "b70bf1b4",
   "metadata": {
    "slideshow": {
     "slide_type": "-"
    }
   },
   "outputs": [],
   "source": [
    "### your answer here ###"
   ]
  },
  {
   "cell_type": "markdown",
   "id": "fd85a2f1",
   "metadata": {
    "id": "aBF5H4_1kYOL",
    "slideshow": {
     "slide_type": "slide"
    }
   },
   "source": [
    "Suppose we have just run a series of commands that did something useful --- for example,\n",
    "creating a graph we'd like to use in a paper.\n",
    "We'd like to be able to re-create the graph later if we need to,\n",
    "so we want to save the commands in a file.\n",
    "Instead of typing them in again\n",
    "(and potentially getting them wrong)\n",
    "we can do this:\n",
    "\n"
   ]
  },
  {
   "cell_type": "markdown",
   "id": "24087ce8",
   "metadata": {
    "slideshow": {
     "slide_type": "fragment"
    }
   },
   "source": [
    "```bash\n",
    "$ history | tail -n 5 > redo-figure-3.sh\n",
    "```\n",
    "\n"
   ]
  },
  {
   "cell_type": "markdown",
   "id": "f69204be",
   "metadata": {
    "slideshow": {
     "slide_type": "slide"
    }
   },
   "source": [
    "The file `redo-figure-3.sh` now contains:\n",
    "\n"
   ]
  },
  {
   "cell_type": "markdown",
   "id": "554e0529",
   "metadata": {
    "slideshow": {
     "slide_type": "fragment"
    }
   },
   "source": [
    "```source\n",
    "297 bash goostats.sh NENE01729B.txt stats-NENE01729B.txt\n",
    "298 bash goodiff.sh stats-NENE01729B.txt /data/validated/01729.txt > 01729-differences.txt\n",
    "299 cut -d ',' -f 2-3 01729-differences.txt > 01729-time-series.txt\n",
    "300 ygraph --format scatter --color bw --borders none 01729-time-series.txt figure-3.png\n",
    "301 history | tail -n 5 > redo-figure-3.sh\n",
    "```\n",
    "\n"
   ]
  },
  {
   "cell_type": "markdown",
   "id": "e560a666",
   "metadata": {
    "slideshow": {
     "slide_type": "fragment"
    }
   },
   "source": [
    "After a moment's work in an editor to remove the serial numbers on the commands,\n",
    "and to remove the final line where we called the `history` command,\n",
    "we have a completely accurate record of how we created that figure."
   ]
  },
  {
   "cell_type": "markdown",
   "id": "xP8epXpCRRv9",
   "metadata": {
    "id": "xP8epXpCRRv9",
    "slideshow": {
     "slide_type": "slide"
    }
   },
   "source": [
    "## <p style=\"background-color: #f5df18; padding: 10px;\"> 🛑 Why Record Commands in the History Before Running Them?</p>\n",
    "\n",
    "\n",
    "\n",
    "If you run the command:\n",
    "\n",
    "```bash\n",
    "$ history | tail -n 5 > recent.sh\n",
    "```\n",
    "\n",
    "the last command in the file is the `history` command itself, i.e.,\n",
    "the shell has added `history` to the command log before actually\n",
    "running it. In fact, the shell *always* adds commands to the log\n",
    "before running them. Why do you think it does this?"
   ]
  },
  {
   "cell_type": "code",
   "execution_count": null,
   "id": "e8d0b838",
   "metadata": {
    "id": "i9rxWLAz6ORF",
    "slideshow": {
     "slide_type": "-"
    }
   },
   "outputs": [],
   "source": [
    "### your answer here ###"
   ]
  },
  {
   "cell_type": "markdown",
   "id": "tyMrTbrRReoe",
   "metadata": {
    "id": "tyMrTbrRReoe",
    "slideshow": {
     "slide_type": "slide"
    }
   },
   "source": [
    "In practice, most people develop shell scripts by running commands\n",
    "at the shell prompt a few times\n",
    "to make sure they're doing the right thing,\n",
    "then saving them in a file for re-use.\n",
    "This style of work allows people to recycle\n",
    "what they discover about their data and their workflow with one call to `history`\n",
    "and a bit of editing to clean up the output\n",
    "and save it as a shell script.\n"
   ]
  },
  {
   "cell_type": "markdown",
   "id": "d27b7607",
   "metadata": {
    "slideshow": {
     "slide_type": "slide"
    }
   },
   "source": [
    "## Nelle's Pipeline: Creating a Script\n",
    "\n",
    "Nelle's supervisor insisted that all her analytics must be reproducible.\n",
    "The easiest way to capture all the steps is in a script.\n",
    "\n",
    "First we return to Nelle's project directory:\n",
    "\n"
   ]
  },
  {
   "cell_type": "markdown",
   "id": "d6441379",
   "metadata": {
    "slideshow": {
     "slide_type": "fragment"
    }
   },
   "source": [
    "```bash\n",
    "$ cd ../../north-pacific-gyre/\n",
    "```\n",
    "\n"
   ]
  },
  {
   "cell_type": "markdown",
   "id": "ed1baaf0",
   "metadata": {
    "slideshow": {
     "slide_type": "slide"
    }
   },
   "source": [
    "She creates a file using `nano` ...\n",
    "\n"
   ]
  },
  {
   "cell_type": "markdown",
   "id": "7ad5d6cc",
   "metadata": {
    "slideshow": {
     "slide_type": "fragment"
    }
   },
   "source": [
    "```bash\n",
    "$ nano do-stats.sh\n",
    "```\n",
    "\n"
   ]
  },
  {
   "cell_type": "markdown",
   "id": "c45a7a7d",
   "metadata": {
    "slideshow": {
     "slide_type": "fragment"
    }
   },
   "source": [
    "...which contains the following:\n",
    "\n",
    "```bash\n",
    "# Calculate stats for data files.\n",
    "for datafile in \"$@\"\n",
    "do\n",
    "    echo $datafile\n",
    "    bash goostats.sh $datafile stats-$datafile\n",
    "done\n",
    "```\n",
    "\n"
   ]
  },
  {
   "cell_type": "markdown",
   "id": "f0873c27",
   "metadata": {
    "slideshow": {
     "slide_type": "slide"
    }
   },
   "source": [
    "She saves this in a file called `do-stats.sh`\n",
    "so that she can now re-do the first stage of her analysis by typing:\n",
    "\n"
   ]
  },
  {
   "cell_type": "markdown",
   "id": "a63f7fe3",
   "metadata": {
    "slideshow": {
     "slide_type": "fragment"
    }
   },
   "source": [
    "```bash\n",
    "$ bash do-stats.sh NENE*A.txt NENE*B.txt\n",
    "```\n",
    "\n"
   ]
  },
  {
   "cell_type": "markdown",
   "id": "8e800839",
   "metadata": {
    "slideshow": {
     "slide_type": "fragment"
    }
   },
   "source": [
    "She can also do this:\n",
    "\n",
    "```bash\n",
    "$ bash do-stats.sh NENE*A.txt NENE*B.txt | wc -l\n",
    "```\n",
    "\n"
   ]
  },
  {
   "cell_type": "markdown",
   "id": "25e60aaf",
   "metadata": {
    "slideshow": {
     "slide_type": "fragment"
    }
   },
   "source": [
    "so that the output is just the number of files processed\n",
    "rather than the names of the files that were processed.\n",
    "\n"
   ]
  },
  {
   "cell_type": "markdown",
   "id": "5eaf332d",
   "metadata": {
    "slideshow": {
     "slide_type": "slide"
    }
   },
   "source": [
    "One thing to note about Nelle's script is that\n",
    "it lets the person running it decide what files to process.\n",
    "She could have written it as:\n",
    "\n"
   ]
  },
  {
   "cell_type": "markdown",
   "id": "d94c4782",
   "metadata": {
    "slideshow": {
     "slide_type": "fragment"
    }
   },
   "source": [
    "```bash\n",
    "# Calculate stats for Site A and Site B data files.\n",
    "for datafile in NENE*A.txt NENE*B.txt\n",
    "do\n",
    "    echo $datafile\n",
    "    bash goostats.sh $datafile stats-$datafile\n",
    "done\n",
    "```\n",
    "\n"
   ]
  },
  {
   "cell_type": "markdown",
   "id": "e89e5bb6",
   "metadata": {
    "slideshow": {
     "slide_type": "fragment"
    }
   },
   "source": [
    "The advantage is that this always selects the right files:\n",
    "she doesn't have to remember to exclude the 'Z' files.\n",
    "The disadvantage is that it *always* selects just those files --- she can't run it on all files\n",
    "(including the 'Z' files),\n",
    "or on the 'G' or 'H' files her colleagues in Antarctica are producing,\n",
    "without editing the script.\n",
    "If she wanted to be more adventurous,\n",
    "she could modify her script to check for command-line arguments,\n",
    "and use `NENE*A.txt NENE*B.txt` if none were provided.\n",
    "Of course, this introduces another tradeoff between flexibility and complexity.\n"
   ]
  },
  {
   "cell_type": "markdown",
   "id": "95ff8c04",
   "metadata": {
    "slideshow": {
     "slide_type": "slide"
    }
   },
   "source": [
    "## <p style=\"background-color: #f5df18; padding: 10px;\"> 🛑 Variables in Shell Scripts</p>\n",
    "\n",
    "\n",
    "\n",
    "In the `alkanes` directory, imagine you have a shell script called `script.sh` containing the\n",
    "following commands:\n",
    "\n",
    "```bash\n",
    "head -n $2 $1\n",
    "tail -n $3 $1\n",
    "```\n",
    "\n",
    "While you are in the `alkanes` directory, you type the following command:\n",
    "\n",
    "```bash\n",
    "$ bash script.sh '*.pdb' 1 1\n",
    "```\n",
    "\n",
    "Which of the following outputs would you expect to see?\n",
    "\n",
    "1. All of the lines between the first and the last lines of each file ending in `.pdb`\n",
    "  in the `alkanes` directory\n",
    "2. The first and the last line of each file ending in `.pdb` in the `alkanes` directory\n",
    "3. The first and the last line of each file in the `alkanes` directory\n",
    "4. An error because of the quotes around `*.pdb`\n"
   ]
  },
  {
   "cell_type": "code",
   "execution_count": null,
   "id": "29dcfebf",
   "metadata": {
    "slideshow": {
     "slide_type": "-"
    }
   },
   "outputs": [],
   "source": [
    "### your answer here ###"
   ]
  },
  {
   "cell_type": "markdown",
   "id": "703e0dd1",
   "metadata": {
    "slideshow": {
     "slide_type": "slide"
    }
   },
   "source": [
    "## <p style=\"background-color: #f5df18; padding: 10px;\"> 🛑 Find the Longest File With a Given Extension</p>\n",
    "\n",
    "Write a shell script called `longest.sh` that takes the name of a\n",
    "directory and a filename extension as its arguments, and prints\n",
    "out the name of the file with the most lines in that directory\n",
    "with that extension. For example:\n",
    "\n",
    "```bash\n",
    "$ bash longest.sh shell-lesson-data/exercise-data/alkanes pdb\n",
    "```\n",
    "\n",
    "would print the name of the `.pdb` file in `shell-lesson-data/exercise-data/alkanes` that has\n",
    "the most lines.\n",
    "\n",
    "Feel free to test your script on another directory e.g.\n",
    "\n",
    "```bash\n",
    "$ bash longest.sh shell-lesson-data/exercise-data/writing txt\n",
    "```"
   ]
  },
  {
   "cell_type": "code",
   "execution_count": null,
   "id": "5feca4db",
   "metadata": {
    "slideshow": {
     "slide_type": "-"
    }
   },
   "outputs": [],
   "source": [
    "### your answer here ###"
   ]
  },
  {
   "cell_type": "markdown",
   "id": "8e256344",
   "metadata": {
    "slideshow": {
     "slide_type": "slide"
    }
   },
   "source": [
    "## <p style=\"background-color: #f5df18; padding: 10px;\"> 🛑 Script Reading Comprehension</p>\n",
    "\n",
    "\n",
    "For this question, consider the `shell-lesson-data/exercise-data/alkanes` directory once again.\n",
    "This contains a number of `.pdb` files in addition to any other files you\n",
    "may have created.\n",
    "Explain what each of the following three scripts would do when run as\n",
    "`bash script1.sh *.pdb`, `bash script2.sh *.pdb`, and `bash script3.sh *.pdb` respectively.\n",
    "\n",
    "```bash\n",
    "# Script 1\n",
    "echo *.*\n",
    "```\n",
    "\n",
    "```bash\n",
    "# Script 2\n",
    "for filename in $1 $2 $3\n",
    "do\n",
    "    cat $filename\n",
    "done\n",
    "```\n",
    "\n",
    "```bash\n",
    "# Script 3\n",
    "echo $@.pdb\n",
    "```"
   ]
  },
  {
   "cell_type": "code",
   "execution_count": null,
   "id": "156d8bf0",
   "metadata": {
    "slideshow": {
     "slide_type": "-"
    }
   },
   "outputs": [],
   "source": [
    "### your answer here ###"
   ]
  },
  {
   "cell_type": "markdown",
   "id": "e95cc798",
   "metadata": {
    "slideshow": {
     "slide_type": "slide"
    }
   },
   "source": [
    "## <p style=\"background-color: #f5df18; padding: 10px;\"> 🛑 Debugging Scripts</p>\n",
    "\n",
    "\n",
    "Suppose you have saved the following script in a file called `do-errors.sh`\n",
    "in Nelle's `north-pacific-gyre` directory:\n",
    "\n",
    "```bash\n",
    "# Calculate stats for data files.\n",
    "for datafile in \"$@\"\n",
    "do\n",
    "    echo $datfile\n",
    "    bash goostats.sh $datafile stats-$datafile\n",
    "done\n",
    "```\n",
    "\n",
    "When you run it from the `north-pacific-gyre` directory:\n",
    "\n",
    "```bash\n",
    "$ bash do-errors.sh NENE*A.txt NENE*B.txt\n",
    "```\n",
    "\n",
    "the output is blank.\n",
    "To figure out why, re-run the script using the `-x` option:\n",
    "\n",
    "```bash\n",
    "$ bash -x do-errors.sh NENE*A.txt NENE*B.txt\n",
    "```\n",
    "\n",
    "What is the output showing you?\n",
    "Which line is responsible for the error?"
   ]
  },
  {
   "cell_type": "code",
   "execution_count": null,
   "id": "fdaa17b5",
   "metadata": {
    "slideshow": {
     "slide_type": "-"
    }
   },
   "outputs": [],
   "source": [
    "### your answer here ###"
   ]
  },
  {
   "cell_type": "markdown",
   "id": "c3xyuFI9k7XT",
   "metadata": {
    "id": "c3xyuFI9k7XT",
    "slideshow": {
     "slide_type": "slide"
    }
   },
   "source": [
    "# <p style=\"background-color: #f5df18; padding: 10px;\"> 🗝️ Key points</p>\n",
    "\n",
    "---\n",
    "\n",
    "- Save commands in files (usually called shell scripts) for re-use.\n",
    "- `bash [filename]` runs the commands saved in a file.\n",
    "- `$@` refers to all of a shell script's command-line arguments.\n",
    "- `$1`, `$2`, etc., refer to the first command-line argument, the second command-line argument, etc.\n",
    "- Place variables in quotes if the values might have spaces in them.\n",
    "- Letting users decide what files to process is more flexible and more consistent with built-in Unix commands."
   ]
  }
 ],
 "metadata": {
  "celltoolbar": "Slideshow",
  "colab": {
   "provenance": []
  },
  "kernelspec": {
   "display_name": "Python 3 (ipykernel)",
   "language": "python",
   "name": "python3"
  },
  "language_info": {
   "codemirror_mode": {
    "name": "ipython",
    "version": 3
   },
   "file_extension": ".py",
   "mimetype": "text/x-python",
   "name": "python",
   "nbconvert_exporter": "python",
   "pygments_lexer": "ipython3",
   "version": "3.11.3"
  },
  "toc-showcode": true
 },
 "nbformat": 4,
 "nbformat_minor": 5
}
