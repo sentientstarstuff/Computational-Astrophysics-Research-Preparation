{
 "cells": [
  {
   "cell_type": "markdown",
   "id": "labeled-firewall",
   "metadata": {
    "id": "labeled-firewall",
    "slideshow": {
     "slide_type": "slide"
    }
   },
   "source": [
    "# <p style=\"background-color: #f5df18; padding: 10px;\">The Unix Shell | **Working With Files and Directories** </p>\n",
    "\n",
    "\n",
    "\n",
    "### <strong>Instructor: <span style=\"color: darkblue;\">Name (Affliation)</span></strong>\n",
    "\n",
    "Estimated completion time: 🕚 50 minutes\n",
    "\n"
   ]
  },
  {
   "cell_type": "markdown",
   "id": "30c98737",
   "metadata": {
    "slideshow": {
     "slide_type": "slide"
    }
   },
   "source": [
    "<div style=\"display: flex;\">\n",
    "    <div style=\"flex: 1; margin-right: 20px;\">\n",
    "        <h2>Questions</h2>\n",
    "        <ul>\n",
    "            <li>How can I create, copy, and delete files and directories?</li>\n",
    "    <li>How can I edit files?</li>\n",
    "        </ul>\n",
    "    </div>\n",
    "    <div style=\"flex: 1;\">\n",
    "        <h2>Learning Objectives</h2>\n",
    "        <ul> \n",
    "            <li>Create a directory hierarchy that matches a given diagram.</li>\n",
    "    <li>Create files in that hierarchy using an editor or by copying and renaming existing files.</li>\n",
    "    <li>Delete, copy, and move specified files and/or directories.</li>\n",
    "        </ul>\n",
    "    </div>\n",
    "</div>\n"
   ]
  },
  {
   "cell_type": "markdown",
   "id": "pressed-commerce",
   "metadata": {
    "id": "pressed-commerce",
    "slideshow": {
     "slide_type": "slide"
    },
    "tags": []
   },
   "source": [
    "## Creating directories\n",
    "\n",
    "We now know how to explore files and directories,\n",
    "but how do we create them in the first place?\n",
    "\n",
    "In this episode we will learn about creating and moving files and directories,\n",
    "using the `exercise-data/writing` directory as an example."
   ]
  },
  {
   "cell_type": "markdown",
   "id": "0bb9216d",
   "metadata": {
    "slideshow": {
     "slide_type": "slide"
    }
   },
   "source": [
    "### Step one: see where we are and what we already have\n",
    "\n",
    "We should still be in the `shell-lesson-data` directory on the Desktop,\n",
    "which we can check using:\n",
    "\n"
   ]
  },
  {
   "cell_type": "markdown",
   "id": "ae5c68cd",
   "metadata": {
    "slideshow": {
     "slide_type": "fragment"
    }
   },
   "source": [
    "```bash\n",
    "$ pwd\n",
    "```\n",
    "\n"
   ]
  },
  {
   "cell_type": "markdown",
   "id": "2151e3ca",
   "metadata": {
    "slideshow": {
     "slide_type": "fragment"
    }
   },
   "source": [
    "```output\n",
    "/Users/nelle/Desktop/shell-lesson-data\n",
    "```"
   ]
  },
  {
   "cell_type": "markdown",
   "id": "09a8daa3",
   "metadata": {
    "slideshow": {
     "slide_type": "slide"
    }
   },
   "source": [
    "\n",
    "Next we'll move to the `exercise-data/writing` directory and see what it contains:\n",
    "\n",
    "\n"
   ]
  },
  {
   "cell_type": "markdown",
   "id": "fb7ab7a0",
   "metadata": {
    "slideshow": {
     "slide_type": "fragment"
    }
   },
   "source": [
    "```bash\n",
    "$ cd exercise-data/writing/\n",
    "$ ls -F\n",
    "```\n"
   ]
  },
  {
   "cell_type": "markdown",
   "id": "ec105c63",
   "metadata": {
    "slideshow": {
     "slide_type": "fragment"
    }
   },
   "source": [
    "```output\n",
    "haiku.txt  LittleWomen.txt\n",
    "```"
   ]
  },
  {
   "cell_type": "markdown",
   "id": "6bdcdf42",
   "metadata": {
    "slideshow": {
     "slide_type": "slide"
    }
   },
   "source": [
    "### Create a directory\n",
    "\n",
    "Let's create a new directory called `thesis` using the command `mkdir thesis`\n",
    "(which has no output):\n",
    "\n",
    "```bash\n",
    "$ mkdir thesis\n",
    "```"
   ]
  },
  {
   "cell_type": "markdown",
   "id": "357e2859",
   "metadata": {
    "slideshow": {
     "slide_type": "slide"
    }
   },
   "source": [
    "As you might guess from its name,\n",
    "`mkdir` means 'make directory'.\n",
    "Since `thesis` is a relative path\n",
    "(i.e., does not have a leading slash, like `/what/ever/thesis`),\n",
    "the new directory is created in the current working directory:\n",
    "\n"
   ]
  },
  {
   "cell_type": "markdown",
   "id": "10fd9a4f",
   "metadata": {
    "slideshow": {
     "slide_type": "fragment"
    }
   },
   "source": [
    "```bash\n",
    "$ ls -F\n",
    "```"
   ]
  },
  {
   "cell_type": "markdown",
   "id": "ef2b871b",
   "metadata": {
    "slideshow": {
     "slide_type": "fragment"
    }
   },
   "source": [
    "```output\n",
    "haiku.txt  LittleWomen.txt  thesis/\n",
    "```\n"
   ]
  },
  {
   "cell_type": "markdown",
   "id": "3a0d5338",
   "metadata": {
    "slideshow": {
     "slide_type": "slide"
    }
   },
   "source": [
    "\n",
    "Since we've just created the `thesis` directory, there's nothing in it yet:\n",
    "\n",
    "\n",
    "\n"
   ]
  },
  {
   "cell_type": "markdown",
   "id": "3849cf87",
   "metadata": {
    "slideshow": {
     "slide_type": "fragment"
    }
   },
   "source": [
    "```bash\n",
    "$ ls -F thesis\n",
    "```\n"
   ]
  },
  {
   "cell_type": "markdown",
   "id": "306356a9",
   "metadata": {
    "slideshow": {
     "slide_type": "slide"
    }
   },
   "source": [
    "Note that `mkdir` is not limited to creating single directories one at a time.\n",
    "The `-p` option allows `mkdir` to create a directory with nested subdirectories\n",
    "in a single operation:"
   ]
  },
  {
   "cell_type": "markdown",
   "id": "c6059236",
   "metadata": {
    "slideshow": {
     "slide_type": "fragment"
    }
   },
   "source": [
    "```bash\n",
    "$ mkdir -p ../project/data ../project/results\n",
    "```"
   ]
  },
  {
   "cell_type": "markdown",
   "id": "ff2fbf45",
   "metadata": {
    "slideshow": {
     "slide_type": "slide"
    }
   },
   "source": [
    "The `-R` option to the `ls` command will list all nested subdirectories within a directory.\n",
    "Let's use `ls -FR` to recursively list the new directory hierarchy we just created in the\n",
    "`project` directory:"
   ]
  },
  {
   "cell_type": "markdown",
   "id": "eb1d6d1e",
   "metadata": {
    "slideshow": {
     "slide_type": "fragment"
    }
   },
   "source": [
    "```bash\n",
    "$ ls -FR ../project\n",
    "```"
   ]
  },
  {
   "cell_type": "markdown",
   "id": "f35db336",
   "metadata": {
    "slideshow": {
     "slide_type": "fragment"
    }
   },
   "source": [
    "```output\n",
    "../project/:\n",
    "data/  results/\n",
    "\n",
    "../project/data:\n",
    "\n",
    "../project/results:\n",
    "```"
   ]
  },
  {
   "cell_type": "markdown",
   "id": "bf8edb88",
   "metadata": {
    "slideshow": {
     "slide_type": "slide"
    }
   },
   "source": [
    "## 🔔   Two ways of doing the same thing\n",
    "---\n",
    "\n",
    "Using the shell to create a directory is no different than using a file explorer.\n",
    "If you open the current directory using your operating system's graphical file explorer,\n",
    "the `thesis` directory will appear there too.\n",
    "While the shell and the file explorer are two different ways of interacting with the files,\n",
    "the files and directories themselves are the same.\n",
    "\n"
   ]
  },
  {
   "cell_type": "markdown",
   "id": "vertical-yellow",
   "metadata": {
    "id": "vertical-yellow",
    "jp-MarkdownHeadingCollapsed": true,
    "slideshow": {
     "slide_type": "slide"
    },
    "tags": []
   },
   "source": [
    "## 🔔  Good names for files and directories\n",
    "---\n",
    "\n",
    "Complicated names of files and directories can make your life painful\n",
    "when working on the command line. Here we provide a few useful\n",
    "tips for the names of your files and directories."
   ]
  },
  {
   "cell_type": "markdown",
   "id": "86c83085",
   "metadata": {
    "slideshow": {
     "slide_type": "slide"
    }
   },
   "source": [
    "1. Don't use spaces.\n",
    "\n",
    "Spaces can make a name more meaningful,\n",
    "but since spaces are used to separate arguments on the command line\n",
    "it is better to avoid them in names of files and directories.\n",
    "You can use `-` or `_` instead (e.g. `north-pacific-gyre/` rather than `north pacific gyre/`).\n",
    "To test this out, try typing `mkdir north pacific gyre` and see what directory (or directories!)\n",
    "are made when you check with `ls -F`.\n"
   ]
  },
  {
   "cell_type": "markdown",
   "id": "a3f0b8b8",
   "metadata": {
    "slideshow": {
     "slide_type": "slide"
    }
   },
   "source": [
    "2. Don't begin the name with `-` (dash).\n",
    "\n",
    "Commands treat names starting with `-` as options.\n",
    "\n"
   ]
  },
  {
   "cell_type": "markdown",
   "id": "ee8bbbb2",
   "metadata": {
    "slideshow": {
     "slide_type": "slide"
    }
   },
   "source": [
    "3. Stick with letters, numbers, `.` (period or 'full stop'), `-` (dash) and `_` (underscore).\n",
    "\n",
    "Many other characters have special meanings on the command line.\n",
    "We will learn about some of these during this lesson.\n",
    "There are special characters that can cause your command to not work as\n",
    "expected and can even result in data loss.\n",
    "\n",
    "If you need to refer to names of files or directories that have spaces\n",
    "or other special characters, you should surround the name in single\n",
    "[quotes](https://www.gnu.org/software/bash/manual/html_node/Quoting.html) (`''`)."
   ]
  },
  {
   "cell_type": "markdown",
   "id": "hollywood-clerk",
   "metadata": {
    "id": "hollywood-clerk",
    "slideshow": {
     "slide_type": "slide"
    }
   },
   "source": [
    "### Create a text file\n",
    "\n",
    "Let's change our working directory to `thesis` using `cd`,\n",
    "then run a text editor called Nano to create a file called `draft.txt`:\n",
    "\n",
    "```bash\n",
    "$ cd thesis\n",
    "$ nano draft.txt\n",
    "```\n"
   ]
  },
  {
   "cell_type": "markdown",
   "id": "36a1b1a2",
   "metadata": {
    "slideshow": {
     "slide_type": "slide"
    }
   },
   "source": [
    "## 🔔   Which Editor?\n",
    "---\n",
    "\n",
    "When we say, '`nano` is a text editor' we really do mean 'text'. It can\n",
    "only work with plain character data, not tables, images, or any other\n",
    "human-friendly media. We use it in examples because it is one of the\n",
    "least complex text editors. However, because of this trait, it may\n",
    "not be powerful enough or flexible enough for the work you need to do\n",
    "after this workshop. On Unix systems (such as Linux and macOS),\n",
    "many programmers use [Emacs](https://www.gnu.org/software/emacs/) or\n",
    "[Vim](https://www.vim.org/) (both of which require more time to learn),\n",
    "or a graphical editor such as [Gedit](https://projects.gnome.org/gedit/)\n",
    "or [VScode](https://code.visualstudio.com/). On Windows, you may wish to\n",
    "use [Notepad++](https://notepad-plus-plus.org/).  Windows also has a built-in\n",
    "editor called `notepad` that can be run from the command line in the same\n",
    "way as `nano` for the purposes of this lesson."
   ]
  },
  {
   "cell_type": "markdown",
   "id": "9fa5081d",
   "metadata": {
    "slideshow": {
     "slide_type": "fragment"
    }
   },
   "source": [
    "No matter what editor you use, you will need to know where it searches\n",
    "for and saves files. If you start it from the shell, it will (probably)\n",
    "use your current working directory as its default location. If you use\n",
    "your computer's start menu, it may want to save files in your Desktop or\n",
    "Documents directory instead. You can change this by navigating to\n",
    "another directory the first time you 'Save As...'"
   ]
  },
  {
   "cell_type": "markdown",
   "id": "0cfc949c",
   "metadata": {
    "slideshow": {
     "slide_type": "slide"
    }
   },
   "source": [
    "Let's type in a few lines of text.\n",
    "\n",
    "<img src=\"https://swcarpentry.github.io/shell-novice/fig/nano-screenshot.png\">\n"
   ]
  },
  {
   "cell_type": "markdown",
   "id": "7d1f6306",
   "metadata": {
    "slideshow": {
     "slide_type": "slide"
    }
   },
   "source": [
    "Once we're happy with our text, we can press <kbd>Ctrl</kbd>\\+<kbd>O</kbd>\n",
    "(press the <kbd>Ctrl</kbd> or <kbd>Control</kbd> key and, while\n",
    "holding it down, press the <kbd>O</kbd> key) to write our data to disk. We will be asked\n",
    "to provide a name for the file that will contain our text. Press <kbd>Return</kbd> to accept\n",
    "the suggested default of `draft.txt`.\n",
    "\n",
    "Once our file is saved, we can use <kbd>Ctrl</kbd>\\+<kbd>X</kbd> to quit the editor and\n",
    "return to the shell."
   ]
  },
  {
   "cell_type": "markdown",
   "id": "norwegian-multiple",
   "metadata": {
    "id": "norwegian-multiple",
    "slideshow": {
     "slide_type": "slide"
    }
   },
   "source": [
    "## 🔔   Control, Ctrl, or ^ Key\n",
    "---\n",
    "\n",
    "The Control key is also called the 'Ctrl' key. There are various ways\n",
    "in which using the Control key may be described. For example, you may\n",
    "see an instruction to press the <kbd>Control</kbd> key and, while holding it down,\n",
    "press the <kbd>X</kbd> key, described as any of:\n",
    "\n",
    "- `Control-X`\n",
    "- `Control+X`\n",
    "- `Ctrl-X`\n",
    "- `Ctrl+X`\n",
    "- `^X`\n",
    "- `C-x`\n",
    "\n",
    "In nano, along the bottom of the screen you'll see `^G Get Help ^O WriteOut`.\n",
    "This means that you can use `Control-G` to get help and `Control-O` to save your\n",
    "file."
   ]
  },
  {
   "cell_type": "markdown",
   "id": "36ae627f",
   "metadata": {
    "slideshow": {
     "slide_type": "slide"
    }
   },
   "source": [
    "`nano` doesn't leave any output on the screen after it exits,\n",
    "but `ls` now shows that we have created a file called `draft.txt`:"
   ]
  },
  {
   "cell_type": "markdown",
   "id": "f1e2ab19",
   "metadata": {
    "slideshow": {
     "slide_type": "fragment"
    }
   },
   "source": [
    "```bash\n",
    "$ ls\n",
    "```\n",
    "\n"
   ]
  },
  {
   "cell_type": "markdown",
   "id": "9d0a5518",
   "metadata": {
    "slideshow": {
     "slide_type": "fragment"
    }
   },
   "source": [
    "```output\n",
    "draft.txt\n",
    "```"
   ]
  },
  {
   "cell_type": "markdown",
   "id": "AGmylKKlQWm5",
   "metadata": {
    "id": "AGmylKKlQWm5",
    "slideshow": {
     "slide_type": "slide"
    }
   },
   "source": [
    "## <p style=\"background-color: #f5df18; padding: 10px;\"> 🛑 Creating Files a Different Way\n",
    " </p>\n",
    "\n",
    "---\n",
    "\n",
    "We have seen how to create text files using the `nano` editor.\n",
    "Now, try the following command:\n",
    "\n",
    "```bash\n",
    "$ touch my_file.txt\n",
    "```\n",
    "\n",
    "1. What did the `touch` command do?\n",
    "  When you look at your current directory using the GUI file explorer,\n",
    "  does the file show up?\n",
    "\n",
    "2. Use `ls -l` to inspect the files.  How large is `my_file.txt`?\n",
    "\n",
    "3. When might you want to create a file this way?"
   ]
  },
  {
   "cell_type": "code",
   "execution_count": null,
   "id": "972ab674",
   "metadata": {},
   "outputs": [],
   "source": [
    "### your answer here ###"
   ]
  },
  {
   "cell_type": "markdown",
   "id": "a4f9fe0c",
   "metadata": {
    "slideshow": {
     "slide_type": "slide"
    }
   },
   "source": [
    "## <p style=\"background-color: #f5df18; padding: 10px;\"> 💬 Creating Files a Different Way (continued)\n",
    " </p>\n",
    "\n",
    "---\n",
    "\n",
    "To avoid confusion later on,\n",
    "we suggest removing the file you've just created before proceeding with the rest\n",
    "of the episode, otherwise future outputs may vary from those given in the lesson.\n",
    "To do this, use the following command:\n",
    "\n",
    "```bash\n",
    "$ rm my_file.txt\n",
    "```"
   ]
  },
  {
   "cell_type": "markdown",
   "id": "bc45843b",
   "metadata": {
    "slideshow": {
     "slide_type": "slide"
    }
   },
   "source": [
    "## 🔔   What's In A Name?\n",
    "---\n",
    "\n",
    "You may have noticed that all of Nelle's files are named 'something dot\n",
    "something', and in this part of the lesson, we always used the extension\n",
    "`.txt`.  This is just a convention; we can call a file `mythesis` or\n",
    "almost anything else we want. However, most people use two-part names\n",
    "most of the time to help them (and their programs) tell different kinds\n",
    "of files apart. The second part of such a name is called the\n",
    "**filename extension** and indicates\n",
    "what type of data the file holds: `.txt` signals a plain text file, `.pdf`\n",
    "indicates a PDF document, `.cfg` is a configuration file full of parameters\n",
    "for some program or other, `.png` is a PNG image, and so on."
   ]
  },
  {
   "cell_type": "markdown",
   "id": "385b8a9c",
   "metadata": {
    "slideshow": {
     "slide_type": "fragment"
    }
   },
   "source": [
    "\n",
    "This is just a convention, albeit an important one. Files merely contain\n",
    "bytes; it's up to us and our programs to interpret those bytes\n",
    "according to the rules for plain text files, PDF documents, configuration\n",
    "files, images, and so on."
   ]
  },
  {
   "cell_type": "markdown",
   "id": "bbabfa3c",
   "metadata": {
    "slideshow": {
     "slide_type": "fragment"
    }
   },
   "source": [
    "Naming a PNG image of a whale as `whale.mp3` doesn't somehow\n",
    "magically turn it into a recording of whale song, though it *might*\n",
    "cause the operating system to associate the file with a music player\n",
    "program. In this case, if someone double-clicked `whale.mp3` in a file\n",
    "explorer program, the music player will automatically (and erroneously)\n",
    "attempt to open the `whale.mp3` file."
   ]
  },
  {
   "cell_type": "markdown",
   "id": "Ue1fIkXt4Ahu",
   "metadata": {
    "id": "Ue1fIkXt4Ahu",
    "slideshow": {
     "slide_type": "slide"
    }
   },
   "source": [
    "## Moving files and directories\n",
    "---\n",
    "\n",
    "Returning to the `shell-lesson-data/exercise-data/writing` directory,\n",
    "\n",
    "```bash\n",
    "$ cd ~/Desktop/shell-lesson-data/exercise-data/writing\n",
    "```"
   ]
  },
  {
   "cell_type": "markdown",
   "id": "ce1d9aed",
   "metadata": {
    "slideshow": {
     "slide_type": "fragment"
    }
   },
   "source": [
    "In our `thesis` directory we have a file `draft.txt`\n",
    "which isn't a particularly informative name,\n",
    "so let's change the file's name using `mv`,\n",
    "which is short for 'move':"
   ]
  },
  {
   "cell_type": "markdown",
   "id": "1efa0f98",
   "metadata": {
    "slideshow": {
     "slide_type": "fragment"
    }
   },
   "source": [
    "```bash\n",
    "$ mv thesis/draft.txt thesis/quotes.txt\n",
    "```"
   ]
  },
  {
   "cell_type": "markdown",
   "id": "fd85a2f1",
   "metadata": {
    "id": "aBF5H4_1kYOL",
    "slideshow": {
     "slide_type": "slide"
    }
   },
   "source": [
    "The first argument tells `mv` what we're 'moving',\n",
    "while the second is where it's to go.\n",
    "In this case,\n",
    "we're moving `thesis/draft.txt` to `thesis/quotes.txt`,\n",
    "which has the same effect as renaming the file.\n",
    "Sure enough,\n",
    "`ls` shows us that `thesis` now contains one file called `quotes.txt`:"
   ]
  },
  {
   "cell_type": "markdown",
   "id": "5da67ee5",
   "metadata": {
    "slideshow": {
     "slide_type": "fragment"
    }
   },
   "source": [
    "```bash\n",
    "$ ls thesis\n",
    "```\n",
    "\n"
   ]
  },
  {
   "cell_type": "markdown",
   "id": "248da217",
   "metadata": {
    "slideshow": {
     "slide_type": "fragment"
    }
   },
   "source": [
    "```output\n",
    "quotes.txt\n",
    "```"
   ]
  },
  {
   "cell_type": "markdown",
   "id": "7e78422e",
   "metadata": {
    "slideshow": {
     "slide_type": "slide"
    }
   },
   "source": [
    "One must be careful when specifying the target file name, since `mv` will\n",
    "silently overwrite any existing file with the same name, which could\n",
    "lead to data loss. By default, `mv` will not ask for confirmation before overwriting files.\n",
    "However, an additional option, `mv -i` (or `mv --interactive`), will cause `mv` to request\n",
    "such confirmation.\n",
    "\n",
    "Note that `mv` also works on directories."
   ]
  },
  {
   "cell_type": "markdown",
   "id": "8d13b986",
   "metadata": {
    "slideshow": {
     "slide_type": "slide"
    }
   },
   "source": [
    "Let's move `quotes.txt` into the current working directory.\n",
    "We use `mv` once again,\n",
    "but this time we'll use just the name of a directory as the second argument\n",
    "to tell `mv` that we want to keep the filename\n",
    "but put the file somewhere new.\n",
    "(This is why the command is called 'move'.)\n",
    "In this case,\n",
    "the directory name we use is the special directory name `.` that we mentioned earlier."
   ]
  },
  {
   "cell_type": "markdown",
   "id": "6be96e7d",
   "metadata": {
    "slideshow": {
     "slide_type": "fragment"
    }
   },
   "source": [
    "```bash\n",
    "$ mv thesis/quotes.txt .\n",
    "```"
   ]
  },
  {
   "cell_type": "markdown",
   "id": "78f44204",
   "metadata": {
    "slideshow": {
     "slide_type": "slide"
    }
   },
   "source": [
    "The effect is to move the file from the directory it was in to the current working directory.\n",
    "`ls` now shows us that `thesis` is empty:"
   ]
  },
  {
   "cell_type": "markdown",
   "id": "9494a394",
   "metadata": {
    "slideshow": {
     "slide_type": "fragment"
    }
   },
   "source": [
    "\n",
    "```bash\n",
    "$ ls thesis\n",
    "```\n",
    "\n"
   ]
  },
  {
   "cell_type": "markdown",
   "id": "f97549ca",
   "metadata": {
    "slideshow": {
     "slide_type": "fragment"
    }
   },
   "source": [
    "```output\n",
    "$\n",
    "```\n",
    "\n"
   ]
  },
  {
   "cell_type": "markdown",
   "id": "7c37ac85",
   "metadata": {
    "slideshow": {
     "slide_type": "slide"
    }
   },
   "source": [
    "Alternatively, we can confirm the file `quotes.txt` is no longer present in the `thesis` directory\n",
    "by explicitly trying to list it:\n",
    "\n"
   ]
  },
  {
   "cell_type": "markdown",
   "id": "e611ea66",
   "metadata": {
    "slideshow": {
     "slide_type": "fragment"
    }
   },
   "source": [
    "```bash\n",
    "$ ls thesis/quotes.txt\n",
    "```\n",
    "\n"
   ]
  },
  {
   "cell_type": "markdown",
   "id": "1a30570a",
   "metadata": {
    "slideshow": {
     "slide_type": "fragment"
    }
   },
   "source": [
    "```error\n",
    "ls: cannot access 'thesis/quotes.txt': No such file or directory\n",
    "```\n",
    "\n"
   ]
  },
  {
   "cell_type": "markdown",
   "id": "4988c008",
   "metadata": {
    "slideshow": {
     "slide_type": "slide"
    }
   },
   "source": [
    "`ls` with a filename or directory as an argument only lists the requested file or directory.\n",
    "If the file given as the argument doesn't exist, the shell returns an error as we saw above.\n",
    "We can use this to see that `quotes.txt` is now present in our current directory:\n",
    "\n",
    "\n"
   ]
  },
  {
   "cell_type": "markdown",
   "id": "d57d1273",
   "metadata": {
    "slideshow": {
     "slide_type": "fragment"
    }
   },
   "source": [
    "```bash\n",
    "$ ls quotes.txt\n",
    "```\n",
    "\n"
   ]
  },
  {
   "cell_type": "markdown",
   "id": "44234a8a",
   "metadata": {
    "slideshow": {
     "slide_type": "fragment"
    }
   },
   "source": [
    "```output\n",
    "quotes.txt\n",
    "```"
   ]
  },
  {
   "cell_type": "markdown",
   "id": "xP8epXpCRRv9",
   "metadata": {
    "id": "xP8epXpCRRv9",
    "slideshow": {
     "slide_type": "slide"
    }
   },
   "source": [
    "## <p style=\"background-color: #f5df18; padding: 10px;\"> 🛑 Moving Files to a new folder</p>\n",
    "\n",
    "After running the following commands,\n",
    "Jamie realizes that she put the files `sucrose.dat` and `maltose.dat` into the wrong folder.\n",
    "The files should have been placed in the `raw` folder.\n",
    "\n",
    "```bash\n",
    "$ ls -F\n",
    " analyzed/ raw/\n",
    "$ ls -F analyzed\n",
    "fructose.dat glucose.dat maltose.dat sucrose.dat\n",
    "$ cd analyzed\n",
    "```\n",
    "\n",
    "Fill in the blanks to move these files to the `raw/` folder\n",
    "(i.e. the one she forgot to put them in)\n",
    "\n",
    "```bash\n",
    "$ mv sucrose.dat maltose.dat ____/____\n",
    "```"
   ]
  },
  {
   "cell_type": "code",
   "execution_count": null,
   "id": "e8d0b838",
   "metadata": {
    "id": "i9rxWLAz6ORF",
    "slideshow": {
     "slide_type": "-"
    }
   },
   "outputs": [],
   "source": [
    "### your answer here ###"
   ]
  },
  {
   "cell_type": "markdown",
   "id": "tyMrTbrRReoe",
   "metadata": {
    "id": "tyMrTbrRReoe",
    "slideshow": {
     "slide_type": "slide"
    }
   },
   "source": [
    "## Copying files and directories\n",
    "\n",
    "The `cp` command works very much like `mv`,\n",
    "except it copies a file instead of moving it.\n",
    "We can check that it did the right thing using `ls`\n",
    "with two paths as arguments --- like most Unix commands,\n",
    "`ls` can be given multiple paths at once:\n"
   ]
  },
  {
   "cell_type": "markdown",
   "id": "d947a095",
   "metadata": {
    "slideshow": {
     "slide_type": "fragment"
    }
   },
   "source": [
    "```bash\n",
    "$ cp quotes.txt thesis/quotations.txt\n",
    "$ ls quotes.txt thesis/quotations.txt\n",
    "```\n",
    "\n"
   ]
  },
  {
   "cell_type": "markdown",
   "id": "9b4cf3d4",
   "metadata": {
    "slideshow": {
     "slide_type": "fragment"
    }
   },
   "source": [
    "```output\n",
    "quotes.txt   thesis/quotations.txt\n",
    "```\n",
    "\n"
   ]
  },
  {
   "cell_type": "markdown",
   "id": "a9e181ca",
   "metadata": {
    "slideshow": {
     "slide_type": "slide"
    }
   },
   "source": [
    "We can also copy a directory and all its contents by using the\n",
    "[recursive](https://en.wikipedia.org/wiki/Recursion) option `-r`,\n",
    "e.g. to back up a directory:\n",
    "\n"
   ]
  },
  {
   "cell_type": "markdown",
   "id": "b3b629b4",
   "metadata": {
    "slideshow": {
     "slide_type": "fragment"
    }
   },
   "source": [
    "```bash\n",
    "$ cp -r thesis thesis_backup\n",
    "```\n",
    "\n"
   ]
  },
  {
   "cell_type": "markdown",
   "id": "48f4c449",
   "metadata": {
    "slideshow": {
     "slide_type": "slide"
    }
   },
   "source": [
    "We can check the result by listing the contents of both the `thesis` and `thesis_backup` directory:\n"
   ]
  },
  {
   "cell_type": "markdown",
   "id": "96dbae8f",
   "metadata": {
    "slideshow": {
     "slide_type": "fragment"
    }
   },
   "source": [
    "\n",
    "```bash\n",
    "$ ls thesis thesis_backup\n",
    "```\n"
   ]
  },
  {
   "cell_type": "markdown",
   "id": "0d368616",
   "metadata": {
    "slideshow": {
     "slide_type": "fragment"
    }
   },
   "source": [
    "\n",
    "```output\n",
    "thesis:\n",
    "quotations.txt\n",
    "\n",
    "thesis_backup:\n",
    "quotations.txt\n",
    "```"
   ]
  },
  {
   "cell_type": "markdown",
   "id": "4b6243b6",
   "metadata": {
    "slideshow": {
     "slide_type": "slide"
    }
   },
   "source": [
    "It is important to include the `-r` flag. If you want to copy a directory and you omit this option\n",
    "you will see a message that the directory has been omitted because `-r not specified`.\n",
    "\n"
   ]
  },
  {
   "cell_type": "markdown",
   "id": "371c999d",
   "metadata": {
    "slideshow": {
     "slide_type": "fragment"
    }
   },
   "source": [
    "``` bash\n",
    "$ cp thesis thesis_backup\n",
    "cp: -r not specified; omitting directory 'thesis'\n",
    "```"
   ]
  },
  {
   "cell_type": "markdown",
   "id": "54ff8bc3",
   "metadata": {
    "slideshow": {
     "slide_type": "slide"
    }
   },
   "source": [
    "## <p style=\"background-color: #f5df18; padding: 10px;\"> 🛑 Renaming Files </p>\n",
    "\n",
    "Suppose that you created a plain-text file in your current directory to contain a list of the\n",
    "statistical tests you will need to do to analyze your data, and named it `statstics.txt`\n",
    "\n",
    "After creating and saving this file you realize you misspelled the filename! You want to\n",
    "correct the mistake, which of the following commands could you use to do so?\n",
    "\n",
    "1. `cp statstics.txt statistics.txt`\n",
    "2. `mv statstics.txt statistics.txt`\n",
    "3. `mv statstics.txt .`\n",
    "4. `cp statstics.txt .`"
   ]
  },
  {
   "cell_type": "code",
   "execution_count": null,
   "id": "3d0f0eca",
   "metadata": {
    "slideshow": {
     "slide_type": "-"
    }
   },
   "outputs": [],
   "source": [
    "### your answer here ##"
   ]
  },
  {
   "cell_type": "markdown",
   "id": "7eb5a0ae",
   "metadata": {
    "slideshow": {
     "slide_type": "slide"
    }
   },
   "source": [
    "## <p style=\"background-color: #f5df18; padding: 10px;\"> 🛑 Moving and Copying</p>\n",
    "\n",
    "What is the output of the closing `ls` command in the sequence shown below?\n",
    "\n",
    "```bash\n",
    "$ pwd\n",
    "```\n",
    "\n",
    "```output\n",
    "/Users/jamie/data\n",
    "```\n",
    "\n",
    "```bash\n",
    "$ ls\n",
    "```\n",
    "\n",
    "```output\n",
    "proteins.dat\n",
    "```\n",
    "\n",
    "```bash\n",
    "$ mkdir recombined\n",
    "$ mv proteins.dat recombined/\n",
    "$ cp recombined/proteins.dat ../proteins-saved.dat\n",
    "$ ls\n",
    "```\n",
    "\n",
    "1. `proteins-saved.dat recombined`\n",
    "2. `recombined`\n",
    "3. `proteins.dat recombined`\n",
    "4. `proteins-saved.dat`"
   ]
  },
  {
   "cell_type": "code",
   "execution_count": null,
   "id": "cf087a66",
   "metadata": {
    "slideshow": {
     "slide_type": "-"
    }
   },
   "outputs": [],
   "source": [
    "### your answer here ##"
   ]
  },
  {
   "cell_type": "markdown",
   "id": "7dd84994",
   "metadata": {
    "slideshow": {
     "slide_type": "slide"
    }
   },
   "source": [
    "## Removing files and directories\n",
    "\n",
    "Returning to the `shell-lesson-data/exercise-data/writing` directory,\n",
    "let's tidy up this directory by removing the `quotes.txt` file we created.\n",
    "The Unix command we'll use for this is `rm` (short for 'remove'):\n",
    "\n",
    "```bash\n",
    "$ rm quotes.txt\n",
    "```\n",
    "\n",
    "We can confirm the file has gone using `ls`:\n",
    "\n",
    "```bash\n",
    "$ ls quotes.txt\n",
    "```\n",
    "\n",
    "```error\n",
    "ls: cannot access 'quotes.txt': No such file or directory\n",
    "```"
   ]
  },
  {
   "cell_type": "markdown",
   "id": "a6a43b2c",
   "metadata": {
    "slideshow": {
     "slide_type": "slide"
    }
   },
   "source": [
    "## 🔔  Deleting Is Forever\n",
    "---\n",
    "\n",
    "The Unix shell doesn't have a trash bin that we can recover deleted\n",
    "files from (though most graphical interfaces to Unix do).  Instead,\n",
    "when we delete files, they are unlinked from the file system so that\n",
    "their storage space on disk can be recycled. Tools for finding and\n",
    "recovering deleted files do exist, but there's no guarantee they'll\n",
    "work in any particular situation, since the computer may recycle the\n",
    "file's disk space right away."
   ]
  },
  {
   "cell_type": "markdown",
   "id": "d7713416",
   "metadata": {
    "slideshow": {
     "slide_type": "slide"
    }
   },
   "source": [
    "## <p style=\"background-color: #f5df18; padding: 10px;\"> 🛑 Using `rm` Safely\n",
    " </p>\n",
    "\n",
    "What happens when we execute `rm -i thesis_backup/quotations.txt`?\n",
    "Why would we want this protection when using `rm`?"
   ]
  },
  {
   "cell_type": "code",
   "execution_count": null,
   "id": "9dc64899",
   "metadata": {
    "slideshow": {
     "slide_type": "-"
    }
   },
   "outputs": [],
   "source": [
    "### your answer here ###"
   ]
  },
  {
   "cell_type": "markdown",
   "id": "721781ed",
   "metadata": {
    "slideshow": {
     "slide_type": "slide"
    }
   },
   "source": [
    "If we try to remove the `thesis` directory using `rm thesis`,\n",
    "we get an error message:\n"
   ]
  },
  {
   "cell_type": "markdown",
   "id": "d763a8be",
   "metadata": {
    "slideshow": {
     "slide_type": "fragment"
    }
   },
   "source": [
    "\n",
    "```bash\n",
    "$ rm thesis\n",
    "```\n",
    "\n"
   ]
  },
  {
   "cell_type": "markdown",
   "id": "34c40d5f",
   "metadata": {
    "slideshow": {
     "slide_type": "fragment"
    }
   },
   "source": [
    "```error\n",
    "rm: cannot remove 'thesis': Is a directory\n",
    "```\n",
    "\n"
   ]
  },
  {
   "cell_type": "markdown",
   "id": "57883877",
   "metadata": {
    "slideshow": {
     "slide_type": "slide"
    }
   },
   "source": [
    "This happens because `rm` by default only works on files, not directories.\n",
    "\n",
    "`rm` can remove a directory *and all its contents* if we use the\n",
    "recursive option `-r`, and it will do so *without any confirmation prompts*:\n",
    "\n"
   ]
  },
  {
   "cell_type": "markdown",
   "id": "ad9533cd",
   "metadata": {
    "slideshow": {
     "slide_type": "fragment"
    }
   },
   "source": [
    "```bash\n",
    "$ rm -r thesis\n",
    "```\n",
    "\n"
   ]
  },
  {
   "cell_type": "markdown",
   "id": "0188226f",
   "metadata": {
    "slideshow": {
     "slide_type": "slide"
    }
   },
   "source": [
    "Given that there is no way to retrieve files deleted using the shell,\n",
    "`rm -r` *should be used with great caution*\n",
    "(you might consider adding the interactive option `rm -r -i`)."
   ]
  },
  {
   "cell_type": "markdown",
   "id": "573a267b",
   "metadata": {
    "slideshow": {
     "slide_type": "slide"
    }
   },
   "source": [
    "## Operations with multiple files and directories\n",
    "---\n",
    "\n",
    "Oftentimes one needs to copy or move several files at once.\n",
    "This can be done by providing a list of individual filenames,\n",
    "or specifying a naming pattern using wildcards. Wildcards are\n",
    "special characters that can be used to represent unknown characters\n",
    "or sets of characters when navigating the Unix file system."
   ]
  },
  {
   "cell_type": "markdown",
   "id": "620e1a41",
   "metadata": {
    "slideshow": {
     "slide_type": "slide"
    }
   },
   "source": [
    "## <p style=\"background-color: #f5df18; padding: 10px;\"> 🛑 Copy with Multiple Filenames\n",
    " </p>\n",
    "\n",
    "For this exercise, you can test the commands in the `shell-lesson-data/exercise-data` directory.\n",
    "\n",
    "In the example below, what does `cp` do when given several filenames and a directory name?\n",
    "\n",
    "```bash\n",
    "$ mkdir backup\n",
    "$ cp creatures/minotaur.dat creatures/unicorn.dat backup/\n",
    "```\n",
    "\n",
    "In the example below, what does `cp` do when given three or more file names?\n",
    "\n",
    "```bash\n",
    "$ cd creatures\n",
    "$ ls -F\n",
    "```\n",
    "\n",
    "```output\n",
    "basilisk.dat  minotaur.dat  unicorn.dat\n",
    "```\n",
    "\n",
    "```bash\n",
    "$ cp minotaur.dat unicorn.dat basilisk.dat\n",
    "```"
   ]
  },
  {
   "cell_type": "code",
   "execution_count": null,
   "id": "40a5f966",
   "metadata": {
    "slideshow": {
     "slide_type": "-"
    }
   },
   "outputs": [],
   "source": [
    "### your answere here ###"
   ]
  },
  {
   "cell_type": "markdown",
   "id": "759d9a7d",
   "metadata": {
    "slideshow": {
     "slide_type": "slide"
    }
   },
   "source": [
    "## Using wildcards for accessing multiple files at once\n",
    "---"
   ]
  },
  {
   "cell_type": "markdown",
   "id": "9300b016",
   "metadata": {
    "slideshow": {
     "slide_type": "slide"
    }
   },
   "source": [
    "## 🔔  Wildcards\n",
    "---\n",
    "\n",
    "`*` is a **wildcard**, which represents zero or more other characters.\n",
    "Let's consider the `shell-lesson-data/exercise-data/alkanes` directory:\n",
    "`*.pdb` represents `ethane.pdb`, `propane.pdb`, and every\n",
    "file that ends with '.pdb'. On the other hand, `p*.pdb` only represents\n",
    "`pentane.pdb` and `propane.pdb`, because the 'p' at the front can only\n",
    "represent filenames that begin with the letter 'p'.\n",
    "\n"
   ]
  },
  {
   "cell_type": "markdown",
   "id": "b2c05169",
   "metadata": {
    "slideshow": {
     "slide_type": "fragment"
    }
   },
   "source": [
    "`?` is also a wildcard, but it represents exactly one character.\n",
    "So `?ethane.pdb` could represent `methane.pdb` whereas\n",
    "`*ethane.pdb` represents both `ethane.pdb` and `methane.pdb`.\n",
    "\n"
   ]
  },
  {
   "cell_type": "markdown",
   "id": "78cee679",
   "metadata": {
    "slideshow": {
     "slide_type": "fragment"
    }
   },
   "source": [
    "Wildcards can be used in combination with each other. For example,\n",
    "`???ane.pdb` indicates three characters followed by `ane.pdb`,\n",
    "giving `cubane.pdb  ethane.pdb  octane.pdb`.\n",
    "\n"
   ]
  },
  {
   "cell_type": "markdown",
   "id": "31c57c25",
   "metadata": {
    "slideshow": {
     "slide_type": "slide"
    }
   },
   "source": [
    "When the shell sees a wildcard, it expands the wildcard to create a\n",
    "list of matching filenames *before* running the preceding command.\n",
    "As an exception, if a wildcard expression does not match\n",
    "any file, Bash will pass the expression as an argument to the command\n",
    "as it is. For example, typing `ls *.pdf` in the `alkanes` directory\n",
    "(which contains only files with names ending with `.pdb`) results in\n",
    "an error message that there is no file called `*.pdf`.\n",
    "However, generally commands like `wc` and `ls` see the lists of\n",
    "file names matching these expressions, but not the wildcards\n",
    "themselves. It is the shell, not the other programs, that expands\n",
    "the wildcards."
   ]
  },
  {
   "cell_type": "markdown",
   "id": "84e0289a",
   "metadata": {
    "slideshow": {
     "slide_type": "slide"
    }
   },
   "source": [
    "## <p style=\"background-color: #f5df18; padding: 10px;\"> 🛑 List filenames matching a pattern\n",
    " </p>\n",
    "\n",
    "When run in the `alkanes` directory, which `ls` command(s) will\n",
    "produce this output?\n",
    "\n",
    "`ethane.pdb   methane.pdb`\n",
    "\n",
    "1. `ls *t*ane.pdb`\n",
    "2. `ls *t?ne.*`\n",
    "3. `ls *t??ne.pdb`\n",
    "4. `ls ethane.*`"
   ]
  },
  {
   "cell_type": "code",
   "execution_count": null,
   "id": "ce1553c1",
   "metadata": {
    "slideshow": {
     "slide_type": "-"
    }
   },
   "outputs": [],
   "source": [
    "### your answer here ###"
   ]
  },
  {
   "cell_type": "markdown",
   "id": "5f16042b",
   "metadata": {
    "slideshow": {
     "slide_type": "slide"
    }
   },
   "source": [
    "## <p style=\"background-color: #f5df18; padding: 10px;\"> 🛑 More on Wildcards\n",
    "\n",
    " </p>\n",
    "\n",
    "Sam has a directory containing calibration data, datasets, and descriptions of\n",
    "the datasets:\n",
    "\n",
    "```bash\n",
    ".\n",
    "├── 2015-10-23-calibration.txt\n",
    "├── 2015-10-23-dataset1.txt\n",
    "├── 2015-10-23-dataset2.txt\n",
    "├── 2015-10-23-dataset_overview.txt\n",
    "├── 2015-10-26-calibration.txt\n",
    "├── 2015-10-26-dataset1.txt\n",
    "├── 2015-10-26-dataset2.txt\n",
    "├── 2015-10-26-dataset_overview.txt\n",
    "├── 2015-11-23-calibration.txt\n",
    "├── 2015-11-23-dataset1.txt\n",
    "├── 2015-11-23-dataset2.txt\n",
    "├── 2015-11-23-dataset_overview.txt\n",
    "├── backup\n",
    "│   ├── calibration\n",
    "│   └── datasets\n",
    "└── send_to_bob\n",
    "    ├── all_datasets_created_on_a_23rd\n",
    "    └── all_november_files\n",
    "```\n",
    "\n",
    "Before heading off to another field trip, she wants to back up her data and\n",
    "send some datasets to her colleague Bob. Sam uses the following commands\n",
    "to get the job done:\n",
    "\n",
    "```bash\n",
    "$ cp *dataset* backup/datasets\n",
    "$ cp ____calibration____ backup/calibration\n",
    "$ cp 2015-____-____ send_to_bob/all_november_files/\n",
    "$ cp ____ send_to_bob/all_datasets_created_on_a_23rd/\n",
    "```\n",
    "\n",
    "Help Sam by filling in the blanks.\n",
    "\n",
    "The resulting directory structure should look like this\n",
    "\n",
    "```bash\n",
    ".\n",
    "├── 2015-10-23-calibration.txt\n",
    "├── 2015-10-23-dataset1.txt\n",
    "├── 2015-10-23-dataset2.txt\n",
    "├── 2015-10-23-dataset_overview.txt\n",
    "├── 2015-10-26-calibration.txt\n",
    "├── 2015-10-26-dataset1.txt\n",
    "├── 2015-10-26-dataset2.txt\n",
    "├── 2015-10-26-dataset_overview.txt\n",
    "├── 2015-11-23-calibration.txt\n",
    "├── 2015-11-23-dataset1.txt\n",
    "├── 2015-11-23-dataset2.txt\n",
    "├── 2015-11-23-dataset_overview.txt\n",
    "├── backup\n",
    "│   ├── calibration\n",
    "│   │   ├── 2015-10-23-calibration.txt\n",
    "│   │   ├── 2015-10-26-calibration.txt\n",
    "│   │   └── 2015-11-23-calibration.txt\n",
    "│   └── datasets\n",
    "│       ├── 2015-10-23-dataset1.txt\n",
    "│       ├── 2015-10-23-dataset2.txt\n",
    "│       ├── 2015-10-23-dataset_overview.txt\n",
    "│       ├── 2015-10-26-dataset1.txt\n",
    "│       ├── 2015-10-26-dataset2.txt\n",
    "│       ├── 2015-10-26-dataset_overview.txt\n",
    "│       ├── 2015-11-23-dataset1.txt\n",
    "│       ├── 2015-11-23-dataset2.txt\n",
    "│       └── 2015-11-23-dataset_overview.txt\n",
    "└── send_to_bob\n",
    "    ├── all_datasets_created_on_a_23rd\n",
    "    │   ├── 2015-10-23-dataset1.txt\n",
    "    │   ├── 2015-10-23-dataset2.txt\n",
    "    │   ├── 2015-10-23-dataset_overview.txt\n",
    "    │   ├── 2015-11-23-dataset1.txt\n",
    "    │   ├── 2015-11-23-dataset2.txt\n",
    "    │   └── 2015-11-23-dataset_overview.txt\n",
    "    └── all_november_files\n",
    "        ├── 2015-11-23-calibration.txt\n",
    "        ├── 2015-11-23-dataset1.txt\n",
    "        ├── 2015-11-23-dataset2.txt\n",
    "        └── 2015-11-23-dataset_overview.txt\n",
    "```\n"
   ]
  },
  {
   "cell_type": "code",
   "execution_count": null,
   "id": "12c15161",
   "metadata": {
    "slideshow": {
     "slide_type": "-"
    }
   },
   "outputs": [],
   "source": [
    "### your answer here ###"
   ]
  },
  {
   "cell_type": "markdown",
   "id": "acfe90be",
   "metadata": {
    "slideshow": {
     "slide_type": "slide"
    }
   },
   "source": [
    "## <p style=\"background-color: #f5df18; padding: 10px;\"> 🛑 Organizing Directories and Files\n",
    " </p>\n",
    "\n",
    "Jamie is working on a project, and she sees that her files aren't very well\n",
    "organized:\n",
    "\n",
    "```bash\n",
    "$ ls -F\n",
    "```\n",
    "\n",
    "```output\n",
    "analyzed/  fructose.dat    raw/   sucrose.dat\n",
    "```\n",
    "\n",
    "The `fructose.dat` and `sucrose.dat` files contain output from her data\n",
    "analysis. What command(s) covered in this lesson does she need to run\n",
    "so that the commands below will produce the output shown?\n",
    "\n",
    "```bash\n",
    "$ ls -F\n",
    "```\n",
    "\n",
    "```output\n",
    "analyzed/   raw/\n",
    "```\n",
    "\n",
    "```bash\n",
    "$ ls analyzed\n",
    "```\n",
    "\n",
    "```output\n",
    "fructose.dat    sucrose.dat\n",
    "```\n"
   ]
  },
  {
   "cell_type": "code",
   "execution_count": null,
   "id": "2c8dc766",
   "metadata": {
    "slideshow": {
     "slide_type": "-"
    }
   },
   "outputs": [],
   "source": [
    "### your answer here ###"
   ]
  },
  {
   "cell_type": "markdown",
   "id": "69856135",
   "metadata": {
    "slideshow": {
     "slide_type": "slide"
    }
   },
   "source": [
    "## <p style=\"background-color: #f5df18; padding: 10px;\"> 🛑 Reproduce a folder structure\n",
    " </p>\n",
    "\n",
    "You're starting a new experiment and would like to duplicate the directory\n",
    "structure from your previous experiment so you can add new data.\n",
    "\n",
    "Assume that the previous experiment is in a folder called `2016-05-18`,\n",
    "which contains a `data` folder that in turn contains folders named `raw` and\n",
    "`processed` that contain data files.  The goal is to copy the folder structure\n",
    "of the `2016-05-18` folder into a folder called `2016-05-20`\n",
    "so that your final directory structure looks like this:\n",
    "\n",
    "```output\n",
    "2016-05-20/\n",
    "└── data\n",
    "   ├── processed\n",
    "   └── raw\n",
    "```\n",
    "\n",
    "Which of the following set of commands would achieve this objective?\n",
    "What would the other commands do?\n",
    "\n",
    "```bash\n",
    "$ mkdir 2016-05-20\n",
    "$ mkdir 2016-05-20/data\n",
    "$ mkdir 2016-05-20/data/processed\n",
    "$ mkdir 2016-05-20/data/raw\n",
    "```\n",
    "\n",
    "```bash\n",
    "$ mkdir 2016-05-20\n",
    "$ cd 2016-05-20\n",
    "$ mkdir data\n",
    "$ cd data\n",
    "$ mkdir raw processed\n",
    "```\n",
    "\n",
    "```bash\n",
    "$ mkdir 2016-05-20/data/raw\n",
    "$ mkdir 2016-05-20/data/processed\n",
    "```\n",
    "\n",
    "```bash\n",
    "$ mkdir -p 2016-05-20/data/raw\n",
    "$ mkdir -p 2016-05-20/data/processed\n",
    "```\n",
    "\n",
    "```bash\n",
    "$ mkdir 2016-05-20\n",
    "$ cd 2016-05-20\n",
    "$ mkdir data\n",
    "$ mkdir raw processed\n",
    "```"
   ]
  },
  {
   "cell_type": "code",
   "execution_count": null,
   "id": "5beed53e",
   "metadata": {
    "slideshow": {
     "slide_type": "-"
    }
   },
   "outputs": [],
   "source": [
    "### your answer here ###"
   ]
  },
  {
   "cell_type": "markdown",
   "id": "c3xyuFI9k7XT",
   "metadata": {
    "id": "c3xyuFI9k7XT",
    "slideshow": {
     "slide_type": "slide"
    }
   },
   "source": [
    "# <p style=\"background-color: #f5df18; padding: 10px;\"> 🗝️ Key points</p>\n",
    "\n",
    "---\n",
    "\n",
    "- `cp [old] [new]` copies a file.\n",
    "- `mkdir [path]` creates a new directory.\n",
    "- `mv [old] [new]` moves (renames) a file or directory.\n",
    "- `rm [path]` removes (deletes) a file.\n",
    "- `*` matches zero or more characters in a filename, so `*.txt` matches all files ending in `.txt`.\n",
    "- `?` matches any single character in a filename, so `?.txt` matches `a.txt` but not `any.txt`.\n",
    "- Use of the Control key may be described in many ways, including `Ctrl-X`, `Control-X`, and `^X`.\n",
    "- The shell does not have a trash bin: once something is deleted, it's really gone.\n",
    "- Most files' names are `something.extension`. The extension isn't required, and doesn't guarantee anything, but is normally used to indicate the type of data in the file.\n",
    "- Depending on the type of work you do, you may need a more powerful text editor than Nano."
   ]
  }
 ],
 "metadata": {
  "celltoolbar": "Slideshow",
  "colab": {
   "provenance": []
  },
  "kernelspec": {
   "display_name": "Python 3 (ipykernel)",
   "language": "python",
   "name": "python3"
  },
  "language_info": {
   "codemirror_mode": {
    "name": "ipython",
    "version": 3
   },
   "file_extension": ".py",
   "mimetype": "text/x-python",
   "name": "python",
   "nbconvert_exporter": "python",
   "pygments_lexer": "ipython3",
   "version": "3.11.3"
  },
  "toc-showcode": true
 },
 "nbformat": 4,
 "nbformat_minor": 5
}
