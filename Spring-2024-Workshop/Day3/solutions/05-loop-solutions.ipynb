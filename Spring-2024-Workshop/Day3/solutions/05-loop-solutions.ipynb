{
 "cells": [
  {
   "cell_type": "markdown",
   "id": "labeled-firewall",
   "metadata": {
    "id": "labeled-firewall",
    "slideshow": {
     "slide_type": "slide"
    }
   },
   "source": [
    "# <p style=\"background-color: #f5df18; padding: 10px;\">The Unix Shell | **Loops** </p>\n"
   ]
  },
  {
   "cell_type": "markdown",
   "id": "30c98737",
   "metadata": {
    "slideshow": {
     "slide_type": "slide"
    }
   },
   "source": [
    "<div style=\"display: flex;\">\n",
    "    <div style=\"flex: 1; margin-right: 20px;\">\n",
    "        <h2>Questions</h2>\n",
    "        <ul>\n",
    "            <li>How can I perform the same actions on many different files?</li>\n",
    "        </ul>\n",
    "    </div>\n",
    "    <div style=\"flex: 1;\">\n",
    "        <h2>Learning Objectives</h2>\n",
    "        <ul> \n",
    "            <li>Write a loop that applies one or more commands separately to each file in a set of files.</li>\n",
    "    <li>Trace the values taken on by a loop variable during execution of the loop.</li>\n",
    "    <li>Explain the difference between a variable's name and its value.</li>\n",
    "    <li>Explain why spaces and some punctuation characters shouldn't be used in file names.</li>\n",
    "    <li>Demonstrate how to see what commands have recently been executed.</li>\n",
    "    <li>Re-run recently executed commands without retyping them.</li>\n",
    "        </ul>\n",
    "    </div>\n",
    "</div>\n"
   ]
  },
  {
   "cell_type": "markdown",
   "id": "pressed-commerce",
   "metadata": {
    "id": "pressed-commerce",
    "slideshow": {
     "slide_type": "slide"
    },
    "tags": []
   },
   "source": [
    "**Loops** are a programming construct which allow us to repeat a command or set of commands\n",
    "for each item in a list.\n",
    "As such they are key to productivity improvements through automation.\n",
    "Similar to wildcards and tab completion, using loops also reduces the\n",
    "amount of typing required (and hence reduces the number of typing mistakes)."
   ]
  },
  {
   "cell_type": "markdown",
   "id": "92a78bbd",
   "metadata": {
    "slideshow": {
     "slide_type": "slide"
    }
   },
   "source": [
    "Suppose we have several hundred genome data files named `basilisk.dat`, `minotaur.dat`, and\n",
    "`unicorn.dat`.\n",
    "For this example, we'll use the `exercise-data/creatures` directory which only has three\n",
    "example files,\n",
    "but the principles can be applied to many many more files at once.\n"
   ]
  },
  {
   "cell_type": "markdown",
   "id": "6b28d575",
   "metadata": {
    "slideshow": {
     "slide_type": "slide"
    }
   },
   "source": [
    "The structure of these files is the same: the common name, classification, and updated date are\n",
    "presented on the first three lines, with DNA sequences on the following lines.\n",
    "Let's look at the files:\n",
    "\n"
   ]
  },
  {
   "cell_type": "markdown",
   "id": "1d697262",
   "metadata": {
    "slideshow": {
     "slide_type": "fragment"
    }
   },
   "source": [
    "```bash\n",
    "$ head -n 5 basilisk.dat minotaur.dat unicorn.dat\n",
    "```\n",
    "\n"
   ]
  },
  {
   "cell_type": "markdown",
   "id": "179c2b85",
   "metadata": {
    "slideshow": {
     "slide_type": "slide"
    }
   },
   "source": [
    "We would like to print out the classification for each species, which is given on the second\n",
    "line of each file.\n",
    "For each file, we would need to execute the command `head -n 2` and pipe this to `tail -n 1`.\n",
    "We'll use a loop to solve this problem, but first let's look at the general form of a loop,\n",
    "using the pseudo-code below:\n"
   ]
  },
  {
   "cell_type": "markdown",
   "id": "2e6df059",
   "metadata": {
    "slideshow": {
     "slide_type": "fragment"
    }
   },
   "source": [
    "\n",
    "```bash\n",
    "# The word \"for\" indicates the start of a \"For-loop\" command\n",
    "for thing in list_of_things \n",
    "#The word \"do\" indicates the start of job execution list\n",
    "do \n",
    "    # Indentation within the loop is not required, but aids legibility\n",
    "    operation_using/command $thing \n",
    "# The word \"done\" indicates the end of a loop\n",
    "done  \n",
    "```\n",
    "\n"
   ]
  },
  {
   "cell_type": "markdown",
   "id": "3b0628d1",
   "metadata": {
    "slideshow": {
     "slide_type": "slide"
    }
   },
   "source": [
    "and we can apply this to our example like this:\n",
    "\n"
   ]
  },
  {
   "cell_type": "markdown",
   "id": "6c91425d",
   "metadata": {
    "slideshow": {
     "slide_type": "fragment"
    }
   },
   "source": [
    "```bash\n",
    "$ for filename in basilisk.dat minotaur.dat unicorn.dat\n",
    "> do\n",
    ">     echo $filename\n",
    ">     head -n 2 $filename | tail -n 1\n",
    "> done\n",
    "```\n",
    "\n",
    "```output\n",
    "basilisk.dat\n",
    "CLASSIFICATION: basiliscus vulgaris\n",
    "minotaur.dat\n",
    "CLASSIFICATION: bos hominus\n",
    "unicorn.dat\n",
    "CLASSIFICATION: equus monoceros\n",
    "```"
   ]
  },
  {
   "cell_type": "markdown",
   "id": "bf8edb88",
   "metadata": {
    "slideshow": {
     "slide_type": "slide"
    }
   },
   "source": [
    "## 🔔  Follow the Prompt\n",
    "---\n",
    "\n",
    "The shell prompt changes from `$` to `>` and back again as we were\n",
    "typing in our loop. The second prompt, `>`, is different to remind\n",
    "us that we haven't finished typing a complete command yet. A semicolon, `;`,\n",
    "can be used to separate two commands written on a single line."
   ]
  },
  {
   "cell_type": "markdown",
   "id": "vertical-yellow",
   "metadata": {
    "id": "vertical-yellow",
    "jp-MarkdownHeadingCollapsed": true,
    "slideshow": {
     "slide_type": "slide"
    },
    "tags": []
   },
   "source": [
    "When the shell sees the keyword `for`,\n",
    "it knows to repeat a command (or group of commands) once for each item in a list.\n",
    "Each time the loop runs (called an iteration), an item in the list is assigned in sequence to\n",
    "the **variable**, and the commands inside the loop are executed, before moving on to\n",
    "the next item in the list.\n",
    "Inside the loop,\n",
    "we call for the variable's value by putting `$` in front of it.\n",
    "The `$` tells the shell interpreter to treat\n",
    "the variable as a variable name and substitute its value in its place,\n",
    "rather than treat it as text or an external command.\n",
    "\n"
   ]
  },
  {
   "cell_type": "markdown",
   "id": "9e27450b",
   "metadata": {
    "slideshow": {
     "slide_type": "slide"
    }
   },
   "source": [
    "In this example, the list is three filenames: `basilisk.dat`, `minotaur.dat`, and `unicorn.dat`.\n",
    "Each time the loop iterates, we first use `echo` to print the value that the variable\n",
    "`$filename` currently holds. This is not necessary for the result, but beneficial for us here to\n",
    "have an easier time to follow along.\n",
    "Next, we will run the `head` command on the file currently referred to by `$filename`.\n",
    "The first time through the loop, `$filename` is `basilisk.dat`.\n",
    "The interpreter runs the command `head` on `basilisk.dat`\n",
    "and pipes the first two lines to the `tail` command,\n",
    "which then prints the second line of `basilisk.dat`.\n",
    "For the second iteration, `$filename` becomes\n",
    "`minotaur.dat`. This time, the shell runs `head` on `minotaur.dat`\n",
    "and pipes the first two lines to the `tail` command,\n",
    "which then prints the second line of `minotaur.dat`.\n",
    "For the third iteration, `$filename` becomes\n",
    "`unicorn.dat`, so the shell runs the `head` command on that file,\n",
    "and `tail` on the output of that.\n",
    "Since the list was only three items, the shell exits the `for` loop."
   ]
  },
  {
   "cell_type": "markdown",
   "id": "hollywood-clerk",
   "metadata": {
    "id": "hollywood-clerk",
    "slideshow": {
     "slide_type": "slide"
    }
   },
   "source": [
    "## 🔔  Same Symbols, Different Meanings\n",
    "---\n",
    "\n",
    "Here we see `>` being used as a shell prompt, whereas `>` is also\n",
    "used to redirect output.\n",
    "Similarly, `$` is used as a shell prompt, but, as we saw earlier,\n",
    "it is also used to ask the shell to get the value of a variable.\n",
    "\n",
    "If the *shell* prints `>` or `$` then it expects you to type something,\n",
    "and the symbol is a prompt.\n",
    "\n",
    "If *you* type `>` or `$` yourself, it is an instruction from you that\n",
    "the shell should redirect output or get the value of a variable."
   ]
  },
  {
   "cell_type": "markdown",
   "id": "63c7b2f4",
   "metadata": {
    "slideshow": {
     "slide_type": "slide"
    }
   },
   "source": [
    "When using variables it is also\n",
    "possible to put the names into curly braces to clearly delimit the variable\n",
    "name: `$filename` is equivalent to `${filename}`, but is different from\n",
    "`${file}name`. You may find this notation in other people's programs.\n",
    "\n"
   ]
  },
  {
   "cell_type": "markdown",
   "id": "a17c6580",
   "metadata": {
    "slideshow": {
     "slide_type": "slide"
    }
   },
   "source": [
    "We have called the variable in this loop `filename`\n",
    "in order to make its purpose clearer to human readers.\n",
    "The shell itself doesn't care what the variable is called;\n",
    "if we wrote this loop as:\n",
    "\n"
   ]
  },
  {
   "cell_type": "markdown",
   "id": "2db34ba0",
   "metadata": {
    "slideshow": {
     "slide_type": "fragment"
    }
   },
   "source": [
    "```bash\n",
    "$ for x in basilisk.dat minotaur.dat unicorn.dat\n",
    "> do\n",
    ">     head -n 2 $x | tail -n 1\n",
    "> done\n",
    "```\n",
    "\n"
   ]
  },
  {
   "cell_type": "markdown",
   "id": "581e6525",
   "metadata": {
    "slideshow": {
     "slide_type": "fragment"
    }
   },
   "source": [
    "or:\n",
    "\n",
    "```bash\n",
    "$ for temperature in basilisk.dat minotaur.dat unicorn.dat\n",
    "> do\n",
    ">     head -n 2 $temperature | tail -n 1\n",
    "> done\n",
    "```\n",
    "\n"
   ]
  },
  {
   "cell_type": "markdown",
   "id": "00ea832c",
   "metadata": {
    "slideshow": {
     "slide_type": "slide"
    }
   },
   "source": [
    "it would work exactly the same way.\n",
    "*Don't do this.*\n",
    "Programs are only useful if people can understand them,\n",
    "so meaningless names (like `x`) or misleading names (like `temperature`)\n",
    "increase the odds that the program won't do what its readers think it does.\n",
    "\n"
   ]
  },
  {
   "cell_type": "markdown",
   "id": "fdedfc4f",
   "metadata": {
    "slideshow": {
     "slide_type": "fragment"
    }
   },
   "source": [
    "In the above examples, the variables (`thing`, `filename`, `x` and `temperature`)\n",
    "could have been given any other name, as long as it is meaningful to both the person\n",
    "writing the code and the person reading it.\n",
    "\n"
   ]
  },
  {
   "cell_type": "markdown",
   "id": "b68cdf87",
   "metadata": {
    "slideshow": {
     "slide_type": "fragment"
    }
   },
   "source": [
    "Note also that loops can be used for other things than filenames, like a list of numbers\n",
    "or a subset of data."
   ]
  },
  {
   "cell_type": "markdown",
   "id": "Ue1fIkXt4Ahu",
   "metadata": {
    "id": "Ue1fIkXt4Ahu",
    "slideshow": {
     "slide_type": "slide"
    }
   },
   "source": [
    "## <p style=\"background-color: #f5df18; padding: 10px;\"> 🛑 Write your own loop </p>\n",
    "\n",
    "---\n",
    "\n",
    "How would you write a loop that echoes all 10 numbers from 0 to 9?\n"
   ]
  },
  {
   "cell_type": "markdown",
   "id": "d14fcafa",
   "metadata": {
    "slideshow": {
     "slide_type": "-"
    }
   },
   "source": [
    "## Solution\n",
    "\n",
    "```bash\n",
    "$ for loop_variable in 0 1 2 3 4 5 6 7 8 9\n",
    "> do\n",
    ">     echo $loop_variable\n",
    "> done\n",
    "```\n",
    "\n",
    "```output\n",
    "0\n",
    "1\n",
    "2\n",
    "3\n",
    "4\n",
    "5\n",
    "6\n",
    "7\n",
    "8\n",
    "9\n",
    "```"
   ]
  },
  {
   "cell_type": "markdown",
   "id": "b03aaec1",
   "metadata": {
    "slideshow": {
     "slide_type": "slide"
    }
   },
   "source": [
    "## <p style=\"background-color: #f5df18; padding: 10px;\"> 🛑 Variables in Loops</p>\n",
    "\n",
    "---\n",
    "\n",
    "This exercise refers to the `shell-lesson-data/exercise-data/alkanes` directory.\n",
    "`ls *.pdb` gives the following output:\n",
    "\n",
    "```output\n",
    "cubane.pdb  ethane.pdb  methane.pdb  octane.pdb  pentane.pdb  propane.pdb\n",
    "```\n",
    "\n",
    "What is the output of the following code?\n",
    "\n",
    "```bash\n",
    "$ for datafile in *.pdb\n",
    "> do\n",
    ">     ls *.pdb\n",
    "> done\n",
    "```\n",
    "\n",
    "Now, what is the output of the following code?\n",
    "\n",
    "```bash\n",
    "$ for datafile in *.pdb\n",
    "> do\n",
    ">     ls $datafile\n",
    "> done\n",
    "```\n",
    "\n",
    "Why do these two loops give different outputs?\n"
   ]
  },
  {
   "cell_type": "markdown",
   "id": "b743d473",
   "metadata": {},
   "source": [
    "## Solution\n",
    "\n",
    "The first code block gives the same output on each iteration through\n",
    "the loop.\n",
    "Bash expands the wildcard `*.pdb` within the loop body (as well as\n",
    "before the loop starts) to match all files ending in `.pdb`\n",
    "and then lists them using `ls`.\n",
    "The expanded loop would look like this:\n",
    "\n",
    "```bash\n",
    "$ for datafile in cubane.pdb  ethane.pdb  methane.pdb  octane.pdb  pentane.pdb  propane.pdb\n",
    "> do\n",
    ">     ls cubane.pdb  ethane.pdb  methane.pdb  octane.pdb  pentane.pdb  propane.pdb\n",
    "> done\n",
    "```\n",
    "\n",
    "```output\n",
    "cubane.pdb  ethane.pdb  methane.pdb  octane.pdb  pentane.pdb  propane.pdb\n",
    "cubane.pdb  ethane.pdb  methane.pdb  octane.pdb  pentane.pdb  propane.pdb\n",
    "cubane.pdb  ethane.pdb  methane.pdb  octane.pdb  pentane.pdb  propane.pdb\n",
    "cubane.pdb  ethane.pdb  methane.pdb  octane.pdb  pentane.pdb  propane.pdb\n",
    "cubane.pdb  ethane.pdb  methane.pdb  octane.pdb  pentane.pdb  propane.pdb\n",
    "cubane.pdb  ethane.pdb  methane.pdb  octane.pdb  pentane.pdb  propane.pdb\n",
    "```\n",
    "\n",
    "The second code block lists a different file on each loop iteration.\n",
    "The value of the `datafile` variable is evaluated using `$datafile`,\n",
    "and then listed using `ls`.\n",
    "\n",
    "```output\n",
    "cubane.pdb\n",
    "ethane.pdb\n",
    "methane.pdb\n",
    "octane.pdb\n",
    "pentane.pdb\n",
    "propane.pdb\n",
    "```\n"
   ]
  },
  {
   "cell_type": "markdown",
   "id": "c9aab59f",
   "metadata": {},
   "source": [
    "## <p style=\"background-color: #f5df18; padding: 10px;\"> 🛑 Limiting Sets of Files </p>\n",
    "\n",
    "---\n",
    "\n",
    "What would be the output of running the following loop in the\n",
    "`shell-lesson-data/exercise-data/alkanes` directory?\n",
    "\n",
    "```bash\n",
    "$ for filename in c*\n",
    "> do\n",
    ">     ls $filename\n",
    "> done\n",
    "```\n",
    "\n",
    "1. No files are listed.\n",
    "2. All files are listed.\n",
    "3. Only `cubane.pdb`, `octane.pdb` and `pentane.pdb` are listed.\n",
    "4. Only `cubane.pdb` is listed.\n"
   ]
  },
  {
   "cell_type": "markdown",
   "id": "7428b4dd",
   "metadata": {},
   "source": [
    "## Solution\n",
    "\n",
    "4 is the correct answer. `*` matches zero or more characters, so any file name starting with\n",
    "the letter c, followed by zero or more other characters will be matched.\n",
    "\n"
   ]
  },
  {
   "cell_type": "markdown",
   "id": "04d95e30",
   "metadata": {},
   "source": [
    "## <p style=\"background-color: #f5df18; padding: 10px;\"> 🛑 Limiting Sets of Files (continued) </p>\n",
    "\n",
    "---\n",
    "\n",
    "How would the output differ from using this command instead?\n",
    "\n",
    "```bash\n",
    "$ for filename in *c*\n",
    "> do\n",
    ">     ls $filename\n",
    "> done\n",
    "```\n",
    "\n",
    "1. The same files would be listed.\n",
    "2. All the files are listed this time.\n",
    "3. No files are listed this time.\n",
    "4. The files `cubane.pdb` and `octane.pdb` will be listed.\n",
    "5. Only the file `octane.pdb` will be listed."
   ]
  },
  {
   "cell_type": "markdown",
   "id": "0dbb1d14",
   "metadata": {},
   "source": [
    "## Solution\n",
    "\n",
    "4 is the correct answer. `*` matches zero or more characters, so a file name with zero or more\n",
    "characters before a letter c and zero or more characters after the letter c will be matched.\n"
   ]
  },
  {
   "cell_type": "markdown",
   "id": "5ecba28d",
   "metadata": {},
   "source": [
    "## <p style=\"background-color: #f5df18; padding: 10px;\"> 🛑 Saving to a File in a Loop - Part One </p>\n",
    "\n",
    "---\n",
    "\n",
    "In the `shell-lesson-data/exercise-data/alkanes` directory, what is the effect of this loop?\n",
    "\n",
    "```bash\n",
    "for alkanes in *.pdb\n",
    "do\n",
    "    echo $alkanes\n",
    "    cat $alkanes > alkanes.pdb\n",
    "done\n",
    "```\n",
    "\n",
    "1. Prints `cubane.pdb`, `ethane.pdb`, `methane.pdb`, `octane.pdb`, `pentane.pdb` and\n",
    "  `propane.pdb`, and the text from `propane.pdb` will be saved to a file called `alkanes.pdb`.\n",
    "2. Prints `cubane.pdb`, `ethane.pdb`, and `methane.pdb`, and the text from all three files\n",
    "  would be concatenated and saved to a file called `alkanes.pdb`.\n",
    "3. Prints `cubane.pdb`, `ethane.pdb`, `methane.pdb`, `octane.pdb`, and `pentane.pdb`,\n",
    "  and the text from `propane.pdb` will be saved to a file called `alkanes.pdb`.\n",
    "4. None of the above.\n"
   ]
  },
  {
   "cell_type": "markdown",
   "id": "03895bd7",
   "metadata": {},
   "source": [
    "## Solution\n",
    "\n",
    "1. The text from each file in turn gets written to the `alkanes.pdb` file.\n",
    "  However, the file gets overwritten on each loop iteration, so the final content of\n",
    "  `alkanes.pdb`\n",
    "  is the text from the `propane.pdb` file.\n",
    "  \n",
    "  "
   ]
  },
  {
   "cell_type": "markdown",
   "id": "0845ef5f",
   "metadata": {},
   "source": [
    "## <p style=\"background-color: #f5df18; padding: 10px;\"> 🛑 Saving to a File in a Loop - Part Two </p>\n",
    "\n",
    "---\n",
    "\n",
    "Also in the `shell-lesson-data/exercise-data/alkanes` directory,\n",
    "what would be the output of the following loop?\n",
    "\n",
    "```bash\n",
    "for datafile in *.pdb\n",
    "do\n",
    "    cat $datafile >> all.pdb\n",
    "done\n",
    "```\n",
    "\n",
    "1. All of the text from `cubane.pdb`, `ethane.pdb`, `methane.pdb`, `octane.pdb`, and\n",
    "  `pentane.pdb` would be concatenated and saved to a file called `all.pdb`.\n",
    "2. The text from `ethane.pdb` will be saved to a file called `all.pdb`.\n",
    "3. All of the text from `cubane.pdb`, `ethane.pdb`, `methane.pdb`, `octane.pdb`, `pentane.pdb`\n",
    "  and `propane.pdb` would be concatenated and saved to a file called `all.pdb`.\n",
    "4. All of the text from `cubane.pdb`, `ethane.pdb`, `methane.pdb`, `octane.pdb`, `pentane.pdb`\n",
    "  and `propane.pdb` would be printed to the screen and saved to a file called `all.pdb`.\n"
   ]
  },
  {
   "cell_type": "markdown",
   "id": "8284e042",
   "metadata": {},
   "source": [
    "## Solution\n",
    "\n",
    "3 is the correct answer. `>>` appends to a file, rather than overwriting it with the redirected\n",
    "output from a command.\n",
    "Given the output from the `cat` command has been redirected, nothing is printed to the screen.\n",
    "\n"
   ]
  },
  {
   "cell_type": "markdown",
   "id": "fd85a2f1",
   "metadata": {
    "id": "aBF5H4_1kYOL",
    "slideshow": {
     "slide_type": "slide"
    }
   },
   "source": [
    "Let's continue with our example in the `shell-lesson-data/exercise-data/creatures` directory.\n",
    "Here's a slightly more complicated loop:\n",
    "\n"
   ]
  },
  {
   "cell_type": "markdown",
   "id": "e698d617",
   "metadata": {
    "slideshow": {
     "slide_type": "fragment"
    }
   },
   "source": [
    "```bash\n",
    "$ for filename in *.dat\n",
    "> do\n",
    ">     echo $filename\n",
    ">     head -n 100 $filename | tail -n 20\n",
    "> done\n",
    "```\n",
    "\n"
   ]
  },
  {
   "cell_type": "markdown",
   "id": "6ee355be",
   "metadata": {
    "slideshow": {
     "slide_type": "slide"
    }
   },
   "source": [
    "The shell starts by expanding `*.dat` to create the list of files it will process.\n",
    "The **loop body**\n",
    "then executes two commands for each of those files.\n",
    "The first command, `echo`, prints its command-line arguments to standard output.\n",
    "For example:\n",
    "\n"
   ]
  },
  {
   "cell_type": "markdown",
   "id": "3e07b388",
   "metadata": {
    "slideshow": {
     "slide_type": "fragment"
    }
   },
   "source": [
    "```bash\n",
    "$ echo hello there\n",
    "```\n",
    "\n"
   ]
  },
  {
   "cell_type": "markdown",
   "id": "00eb100a",
   "metadata": {
    "slideshow": {
     "slide_type": "fragment"
    }
   },
   "source": [
    "prints:\n",
    "\n",
    "```output\n",
    "hello there\n",
    "```\n"
   ]
  },
  {
   "cell_type": "markdown",
   "id": "d1895917",
   "metadata": {
    "slideshow": {
     "slide_type": "slide"
    }
   },
   "source": [
    "\n",
    "In this case,\n",
    "since the shell expands `$filename` to be the name of a file,\n",
    "`echo $filename` prints the name of the file.\n",
    "Note that we can't write this as:\n",
    "\n"
   ]
  },
  {
   "cell_type": "markdown",
   "id": "d5531aa0",
   "metadata": {
    "slideshow": {
     "slide_type": "fragment"
    }
   },
   "source": [
    "```bash\n",
    "$ for filename in *.dat\n",
    "> do\n",
    ">     $filename\n",
    ">     head -n 100 $filename | tail -n 20\n",
    "> done\n",
    "```\n",
    "\n"
   ]
  },
  {
   "cell_type": "markdown",
   "id": "78d4beaa",
   "metadata": {
    "slideshow": {
     "slide_type": "slide"
    }
   },
   "source": [
    "because then the first time through the loop,\n",
    "when `$filename` expanded to `basilisk.dat`, the shell would try to run `basilisk.dat` as\n",
    "a program.\n",
    "Finally,\n",
    "the `head` and `tail` combination selects lines 81-100\n",
    "from whatever file is being processed\n",
    "(assuming the file has at least 100 lines)."
   ]
  },
  {
   "cell_type": "markdown",
   "id": "7e78422e",
   "metadata": {
    "slideshow": {
     "slide_type": "slide"
    }
   },
   "source": [
    "## 🔔  Spaces in Names\n",
    "---\n",
    "\n",
    "Spaces are used to separate the elements of the list\n",
    "that we are going to loop over. If one of those elements\n",
    "contains a space character, we need to surround it with\n",
    "quotes, and do the same thing to our loop variable.\n",
    "Suppose our data files are named:\n",
    "\n",
    "```source\n",
    "red dragon.dat\n",
    "purple unicorn.dat\n",
    "```"
   ]
  },
  {
   "cell_type": "markdown",
   "id": "17de3e73",
   "metadata": {
    "slideshow": {
     "slide_type": "slide"
    }
   },
   "source": [
    "To loop over these files, we would need to add double quotes like so:\n",
    "\n",
    "```bash\n",
    "$ for filename in \"red dragon.dat\" \"purple unicorn.dat\"\n",
    "> do\n",
    ">     head -n 100 \"$filename\" | tail -n 20\n",
    "> done\n",
    "```"
   ]
  },
  {
   "cell_type": "markdown",
   "id": "d72cf068",
   "metadata": {
    "slideshow": {
     "slide_type": "slide"
    }
   },
   "source": [
    "It is simpler to avoid using spaces (or other special characters) in filenames.\n",
    "\n",
    "The files above don't exist, so if we run the above code, the `head` command will be unable\n",
    "to find them; however, the error message returned will show the name of the files it is\n",
    "expecting:"
   ]
  },
  {
   "cell_type": "markdown",
   "id": "c7ae32ad",
   "metadata": {
    "slideshow": {
     "slide_type": "fragment"
    }
   },
   "source": [
    "```error\n",
    "head: cannot open ‘red dragon.dat' for reading: No such file or directory\n",
    "head: cannot open ‘purple unicorn.dat' for reading: No such file or directory\n",
    "```"
   ]
  },
  {
   "cell_type": "markdown",
   "id": "b64bd494",
   "metadata": {
    "slideshow": {
     "slide_type": "slide"
    }
   },
   "source": [
    "Try removing the quotes around `$filename` in the loop above to see the effect of the quote\n",
    "marks on spaces. Note that we get a result from the loop command for unicorn.dat\n",
    "when we run this code in the `creatures` directory:"
   ]
  },
  {
   "cell_type": "markdown",
   "id": "1c52c2a4",
   "metadata": {
    "slideshow": {
     "slide_type": "fragment"
    }
   },
   "source": [
    "```output\n",
    "head: cannot open ‘red' for reading: No such file or directory\n",
    "head: cannot open ‘dragon.dat' for reading: No such file or directory\n",
    "head: cannot open ‘purple' for reading: No such file or directory\n",
    "CGGTACCGAA\n",
    "AAGGGTCGCG\n",
    "CAAGTGTTCC\n",
    "...\n",
    "```"
   ]
  },
  {
   "cell_type": "markdown",
   "id": "irhVm53xQgOG",
   "metadata": {
    "id": "irhVm53xQgOG",
    "slideshow": {
     "slide_type": "slide"
    }
   },
   "source": [
    "We would like to modify each of the files in `shell-lesson-data/exercise-data/creatures`,\n",
    "but also save a version of the original files. We want to copy the original files to new\n",
    "files named `original-basilisk.dat` and `original-unicorn.dat`, for example. We can't use:\n"
   ]
  },
  {
   "cell_type": "markdown",
   "id": "0d9c838b",
   "metadata": {
    "slideshow": {
     "slide_type": "fragment"
    }
   },
   "source": [
    "```bash\n",
    "$ cp *.dat original-*.dat\n",
    "```\n",
    "\n"
   ]
  },
  {
   "cell_type": "markdown",
   "id": "251ab44b",
   "metadata": {
    "slideshow": {
     "slide_type": "slide"
    }
   },
   "source": [
    "because that would expand to:\n",
    "\n"
   ]
  },
  {
   "cell_type": "markdown",
   "id": "ce4f8e38",
   "metadata": {
    "slideshow": {
     "slide_type": "fragment"
    }
   },
   "source": [
    "```bash\n",
    "$ cp basilisk.dat minotaur.dat unicorn.dat original-*.dat\n",
    "```\n",
    "\n"
   ]
  },
  {
   "cell_type": "markdown",
   "id": "7a141ede",
   "metadata": {
    "slideshow": {
     "slide_type": "slide"
    }
   },
   "source": [
    "This wouldn't back up our files, instead we get an error:\n",
    "\n"
   ]
  },
  {
   "cell_type": "markdown",
   "id": "68874769",
   "metadata": {
    "slideshow": {
     "slide_type": "fragment"
    }
   },
   "source": [
    "```error\n",
    "cp: target `original-*.dat' is not a directory\n",
    "```\n"
   ]
  },
  {
   "cell_type": "markdown",
   "id": "054957ef",
   "metadata": {
    "slideshow": {
     "slide_type": "slide"
    }
   },
   "source": [
    "\n",
    "This problem arises when `cp` receives more than two inputs. When this happens, it expects the\n",
    "last input to be a directory where it can copy all the files it was passed. Since there is\n",
    "no directory named `original-*.dat` in the `creatures` directory, we get an error.\n",
    "\n",
    "Instead, we can use a loop:\n"
   ]
  },
  {
   "cell_type": "markdown",
   "id": "0ea5b11d",
   "metadata": {
    "slideshow": {
     "slide_type": "fragment"
    }
   },
   "source": [
    "\n",
    "```bash\n",
    "$ for filename in *.dat\n",
    "> do\n",
    ">     cp $filename original-$filename\n",
    "> done\n",
    "```\n"
   ]
  },
  {
   "cell_type": "markdown",
   "id": "e989e916",
   "metadata": {
    "slideshow": {
     "slide_type": "slide"
    }
   },
   "source": [
    "\n",
    "This loop runs the `cp` command once for each filename.\n",
    "The first time,\n",
    "when `$filename` expands to `basilisk.dat`,\n",
    "the shell executes:\n"
   ]
  },
  {
   "cell_type": "markdown",
   "id": "d2f254e5",
   "metadata": {
    "slideshow": {
     "slide_type": "fragment"
    }
   },
   "source": [
    "\n",
    "```bash\n",
    "cp basilisk.dat original-basilisk.dat\n",
    "```\n",
    "\n"
   ]
  },
  {
   "cell_type": "markdown",
   "id": "274c6387",
   "metadata": {
    "slideshow": {
     "slide_type": "slide"
    }
   },
   "source": [
    "The second time, the command is:\n",
    "\n"
   ]
  },
  {
   "cell_type": "markdown",
   "id": "cb64ed37",
   "metadata": {
    "slideshow": {
     "slide_type": "fragment"
    }
   },
   "source": [
    "```bash\n",
    "cp minotaur.dat original-minotaur.dat\n",
    "```\n",
    "\n"
   ]
  },
  {
   "cell_type": "markdown",
   "id": "e0b0d785",
   "metadata": {
    "slideshow": {
     "slide_type": "slide"
    }
   },
   "source": [
    "The third and last time, the command is:\n",
    "\n"
   ]
  },
  {
   "cell_type": "markdown",
   "id": "320211b1",
   "metadata": {
    "slideshow": {
     "slide_type": "fragment"
    }
   },
   "source": [
    "```bash\n",
    "cp unicorn.dat original-unicorn.dat\n",
    "```\n",
    "\n"
   ]
  },
  {
   "cell_type": "markdown",
   "id": "4f999aa4",
   "metadata": {
    "slideshow": {
     "slide_type": "slide"
    }
   },
   "source": [
    "Since the `cp` command does not normally produce any output, it's hard to check\n",
    "that the loop is working correctly. However, we learned earlier how to print strings\n",
    "using `echo`, and we can modify the loop to use `echo` to print our commands without\n",
    "actually executing them. As such we can check what commands *would be* run in the\n",
    "unmodified loop.\n",
    "\n"
   ]
  },
  {
   "cell_type": "markdown",
   "id": "3f13e1f9",
   "metadata": {
    "slideshow": {
     "slide_type": "slide"
    }
   },
   "source": [
    "The following diagram\n",
    "shows what happens when the modified loop is executed and demonstrates how the\n",
    "judicious use of `echo` is a good debugging technique.\n",
    "\n",
    "<img src=\"https://swcarpentry.github.io/shell-novice/fig/shell_script_for_loop_flow_chart.svg\">"
   ]
  },
  {
   "cell_type": "markdown",
   "id": "3660499f",
   "metadata": {
    "slideshow": {
     "slide_type": "slide"
    }
   },
   "source": [
    "## Nelle's Pipeline: Processing Files\n",
    "\n",
    "Nelle is now ready to process her data files using `goostats.sh` ---\n",
    "a shell script written by her supervisor. This calculates some statistics from a\n",
    "protein sample file and takes two arguments:\n",
    "\n"
   ]
  },
  {
   "cell_type": "markdown",
   "id": "09ea8aed",
   "metadata": {
    "slideshow": {
     "slide_type": "fragment"
    }
   },
   "source": [
    "1. an input file (containing the raw data)\n",
    "2. an output file (to store the calculated statistics)\n",
    "\n"
   ]
  },
  {
   "cell_type": "markdown",
   "id": "fb01eda8",
   "metadata": {
    "slideshow": {
     "slide_type": "slide"
    }
   },
   "source": [
    "Since she's still learning how to use the shell,\n",
    "she decides to build up the required commands in stages.\n",
    "Her first step is to make sure that she can select the right input files --- remember,\n",
    "these are ones whose names end in 'A' or 'B', rather than 'Z'.\n",
    "Moving to the `north-pacific-gyre` directory, Nelle types:\n",
    "\n"
   ]
  },
  {
   "cell_type": "markdown",
   "id": "0e5d311c",
   "metadata": {
    "slideshow": {
     "slide_type": "fragment"
    }
   },
   "source": [
    "```bash\n",
    "$ cd\n",
    "$ cd Desktop/shell-lesson-data/north-pacific-gyre\n",
    "$ for datafile in NENE*A.txt NENE*B.txt\n",
    "> do\n",
    ">     echo $datafile\n",
    "> done\n",
    "```\n",
    "\n"
   ]
  },
  {
   "cell_type": "markdown",
   "id": "917bcb99",
   "metadata": {
    "slideshow": {
     "slide_type": "fragment"
    }
   },
   "source": [
    "```output\n",
    "NENE01729A.txt\n",
    "NENE01729B.txt\n",
    "NENE01736A.txt\n",
    "...\n",
    "NENE02043A.txt\n",
    "NENE02043B.txt\n",
    "```\n"
   ]
  },
  {
   "cell_type": "markdown",
   "id": "992144f8",
   "metadata": {
    "slideshow": {
     "slide_type": "slide"
    }
   },
   "source": [
    "\n",
    "Her next step is to decide\n",
    "what to call the files that the `goostats.sh` analysis program will create.\n",
    "Prefixing each input file's name with 'stats' seems simple,\n",
    "so she modifies her loop to do that:\n",
    "\n"
   ]
  },
  {
   "cell_type": "markdown",
   "id": "f7d674ac",
   "metadata": {
    "slideshow": {
     "slide_type": "fragment"
    }
   },
   "source": [
    "```bash\n",
    "$ for datafile in NENE*A.txt NENE*B.txt\n",
    "> do\n",
    ">     echo $datafile stats-$datafile\n",
    "> done\n",
    "```\n",
    "\n"
   ]
  },
  {
   "cell_type": "markdown",
   "id": "79470b1a",
   "metadata": {
    "slideshow": {
     "slide_type": "fragment"
    }
   },
   "source": [
    "```output\n",
    "NENE01729A.txt stats-NENE01729A.txt\n",
    "NENE01729B.txt stats-NENE01729B.txt\n",
    "NENE01736A.txt stats-NENE01736A.txt\n",
    "...\n",
    "NENE02043A.txt stats-NENE02043A.txt\n",
    "NENE02043B.txt stats-NENE02043B.txt\n",
    "```\n",
    "\n"
   ]
  },
  {
   "cell_type": "markdown",
   "id": "ead81217",
   "metadata": {
    "slideshow": {
     "slide_type": "slide"
    }
   },
   "source": [
    "She hasn't actually run `goostats.sh` yet,\n",
    "but now she's sure she can select the right files and generate the right output filenames.\n"
   ]
  },
  {
   "cell_type": "markdown",
   "id": "3556e57b",
   "metadata": {
    "slideshow": {
     "slide_type": "slide"
    }
   },
   "source": [
    "\n",
    "Typing in commands over and over again is becoming tedious,\n",
    "though,\n",
    "and Nelle is worried about making mistakes,\n",
    "so instead of re-entering her loop,\n",
    "she presses <kbd>↑</kbd>.\n",
    "In response,\n",
    "the shell redisplays the whole loop on one line\n",
    "(using semi-colons to separate the pieces):\n",
    "\n"
   ]
  },
  {
   "cell_type": "markdown",
   "id": "9e1e4e1d",
   "metadata": {
    "slideshow": {
     "slide_type": "fragment"
    }
   },
   "source": [
    "```bash\n",
    "$ for datafile in NENE*A.txt NENE*B.txt; do echo $datafile stats-$datafile; done\n",
    "```\n",
    "\n"
   ]
  },
  {
   "cell_type": "markdown",
   "id": "954a48d2",
   "metadata": {
    "slideshow": {
     "slide_type": "slide"
    }
   },
   "source": [
    "Using the <kbd>←</kbd>,\n",
    "Nelle navigates to the `echo` command and changes it to `bash goostats.sh`:\n",
    "\n"
   ]
  },
  {
   "cell_type": "markdown",
   "id": "acb07c8d",
   "metadata": {
    "slideshow": {
     "slide_type": "fragment"
    }
   },
   "source": [
    "```bash\n",
    "$ for datafile in NENE*A.txt NENE*B.txt; do bash goostats.sh $datafile stats-$datafile; done\n",
    "```\n",
    "\n"
   ]
  },
  {
   "cell_type": "markdown",
   "id": "31fe9228",
   "metadata": {
    "slideshow": {
     "slide_type": "slide"
    }
   },
   "source": [
    "When she presses <kbd>Enter</kbd>,\n",
    "the shell runs the modified command.\n",
    "However, nothing appears to happen --- there is no output.\n",
    "After a moment, Nelle realizes that since her script doesn't print anything to the screen\n",
    "any longer, she has no idea whether it is running, much less how quickly.\n",
    "She kills the running command by typing <kbd>Ctrl</kbd>\\+<kbd>C</kbd>,\n",
    "uses <kbd>↑</kbd> to repeat the command,\n",
    "and edits it to read:\n",
    "\n",
    "\n"
   ]
  },
  {
   "cell_type": "markdown",
   "id": "8a5d1b03",
   "metadata": {
    "slideshow": {
     "slide_type": "fragment"
    }
   },
   "source": [
    "\n",
    "```bash\n",
    "$ for datafile in NENE*A.txt NENE*B.txt; do echo $datafile;\n",
    "bash goostats.sh $datafile stats-$datafile; done\n",
    "```\n"
   ]
  },
  {
   "cell_type": "markdown",
   "id": "6b6e6dc0",
   "metadata": {
    "slideshow": {
     "slide_type": "slide"
    }
   },
   "source": [
    "## 🔔  Beginning and End\n",
    "---\n",
    "\n",
    "We can move to the beginning of a line in the shell by typing <kbd>Ctrl</kbd>\\+<kbd>A</kbd>\n",
    "and to the end using <kbd>Ctrl</kbd>\\+<kbd>E</kbd>."
   ]
  },
  {
   "cell_type": "markdown",
   "id": "559df613",
   "metadata": {
    "slideshow": {
     "slide_type": "slide"
    }
   },
   "source": [
    "When she runs her program now,\n",
    "it produces one line of output every five seconds or so:\n",
    "\n"
   ]
  },
  {
   "cell_type": "markdown",
   "id": "d5bf4e81",
   "metadata": {
    "slideshow": {
     "slide_type": "fragment"
    }
   },
   "source": [
    "```output\n",
    "NENE01729A.txt\n",
    "NENE01729B.txt\n",
    "NENE01736A.txt\n",
    "...\n",
    "```\n",
    "\n"
   ]
  },
  {
   "cell_type": "markdown",
   "id": "c04a3988",
   "metadata": {
    "slideshow": {
     "slide_type": "fragment"
    }
   },
   "source": [
    "1518 times 5 seconds,\n",
    "divided by 60,\n",
    "tells her that her script will take about two hours to run.\n",
    "As a final check,\n",
    "she opens another terminal window,\n",
    "goes into `north-pacific-gyre`,\n",
    "and uses `cat stats-NENE01729B.txt`\n",
    "to examine one of the output files.\n",
    "It looks good,\n",
    "so she decides to get some coffee and catch up on her reading."
   ]
  },
  {
   "cell_type": "markdown",
   "id": "638d8d0a",
   "metadata": {
    "slideshow": {
     "slide_type": "slide"
    }
   },
   "source": [
    "## 🔔  Those Who Know History Can Choose to Repeat It\n",
    "---\n",
    "\n",
    "Another way to repeat previous work is to use the `history` command to\n",
    "get a list of the last few hundred commands that have been executed, and\n",
    "then to use `!123` (where '123' is replaced by the command number) to\n",
    "repeat one of those commands. For example, if Nelle types this:"
   ]
  },
  {
   "cell_type": "markdown",
   "id": "18ebcfcb",
   "metadata": {
    "slideshow": {
     "slide_type": "fragment"
    }
   },
   "source": [
    "```bash\n",
    "$ history | tail -n 5\n",
    "```\n",
    "\n"
   ]
  },
  {
   "cell_type": "markdown",
   "id": "b7eed888",
   "metadata": {
    "slideshow": {
     "slide_type": "fragment"
    }
   },
   "source": [
    "```output\n",
    "456  for datafile in NENE*A.txt NENE*B.txt; do   echo $datafile stats-$datafile; done\n",
    "457  for datafile in NENE*A.txt NENE*B.txt; do echo $datafile stats-$datafile; done\n",
    "458  for datafile in NENE*A.txt NENE*B.txt; do bash goostats.sh $datafile stats-$datafile; done\n",
    "459  for datafile in NENE*A.txt NENE*B.txt; do echo $datafile; bash goostats.sh $datafile\n",
    "stats-$datafile; done\n",
    "460  history | tail -n 5\n",
    "```\n",
    "\n"
   ]
  },
  {
   "cell_type": "markdown",
   "id": "8def4290",
   "metadata": {
    "slideshow": {
     "slide_type": "fragment"
    }
   },
   "source": [
    "then she can re-run `goostats.sh` on the files simply by typing\n",
    "`!459`.\n"
   ]
  },
  {
   "cell_type": "markdown",
   "id": "cac04304",
   "metadata": {
    "slideshow": {
     "slide_type": "slide"
    }
   },
   "source": [
    "## 🔔 Other History Commands\n",
    "---\n",
    "\n",
    "There are a number of other shortcut commands for getting at the history.\n",
    "\n",
    "- <kbd>Ctrl</kbd>\\+<kbd>R</kbd> enters a history search mode 'reverse-i-search' and finds the\n",
    "  most recent command in your history that matches the text you enter next.\n",
    "  Press <kbd>Ctrl</kbd>\\+<kbd>R</kbd> one or more additional times to search for earlier matches.\n",
    "  You can then use the left and right arrow keys to choose that line and edit\n",
    "  it then hit <kbd>Return</kbd> to run the command.\n",
    "- `!!` retrieves the immediately preceding command\n",
    "  (you may or may not find this more convenient than using <kbd>↑</kbd>)\n",
    "- `!$` retrieves the last word of the last command.\n",
    "  That's useful more often than you might expect: after\n",
    "  `bash goostats.sh NENE01729B.txt stats-NENE01729B.txt`, you can type\n",
    "  `less !$` to look at the file `stats-NENE01729B.txt`, which is\n",
    "  quicker than doing <kbd>↑</kbd> and editing the command-line.\n",
    "  "
   ]
  },
  {
   "cell_type": "markdown",
   "id": "xP8epXpCRRv9",
   "metadata": {
    "id": "xP8epXpCRRv9",
    "slideshow": {
     "slide_type": "slide"
    }
   },
   "source": [
    "## <p style=\"background-color: #f5df18; padding: 10px;\"> 🛑 Doing a Dry Run</p>\n",
    "\n",
    "\n",
    "A loop is a way to do many things at once --- or to make many mistakes at\n",
    "once if it does the wrong thing. One way to check what a loop *would* do\n",
    "is to `echo` the commands it would run instead of actually running them.\n",
    "\n",
    "Suppose we want to preview the commands the following loop will execute\n",
    "without actually running those commands:\n",
    "\n",
    "```bash\n",
    "$ for datafile in *.pdb\n",
    "> do\n",
    ">     cat $datafile >> all.pdb\n",
    "> done\n",
    "```\n",
    "\n",
    "What is the difference between the two loops below, and which one would we\n",
    "want to run?\n",
    "\n",
    "```bash\n",
    "# Version 1\n",
    "$ for datafile in *.pdb\n",
    "> do\n",
    ">     echo cat $datafile >> all.pdb\n",
    "> done\n",
    "```\n",
    "\n",
    "```bash\n",
    "# Version 2\n",
    "$ for datafile in *.pdb\n",
    "> do\n",
    ">     echo \"cat $datafile >> all.pdb\"\n",
    "> done\n",
    "```"
   ]
  },
  {
   "cell_type": "markdown",
   "id": "861ad7b8",
   "metadata": {
    "id": "i9rxWLAz6ORF",
    "slideshow": {
     "slide_type": "-"
    }
   },
   "source": [
    "## Solution\n",
    "\n",
    "The second version is the one we want to run.\n",
    "This prints to screen everything enclosed in the quote marks, expanding the\n",
    "loop variable name because we have prefixed it with a dollar sign.\n",
    "It also *does not* modify nor create the file `all.pdb`, as the `>>`\n",
    "is treated literally as part of a string rather than as a\n",
    "redirection instruction.\n",
    "\n",
    "The first version appends the output from the command `echo cat $datafile`\n",
    "to the file, `all.pdb`. This file will just contain the list;\n",
    "`cat cubane.pdb`, `cat ethane.pdb`, `cat methane.pdb` etc.\n",
    "\n",
    "Try both versions for yourself to see the output! Be sure to open the\n",
    "`all.pdb` file to view its contents.\n"
   ]
  },
  {
   "cell_type": "markdown",
   "id": "tyMrTbrRReoe",
   "metadata": {
    "id": "tyMrTbrRReoe",
    "slideshow": {
     "slide_type": "slide"
    }
   },
   "source": [
    "## <p style=\"background-color: #f5df18; padding: 10px;\"> 🛑 Nested Loops </p>\n",
    "\n",
    "Suppose we want to set up a directory structure to organize\n",
    "some experiments measuring reaction rate constants with different compounds\n",
    "*and* different temperatures.  What would be the\n",
    "result of the following code:\n",
    "\n",
    "```bash\n",
    "$ for species in cubane ethane methane\n",
    "> do\n",
    ">     for temperature in 25 30 37 40\n",
    ">     do\n",
    ">         mkdir $species-$temperature\n",
    ">     done\n",
    "> done\n",
    "```\n"
   ]
  },
  {
   "cell_type": "markdown",
   "id": "e14b61af",
   "metadata": {
    "slideshow": {
     "slide_type": "-"
    }
   },
   "source": [
    "## Solution\n",
    "\n",
    "We have a nested loop, i.e. contained within another loop, so for each species\n",
    "in the outer loop, the inner loop (the nested loop) iterates over the list of\n",
    "temperatures, and creates a new directory for each combination.\n",
    "\n",
    "Try running the code for yourself to see which directories are created!\n",
    "\n",
    "\n"
   ]
  },
  {
   "cell_type": "markdown",
   "id": "c3xyuFI9k7XT",
   "metadata": {
    "id": "c3xyuFI9k7XT",
    "slideshow": {
     "slide_type": "slide"
    }
   },
   "source": [
    "# <p style=\"background-color: #f5df18; padding: 10px;\"> 🗝️ Key points</p>\n",
    "\n",
    "---\n",
    "\n",
    "- A `for` loop repeats commands once for every thing in a list.\n",
    "- Every `for` loop needs a variable to refer to the thing it is currently operating on.\n",
    "- Use `$name` to expand a variable (i.e., get its value). `${name}` can also be used.\n",
    "- Do not use spaces, quotes, or wildcard characters such as '\\*' or '?' in filenames, as it complicates variable expansion.\n",
    "- Give files consistent names that are easy to match with wildcard patterns to make it easy to select them for looping.\n",
    "- Use the up-arrow key to scroll up through previous commands to edit and repeat them.\n",
    "- Use <kbd>Ctrl</kbd>\\+<kbd>R</kbd> to search through the previously entered commands.\n",
    "- Use `history` to display recent commands, and `![number]` to repeat a command by number."
   ]
  }
 ],
 "metadata": {
  "celltoolbar": "Slideshow",
  "colab": {
   "provenance": []
  },
  "kernelspec": {
   "display_name": "Python 3 (ipykernel)",
   "language": "python",
   "name": "python3"
  },
  "language_info": {
   "codemirror_mode": {
    "name": "ipython",
    "version": 3
   },
   "file_extension": ".py",
   "mimetype": "text/x-python",
   "name": "python",
   "nbconvert_exporter": "python",
   "pygments_lexer": "ipython3",
   "version": "3.11.3"
  },
  "toc-showcode": true
 },
 "nbformat": 4,
 "nbformat_minor": 5
}
